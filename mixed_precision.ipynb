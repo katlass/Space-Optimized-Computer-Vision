{
  "cells": [
    {
      "cell_type": "markdown",
      "source": [
        "# Implementing mixed precision \n",
        "Here we explore executing layer computations in float16 while keeping intermediary variables as float32. This decreases training time by 1.2 times for Resnet20 and Resnet44 for Cifar100 without impairing accuracy."
      ],
      "metadata": {
        "id": "AgrbmfAeXQ2A"
      },
      "id": "AgrbmfAeXQ2A"
    },
    {
      "cell_type": "markdown",
      "source": [
        "## Installs"
      ],
      "metadata": {
        "id": "8ts4Q1DdUsc0"
      },
      "id": "8ts4Q1DdUsc0"
    },
    {
      "cell_type": "code",
      "source": [
        "!pip install tensorflow_model_optimization"
      ],
      "metadata": {
        "colab": {
          "base_uri": "https://localhost:8080/"
        },
        "id": "61OO3gjI9EaV",
        "outputId": "dfe714c1-4448-4294-cc05-a9c2696fbe82"
      },
      "id": "61OO3gjI9EaV",
      "execution_count": null,
      "outputs": [
        {
          "output_type": "stream",
          "name": "stdout",
          "text": [
            "Looking in indexes: https://pypi.org/simple, https://us-python.pkg.dev/colab-wheels/public/simple/\n",
            "Collecting tensorflow_model_optimization\n",
            "  Downloading tensorflow_model_optimization-0.7.3-py2.py3-none-any.whl (238 kB)\n",
            "\u001b[K     |████████████████████████████████| 238 kB 12.3 MB/s \n",
            "\u001b[?25hRequirement already satisfied: six~=1.10 in /usr/local/lib/python3.8/dist-packages (from tensorflow_model_optimization) (1.15.0)\n",
            "Requirement already satisfied: numpy~=1.14 in /usr/local/lib/python3.8/dist-packages (from tensorflow_model_optimization) (1.21.6)\n",
            "Requirement already satisfied: dm-tree~=0.1.1 in /usr/local/lib/python3.8/dist-packages (from tensorflow_model_optimization) (0.1.7)\n",
            "Installing collected packages: tensorflow-model-optimization\n",
            "Successfully installed tensorflow-model-optimization-0.7.3\n"
          ]
        }
      ]
    },
    {
      "cell_type": "code",
      "execution_count": null,
      "id": "4dc38daa",
      "metadata": {
        "id": "4dc38daa"
      },
      "outputs": [],
      "source": [
        "from __future__ import print_function\n",
        "import keras\n",
        "import tempfile\n",
        "from keras.layers import Dense, Conv2D, BatchNormalization, Activation\n",
        "from keras.layers import AveragePooling2D, Input, Flatten\n",
        "from keras.optimizers import Adam\n",
        "from keras.callbacks import ModelCheckpoint, LearningRateScheduler\n",
        "from keras.callbacks import ReduceLROnPlateau\n",
        "from keras.callbacks import CSVLogger  #, UpdatePruningStep\n",
        "from keras.preprocessing.image import ImageDataGenerator\n",
        "from keras.regularizers import l2\n",
        "from keras import backend as K\n",
        "from keras.models import Model\n",
        "from keras.datasets import cifar10\n",
        "from tensorflow_model_optimization.python.core.sparsity.keras import pruning_callbacks\n",
        "import tensorflow_model_optimization as tfmot\n",
        "import numpy as np\n",
        "import time\n",
        "import os\n",
        "import pickle\n",
        "from keras.datasets import cifar100\n",
        "import tensorflow as tf\n",
        "from tensorflow.keras import layers\n",
        "from tensorflow.keras import mixed_precision"
      ]
    },
    {
      "cell_type": "markdown",
      "source": [
        "## Model Setup"
      ],
      "metadata": {
        "id": "lP47BoWYUxby"
      },
      "id": "lP47BoWYUxby"
    },
    {
      "cell_type": "code",
      "execution_count": null,
      "id": "ffe8d916",
      "metadata": {
        "id": "ffe8d916"
      },
      "outputs": [],
      "source": [
        "# timing per epoch iteration\n",
        "class TimeHistory(keras.callbacks.Callback):\n",
        "    def on_train_begin(self, logs={}):\n",
        "        self.times = []\n",
        "\n",
        "    def on_epoch_begin(self, batch, logs={}):\n",
        "        self.epoch_time_start = time.time()\n",
        "\n",
        "    def on_epoch_end(self, batch, logs={}):\n",
        "        self.times.append(time.time() - self.epoch_time_start)"
      ]
    },
    {
      "cell_type": "code",
      "source": [
        "# Learning rate scheduler \n",
        "def lr_schedule(epoch):\n",
        "    \"\"\"Learning Rate Schedule\n",
        "\n",
        "    Learning rate is scheduled to be reduced after 80, 120, 160, 180 epochs.\n",
        "    Called automatically every epoch as part of callbacks during training.\n",
        "\n",
        "    # Arguments\n",
        "        epoch (int): The number of epochs\n",
        "\n",
        "    # Returns\n",
        "        lr (float32): learning rate\n",
        "    \"\"\"\n",
        "    lr = 1e-3\n",
        "    if epoch > 180:\n",
        "        lr *= 0.5e-3\n",
        "    elif epoch > 160:\n",
        "        lr *= 1e-3\n",
        "    elif epoch > 120:\n",
        "        lr *= 1e-2\n",
        "    elif epoch > 80:\n",
        "        lr *= 1e-1\n",
        "    print('Learning rate: ', lr)\n",
        "    return lr"
      ],
      "metadata": {
        "id": "c0ziPgfFXN_C"
      },
      "id": "c0ziPgfFXN_C",
      "execution_count": null,
      "outputs": []
    },
    {
      "cell_type": "code",
      "source": [
        "# define builder function for resnet layers\n",
        "def resnet_layer_mixed_prec(inputs,\n",
        "                 num_filters=16,\n",
        "                 kernel_size=3,\n",
        "                 strides=1,\n",
        "                 activation='relu',\n",
        "                 batch_normalization=True,\n",
        "                 conv_first=True):\n",
        "    \"\"\"2D Convolution-Batch Normalization-Activation stack builder\n",
        "\n",
        "    # Arguments\n",
        "        inputs (tensor): input tensor from input image or previous layer\n",
        "        num_filters (int): Conv2D number of filters\n",
        "        kernel_size (int): Conv2D square kernel dimensions\n",
        "        strides (int): Conv2D square stride dimensions\n",
        "        activation (string): activation name\n",
        "        batch_normalization (bool): whether to include batch normalization\n",
        "        conv_first (bool): conv-bn-activation (True) or\n",
        "            bn-activation-conv (False)\n",
        "\n",
        "    # Returns\n",
        "        x (tensor): tensor as input to the next layer\n",
        "    \"\"\"\n",
        "    conv = Conv2D(num_filters,\n",
        "                  kernel_size=kernel_size,\n",
        "                  strides=strides,\n",
        "                  padding='same',\n",
        "                  kernel_initializer='he_normal',\n",
        "                  kernel_regularizer=l2(1e-4))\n",
        "\n",
        "    x = inputs\n",
        "    if conv_first:\n",
        "        x = conv(x)\n",
        "        if batch_normalization:\n",
        "            x = BatchNormalization()(x)\n",
        "        if activation is not None:\n",
        "            x = Activation(activation)(x)\n",
        "    else:\n",
        "        if batch_normalization:\n",
        "            x = BatchNormalization()(x)\n",
        "        if activation is not None:\n",
        "            x = Activation(activation)(x)\n",
        "        x = conv(x)\n",
        "    print(conv.dtype_policy)\n",
        "    print('x.dtype: %s' % x.dtype.name)\n",
        "    # 'kernel' is dense1's variable\n",
        "    print('dense1.kernel.dtype: %s' % conv.kernel.dtype.name)\n",
        "    return x"
      ],
      "metadata": {
        "id": "LL0pPQW9EJzC"
      },
      "id": "LL0pPQW9EJzC",
      "execution_count": null,
      "outputs": []
    },
    {
      "cell_type": "code",
      "source": [
        "# actual resnet code\n",
        "def resnet_mixed_prec(input_shape, depth, num_classes=10):\n",
        "    \"\"\"ResNet Version 1 Model builder [a]\n",
        "\n",
        "    Stacks of 2 x (3 x 3) Conv2D-BN-ReLU\n",
        "    Last ReLU is after the shortcut connection.\n",
        "    At the beginning of each stage, the feature map size is halved (downsampled)\n",
        "    by a convolutional layer with strides=2, while the number of filters is\n",
        "    doubled. Within each stage, the layers have the same number filters and the\n",
        "    same number of filters.\n",
        "    Features maps sizes:\n",
        "    stage 0: 32x32, 16\n",
        "    stage 1: 16x16, 32\n",
        "    stage 2:  8x8,  64\n",
        "    The Number of parameters is approx the same as Table 6 of [a]:\n",
        "    ResNet20 0.27M\n",
        "    ResNet32 0.46M\n",
        "    ResNet44 0.66M\n",
        "    ResNet56 0.85M\n",
        "    ResNet110 1.7M\n",
        "\n",
        "    # Arguments\n",
        "        input_shape (tensor): shape of input image tensor\n",
        "        depth (int): number of core convolutional layers\n",
        "        num_classes (int): number of classes (CIFAR10 has 10)\n",
        "\n",
        "    # Returns\n",
        "        model (Model): Keras model instance\n",
        "    \"\"\"\n",
        "    if (depth - 2) % 6 != 0:\n",
        "        raise ValueError('depth should be 6n+2 (eg 20, 32, 44 in [a])')\n",
        "    # Start model definition.\n",
        "    num_filters = 16\n",
        "    num_res_blocks = int((depth - 2) / 6)\n",
        "\n",
        "    inputs = Input(shape=input_shape)\n",
        "    x = resnet_layer_mixed_prec(inputs=inputs)\n",
        "    # Instantiate the stack of residual units\n",
        "    for stack in range(3):\n",
        "        for res_block in range(num_res_blocks):\n",
        "            strides = 1\n",
        "            if stack > 0 and res_block == 0:  # first layer but not first stack\n",
        "                strides = 2  # downsample\n",
        "            y = resnet_layer_mixed_prec(inputs=x,\n",
        "                             num_filters=num_filters,\n",
        "                             strides=strides)\n",
        "            y = resnet_layer_mixed_prec(inputs=y,\n",
        "                             num_filters=num_filters,\n",
        "                             activation=None)\n",
        "            if stack > 0 and res_block == 0:  # first layer but not first stack\n",
        "                # linear projection residual shortcut connection to match\n",
        "                # changed dims\n",
        "                x = resnet_layer_mixed_prec(inputs=x,\n",
        "                                 num_filters=num_filters,\n",
        "                                 kernel_size=1,\n",
        "                                 strides=strides,\n",
        "                                 activation=None,\n",
        "                                 batch_normalization=False)\n",
        "            x = keras.layers.add([x, y])\n",
        "            x = Activation('relu')(x)\n",
        "        num_filters *= 2\n",
        "\n",
        "    # Add classifier on top.\n",
        "    # v1 does not use BN after last shortcut connection-ReLU\n",
        "    # x = AveragePooling2D(pool_size=8)(x)\n",
        "    # y = Flatten()(x)\n",
        "    # outputs = Dense(num_classes,\n",
        "    #                 activation='softmax',\n",
        "    #                 kernel_initializer='he_normal')(y)\n",
        "    x = AveragePooling2D(pool_size=8)(x)\n",
        "    y = Flatten()(x)\n",
        "    outputs = Dense(num_classes,\n",
        "                    activation='softmax',\n",
        "                    kernel_initializer='he_normal',\n",
        "                    dtype='float32')(y)\n",
        "    print('Outputs dtype: %s' % outputs.dtype.name)\n",
        "\n",
        "    # Instantiate model.\n",
        "    model = Model(inputs=inputs, outputs=outputs)\n",
        "    return model"
      ],
      "metadata": {
        "id": "hghGOKwcAqIH"
      },
      "id": "hghGOKwcAqIH",
      "execution_count": null,
      "outputs": []
    },
    {
      "cell_type": "code",
      "source": [
        "# actual trainer function\n",
        "def resnet_training_mixed_prec(x_train,y_train,x_test, y_test,layers,frequency,\\\n",
        "                    initial_sparsity,final_sparsity,gpu=\"T4\",\\\n",
        "                    const=True, poly=False,file_name='cifar10_test1',\\\n",
        "                    num_classes=10,begin_step=0,end_step='default',block_size=(1,1)):\n",
        "\n",
        "    # Default parameters\n",
        "    batch_size = 128 \n",
        "    epochs = 1\n",
        "    data_augmentation = False #True\n",
        "    n = layers\n",
        "\n",
        "    # Computed depth from supplied model parameter n\n",
        "    depth = n * 6 + 2\n",
        "\n",
        "    # Input image dimensions.\n",
        "    input_shape = x_train.shape[1:]\n",
        "\n",
        "    # Subtracting pixel mean improves accuracy\n",
        "    x_train_mean = np.mean(x_train, axis=0)\n",
        "    x_train -= x_train_mean\n",
        "    x_test -= x_train_mean\n",
        "\n",
        "    print('x_train shape:', x_train.shape)\n",
        "    print(x_train.shape[0], 'train samples')\n",
        "    print(x_test.shape[0], 'test samples')\n",
        "    print('y_train shape:', y_train.shape)\n",
        "\n",
        "#     ####Changes start#####\n",
        "#     num_images = x_train.shape[0] #* (1 - validation_split)\n",
        "\n",
        "#     if end_step == 'default':\n",
        "#         end_step = np.ceil(num_images / batch_size).astype(np.int32) * epochs\n",
        "\n",
        "#     #hyperparameters: initial_sparsity=0.50, final_sparsity=0.80\n",
        "#     if poly:\n",
        "#         pruning_params = {\n",
        "#               'pruning_schedule': tfmot.sparsity.keras.PolynomialDecay(initial_sparsity=initial_sparsity,\n",
        "#                                                                        final_sparsity=final_sparsity,\n",
        "#                                                                        begin_step=begin_step,\n",
        "#                                                                        end_step=end_step,\n",
        "#                                                                       frequency=frequency),\n",
        "#             'block_size': block_size\n",
        "#         }\n",
        "#     if const:\n",
        "#             pruning_params = {\n",
        "#               'pruning_schedule': tfmot.sparsity.keras.ConstantSparsity(target_sparsity=final_sparsity,\n",
        "#                                                                        begin_step=begin_step,\n",
        "#                                                                        end_step=end_step,\n",
        "#                                                                        frequency=frequency),\n",
        "#                 'block_size': block_size\n",
        "#         }\n",
        "\n",
        "#     prune_low_magnitude = tfmot.sparsity.keras.prune_low_magnitude\n",
        "    model = resnet_mixed_prec(input_shape=input_shape, depth=depth,num_classes=num_classes)\n",
        "#    model = prune_low_magnitude(model, **pruning_params)    #_for_pruning\n",
        "\n",
        "    model.compile(loss= 'categorical_crossentropy',     #''  tf.  keras.losses.SparseCategoricalCrossentropy(from_logits=True)\n",
        "                  optimizer=Adam(lr=lr_schedule(0)),\n",
        "                  metrics=['accuracy'])\n",
        "    ####Changes end#####\n",
        "    model.summary()\n",
        "\n",
        "    # Prepare model model saving directory.\n",
        "    save_dir = os.path.join(os.getcwd(), 'saved_models')\n",
        "    if not os.path.isdir(save_dir):\n",
        "        os.makedirs(save_dir)\n",
        "\n",
        "    model_run=file_name+'_'+str(depth)+'_'+gpu\n",
        "    model_path=model_run+'.h5'\n",
        "    print(\"RRrrrrrR\",model_path)\n",
        "    \n",
        "    filepath = os.path.join(save_dir, model_path)\n",
        "    print(\"RRR\",filepath)\n",
        "    \n",
        "    print(model_run)\n",
        "\n",
        "    # Prepare callbacks for model saving and for learning rate adjustment.\n",
        "    checkpoint = ModelCheckpoint(filepath=filepath,\n",
        "                                 monitor='val_acc',\n",
        "                                 verbose=1,\n",
        "                                 save_best_only=True)\n",
        "\n",
        "    lr_scheduler = LearningRateScheduler(lr_schedule)\n",
        "\n",
        "    lr_reducer = ReduceLROnPlateau(factor=np.sqrt(0.1),\n",
        "                                   cooldown=0,\n",
        "                                   patience=5,\n",
        "                                   min_lr=0.5e-6)\n",
        "    logdir = tempfile.mkdtemp()\n",
        "    time_callback = TimeHistory()\n",
        "    logname='/home/kal2257/saved_models/log_'+model_run+'.csv'\n",
        "    csv_logger = CSVLogger(logname, append=True, separator=';')\n",
        "    callbacks = [checkpoint, lr_reducer, lr_scheduler, csv_logger, time_callback]\n",
        "\n",
        "    st = time.time()\n",
        "    model.fit(x_train, y_train,\n",
        "              batch_size=batch_size,\n",
        "              epochs=epochs,\n",
        "              validation_data=(x_test, y_test),\n",
        "              shuffle=True,\n",
        "              callbacks=callbacks)\n",
        "    #%tensorboard --logdir={logdir}\n",
        "    training_time = time.time() - st\n",
        "\n",
        "    print(f\"overall training time is {training_time}\")\n",
        "    epoch_times = time_callback.times\n",
        "    print(f\"each epoch training time is {epoch_times}\")\n",
        "\n",
        "    # Score trained model.\n",
        "    scores = model.evaluate(x_test, y_test, verbose=1)\n",
        "    print('Test loss:', scores[0])\n",
        "    print('Test accuracy:', scores[1])\n",
        "    print(\"tt\",save_dir+'/'+model_run)\n",
        "    \n",
        "    #save standard model \n",
        "    model.save(save_dir+'/'+model_path)\n",
        "    \n",
        "    #saving data \n",
        "    with open(model_run+'.pickle', 'wb') as handle:\n",
        "        pickle.dump([training_time,epoch_times,scores[0],scores[1]], handle)\n",
        "\n",
        "     \n",
        "    size=get_gzipped_model_size(save_dir+'/'+model_path) \n",
        "    print(\"Size of gzipped Keras model: %.2f bytes\" % (size))\n",
        "     \n",
        "    with open(model_run+'.pickle', 'wb') as handle:\n",
        "        pickle.dump([training_time,epoch_times,scores[0],scores[1],size], handle)\n",
        "\n",
        "    return(model,model_path)"
      ],
      "metadata": {
        "id": "-H1_pPDrC3Ld"
      },
      "id": "-H1_pPDrC3Ld",
      "execution_count": null,
      "outputs": []
    },
    {
      "cell_type": "markdown",
      "source": [
        "## Data: loading and preparation"
      ],
      "metadata": {
        "id": "jDeTXGHi94YQ"
      },
      "id": "jDeTXGHi94YQ"
    },
    {
      "cell_type": "code",
      "execution_count": null,
      "id": "7e5bc0af",
      "metadata": {
        "colab": {
          "base_uri": "https://localhost:8080/"
        },
        "id": "7e5bc0af",
        "outputId": "f8459bf3-17e0-4cc1-cac1-3d8b4e2b6c38"
      },
      "outputs": [
        {
          "output_type": "stream",
          "name": "stdout",
          "text": [
            "Downloading data from https://www.cs.toronto.edu/~kriz/cifar-100-python.tar.gz\n",
            "169001437/169001437 [==============================] - 6s 0us/step\n"
          ]
        }
      ],
      "source": [
        "# Load the CIFAR10 data.\n",
        "(X_train, Y_train), (X_test, Y_test) = cifar100.load_data()\n",
        "# Normalize data.\n",
        "X_train = X_train.astype('float32') / 255\n",
        "X_test = X_test.astype('float32') / 255\n",
        "# Convert class vectors to binary class matrices.\n",
        "Y_train = keras.utils.to_categorical(Y_train)\n",
        "Y_test = keras.utils.to_categorical(Y_test)"
      ]
    },
    {
      "cell_type": "markdown",
      "source": [
        "#Implementing Mixed Precision Training"
      ],
      "metadata": {
        "id": "eowUeBGwWE59"
      },
      "id": "eowUeBGwWE59"
    },
    {
      "cell_type": "code",
      "source": [
        "# Setting global policy to float 16 operations\n",
        "policy = mixed_precision.Policy('mixed_float16')\n",
        "mixed_precision.set_global_policy(policy)"
      ],
      "metadata": {
        "id": "ypWI81n4_NSX"
      },
      "id": "ypWI81n4_NSX",
      "execution_count": null,
      "outputs": []
    },
    {
      "cell_type": "code",
      "source": [
        "print('Compute dtype: %s' % policy.compute_dtype)\n",
        "print('Variable dtype: %s' % policy.variable_dtype)"
      ],
      "metadata": {
        "colab": {
          "base_uri": "https://localhost:8080/"
        },
        "id": "NOJ0CuyR_k-k",
        "outputId": "eb98caba-bbfc-4c7f-ad57-07c63f2522ac"
      },
      "id": "NOJ0CuyR_k-k",
      "execution_count": null,
      "outputs": [
        {
          "output_type": "stream",
          "name": "stdout",
          "text": [
            "Compute dtype: float16\n",
            "Variable dtype: float32\n"
          ]
        }
      ]
    },
    {
      "cell_type": "code",
      "source": [
        "#Demo-ing for resnet 20 and 44 baseline, no pruning.\n",
        "layers=[3,7]\n",
        "names=[\"twenty_mixed_prec\",\"forty_four_mixed_prec\"]\n",
        "\n",
        "for x in range(len(layers)):\n",
        "    name=\"resnet_\"+names[x]\n",
        "    print(name)\n",
        "    model1 = resnet_training_mixed_prec(X_train,Y_train,X_test, Y_test,layers=layers[x],frequency=False,\\\n",
        "                    initial_sparsity = False, final_sparsity=False,gpu=\"T4\",\\\n",
        "                    file_name=name,\\\n",
        "                    num_classes=100)"
      ],
      "metadata": {
        "id": "ab-hmBbxWT1V"
      },
      "id": "ab-hmBbxWT1V",
      "execution_count": null,
      "outputs": []
    }
  ],
  "metadata": {
    "kernelspec": {
      "display_name": "Python 3",
      "language": "python",
      "name": "python3"
    },
    "language_info": {
      "codemirror_mode": {
        "name": "ipython",
        "version": 3
      },
      "file_extension": ".py",
      "mimetype": "text/x-python",
      "name": "python",
      "nbconvert_exporter": "python",
      "pygments_lexer": "ipython3",
      "version": "3.7.12"
    },
    "colab": {
      "provenance": []
    },
    "gpuClass": "standard"
  },
  "nbformat": 4,
  "nbformat_minor": 5
}