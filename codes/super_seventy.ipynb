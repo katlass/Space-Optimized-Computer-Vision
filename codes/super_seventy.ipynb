{
  "cells": [
    {
      "cell_type": "markdown",
      "source": [
        "# Training a SuperModel\n",
        "In this project we set out to optimize convolution neural networks through exploring the techniques of data augmentation, pruning, quantization and synchronous training on Cifar100 image dataset.\n",
        "Testing specifications:\n",
        "For data augmentation, images were shifted horizontally or vertically 10% of the time and also flipped horizontally at random. Also, the training data is normalized, which has been shown to improve accuracy. Batch size is equal to 128 and trained for 300 epochs, utilizing an exponentially decaying learning rate strategy shown in class and adam optimizer. The winning strategy was polynomial decaying of the sparsity, starting at 50% sparsity and ending at 60% sparsity. Here we finetune by trying a final sparsity of 70% instead."
      ],
      "metadata": {
        "id": "KHaQQB6nkoPN"
      }
    },
    {
      "cell_type": "markdown",
      "source": [
        "# Installs"
      ],
      "metadata": {
        "id": "gRqfIiHmkz7w"
      }
    },
    {
      "cell_type": "code",
      "execution_count": null,
      "metadata": {
        "colab": {
          "base_uri": "https://localhost:8080/"
        },
        "id": "UmCFZ9uR6lyN",
        "outputId": "67d18fc5-6fe6-47fc-83d1-97d707f93652"
      },
      "outputs": [
        {
          "name": "stdout",
          "output_type": "stream",
          "text": [
            "Requirement already satisfied: tensorflow-model-optimization in /home/jupyter/.local/lib/python3.7/site-packages (0.7.3)\n",
            "Requirement already satisfied: dm-tree~=0.1.1 in /opt/conda/lib/python3.7/site-packages (from tensorflow-model-optimization) (0.1.7)\n",
            "Requirement already satisfied: numpy~=1.14 in /opt/conda/lib/python3.7/site-packages (from tensorflow-model-optimization) (1.21.6)\n",
            "Requirement already satisfied: six~=1.10 in /opt/conda/lib/python3.7/site-packages (from tensorflow-model-optimization) (1.16.0)\n"
          ]
        }
      ],
      "source": [
        "!pip install tensorflow-model-optimization"
      ]
    },
    {
      "cell_type": "code",
      "execution_count": null,
      "metadata": {
        "colab": {
          "base_uri": "https://localhost:8080/"
        },
        "id": "Cqsw0IP65J9B",
        "outputId": "6e705b43-17d7-401a-fadd-11cd72e64af9"
      },
      "outputs": [
        {
          "name": "stdout",
          "output_type": "stream",
          "text": [
            "The tensorboard extension is already loaded. To reload it, use:\n",
            "  %reload_ext tensorboard\n"
          ]
        }
      ],
      "source": [
        "from __future__ import print_function\n",
        "import keras\n",
        "import tempfile\n",
        "from keras.layers import Dense, Conv2D, BatchNormalization, Activation\n",
        "from keras.layers import AveragePooling2D, Input, Flatten\n",
        "from keras.optimizers import Adam\n",
        "from keras.callbacks import ModelCheckpoint, LearningRateScheduler\n",
        "from keras.callbacks import ReduceLROnPlateau\n",
        "from keras.callbacks import CSVLogger  \n",
        "from keras.preprocessing.image import ImageDataGenerator\n",
        "from keras.regularizers import l2\n",
        "from keras import backend as K\n",
        "from keras.models import Model\n",
        "from keras.datasets import cifar10\n",
        "from tensorflow_model_optimization.python.core.sparsity.keras import pruning_callbacks\n",
        "import tensorflow_model_optimization as tfmot\n",
        "import numpy as np\n",
        "import time\n",
        "import os\n",
        "import pickle\n",
        "from keras.datasets import cifar100\n",
        "import tensorflow as tf\n",
        "import multiprocessing\n",
        "import os\n",
        "import random\n",
        "import zipfile\n",
        "%load_ext tensorboard"
      ]
    },
    {
      "cell_type": "markdown",
      "source": [
        "## Model Setup"
      ],
      "metadata": {
        "id": "-NhkxT8fk8Ba"
      }
    },
    {
      "cell_type": "code",
      "execution_count": null,
      "metadata": {
        "id": "f3u6BwEZ5Ngo"
      },
      "outputs": [],
      "source": [
        "# timing per epoch iteration\n",
        "class TimeHistory(keras.callbacks.Callback):\n",
        "    def on_train_begin(self, logs={}):\n",
        "        self.times = []\n",
        "\n",
        "    def on_epoch_begin(self, batch, logs={}):\n",
        "        self.epoch_time_start = time.time()\n",
        "\n",
        "    def on_epoch_end(self, batch, logs={}):\n",
        "        self.times.append(time.time() - self.epoch_time_start)"
      ]
    },
    {
      "cell_type": "code",
      "execution_count": null,
      "metadata": {
        "id": "OJNDDDzn5Qyy",
        "outputId": "155abd49-1dab-4d05-a33d-9aa8be71cf9c"
      },
      "outputs": [
        {
          "name": "stderr",
          "output_type": "stream",
          "text": [
            "2022-12-17 06:02:21.436436: I tensorflow/stream_executor/cuda/cuda_gpu_executor.cc:980] successful NUMA node read from SysFS had negative value (-1), but there must be at least one NUMA node, so returning NUMA node zero\n",
            "2022-12-17 06:02:21.448143: I tensorflow/stream_executor/cuda/cuda_gpu_executor.cc:980] successful NUMA node read from SysFS had negative value (-1), but there must be at least one NUMA node, so returning NUMA node zero\n",
            "2022-12-17 06:02:21.448390: I tensorflow/stream_executor/cuda/cuda_gpu_executor.cc:980] successful NUMA node read from SysFS had negative value (-1), but there must be at least one NUMA node, so returning NUMA node zero\n",
            "2022-12-17 06:02:21.449992: I tensorflow/core/platform/cpu_feature_guard.cc:193] This TensorFlow binary is optimized with oneAPI Deep Neural Network Library (oneDNN) to use the following CPU instructions in performance-critical operations:  AVX2 FMA\n",
            "To enable them in other operations, rebuild TensorFlow with the appropriate compiler flags.\n",
            "2022-12-17 06:02:21.450616: I tensorflow/stream_executor/cuda/cuda_gpu_executor.cc:980] successful NUMA node read from SysFS had negative value (-1), but there must be at least one NUMA node, so returning NUMA node zero\n",
            "2022-12-17 06:02:21.450973: I tensorflow/stream_executor/cuda/cuda_gpu_executor.cc:980] successful NUMA node read from SysFS had negative value (-1), but there must be at least one NUMA node, so returning NUMA node zero\n",
            "2022-12-17 06:02:21.451246: I tensorflow/stream_executor/cuda/cuda_gpu_executor.cc:980] successful NUMA node read from SysFS had negative value (-1), but there must be at least one NUMA node, so returning NUMA node zero\n",
            "2022-12-17 06:02:22.096565: I tensorflow/stream_executor/cuda/cuda_gpu_executor.cc:980] successful NUMA node read from SysFS had negative value (-1), but there must be at least one NUMA node, so returning NUMA node zero\n",
            "2022-12-17 06:02:22.096959: I tensorflow/stream_executor/cuda/cuda_gpu_executor.cc:980] successful NUMA node read from SysFS had negative value (-1), but there must be at least one NUMA node, so returning NUMA node zero\n",
            "2022-12-17 06:02:22.097250: I tensorflow/stream_executor/cuda/cuda_gpu_executor.cc:980] successful NUMA node read from SysFS had negative value (-1), but there must be at least one NUMA node, so returning NUMA node zero\n",
            "2022-12-17 06:02:22.097412: I tensorflow/core/common_runtime/gpu/gpu_device.cc:1616] Created device /job:localhost/replica:0/task:0/device:GPU:0 with 14626 MB memory:  -> device: 0, name: Tesla V100-SXM2-16GB, pci bus id: 0000:00:04.0, compute capability: 7.0\n"
          ]
        }
      ],
      "source": [
        "# using data sharding, one divide strategy for single GPU distributed training. \n",
        "# the OneDeviceStrategy places variables and computation on a single specified device.\n",
        "strategy = tf.distribute.OneDeviceStrategy(device=\"/gpu:0\")  #   tf.distribute.experimental.CentralStorageStrategy()   #tf.distribute.MirroredStrategy()"
      ]
    },
    {
      "cell_type": "code",
      "execution_count": null,
      "metadata": {
        "id": "8xlQL90G5SzL"
      },
      "outputs": [],
      "source": [
        "# define builder function for resnet layers\n",
        "def resnet_layer(inputs,\n",
        "                 num_filters=16,\n",
        "                 kernel_size=3,\n",
        "                 strides=1,\n",
        "                 activation='relu',\n",
        "                 batch_normalization=True,\n",
        "                 conv_first=True):\n",
        "    \"\"\"2D Convolution-Batch Normalization-Activation stack builder\n",
        "\n",
        "    # Arguments\n",
        "        inputs (tensor): input tensor from input image or previous layer\n",
        "        num_filters (int): Conv2D number of filters\n",
        "        kernel_size (int): Conv2D square kernel dimensions\n",
        "        strides (int): Conv2D square stride dimensions\n",
        "        activation (string): activation name\n",
        "        batch_normalization (bool): whether to include batch normalization\n",
        "        conv_first (bool): conv-bn-activation (True) or\n",
        "            bn-activation-conv (False)\n",
        "\n",
        "    # Returns\n",
        "        x (tensor): tensor as input to the next layer\n",
        "    \"\"\"\n",
        "    conv = Conv2D(num_filters,\n",
        "                  kernel_size=kernel_size,\n",
        "                  strides=strides,\n",
        "                  padding='same',\n",
        "                  kernel_initializer='he_normal',\n",
        "                  kernel_regularizer=l2(1e-4))\n",
        "\n",
        "    x = inputs\n",
        "    if conv_first:\n",
        "        x = conv(x)\n",
        "        if batch_normalization:\n",
        "            x = BatchNormalization()(x)\n",
        "        if activation is not None:\n",
        "            x = Activation(activation)(x)\n",
        "    else:\n",
        "        if batch_normalization:\n",
        "            x = BatchNormalization()(x)\n",
        "        if activation is not None:\n",
        "            x = Activation(activation)(x)\n",
        "        x = conv(x)\n",
        "    return x"
      ]
    },
    {
      "cell_type": "code",
      "execution_count": null,
      "metadata": {
        "id": "q0qeB2wJ5nsX"
      },
      "outputs": [],
      "source": [
        "# actual resnet code\n",
        "def resnet_v1(input_shape, depth, num_classes=10):\n",
        "    \"\"\"ResNet Version 1 Model builder [a]\n",
        "\n",
        "    Stacks of 2 x (3 x 3) Conv2D-BN-ReLU\n",
        "    Last ReLU is after the shortcut connection.\n",
        "    At the beginning of each stage, the feature map size is halved (downsampled)\n",
        "    by a convolutional layer with strides=2, while the number of filters is\n",
        "    doubled. Within each stage, the layers have the same number filters and the\n",
        "    same number of filters.\n",
        "    Features maps sizes:\n",
        "    stage 0: 32x32, 16\n",
        "    stage 1: 16x16, 32\n",
        "    stage 2:  8x8,  64\n",
        "    The Number of parameters is approx the same as Table 6 of [a]:\n",
        "    ResNet20 0.27M\n",
        "    ResNet32 0.46M\n",
        "    ResNet44 0.66M\n",
        "    ResNet56 0.85M\n",
        "    ResNet110 1.7M\n",
        "\n",
        "    # Arguments\n",
        "        input_shape (tensor): shape of input image tensor\n",
        "        depth (int): number of core convolutional layers\n",
        "        num_classes (int): number of classes (CIFAR10 has 10)\n",
        "\n",
        "    # Returns\n",
        "        model (Model): Keras model instance\n",
        "    \"\"\"\n",
        "    if (depth - 2) % 6 != 0:\n",
        "        raise ValueError('depth should be 6n+2 (eg 20, 32, 44 in [a])')\n",
        "    # Start model definition.\n",
        "    num_filters = 16\n",
        "    num_res_blocks = int((depth - 2) / 6)\n",
        "\n",
        "    inputs = Input(shape=input_shape)\n",
        "    x = resnet_layer(inputs=inputs)\n",
        "    # Instantiate the stack of residual units\n",
        "    for stack in range(3):\n",
        "        for res_block in range(num_res_blocks):\n",
        "            strides = 1\n",
        "            if stack > 0 and res_block == 0:  # first layer but not first stack\n",
        "                strides = 2  # downsample\n",
        "            y = resnet_layer(inputs=x,\n",
        "                             num_filters=num_filters,\n",
        "                             strides=strides)\n",
        "            y = resnet_layer(inputs=y,\n",
        "                             num_filters=num_filters,\n",
        "                             activation=None)\n",
        "            if stack > 0 and res_block == 0:  # first layer but not first stack\n",
        "                # linear projection residual shortcut connection to match\n",
        "                # changed dims\n",
        "                x = resnet_layer(inputs=x,\n",
        "                                 num_filters=num_filters,\n",
        "                                 kernel_size=1,\n",
        "                                 strides=strides,\n",
        "                                 activation=None,\n",
        "                                 batch_normalization=False)\n",
        "            x = keras.layers.add([x, y])\n",
        "            x = Activation('relu')(x)\n",
        "        num_filters *= 2\n",
        "\n",
        "    # Add classifier on top.\n",
        "    # v1 does not use BN after last shortcut connection-ReLU\n",
        "    x = AveragePooling2D(pool_size=8)(x)\n",
        "    y = Flatten()(x)\n",
        "    outputs = Dense(num_classes,\n",
        "                    activation='softmax',\n",
        "                    kernel_initializer='he_normal')(y)\n",
        "    # Instantiate model.\n",
        "    model = Model(inputs=inputs, outputs=outputs)\n",
        "    return model"
      ]
    },
    {
      "cell_type": "code",
      "execution_count": null,
      "metadata": {
        "id": "KI--slgF5-D0"
      },
      "outputs": [],
      "source": [
        "# Learning rate scheduler \n",
        "def lr_schedule(epoch):\n",
        "    \"\"\"Learning Rate Schedule\n",
        "\n",
        "    Learning rate is scheduled to be reduced after 80, 120, 160, 180 epochs.\n",
        "    Called automatically every epoch as part of callbacks during training.\n",
        "\n",
        "    # Arguments\n",
        "        epoch (int): The number of epochs\n",
        "\n",
        "    # Returns\n",
        "        lr (float32): learning rate\n",
        "    \"\"\"\n",
        "    lr = 1e-3\n",
        "    if epoch > 180:\n",
        "        lr *= 0.5e-3\n",
        "    elif epoch > 160:\n",
        "        lr *= 1e-3\n",
        "    elif epoch > 120:\n",
        "        lr *= 1e-2\n",
        "    elif epoch > 80:\n",
        "        lr *= 1e-1\n",
        "    print('Learning rate: ', lr)\n",
        "    return lr"
      ]
    },
    {
      "cell_type": "code",
      "execution_count": null,
      "metadata": {
        "id": "jtXh5ajC6AKC"
      },
      "outputs": [],
      "source": [
        "# tflite conversion\n",
        "def tflite_conv(model,path,quant=False):\n",
        "    converter = tf.lite.TFLiteConverter.from_keras_model(model)\n",
        "    if quant == True:\n",
        "        converter.optimizations = [tf.lite.Optimize.DEFAULT]\n",
        "    pruned_tflite_model = converter.convert()\n",
        "    with open(path, 'wb') as f:\n",
        "      f.write(pruned_tflite_model)\n",
        "    print('Saved pruned TFLite model to:',path)"
      ]
    },
    {
      "cell_type": "code",
      "execution_count": null,
      "metadata": {
        "id": "GQ4jU6PM6CJV"
      },
      "outputs": [],
      "source": [
        "# returns size of gzipped model, in bytes.\n",
        "def get_gzipped_model_size(file):\n",
        "    _, zipped_file = tempfile.mkstemp('.zip')\n",
        "    with zipfile.ZipFile(zipped_file, 'w', compression=zipfile.ZIP_DEFLATED) as f:\n",
        "        f.write(file)\n",
        "\n",
        "    return os.path.getsize(zipped_file)"
      ]
    },
    {
      "cell_type": "code",
      "execution_count": null,
      "metadata": {
        "id": "TqbzgNzq6EQB",
        "outputId": "b09f407c-f067-4af3-cf3c-e79a3efa8d50"
      },
      "outputs": [
        {
          "data": {
            "text/plain": [
              "1"
            ]
          },
          "execution_count": 14,
          "metadata": {},
          "output_type": "execute_result"
        }
      ],
      "source": [
        "# number of model replicas\n",
        "strategy.num_replicas_in_sync"
      ]
    },
    {
      "cell_type": "code",
      "execution_count": null,
      "metadata": {
        "id": "J7YmlsR26M8G"
      },
      "outputs": [],
      "source": [
        "# actual trainer function\n",
        "def resnet_training(x_train,y_train,x_test, y_test,layers,frequency,\\\n",
        "                    initial_sparsity,final_sparsity,gpu=\"T4\",\\\n",
        "                    const=True, poly=False,file_name='cifar10_test1',\\\n",
        "                    num_classes=10,begin_step=0,end_step='default'):\n",
        "\n",
        "    # Default parameters\n",
        "    batch_size = 128 * strategy.num_replicas_in_sync \n",
        "    epochs = 300\n",
        "    data_augmentation = True\n",
        "    n = layers\n",
        "\n",
        "    # Computed depth from supplied model parameter n\n",
        "    depth = n * 6 + 2\n",
        "\n",
        "    # Input image dimensions.\n",
        "    input_shape = x_train.shape[1:]\n",
        "\n",
        "    # Subtracting pixel mean improves accuracy\n",
        "    x_train_mean = np.mean(x_train, axis=0)\n",
        "    x_train -= x_train_mean\n",
        "    x_test -= x_train_mean\n",
        "\n",
        "    print('x_train shape:', x_train.shape)\n",
        "    print(x_train.shape[0], 'train samples')\n",
        "    print(x_test.shape[0], 'test samples')\n",
        "    print('y_train shape:', y_train.shape)\n",
        "\n",
        "    ####Changes start#####\n",
        "    num_images = x_train.shape[0] #* (1 - validation_split)\n",
        "\n",
        "    if end_step == 'default':\n",
        "        end_step = np.ceil(num_images / batch_size).astype(np.int32) * epochs\n",
        "\n",
        "    #hyperparameters: initial_sparsity=0.50, final_sparsity=0.80\n",
        "    if poly:\n",
        "        pruning_params = {\n",
        "              'pruning_schedule': tfmot.sparsity.keras.PolynomialDecay(initial_sparsity=initial_sparsity,\n",
        "                                                                       final_sparsity=final_sparsity,\n",
        "                                                                       begin_step=begin_step,\n",
        "                                                                       end_step=end_step,\n",
        "                                                                      frequency=frequency)\n",
        "        }\n",
        "    if const:\n",
        "            pruning_params = {\n",
        "              'pruning_schedule': tfmot.sparsity.keras.ConstantSparsity(target_sparsity=final_sparsity,\n",
        "                                                                       begin_step=begin_step,\n",
        "                                                                       end_step=end_step,\n",
        "                                                                       frequency=frequency)\n",
        "        }\n",
        "\n",
        "    prune_low_magnitude = tfmot.sparsity.keras.prune_low_magnitude\n",
        "    with strategy.scope():\n",
        "        model = resnet_v1(input_shape=input_shape, depth=depth,num_classes=num_classes)\n",
        "        model = prune_low_magnitude(model, **pruning_params)    #_for_pruning\n",
        "\n",
        "        model.compile(loss= 'categorical_crossentropy',     #''  tf.  keras.losses.SparseCategoricalCrossentropy(from_logits=True)\n",
        "                  optimizer=Adam(lr=lr_schedule(0)),\n",
        "                  metrics=['accuracy'])\n",
        "    ####Changes end#####\n",
        "    model.summary()\n",
        "\n",
        "    # Prepare model model saving directory.\n",
        "    save_dir = os.path.join(os.getcwd(), 'saved_models')\n",
        "    if not os.path.isdir(save_dir):\n",
        "        os.makedirs(save_dir)\n",
        "\n",
        "    model_run=file_name+'_'+str(depth)+'_'+gpu\n",
        "    model_path=model_run+'.h5'\n",
        "    print(\"RRrrrrrR\",model_path)\n",
        "    \n",
        "    filepath = os.path.join(save_dir, model_path)\n",
        "    print(\"RRR\",filepath)\n",
        "    \n",
        "    print(model_run)\n",
        "\n",
        "    # Prepare callbacks for model saving and for learning rate adjustment.\n",
        "    checkpoint = ModelCheckpoint(filepath=filepath,\n",
        "                                 monitor='val_acc',\n",
        "                                 verbose=1,\n",
        "                                 save_best_only=True)\n",
        "\n",
        "    lr_scheduler = LearningRateScheduler(lr_schedule)\n",
        "\n",
        "    lr_reducer = ReduceLROnPlateau(factor=np.sqrt(0.1),\n",
        "                                   cooldown=0,\n",
        "                                   patience=5,\n",
        "                                   min_lr=0.5e-6)\n",
        "    logdir = tempfile.mkdtemp()\n",
        "    time_callback = TimeHistory()\n",
        "    logname='/home/jupyter/final_proj/log_'+model_run+'.csv'\n",
        "    csv_logger = CSVLogger(logname, append=True, separator=';')\n",
        "    callbacks = [checkpoint, lr_reducer, lr_scheduler, csv_logger, time_callback, pruning_callbacks.UpdatePruningStep(), tfmot.sparsity.keras.PruningSummaries(log_dir=logdir)]\n",
        "\n",
        "    st = time.time()\n",
        "    ######################## no augmentation################\n",
        "    # model.fit(x_train, y_train,\n",
        "    #           batch_size=batch_size,\n",
        "    #           epochs=epochs,\n",
        "    #           validation_data=(x_test, y_test),\n",
        "    #           shuffle=True,\n",
        "    #           callbacks=callbacks)\n",
        "    ######################## no augmentation################\n",
        "\n",
        "    ########################augmentation################\n",
        "    datagen = ImageDataGenerator(\n",
        "          # set input mean to 0 over the dataset\n",
        "          featurewise_center=False,\n",
        "          # set each sample mean to 0\n",
        "          samplewise_center=False,\n",
        "          # divide inputs by std of dataset\n",
        "          featurewise_std_normalization=False,\n",
        "          # divide each input by its std\n",
        "          samplewise_std_normalization=False,\n",
        "          # apply ZCA whitening\n",
        "          zca_whitening=False,\n",
        "          # epsilon for ZCA whitening\n",
        "          zca_epsilon=1e-06,\n",
        "          # randomly rotate images in the range (deg 0 to 180)\n",
        "          rotation_range=0,\n",
        "          # randomly shift images horizontally\n",
        "          width_shift_range=0.1,\n",
        "          # randomly shift images vertically\n",
        "          height_shift_range=0.1,\n",
        "          # set range for random shear\n",
        "          shear_range=0.,\n",
        "          # set range for random zoom\n",
        "          zoom_range=0.,\n",
        "          # set range for random channel shifts\n",
        "          channel_shift_range=0.,\n",
        "          # set mode for filling points outside the input boundaries\n",
        "          fill_mode='nearest',\n",
        "          # value used for fill_mode = \"constant\"\n",
        "          cval=0.,\n",
        "          # randomly flip images\n",
        "          horizontal_flip=True,\n",
        "          # randomly flip images\n",
        "          vertical_flip=False,\n",
        "          # set rescaling factor (applied before any other transformation)\n",
        "          rescale=None,\n",
        "          # set function that will be applied on each input\n",
        "          preprocessing_function=None,\n",
        "          # image data format, either \"channels_first\" or \"channels_last\"\n",
        "          data_format=None,\n",
        "          # fraction of images reserved for validation (strictly between 0 and 1)\n",
        "          validation_split=0.0)\n",
        "          \n",
        "    datagen.fit(x_train)\n",
        "\n",
        "    # Fit the model on the batches generated by datagen.flow().\n",
        "    model.fit_generator(datagen.flow(x_train, y_train, batch_size=batch_size),\n",
        "                        validation_data=(x_test, y_test),\n",
        "                        epochs=epochs, verbose=1, \n",
        "                        callbacks=callbacks)\n",
        "     \n",
        "     ########################augmentation################\n",
        "\n",
        "    %tensorboard --logdir={logdir}\n",
        "    training_time = time.time() - st\n",
        "\n",
        "    print(f\"overall training time is {training_time}\")\n",
        "    epoch_times = time_callback.times\n",
        "    print(f\"each epoch training time is {epoch_times}\")\n",
        "\n",
        "    # Score trained model.\n",
        "    scores = model.evaluate(x_test, y_test, verbose=1)\n",
        "    print('Test loss:', scores[0])\n",
        "    print('Test accuracy:', scores[1])\n",
        "    print(\"tt\",save_dir+'/'+model_run)\n",
        "    \n",
        "    #save standard model \n",
        "    model.save(save_dir+'/'+model_path)\n",
        "    \n",
        "    #saving data \n",
        "    with open(model_run+'.pickle', 'wb') as handle:\n",
        "        pickle.dump([training_time,epoch_times,scores[0],scores[1]], handle)\n",
        "\n",
        "    #save pruned model\n",
        "    model_for_export = tfmot.sparsity.keras.strip_pruning(model)\n",
        "    pruned_keras_file = save_dir+'/PRUNE_'+model_path\n",
        "    keras.models.save_model(model_for_export, pruned_keras_file, include_optimizer=False)\n",
        "    print('Saved pruned Keras model to:', pruned_keras_file)\n",
        "    \n",
        "    #convert to tflite+ save\n",
        "    pruned_tflite_file=save_dir+'/lite_PRUNE_'+model_path\n",
        "    tflite_conv(model,pruned_tflite_file)\n",
        "    \n",
        "    #save to tf lite + qaunt\n",
        "    pruned_tflite_quant_file=save_dir+'/lite_quant_PRUNE_'+model_path\n",
        "    tflite_conv(model,pruned_tflite_quant_file,quant=True)\n",
        "    \n",
        "    pruned=get_gzipped_model_size(pruned_keras_file)\n",
        "    tflite_pruned=get_gzipped_model_size(pruned_tflite_file)\n",
        "    tflite_quant_pruned=get_gzipped_model_size(pruned_tflite_quant_file)\n",
        "    \n",
        "    \n",
        "    print(\"Size of gzipped pruned Keras model: %.2f bytes\" % (pruned))\n",
        "    print(\"Size of gzipped pruned TFlite model: %.2f bytes\" % (tflite_pruned))\n",
        "    print(\"Size of gzipped pruned and quantized TFlite model: %.2f bytes\" % (tflite_quant_pruned))\n",
        "    \n",
        "    with open(model_run+'.pickle', 'wb') as handle:\n",
        "        pickle.dump([training_time,epoch_times,scores[0],scores[1],pruned,tflite_pruned,tflite_quant_pruned], handle)\n",
        "\n",
        "    return(model,model_path)"
      ]
    },
    {
      "cell_type": "markdown",
      "source": [
        "## Data: loading and preparation"
      ],
      "metadata": {
        "id": "Y1HG4ZailStF"
      }
    },
    {
      "cell_type": "code",
      "execution_count": null,
      "metadata": {
        "id": "XRxSJSxR6QKd"
      },
      "outputs": [],
      "source": [
        "# Load the CIFAR100 data.\n",
        "(X_train, Y_train), (X_test, Y_test) = cifar100.load_data()\n",
        "# Normalize data.\n",
        "X_train = X_train.astype('float32') / 255\n",
        "X_test = X_test.astype('float32') / 255\n",
        "# Convert class vectors to binary class matrices.\n",
        "Y_train = keras.utils.to_categorical(Y_train)\n",
        "Y_test = keras.utils.to_categorical(Y_test)"
      ]
    },
    {
      "cell_type": "markdown",
      "source": [
        "## Running super model with 70% final sparsity on Cifar100 with Resnet 20 and 44:"
      ],
      "metadata": {
        "id": "XUaXGfo5lVka"
      }
    },
    {
      "cell_type": "code",
      "execution_count": null,
      "metadata": {
        "colab": {
          "base_uri": "https://localhost:8080/"
        },
        "id": "mVVvxo1P6T2o",
        "outputId": "100386a8-40c4-4576-b759-69831fcee326"
      },
      "outputs": [
        {
          "name": "stdout",
          "output_type": "stream",
          "text": [
            "x_train shape: (50000, 32, 32, 3)\n",
            "50000 train samples\n",
            "10000 test samples\n",
            "y_train shape: (50000, 100)\n",
            "Learning rate:  0.001\n",
            "Model: \"model\"\n",
            "__________________________________________________________________________________________________\n",
            " Layer (type)                   Output Shape         Param #     Connected to                     \n",
            "==================================================================================================\n",
            " input_1 (InputLayer)           [(None, 32, 32, 3)]  0           []                               \n",
            "                                                                                                  \n",
            " prune_low_magnitude_conv2d (Pr  (None, 32, 32, 16)  882         ['input_1[0][0]']                \n",
            " uneLowMagnitude)                                                                                 \n",
            "                                                                                                  \n",
            " prune_low_magnitude_batch_norm  (None, 32, 32, 16)  65          ['prune_low_magnitude_conv2d[0][0\n",
            " alization (PruneLowMagnitude)                                   ]']                              \n",
            "                                                                                                  \n",
            " prune_low_magnitude_activation  (None, 32, 32, 16)  1           ['prune_low_magnitude_batch_norma\n",
            "  (PruneLowMagnitude)                                            lization[0][0]']                 \n",
            "                                                                                                  \n",
            " prune_low_magnitude_conv2d_1 (  (None, 32, 32, 16)  4626        ['prune_low_magnitude_activation[\n",
            " PruneLowMagnitude)                                              0][0]']                          \n",
            "                                                                                                  \n",
            " prune_low_magnitude_batch_norm  (None, 32, 32, 16)  65          ['prune_low_magnitude_conv2d_1[0]\n",
            " alization_1 (PruneLowMagnitude                                  [0]']                            \n",
            " )                                                                                                \n",
            "                                                                                                  \n",
            " prune_low_magnitude_activation  (None, 32, 32, 16)  1           ['prune_low_magnitude_batch_norma\n",
            " _1 (PruneLowMagnitude)                                          lization_1[0][0]']               \n",
            "                                                                                                  \n",
            " prune_low_magnitude_conv2d_2 (  (None, 32, 32, 16)  4626        ['prune_low_magnitude_activation_\n",
            " PruneLowMagnitude)                                              1[0][0]']                        \n",
            "                                                                                                  \n",
            " prune_low_magnitude_batch_norm  (None, 32, 32, 16)  65          ['prune_low_magnitude_conv2d_2[0]\n",
            " alization_2 (PruneLowMagnitude                                  [0]']                            \n",
            " )                                                                                                \n",
            "                                                                                                  \n",
            " prune_low_magnitude_add (Prune  (None, 32, 32, 16)  1           ['prune_low_magnitude_activation[\n",
            " LowMagnitude)                                                   0][0]',                          \n",
            "                                                                  'prune_low_magnitude_batch_norma\n",
            "                                                                 lization_2[0][0]']               \n",
            "                                                                                                  \n",
            " prune_low_magnitude_activation  (None, 32, 32, 16)  1           ['prune_low_magnitude_add[0][0]']\n",
            " _2 (PruneLowMagnitude)                                                                           \n",
            "                                                                                                  \n",
            " prune_low_magnitude_conv2d_3 (  (None, 32, 32, 16)  4626        ['prune_low_magnitude_activation_\n",
            " PruneLowMagnitude)                                              2[0][0]']                        \n",
            "                                                                                                  \n",
            " prune_low_magnitude_batch_norm  (None, 32, 32, 16)  65          ['prune_low_magnitude_conv2d_3[0]\n",
            " alization_3 (PruneLowMagnitude                                  [0]']                            \n",
            " )                                                                                                \n",
            "                                                                                                  \n",
            " prune_low_magnitude_activation  (None, 32, 32, 16)  1           ['prune_low_magnitude_batch_norma\n",
            " _3 (PruneLowMagnitude)                                          lization_3[0][0]']               \n",
            "                                                                                                  \n",
            " prune_low_magnitude_conv2d_4 (  (None, 32, 32, 16)  4626        ['prune_low_magnitude_activation_\n",
            " PruneLowMagnitude)                                              3[0][0]']                        \n",
            "                                                                                                  \n",
            " prune_low_magnitude_batch_norm  (None, 32, 32, 16)  65          ['prune_low_magnitude_conv2d_4[0]\n",
            " alization_4 (PruneLowMagnitude                                  [0]']                            \n",
            " )                                                                                                \n",
            "                                                                                                  \n",
            " prune_low_magnitude_add_1 (Pru  (None, 32, 32, 16)  1           ['prune_low_magnitude_activation_\n",
            " neLowMagnitude)                                                 2[0][0]',                        \n",
            "                                                                  'prune_low_magnitude_batch_norma\n",
            "                                                                 lization_4[0][0]']               \n",
            "                                                                                                  \n",
            " prune_low_magnitude_activation  (None, 32, 32, 16)  1           ['prune_low_magnitude_add_1[0][0]\n",
            " _4 (PruneLowMagnitude)                                          ']                               \n",
            "                                                                                                  \n",
            " prune_low_magnitude_conv2d_5 (  (None, 32, 32, 16)  4626        ['prune_low_magnitude_activation_\n",
            " PruneLowMagnitude)                                              4[0][0]']                        \n",
            "                                                                                                  \n",
            " prune_low_magnitude_batch_norm  (None, 32, 32, 16)  65          ['prune_low_magnitude_conv2d_5[0]\n",
            " alization_5 (PruneLowMagnitude                                  [0]']                            \n",
            " )                                                                                                \n",
            "                                                                                                  \n",
            " prune_low_magnitude_activation  (None, 32, 32, 16)  1           ['prune_low_magnitude_batch_norma\n",
            " _5 (PruneLowMagnitude)                                          lization_5[0][0]']               \n",
            "                                                                                                  \n",
            " prune_low_magnitude_conv2d_6 (  (None, 32, 32, 16)  4626        ['prune_low_magnitude_activation_\n",
            " PruneLowMagnitude)                                              5[0][0]']                        \n",
            "                                                                                                  \n",
            " prune_low_magnitude_batch_norm  (None, 32, 32, 16)  65          ['prune_low_magnitude_conv2d_6[0]\n",
            " alization_6 (PruneLowMagnitude                                  [0]']                            \n",
            " )                                                                                                \n",
            "                                                                                                  \n",
            " prune_low_magnitude_add_2 (Pru  (None, 32, 32, 16)  1           ['prune_low_magnitude_activation_\n",
            " neLowMagnitude)                                                 4[0][0]',                        \n",
            "                                                                  'prune_low_magnitude_batch_norma\n",
            "                                                                 lization_6[0][0]']               \n",
            "                                                                                                  \n",
            " prune_low_magnitude_activation  (None, 32, 32, 16)  1           ['prune_low_magnitude_add_2[0][0]\n",
            " _6 (PruneLowMagnitude)                                          ']                               \n",
            "                                                                                                  \n",
            " prune_low_magnitude_conv2d_7 (  (None, 16, 16, 32)  9250        ['prune_low_magnitude_activation_\n",
            " PruneLowMagnitude)                                              6[0][0]']                        \n",
            "                                                                                                  \n",
            " prune_low_magnitude_batch_norm  (None, 16, 16, 32)  129         ['prune_low_magnitude_conv2d_7[0]\n",
            " alization_7 (PruneLowMagnitude                                  [0]']                            \n",
            " )                                                                                                \n",
            "                                                                                                  \n",
            " prune_low_magnitude_activation  (None, 16, 16, 32)  1           ['prune_low_magnitude_batch_norma\n",
            " _7 (PruneLowMagnitude)                                          lization_7[0][0]']               \n",
            "                                                                                                  \n",
            " prune_low_magnitude_conv2d_8 (  (None, 16, 16, 32)  18466       ['prune_low_magnitude_activation_\n",
            " PruneLowMagnitude)                                              7[0][0]']                        \n",
            "                                                                                                  \n",
            " prune_low_magnitude_conv2d_9 (  (None, 16, 16, 32)  1058        ['prune_low_magnitude_activation_\n",
            " PruneLowMagnitude)                                              6[0][0]']                        \n",
            "                                                                                                  \n",
            " prune_low_magnitude_batch_norm  (None, 16, 16, 32)  129         ['prune_low_magnitude_conv2d_8[0]\n",
            " alization_8 (PruneLowMagnitude                                  [0]']                            \n",
            " )                                                                                                \n",
            "                                                                                                  \n",
            " prune_low_magnitude_add_3 (Pru  (None, 16, 16, 32)  1           ['prune_low_magnitude_conv2d_9[0]\n",
            " neLowMagnitude)                                                 [0]',                            \n",
            "                                                                  'prune_low_magnitude_batch_norma\n",
            "                                                                 lization_8[0][0]']               \n",
            "                                                                                                  \n",
            " prune_low_magnitude_activation  (None, 16, 16, 32)  1           ['prune_low_magnitude_add_3[0][0]\n",
            " _8 (PruneLowMagnitude)                                          ']                               \n",
            "                                                                                                  \n",
            " prune_low_magnitude_conv2d_10   (None, 16, 16, 32)  18466       ['prune_low_magnitude_activation_\n",
            " (PruneLowMagnitude)                                             8[0][0]']                        \n",
            "                                                                                                  \n",
            " prune_low_magnitude_batch_norm  (None, 16, 16, 32)  129         ['prune_low_magnitude_conv2d_10[0\n",
            " alization_9 (PruneLowMagnitude                                  ][0]']                           \n",
            " )                                                                                                \n",
            "                                                                                                  \n",
            " prune_low_magnitude_activation  (None, 16, 16, 32)  1           ['prune_low_magnitude_batch_norma\n",
            " _9 (PruneLowMagnitude)                                          lization_9[0][0]']               \n",
            "                                                                                                  \n",
            " prune_low_magnitude_conv2d_11   (None, 16, 16, 32)  18466       ['prune_low_magnitude_activation_\n",
            " (PruneLowMagnitude)                                             9[0][0]']                        \n",
            "                                                                                                  \n",
            " prune_low_magnitude_batch_norm  (None, 16, 16, 32)  129         ['prune_low_magnitude_conv2d_11[0\n",
            " alization_10 (PruneLowMagnitud                                  ][0]']                           \n",
            " e)                                                                                               \n",
            "                                                                                                  \n",
            " prune_low_magnitude_add_4 (Pru  (None, 16, 16, 32)  1           ['prune_low_magnitude_activation_\n",
            " neLowMagnitude)                                                 8[0][0]',                        \n",
            "                                                                  'prune_low_magnitude_batch_norma\n",
            "                                                                 lization_10[0][0]']              \n",
            "                                                                                                  \n",
            " prune_low_magnitude_activation  (None, 16, 16, 32)  1           ['prune_low_magnitude_add_4[0][0]\n",
            " _10 (PruneLowMagnitude)                                         ']                               \n",
            "                                                                                                  \n",
            " prune_low_magnitude_conv2d_12   (None, 16, 16, 32)  18466       ['prune_low_magnitude_activation_\n",
            " (PruneLowMagnitude)                                             10[0][0]']                       \n",
            "                                                                                                  \n",
            " prune_low_magnitude_batch_norm  (None, 16, 16, 32)  129         ['prune_low_magnitude_conv2d_12[0\n",
            " alization_11 (PruneLowMagnitud                                  ][0]']                           \n",
            " e)                                                                                               \n",
            "                                                                                                  \n",
            " prune_low_magnitude_activation  (None, 16, 16, 32)  1           ['prune_low_magnitude_batch_norma\n",
            " _11 (PruneLowMagnitude)                                         lization_11[0][0]']              \n",
            "                                                                                                  \n",
            " prune_low_magnitude_conv2d_13   (None, 16, 16, 32)  18466       ['prune_low_magnitude_activation_\n",
            " (PruneLowMagnitude)                                             11[0][0]']                       \n",
            "                                                                                                  \n",
            " prune_low_magnitude_batch_norm  (None, 16, 16, 32)  129         ['prune_low_magnitude_conv2d_13[0\n",
            " alization_12 (PruneLowMagnitud                                  ][0]']                           \n",
            " e)                                                                                               \n",
            "                                                                                                  \n",
            " prune_low_magnitude_add_5 (Pru  (None, 16, 16, 32)  1           ['prune_low_magnitude_activation_\n",
            " neLowMagnitude)                                                 10[0][0]',                       \n",
            "                                                                  'prune_low_magnitude_batch_norma\n",
            "                                                                 lization_12[0][0]']              \n",
            "                                                                                                  \n",
            " prune_low_magnitude_activation  (None, 16, 16, 32)  1           ['prune_low_magnitude_add_5[0][0]\n",
            " _12 (PruneLowMagnitude)                                         ']                               \n",
            "                                                                                                  \n",
            " prune_low_magnitude_conv2d_14   (None, 8, 8, 64)    36930       ['prune_low_magnitude_activation_\n",
            " (PruneLowMagnitude)                                             12[0][0]']                       \n",
            "                                                                                                  \n",
            " prune_low_magnitude_batch_norm  (None, 8, 8, 64)    257         ['prune_low_magnitude_conv2d_14[0\n",
            " alization_13 (PruneLowMagnitud                                  ][0]']                           \n",
            " e)                                                                                               \n",
            "                                                                                                  \n",
            " prune_low_magnitude_activation  (None, 8, 8, 64)    1           ['prune_low_magnitude_batch_norma\n",
            " _13 (PruneLowMagnitude)                                         lization_13[0][0]']              \n",
            "                                                                                                  \n",
            " prune_low_magnitude_conv2d_15   (None, 8, 8, 64)    73794       ['prune_low_magnitude_activation_\n",
            " (PruneLowMagnitude)                                             13[0][0]']                       \n",
            "                                                                                                  \n",
            " prune_low_magnitude_conv2d_16   (None, 8, 8, 64)    4162        ['prune_low_magnitude_activation_\n",
            " (PruneLowMagnitude)                                             12[0][0]']                       \n",
            "                                                                                                  \n",
            " prune_low_magnitude_batch_norm  (None, 8, 8, 64)    257         ['prune_low_magnitude_conv2d_15[0\n",
            " alization_14 (PruneLowMagnitud                                  ][0]']                           \n",
            " e)                                                                                               \n",
            "                                                                                                  \n",
            " prune_low_magnitude_add_6 (Pru  (None, 8, 8, 64)    1           ['prune_low_magnitude_conv2d_16[0\n",
            " neLowMagnitude)                                                 ][0]',                           \n",
            "                                                                  'prune_low_magnitude_batch_norma\n",
            "                                                                 lization_14[0][0]']              \n",
            "                                                                                                  \n",
            " prune_low_magnitude_activation  (None, 8, 8, 64)    1           ['prune_low_magnitude_add_6[0][0]\n",
            " _14 (PruneLowMagnitude)                                         ']                               \n",
            "                                                                                                  \n"
          ]
        },
        {
          "name": "stderr",
          "output_type": "stream",
          "text": [
            "/opt/conda/lib/python3.7/site-packages/keras/optimizers/optimizer_v2/adam.py:114: UserWarning: The `lr` argument is deprecated, use `learning_rate` instead.\n",
            "  super().__init__(name, **kwargs)\n"
          ]
        },
        {
          "name": "stdout",
          "output_type": "stream",
          "text": [
            " prune_low_magnitude_conv2d_17   (None, 8, 8, 64)    73794       ['prune_low_magnitude_activation_\n",
            " (PruneLowMagnitude)                                             14[0][0]']                       \n",
            "                                                                                                  \n",
            " prune_low_magnitude_batch_norm  (None, 8, 8, 64)    257         ['prune_low_magnitude_conv2d_17[0\n",
            " alization_15 (PruneLowMagnitud                                  ][0]']                           \n",
            " e)                                                                                               \n",
            "                                                                                                  \n",
            " prune_low_magnitude_activation  (None, 8, 8, 64)    1           ['prune_low_magnitude_batch_norma\n",
            " _15 (PruneLowMagnitude)                                         lization_15[0][0]']              \n",
            "                                                                                                  \n",
            " prune_low_magnitude_conv2d_18   (None, 8, 8, 64)    73794       ['prune_low_magnitude_activation_\n",
            " (PruneLowMagnitude)                                             15[0][0]']                       \n",
            "                                                                                                  \n",
            " prune_low_magnitude_batch_norm  (None, 8, 8, 64)    257         ['prune_low_magnitude_conv2d_18[0\n",
            " alization_16 (PruneLowMagnitud                                  ][0]']                           \n",
            " e)                                                                                               \n",
            "                                                                                                  \n",
            " prune_low_magnitude_add_7 (Pru  (None, 8, 8, 64)    1           ['prune_low_magnitude_activation_\n",
            " neLowMagnitude)                                                 14[0][0]',                       \n",
            "                                                                  'prune_low_magnitude_batch_norma\n",
            "                                                                 lization_16[0][0]']              \n",
            "                                                                                                  \n",
            " prune_low_magnitude_activation  (None, 8, 8, 64)    1           ['prune_low_magnitude_add_7[0][0]\n",
            " _16 (PruneLowMagnitude)                                         ']                               \n",
            "                                                                                                  \n",
            " prune_low_magnitude_conv2d_19   (None, 8, 8, 64)    73794       ['prune_low_magnitude_activation_\n",
            " (PruneLowMagnitude)                                             16[0][0]']                       \n",
            "                                                                                                  \n",
            " prune_low_magnitude_batch_norm  (None, 8, 8, 64)    257         ['prune_low_magnitude_conv2d_19[0\n",
            " alization_17 (PruneLowMagnitud                                  ][0]']                           \n",
            " e)                                                                                               \n",
            "                                                                                                  \n",
            " prune_low_magnitude_activation  (None, 8, 8, 64)    1           ['prune_low_magnitude_batch_norma\n",
            " _17 (PruneLowMagnitude)                                         lization_17[0][0]']              \n",
            "                                                                                                  \n",
            " prune_low_magnitude_conv2d_20   (None, 8, 8, 64)    73794       ['prune_low_magnitude_activation_\n",
            " (PruneLowMagnitude)                                             17[0][0]']                       \n",
            "                                                                                                  \n",
            " prune_low_magnitude_batch_norm  (None, 8, 8, 64)    257         ['prune_low_magnitude_conv2d_20[0\n",
            " alization_18 (PruneLowMagnitud                                  ][0]']                           \n",
            " e)                                                                                               \n",
            "                                                                                                  \n",
            " prune_low_magnitude_add_8 (Pru  (None, 8, 8, 64)    1           ['prune_low_magnitude_activation_\n",
            " neLowMagnitude)                                                 16[0][0]',                       \n",
            "                                                                  'prune_low_magnitude_batch_norma\n",
            "                                                                 lization_18[0][0]']              \n",
            "                                                                                                  \n",
            " prune_low_magnitude_activation  (None, 8, 8, 64)    1           ['prune_low_magnitude_add_8[0][0]\n",
            " _18 (PruneLowMagnitude)                                         ']                               \n",
            "                                                                                                  \n",
            " prune_low_magnitude_average_po  (None, 1, 1, 64)    1           ['prune_low_magnitude_activation_\n",
            " oling2d (PruneLowMagnitude)                                     18[0][0]']                       \n",
            "                                                                                                  \n",
            " prune_low_magnitude_flatten (P  (None, 64)          1           ['prune_low_magnitude_average_poo\n",
            " runeLowMagnitude)                                               ling2d[0][0]']                   \n",
            "                                                                                                  \n",
            " prune_low_magnitude_dense (Pru  (None, 100)         12902       ['prune_low_magnitude_flatten[0][\n",
            " neLowMagnitude)                                                 0]']                             \n",
            "                                                                                                  \n",
            "==================================================================================================\n",
            "Total params: 557,041\n",
            "Trainable params: 278,916\n",
            "Non-trainable params: 278,125\n",
            "__________________________________________________________________________________________________\n",
            "RRrrrrrR resnet_super_twenty_300epochs_20_V100.h5\n",
            "RRR /home/jupyter/final_proj/saved_models/resnet_super_twenty_300epochs_20_V100.h5\n",
            "resnet_super_twenty_300epochs_20_V100\n"
          ]
        },
        {
          "name": "stderr",
          "output_type": "stream",
          "text": [
            "/opt/conda/lib/python3.7/site-packages/ipykernel_launcher.py:153: UserWarning: `Model.fit_generator` is deprecated and will be removed in a future version. Please use `Model.fit`, which supports generators.\n",
            "2022-12-17 06:02:26.581248: W tensorflow/core/grappler/optimizers/data/auto_shard.cc:776] AUTO sharding policy will apply DATA sharding policy as it failed to apply FILE sharding policy because of the following reason: Did not find a shardable source, walked to a node which is not a dataset: name: \"FlatMapDataset/_2\"\n",
            "op: \"FlatMapDataset\"\n",
            "input: \"TensorDataset/_1\"\n",
            "attr {\n",
            "  key: \"Targuments\"\n",
            "  value {\n",
            "    list {\n",
            "    }\n",
            "  }\n",
            "}\n",
            "attr {\n",
            "  key: \"_cardinality\"\n",
            "  value {\n",
            "    i: -2\n",
            "  }\n",
            "}\n",
            "attr {\n",
            "  key: \"f\"\n",
            "  value {\n",
            "    func {\n",
            "      name: \"__inference_Dataset_flat_map_flat_map_fn_2500\"\n",
            "    }\n",
            "  }\n",
            "}\n",
            "attr {\n",
            "  key: \"metadata\"\n",
            "  value {\n",
            "    s: \"\\n\\020FlatMapDataset:1\"\n",
            "  }\n",
            "}\n",
            "attr {\n",
            "  key: \"output_shapes\"\n",
            "  value {\n",
            "    list {\n",
            "      shape {\n",
            "        dim {\n",
            "          size: -1\n",
            "        }\n",
            "        dim {\n",
            "          size: -1\n",
            "        }\n",
            "        dim {\n",
            "          size: -1\n",
            "        }\n",
            "        dim {\n",
            "          size: -1\n",
            "        }\n",
            "      }\n",
            "      shape {\n",
            "        dim {\n",
            "          size: -1\n",
            "        }\n",
            "        dim {\n",
            "          size: -1\n",
            "        }\n",
            "      }\n",
            "    }\n",
            "  }\n",
            "}\n",
            "attr {\n",
            "  key: \"output_types\"\n",
            "  value {\n",
            "    list {\n",
            "      type: DT_FLOAT\n",
            "      type: DT_FLOAT\n",
            "    }\n",
            "  }\n",
            "}\n",
            "experimental_type {\n",
            "  type_id: TFT_PRODUCT\n",
            "  args {\n",
            "    type_id: TFT_DATASET\n",
            "    args {\n",
            "      type_id: TFT_PRODUCT\n",
            "      args {\n",
            "        type_id: TFT_TENSOR\n",
            "        args {\n",
            "          type_id: TFT_FLOAT\n",
            "        }\n",
            "      }\n",
            "      args {\n",
            "        type_id: TFT_TENSOR\n",
            "        args {\n",
            "          type_id: TFT_FLOAT\n",
            "        }\n",
            "      }\n",
            "    }\n",
            "  }\n",
            "}\n",
            ". Consider either turning off auto-sharding or switching the auto_shard_policy to DATA to shard this dataset. You can do this by creating a new `tf.data.Options()` object then setting `options.experimental_distribute.auto_shard_policy = AutoShardPolicy.DATA` before applying the options object to the dataset via `dataset.with_options(options)`.\n"
          ]
        },
        {
          "name": "stdout",
          "output_type": "stream",
          "text": [
            "Learning rate:  0.001\n",
            "Epoch 1/300\n"
          ]
        },
        {
          "name": "stderr",
          "output_type": "stream",
          "text": [
            "2022-12-17 06:02:50.465232: I tensorflow/stream_executor/cuda/cuda_dnn.cc:384] Loaded cuDNN version 8200\n"
          ]
        },
        {
          "name": "stdout",
          "output_type": "stream",
          "text": [
            "  6/391 [..............................] - ETA: 16s - loss: 6.7443 - accuracy: 0.0117  WARNING:tensorflow:Callback method `on_train_batch_end` is slow compared to the batch time (batch time: 0.0378s vs `on_train_batch_end` time: 0.0785s). Check your callbacks.\n",
            "391/391 [==============================] - ETA: 0s - loss: 4.2302 - accuracy: 0.0884WARNING:tensorflow:Can save best model only with val_acc available, skipping.\n",
            "391/391 [==============================] - 61s 91ms/step - loss: 4.2302 - accuracy: 0.0884 - val_loss: 3.9392 - val_accuracy: 0.1184 - lr: 0.0010\n",
            "Learning rate:  0.001\n",
            "Epoch 2/300\n",
            "391/391 [==============================] - ETA: 0s - loss: 3.6238 - accuracy: 0.1713WARNING:tensorflow:Can save best model only with val_acc available, skipping.\n",
            "391/391 [==============================] - 34s 88ms/step - loss: 3.6238 - accuracy: 0.1713 - val_loss: 3.6093 - val_accuracy: 0.1771 - lr: 0.0010\n",
            "Learning rate:  0.001\n",
            "Epoch 3/300\n",
            "391/391 [==============================] - ETA: 0s - loss: 3.3485 - accuracy: 0.2173WARNING:tensorflow:Can save best model only with val_acc available, skipping.\n",
            "391/391 [==============================] - 35s 89ms/step - loss: 3.3485 - accuracy: 0.2173 - val_loss: 3.6751 - val_accuracy: 0.1779 - lr: 0.0010\n",
            "Learning rate:  0.001\n",
            "Epoch 4/300\n",
            "391/391 [==============================] - ETA: 0s - loss: 3.1273 - accuracy: 0.2567WARNING:tensorflow:Can save best model only with val_acc available, skipping.\n",
            "391/391 [==============================] - 35s 90ms/step - loss: 3.1273 - accuracy: 0.2567 - val_loss: 3.3908 - val_accuracy: 0.2143 - lr: 0.0010\n",
            "Learning rate:  0.001\n",
            "Epoch 5/300\n",
            "391/391 [==============================] - ETA: 0s - loss: 2.9564 - accuracy: 0.2916WARNING:tensorflow:Can save best model only with val_acc available, skipping.\n",
            "391/391 [==============================] - 35s 89ms/step - loss: 2.9564 - accuracy: 0.2916 - val_loss: 3.1436 - val_accuracy: 0.2585 - lr: 0.0010\n",
            "Learning rate:  0.001\n",
            "Epoch 6/300\n",
            "391/391 [==============================] - ETA: 0s - loss: 2.8066 - accuracy: 0.3202WARNING:tensorflow:Can save best model only with val_acc available, skipping.\n",
            "391/391 [==============================] - 35s 89ms/step - loss: 2.8066 - accuracy: 0.3202 - val_loss: 2.9409 - val_accuracy: 0.2880 - lr: 0.0010\n",
            "Learning rate:  0.001\n",
            "Epoch 7/300\n",
            "391/391 [==============================] - ETA: 0s - loss: 2.6860 - accuracy: 0.3444WARNING:tensorflow:Can save best model only with val_acc available, skipping.\n",
            "391/391 [==============================] - 35s 89ms/step - loss: 2.6860 - accuracy: 0.3444 - val_loss: 3.1138 - val_accuracy: 0.2781 - lr: 0.0010\n",
            "Learning rate:  0.001\n",
            "Epoch 8/300\n",
            "391/391 [==============================] - ETA: 0s - loss: 2.5793 - accuracy: 0.3673WARNING:tensorflow:Can save best model only with val_acc available, skipping.\n",
            "391/391 [==============================] - 35s 90ms/step - loss: 2.5793 - accuracy: 0.3673 - val_loss: 2.7886 - val_accuracy: 0.3242 - lr: 0.0010\n",
            "Learning rate:  0.001\n",
            "Epoch 9/300\n",
            "391/391 [==============================] - ETA: 0s - loss: 2.4868 - accuracy: 0.3846WARNING:tensorflow:Can save best model only with val_acc available, skipping.\n",
            "391/391 [==============================] - 35s 89ms/step - loss: 2.4868 - accuracy: 0.3846 - val_loss: 2.6657 - val_accuracy: 0.3485 - lr: 0.0010\n",
            "Learning rate:  0.001\n",
            "Epoch 10/300\n",
            "391/391 [==============================] - ETA: 0s - loss: 2.4195 - accuracy: 0.3994WARNING:tensorflow:Can save best model only with val_acc available, skipping.\n",
            "391/391 [==============================] - 35s 88ms/step - loss: 2.4195 - accuracy: 0.3994 - val_loss: 2.6509 - val_accuracy: 0.3487 - lr: 0.0010\n",
            "Learning rate:  0.001\n",
            "Epoch 11/300\n",
            "391/391 [==============================] - ETA: 0s - loss: 2.3491 - accuracy: 0.4151WARNING:tensorflow:Can save best model only with val_acc available, skipping.\n",
            "391/391 [==============================] - 35s 89ms/step - loss: 2.3491 - accuracy: 0.4151 - val_loss: 2.7241 - val_accuracy: 0.3493 - lr: 0.0010\n",
            "Learning rate:  0.001\n",
            "Epoch 12/300\n",
            "391/391 [==============================] - ETA: 0s - loss: 2.2937 - accuracy: 0.4274WARNING:tensorflow:Can save best model only with val_acc available, skipping.\n",
            "391/391 [==============================] - 34s 87ms/step - loss: 2.2937 - accuracy: 0.4274 - val_loss: 2.5125 - val_accuracy: 0.3831 - lr: 0.0010\n",
            "Learning rate:  0.001\n",
            "Epoch 13/300\n",
            "391/391 [==============================] - ETA: 0s - loss: 2.2481 - accuracy: 0.4394WARNING:tensorflow:Can save best model only with val_acc available, skipping.\n",
            "391/391 [==============================] - 35s 89ms/step - loss: 2.2481 - accuracy: 0.4394 - val_loss: 2.3779 - val_accuracy: 0.4061 - lr: 0.0010\n",
            "Learning rate:  0.001\n",
            "Epoch 14/300\n",
            "391/391 [==============================] - ETA: 0s - loss: 2.1959 - accuracy: 0.4497WARNING:tensorflow:Can save best model only with val_acc available, skipping.\n",
            "391/391 [==============================] - 35s 89ms/step - loss: 2.1959 - accuracy: 0.4497 - val_loss: 2.4255 - val_accuracy: 0.4036 - lr: 0.0010\n",
            "Learning rate:  0.001\n",
            "Epoch 15/300\n",
            "391/391 [==============================] - ETA: 0s - loss: 2.1573 - accuracy: 0.4584WARNING:tensorflow:Can save best model only with val_acc available, skipping.\n",
            "391/391 [==============================] - 35s 89ms/step - loss: 2.1573 - accuracy: 0.4584 - val_loss: 2.4928 - val_accuracy: 0.3972 - lr: 0.0010\n",
            "Learning rate:  0.001\n",
            "Epoch 16/300\n",
            "391/391 [==============================] - ETA: 0s - loss: 2.1146 - accuracy: 0.4682WARNING:tensorflow:Can save best model only with val_acc available, skipping.\n",
            "391/391 [==============================] - 35s 89ms/step - loss: 2.1146 - accuracy: 0.4682 - val_loss: 2.4252 - val_accuracy: 0.4059 - lr: 0.0010\n",
            "Learning rate:  0.001\n",
            "Epoch 17/300\n",
            "391/391 [==============================] - ETA: 0s - loss: 2.0784 - accuracy: 0.4764WARNING:tensorflow:Can save best model only with val_acc available, skipping.\n",
            "391/391 [==============================] - 35s 89ms/step - loss: 2.0784 - accuracy: 0.4764 - val_loss: 2.4855 - val_accuracy: 0.4001 - lr: 0.0010\n",
            "Learning rate:  0.001\n",
            "Epoch 18/300\n",
            "391/391 [==============================] - ETA: 0s - loss: 2.0391 - accuracy: 0.4875WARNING:tensorflow:Can save best model only with val_acc available, skipping.\n",
            "391/391 [==============================] - 35s 90ms/step - loss: 2.0391 - accuracy: 0.4875 - val_loss: 2.4016 - val_accuracy: 0.4100 - lr: 3.1623e-04\n",
            "Learning rate:  0.001\n",
            "Epoch 19/300\n",
            "391/391 [==============================] - ETA: 0s - loss: 2.0055 - accuracy: 0.4964WARNING:tensorflow:Can save best model only with val_acc available, skipping.\n",
            "391/391 [==============================] - 35s 89ms/step - loss: 2.0055 - accuracy: 0.4964 - val_loss: 2.6742 - val_accuracy: 0.3740 - lr: 0.0010\n",
            "Learning rate:  0.001\n",
            "Epoch 20/300\n",
            "391/391 [==============================] - ETA: 0s - loss: 1.9848 - accuracy: 0.4991WARNING:tensorflow:Can save best model only with val_acc available, skipping.\n",
            "391/391 [==============================] - 35s 90ms/step - loss: 1.9848 - accuracy: 0.4991 - val_loss: 2.5099 - val_accuracy: 0.4054 - lr: 0.0010\n",
            "Learning rate:  0.001\n",
            "Epoch 21/300\n",
            "391/391 [==============================] - ETA: 0s - loss: 1.9642 - accuracy: 0.5048WARNING:tensorflow:Can save best model only with val_acc available, skipping.\n",
            "391/391 [==============================] - 35s 89ms/step - loss: 1.9642 - accuracy: 0.5048 - val_loss: 2.4154 - val_accuracy: 0.4194 - lr: 0.0010\n",
            "Learning rate:  0.001\n",
            "Epoch 22/300\n",
            "391/391 [==============================] - ETA: 0s - loss: 1.9250 - accuracy: 0.5145WARNING:tensorflow:Can save best model only with val_acc available, skipping.\n",
            "391/391 [==============================] - 34s 88ms/step - loss: 1.9250 - accuracy: 0.5145 - val_loss: 2.2839 - val_accuracy: 0.4449 - lr: 0.0010\n",
            "Learning rate:  0.001\n",
            "Epoch 23/300\n",
            "391/391 [==============================] - ETA: 0s - loss: 1.9020 - accuracy: 0.5172WARNING:tensorflow:Can save best model only with val_acc available, skipping.\n",
            "391/391 [==============================] - 35s 90ms/step - loss: 1.9020 - accuracy: 0.5172 - val_loss: 2.2881 - val_accuracy: 0.4434 - lr: 0.0010\n",
            "Learning rate:  0.001\n",
            "Epoch 24/300\n",
            "391/391 [==============================] - ETA: 0s - loss: 1.8862 - accuracy: 0.5258WARNING:tensorflow:Can save best model only with val_acc available, skipping.\n",
            "391/391 [==============================] - 34s 87ms/step - loss: 1.8862 - accuracy: 0.5258 - val_loss: 2.3565 - val_accuracy: 0.4295 - lr: 0.0010\n",
            "Learning rate:  0.001\n",
            "Epoch 25/300\n",
            "391/391 [==============================] - ETA: 0s - loss: 1.8549 - accuracy: 0.5320WARNING:tensorflow:Can save best model only with val_acc available, skipping.\n",
            "391/391 [==============================] - 34s 88ms/step - loss: 1.8549 - accuracy: 0.5320 - val_loss: 2.3040 - val_accuracy: 0.4437 - lr: 0.0010\n",
            "Learning rate:  0.001\n",
            "Epoch 26/300\n",
            "391/391 [==============================] - ETA: 0s - loss: 1.8326 - accuracy: 0.5361WARNING:tensorflow:Can save best model only with val_acc available, skipping.\n",
            "391/391 [==============================] - 34s 87ms/step - loss: 1.8326 - accuracy: 0.5361 - val_loss: 2.2102 - val_accuracy: 0.4557 - lr: 0.0010\n",
            "Learning rate:  0.001\n",
            "Epoch 27/300\n",
            "391/391 [==============================] - ETA: 0s - loss: 1.8141 - accuracy: 0.5410WARNING:tensorflow:Can save best model only with val_acc available, skipping.\n",
            "391/391 [==============================] - 34s 88ms/step - loss: 1.8141 - accuracy: 0.5410 - val_loss: 2.2383 - val_accuracy: 0.4549 - lr: 0.0010\n",
            "Learning rate:  0.001\n",
            "Epoch 28/300\n",
            "391/391 [==============================] - ETA: 0s - loss: 1.7997 - accuracy: 0.5415WARNING:tensorflow:Can save best model only with val_acc available, skipping.\n",
            "391/391 [==============================] - 34s 88ms/step - loss: 1.7997 - accuracy: 0.5415 - val_loss: 2.2731 - val_accuracy: 0.4523 - lr: 0.0010\n",
            "Learning rate:  0.001\n",
            "Epoch 29/300\n",
            "391/391 [==============================] - ETA: 0s - loss: 1.7811 - accuracy: 0.5493WARNING:tensorflow:Can save best model only with val_acc available, skipping.\n",
            "391/391 [==============================] - 34s 87ms/step - loss: 1.7811 - accuracy: 0.5493 - val_loss: 2.1867 - val_accuracy: 0.4644 - lr: 0.0010\n",
            "Learning rate:  0.001\n",
            "Epoch 30/300\n",
            "391/391 [==============================] - ETA: 0s - loss: 1.7600 - accuracy: 0.5540WARNING:tensorflow:Can save best model only with val_acc available, skipping.\n",
            "391/391 [==============================] - 34s 88ms/step - loss: 1.7600 - accuracy: 0.5540 - val_loss: 2.2696 - val_accuracy: 0.4507 - lr: 0.0010\n",
            "Learning rate:  0.001\n",
            "Epoch 31/300\n",
            "391/391 [==============================] - ETA: 0s - loss: 1.7474 - accuracy: 0.5582WARNING:tensorflow:Can save best model only with val_acc available, skipping.\n",
            "391/391 [==============================] - 34s 87ms/step - loss: 1.7474 - accuracy: 0.5582 - val_loss: 2.3885 - val_accuracy: 0.4327 - lr: 0.0010\n",
            "Learning rate:  0.001\n",
            "Epoch 32/300\n",
            "391/391 [==============================] - ETA: 0s - loss: 1.7305 - accuracy: 0.5604WARNING:tensorflow:Can save best model only with val_acc available, skipping.\n",
            "391/391 [==============================] - 35s 88ms/step - loss: 1.7305 - accuracy: 0.5604 - val_loss: 2.3470 - val_accuracy: 0.4439 - lr: 0.0010\n",
            "Learning rate:  0.001\n",
            "Epoch 33/300\n",
            "391/391 [==============================] - ETA: 0s - loss: 1.7075 - accuracy: 0.5664WARNING:tensorflow:Can save best model only with val_acc available, skipping.\n",
            "391/391 [==============================] - 34s 86ms/step - loss: 1.7075 - accuracy: 0.5664 - val_loss: 2.6335 - val_accuracy: 0.4044 - lr: 0.0010\n",
            "Learning rate:  0.001\n",
            "Epoch 34/300\n",
            "391/391 [==============================] - ETA: 0s - loss: 1.6968 - accuracy: 0.5698WARNING:tensorflow:Can save best model only with val_acc available, skipping.\n",
            "391/391 [==============================] - 34s 88ms/step - loss: 1.6968 - accuracy: 0.5698 - val_loss: 2.1971 - val_accuracy: 0.4668 - lr: 3.1623e-04\n",
            "Learning rate:  0.001\n",
            "Epoch 35/300\n",
            "391/391 [==============================] - ETA: 0s - loss: 1.6880 - accuracy: 0.5733WARNING:tensorflow:Can save best model only with val_acc available, skipping.\n",
            "391/391 [==============================] - 35s 89ms/step - loss: 1.6880 - accuracy: 0.5733 - val_loss: 2.3276 - val_accuracy: 0.4483 - lr: 0.0010\n",
            "Learning rate:  0.001\n",
            "Epoch 36/300\n",
            "391/391 [==============================] - ETA: 0s - loss: 1.6718 - accuracy: 0.5742WARNING:tensorflow:Can save best model only with val_acc available, skipping.\n",
            "391/391 [==============================] - 34s 86ms/step - loss: 1.6718 - accuracy: 0.5742 - val_loss: 2.1443 - val_accuracy: 0.4875 - lr: 0.0010\n",
            "Learning rate:  0.001\n",
            "Epoch 37/300\n",
            "391/391 [==============================] - ETA: 0s - loss: 1.6554 - accuracy: 0.5794WARNING:tensorflow:Can save best model only with val_acc available, skipping.\n",
            "391/391 [==============================] - 35s 90ms/step - loss: 1.6554 - accuracy: 0.5794 - val_loss: 2.1598 - val_accuracy: 0.4807 - lr: 0.0010\n",
            "Learning rate:  0.001\n",
            "Epoch 38/300\n",
            "391/391 [==============================] - ETA: 0s - loss: 1.6461 - accuracy: 0.5812WARNING:tensorflow:Can save best model only with val_acc available, skipping.\n",
            "391/391 [==============================] - 33s 85ms/step - loss: 1.6461 - accuracy: 0.5812 - val_loss: 2.1020 - val_accuracy: 0.4792 - lr: 0.0010\n",
            "Learning rate:  0.001\n",
            "Epoch 39/300\n",
            "391/391 [==============================] - ETA: 0s - loss: 1.6337 - accuracy: 0.5851WARNING:tensorflow:Can save best model only with val_acc available, skipping.\n",
            "391/391 [==============================] - 34s 87ms/step - loss: 1.6337 - accuracy: 0.5851 - val_loss: 2.1662 - val_accuracy: 0.4848 - lr: 0.0010\n",
            "Learning rate:  0.001\n",
            "Epoch 40/300\n",
            "391/391 [==============================] - ETA: 0s - loss: 1.6223 - accuracy: 0.5874WARNING:tensorflow:Can save best model only with val_acc available, skipping.\n",
            "391/391 [==============================] - 33s 85ms/step - loss: 1.6223 - accuracy: 0.5874 - val_loss: 2.5200 - val_accuracy: 0.4209 - lr: 0.0010\n",
            "Learning rate:  0.001\n",
            "Epoch 41/300\n",
            "391/391 [==============================] - ETA: 0s - loss: 1.6167 - accuracy: 0.5899WARNING:tensorflow:Can save best model only with val_acc available, skipping.\n",
            "391/391 [==============================] - 34s 86ms/step - loss: 1.6167 - accuracy: 0.5899 - val_loss: 2.2924 - val_accuracy: 0.4617 - lr: 0.0010\n",
            "Learning rate:  0.001\n",
            "Epoch 42/300\n",
            "391/391 [==============================] - ETA: 0s - loss: 1.6007 - accuracy: 0.5930WARNING:tensorflow:Can save best model only with val_acc available, skipping.\n",
            "391/391 [==============================] - 35s 88ms/step - loss: 1.6007 - accuracy: 0.5930 - val_loss: 2.2166 - val_accuracy: 0.4672 - lr: 0.0010\n",
            "Learning rate:  0.001\n",
            "Epoch 43/300\n",
            "391/391 [==============================] - ETA: 0s - loss: 1.5893 - accuracy: 0.5975WARNING:tensorflow:Can save best model only with val_acc available, skipping.\n",
            "391/391 [==============================] - 34s 86ms/step - loss: 1.5893 - accuracy: 0.5975 - val_loss: 2.0222 - val_accuracy: 0.5055 - lr: 0.0010\n",
            "Learning rate:  0.001\n",
            "Epoch 44/300\n",
            "391/391 [==============================] - ETA: 0s - loss: 1.5759 - accuracy: 0.6023WARNING:tensorflow:Can save best model only with val_acc available, skipping.\n",
            "391/391 [==============================] - 34s 87ms/step - loss: 1.5759 - accuracy: 0.6023 - val_loss: 2.2499 - val_accuracy: 0.4687 - lr: 0.0010\n",
            "Learning rate:  0.001\n",
            "Epoch 45/300\n",
            "391/391 [==============================] - ETA: 0s - loss: 1.5701 - accuracy: 0.6013WARNING:tensorflow:Can save best model only with val_acc available, skipping.\n",
            "391/391 [==============================] - 33s 85ms/step - loss: 1.5701 - accuracy: 0.6013 - val_loss: 2.1648 - val_accuracy: 0.4736 - lr: 0.0010\n",
            "Learning rate:  0.001\n",
            "Epoch 46/300\n",
            "391/391 [==============================] - ETA: 0s - loss: 1.5601 - accuracy: 0.6061WARNING:tensorflow:Can save best model only with val_acc available, skipping.\n",
            "391/391 [==============================] - 34s 86ms/step - loss: 1.5601 - accuracy: 0.6061 - val_loss: 2.1357 - val_accuracy: 0.4935 - lr: 0.0010\n",
            "Learning rate:  0.001\n",
            "Epoch 47/300\n",
            "391/391 [==============================] - ETA: 0s - loss: 1.5549 - accuracy: 0.6057WARNING:tensorflow:Can save best model only with val_acc available, skipping.\n",
            "391/391 [==============================] - 33s 85ms/step - loss: 1.5549 - accuracy: 0.6057 - val_loss: 2.4456 - val_accuracy: 0.4411 - lr: 0.0010\n",
            "Learning rate:  0.001\n",
            "Epoch 48/300\n",
            "391/391 [==============================] - ETA: 0s - loss: 1.5482 - accuracy: 0.6084WARNING:tensorflow:Can save best model only with val_acc available, skipping.\n",
            "391/391 [==============================] - 34s 87ms/step - loss: 1.5482 - accuracy: 0.6084 - val_loss: 2.1508 - val_accuracy: 0.4893 - lr: 3.1623e-04\n",
            "Learning rate:  0.001\n",
            "Epoch 49/300\n",
            "391/391 [==============================] - ETA: 0s - loss: 1.5382 - accuracy: 0.6104WARNING:tensorflow:Can save best model only with val_acc available, skipping.\n",
            "391/391 [==============================] - 34s 86ms/step - loss: 1.5382 - accuracy: 0.6104 - val_loss: 2.1121 - val_accuracy: 0.4983 - lr: 0.0010\n",
            "Learning rate:  0.001\n",
            "Epoch 50/300\n",
            "391/391 [==============================] - ETA: 0s - loss: 1.5252 - accuracy: 0.6126WARNING:tensorflow:Can save best model only with val_acc available, skipping.\n",
            "391/391 [==============================] - 34s 86ms/step - loss: 1.5252 - accuracy: 0.6126 - val_loss: 2.0634 - val_accuracy: 0.5061 - lr: 0.0010\n",
            "Learning rate:  0.001\n",
            "Epoch 51/300\n",
            "391/391 [==============================] - ETA: 0s - loss: 1.5158 - accuracy: 0.6193WARNING:tensorflow:Can save best model only with val_acc available, skipping.\n",
            "391/391 [==============================] - 34s 86ms/step - loss: 1.5158 - accuracy: 0.6193 - val_loss: 2.0286 - val_accuracy: 0.5109 - lr: 0.0010\n",
            "Learning rate:  0.001\n",
            "Epoch 52/300\n",
            "391/391 [==============================] - ETA: 0s - loss: 1.5088 - accuracy: 0.6183WARNING:tensorflow:Can save best model only with val_acc available, skipping.\n",
            "391/391 [==============================] - 34s 86ms/step - loss: 1.5088 - accuracy: 0.6183 - val_loss: 1.9884 - val_accuracy: 0.5248 - lr: 0.0010\n",
            "Learning rate:  0.001\n",
            "Epoch 53/300\n",
            "391/391 [==============================] - ETA: 0s - loss: 1.5005 - accuracy: 0.6200WARNING:tensorflow:Can save best model only with val_acc available, skipping.\n",
            "391/391 [==============================] - 34s 86ms/step - loss: 1.5005 - accuracy: 0.6200 - val_loss: 2.3250 - val_accuracy: 0.4685 - lr: 0.0010\n",
            "Learning rate:  0.001\n",
            "Epoch 54/300\n",
            "391/391 [==============================] - ETA: 0s - loss: 1.4979 - accuracy: 0.6199WARNING:tensorflow:Can save best model only with val_acc available, skipping.\n",
            "391/391 [==============================] - 33s 84ms/step - loss: 1.4979 - accuracy: 0.6199 - val_loss: 2.0537 - val_accuracy: 0.5093 - lr: 0.0010\n",
            "Learning rate:  0.001\n",
            "Epoch 55/300\n",
            "391/391 [==============================] - ETA: 0s - loss: 1.4840 - accuracy: 0.6217WARNING:tensorflow:Can save best model only with val_acc available, skipping.\n",
            "391/391 [==============================] - 33s 85ms/step - loss: 1.4840 - accuracy: 0.6217 - val_loss: 2.1280 - val_accuracy: 0.4917 - lr: 0.0010\n",
            "Learning rate:  0.001\n",
            "Epoch 56/300\n",
            "391/391 [==============================] - ETA: 0s - loss: 1.4828 - accuracy: 0.6273WARNING:tensorflow:Can save best model only with val_acc available, skipping.\n",
            "391/391 [==============================] - 33s 84ms/step - loss: 1.4828 - accuracy: 0.6273 - val_loss: 2.0394 - val_accuracy: 0.5128 - lr: 0.0010\n",
            "Learning rate:  0.001\n",
            "Epoch 57/300\n",
            "391/391 [==============================] - ETA: 0s - loss: 1.4696 - accuracy: 0.6275WARNING:tensorflow:Can save best model only with val_acc available, skipping.\n",
            "391/391 [==============================] - 34s 86ms/step - loss: 1.4696 - accuracy: 0.6275 - val_loss: 2.2119 - val_accuracy: 0.4880 - lr: 3.1623e-04\n",
            "Learning rate:  0.001\n",
            "Epoch 58/300\n",
            "391/391 [==============================] - ETA: 0s - loss: 1.4632 - accuracy: 0.6306WARNING:tensorflow:Can save best model only with val_acc available, skipping.\n",
            "391/391 [==============================] - 34s 86ms/step - loss: 1.4632 - accuracy: 0.6306 - val_loss: 2.2706 - val_accuracy: 0.4823 - lr: 0.0010\n",
            "Learning rate:  0.001\n",
            "Epoch 59/300\n",
            "391/391 [==============================] - ETA: 0s - loss: 1.4522 - accuracy: 0.6321WARNING:tensorflow:Can save best model only with val_acc available, skipping.\n",
            "391/391 [==============================] - 33s 85ms/step - loss: 1.4522 - accuracy: 0.6321 - val_loss: 2.1269 - val_accuracy: 0.5053 - lr: 0.0010\n",
            "Learning rate:  0.001\n",
            "Epoch 60/300\n",
            "391/391 [==============================] - ETA: 0s - loss: 1.4553 - accuracy: 0.6308WARNING:tensorflow:Can save best model only with val_acc available, skipping.\n",
            "391/391 [==============================] - 34s 87ms/step - loss: 1.4553 - accuracy: 0.6308 - val_loss: 2.0689 - val_accuracy: 0.5050 - lr: 0.0010\n",
            "Learning rate:  0.001\n",
            "Epoch 61/300\n",
            "391/391 [==============================] - ETA: 0s - loss: 1.4429 - accuracy: 0.6327WARNING:tensorflow:Can save best model only with val_acc available, skipping.\n",
            "391/391 [==============================] - 33s 86ms/step - loss: 1.4429 - accuracy: 0.6327 - val_loss: 2.0955 - val_accuracy: 0.5031 - lr: 0.0010\n",
            "Learning rate:  0.001\n",
            "Epoch 62/300\n",
            "391/391 [==============================] - ETA: 0s - loss: 1.4417 - accuracy: 0.6350WARNING:tensorflow:Can save best model only with val_acc available, skipping.\n",
            "391/391 [==============================] - 34s 86ms/step - loss: 1.4417 - accuracy: 0.6350 - val_loss: 2.0679 - val_accuracy: 0.5091 - lr: 3.1623e-04\n",
            "Learning rate:  0.001\n",
            "Epoch 63/300\n",
            "391/391 [==============================] - ETA: 0s - loss: 1.4339 - accuracy: 0.6363WARNING:tensorflow:Can save best model only with val_acc available, skipping.\n",
            "391/391 [==============================] - 33s 85ms/step - loss: 1.4339 - accuracy: 0.6363 - val_loss: 2.1431 - val_accuracy: 0.5013 - lr: 0.0010\n",
            "Learning rate:  0.001\n",
            "Epoch 64/300\n",
            "391/391 [==============================] - ETA: 0s - loss: 1.4282 - accuracy: 0.6379WARNING:tensorflow:Can save best model only with val_acc available, skipping.\n",
            "391/391 [==============================] - 34s 87ms/step - loss: 1.4282 - accuracy: 0.6379 - val_loss: 2.0779 - val_accuracy: 0.5022 - lr: 0.0010\n",
            "Learning rate:  0.001\n",
            "Epoch 65/300\n",
            "391/391 [==============================] - ETA: 0s - loss: 1.4230 - accuracy: 0.6386WARNING:tensorflow:Can save best model only with val_acc available, skipping.\n",
            "391/391 [==============================] - 35s 88ms/step - loss: 1.4230 - accuracy: 0.6386 - val_loss: 1.9141 - val_accuracy: 0.5368 - lr: 0.0010\n",
            "Learning rate:  0.001\n",
            "Epoch 66/300\n",
            "391/391 [==============================] - ETA: 0s - loss: 1.4177 - accuracy: 0.6412WARNING:tensorflow:Can save best model only with val_acc available, skipping.\n",
            "391/391 [==============================] - 34s 87ms/step - loss: 1.4177 - accuracy: 0.6412 - val_loss: 2.3185 - val_accuracy: 0.4791 - lr: 0.0010\n",
            "Learning rate:  0.001\n",
            "Epoch 67/300\n",
            "391/391 [==============================] - ETA: 0s - loss: 1.4099 - accuracy: 0.6420WARNING:tensorflow:Can save best model only with val_acc available, skipping.\n",
            "391/391 [==============================] - 34s 88ms/step - loss: 1.4099 - accuracy: 0.6420 - val_loss: 2.0484 - val_accuracy: 0.5179 - lr: 0.0010\n",
            "Learning rate:  0.001\n",
            "Epoch 68/300\n",
            "391/391 [==============================] - ETA: 0s - loss: 1.4044 - accuracy: 0.6428WARNING:tensorflow:Can save best model only with val_acc available, skipping.\n",
            "391/391 [==============================] - 33s 85ms/step - loss: 1.4044 - accuracy: 0.6428 - val_loss: 2.0608 - val_accuracy: 0.5134 - lr: 0.0010\n",
            "Learning rate:  0.001\n",
            "Epoch 69/300\n",
            "391/391 [==============================] - ETA: 0s - loss: 1.3952 - accuracy: 0.6457WARNING:tensorflow:Can save best model only with val_acc available, skipping.\n",
            "391/391 [==============================] - 34s 87ms/step - loss: 1.3952 - accuracy: 0.6457 - val_loss: 2.0724 - val_accuracy: 0.5073 - lr: 0.0010\n",
            "Learning rate:  0.001\n",
            "Epoch 70/300\n",
            "391/391 [==============================] - ETA: 0s - loss: 1.4013 - accuracy: 0.6461WARNING:tensorflow:Can save best model only with val_acc available, skipping.\n",
            "391/391 [==============================] - 33s 85ms/step - loss: 1.4013 - accuracy: 0.6461 - val_loss: 2.1403 - val_accuracy: 0.5060 - lr: 3.1623e-04\n",
            "Learning rate:  0.001\n",
            "Epoch 71/300\n",
            "391/391 [==============================] - ETA: 0s - loss: 1.3927 - accuracy: 0.6477WARNING:tensorflow:Can save best model only with val_acc available, skipping.\n",
            "391/391 [==============================] - 34s 88ms/step - loss: 1.3927 - accuracy: 0.6477 - val_loss: 2.1747 - val_accuracy: 0.5002 - lr: 0.0010\n",
            "Learning rate:  0.001\n",
            "Epoch 72/300\n",
            "391/391 [==============================] - ETA: 0s - loss: 1.3872 - accuracy: 0.6492WARNING:tensorflow:Can save best model only with val_acc available, skipping.\n",
            "391/391 [==============================] - 34s 87ms/step - loss: 1.3872 - accuracy: 0.6492 - val_loss: 1.9966 - val_accuracy: 0.5266 - lr: 0.0010\n",
            "Learning rate:  0.001\n",
            "Epoch 73/300\n",
            "391/391 [==============================] - ETA: 0s - loss: 1.3869 - accuracy: 0.6500WARNING:tensorflow:Can save best model only with val_acc available, skipping.\n",
            "391/391 [==============================] - 34s 87ms/step - loss: 1.3869 - accuracy: 0.6500 - val_loss: 2.4324 - val_accuracy: 0.4745 - lr: 0.0010\n",
            "Learning rate:  0.001\n",
            "Epoch 74/300\n",
            "391/391 [==============================] - ETA: 0s - loss: 1.3700 - accuracy: 0.6506WARNING:tensorflow:Can save best model only with val_acc available, skipping.\n",
            "391/391 [==============================] - 34s 86ms/step - loss: 1.3700 - accuracy: 0.6506 - val_loss: 2.0480 - val_accuracy: 0.5147 - lr: 0.0010\n",
            "Learning rate:  0.001\n",
            "Epoch 75/300\n",
            "391/391 [==============================] - ETA: 0s - loss: 1.3702 - accuracy: 0.6543WARNING:tensorflow:Can save best model only with val_acc available, skipping.\n",
            "391/391 [==============================] - 34s 86ms/step - loss: 1.3702 - accuracy: 0.6543 - val_loss: 2.2001 - val_accuracy: 0.5037 - lr: 3.1623e-04\n",
            "Learning rate:  0.001\n",
            "Epoch 76/300\n",
            "391/391 [==============================] - ETA: 0s - loss: 1.3681 - accuracy: 0.6569WARNING:tensorflow:Can save best model only with val_acc available, skipping.\n",
            "391/391 [==============================] - 34s 88ms/step - loss: 1.3681 - accuracy: 0.6569 - val_loss: 2.7696 - val_accuracy: 0.4209 - lr: 0.0010\n",
            "Learning rate:  0.001\n",
            "Epoch 77/300\n",
            "391/391 [==============================] - ETA: 0s - loss: 1.3672 - accuracy: 0.6536WARNING:tensorflow:Can save best model only with val_acc available, skipping.\n",
            "391/391 [==============================] - 34s 86ms/step - loss: 1.3672 - accuracy: 0.6536 - val_loss: 2.1313 - val_accuracy: 0.4988 - lr: 0.0010\n",
            "Learning rate:  0.001\n",
            "Epoch 78/300\n",
            "391/391 [==============================] - ETA: 0s - loss: 1.3585 - accuracy: 0.6560WARNING:tensorflow:Can save best model only with val_acc available, skipping.\n",
            "391/391 [==============================] - 35s 88ms/step - loss: 1.3585 - accuracy: 0.6560 - val_loss: 2.2131 - val_accuracy: 0.4976 - lr: 0.0010\n",
            "Learning rate:  0.001\n",
            "Epoch 79/300\n",
            "391/391 [==============================] - ETA: 0s - loss: 1.3545 - accuracy: 0.6585WARNING:tensorflow:Can save best model only with val_acc available, skipping.\n",
            "391/391 [==============================] - 34s 88ms/step - loss: 1.3545 - accuracy: 0.6585 - val_loss: 2.0196 - val_accuracy: 0.5286 - lr: 0.0010\n",
            "Learning rate:  0.001\n",
            "Epoch 80/300\n",
            "391/391 [==============================] - ETA: 0s - loss: 1.3485 - accuracy: 0.6577WARNING:tensorflow:Can save best model only with val_acc available, skipping.\n",
            "391/391 [==============================] - 34s 87ms/step - loss: 1.3485 - accuracy: 0.6577 - val_loss: 2.0350 - val_accuracy: 0.5266 - lr: 3.1623e-04\n",
            "Learning rate:  0.001\n",
            "Epoch 81/300\n",
            "391/391 [==============================] - ETA: 0s - loss: 1.3468 - accuracy: 0.6596WARNING:tensorflow:Can save best model only with val_acc available, skipping.\n",
            "391/391 [==============================] - 34s 87ms/step - loss: 1.3468 - accuracy: 0.6596 - val_loss: 2.0034 - val_accuracy: 0.5252 - lr: 0.0010\n",
            "Learning rate:  0.0001\n",
            "Epoch 82/300\n",
            "391/391 [==============================] - ETA: 0s - loss: 1.2237 - accuracy: 0.6953WARNING:tensorflow:Can save best model only with val_acc available, skipping.\n",
            "391/391 [==============================] - 34s 86ms/step - loss: 1.2237 - accuracy: 0.6953 - val_loss: 1.7161 - val_accuracy: 0.5855 - lr: 1.0000e-04\n",
            "Learning rate:  0.0001\n",
            "Epoch 83/300\n",
            "391/391 [==============================] - ETA: 0s - loss: 1.1948 - accuracy: 0.7033WARNING:tensorflow:Can save best model only with val_acc available, skipping.\n",
            "391/391 [==============================] - 35s 88ms/step - loss: 1.1948 - accuracy: 0.7033 - val_loss: 1.7089 - val_accuracy: 0.5863 - lr: 1.0000e-04\n",
            "Learning rate:  0.0001\n",
            "Epoch 84/300\n",
            "391/391 [==============================] - ETA: 0s - loss: 1.1786 - accuracy: 0.7091WARNING:tensorflow:Can save best model only with val_acc available, skipping.\n",
            "391/391 [==============================] - 34s 87ms/step - loss: 1.1786 - accuracy: 0.7091 - val_loss: 1.7119 - val_accuracy: 0.5863 - lr: 1.0000e-04\n",
            "Learning rate:  0.0001\n",
            "Epoch 85/300\n",
            "391/391 [==============================] - ETA: 0s - loss: 1.1762 - accuracy: 0.7079WARNING:tensorflow:Can save best model only with val_acc available, skipping.\n",
            "391/391 [==============================] - 34s 87ms/step - loss: 1.1762 - accuracy: 0.7079 - val_loss: 1.7240 - val_accuracy: 0.5871 - lr: 1.0000e-04\n",
            "Learning rate:  0.0001\n",
            "Epoch 86/300\n",
            "391/391 [==============================] - ETA: 0s - loss: 1.1734 - accuracy: 0.7090WARNING:tensorflow:Can save best model only with val_acc available, skipping.\n",
            "391/391 [==============================] - 34s 87ms/step - loss: 1.1734 - accuracy: 0.7090 - val_loss: 1.7177 - val_accuracy: 0.5896 - lr: 1.0000e-04\n",
            "Learning rate:  0.0001\n",
            "Epoch 87/300\n",
            "391/391 [==============================] - ETA: 0s - loss: 1.1633 - accuracy: 0.7111WARNING:tensorflow:Can save best model only with val_acc available, skipping.\n",
            "391/391 [==============================] - 34s 87ms/step - loss: 1.1633 - accuracy: 0.7111 - val_loss: 1.7065 - val_accuracy: 0.5912 - lr: 1.0000e-04\n",
            "Learning rate:  0.0001\n",
            "Epoch 88/300\n",
            "391/391 [==============================] - ETA: 0s - loss: 1.1635 - accuracy: 0.7105WARNING:tensorflow:Can save best model only with val_acc available, skipping.\n",
            "391/391 [==============================] - 34s 88ms/step - loss: 1.1635 - accuracy: 0.7105 - val_loss: 1.7031 - val_accuracy: 0.5891 - lr: 1.0000e-04\n",
            "Learning rate:  0.0001\n",
            "Epoch 89/300\n",
            "391/391 [==============================] - ETA: 0s - loss: 1.1576 - accuracy: 0.7133WARNING:tensorflow:Can save best model only with val_acc available, skipping.\n",
            "391/391 [==============================] - 34s 87ms/step - loss: 1.1576 - accuracy: 0.7133 - val_loss: 1.7017 - val_accuracy: 0.5909 - lr: 1.0000e-04\n",
            "Learning rate:  0.0001\n",
            "Epoch 90/300\n",
            "391/391 [==============================] - ETA: 0s - loss: 1.1539 - accuracy: 0.7140WARNING:tensorflow:Can save best model only with val_acc available, skipping.\n",
            "391/391 [==============================] - 35s 89ms/step - loss: 1.1539 - accuracy: 0.7140 - val_loss: 1.7110 - val_accuracy: 0.5907 - lr: 1.0000e-04\n",
            "Learning rate:  0.0001\n",
            "Epoch 91/300\n",
            "391/391 [==============================] - ETA: 0s - loss: 1.1507 - accuracy: 0.7141WARNING:tensorflow:Can save best model only with val_acc available, skipping.\n",
            "391/391 [==============================] - 34s 87ms/step - loss: 1.1507 - accuracy: 0.7141 - val_loss: 1.7010 - val_accuracy: 0.5931 - lr: 1.0000e-04\n",
            "Learning rate:  0.0001\n",
            "Epoch 92/300\n",
            "391/391 [==============================] - ETA: 0s - loss: 1.1491 - accuracy: 0.7167WARNING:tensorflow:Can save best model only with val_acc available, skipping.\n",
            "391/391 [==============================] - 34s 88ms/step - loss: 1.1491 - accuracy: 0.7167 - val_loss: 1.7136 - val_accuracy: 0.5868 - lr: 1.0000e-04\n",
            "Learning rate:  0.0001\n",
            "Epoch 93/300\n",
            "391/391 [==============================] - ETA: 0s - loss: 1.1485 - accuracy: 0.7143WARNING:tensorflow:Can save best model only with val_acc available, skipping.\n",
            "391/391 [==============================] - 35s 89ms/step - loss: 1.1485 - accuracy: 0.7143 - val_loss: 1.7056 - val_accuracy: 0.5909 - lr: 1.0000e-04\n",
            "Learning rate:  0.0001\n",
            "Epoch 94/300\n",
            "391/391 [==============================] - ETA: 0s - loss: 1.1470 - accuracy: 0.7153WARNING:tensorflow:Can save best model only with val_acc available, skipping.\n",
            "391/391 [==============================] - 34s 86ms/step - loss: 1.1470 - accuracy: 0.7153 - val_loss: 1.7073 - val_accuracy: 0.5923 - lr: 1.0000e-04\n",
            "Learning rate:  0.0001\n",
            "Epoch 95/300\n",
            "391/391 [==============================] - ETA: 0s - loss: 1.1524 - accuracy: 0.7128WARNING:tensorflow:Can save best model only with val_acc available, skipping.\n",
            "391/391 [==============================] - 34s 87ms/step - loss: 1.1524 - accuracy: 0.7128 - val_loss: 1.7764 - val_accuracy: 0.5774 - lr: 1.0000e-04\n",
            "Learning rate:  0.0001\n",
            "Epoch 96/300\n",
            "391/391 [==============================] - ETA: 0s - loss: 1.1445 - accuracy: 0.7170WARNING:tensorflow:Can save best model only with val_acc available, skipping.\n",
            "391/391 [==============================] - 33s 86ms/step - loss: 1.1445 - accuracy: 0.7170 - val_loss: 1.7205 - val_accuracy: 0.5880 - lr: 3.1623e-05\n",
            "Learning rate:  0.0001\n",
            "Epoch 97/300\n",
            "391/391 [==============================] - ETA: 0s - loss: 1.1442 - accuracy: 0.7152WARNING:tensorflow:Can save best model only with val_acc available, skipping.\n",
            "391/391 [==============================] - 34s 87ms/step - loss: 1.1442 - accuracy: 0.7152 - val_loss: 1.7118 - val_accuracy: 0.5894 - lr: 1.0000e-04\n",
            "Learning rate:  0.0001\n",
            "Epoch 98/300\n",
            "391/391 [==============================] - ETA: 0s - loss: 1.1424 - accuracy: 0.7169WARNING:tensorflow:Can save best model only with val_acc available, skipping.\n",
            "391/391 [==============================] - 34s 87ms/step - loss: 1.1424 - accuracy: 0.7169 - val_loss: 1.7492 - val_accuracy: 0.5822 - lr: 1.0000e-04\n",
            "Learning rate:  0.0001\n",
            "Epoch 99/300\n",
            "391/391 [==============================] - ETA: 0s - loss: 1.1316 - accuracy: 0.7192WARNING:tensorflow:Can save best model only with val_acc available, skipping.\n",
            "391/391 [==============================] - 34s 87ms/step - loss: 1.1316 - accuracy: 0.7192 - val_loss: 1.7353 - val_accuracy: 0.5882 - lr: 1.0000e-04\n",
            "Learning rate:  0.0001\n",
            "Epoch 100/300\n",
            "391/391 [==============================] - ETA: 0s - loss: 1.1328 - accuracy: 0.7166WARNING:tensorflow:Can save best model only with val_acc available, skipping.\n",
            "391/391 [==============================] - 35s 88ms/step - loss: 1.1328 - accuracy: 0.7166 - val_loss: 1.7159 - val_accuracy: 0.5899 - lr: 1.0000e-04\n",
            "Learning rate:  0.0001\n",
            "Epoch 101/300\n",
            "391/391 [==============================] - ETA: 0s - loss: 1.1321 - accuracy: 0.7185WARNING:tensorflow:Can save best model only with val_acc available, skipping.\n",
            "391/391 [==============================] - 33s 85ms/step - loss: 1.1321 - accuracy: 0.7185 - val_loss: 1.6994 - val_accuracy: 0.5973 - lr: 1.0000e-04\n",
            "Learning rate:  0.0001\n",
            "Epoch 102/300\n",
            "391/391 [==============================] - ETA: 0s - loss: 1.1259 - accuracy: 0.7210WARNING:tensorflow:Can save best model only with val_acc available, skipping.\n",
            "391/391 [==============================] - 34s 86ms/step - loss: 1.1259 - accuracy: 0.7210 - val_loss: 1.7194 - val_accuracy: 0.5900 - lr: 1.0000e-04\n",
            "Learning rate:  0.0001\n",
            "Epoch 103/300\n",
            "391/391 [==============================] - ETA: 0s - loss: 1.1367 - accuracy: 0.7166WARNING:tensorflow:Can save best model only with val_acc available, skipping.\n",
            "391/391 [==============================] - 33s 84ms/step - loss: 1.1367 - accuracy: 0.7166 - val_loss: 1.7431 - val_accuracy: 0.5871 - lr: 1.0000e-04\n",
            "Learning rate:  0.0001\n",
            "Epoch 104/300\n",
            "391/391 [==============================] - ETA: 0s - loss: 1.1301 - accuracy: 0.7173WARNING:tensorflow:Can save best model only with val_acc available, skipping.\n",
            "391/391 [==============================] - 34s 87ms/step - loss: 1.1301 - accuracy: 0.7173 - val_loss: 1.7170 - val_accuracy: 0.5894 - lr: 1.0000e-04\n",
            "Learning rate:  0.0001\n",
            "Epoch 105/300\n",
            "391/391 [==============================] - ETA: 0s - loss: 1.1265 - accuracy: 0.7193WARNING:tensorflow:Can save best model only with val_acc available, skipping.\n",
            "391/391 [==============================] - 33s 85ms/step - loss: 1.1265 - accuracy: 0.7193 - val_loss: 1.7330 - val_accuracy: 0.5866 - lr: 1.0000e-04\n",
            "Learning rate:  0.0001\n",
            "Epoch 106/300\n",
            "391/391 [==============================] - ETA: 0s - loss: 1.1244 - accuracy: 0.7199WARNING:tensorflow:Can save best model only with val_acc available, skipping.\n",
            "391/391 [==============================] - 34s 87ms/step - loss: 1.1244 - accuracy: 0.7199 - val_loss: 1.7322 - val_accuracy: 0.5872 - lr: 3.1623e-05\n",
            "Learning rate:  0.0001\n",
            "Epoch 107/300\n",
            "391/391 [==============================] - ETA: 0s - loss: 1.1238 - accuracy: 0.7205WARNING:tensorflow:Can save best model only with val_acc available, skipping.\n",
            "391/391 [==============================] - 34s 86ms/step - loss: 1.1238 - accuracy: 0.7205 - val_loss: 1.7187 - val_accuracy: 0.5891 - lr: 1.0000e-04\n",
            "Learning rate:  0.0001\n",
            "Epoch 108/300\n",
            "391/391 [==============================] - ETA: 0s - loss: 1.1231 - accuracy: 0.7178WARNING:tensorflow:Can save best model only with val_acc available, skipping.\n",
            "391/391 [==============================] - 33s 85ms/step - loss: 1.1231 - accuracy: 0.7178 - val_loss: 1.7237 - val_accuracy: 0.5881 - lr: 1.0000e-04\n",
            "Learning rate:  0.0001\n",
            "Epoch 109/300\n",
            "391/391 [==============================] - ETA: 0s - loss: 1.1150 - accuracy: 0.7216WARNING:tensorflow:Can save best model only with val_acc available, skipping.\n",
            "391/391 [==============================] - 34s 86ms/step - loss: 1.1150 - accuracy: 0.7216 - val_loss: 1.7086 - val_accuracy: 0.5931 - lr: 1.0000e-04\n",
            "Learning rate:  0.0001\n",
            "Epoch 110/300\n",
            "391/391 [==============================] - ETA: 0s - loss: 1.1143 - accuracy: 0.7212WARNING:tensorflow:Can save best model only with val_acc available, skipping.\n",
            "391/391 [==============================] - 33s 85ms/step - loss: 1.1143 - accuracy: 0.7212 - val_loss: 1.7221 - val_accuracy: 0.5889 - lr: 1.0000e-04\n",
            "Learning rate:  0.0001\n",
            "Epoch 111/300\n",
            "391/391 [==============================] - ETA: 0s - loss: 1.1193 - accuracy: 0.7203WARNING:tensorflow:Can save best model only with val_acc available, skipping.\n",
            "391/391 [==============================] - 34s 86ms/step - loss: 1.1193 - accuracy: 0.7203 - val_loss: 1.7320 - val_accuracy: 0.5905 - lr: 3.1623e-05\n",
            "Learning rate:  0.0001\n",
            "Epoch 112/300\n",
            "391/391 [==============================] - ETA: 0s - loss: 1.1172 - accuracy: 0.7188WARNING:tensorflow:Can save best model only with val_acc available, skipping.\n",
            "391/391 [==============================] - 33s 85ms/step - loss: 1.1172 - accuracy: 0.7188 - val_loss: 1.7262 - val_accuracy: 0.5894 - lr: 1.0000e-04\n",
            "Learning rate:  0.0001\n",
            "Epoch 113/300\n",
            "391/391 [==============================] - ETA: 0s - loss: 1.1165 - accuracy: 0.7202WARNING:tensorflow:Can save best model only with val_acc available, skipping.\n",
            "391/391 [==============================] - 33s 85ms/step - loss: 1.1165 - accuracy: 0.7202 - val_loss: 1.7389 - val_accuracy: 0.5828 - lr: 1.0000e-04\n",
            "Learning rate:  0.0001\n",
            "Epoch 114/300\n",
            "391/391 [==============================] - ETA: 0s - loss: 1.1101 - accuracy: 0.7227WARNING:tensorflow:Can save best model only with val_acc available, skipping.\n",
            "391/391 [==============================] - 32s 83ms/step - loss: 1.1101 - accuracy: 0.7227 - val_loss: 1.7195 - val_accuracy: 0.5906 - lr: 1.0000e-04\n",
            "Learning rate:  0.0001\n",
            "Epoch 115/300\n",
            "391/391 [==============================] - ETA: 0s - loss: 1.1108 - accuracy: 0.7231WARNING:tensorflow:Can save best model only with val_acc available, skipping.\n",
            "391/391 [==============================] - 33s 84ms/step - loss: 1.1108 - accuracy: 0.7231 - val_loss: 1.7080 - val_accuracy: 0.5917 - lr: 1.0000e-04\n",
            "Learning rate:  0.0001\n",
            "Epoch 116/300\n",
            "391/391 [==============================] - ETA: 0s - loss: 1.1101 - accuracy: 0.7213WARNING:tensorflow:Can save best model only with val_acc available, skipping.\n",
            "391/391 [==============================] - 33s 84ms/step - loss: 1.1101 - accuracy: 0.7213 - val_loss: 1.7448 - val_accuracy: 0.5871 - lr: 3.1623e-05\n",
            "Learning rate:  0.0001\n",
            "Epoch 117/300\n",
            "391/391 [==============================] - ETA: 0s - loss: 1.1132 - accuracy: 0.7223WARNING:tensorflow:Can save best model only with val_acc available, skipping.\n",
            "391/391 [==============================] - 32s 82ms/step - loss: 1.1132 - accuracy: 0.7223 - val_loss: 1.7217 - val_accuracy: 0.5919 - lr: 1.0000e-04\n",
            "Learning rate:  0.0001\n",
            "Epoch 118/300\n",
            "391/391 [==============================] - ETA: 0s - loss: 1.1110 - accuracy: 0.7221WARNING:tensorflow:Can save best model only with val_acc available, skipping.\n",
            "391/391 [==============================] - 33s 83ms/step - loss: 1.1110 - accuracy: 0.7221 - val_loss: 1.7417 - val_accuracy: 0.5858 - lr: 1.0000e-04\n",
            "Learning rate:  0.0001\n",
            "Epoch 119/300\n",
            "391/391 [==============================] - ETA: 0s - loss: 1.1056 - accuracy: 0.7213WARNING:tensorflow:Can save best model only with val_acc available, skipping.\n",
            "391/391 [==============================] - 32s 82ms/step - loss: 1.1056 - accuracy: 0.7213 - val_loss: 1.7073 - val_accuracy: 0.5895 - lr: 1.0000e-04\n",
            "Learning rate:  0.0001\n",
            "Epoch 120/300\n",
            "391/391 [==============================] - ETA: 0s - loss: 1.1071 - accuracy: 0.7234WARNING:tensorflow:Can save best model only with val_acc available, skipping.\n",
            "391/391 [==============================] - 33s 84ms/step - loss: 1.1071 - accuracy: 0.7234 - val_loss: 1.7223 - val_accuracy: 0.5915 - lr: 1.0000e-04\n",
            "Learning rate:  0.0001\n",
            "Epoch 121/300\n",
            "391/391 [==============================] - ETA: 0s - loss: 1.1027 - accuracy: 0.7240WARNING:tensorflow:Can save best model only with val_acc available, skipping.\n",
            "391/391 [==============================] - 32s 82ms/step - loss: 1.1027 - accuracy: 0.7240 - val_loss: 1.7571 - val_accuracy: 0.5844 - lr: 3.1623e-05\n",
            "Learning rate:  1e-05\n",
            "Epoch 122/300\n",
            "391/391 [==============================] - ETA: 0s - loss: 1.0911 - accuracy: 0.7277WARNING:tensorflow:Can save best model only with val_acc available, skipping.\n",
            "391/391 [==============================] - 33s 83ms/step - loss: 1.0911 - accuracy: 0.7277 - val_loss: 1.7196 - val_accuracy: 0.5938 - lr: 1.0000e-05\n",
            "Learning rate:  1e-05\n",
            "Epoch 123/300\n",
            "391/391 [==============================] - ETA: 0s - loss: 1.0948 - accuracy: 0.7246WARNING:tensorflow:Can save best model only with val_acc available, skipping.\n",
            "391/391 [==============================] - 32s 82ms/step - loss: 1.0948 - accuracy: 0.7246 - val_loss: 1.7199 - val_accuracy: 0.5911 - lr: 1.0000e-05\n",
            "Learning rate:  1e-05\n",
            "Epoch 124/300\n",
            "391/391 [==============================] - ETA: 0s - loss: 1.0961 - accuracy: 0.7239WARNING:tensorflow:Can save best model only with val_acc available, skipping.\n",
            "391/391 [==============================] - 33s 84ms/step - loss: 1.0961 - accuracy: 0.7239 - val_loss: 1.7268 - val_accuracy: 0.5892 - lr: 1.0000e-05\n",
            "Learning rate:  1e-05\n",
            "Epoch 125/300\n",
            "391/391 [==============================] - ETA: 0s - loss: 1.0988 - accuracy: 0.7236WARNING:tensorflow:Can save best model only with val_acc available, skipping.\n",
            "391/391 [==============================] - 32s 82ms/step - loss: 1.0988 - accuracy: 0.7236 - val_loss: 1.7230 - val_accuracy: 0.5909 - lr: 1.0000e-05\n",
            "Learning rate:  1e-05\n",
            "Epoch 126/300\n",
            "391/391 [==============================] - ETA: 0s - loss: 1.0922 - accuracy: 0.7261WARNING:tensorflow:Can save best model only with val_acc available, skipping.\n",
            "391/391 [==============================] - 32s 83ms/step - loss: 1.0922 - accuracy: 0.7261 - val_loss: 1.7234 - val_accuracy: 0.5913 - lr: 3.1623e-06\n",
            "Learning rate:  1e-05\n",
            "Epoch 127/300\n",
            "391/391 [==============================] - ETA: 0s - loss: 1.0968 - accuracy: 0.7270WARNING:tensorflow:Can save best model only with val_acc available, skipping.\n",
            "391/391 [==============================] - 33s 83ms/step - loss: 1.0968 - accuracy: 0.7270 - val_loss: 1.7291 - val_accuracy: 0.5898 - lr: 1.0000e-05\n",
            "Learning rate:  1e-05\n",
            "Epoch 128/300\n",
            "391/391 [==============================] - ETA: 0s - loss: 1.0989 - accuracy: 0.7225WARNING:tensorflow:Can save best model only with val_acc available, skipping.\n",
            "391/391 [==============================] - 32s 83ms/step - loss: 1.0989 - accuracy: 0.7225 - val_loss: 1.7199 - val_accuracy: 0.5908 - lr: 1.0000e-05\n",
            "Learning rate:  1e-05\n",
            "Epoch 129/300\n",
            "391/391 [==============================] - ETA: 0s - loss: 1.0935 - accuracy: 0.7263WARNING:tensorflow:Can save best model only with val_acc available, skipping.\n",
            "391/391 [==============================] - 33s 83ms/step - loss: 1.0935 - accuracy: 0.7263 - val_loss: 1.7186 - val_accuracy: 0.5913 - lr: 1.0000e-05\n",
            "Learning rate:  1e-05\n",
            "Epoch 130/300\n",
            "391/391 [==============================] - ETA: 0s - loss: 1.1185 - accuracy: 0.7194WARNING:tensorflow:Can save best model only with val_acc available, skipping.\n",
            "391/391 [==============================] - 32s 82ms/step - loss: 1.1185 - accuracy: 0.7194 - val_loss: 1.7331 - val_accuracy: 0.5857 - lr: 1.0000e-05\n",
            "Learning rate:  1e-05\n",
            "Epoch 131/300\n",
            "391/391 [==============================] - ETA: 0s - loss: 1.1151 - accuracy: 0.7203WARNING:tensorflow:Can save best model only with val_acc available, skipping.\n",
            "391/391 [==============================] - 32s 83ms/step - loss: 1.1151 - accuracy: 0.7203 - val_loss: 1.7320 - val_accuracy: 0.5868 - lr: 3.1623e-06\n",
            "Learning rate:  1e-05\n",
            "Epoch 132/300\n",
            "391/391 [==============================] - ETA: 0s - loss: 1.1035 - accuracy: 0.7238WARNING:tensorflow:Can save best model only with val_acc available, skipping.\n",
            "391/391 [==============================] - 32s 82ms/step - loss: 1.1035 - accuracy: 0.7238 - val_loss: 1.7237 - val_accuracy: 0.5884 - lr: 1.0000e-05\n",
            "Learning rate:  1e-05\n",
            "Epoch 133/300\n",
            "391/391 [==============================] - ETA: 0s - loss: 1.0997 - accuracy: 0.7241WARNING:tensorflow:Can save best model only with val_acc available, skipping.\n",
            "391/391 [==============================] - 32s 83ms/step - loss: 1.0997 - accuracy: 0.7241 - val_loss: 1.7246 - val_accuracy: 0.5870 - lr: 1.0000e-05\n",
            "Learning rate:  1e-05\n",
            "Epoch 134/300\n",
            "391/391 [==============================] - ETA: 0s - loss: 1.1141 - accuracy: 0.7172WARNING:tensorflow:Can save best model only with val_acc available, skipping.\n",
            "391/391 [==============================] - 32s 82ms/step - loss: 1.1141 - accuracy: 0.7172 - val_loss: 1.7407 - val_accuracy: 0.5834 - lr: 1.0000e-05\n",
            "Learning rate:  1e-05\n",
            "Epoch 135/300\n",
            "391/391 [==============================] - ETA: 0s - loss: 1.1164 - accuracy: 0.7177WARNING:tensorflow:Can save best model only with val_acc available, skipping.\n",
            "391/391 [==============================] - 33s 83ms/step - loss: 1.1164 - accuracy: 0.7177 - val_loss: 1.7327 - val_accuracy: 0.5881 - lr: 1.0000e-05\n",
            "Learning rate:  1e-05\n",
            "Epoch 136/300\n",
            "391/391 [==============================] - ETA: 0s - loss: 1.1048 - accuracy: 0.7234WARNING:tensorflow:Can save best model only with val_acc available, skipping.\n",
            "391/391 [==============================] - 32s 82ms/step - loss: 1.1048 - accuracy: 0.7234 - val_loss: 1.7320 - val_accuracy: 0.5895 - lr: 3.1623e-06\n",
            "Learning rate:  1e-05\n",
            "Epoch 137/300\n",
            "391/391 [==============================] - ETA: 0s - loss: 1.1081 - accuracy: 0.7209WARNING:tensorflow:Can save best model only with val_acc available, skipping.\n",
            "391/391 [==============================] - 33s 83ms/step - loss: 1.1081 - accuracy: 0.7209 - val_loss: 1.7342 - val_accuracy: 0.5879 - lr: 1.0000e-05\n",
            "Learning rate:  1e-05\n",
            "Epoch 138/300\n",
            "391/391 [==============================] - ETA: 0s - loss: 1.1154 - accuracy: 0.7200WARNING:tensorflow:Can save best model only with val_acc available, skipping.\n",
            "391/391 [==============================] - 32s 82ms/step - loss: 1.1154 - accuracy: 0.7200 - val_loss: 1.7310 - val_accuracy: 0.5861 - lr: 1.0000e-05\n",
            "Learning rate:  1e-05\n",
            "Epoch 139/300\n",
            "391/391 [==============================] - ETA: 0s - loss: 1.1131 - accuracy: 0.7226WARNING:tensorflow:Can save best model only with val_acc available, skipping.\n",
            "391/391 [==============================] - 32s 83ms/step - loss: 1.1131 - accuracy: 0.7226 - val_loss: 1.7239 - val_accuracy: 0.5880 - lr: 1.0000e-05\n",
            "Learning rate:  1e-05\n",
            "Epoch 140/300\n",
            "391/391 [==============================] - ETA: 0s - loss: 1.1081 - accuracy: 0.7225WARNING:tensorflow:Can save best model only with val_acc available, skipping.\n",
            "391/391 [==============================] - 33s 84ms/step - loss: 1.1081 - accuracy: 0.7225 - val_loss: 1.7398 - val_accuracy: 0.5865 - lr: 1.0000e-05\n",
            "Learning rate:  1e-05\n",
            "Epoch 141/300\n",
            "391/391 [==============================] - ETA: 0s - loss: 1.1019 - accuracy: 0.7245WARNING:tensorflow:Can save best model only with val_acc available, skipping.\n",
            "391/391 [==============================] - 32s 82ms/step - loss: 1.1019 - accuracy: 0.7245 - val_loss: 1.7410 - val_accuracy: 0.5877 - lr: 3.1623e-06\n",
            "Learning rate:  1e-05\n",
            "Epoch 142/300\n",
            "391/391 [==============================] - ETA: 0s - loss: 1.1158 - accuracy: 0.7203WARNING:tensorflow:Can save best model only with val_acc available, skipping.\n",
            "391/391 [==============================] - 33s 84ms/step - loss: 1.1158 - accuracy: 0.7203 - val_loss: 1.7371 - val_accuracy: 0.5869 - lr: 1.0000e-05\n",
            "Learning rate:  1e-05\n",
            "Epoch 143/300\n",
            "391/391 [==============================] - ETA: 0s - loss: 1.1072 - accuracy: 0.7203WARNING:tensorflow:Can save best model only with val_acc available, skipping.\n",
            "391/391 [==============================] - 32s 83ms/step - loss: 1.1072 - accuracy: 0.7203 - val_loss: 1.7245 - val_accuracy: 0.5878 - lr: 1.0000e-05\n",
            "Learning rate:  1e-05\n",
            "Epoch 144/300\n",
            "391/391 [==============================] - ETA: 0s - loss: 1.1026 - accuracy: 0.7238WARNING:tensorflow:Can save best model only with val_acc available, skipping.\n",
            "391/391 [==============================] - 33s 84ms/step - loss: 1.1026 - accuracy: 0.7238 - val_loss: 1.7372 - val_accuracy: 0.5875 - lr: 1.0000e-05\n",
            "Learning rate:  1e-05\n",
            "Epoch 145/300\n",
            "391/391 [==============================] - ETA: 0s - loss: 1.1102 - accuracy: 0.7217WARNING:tensorflow:Can save best model only with val_acc available, skipping.\n",
            "391/391 [==============================] - 32s 82ms/step - loss: 1.1102 - accuracy: 0.7217 - val_loss: 1.7284 - val_accuracy: 0.5882 - lr: 1.0000e-05\n",
            "Learning rate:  1e-05\n",
            "Epoch 146/300\n",
            "391/391 [==============================] - ETA: 0s - loss: 1.1010 - accuracy: 0.7232WARNING:tensorflow:Can save best model only with val_acc available, skipping.\n",
            "391/391 [==============================] - 32s 83ms/step - loss: 1.1010 - accuracy: 0.7232 - val_loss: 1.7252 - val_accuracy: 0.5893 - lr: 3.1623e-06\n",
            "Learning rate:  1e-05\n",
            "Epoch 147/300\n",
            "391/391 [==============================] - ETA: 0s - loss: 1.1078 - accuracy: 0.7226WARNING:tensorflow:Can save best model only with val_acc available, skipping.\n",
            "391/391 [==============================] - 32s 82ms/step - loss: 1.1078 - accuracy: 0.7226 - val_loss: 1.7213 - val_accuracy: 0.5930 - lr: 1.0000e-05\n",
            "Learning rate:  1e-05\n",
            "Epoch 148/300\n",
            "391/391 [==============================] - ETA: 0s - loss: 1.1026 - accuracy: 0.7249WARNING:tensorflow:Can save best model only with val_acc available, skipping.\n",
            "391/391 [==============================] - 32s 83ms/step - loss: 1.1026 - accuracy: 0.7249 - val_loss: 1.7244 - val_accuracy: 0.5910 - lr: 1.0000e-05\n",
            "Learning rate:  1e-05\n",
            "Epoch 149/300\n",
            "391/391 [==============================] - ETA: 0s - loss: 1.1084 - accuracy: 0.7219WARNING:tensorflow:Can save best model only with val_acc available, skipping.\n",
            "391/391 [==============================] - 32s 81ms/step - loss: 1.1084 - accuracy: 0.7219 - val_loss: 1.7257 - val_accuracy: 0.5908 - lr: 1.0000e-05\n",
            "Learning rate:  1e-05\n",
            "Epoch 150/300\n",
            "391/391 [==============================] - ETA: 0s - loss: 1.1037 - accuracy: 0.7220WARNING:tensorflow:Can save best model only with val_acc available, skipping.\n",
            "391/391 [==============================] - 32s 83ms/step - loss: 1.1037 - accuracy: 0.7220 - val_loss: 1.7195 - val_accuracy: 0.5921 - lr: 1.0000e-05\n",
            "Learning rate:  1e-05\n",
            "Epoch 151/300\n",
            "391/391 [==============================] - ETA: 0s - loss: 1.1133 - accuracy: 0.7201WARNING:tensorflow:Can save best model only with val_acc available, skipping.\n",
            "391/391 [==============================] - 32s 82ms/step - loss: 1.1133 - accuracy: 0.7201 - val_loss: 1.7297 - val_accuracy: 0.5895 - lr: 3.1623e-06\n",
            "Learning rate:  1e-05\n",
            "Epoch 152/300\n",
            "391/391 [==============================] - ETA: 0s - loss: 1.1096 - accuracy: 0.7204WARNING:tensorflow:Can save best model only with val_acc available, skipping.\n",
            "391/391 [==============================] - 32s 82ms/step - loss: 1.1096 - accuracy: 0.7204 - val_loss: 1.7296 - val_accuracy: 0.5905 - lr: 1.0000e-05\n",
            "Learning rate:  1e-05\n",
            "Epoch 153/300\n",
            "391/391 [==============================] - ETA: 0s - loss: 1.1046 - accuracy: 0.7225WARNING:tensorflow:Can save best model only with val_acc available, skipping.\n",
            "391/391 [==============================] - 33s 83ms/step - loss: 1.1046 - accuracy: 0.7225 - val_loss: 1.7337 - val_accuracy: 0.5886 - lr: 1.0000e-05\n",
            "Learning rate:  1e-05\n",
            "Epoch 154/300\n",
            "391/391 [==============================] - ETA: 0s - loss: 1.1079 - accuracy: 0.7235WARNING:tensorflow:Can save best model only with val_acc available, skipping.\n",
            "391/391 [==============================] - 32s 82ms/step - loss: 1.1079 - accuracy: 0.7235 - val_loss: 1.7395 - val_accuracy: 0.5880 - lr: 1.0000e-05\n",
            "Learning rate:  1e-05\n",
            "Epoch 155/300\n",
            "391/391 [==============================] - ETA: 0s - loss: 1.1200 - accuracy: 0.7184WARNING:tensorflow:Can save best model only with val_acc available, skipping.\n",
            "391/391 [==============================] - 32s 82ms/step - loss: 1.1200 - accuracy: 0.7184 - val_loss: 1.7315 - val_accuracy: 0.5879 - lr: 1.0000e-05\n",
            "Learning rate:  1e-05\n",
            "Epoch 156/300\n",
            "391/391 [==============================] - ETA: 0s - loss: 1.1202 - accuracy: 0.7191WARNING:tensorflow:Can save best model only with val_acc available, skipping.\n",
            "391/391 [==============================] - 32s 82ms/step - loss: 1.1202 - accuracy: 0.7191 - val_loss: 1.7415 - val_accuracy: 0.5865 - lr: 3.1623e-06\n",
            "Learning rate:  1e-05\n",
            "Epoch 157/300\n",
            "391/391 [==============================] - ETA: 0s - loss: 1.1163 - accuracy: 0.7174WARNING:tensorflow:Can save best model only with val_acc available, skipping.\n",
            "391/391 [==============================] - 33s 83ms/step - loss: 1.1163 - accuracy: 0.7174 - val_loss: 1.7410 - val_accuracy: 0.5879 - lr: 1.0000e-05\n",
            "Learning rate:  1e-05\n",
            "Epoch 158/300\n",
            "391/391 [==============================] - ETA: 0s - loss: 1.1135 - accuracy: 0.7228WARNING:tensorflow:Can save best model only with val_acc available, skipping.\n",
            "391/391 [==============================] - 32s 81ms/step - loss: 1.1135 - accuracy: 0.7228 - val_loss: 1.7322 - val_accuracy: 0.5885 - lr: 1.0000e-05\n",
            "Learning rate:  1e-05\n",
            "Epoch 159/300\n",
            "391/391 [==============================] - ETA: 0s - loss: 1.1122 - accuracy: 0.7188WARNING:tensorflow:Can save best model only with val_acc available, skipping.\n",
            "391/391 [==============================] - 32s 82ms/step - loss: 1.1122 - accuracy: 0.7188 - val_loss: 1.7408 - val_accuracy: 0.5883 - lr: 1.0000e-05\n",
            "Learning rate:  1e-05\n",
            "Epoch 160/300\n",
            "391/391 [==============================] - ETA: 0s - loss: 1.1099 - accuracy: 0.7208WARNING:tensorflow:Can save best model only with val_acc available, skipping.\n",
            "391/391 [==============================] - 32s 81ms/step - loss: 1.1099 - accuracy: 0.7208 - val_loss: 1.7347 - val_accuracy: 0.5885 - lr: 1.0000e-05\n",
            "Learning rate:  1e-05\n",
            "Epoch 161/300\n",
            "391/391 [==============================] - ETA: 0s - loss: 1.1091 - accuracy: 0.7188WARNING:tensorflow:Can save best model only with val_acc available, skipping.\n",
            "391/391 [==============================] - 32s 83ms/step - loss: 1.1091 - accuracy: 0.7188 - val_loss: 1.7396 - val_accuracy: 0.5881 - lr: 3.1623e-06\n",
            "Learning rate:  1e-06\n",
            "Epoch 162/300\n",
            "391/391 [==============================] - ETA: 0s - loss: 1.1120 - accuracy: 0.7196WARNING:tensorflow:Can save best model only with val_acc available, skipping.\n",
            "391/391 [==============================] - 32s 82ms/step - loss: 1.1120 - accuracy: 0.7196 - val_loss: 1.7469 - val_accuracy: 0.5867 - lr: 1.0000e-06\n",
            "Learning rate:  1e-06\n",
            "Epoch 163/300\n",
            "391/391 [==============================] - ETA: 0s - loss: 1.1141 - accuracy: 0.7193WARNING:tensorflow:Can save best model only with val_acc available, skipping.\n",
            "391/391 [==============================] - 32s 83ms/step - loss: 1.1141 - accuracy: 0.7193 - val_loss: 1.7461 - val_accuracy: 0.5893 - lr: 1.0000e-06\n",
            "Learning rate:  1e-06\n",
            "Epoch 164/300\n",
            "391/391 [==============================] - ETA: 0s - loss: 1.1201 - accuracy: 0.7166WARNING:tensorflow:Can save best model only with val_acc available, skipping.\n",
            "391/391 [==============================] - 33s 84ms/step - loss: 1.1201 - accuracy: 0.7166 - val_loss: 1.7357 - val_accuracy: 0.5893 - lr: 1.0000e-06\n",
            "Learning rate:  1e-06\n",
            "Epoch 165/300\n",
            "391/391 [==============================] - ETA: 0s - loss: 1.1195 - accuracy: 0.7160WARNING:tensorflow:Can save best model only with val_acc available, skipping.\n",
            "391/391 [==============================] - 32s 82ms/step - loss: 1.1195 - accuracy: 0.7160 - val_loss: 1.7763 - val_accuracy: 0.5784 - lr: 1.0000e-06\n",
            "Learning rate:  1e-06\n",
            "Epoch 166/300\n",
            "391/391 [==============================] - ETA: 0s - loss: 1.1513 - accuracy: 0.7069WARNING:tensorflow:Can save best model only with val_acc available, skipping.\n",
            "391/391 [==============================] - 32s 83ms/step - loss: 1.1513 - accuracy: 0.7069 - val_loss: 1.7733 - val_accuracy: 0.5794 - lr: 5.0000e-07\n",
            "Learning rate:  1e-06\n",
            "Epoch 167/300\n",
            "391/391 [==============================] - ETA: 0s - loss: 1.1458 - accuracy: 0.7091WARNING:tensorflow:Can save best model only with val_acc available, skipping.\n",
            "391/391 [==============================] - 32s 81ms/step - loss: 1.1458 - accuracy: 0.7091 - val_loss: 1.7618 - val_accuracy: 0.5842 - lr: 1.0000e-06\n",
            "Learning rate:  1e-06\n",
            "Epoch 168/300\n",
            "391/391 [==============================] - ETA: 0s - loss: 1.1424 - accuracy: 0.7111WARNING:tensorflow:Can save best model only with val_acc available, skipping.\n",
            "391/391 [==============================] - 32s 83ms/step - loss: 1.1424 - accuracy: 0.7111 - val_loss: 1.7616 - val_accuracy: 0.5835 - lr: 1.0000e-06\n",
            "Learning rate:  1e-06\n",
            "Epoch 169/300\n",
            "391/391 [==============================] - ETA: 0s - loss: 1.1428 - accuracy: 0.7096WARNING:tensorflow:Can save best model only with val_acc available, skipping.\n",
            "391/391 [==============================] - 32s 82ms/step - loss: 1.1428 - accuracy: 0.7096 - val_loss: 1.7582 - val_accuracy: 0.5827 - lr: 1.0000e-06\n",
            "Learning rate:  1e-06\n",
            "Epoch 170/300\n",
            "391/391 [==============================] - ETA: 0s - loss: 1.1480 - accuracy: 0.7092WARNING:tensorflow:Can save best model only with val_acc available, skipping.\n",
            "391/391 [==============================] - 32s 83ms/step - loss: 1.1480 - accuracy: 0.7092 - val_loss: 1.7586 - val_accuracy: 0.5847 - lr: 1.0000e-06\n",
            "Learning rate:  1e-06\n",
            "Epoch 171/300\n",
            "391/391 [==============================] - ETA: 0s - loss: 1.1487 - accuracy: 0.7080WARNING:tensorflow:Can save best model only with val_acc available, skipping.\n",
            "391/391 [==============================] - 32s 81ms/step - loss: 1.1487 - accuracy: 0.7080 - val_loss: 1.7709 - val_accuracy: 0.5831 - lr: 5.0000e-07\n",
            "Learning rate:  1e-06\n",
            "Epoch 172/300\n",
            "391/391 [==============================] - ETA: 0s - loss: 1.1610 - accuracy: 0.7042WARNING:tensorflow:Can save best model only with val_acc available, skipping.\n",
            "391/391 [==============================] - 32s 83ms/step - loss: 1.1610 - accuracy: 0.7042 - val_loss: 1.7643 - val_accuracy: 0.5832 - lr: 1.0000e-06\n",
            "Learning rate:  1e-06\n",
            "Epoch 173/300\n",
            "391/391 [==============================] - ETA: 0s - loss: 1.1607 - accuracy: 0.7060WARNING:tensorflow:Can save best model only with val_acc available, skipping.\n",
            "391/391 [==============================] - 32s 81ms/step - loss: 1.1607 - accuracy: 0.7060 - val_loss: 1.7632 - val_accuracy: 0.5838 - lr: 1.0000e-06\n",
            "Learning rate:  1e-06\n",
            "Epoch 174/300\n",
            "391/391 [==============================] - ETA: 0s - loss: 1.1599 - accuracy: 0.7061WARNING:tensorflow:Can save best model only with val_acc available, skipping.\n",
            "391/391 [==============================] - 32s 83ms/step - loss: 1.1599 - accuracy: 0.7061 - val_loss: 1.7606 - val_accuracy: 0.5835 - lr: 1.0000e-06\n",
            "Learning rate:  1e-06\n",
            "Epoch 175/300\n",
            "391/391 [==============================] - ETA: 0s - loss: 1.1607 - accuracy: 0.7047WARNING:tensorflow:Can save best model only with val_acc available, skipping.\n",
            "391/391 [==============================] - 32s 82ms/step - loss: 1.1607 - accuracy: 0.7047 - val_loss: 1.7699 - val_accuracy: 0.5831 - lr: 1.0000e-06\n",
            "Learning rate:  1e-06\n",
            "Epoch 176/300\n",
            "391/391 [==============================] - ETA: 0s - loss: 1.1544 - accuracy: 0.7062WARNING:tensorflow:Can save best model only with val_acc available, skipping.\n",
            "391/391 [==============================] - 32s 83ms/step - loss: 1.1544 - accuracy: 0.7062 - val_loss: 1.7673 - val_accuracy: 0.5837 - lr: 5.0000e-07\n",
            "Learning rate:  1e-06\n",
            "Epoch 177/300\n",
            "391/391 [==============================] - ETA: 0s - loss: 1.1582 - accuracy: 0.7048WARNING:tensorflow:Can save best model only with val_acc available, skipping.\n",
            "391/391 [==============================] - 32s 82ms/step - loss: 1.1582 - accuracy: 0.7048 - val_loss: 1.7672 - val_accuracy: 0.5821 - lr: 1.0000e-06\n",
            "Learning rate:  1e-06\n",
            "Epoch 178/300\n",
            "391/391 [==============================] - ETA: 0s - loss: 1.1713 - accuracy: 0.7011WARNING:tensorflow:Can save best model only with val_acc available, skipping.\n",
            "391/391 [==============================] - 32s 83ms/step - loss: 1.1713 - accuracy: 0.7011 - val_loss: 1.7765 - val_accuracy: 0.5804 - lr: 1.0000e-06\n",
            "Learning rate:  1e-06\n",
            "Epoch 179/300\n",
            "391/391 [==============================] - ETA: 0s - loss: 1.1795 - accuracy: 0.6975WARNING:tensorflow:Can save best model only with val_acc available, skipping.\n",
            "391/391 [==============================] - 33s 83ms/step - loss: 1.1795 - accuracy: 0.6975 - val_loss: 1.7848 - val_accuracy: 0.5785 - lr: 1.0000e-06\n",
            "Learning rate:  1e-06\n",
            "Epoch 180/300\n",
            "391/391 [==============================] - ETA: 0s - loss: 1.1867 - accuracy: 0.6972WARNING:tensorflow:Can save best model only with val_acc available, skipping.\n",
            "391/391 [==============================] - 32s 83ms/step - loss: 1.1867 - accuracy: 0.6972 - val_loss: 1.7841 - val_accuracy: 0.5800 - lr: 1.0000e-06\n",
            "Learning rate:  1e-06\n",
            "Epoch 181/300\n",
            "391/391 [==============================] - ETA: 0s - loss: 1.1842 - accuracy: 0.6982WARNING:tensorflow:Can save best model only with val_acc available, skipping.\n",
            "391/391 [==============================] - 32s 82ms/step - loss: 1.1842 - accuracy: 0.6982 - val_loss: 1.7848 - val_accuracy: 0.5805 - lr: 5.0000e-07\n",
            "Learning rate:  5e-07\n",
            "Epoch 182/300\n",
            "391/391 [==============================] - ETA: 0s - loss: 1.1848 - accuracy: 0.6984WARNING:tensorflow:Can save best model only with val_acc available, skipping.\n",
            "391/391 [==============================] - 32s 81ms/step - loss: 1.1848 - accuracy: 0.6984 - val_loss: 1.8014 - val_accuracy: 0.5752 - lr: 5.0000e-07\n",
            "Learning rate:  5e-07\n",
            "Epoch 183/300\n",
            "391/391 [==============================] - ETA: 0s - loss: 1.1843 - accuracy: 0.6969WARNING:tensorflow:Can save best model only with val_acc available, skipping.\n",
            "391/391 [==============================] - 32s 83ms/step - loss: 1.1843 - accuracy: 0.6969 - val_loss: 1.7897 - val_accuracy: 0.5770 - lr: 5.0000e-07\n",
            "Learning rate:  5e-07\n",
            "Epoch 184/300\n",
            "391/391 [==============================] - ETA: 0s - loss: 1.1841 - accuracy: 0.6986WARNING:tensorflow:Can save best model only with val_acc available, skipping.\n",
            "391/391 [==============================] - 32s 81ms/step - loss: 1.1841 - accuracy: 0.6986 - val_loss: 1.7908 - val_accuracy: 0.5766 - lr: 5.0000e-07\n",
            "Learning rate:  5e-07\n",
            "Epoch 185/300\n",
            "391/391 [==============================] - ETA: 0s - loss: 1.1799 - accuracy: 0.6991WARNING:tensorflow:Can save best model only with val_acc available, skipping.\n",
            "391/391 [==============================] - 32s 82ms/step - loss: 1.1799 - accuracy: 0.6991 - val_loss: 1.7938 - val_accuracy: 0.5766 - lr: 5.0000e-07\n",
            "Learning rate:  5e-07\n",
            "Epoch 186/300\n",
            "391/391 [==============================] - ETA: 0s - loss: 1.1995 - accuracy: 0.6922WARNING:tensorflow:Can save best model only with val_acc available, skipping.\n",
            "391/391 [==============================] - 32s 81ms/step - loss: 1.1995 - accuracy: 0.6922 - val_loss: 1.7838 - val_accuracy: 0.5781 - lr: 5.0000e-07\n",
            "Learning rate:  5e-07\n",
            "Epoch 187/300\n",
            "391/391 [==============================] - ETA: 0s - loss: 1.1964 - accuracy: 0.6952WARNING:tensorflow:Can save best model only with val_acc available, skipping.\n",
            "391/391 [==============================] - 32s 82ms/step - loss: 1.1964 - accuracy: 0.6952 - val_loss: 1.7928 - val_accuracy: 0.5767 - lr: 5.0000e-07\n",
            "Learning rate:  5e-07\n",
            "Epoch 188/300\n",
            "391/391 [==============================] - ETA: 0s - loss: 1.1917 - accuracy: 0.6930WARNING:tensorflow:Can save best model only with val_acc available, skipping.\n",
            "391/391 [==============================] - 32s 81ms/step - loss: 1.1917 - accuracy: 0.6930 - val_loss: 1.7827 - val_accuracy: 0.5790 - lr: 5.0000e-07\n",
            "Learning rate:  5e-07\n",
            "Epoch 189/300\n",
            "391/391 [==============================] - ETA: 0s - loss: 1.1929 - accuracy: 0.6921WARNING:tensorflow:Can save best model only with val_acc available, skipping.\n",
            "391/391 [==============================] - 32s 82ms/step - loss: 1.1929 - accuracy: 0.6921 - val_loss: 1.7894 - val_accuracy: 0.5780 - lr: 5.0000e-07\n",
            "Learning rate:  5e-07\n",
            "Epoch 190/300\n",
            "391/391 [==============================] - ETA: 0s - loss: 1.1918 - accuracy: 0.6951WARNING:tensorflow:Can save best model only with val_acc available, skipping.\n",
            "391/391 [==============================] - 32s 81ms/step - loss: 1.1918 - accuracy: 0.6951 - val_loss: 1.7915 - val_accuracy: 0.5773 - lr: 5.0000e-07\n",
            "Learning rate:  5e-07\n",
            "Epoch 191/300\n",
            "391/391 [==============================] - ETA: 0s - loss: 1.1937 - accuracy: 0.6972WARNING:tensorflow:Can save best model only with val_acc available, skipping.\n",
            "391/391 [==============================] - 33s 83ms/step - loss: 1.1937 - accuracy: 0.6972 - val_loss: 1.7938 - val_accuracy: 0.5774 - lr: 5.0000e-07\n",
            "Learning rate:  5e-07\n",
            "Epoch 192/300\n",
            "391/391 [==============================] - ETA: 0s - loss: 1.1991 - accuracy: 0.6930WARNING:tensorflow:Can save best model only with val_acc available, skipping.\n",
            "391/391 [==============================] - 33s 83ms/step - loss: 1.1991 - accuracy: 0.6930 - val_loss: 1.7962 - val_accuracy: 0.5745 - lr: 5.0000e-07\n",
            "Learning rate:  5e-07\n",
            "Epoch 193/300\n",
            "391/391 [==============================] - ETA: 0s - loss: 1.1993 - accuracy: 0.6935WARNING:tensorflow:Can save best model only with val_acc available, skipping.\n",
            "391/391 [==============================] - 32s 81ms/step - loss: 1.1993 - accuracy: 0.6935 - val_loss: 1.7888 - val_accuracy: 0.5759 - lr: 5.0000e-07\n",
            "Learning rate:  5e-07\n",
            "Epoch 194/300\n",
            "391/391 [==============================] - ETA: 0s - loss: 1.2373 - accuracy: 0.6823WARNING:tensorflow:Can save best model only with val_acc available, skipping.\n",
            "391/391 [==============================] - 32s 82ms/step - loss: 1.2373 - accuracy: 0.6823 - val_loss: 1.8373 - val_accuracy: 0.5655 - lr: 5.0000e-07\n",
            "Learning rate:  5e-07\n",
            "Epoch 195/300\n",
            "391/391 [==============================] - ETA: 0s - loss: 1.2553 - accuracy: 0.6785WARNING:tensorflow:Can save best model only with val_acc available, skipping.\n",
            "391/391 [==============================] - 32s 81ms/step - loss: 1.2553 - accuracy: 0.6785 - val_loss: 1.8383 - val_accuracy: 0.5657 - lr: 5.0000e-07\n",
            "Learning rate:  5e-07\n",
            "Epoch 196/300\n",
            "391/391 [==============================] - ETA: 0s - loss: 1.2475 - accuracy: 0.6787WARNING:tensorflow:Can save best model only with val_acc available, skipping.\n",
            "391/391 [==============================] - 32s 83ms/step - loss: 1.2475 - accuracy: 0.6787 - val_loss: 1.8409 - val_accuracy: 0.5658 - lr: 5.0000e-07\n",
            "Learning rate:  5e-07\n",
            "Epoch 197/300\n",
            "391/391 [==============================] - ETA: 0s - loss: 1.2495 - accuracy: 0.6779WARNING:tensorflow:Can save best model only with val_acc available, skipping.\n",
            "391/391 [==============================] - 32s 81ms/step - loss: 1.2495 - accuracy: 0.6779 - val_loss: 1.8428 - val_accuracy: 0.5658 - lr: 5.0000e-07\n",
            "Learning rate:  5e-07\n",
            "Epoch 198/300\n",
            "391/391 [==============================] - ETA: 0s - loss: 1.2535 - accuracy: 0.6773WARNING:tensorflow:Can save best model only with val_acc available, skipping.\n",
            "391/391 [==============================] - 32s 82ms/step - loss: 1.2535 - accuracy: 0.6773 - val_loss: 1.8388 - val_accuracy: 0.5640 - lr: 5.0000e-07\n",
            "Learning rate:  5e-07\n",
            "Epoch 199/300\n",
            "391/391 [==============================] - ETA: 0s - loss: 1.2443 - accuracy: 0.6805WARNING:tensorflow:Can save best model only with val_acc available, skipping.\n",
            "391/391 [==============================] - 32s 81ms/step - loss: 1.2443 - accuracy: 0.6805 - val_loss: 1.8456 - val_accuracy: 0.5655 - lr: 5.0000e-07\n",
            "Learning rate:  5e-07\n",
            "Epoch 200/300\n",
            "391/391 [==============================] - ETA: 0s - loss: 1.2448 - accuracy: 0.6812WARNING:tensorflow:Can save best model only with val_acc available, skipping.\n",
            "391/391 [==============================] - 33s 85ms/step - loss: 1.2448 - accuracy: 0.6812 - val_loss: 1.8374 - val_accuracy: 0.5661 - lr: 5.0000e-07\n",
            "Learning rate:  5e-07\n",
            "Epoch 201/300\n",
            "391/391 [==============================] - ETA: 0s - loss: 1.2429 - accuracy: 0.6803WARNING:tensorflow:Can save best model only with val_acc available, skipping.\n",
            "391/391 [==============================] - 32s 81ms/step - loss: 1.2429 - accuracy: 0.6803 - val_loss: 1.8403 - val_accuracy: 0.5642 - lr: 5.0000e-07\n",
            "Learning rate:  5e-07\n",
            "Epoch 202/300\n",
            "391/391 [==============================] - ETA: 0s - loss: 1.2384 - accuracy: 0.6832WARNING:tensorflow:Can save best model only with val_acc available, skipping.\n",
            "391/391 [==============================] - 32s 82ms/step - loss: 1.2384 - accuracy: 0.6832 - val_loss: 1.8331 - val_accuracy: 0.5655 - lr: 5.0000e-07\n",
            "Learning rate:  5e-07\n",
            "Epoch 203/300\n",
            "391/391 [==============================] - ETA: 0s - loss: 1.2407 - accuracy: 0.6818WARNING:tensorflow:Can save best model only with val_acc available, skipping.\n",
            "391/391 [==============================] - 32s 82ms/step - loss: 1.2407 - accuracy: 0.6818 - val_loss: 1.8311 - val_accuracy: 0.5661 - lr: 5.0000e-07\n",
            "Learning rate:  5e-07\n",
            "Epoch 204/300\n",
            "391/391 [==============================] - ETA: 0s - loss: 1.2400 - accuracy: 0.6797WARNING:tensorflow:Can save best model only with val_acc available, skipping.\n",
            "391/391 [==============================] - 32s 83ms/step - loss: 1.2400 - accuracy: 0.6797 - val_loss: 1.8312 - val_accuracy: 0.5671 - lr: 5.0000e-07\n",
            "Learning rate:  5e-07\n",
            "Epoch 205/300\n",
            "391/391 [==============================] - ETA: 0s - loss: 1.2364 - accuracy: 0.6796WARNING:tensorflow:Can save best model only with val_acc available, skipping.\n",
            "391/391 [==============================] - 33s 83ms/step - loss: 1.2364 - accuracy: 0.6796 - val_loss: 1.8307 - val_accuracy: 0.5673 - lr: 5.0000e-07\n",
            "Learning rate:  5e-07\n",
            "Epoch 206/300\n",
            "391/391 [==============================] - ETA: 0s - loss: 1.2336 - accuracy: 0.6834WARNING:tensorflow:Can save best model only with val_acc available, skipping.\n",
            "391/391 [==============================] - 32s 81ms/step - loss: 1.2336 - accuracy: 0.6834 - val_loss: 1.8275 - val_accuracy: 0.5687 - lr: 5.0000e-07\n",
            "Learning rate:  5e-07\n",
            "Epoch 207/300\n",
            "391/391 [==============================] - ETA: 0s - loss: 1.2368 - accuracy: 0.6833WARNING:tensorflow:Can save best model only with val_acc available, skipping.\n",
            "391/391 [==============================] - 32s 82ms/step - loss: 1.2368 - accuracy: 0.6833 - val_loss: 1.8227 - val_accuracy: 0.5689 - lr: 5.0000e-07\n",
            "Learning rate:  5e-07\n",
            "Epoch 208/300\n",
            "391/391 [==============================] - ETA: 0s - loss: 1.2338 - accuracy: 0.6845WARNING:tensorflow:Can save best model only with val_acc available, skipping.\n",
            "391/391 [==============================] - 32s 81ms/step - loss: 1.2338 - accuracy: 0.6845 - val_loss: 1.8192 - val_accuracy: 0.5708 - lr: 5.0000e-07\n",
            "Learning rate:  5e-07\n",
            "Epoch 209/300\n",
            "391/391 [==============================] - ETA: 0s - loss: 1.2321 - accuracy: 0.6835WARNING:tensorflow:Can save best model only with val_acc available, skipping.\n",
            "391/391 [==============================] - 32s 82ms/step - loss: 1.2321 - accuracy: 0.6835 - val_loss: 1.8156 - val_accuracy: 0.5716 - lr: 5.0000e-07\n",
            "Learning rate:  5e-07\n",
            "Epoch 210/300\n",
            "391/391 [==============================] - ETA: 0s - loss: 1.2360 - accuracy: 0.6817WARNING:tensorflow:Can save best model only with val_acc available, skipping.\n",
            "391/391 [==============================] - 32s 81ms/step - loss: 1.2360 - accuracy: 0.6817 - val_loss: 1.8167 - val_accuracy: 0.5694 - lr: 5.0000e-07\n",
            "Learning rate:  5e-07\n",
            "Epoch 211/300\n",
            "391/391 [==============================] - ETA: 0s - loss: 1.2374 - accuracy: 0.6832WARNING:tensorflow:Can save best model only with val_acc available, skipping.\n",
            "391/391 [==============================] - 32s 82ms/step - loss: 1.2374 - accuracy: 0.6832 - val_loss: 1.8183 - val_accuracy: 0.5700 - lr: 5.0000e-07\n",
            "Learning rate:  5e-07\n",
            "Epoch 212/300\n",
            "391/391 [==============================] - ETA: 0s - loss: 1.2289 - accuracy: 0.6855WARNING:tensorflow:Can save best model only with val_acc available, skipping.\n",
            "391/391 [==============================] - 31s 80ms/step - loss: 1.2289 - accuracy: 0.6855 - val_loss: 1.8119 - val_accuracy: 0.5701 - lr: 5.0000e-07\n",
            "Learning rate:  5e-07\n",
            "Epoch 213/300\n",
            "391/391 [==============================] - ETA: 0s - loss: 1.2334 - accuracy: 0.6834WARNING:tensorflow:Can save best model only with val_acc available, skipping.\n",
            "391/391 [==============================] - 32s 83ms/step - loss: 1.2334 - accuracy: 0.6834 - val_loss: 1.8117 - val_accuracy: 0.5707 - lr: 5.0000e-07\n",
            "Learning rate:  5e-07\n",
            "Epoch 214/300\n",
            "391/391 [==============================] - ETA: 0s - loss: 1.2271 - accuracy: 0.6870WARNING:tensorflow:Can save best model only with val_acc available, skipping.\n",
            "391/391 [==============================] - 32s 82ms/step - loss: 1.2271 - accuracy: 0.6870 - val_loss: 1.8105 - val_accuracy: 0.5714 - lr: 5.0000e-07\n",
            "Learning rate:  5e-07\n",
            "Epoch 215/300\n",
            "391/391 [==============================] - ETA: 0s - loss: 1.2276 - accuracy: 0.6847WARNING:tensorflow:Can save best model only with val_acc available, skipping.\n",
            "391/391 [==============================] - 32s 83ms/step - loss: 1.2276 - accuracy: 0.6847 - val_loss: 1.8035 - val_accuracy: 0.5723 - lr: 5.0000e-07\n",
            "Learning rate:  5e-07\n",
            "Epoch 216/300\n",
            "391/391 [==============================] - ETA: 0s - loss: 1.2270 - accuracy: 0.6867WARNING:tensorflow:Can save best model only with val_acc available, skipping.\n",
            "391/391 [==============================] - 33s 85ms/step - loss: 1.2270 - accuracy: 0.6867 - val_loss: 1.8076 - val_accuracy: 0.5717 - lr: 5.0000e-07\n",
            "Learning rate:  5e-07\n",
            "Epoch 217/300\n",
            "391/391 [==============================] - ETA: 0s - loss: 1.2526 - accuracy: 0.6791WARNING:tensorflow:Can save best model only with val_acc available, skipping.\n",
            "391/391 [==============================] - 32s 82ms/step - loss: 1.2526 - accuracy: 0.6791 - val_loss: 1.8174 - val_accuracy: 0.5684 - lr: 5.0000e-07\n",
            "Learning rate:  5e-07\n",
            "Epoch 218/300\n",
            "391/391 [==============================] - ETA: 0s - loss: 1.2574 - accuracy: 0.6770WARNING:tensorflow:Can save best model only with val_acc available, skipping.\n",
            "391/391 [==============================] - 32s 81ms/step - loss: 1.2574 - accuracy: 0.6770 - val_loss: 1.8155 - val_accuracy: 0.5687 - lr: 5.0000e-07\n",
            "Learning rate:  5e-07\n",
            "Epoch 219/300\n",
            "391/391 [==============================] - ETA: 0s - loss: 1.2501 - accuracy: 0.6799WARNING:tensorflow:Can save best model only with val_acc available, skipping.\n",
            "391/391 [==============================] - 32s 81ms/step - loss: 1.2501 - accuracy: 0.6799 - val_loss: 1.8171 - val_accuracy: 0.5688 - lr: 5.0000e-07\n",
            "Learning rate:  5e-07\n",
            "Epoch 220/300\n",
            "391/391 [==============================] - ETA: 0s - loss: 1.2557 - accuracy: 0.6755WARNING:tensorflow:Can save best model only with val_acc available, skipping.\n",
            "391/391 [==============================] - 32s 82ms/step - loss: 1.2557 - accuracy: 0.6755 - val_loss: 1.8160 - val_accuracy: 0.5681 - lr: 5.0000e-07\n",
            "Learning rate:  5e-07\n",
            "Epoch 221/300\n",
            "391/391 [==============================] - ETA: 0s - loss: 1.2523 - accuracy: 0.6784WARNING:tensorflow:Can save best model only with val_acc available, skipping.\n",
            "391/391 [==============================] - 32s 81ms/step - loss: 1.2523 - accuracy: 0.6784 - val_loss: 1.8121 - val_accuracy: 0.5671 - lr: 5.0000e-07\n",
            "Learning rate:  5e-07\n",
            "Epoch 222/300\n",
            "391/391 [==============================] - ETA: 0s - loss: 1.2520 - accuracy: 0.6771WARNING:tensorflow:Can save best model only with val_acc available, skipping.\n",
            "391/391 [==============================] - 32s 82ms/step - loss: 1.2520 - accuracy: 0.6771 - val_loss: 1.8177 - val_accuracy: 0.5679 - lr: 5.0000e-07\n",
            "Learning rate:  5e-07\n",
            "Epoch 223/300\n",
            "391/391 [==============================] - ETA: 0s - loss: 1.2495 - accuracy: 0.6801WARNING:tensorflow:Can save best model only with val_acc available, skipping.\n",
            "391/391 [==============================] - 31s 80ms/step - loss: 1.2495 - accuracy: 0.6801 - val_loss: 1.8168 - val_accuracy: 0.5682 - lr: 5.0000e-07\n",
            "Learning rate:  5e-07\n",
            "Epoch 224/300\n",
            "391/391 [==============================] - ETA: 0s - loss: 1.2481 - accuracy: 0.6811WARNING:tensorflow:Can save best model only with val_acc available, skipping.\n",
            "391/391 [==============================] - 32s 82ms/step - loss: 1.2481 - accuracy: 0.6811 - val_loss: 1.8141 - val_accuracy: 0.5682 - lr: 5.0000e-07\n",
            "Learning rate:  5e-07\n",
            "Epoch 225/300\n",
            "391/391 [==============================] - ETA: 0s - loss: 1.2420 - accuracy: 0.6816WARNING:tensorflow:Can save best model only with val_acc available, skipping.\n",
            "391/391 [==============================] - 32s 81ms/step - loss: 1.2420 - accuracy: 0.6816 - val_loss: 1.8172 - val_accuracy: 0.5657 - lr: 5.0000e-07\n",
            "Learning rate:  5e-07\n",
            "Epoch 226/300\n",
            "391/391 [==============================] - ETA: 0s - loss: 1.2501 - accuracy: 0.6784WARNING:tensorflow:Can save best model only with val_acc available, skipping.\n",
            "391/391 [==============================] - 32s 82ms/step - loss: 1.2501 - accuracy: 0.6784 - val_loss: 1.8145 - val_accuracy: 0.5668 - lr: 5.0000e-07\n",
            "Learning rate:  5e-07\n",
            "Epoch 227/300\n",
            "391/391 [==============================] - ETA: 0s - loss: 1.2429 - accuracy: 0.6803WARNING:tensorflow:Can save best model only with val_acc available, skipping.\n",
            "391/391 [==============================] - 32s 81ms/step - loss: 1.2429 - accuracy: 0.6803 - val_loss: 1.8118 - val_accuracy: 0.5669 - lr: 5.0000e-07\n",
            "Learning rate:  5e-07\n",
            "Epoch 228/300\n",
            "391/391 [==============================] - ETA: 0s - loss: 1.2406 - accuracy: 0.6820WARNING:tensorflow:Can save best model only with val_acc available, skipping.\n",
            "391/391 [==============================] - 32s 82ms/step - loss: 1.2406 - accuracy: 0.6820 - val_loss: 1.8127 - val_accuracy: 0.5663 - lr: 5.0000e-07\n",
            "Learning rate:  5e-07\n",
            "Epoch 229/300\n",
            "391/391 [==============================] - ETA: 0s - loss: 1.2450 - accuracy: 0.6804WARNING:tensorflow:Can save best model only with val_acc available, skipping.\n",
            "391/391 [==============================] - 32s 81ms/step - loss: 1.2450 - accuracy: 0.6804 - val_loss: 1.8105 - val_accuracy: 0.5682 - lr: 5.0000e-07\n",
            "Learning rate:  5e-07\n",
            "Epoch 230/300\n",
            "391/391 [==============================] - ETA: 0s - loss: 1.2405 - accuracy: 0.6824WARNING:tensorflow:Can save best model only with val_acc available, skipping.\n",
            "391/391 [==============================] - 32s 82ms/step - loss: 1.2405 - accuracy: 0.6824 - val_loss: 1.8077 - val_accuracy: 0.5671 - lr: 5.0000e-07\n",
            "Learning rate:  5e-07\n",
            "Epoch 231/300\n",
            "391/391 [==============================] - ETA: 0s - loss: 1.2374 - accuracy: 0.6835WARNING:tensorflow:Can save best model only with val_acc available, skipping.\n",
            "391/391 [==============================] - 31s 80ms/step - loss: 1.2374 - accuracy: 0.6835 - val_loss: 1.8111 - val_accuracy: 0.5670 - lr: 5.0000e-07\n",
            "Learning rate:  5e-07\n",
            "Epoch 232/300\n",
            "391/391 [==============================] - ETA: 0s - loss: 1.2398 - accuracy: 0.6822WARNING:tensorflow:Can save best model only with val_acc available, skipping.\n",
            "391/391 [==============================] - 32s 82ms/step - loss: 1.2398 - accuracy: 0.6822 - val_loss: 1.8142 - val_accuracy: 0.5687 - lr: 5.0000e-07\n",
            "Learning rate:  5e-07\n",
            "Epoch 233/300\n",
            "391/391 [==============================] - ETA: 0s - loss: 1.2376 - accuracy: 0.6818WARNING:tensorflow:Can save best model only with val_acc available, skipping.\n",
            "391/391 [==============================] - 32s 82ms/step - loss: 1.2376 - accuracy: 0.6818 - val_loss: 1.8142 - val_accuracy: 0.5666 - lr: 5.0000e-07\n",
            "Learning rate:  5e-07\n",
            "Epoch 234/300\n",
            "391/391 [==============================] - ETA: 0s - loss: 1.2381 - accuracy: 0.6812WARNING:tensorflow:Can save best model only with val_acc available, skipping.\n",
            "391/391 [==============================] - 32s 81ms/step - loss: 1.2381 - accuracy: 0.6812 - val_loss: 1.8065 - val_accuracy: 0.5671 - lr: 5.0000e-07\n",
            "Learning rate:  5e-07\n",
            "Epoch 235/300\n",
            "391/391 [==============================] - ETA: 0s - loss: 1.2507 - accuracy: 0.6798WARNING:tensorflow:Can save best model only with val_acc available, skipping.\n",
            "391/391 [==============================] - 32s 82ms/step - loss: 1.2507 - accuracy: 0.6798 - val_loss: 1.8383 - val_accuracy: 0.5642 - lr: 5.0000e-07\n",
            "Learning rate:  5e-07\n",
            "Epoch 236/300\n",
            "391/391 [==============================] - ETA: 0s - loss: 1.2705 - accuracy: 0.6730WARNING:tensorflow:Can save best model only with val_acc available, skipping.\n",
            "391/391 [==============================] - 32s 81ms/step - loss: 1.2705 - accuracy: 0.6730 - val_loss: 1.8360 - val_accuracy: 0.5646 - lr: 5.0000e-07\n",
            "Learning rate:  5e-07\n",
            "Epoch 237/300\n",
            "391/391 [==============================] - ETA: 0s - loss: 1.2634 - accuracy: 0.6753WARNING:tensorflow:Can save best model only with val_acc available, skipping.\n",
            "391/391 [==============================] - 32s 82ms/step - loss: 1.2634 - accuracy: 0.6753 - val_loss: 1.8355 - val_accuracy: 0.5654 - lr: 5.0000e-07\n",
            "Learning rate:  5e-07\n",
            "Epoch 238/300\n",
            "391/391 [==============================] - ETA: 0s - loss: 1.2645 - accuracy: 0.6769WARNING:tensorflow:Can save best model only with val_acc available, skipping.\n",
            "391/391 [==============================] - 32s 81ms/step - loss: 1.2645 - accuracy: 0.6769 - val_loss: 1.8352 - val_accuracy: 0.5634 - lr: 5.0000e-07\n",
            "Learning rate:  5e-07\n",
            "Epoch 239/300\n",
            "391/391 [==============================] - ETA: 0s - loss: 1.2633 - accuracy: 0.6759WARNING:tensorflow:Can save best model only with val_acc available, skipping.\n",
            "391/391 [==============================] - 32s 82ms/step - loss: 1.2633 - accuracy: 0.6759 - val_loss: 1.8398 - val_accuracy: 0.5649 - lr: 5.0000e-07\n",
            "Learning rate:  5e-07\n",
            "Epoch 240/300\n",
            "391/391 [==============================] - ETA: 0s - loss: 1.2583 - accuracy: 0.6757WARNING:tensorflow:Can save best model only with val_acc available, skipping.\n",
            "391/391 [==============================] - 32s 81ms/step - loss: 1.2583 - accuracy: 0.6757 - val_loss: 1.8365 - val_accuracy: 0.5655 - lr: 5.0000e-07\n",
            "Learning rate:  5e-07\n",
            "Epoch 241/300\n",
            "391/391 [==============================] - ETA: 0s - loss: 1.2569 - accuracy: 0.6775WARNING:tensorflow:Can save best model only with val_acc available, skipping.\n",
            "391/391 [==============================] - 32s 82ms/step - loss: 1.2569 - accuracy: 0.6775 - val_loss: 1.8305 - val_accuracy: 0.5656 - lr: 5.0000e-07\n",
            "Learning rate:  5e-07\n",
            "Epoch 242/300\n",
            "391/391 [==============================] - ETA: 0s - loss: 1.2571 - accuracy: 0.6784WARNING:tensorflow:Can save best model only with val_acc available, skipping.\n",
            "391/391 [==============================] - 31s 80ms/step - loss: 1.2571 - accuracy: 0.6784 - val_loss: 1.8321 - val_accuracy: 0.5649 - lr: 5.0000e-07\n",
            "Learning rate:  5e-07\n",
            "Epoch 243/300\n",
            "391/391 [==============================] - ETA: 0s - loss: 1.2540 - accuracy: 0.6775WARNING:tensorflow:Can save best model only with val_acc available, skipping.\n",
            "391/391 [==============================] - 32s 82ms/step - loss: 1.2540 - accuracy: 0.6775 - val_loss: 1.8296 - val_accuracy: 0.5654 - lr: 5.0000e-07\n",
            "Learning rate:  5e-07\n",
            "Epoch 244/300\n",
            "391/391 [==============================] - ETA: 0s - loss: 1.2495 - accuracy: 0.6804WARNING:tensorflow:Can save best model only with val_acc available, skipping.\n",
            "391/391 [==============================] - 32s 82ms/step - loss: 1.2495 - accuracy: 0.6804 - val_loss: 1.8257 - val_accuracy: 0.5649 - lr: 5.0000e-07\n",
            "Learning rate:  5e-07\n",
            "Epoch 245/300\n",
            "391/391 [==============================] - ETA: 0s - loss: 1.2433 - accuracy: 0.6812WARNING:tensorflow:Can save best model only with val_acc available, skipping.\n",
            "391/391 [==============================] - 31s 80ms/step - loss: 1.2433 - accuracy: 0.6812 - val_loss: 1.8245 - val_accuracy: 0.5648 - lr: 5.0000e-07\n",
            "Learning rate:  5e-07\n",
            "Epoch 246/300\n",
            "391/391 [==============================] - ETA: 0s - loss: 1.2526 - accuracy: 0.6771WARNING:tensorflow:Can save best model only with val_acc available, skipping.\n",
            "391/391 [==============================] - 32s 82ms/step - loss: 1.2526 - accuracy: 0.6771 - val_loss: 1.8238 - val_accuracy: 0.5656 - lr: 5.0000e-07\n",
            "Learning rate:  5e-07\n",
            "Epoch 247/300\n",
            "391/391 [==============================] - ETA: 0s - loss: 1.2394 - accuracy: 0.6814WARNING:tensorflow:Can save best model only with val_acc available, skipping.\n",
            "391/391 [==============================] - 32s 81ms/step - loss: 1.2394 - accuracy: 0.6814 - val_loss: 1.8212 - val_accuracy: 0.5668 - lr: 5.0000e-07\n",
            "Learning rate:  5e-07\n",
            "Epoch 248/300\n",
            "391/391 [==============================] - ETA: 0s - loss: 1.2409 - accuracy: 0.6809WARNING:tensorflow:Can save best model only with val_acc available, skipping.\n",
            "391/391 [==============================] - 32s 82ms/step - loss: 1.2409 - accuracy: 0.6809 - val_loss: 1.8205 - val_accuracy: 0.5672 - lr: 5.0000e-07\n",
            "Learning rate:  5e-07\n",
            "Epoch 249/300\n",
            "391/391 [==============================] - ETA: 0s - loss: 1.2392 - accuracy: 0.6814WARNING:tensorflow:Can save best model only with val_acc available, skipping.\n",
            "391/391 [==============================] - 31s 80ms/step - loss: 1.2392 - accuracy: 0.6814 - val_loss: 1.8113 - val_accuracy: 0.5672 - lr: 5.0000e-07\n",
            "Learning rate:  5e-07\n",
            "Epoch 250/300\n",
            "391/391 [==============================] - ETA: 0s - loss: 1.2365 - accuracy: 0.6828WARNING:tensorflow:Can save best model only with val_acc available, skipping.\n",
            "391/391 [==============================] - 32s 82ms/step - loss: 1.2365 - accuracy: 0.6828 - val_loss: 1.8095 - val_accuracy: 0.5673 - lr: 5.0000e-07\n",
            "Learning rate:  5e-07\n",
            "Epoch 251/300\n",
            "391/391 [==============================] - ETA: 0s - loss: 1.2325 - accuracy: 0.6858WARNING:tensorflow:Can save best model only with val_acc available, skipping.\n",
            "391/391 [==============================] - 32s 81ms/step - loss: 1.2325 - accuracy: 0.6858 - val_loss: 1.8087 - val_accuracy: 0.5677 - lr: 5.0000e-07\n",
            "Learning rate:  5e-07\n",
            "Epoch 252/300\n",
            "391/391 [==============================] - ETA: 0s - loss: 1.2338 - accuracy: 0.6831WARNING:tensorflow:Can save best model only with val_acc available, skipping.\n",
            "391/391 [==============================] - 32s 82ms/step - loss: 1.2338 - accuracy: 0.6831 - val_loss: 1.8150 - val_accuracy: 0.5683 - lr: 5.0000e-07\n",
            "Learning rate:  5e-07\n",
            "Epoch 253/300\n",
            "391/391 [==============================] - ETA: 0s - loss: 1.2280 - accuracy: 0.6855WARNING:tensorflow:Can save best model only with val_acc available, skipping.\n",
            "391/391 [==============================] - 32s 81ms/step - loss: 1.2280 - accuracy: 0.6855 - val_loss: 1.8136 - val_accuracy: 0.5690 - lr: 5.0000e-07\n",
            "Learning rate:  5e-07\n",
            "Epoch 254/300\n",
            "391/391 [==============================] - ETA: 0s - loss: 1.2309 - accuracy: 0.6847WARNING:tensorflow:Can save best model only with val_acc available, skipping.\n",
            "391/391 [==============================] - 32s 81ms/step - loss: 1.2309 - accuracy: 0.6847 - val_loss: 1.8095 - val_accuracy: 0.5699 - lr: 5.0000e-07\n",
            "Learning rate:  5e-07\n",
            "Epoch 255/300\n",
            "391/391 [==============================] - ETA: 0s - loss: 1.2271 - accuracy: 0.6871WARNING:tensorflow:Can save best model only with val_acc available, skipping.\n",
            "391/391 [==============================] - 32s 81ms/step - loss: 1.2271 - accuracy: 0.6871 - val_loss: 1.8094 - val_accuracy: 0.5700 - lr: 5.0000e-07\n",
            "Learning rate:  5e-07\n",
            "Epoch 256/300\n",
            "391/391 [==============================] - ETA: 0s - loss: 1.2222 - accuracy: 0.6886WARNING:tensorflow:Can save best model only with val_acc available, skipping.\n",
            "391/391 [==============================] - 33s 83ms/step - loss: 1.2222 - accuracy: 0.6886 - val_loss: 1.8071 - val_accuracy: 0.5710 - lr: 5.0000e-07\n",
            "Learning rate:  5e-07\n",
            "Epoch 257/300\n",
            "391/391 [==============================] - ETA: 0s - loss: 1.2261 - accuracy: 0.6854WARNING:tensorflow:Can save best model only with val_acc available, skipping.\n",
            "391/391 [==============================] - 31s 80ms/step - loss: 1.2261 - accuracy: 0.6854 - val_loss: 1.8080 - val_accuracy: 0.5706 - lr: 5.0000e-07\n",
            "Learning rate:  5e-07\n",
            "Epoch 258/300\n",
            "391/391 [==============================] - ETA: 0s - loss: 1.2227 - accuracy: 0.6876WARNING:tensorflow:Can save best model only with val_acc available, skipping.\n",
            "391/391 [==============================] - 32s 81ms/step - loss: 1.2227 - accuracy: 0.6876 - val_loss: 1.8000 - val_accuracy: 0.5723 - lr: 5.0000e-07\n",
            "Learning rate:  5e-07\n",
            "Epoch 259/300\n",
            "391/391 [==============================] - ETA: 0s - loss: 1.2226 - accuracy: 0.6871WARNING:tensorflow:Can save best model only with val_acc available, skipping.\n",
            "391/391 [==============================] - 32s 82ms/step - loss: 1.2226 - accuracy: 0.6871 - val_loss: 1.8067 - val_accuracy: 0.5710 - lr: 5.0000e-07\n",
            "Learning rate:  5e-07\n",
            "Epoch 260/300\n",
            "391/391 [==============================] - ETA: 0s - loss: 1.2278 - accuracy: 0.6832WARNING:tensorflow:Can save best model only with val_acc available, skipping.\n",
            "391/391 [==============================] - 32s 81ms/step - loss: 1.2278 - accuracy: 0.6832 - val_loss: 1.8098 - val_accuracy: 0.5711 - lr: 5.0000e-07\n",
            "Learning rate:  5e-07\n",
            "Epoch 261/300\n",
            "391/391 [==============================] - ETA: 0s - loss: 1.2273 - accuracy: 0.6862WARNING:tensorflow:Can save best model only with val_acc available, skipping.\n",
            "391/391 [==============================] - 32s 82ms/step - loss: 1.2273 - accuracy: 0.6862 - val_loss: 1.8050 - val_accuracy: 0.5718 - lr: 5.0000e-07\n",
            "Learning rate:  5e-07\n",
            "Epoch 262/300\n",
            "391/391 [==============================] - ETA: 0s - loss: 1.2134 - accuracy: 0.6902WARNING:tensorflow:Can save best model only with val_acc available, skipping.\n",
            "391/391 [==============================] - 32s 81ms/step - loss: 1.2134 - accuracy: 0.6902 - val_loss: 1.8054 - val_accuracy: 0.5714 - lr: 5.0000e-07\n",
            "Learning rate:  5e-07\n",
            "Epoch 263/300\n",
            "391/391 [==============================] - ETA: 0s - loss: 1.2220 - accuracy: 0.6887WARNING:tensorflow:Can save best model only with val_acc available, skipping.\n",
            "391/391 [==============================] - 32s 82ms/step - loss: 1.2220 - accuracy: 0.6887 - val_loss: 1.8052 - val_accuracy: 0.5703 - lr: 5.0000e-07\n",
            "Learning rate:  5e-07\n",
            "Epoch 264/300\n",
            "391/391 [==============================] - ETA: 0s - loss: 1.2181 - accuracy: 0.6901WARNING:tensorflow:Can save best model only with val_acc available, skipping.\n",
            "391/391 [==============================] - 31s 80ms/step - loss: 1.2181 - accuracy: 0.6901 - val_loss: 1.8039 - val_accuracy: 0.5711 - lr: 5.0000e-07\n",
            "Learning rate:  5e-07\n",
            "Epoch 265/300\n",
            "391/391 [==============================] - ETA: 0s - loss: 1.2161 - accuracy: 0.6904WARNING:tensorflow:Can save best model only with val_acc available, skipping.\n",
            "391/391 [==============================] - 32s 82ms/step - loss: 1.2161 - accuracy: 0.6904 - val_loss: 1.8013 - val_accuracy: 0.5720 - lr: 5.0000e-07\n",
            "Learning rate:  5e-07\n",
            "Epoch 266/300\n",
            "391/391 [==============================] - ETA: 0s - loss: 1.2222 - accuracy: 0.6868WARNING:tensorflow:Can save best model only with val_acc available, skipping.\n",
            "391/391 [==============================] - 32s 81ms/step - loss: 1.2222 - accuracy: 0.6868 - val_loss: 1.7995 - val_accuracy: 0.5713 - lr: 5.0000e-07\n",
            "Learning rate:  5e-07\n",
            "Epoch 267/300\n",
            "391/391 [==============================] - ETA: 0s - loss: 1.2151 - accuracy: 0.6887WARNING:tensorflow:Can save best model only with val_acc available, skipping.\n",
            "391/391 [==============================] - 32s 82ms/step - loss: 1.2151 - accuracy: 0.6887 - val_loss: 1.8041 - val_accuracy: 0.5696 - lr: 5.0000e-07\n",
            "Learning rate:  5e-07\n",
            "Epoch 268/300\n",
            "391/391 [==============================] - ETA: 0s - loss: 1.2157 - accuracy: 0.6899WARNING:tensorflow:Can save best model only with val_acc available, skipping.\n",
            "391/391 [==============================] - 32s 81ms/step - loss: 1.2157 - accuracy: 0.6899 - val_loss: 1.8023 - val_accuracy: 0.5708 - lr: 5.0000e-07\n",
            "Learning rate:  5e-07\n",
            "Epoch 269/300\n",
            "391/391 [==============================] - ETA: 0s - loss: 1.2194 - accuracy: 0.6901WARNING:tensorflow:Can save best model only with val_acc available, skipping.\n",
            "391/391 [==============================] - 32s 82ms/step - loss: 1.2194 - accuracy: 0.6901 - val_loss: 1.8001 - val_accuracy: 0.5714 - lr: 5.0000e-07\n",
            "Learning rate:  5e-07\n",
            "Epoch 270/300\n",
            "391/391 [==============================] - ETA: 0s - loss: 1.2124 - accuracy: 0.6901WARNING:tensorflow:Can save best model only with val_acc available, skipping.\n",
            "391/391 [==============================] - 31s 80ms/step - loss: 1.2124 - accuracy: 0.6901 - val_loss: 1.7993 - val_accuracy: 0.5708 - lr: 5.0000e-07\n",
            "Learning rate:  5e-07\n",
            "Epoch 271/300\n",
            "391/391 [==============================] - ETA: 0s - loss: 1.2121 - accuracy: 0.6905WARNING:tensorflow:Can save best model only with val_acc available, skipping.\n",
            "391/391 [==============================] - 32s 82ms/step - loss: 1.2121 - accuracy: 0.6905 - val_loss: 1.8010 - val_accuracy: 0.5717 - lr: 5.0000e-07\n",
            "Learning rate:  5e-07\n",
            "Epoch 272/300\n",
            "391/391 [==============================] - ETA: 0s - loss: 1.2104 - accuracy: 0.6912WARNING:tensorflow:Can save best model only with val_acc available, skipping.\n",
            "391/391 [==============================] - 31s 80ms/step - loss: 1.2104 - accuracy: 0.6912 - val_loss: 1.8010 - val_accuracy: 0.5717 - lr: 5.0000e-07\n",
            "Learning rate:  5e-07\n",
            "Epoch 273/300\n",
            "391/391 [==============================] - ETA: 0s - loss: 1.2149 - accuracy: 0.6892WARNING:tensorflow:Can save best model only with val_acc available, skipping.\n",
            "391/391 [==============================] - 32s 82ms/step - loss: 1.2149 - accuracy: 0.6892 - val_loss: 1.7981 - val_accuracy: 0.5721 - lr: 5.0000e-07\n",
            "Learning rate:  5e-07\n",
            "Epoch 274/300\n",
            "391/391 [==============================] - ETA: 0s - loss: 1.2025 - accuracy: 0.6945WARNING:tensorflow:Can save best model only with val_acc available, skipping.\n",
            "391/391 [==============================] - 32s 81ms/step - loss: 1.2025 - accuracy: 0.6945 - val_loss: 1.7962 - val_accuracy: 0.5736 - lr: 5.0000e-07\n",
            "Learning rate:  5e-07\n",
            "Epoch 275/300\n",
            "391/391 [==============================] - ETA: 0s - loss: 1.2033 - accuracy: 0.6935WARNING:tensorflow:Can save best model only with val_acc available, skipping.\n",
            "391/391 [==============================] - 32s 81ms/step - loss: 1.2033 - accuracy: 0.6935 - val_loss: 1.7979 - val_accuracy: 0.5721 - lr: 5.0000e-07\n",
            "Learning rate:  5e-07\n",
            "Epoch 276/300\n",
            "391/391 [==============================] - ETA: 0s - loss: 1.2088 - accuracy: 0.6918WARNING:tensorflow:Can save best model only with val_acc available, skipping.\n",
            "391/391 [==============================] - 32s 81ms/step - loss: 1.2088 - accuracy: 0.6918 - val_loss: 1.7940 - val_accuracy: 0.5713 - lr: 5.0000e-07\n",
            "Learning rate:  5e-07\n",
            "Epoch 277/300\n",
            "391/391 [==============================] - ETA: 0s - loss: 1.2111 - accuracy: 0.6898WARNING:tensorflow:Can save best model only with val_acc available, skipping.\n",
            "391/391 [==============================] - 31s 80ms/step - loss: 1.2111 - accuracy: 0.6898 - val_loss: 1.7943 - val_accuracy: 0.5710 - lr: 5.0000e-07\n",
            "Learning rate:  5e-07\n",
            "Epoch 278/300\n",
            "391/391 [==============================] - ETA: 0s - loss: 1.2054 - accuracy: 0.6926WARNING:tensorflow:Can save best model only with val_acc available, skipping.\n",
            "391/391 [==============================] - 32s 82ms/step - loss: 1.2054 - accuracy: 0.6926 - val_loss: 1.7918 - val_accuracy: 0.5729 - lr: 5.0000e-07\n",
            "Learning rate:  5e-07\n",
            "Epoch 279/300\n",
            "391/391 [==============================] - ETA: 0s - loss: 1.2050 - accuracy: 0.6920WARNING:tensorflow:Can save best model only with val_acc available, skipping.\n",
            "391/391 [==============================] - 31s 80ms/step - loss: 1.2050 - accuracy: 0.6920 - val_loss: 1.7936 - val_accuracy: 0.5723 - lr: 5.0000e-07\n",
            "Learning rate:  5e-07\n",
            "Epoch 280/300\n",
            "391/391 [==============================] - ETA: 0s - loss: 1.2077 - accuracy: 0.6915WARNING:tensorflow:Can save best model only with val_acc available, skipping.\n",
            "391/391 [==============================] - 32s 82ms/step - loss: 1.2077 - accuracy: 0.6915 - val_loss: 1.7943 - val_accuracy: 0.5713 - lr: 5.0000e-07\n",
            "Learning rate:  5e-07\n",
            "Epoch 281/300\n",
            "391/391 [==============================] - ETA: 0s - loss: 1.2031 - accuracy: 0.6915WARNING:tensorflow:Can save best model only with val_acc available, skipping.\n",
            "391/391 [==============================] - 32s 81ms/step - loss: 1.2031 - accuracy: 0.6915 - val_loss: 1.7951 - val_accuracy: 0.5721 - lr: 5.0000e-07\n",
            "Learning rate:  5e-07\n",
            "Epoch 282/300\n",
            "391/391 [==============================] - ETA: 0s - loss: 1.2073 - accuracy: 0.6913WARNING:tensorflow:Can save best model only with val_acc available, skipping.\n",
            "391/391 [==============================] - 32s 81ms/step - loss: 1.2073 - accuracy: 0.6913 - val_loss: 1.7949 - val_accuracy: 0.5711 - lr: 5.0000e-07\n",
            "Learning rate:  5e-07\n",
            "Epoch 283/300\n",
            "391/391 [==============================] - ETA: 0s - loss: 1.2035 - accuracy: 0.6923WARNING:tensorflow:Can save best model only with val_acc available, skipping.\n",
            "391/391 [==============================] - 31s 80ms/step - loss: 1.2035 - accuracy: 0.6923 - val_loss: 1.7919 - val_accuracy: 0.5712 - lr: 5.0000e-07\n",
            "Learning rate:  5e-07\n",
            "Epoch 284/300\n",
            "391/391 [==============================] - ETA: 0s - loss: 1.1944 - accuracy: 0.6978WARNING:tensorflow:Can save best model only with val_acc available, skipping.\n",
            "391/391 [==============================] - 32s 82ms/step - loss: 1.1944 - accuracy: 0.6978 - val_loss: 1.7909 - val_accuracy: 0.5708 - lr: 5.0000e-07\n",
            "Learning rate:  5e-07\n",
            "Epoch 285/300\n",
            "391/391 [==============================] - ETA: 0s - loss: 1.1976 - accuracy: 0.6917WARNING:tensorflow:Can save best model only with val_acc available, skipping.\n",
            "391/391 [==============================] - 32s 81ms/step - loss: 1.1976 - accuracy: 0.6917 - val_loss: 1.7925 - val_accuracy: 0.5714 - lr: 5.0000e-07\n",
            "Learning rate:  5e-07\n",
            "Epoch 286/300\n",
            "391/391 [==============================] - ETA: 0s - loss: 1.1996 - accuracy: 0.6947WARNING:tensorflow:Can save best model only with val_acc available, skipping.\n",
            "391/391 [==============================] - 32s 82ms/step - loss: 1.1996 - accuracy: 0.6947 - val_loss: 1.7891 - val_accuracy: 0.5720 - lr: 5.0000e-07\n",
            "Learning rate:  5e-07\n",
            "Epoch 287/300\n",
            "391/391 [==============================] - ETA: 0s - loss: 1.1982 - accuracy: 0.6946WARNING:tensorflow:Can save best model only with val_acc available, skipping.\n",
            "391/391 [==============================] - 31s 80ms/step - loss: 1.1982 - accuracy: 0.6946 - val_loss: 1.7909 - val_accuracy: 0.5732 - lr: 5.0000e-07\n",
            "Learning rate:  5e-07\n",
            "Epoch 288/300\n",
            "391/391 [==============================] - ETA: 0s - loss: 1.1924 - accuracy: 0.6961WARNING:tensorflow:Can save best model only with val_acc available, skipping.\n",
            "391/391 [==============================] - 32s 82ms/step - loss: 1.1924 - accuracy: 0.6961 - val_loss: 1.7902 - val_accuracy: 0.5727 - lr: 5.0000e-07\n",
            "Learning rate:  5e-07\n",
            "Epoch 289/300\n",
            "391/391 [==============================] - ETA: 0s - loss: 1.2000 - accuracy: 0.6930WARNING:tensorflow:Can save best model only with val_acc available, skipping.\n",
            "391/391 [==============================] - 32s 82ms/step - loss: 1.2000 - accuracy: 0.6930 - val_loss: 1.7893 - val_accuracy: 0.5727 - lr: 5.0000e-07\n",
            "Learning rate:  5e-07\n",
            "Epoch 290/300\n",
            "391/391 [==============================] - ETA: 0s - loss: 1.1910 - accuracy: 0.6955WARNING:tensorflow:Can save best model only with val_acc available, skipping.\n",
            "391/391 [==============================] - 32s 81ms/step - loss: 1.1910 - accuracy: 0.6955 - val_loss: 1.7896 - val_accuracy: 0.5725 - lr: 5.0000e-07\n",
            "Learning rate:  5e-07\n",
            "Epoch 291/300\n",
            "391/391 [==============================] - ETA: 0s - loss: 1.1974 - accuracy: 0.6945WARNING:tensorflow:Can save best model only with val_acc available, skipping.\n",
            "391/391 [==============================] - 32s 82ms/step - loss: 1.1974 - accuracy: 0.6945 - val_loss: 1.7891 - val_accuracy: 0.5733 - lr: 5.0000e-07\n",
            "Learning rate:  5e-07\n",
            "Epoch 292/300\n",
            "391/391 [==============================] - ETA: 0s - loss: 1.1984 - accuracy: 0.6946WARNING:tensorflow:Can save best model only with val_acc available, skipping.\n",
            "391/391 [==============================] - 32s 81ms/step - loss: 1.1984 - accuracy: 0.6946 - val_loss: 1.7870 - val_accuracy: 0.5731 - lr: 5.0000e-07\n",
            "Learning rate:  5e-07\n",
            "Epoch 293/300\n",
            "391/391 [==============================] - ETA: 0s - loss: 1.1912 - accuracy: 0.6954WARNING:tensorflow:Can save best model only with val_acc available, skipping.\n",
            "391/391 [==============================] - 32s 82ms/step - loss: 1.1912 - accuracy: 0.6954 - val_loss: 1.7891 - val_accuracy: 0.5729 - lr: 5.0000e-07\n",
            "Learning rate:  5e-07\n",
            "Epoch 294/300\n",
            "391/391 [==============================] - ETA: 0s - loss: 1.1982 - accuracy: 0.6944WARNING:tensorflow:Can save best model only with val_acc available, skipping.\n",
            "391/391 [==============================] - 32s 81ms/step - loss: 1.1982 - accuracy: 0.6944 - val_loss: 1.7860 - val_accuracy: 0.5734 - lr: 5.0000e-07\n",
            "Learning rate:  5e-07\n",
            "Epoch 295/300\n",
            "391/391 [==============================] - ETA: 0s - loss: 1.1906 - accuracy: 0.6943WARNING:tensorflow:Can save best model only with val_acc available, skipping.\n",
            "391/391 [==============================] - 32s 82ms/step - loss: 1.1906 - accuracy: 0.6943 - val_loss: 1.7862 - val_accuracy: 0.5736 - lr: 5.0000e-07\n",
            "Learning rate:  5e-07\n",
            "Epoch 296/300\n",
            "391/391 [==============================] - ETA: 0s - loss: 1.1896 - accuracy: 0.6967WARNING:tensorflow:Can save best model only with val_acc available, skipping.\n",
            "391/391 [==============================] - 32s 81ms/step - loss: 1.1896 - accuracy: 0.6967 - val_loss: 1.7864 - val_accuracy: 0.5733 - lr: 5.0000e-07\n",
            "Learning rate:  5e-07\n",
            "Epoch 297/300\n",
            "391/391 [==============================] - ETA: 0s - loss: 1.1927 - accuracy: 0.6941WARNING:tensorflow:Can save best model only with val_acc available, skipping.\n",
            "391/391 [==============================] - 32s 83ms/step - loss: 1.1927 - accuracy: 0.6941 - val_loss: 1.7835 - val_accuracy: 0.5741 - lr: 5.0000e-07\n",
            "Learning rate:  5e-07\n",
            "Epoch 298/300\n",
            "391/391 [==============================] - ETA: 0s - loss: 1.1877 - accuracy: 0.6985WARNING:tensorflow:Can save best model only with val_acc available, skipping.\n",
            "391/391 [==============================] - 32s 81ms/step - loss: 1.1877 - accuracy: 0.6985 - val_loss: 1.7856 - val_accuracy: 0.5742 - lr: 5.0000e-07\n",
            "Learning rate:  5e-07\n",
            "Epoch 299/300\n",
            "391/391 [==============================] - ETA: 0s - loss: 1.1917 - accuracy: 0.6970WARNING:tensorflow:Can save best model only with val_acc available, skipping.\n",
            "391/391 [==============================] - 32s 82ms/step - loss: 1.1917 - accuracy: 0.6970 - val_loss: 1.7850 - val_accuracy: 0.5738 - lr: 5.0000e-07\n",
            "Learning rate:  5e-07\n",
            "Epoch 300/300\n",
            "391/391 [==============================] - ETA: 0s - loss: 1.1927 - accuracy: 0.6978WARNING:tensorflow:Can save best model only with val_acc available, skipping.\n",
            "391/391 [==============================] - 32s 81ms/step - loss: 1.1927 - accuracy: 0.6978 - val_loss: 1.7849 - val_accuracy: 0.5743 - lr: 5.0000e-07\n"
          ]
        },
        {
          "data": {
            "text/html": [
              "\n",
              "      <iframe id=\"tensorboard-frame-7084d6401af81b8c\" width=\"100%\" height=\"800\" frameborder=\"0\">\n",
              "      </iframe>\n",
              "      <script>\n",
              "        (function() {\n",
              "          const frame = document.getElementById(\"tensorboard-frame-7084d6401af81b8c\");\n",
              "          const url = new URL(\"/proxy/6006/\", window.location);\n",
              "          const port = 0;\n",
              "          if (port) {\n",
              "            url.port = port;\n",
              "          }\n",
              "          frame.src = url;\n",
              "        })();\n",
              "      </script>\n",
              "    "
            ],
            "text/plain": [
              "<IPython.core.display.HTML object>"
            ]
          },
          "metadata": {},
          "output_type": "display_data"
        },
        {
          "name": "stdout",
          "output_type": "stream",
          "text": [
            "overall training time is 9932.750824213028\n",
            "each epoch training time is [60.94757270812988, 34.42479658126831, 34.93168902397156, 35.282360315322876, 34.79042887687683, 34.99211025238037, 34.75240087509155, 35.34250450134277, 35.054497957229614, 34.55703616142273, 35.0223708152771, 34.10303592681885, 34.83492732048035, 34.935731649398804, 34.88860082626343, 34.95355558395386, 34.8404541015625, 35.28264570236206, 34.68409061431885, 35.24074745178223, 34.771931409835815, 34.37680625915527, 35.22041440010071, 34.034295082092285, 34.31643486022949, 34.03989267349243, 34.415244340896606, 34.380101919174194, 34.03293204307556, 34.31760048866272, 34.12005972862244, 34.67147946357727, 33.90751075744629, 34.352455615997314, 34.86264610290527, 33.763702154159546, 35.127936601638794, 33.32412052154541, 33.89785552024841, 33.467074155807495, 33.8104465007782, 34.60146975517273, 33.79246807098389, 34.222463846206665, 33.42404007911682, 33.70470595359802, 33.118966817855835, 34.09102463722229, 33.73665165901184, 33.8004252910614, 33.802988052368164, 33.58825397491455, 33.67817234992981, 33.01887249946594, 33.48684287071228, 32.852420806884766, 33.68798613548279, 33.70916438102722, 33.429434299468994, 34.0247368812561, 33.53903889656067, 33.61187028884888, 33.274462938308716, 33.94002723693848, 34.61316514015198, 34.06234788894653, 34.38576412200928, 33.371816873550415, 34.13485527038574, 33.31400156021118, 34.327187299728394, 34.03466749191284, 34.01521277427673, 33.86647319793701, 33.6213960647583, 34.35334277153015, 33.73961663246155, 34.60356068611145, 34.36813950538635, 34.02976584434509, 34.199809551239014, 33.85745191574097, 34.55330228805542, 33.93752193450928, 34.1861138343811, 34.197545289993286, 34.14383578300476, 34.36943554878235, 33.92665362358093, 34.83729338645935, 34.01253795623779, 34.466867208480835, 34.72988986968994, 33.66869497299194, 34.17856240272522, 33.54098677635193, 34.192466020584106, 34.10899376869202, 33.983505964279175, 34.65879416465759, 33.218313694000244, 33.81888246536255, 33.10540771484375, 34.09393262863159, 33.385374784469604, 33.9478862285614, 33.66994833946228, 33.44775581359863, 33.82062101364136, 33.18966221809387, 33.78367805480957, 33.202731132507324, 33.486080169677734, 32.470091581344604, 32.86605668067932, 33.00413250923157, 32.252065896987915, 32.64532947540283, 32.24110770225525, 32.94649386405945, 31.96598982810974, 32.579360485076904, 32.205989837646484, 32.74913311004639, 32.05982494354248, 32.437357664108276, 32.56942319869995, 32.345043420791626, 32.56077313423157, 32.1991925239563, 32.51897430419922, 32.14351153373718, 32.51851034164429, 32.098268032073975, 32.60352158546448, 32.04593300819397, 32.71991777420044, 32.05030870437622, 32.40836977958679, 32.91647219657898, 32.27920866012573, 32.90994358062744, 32.357160806655884, 32.98707556724548, 32.04616737365723, 32.48725342750549, 31.93032741546631, 32.49109244346619, 31.918322801589966, 32.39249801635742, 31.96280550956726, 32.47317028045654, 32.7097065448761, 32.059786319732666, 32.313016176223755, 32.06017065048218, 32.575942516326904, 31.628288507461548, 32.226218461990356, 31.81335711479187, 32.4766480922699, 32.04835081100464, 32.45346760749817, 32.969279289245605, 32.1499228477478, 32.39284944534302, 31.82052779197693, 32.40578055381775, 31.983240604400635, 32.54737305641174, 31.781289100646973, 32.515995264053345, 31.82682466506958, 32.42295837402344, 32.154929637908936, 32.39952754974365, 32.24659252166748, 32.353793144226074, 32.635481119155884, 32.3609561920166, 32.27614426612854, 31.816831827163696, 32.374730825424194, 31.708601474761963, 32.201435565948486, 31.821715116500854, 32.0976243019104, 31.75482988357544, 32.1092255115509, 31.59083867073059, 32.63246989250183, 32.566224098205566, 31.919849634170532, 32.30711603164673, 31.801265954971313, 32.42482924461365, 31.88729977607727, 32.31212377548218, 31.565689086914062, 33.17801880836487, 31.670958995819092, 32.19385766983032, 32.00869369506836, 32.518856048583984, 32.67128801345825, 31.679094314575195, 32.31483507156372, 31.58967113494873, 32.148348569869995, 31.799783945083618, 32.06924486160278, 31.5025315284729, 32.34656548500061, 32.18053698539734, 32.54901194572449, 33.16620850563049, 32.26194620132446, 31.92021346092224, 31.797545909881592, 32.163291931152344, 31.647599697113037, 31.971345901489258, 31.464011669158936, 31.98224401473999, 31.67509388923645, 32.06697201728821, 31.595871448516846, 31.98749852180481, 31.82185435295105, 32.1750066280365, 31.474667072296143, 32.11619591712952, 32.175681591033936, 31.839349031448364, 32.119016885757446, 31.659564971923828, 32.02039098739624, 31.68449592590332, 32.284836530685425, 31.74528980255127, 31.943090677261353, 31.448456287384033, 32.08792591094971, 32.192437171936035, 31.403005599975586, 31.950812101364136, 31.556004524230957, 32.05406451225281, 31.511890172958374, 32.16366791725159, 31.783867597579956, 32.14402770996094, 31.866637468338013, 31.928117036819458, 31.726682424545288, 32.62207913398743, 31.464595079421997, 32.06992769241333, 32.08764147758484, 31.654813051223755, 32.232004165649414, 31.779273509979248, 32.11537790298462, 31.494314432144165, 32.16892194747925, 31.648428201675415, 32.04704976081848, 31.641002893447876, 32.02218675613403, 31.538115978240967, 31.98445224761963, 31.502500295639038, 32.086591958999634, 31.829105377197266, 31.750072479248047, 31.818198204040527, 31.512346506118774, 31.970357418060303, 31.334689140319824, 32.207273721694946, 31.712732791900635, 31.905887842178345, 31.511178731918335, 32.20476961135864, 31.623215198516846, 32.104204416275024, 31.363560914993286, 32.11051964759827, 32.04965591430664, 31.554275035858154, 32.28094744682312, 31.677959203720093, 32.14454746246338, 31.658191204071045, 32.07706642150879, 31.57312297821045, 32.321181535720825, 31.621073246002197, 32.17682862281799, 31.788244009017944]\n",
            "313/313 [==============================] - 2s 8ms/step - loss: 1.7849 - accuracy: 0.5743\n",
            "Test loss: 1.784867763519287\n",
            "Test accuracy: 0.5742999911308289\n",
            "tt /home/jupyter/final_proj/saved_models/resnet_super_twenty_300epochs_20_V100\n",
            "WARNING:tensorflow:Compiled the loaded model, but the compiled metrics have yet to be built. `model.compile_metrics` will be empty until you train or evaluate the model.\n",
            "Saved pruned Keras model to: /home/jupyter/final_proj/saved_models/PRUNE_resnet_super_twenty_300epochs_20_V100.h5\n"
          ]
        },
        {
          "name": "stderr",
          "output_type": "stream",
          "text": [
            "WARNING:absl:Found untraced functions such as conv2d_layer_call_fn, conv2d_layer_call_and_return_conditional_losses, _jit_compiled_convolution_op, activation_layer_call_fn, activation_layer_call_and_return_conditional_losses while saving (showing 5 of 123). These functions will not be directly callable after loading.\n"
          ]
        },
        {
          "name": "stdout",
          "output_type": "stream",
          "text": [
            "INFO:tensorflow:Assets written to: /tmp/tmpfccdg5g3/assets\n"
          ]
        },
        {
          "name": "stderr",
          "output_type": "stream",
          "text": [
            "INFO:tensorflow:Assets written to: /tmp/tmpfccdg5g3/assets\n",
            "2022-12-17 08:49:10.840252: W tensorflow/compiler/mlir/lite/python/tf_tfl_flatbuffer_helpers.cc:362] Ignored output_format.\n",
            "2022-12-17 08:49:10.840317: W tensorflow/compiler/mlir/lite/python/tf_tfl_flatbuffer_helpers.cc:365] Ignored drop_control_dependency.\n",
            "2022-12-17 08:49:10.841207: I tensorflow/cc/saved_model/reader.cc:45] Reading SavedModel from: /tmp/tmpfccdg5g3\n",
            "2022-12-17 08:49:10.909449: I tensorflow/cc/saved_model/reader.cc:89] Reading meta graph with tags { serve }\n",
            "2022-12-17 08:49:10.909500: I tensorflow/cc/saved_model/reader.cc:130] Reading SavedModel debug info (if present) from: /tmp/tmpfccdg5g3\n",
            "2022-12-17 08:49:11.138986: I tensorflow/compiler/mlir/mlir_graph_optimization_pass.cc:354] MLIR V1 optimization pass is not enabled\n",
            "2022-12-17 08:49:11.215573: I tensorflow/cc/saved_model/loader.cc:229] Restoring SavedModel bundle.\n",
            "2022-12-17 08:49:12.032488: I tensorflow/cc/saved_model/loader.cc:213] Running initialization op on SavedModel bundle at path: /tmp/tmpfccdg5g3\n",
            "2022-12-17 08:49:12.336426: I tensorflow/cc/saved_model/loader.cc:305] SavedModel load for tags { serve }; Status: success: OK. Took 1495221 microseconds.\n",
            "2022-12-17 08:49:13.341843: I tensorflow/compiler/mlir/tensorflow/utils/dump_mlir_util.cc:268] disabling MLIR crash reproducer, set env var `MLIR_CRASH_REPRODUCER_DIRECTORY` to enable.\n"
          ]
        },
        {
          "name": "stdout",
          "output_type": "stream",
          "text": [
            "Saved pruned TFLite model to: /home/jupyter/final_proj/saved_models/lite_PRUNE_resnet_super_twenty_300epochs_20_V100.h5\n"
          ]
        },
        {
          "name": "stderr",
          "output_type": "stream",
          "text": [
            "WARNING:absl:Found untraced functions such as conv2d_layer_call_fn, conv2d_layer_call_and_return_conditional_losses, _jit_compiled_convolution_op, activation_layer_call_fn, activation_layer_call_and_return_conditional_losses while saving (showing 5 of 123). These functions will not be directly callable after loading.\n"
          ]
        },
        {
          "name": "stdout",
          "output_type": "stream",
          "text": [
            "INFO:tensorflow:Assets written to: /tmp/tmpwsoaitzw/assets\n"
          ]
        },
        {
          "name": "stderr",
          "output_type": "stream",
          "text": [
            "INFO:tensorflow:Assets written to: /tmp/tmpwsoaitzw/assets\n",
            "2022-12-17 08:50:23.444682: W tensorflow/compiler/mlir/lite/python/tf_tfl_flatbuffer_helpers.cc:362] Ignored output_format.\n",
            "2022-12-17 08:50:23.444749: W tensorflow/compiler/mlir/lite/python/tf_tfl_flatbuffer_helpers.cc:365] Ignored drop_control_dependency.\n",
            "2022-12-17 08:50:23.444962: I tensorflow/cc/saved_model/reader.cc:45] Reading SavedModel from: /tmp/tmpwsoaitzw\n",
            "2022-12-17 08:50:23.512346: I tensorflow/cc/saved_model/reader.cc:89] Reading meta graph with tags { serve }\n",
            "2022-12-17 08:50:23.512395: I tensorflow/cc/saved_model/reader.cc:130] Reading SavedModel debug info (if present) from: /tmp/tmpwsoaitzw\n",
            "2022-12-17 08:50:23.820623: I tensorflow/cc/saved_model/loader.cc:229] Restoring SavedModel bundle.\n",
            "2022-12-17 08:50:24.644593: I tensorflow/cc/saved_model/loader.cc:213] Running initialization op on SavedModel bundle at path: /tmp/tmpwsoaitzw\n",
            "2022-12-17 08:50:24.958947: I tensorflow/cc/saved_model/loader.cc:305] SavedModel load for tags { serve }; Status: success: OK. Took 1513984 microseconds.\n"
          ]
        },
        {
          "name": "stdout",
          "output_type": "stream",
          "text": [
            "Saved pruned TFLite model to: /home/jupyter/final_proj/saved_models/lite_quant_PRUNE_resnet_super_twenty_300epochs_20_V100.h5\n",
            "Size of gzipped pruned Keras model: 468904.00 bytes\n",
            "Size of gzipped pruned TFlite model: 523207.00 bytes\n",
            "Size of gzipped pruned and quantized TFlite model: 523225.00 bytes\n",
            "x_train shape: (50000, 32, 32, 3)\n",
            "50000 train samples\n",
            "10000 test samples\n",
            "y_train shape: (50000, 100)\n",
            "Learning rate:  0.001\n",
            "Model: \"model_1\"\n",
            "__________________________________________________________________________________________________\n",
            " Layer (type)                   Output Shape         Param #     Connected to                     \n",
            "==================================================================================================\n",
            " input_2 (InputLayer)           [(None, 32, 32, 3)]  0           []                               \n",
            "                                                                                                  \n",
            " prune_low_magnitude_conv2d_21   (None, 32, 32, 16)  882         ['input_2[0][0]']                \n",
            " (PruneLowMagnitude)                                                                              \n",
            "                                                                                                  \n",
            " prune_low_magnitude_batch_norm  (None, 32, 32, 16)  65          ['prune_low_magnitude_conv2d_21[0\n",
            " alization_19 (PruneLowMagnitud                                  ][0]']                           \n",
            " e)                                                                                               \n",
            "                                                                                                  \n",
            " prune_low_magnitude_activation  (None, 32, 32, 16)  1           ['prune_low_magnitude_batch_norma\n",
            " _19 (PruneLowMagnitude)                                         lization_19[0][0]']              \n",
            "                                                                                                  \n",
            " prune_low_magnitude_conv2d_22   (None, 32, 32, 16)  4626        ['prune_low_magnitude_activation_\n",
            " (PruneLowMagnitude)                                             19[0][0]']                       \n",
            "                                                                                                  \n",
            " prune_low_magnitude_batch_norm  (None, 32, 32, 16)  65          ['prune_low_magnitude_conv2d_22[0\n",
            " alization_20 (PruneLowMagnitud                                  ][0]']                           \n",
            " e)                                                                                               \n",
            "                                                                                                  \n",
            " prune_low_magnitude_activation  (None, 32, 32, 16)  1           ['prune_low_magnitude_batch_norma\n",
            " _20 (PruneLowMagnitude)                                         lization_20[0][0]']              \n",
            "                                                                                                  \n",
            " prune_low_magnitude_conv2d_23   (None, 32, 32, 16)  4626        ['prune_low_magnitude_activation_\n",
            " (PruneLowMagnitude)                                             20[0][0]']                       \n",
            "                                                                                                  \n",
            " prune_low_magnitude_batch_norm  (None, 32, 32, 16)  65          ['prune_low_magnitude_conv2d_23[0\n",
            " alization_21 (PruneLowMagnitud                                  ][0]']                           \n",
            " e)                                                                                               \n",
            "                                                                                                  \n",
            " prune_low_magnitude_add_9 (Pru  (None, 32, 32, 16)  1           ['prune_low_magnitude_activation_\n",
            " neLowMagnitude)                                                 19[0][0]',                       \n",
            "                                                                  'prune_low_magnitude_batch_norma\n",
            "                                                                 lization_21[0][0]']              \n",
            "                                                                                                  \n",
            " prune_low_magnitude_activation  (None, 32, 32, 16)  1           ['prune_low_magnitude_add_9[0][0]\n",
            " _21 (PruneLowMagnitude)                                         ']                               \n",
            "                                                                                                  \n",
            " prune_low_magnitude_conv2d_24   (None, 32, 32, 16)  4626        ['prune_low_magnitude_activation_\n",
            " (PruneLowMagnitude)                                             21[0][0]']                       \n",
            "                                                                                                  \n",
            " prune_low_magnitude_batch_norm  (None, 32, 32, 16)  65          ['prune_low_magnitude_conv2d_24[0\n",
            " alization_22 (PruneLowMagnitud                                  ][0]']                           \n",
            " e)                                                                                               \n",
            "                                                                                                  \n",
            " prune_low_magnitude_activation  (None, 32, 32, 16)  1           ['prune_low_magnitude_batch_norma\n",
            " _22 (PruneLowMagnitude)                                         lization_22[0][0]']              \n",
            "                                                                                                  \n",
            " prune_low_magnitude_conv2d_25   (None, 32, 32, 16)  4626        ['prune_low_magnitude_activation_\n",
            " (PruneLowMagnitude)                                             22[0][0]']                       \n",
            "                                                                                                  \n",
            " prune_low_magnitude_batch_norm  (None, 32, 32, 16)  65          ['prune_low_magnitude_conv2d_25[0\n",
            " alization_23 (PruneLowMagnitud                                  ][0]']                           \n",
            " e)                                                                                               \n",
            "                                                                                                  \n",
            " prune_low_magnitude_add_10 (Pr  (None, 32, 32, 16)  1           ['prune_low_magnitude_activation_\n",
            " uneLowMagnitude)                                                21[0][0]',                       \n",
            "                                                                  'prune_low_magnitude_batch_norma\n",
            "                                                                 lization_23[0][0]']              \n",
            "                                                                                                  \n",
            " prune_low_magnitude_activation  (None, 32, 32, 16)  1           ['prune_low_magnitude_add_10[0][0\n",
            " _23 (PruneLowMagnitude)                                         ]']                              \n",
            "                                                                                                  \n",
            " prune_low_magnitude_conv2d_26   (None, 32, 32, 16)  4626        ['prune_low_magnitude_activation_\n",
            " (PruneLowMagnitude)                                             23[0][0]']                       \n",
            "                                                                                                  \n",
            " prune_low_magnitude_batch_norm  (None, 32, 32, 16)  65          ['prune_low_magnitude_conv2d_26[0\n",
            " alization_24 (PruneLowMagnitud                                  ][0]']                           \n",
            " e)                                                                                               \n",
            "                                                                                                  \n",
            " prune_low_magnitude_activation  (None, 32, 32, 16)  1           ['prune_low_magnitude_batch_norma\n",
            " _24 (PruneLowMagnitude)                                         lization_24[0][0]']              \n",
            "                                                                                                  \n",
            " prune_low_magnitude_conv2d_27   (None, 32, 32, 16)  4626        ['prune_low_magnitude_activation_\n",
            " (PruneLowMagnitude)                                             24[0][0]']                       \n",
            "                                                                                                  \n",
            " prune_low_magnitude_batch_norm  (None, 32, 32, 16)  65          ['prune_low_magnitude_conv2d_27[0\n",
            " alization_25 (PruneLowMagnitud                                  ][0]']                           \n",
            " e)                                                                                               \n",
            "                                                                                                  \n",
            " prune_low_magnitude_add_11 (Pr  (None, 32, 32, 16)  1           ['prune_low_magnitude_activation_\n",
            " uneLowMagnitude)                                                23[0][0]',                       \n",
            "                                                                  'prune_low_magnitude_batch_norma\n",
            "                                                                 lization_25[0][0]']              \n",
            "                                                                                                  \n",
            " prune_low_magnitude_activation  (None, 32, 32, 16)  1           ['prune_low_magnitude_add_11[0][0\n",
            " _25 (PruneLowMagnitude)                                         ]']                              \n",
            "                                                                                                  \n",
            " prune_low_magnitude_conv2d_28   (None, 32, 32, 16)  4626        ['prune_low_magnitude_activation_\n",
            " (PruneLowMagnitude)                                             25[0][0]']                       \n",
            "                                                                                                  \n",
            " prune_low_magnitude_batch_norm  (None, 32, 32, 16)  65          ['prune_low_magnitude_conv2d_28[0\n",
            " alization_26 (PruneLowMagnitud                                  ][0]']                           \n",
            " e)                                                                                               \n",
            "                                                                                                  \n",
            " prune_low_magnitude_activation  (None, 32, 32, 16)  1           ['prune_low_magnitude_batch_norma\n",
            " _26 (PruneLowMagnitude)                                         lization_26[0][0]']              \n",
            "                                                                                                  \n",
            " prune_low_magnitude_conv2d_29   (None, 32, 32, 16)  4626        ['prune_low_magnitude_activation_\n",
            " (PruneLowMagnitude)                                             26[0][0]']                       \n",
            "                                                                                                  \n",
            " prune_low_magnitude_batch_norm  (None, 32, 32, 16)  65          ['prune_low_magnitude_conv2d_29[0\n",
            " alization_27 (PruneLowMagnitud                                  ][0]']                           \n",
            " e)                                                                                               \n",
            "                                                                                                  \n",
            " prune_low_magnitude_add_12 (Pr  (None, 32, 32, 16)  1           ['prune_low_magnitude_activation_\n",
            " uneLowMagnitude)                                                25[0][0]',                       \n",
            "                                                                  'prune_low_magnitude_batch_norma\n",
            "                                                                 lization_27[0][0]']              \n",
            "                                                                                                  \n",
            " prune_low_magnitude_activation  (None, 32, 32, 16)  1           ['prune_low_magnitude_add_12[0][0\n",
            " _27 (PruneLowMagnitude)                                         ]']                              \n",
            "                                                                                                  \n",
            " prune_low_magnitude_conv2d_30   (None, 32, 32, 16)  4626        ['prune_low_magnitude_activation_\n",
            " (PruneLowMagnitude)                                             27[0][0]']                       \n",
            "                                                                                                  \n",
            " prune_low_magnitude_batch_norm  (None, 32, 32, 16)  65          ['prune_low_magnitude_conv2d_30[0\n",
            " alization_28 (PruneLowMagnitud                                  ][0]']                           \n",
            " e)                                                                                               \n",
            "                                                                                                  \n",
            " prune_low_magnitude_activation  (None, 32, 32, 16)  1           ['prune_low_magnitude_batch_norma\n",
            " _28 (PruneLowMagnitude)                                         lization_28[0][0]']              \n",
            "                                                                                                  \n",
            " prune_low_magnitude_conv2d_31   (None, 32, 32, 16)  4626        ['prune_low_magnitude_activation_\n",
            " (PruneLowMagnitude)                                             28[0][0]']                       \n",
            "                                                                                                  \n",
            " prune_low_magnitude_batch_norm  (None, 32, 32, 16)  65          ['prune_low_magnitude_conv2d_31[0\n",
            " alization_29 (PruneLowMagnitud                                  ][0]']                           \n",
            " e)                                                                                               \n",
            "                                                                                                  \n",
            " prune_low_magnitude_add_13 (Pr  (None, 32, 32, 16)  1           ['prune_low_magnitude_activation_\n",
            " uneLowMagnitude)                                                27[0][0]',                       \n",
            "                                                                  'prune_low_magnitude_batch_norma\n",
            "                                                                 lization_29[0][0]']              \n",
            "                                                                                                  \n",
            " prune_low_magnitude_activation  (None, 32, 32, 16)  1           ['prune_low_magnitude_add_13[0][0\n",
            " _29 (PruneLowMagnitude)                                         ]']                              \n",
            "                                                                                                  \n",
            " prune_low_magnitude_conv2d_32   (None, 32, 32, 16)  4626        ['prune_low_magnitude_activation_\n",
            " (PruneLowMagnitude)                                             29[0][0]']                       \n",
            "                                                                                                  \n",
            " prune_low_magnitude_batch_norm  (None, 32, 32, 16)  65          ['prune_low_magnitude_conv2d_32[0\n",
            " alization_30 (PruneLowMagnitud                                  ][0]']                           \n",
            " e)                                                                                               \n",
            "                                                                                                  \n",
            " prune_low_magnitude_activation  (None, 32, 32, 16)  1           ['prune_low_magnitude_batch_norma\n",
            " _30 (PruneLowMagnitude)                                         lization_30[0][0]']              \n",
            "                                                                                                  \n",
            " prune_low_magnitude_conv2d_33   (None, 32, 32, 16)  4626        ['prune_low_magnitude_activation_\n",
            " (PruneLowMagnitude)                                             30[0][0]']                       \n",
            "                                                                                                  \n",
            " prune_low_magnitude_batch_norm  (None, 32, 32, 16)  65          ['prune_low_magnitude_conv2d_33[0\n",
            " alization_31 (PruneLowMagnitud                                  ][0]']                           \n",
            " e)                                                                                               \n",
            "                                                                                                  \n",
            " prune_low_magnitude_add_14 (Pr  (None, 32, 32, 16)  1           ['prune_low_magnitude_activation_\n",
            " uneLowMagnitude)                                                29[0][0]',                       \n",
            "                                                                  'prune_low_magnitude_batch_norma\n",
            "                                                                 lization_31[0][0]']              \n",
            "                                                                                                  \n",
            " prune_low_magnitude_activation  (None, 32, 32, 16)  1           ['prune_low_magnitude_add_14[0][0\n",
            " _31 (PruneLowMagnitude)                                         ]']                              \n",
            "                                                                                                  \n",
            " prune_low_magnitude_conv2d_34   (None, 32, 32, 16)  4626        ['prune_low_magnitude_activation_\n",
            " (PruneLowMagnitude)                                             31[0][0]']                       \n",
            "                                                                                                  \n",
            " prune_low_magnitude_batch_norm  (None, 32, 32, 16)  65          ['prune_low_magnitude_conv2d_34[0\n",
            " alization_32 (PruneLowMagnitud                                  ][0]']                           \n",
            " e)                                                                                               \n",
            "                                                                                                  \n",
            " prune_low_magnitude_activation  (None, 32, 32, 16)  1           ['prune_low_magnitude_batch_norma\n",
            " _32 (PruneLowMagnitude)                                         lization_32[0][0]']              \n",
            "                                                                                                  \n",
            " prune_low_magnitude_conv2d_35   (None, 32, 32, 16)  4626        ['prune_low_magnitude_activation_\n",
            " (PruneLowMagnitude)                                             32[0][0]']                       \n",
            "                                                                                                  \n",
            " prune_low_magnitude_batch_norm  (None, 32, 32, 16)  65          ['prune_low_magnitude_conv2d_35[0\n",
            " alization_33 (PruneLowMagnitud                                  ][0]']                           \n",
            " e)                                                                                               \n",
            "                                                                                                  \n",
            " prune_low_magnitude_add_15 (Pr  (None, 32, 32, 16)  1           ['prune_low_magnitude_activation_\n",
            " uneLowMagnitude)                                                31[0][0]',                       \n",
            "                                                                  'prune_low_magnitude_batch_norma\n",
            "                                                                 lization_33[0][0]']              \n",
            "                                                                                                  \n",
            " prune_low_magnitude_activation  (None, 32, 32, 16)  1           ['prune_low_magnitude_add_15[0][0\n",
            " _33 (PruneLowMagnitude)                                         ]']                              \n",
            "                                                                                                  \n",
            " prune_low_magnitude_conv2d_36   (None, 16, 16, 32)  9250        ['prune_low_magnitude_activation_\n",
            " (PruneLowMagnitude)                                             33[0][0]']                       \n",
            "                                                                                                  \n",
            " prune_low_magnitude_batch_norm  (None, 16, 16, 32)  129         ['prune_low_magnitude_conv2d_36[0\n",
            " alization_34 (PruneLowMagnitud                                  ][0]']                           \n",
            " e)                                                                                               \n",
            "                                                                                                  \n",
            " prune_low_magnitude_activation  (None, 16, 16, 32)  1           ['prune_low_magnitude_batch_norma\n",
            " _34 (PruneLowMagnitude)                                         lization_34[0][0]']              \n",
            "                                                                                                  \n",
            " prune_low_magnitude_conv2d_37   (None, 16, 16, 32)  18466       ['prune_low_magnitude_activation_\n",
            " (PruneLowMagnitude)                                             34[0][0]']                       \n",
            "                                                                                                  \n",
            " prune_low_magnitude_conv2d_38   (None, 16, 16, 32)  1058        ['prune_low_magnitude_activation_\n"
          ]
        },
        {
          "name": "stderr",
          "output_type": "stream",
          "text": [
            "/opt/conda/lib/python3.7/site-packages/keras/optimizers/optimizer_v2/adam.py:114: UserWarning: The `lr` argument is deprecated, use `learning_rate` instead.\n",
            "  super().__init__(name, **kwargs)\n"
          ]
        },
        {
          "name": "stdout",
          "output_type": "stream",
          "text": [
            " (PruneLowMagnitude)                                             33[0][0]']                       \n",
            "                                                                                                  \n",
            " prune_low_magnitude_batch_norm  (None, 16, 16, 32)  129         ['prune_low_magnitude_conv2d_37[0\n",
            " alization_35 (PruneLowMagnitud                                  ][0]']                           \n",
            " e)                                                                                               \n",
            "                                                                                                  \n",
            " prune_low_magnitude_add_16 (Pr  (None, 16, 16, 32)  1           ['prune_low_magnitude_conv2d_38[0\n",
            " uneLowMagnitude)                                                ][0]',                           \n",
            "                                                                  'prune_low_magnitude_batch_norma\n",
            "                                                                 lization_35[0][0]']              \n",
            "                                                                                                  \n",
            " prune_low_magnitude_activation  (None, 16, 16, 32)  1           ['prune_low_magnitude_add_16[0][0\n",
            " _35 (PruneLowMagnitude)                                         ]']                              \n",
            "                                                                                                  \n",
            " prune_low_magnitude_conv2d_39   (None, 16, 16, 32)  18466       ['prune_low_magnitude_activation_\n",
            " (PruneLowMagnitude)                                             35[0][0]']                       \n",
            "                                                                                                  \n",
            " prune_low_magnitude_batch_norm  (None, 16, 16, 32)  129         ['prune_low_magnitude_conv2d_39[0\n",
            " alization_36 (PruneLowMagnitud                                  ][0]']                           \n",
            " e)                                                                                               \n",
            "                                                                                                  \n",
            " prune_low_magnitude_activation  (None, 16, 16, 32)  1           ['prune_low_magnitude_batch_norma\n",
            " _36 (PruneLowMagnitude)                                         lization_36[0][0]']              \n",
            "                                                                                                  \n",
            " prune_low_magnitude_conv2d_40   (None, 16, 16, 32)  18466       ['prune_low_magnitude_activation_\n",
            " (PruneLowMagnitude)                                             36[0][0]']                       \n",
            "                                                                                                  \n",
            " prune_low_magnitude_batch_norm  (None, 16, 16, 32)  129         ['prune_low_magnitude_conv2d_40[0\n",
            " alization_37 (PruneLowMagnitud                                  ][0]']                           \n",
            " e)                                                                                               \n",
            "                                                                                                  \n",
            " prune_low_magnitude_add_17 (Pr  (None, 16, 16, 32)  1           ['prune_low_magnitude_activation_\n",
            " uneLowMagnitude)                                                35[0][0]',                       \n",
            "                                                                  'prune_low_magnitude_batch_norma\n",
            "                                                                 lization_37[0][0]']              \n",
            "                                                                                                  \n",
            " prune_low_magnitude_activation  (None, 16, 16, 32)  1           ['prune_low_magnitude_add_17[0][0\n",
            " _37 (PruneLowMagnitude)                                         ]']                              \n",
            "                                                                                                  \n",
            " prune_low_magnitude_conv2d_41   (None, 16, 16, 32)  18466       ['prune_low_magnitude_activation_\n",
            " (PruneLowMagnitude)                                             37[0][0]']                       \n",
            "                                                                                                  \n",
            " prune_low_magnitude_batch_norm  (None, 16, 16, 32)  129         ['prune_low_magnitude_conv2d_41[0\n",
            " alization_38 (PruneLowMagnitud                                  ][0]']                           \n",
            " e)                                                                                               \n",
            "                                                                                                  \n",
            " prune_low_magnitude_activation  (None, 16, 16, 32)  1           ['prune_low_magnitude_batch_norma\n",
            " _38 (PruneLowMagnitude)                                         lization_38[0][0]']              \n",
            "                                                                                                  \n",
            " prune_low_magnitude_conv2d_42   (None, 16, 16, 32)  18466       ['prune_low_magnitude_activation_\n",
            " (PruneLowMagnitude)                                             38[0][0]']                       \n",
            "                                                                                                  \n",
            " prune_low_magnitude_batch_norm  (None, 16, 16, 32)  129         ['prune_low_magnitude_conv2d_42[0\n",
            " alization_39 (PruneLowMagnitud                                  ][0]']                           \n",
            " e)                                                                                               \n",
            "                                                                                                  \n",
            " prune_low_magnitude_add_18 (Pr  (None, 16, 16, 32)  1           ['prune_low_magnitude_activation_\n",
            " uneLowMagnitude)                                                37[0][0]',                       \n",
            "                                                                  'prune_low_magnitude_batch_norma\n",
            "                                                                 lization_39[0][0]']              \n",
            "                                                                                                  \n",
            " prune_low_magnitude_activation  (None, 16, 16, 32)  1           ['prune_low_magnitude_add_18[0][0\n",
            " _39 (PruneLowMagnitude)                                         ]']                              \n",
            "                                                                                                  \n",
            " prune_low_magnitude_conv2d_43   (None, 16, 16, 32)  18466       ['prune_low_magnitude_activation_\n",
            " (PruneLowMagnitude)                                             39[0][0]']                       \n",
            "                                                                                                  \n",
            " prune_low_magnitude_batch_norm  (None, 16, 16, 32)  129         ['prune_low_magnitude_conv2d_43[0\n",
            " alization_40 (PruneLowMagnitud                                  ][0]']                           \n",
            " e)                                                                                               \n",
            "                                                                                                  \n",
            " prune_low_magnitude_activation  (None, 16, 16, 32)  1           ['prune_low_magnitude_batch_norma\n",
            " _40 (PruneLowMagnitude)                                         lization_40[0][0]']              \n",
            "                                                                                                  \n",
            " prune_low_magnitude_conv2d_44   (None, 16, 16, 32)  18466       ['prune_low_magnitude_activation_\n",
            " (PruneLowMagnitude)                                             40[0][0]']                       \n",
            "                                                                                                  \n",
            " prune_low_magnitude_batch_norm  (None, 16, 16, 32)  129         ['prune_low_magnitude_conv2d_44[0\n",
            " alization_41 (PruneLowMagnitud                                  ][0]']                           \n",
            " e)                                                                                               \n",
            "                                                                                                  \n",
            " prune_low_magnitude_add_19 (Pr  (None, 16, 16, 32)  1           ['prune_low_magnitude_activation_\n",
            " uneLowMagnitude)                                                39[0][0]',                       \n",
            "                                                                  'prune_low_magnitude_batch_norma\n",
            "                                                                 lization_41[0][0]']              \n",
            "                                                                                                  \n",
            " prune_low_magnitude_activation  (None, 16, 16, 32)  1           ['prune_low_magnitude_add_19[0][0\n",
            " _41 (PruneLowMagnitude)                                         ]']                              \n",
            "                                                                                                  \n",
            " prune_low_magnitude_conv2d_45   (None, 16, 16, 32)  18466       ['prune_low_magnitude_activation_\n",
            " (PruneLowMagnitude)                                             41[0][0]']                       \n",
            "                                                                                                  \n",
            " prune_low_magnitude_batch_norm  (None, 16, 16, 32)  129         ['prune_low_magnitude_conv2d_45[0\n",
            " alization_42 (PruneLowMagnitud                                  ][0]']                           \n",
            " e)                                                                                               \n",
            "                                                                                                  \n",
            " prune_low_magnitude_activation  (None, 16, 16, 32)  1           ['prune_low_magnitude_batch_norma\n",
            " _42 (PruneLowMagnitude)                                         lization_42[0][0]']              \n",
            "                                                                                                  \n",
            " prune_low_magnitude_conv2d_46   (None, 16, 16, 32)  18466       ['prune_low_magnitude_activation_\n",
            " (PruneLowMagnitude)                                             42[0][0]']                       \n",
            "                                                                                                  \n",
            " prune_low_magnitude_batch_norm  (None, 16, 16, 32)  129         ['prune_low_magnitude_conv2d_46[0\n",
            " alization_43 (PruneLowMagnitud                                  ][0]']                           \n",
            " e)                                                                                               \n",
            "                                                                                                  \n",
            " prune_low_magnitude_add_20 (Pr  (None, 16, 16, 32)  1           ['prune_low_magnitude_activation_\n",
            " uneLowMagnitude)                                                41[0][0]',                       \n",
            "                                                                  'prune_low_magnitude_batch_norma\n",
            "                                                                 lization_43[0][0]']              \n",
            "                                                                                                  \n",
            " prune_low_magnitude_activation  (None, 16, 16, 32)  1           ['prune_low_magnitude_add_20[0][0\n",
            " _43 (PruneLowMagnitude)                                         ]']                              \n",
            "                                                                                                  \n",
            " prune_low_magnitude_conv2d_47   (None, 16, 16, 32)  18466       ['prune_low_magnitude_activation_\n",
            " (PruneLowMagnitude)                                             43[0][0]']                       \n",
            "                                                                                                  \n",
            " prune_low_magnitude_batch_norm  (None, 16, 16, 32)  129         ['prune_low_magnitude_conv2d_47[0\n",
            " alization_44 (PruneLowMagnitud                                  ][0]']                           \n",
            " e)                                                                                               \n",
            "                                                                                                  \n",
            " prune_low_magnitude_activation  (None, 16, 16, 32)  1           ['prune_low_magnitude_batch_norma\n",
            " _44 (PruneLowMagnitude)                                         lization_44[0][0]']              \n",
            "                                                                                                  \n",
            " prune_low_magnitude_conv2d_48   (None, 16, 16, 32)  18466       ['prune_low_magnitude_activation_\n",
            " (PruneLowMagnitude)                                             44[0][0]']                       \n",
            "                                                                                                  \n",
            " prune_low_magnitude_batch_norm  (None, 16, 16, 32)  129         ['prune_low_magnitude_conv2d_48[0\n",
            " alization_45 (PruneLowMagnitud                                  ][0]']                           \n",
            " e)                                                                                               \n",
            "                                                                                                  \n",
            " prune_low_magnitude_add_21 (Pr  (None, 16, 16, 32)  1           ['prune_low_magnitude_activation_\n",
            " uneLowMagnitude)                                                43[0][0]',                       \n",
            "                                                                  'prune_low_magnitude_batch_norma\n",
            "                                                                 lization_45[0][0]']              \n",
            "                                                                                                  \n",
            " prune_low_magnitude_activation  (None, 16, 16, 32)  1           ['prune_low_magnitude_add_21[0][0\n",
            " _45 (PruneLowMagnitude)                                         ]']                              \n",
            "                                                                                                  \n",
            " prune_low_magnitude_conv2d_49   (None, 16, 16, 32)  18466       ['prune_low_magnitude_activation_\n",
            " (PruneLowMagnitude)                                             45[0][0]']                       \n",
            "                                                                                                  \n",
            " prune_low_magnitude_batch_norm  (None, 16, 16, 32)  129         ['prune_low_magnitude_conv2d_49[0\n",
            " alization_46 (PruneLowMagnitud                                  ][0]']                           \n",
            " e)                                                                                               \n",
            "                                                                                                  \n",
            " prune_low_magnitude_activation  (None, 16, 16, 32)  1           ['prune_low_magnitude_batch_norma\n",
            " _46 (PruneLowMagnitude)                                         lization_46[0][0]']              \n",
            "                                                                                                  \n",
            " prune_low_magnitude_conv2d_50   (None, 16, 16, 32)  18466       ['prune_low_magnitude_activation_\n",
            " (PruneLowMagnitude)                                             46[0][0]']                       \n",
            "                                                                                                  \n",
            " prune_low_magnitude_batch_norm  (None, 16, 16, 32)  129         ['prune_low_magnitude_conv2d_50[0\n",
            " alization_47 (PruneLowMagnitud                                  ][0]']                           \n",
            " e)                                                                                               \n",
            "                                                                                                  \n",
            " prune_low_magnitude_add_22 (Pr  (None, 16, 16, 32)  1           ['prune_low_magnitude_activation_\n",
            " uneLowMagnitude)                                                45[0][0]',                       \n",
            "                                                                  'prune_low_magnitude_batch_norma\n",
            "                                                                 lization_47[0][0]']              \n",
            "                                                                                                  \n",
            " prune_low_magnitude_activation  (None, 16, 16, 32)  1           ['prune_low_magnitude_add_22[0][0\n",
            " _47 (PruneLowMagnitude)                                         ]']                              \n",
            "                                                                                                  \n",
            " prune_low_magnitude_conv2d_51   (None, 8, 8, 64)    36930       ['prune_low_magnitude_activation_\n",
            " (PruneLowMagnitude)                                             47[0][0]']                       \n",
            "                                                                                                  \n",
            " prune_low_magnitude_batch_norm  (None, 8, 8, 64)    257         ['prune_low_magnitude_conv2d_51[0\n",
            " alization_48 (PruneLowMagnitud                                  ][0]']                           \n",
            " e)                                                                                               \n",
            "                                                                                                  \n",
            " prune_low_magnitude_activation  (None, 8, 8, 64)    1           ['prune_low_magnitude_batch_norma\n",
            " _48 (PruneLowMagnitude)                                         lization_48[0][0]']              \n",
            "                                                                                                  \n",
            " prune_low_magnitude_conv2d_52   (None, 8, 8, 64)    73794       ['prune_low_magnitude_activation_\n",
            " (PruneLowMagnitude)                                             48[0][0]']                       \n",
            "                                                                                                  \n",
            " prune_low_magnitude_conv2d_53   (None, 8, 8, 64)    4162        ['prune_low_magnitude_activation_\n",
            " (PruneLowMagnitude)                                             47[0][0]']                       \n",
            "                                                                                                  \n",
            " prune_low_magnitude_batch_norm  (None, 8, 8, 64)    257         ['prune_low_magnitude_conv2d_52[0\n",
            " alization_49 (PruneLowMagnitud                                  ][0]']                           \n",
            " e)                                                                                               \n",
            "                                                                                                  \n",
            " prune_low_magnitude_add_23 (Pr  (None, 8, 8, 64)    1           ['prune_low_magnitude_conv2d_53[0\n",
            " uneLowMagnitude)                                                ][0]',                           \n",
            "                                                                  'prune_low_magnitude_batch_norma\n",
            "                                                                 lization_49[0][0]']              \n",
            "                                                                                                  \n",
            " prune_low_magnitude_activation  (None, 8, 8, 64)    1           ['prune_low_magnitude_add_23[0][0\n",
            " _49 (PruneLowMagnitude)                                         ]']                              \n",
            "                                                                                                  \n",
            " prune_low_magnitude_conv2d_54   (None, 8, 8, 64)    73794       ['prune_low_magnitude_activation_\n",
            " (PruneLowMagnitude)                                             49[0][0]']                       \n",
            "                                                                                                  \n",
            " prune_low_magnitude_batch_norm  (None, 8, 8, 64)    257         ['prune_low_magnitude_conv2d_54[0\n",
            " alization_50 (PruneLowMagnitud                                  ][0]']                           \n",
            " e)                                                                                               \n",
            "                                                                                                  \n",
            " prune_low_magnitude_activation  (None, 8, 8, 64)    1           ['prune_low_magnitude_batch_norma\n",
            " _50 (PruneLowMagnitude)                                         lization_50[0][0]']              \n",
            "                                                                                                  \n",
            " prune_low_magnitude_conv2d_55   (None, 8, 8, 64)    73794       ['prune_low_magnitude_activation_\n",
            " (PruneLowMagnitude)                                             50[0][0]']                       \n",
            "                                                                                                  \n",
            " prune_low_magnitude_batch_norm  (None, 8, 8, 64)    257         ['prune_low_magnitude_conv2d_55[0\n",
            " alization_51 (PruneLowMagnitud                                  ][0]']                           \n",
            " e)                                                                                               \n",
            "                                                                                                  \n",
            " prune_low_magnitude_add_24 (Pr  (None, 8, 8, 64)    1           ['prune_low_magnitude_activation_\n",
            " uneLowMagnitude)                                                49[0][0]',                       \n",
            "                                                                  'prune_low_magnitude_batch_norma\n",
            "                                                                 lization_51[0][0]']              \n",
            "                                                                                                  \n",
            " prune_low_magnitude_activation  (None, 8, 8, 64)    1           ['prune_low_magnitude_add_24[0][0\n",
            " _51 (PruneLowMagnitude)                                         ]']                              \n",
            "                                                                                                  \n",
            " prune_low_magnitude_conv2d_56   (None, 8, 8, 64)    73794       ['prune_low_magnitude_activation_\n",
            " (PruneLowMagnitude)                                             51[0][0]']                       \n",
            "                                                                                                  \n",
            " prune_low_magnitude_batch_norm  (None, 8, 8, 64)    257         ['prune_low_magnitude_conv2d_56[0\n",
            " alization_52 (PruneLowMagnitud                                  ][0]']                           \n",
            " e)                                                                                               \n",
            "                                                                                                  \n",
            " prune_low_magnitude_activation  (None, 8, 8, 64)    1           ['prune_low_magnitude_batch_norma\n",
            " _52 (PruneLowMagnitude)                                         lization_52[0][0]']              \n",
            "                                                                                                  \n",
            " prune_low_magnitude_conv2d_57   (None, 8, 8, 64)    73794       ['prune_low_magnitude_activation_\n",
            " (PruneLowMagnitude)                                             52[0][0]']                       \n",
            "                                                                                                  \n",
            " prune_low_magnitude_batch_norm  (None, 8, 8, 64)    257         ['prune_low_magnitude_conv2d_57[0\n",
            " alization_53 (PruneLowMagnitud                                  ][0]']                           \n",
            " e)                                                                                               \n",
            "                                                                                                  \n",
            " prune_low_magnitude_add_25 (Pr  (None, 8, 8, 64)    1           ['prune_low_magnitude_activation_\n",
            " uneLowMagnitude)                                                51[0][0]',                       \n",
            "                                                                  'prune_low_magnitude_batch_norma\n",
            "                                                                 lization_53[0][0]']              \n",
            "                                                                                                  \n",
            " prune_low_magnitude_activation  (None, 8, 8, 64)    1           ['prune_low_magnitude_add_25[0][0\n",
            " _53 (PruneLowMagnitude)                                         ]']                              \n",
            "                                                                                                  \n",
            " prune_low_magnitude_conv2d_58   (None, 8, 8, 64)    73794       ['prune_low_magnitude_activation_\n",
            " (PruneLowMagnitude)                                             53[0][0]']                       \n",
            "                                                                                                  \n",
            " prune_low_magnitude_batch_norm  (None, 8, 8, 64)    257         ['prune_low_magnitude_conv2d_58[0\n",
            " alization_54 (PruneLowMagnitud                                  ][0]']                           \n",
            " e)                                                                                               \n",
            "                                                                                                  \n",
            " prune_low_magnitude_activation  (None, 8, 8, 64)    1           ['prune_low_magnitude_batch_norma\n",
            " _54 (PruneLowMagnitude)                                         lization_54[0][0]']              \n",
            "                                                                                                  \n",
            " prune_low_magnitude_conv2d_59   (None, 8, 8, 64)    73794       ['prune_low_magnitude_activation_\n",
            " (PruneLowMagnitude)                                             54[0][0]']                       \n",
            "                                                                                                  \n",
            " prune_low_magnitude_batch_norm  (None, 8, 8, 64)    257         ['prune_low_magnitude_conv2d_59[0\n",
            " alization_55 (PruneLowMagnitud                                  ][0]']                           \n",
            " e)                                                                                               \n",
            "                                                                                                  \n",
            " prune_low_magnitude_add_26 (Pr  (None, 8, 8, 64)    1           ['prune_low_magnitude_activation_\n",
            " uneLowMagnitude)                                                53[0][0]',                       \n",
            "                                                                  'prune_low_magnitude_batch_norma\n",
            "                                                                 lization_55[0][0]']              \n",
            "                                                                                                  \n",
            " prune_low_magnitude_activation  (None, 8, 8, 64)    1           ['prune_low_magnitude_add_26[0][0\n",
            " _55 (PruneLowMagnitude)                                         ]']                              \n",
            "                                                                                                  \n",
            " prune_low_magnitude_conv2d_60   (None, 8, 8, 64)    73794       ['prune_low_magnitude_activation_\n",
            " (PruneLowMagnitude)                                             55[0][0]']                       \n",
            "                                                                                                  \n",
            " prune_low_magnitude_batch_norm  (None, 8, 8, 64)    257         ['prune_low_magnitude_conv2d_60[0\n",
            " alization_56 (PruneLowMagnitud                                  ][0]']                           \n",
            " e)                                                                                               \n",
            "                                                                                                  \n",
            " prune_low_magnitude_activation  (None, 8, 8, 64)    1           ['prune_low_magnitude_batch_norma\n",
            " _56 (PruneLowMagnitude)                                         lization_56[0][0]']              \n",
            "                                                                                                  \n",
            " prune_low_magnitude_conv2d_61   (None, 8, 8, 64)    73794       ['prune_low_magnitude_activation_\n",
            " (PruneLowMagnitude)                                             56[0][0]']                       \n",
            "                                                                                                  \n",
            " prune_low_magnitude_batch_norm  (None, 8, 8, 64)    257         ['prune_low_magnitude_conv2d_61[0\n",
            " alization_57 (PruneLowMagnitud                                  ][0]']                           \n",
            " e)                                                                                               \n",
            "                                                                                                  \n",
            " prune_low_magnitude_add_27 (Pr  (None, 8, 8, 64)    1           ['prune_low_magnitude_activation_\n",
            " uneLowMagnitude)                                                55[0][0]',                       \n",
            "                                                                  'prune_low_magnitude_batch_norma\n",
            "                                                                 lization_57[0][0]']              \n",
            "                                                                                                  \n",
            " prune_low_magnitude_activation  (None, 8, 8, 64)    1           ['prune_low_magnitude_add_27[0][0\n",
            " _57 (PruneLowMagnitude)                                         ]']                              \n",
            "                                                                                                  \n",
            " prune_low_magnitude_conv2d_62   (None, 8, 8, 64)    73794       ['prune_low_magnitude_activation_\n",
            " (PruneLowMagnitude)                                             57[0][0]']                       \n",
            "                                                                                                  \n",
            " prune_low_magnitude_batch_norm  (None, 8, 8, 64)    257         ['prune_low_magnitude_conv2d_62[0\n",
            " alization_58 (PruneLowMagnitud                                  ][0]']                           \n",
            " e)                                                                                               \n",
            "                                                                                                  \n",
            " prune_low_magnitude_activation  (None, 8, 8, 64)    1           ['prune_low_magnitude_batch_norma\n",
            " _58 (PruneLowMagnitude)                                         lization_58[0][0]']              \n",
            "                                                                                                  \n",
            " prune_low_magnitude_conv2d_63   (None, 8, 8, 64)    73794       ['prune_low_magnitude_activation_\n",
            " (PruneLowMagnitude)                                             58[0][0]']                       \n",
            "                                                                                                  \n",
            " prune_low_magnitude_batch_norm  (None, 8, 8, 64)    257         ['prune_low_magnitude_conv2d_63[0\n",
            " alization_59 (PruneLowMagnitud                                  ][0]']                           \n",
            " e)                                                                                               \n",
            "                                                                                                  \n",
            " prune_low_magnitude_add_28 (Pr  (None, 8, 8, 64)    1           ['prune_low_magnitude_activation_\n",
            " uneLowMagnitude)                                                57[0][0]',                       \n",
            "                                                                  'prune_low_magnitude_batch_norma\n",
            "                                                                 lization_59[0][0]']              \n",
            "                                                                                                  \n",
            " prune_low_magnitude_activation  (None, 8, 8, 64)    1           ['prune_low_magnitude_add_28[0][0\n",
            " _59 (PruneLowMagnitude)                                         ]']                              \n",
            "                                                                                                  \n",
            " prune_low_magnitude_conv2d_64   (None, 8, 8, 64)    73794       ['prune_low_magnitude_activation_\n",
            " (PruneLowMagnitude)                                             59[0][0]']                       \n",
            "                                                                                                  \n",
            " prune_low_magnitude_batch_norm  (None, 8, 8, 64)    257         ['prune_low_magnitude_conv2d_64[0\n",
            " alization_60 (PruneLowMagnitud                                  ][0]']                           \n",
            " e)                                                                                               \n",
            "                                                                                                  \n",
            " prune_low_magnitude_activation  (None, 8, 8, 64)    1           ['prune_low_magnitude_batch_norma\n",
            " _60 (PruneLowMagnitude)                                         lization_60[0][0]']              \n",
            "                                                                                                  \n",
            " prune_low_magnitude_conv2d_65   (None, 8, 8, 64)    73794       ['prune_low_magnitude_activation_\n",
            " (PruneLowMagnitude)                                             60[0][0]']                       \n",
            "                                                                                                  \n",
            " prune_low_magnitude_batch_norm  (None, 8, 8, 64)    257         ['prune_low_magnitude_conv2d_65[0\n",
            " alization_61 (PruneLowMagnitud                                  ][0]']                           \n",
            " e)                                                                                               \n",
            "                                                                                                  \n",
            " prune_low_magnitude_add_29 (Pr  (None, 8, 8, 64)    1           ['prune_low_magnitude_activation_\n",
            " uneLowMagnitude)                                                59[0][0]',                       \n",
            "                                                                  'prune_low_magnitude_batch_norma\n",
            "                                                                 lization_61[0][0]']              \n",
            "                                                                                                  \n",
            " prune_low_magnitude_activation  (None, 8, 8, 64)    1           ['prune_low_magnitude_add_29[0][0\n",
            " _61 (PruneLowMagnitude)                                         ]']                              \n",
            "                                                                                                  \n",
            " prune_low_magnitude_average_po  (None, 1, 1, 64)    1           ['prune_low_magnitude_activation_\n",
            " oling2d_1 (PruneLowMagnitude)                                   61[0][0]']                       \n",
            "                                                                                                  \n",
            " prune_low_magnitude_flatten_1   (None, 64)          1           ['prune_low_magnitude_average_poo\n",
            " (PruneLowMagnitude)                                             ling2d_1[0][0]']                 \n",
            "                                                                                                  \n",
            " prune_low_magnitude_dense_1 (P  (None, 100)         12902       ['prune_low_magnitude_flatten_1[0\n",
            " runeLowMagnitude)                                               ][0]']                           \n",
            "                                                                                                  \n",
            "==================================================================================================\n",
            "Total params: 1,335,773\n",
            "Trainable params: 668,676\n",
            "Non-trainable params: 667,097\n",
            "__________________________________________________________________________________________________\n",
            "RRrrrrrR resnet_super_forty_300epochs_44_V100.h5\n",
            "RRR /home/jupyter/final_proj/saved_models/resnet_super_forty_300epochs_44_V100.h5\n",
            "resnet_super_forty_300epochs_44_V100\n"
          ]
        },
        {
          "name": "stderr",
          "output_type": "stream",
          "text": [
            "/opt/conda/lib/python3.7/site-packages/ipykernel_launcher.py:153: UserWarning: `Model.fit_generator` is deprecated and will be removed in a future version. Please use `Model.fit`, which supports generators.\n",
            "2022-12-17 08:50:31.981123: W tensorflow/core/grappler/optimizers/data/auto_shard.cc:776] AUTO sharding policy will apply DATA sharding policy as it failed to apply FILE sharding policy because of the following reason: Did not find a shardable source, walked to a node which is not a dataset: name: \"FlatMapDataset/_2\"\n",
            "op: \"FlatMapDataset\"\n",
            "input: \"TensorDataset/_1\"\n",
            "attr {\n",
            "  key: \"Targuments\"\n",
            "  value {\n",
            "    list {\n",
            "    }\n",
            "  }\n",
            "}\n",
            "attr {\n",
            "  key: \"_cardinality\"\n",
            "  value {\n",
            "    i: -2\n",
            "  }\n",
            "}\n",
            "attr {\n",
            "  key: \"f\"\n",
            "  value {\n",
            "    func {\n",
            "      name: \"__inference_Dataset_flat_map_flat_map_fn_1290713\"\n",
            "    }\n",
            "  }\n",
            "}\n",
            "attr {\n",
            "  key: \"metadata\"\n",
            "  value {\n",
            "    s: \"\\n\\023FlatMapDataset:4245\"\n",
            "  }\n",
            "}\n",
            "attr {\n",
            "  key: \"output_shapes\"\n",
            "  value {\n",
            "    list {\n",
            "      shape {\n",
            "        dim {\n",
            "          size: -1\n",
            "        }\n",
            "        dim {\n",
            "          size: -1\n",
            "        }\n",
            "        dim {\n",
            "          size: -1\n",
            "        }\n",
            "        dim {\n",
            "          size: -1\n",
            "        }\n",
            "      }\n",
            "      shape {\n",
            "        dim {\n",
            "          size: -1\n",
            "        }\n",
            "        dim {\n",
            "          size: -1\n",
            "        }\n",
            "      }\n",
            "    }\n",
            "  }\n",
            "}\n",
            "attr {\n",
            "  key: \"output_types\"\n",
            "  value {\n",
            "    list {\n",
            "      type: DT_FLOAT\n",
            "      type: DT_FLOAT\n",
            "    }\n",
            "  }\n",
            "}\n",
            "experimental_type {\n",
            "  type_id: TFT_PRODUCT\n",
            "  args {\n",
            "    type_id: TFT_DATASET\n",
            "    args {\n",
            "      type_id: TFT_PRODUCT\n",
            "      args {\n",
            "        type_id: TFT_TENSOR\n",
            "        args {\n",
            "          type_id: TFT_FLOAT\n",
            "        }\n",
            "      }\n",
            "      args {\n",
            "        type_id: TFT_TENSOR\n",
            "        args {\n",
            "          type_id: TFT_FLOAT\n",
            "        }\n",
            "      }\n",
            "    }\n",
            "  }\n",
            "}\n",
            ". Consider either turning off auto-sharding or switching the auto_shard_policy to DATA to shard this dataset. You can do this by creating a new `tf.data.Options()` object then setting `options.experimental_distribute.auto_shard_policy = AutoShardPolicy.DATA` before applying the options object to the dataset via `dataset.with_options(options)`.\n"
          ]
        },
        {
          "name": "stdout",
          "output_type": "stream",
          "text": [
            "Learning rate:  0.001\n",
            "Epoch 1/300\n",
            "  6/391 [..............................] - ETA: 33s - loss: 9.1637 - accuracy: 0.0117   WARNING:tensorflow:Callback method `on_train_batch_end` is slow compared to the batch time (batch time: 0.0784s vs `on_train_batch_end` time: 0.1841s). Check your callbacks.\n"
          ]
        },
        {
          "name": "stderr",
          "output_type": "stream",
          "text": [
            "WARNING:tensorflow:Callback method `on_train_batch_end` is slow compared to the batch time (batch time: 0.0784s vs `on_train_batch_end` time: 0.1841s). Check your callbacks.\n"
          ]
        },
        {
          "name": "stdout",
          "output_type": "stream",
          "text": [
            "391/391 [==============================] - ETA: 0s - loss: 4.4726 - accuracy: 0.0871WARNING:tensorflow:Can save best model only with val_acc available, skipping.\n"
          ]
        },
        {
          "name": "stderr",
          "output_type": "stream",
          "text": [
            "WARNING:tensorflow:Can save best model only with val_acc available, skipping.\n"
          ]
        },
        {
          "name": "stdout",
          "output_type": "stream",
          "text": [
            "391/391 [==============================] - 80s 100ms/step - loss: 4.4726 - accuracy: 0.0871 - val_loss: 4.0277 - val_accuracy: 0.1278 - lr: 0.0010\n",
            "Learning rate:  0.001\n",
            "Epoch 2/300\n",
            "391/391 [==============================] - ETA: 0s - loss: 3.7538 - accuracy: 0.1739WARNING:tensorflow:Can save best model only with val_acc available, skipping.\n"
          ]
        },
        {
          "name": "stderr",
          "output_type": "stream",
          "text": [
            "WARNING:tensorflow:Can save best model only with val_acc available, skipping.\n"
          ]
        },
        {
          "name": "stdout",
          "output_type": "stream",
          "text": [
            "391/391 [==============================] - 37s 95ms/step - loss: 3.7538 - accuracy: 0.1739 - val_loss: 3.8967 - val_accuracy: 0.1475 - lr: 0.0010\n",
            "Learning rate:  0.001\n",
            "Epoch 3/300\n",
            "391/391 [==============================] - ETA: 0s - loss: 3.4494 - accuracy: 0.2258WARNING:tensorflow:Can save best model only with val_acc available, skipping.\n"
          ]
        },
        {
          "name": "stderr",
          "output_type": "stream",
          "text": [
            "WARNING:tensorflow:Can save best model only with val_acc available, skipping.\n"
          ]
        },
        {
          "name": "stdout",
          "output_type": "stream",
          "text": [
            "391/391 [==============================] - 37s 95ms/step - loss: 3.4494 - accuracy: 0.2258 - val_loss: 3.7318 - val_accuracy: 0.1848 - lr: 0.0010\n",
            "Learning rate:  0.001\n",
            "Epoch 4/300\n",
            "391/391 [==============================] - ETA: 0s - loss: 3.2119 - accuracy: 0.2697WARNING:tensorflow:Can save best model only with val_acc available, skipping.\n"
          ]
        },
        {
          "name": "stderr",
          "output_type": "stream",
          "text": [
            "WARNING:tensorflow:Can save best model only with val_acc available, skipping.\n"
          ]
        },
        {
          "name": "stdout",
          "output_type": "stream",
          "text": [
            "391/391 [==============================] - 36s 93ms/step - loss: 3.2119 - accuracy: 0.2697 - val_loss: 3.4835 - val_accuracy: 0.2296 - lr: 0.0010\n",
            "Learning rate:  0.001\n",
            "Epoch 5/300\n",
            "391/391 [==============================] - ETA: 0s - loss: 3.0046 - accuracy: 0.3089WARNING:tensorflow:Can save best model only with val_acc available, skipping.\n"
          ]
        },
        {
          "name": "stderr",
          "output_type": "stream",
          "text": [
            "WARNING:tensorflow:Can save best model only with val_acc available, skipping.\n"
          ]
        },
        {
          "name": "stdout",
          "output_type": "stream",
          "text": [
            "391/391 [==============================] - 37s 95ms/step - loss: 3.0046 - accuracy: 0.3089 - val_loss: 3.1237 - val_accuracy: 0.2884 - lr: 0.0010\n",
            "Learning rate:  0.001\n",
            "Epoch 6/300\n",
            "391/391 [==============================] - ETA: 0s - loss: 2.8485 - accuracy: 0.3377WARNING:tensorflow:Can save best model only with val_acc available, skipping.\n"
          ]
        },
        {
          "name": "stderr",
          "output_type": "stream",
          "text": [
            "WARNING:tensorflow:Can save best model only with val_acc available, skipping.\n"
          ]
        },
        {
          "name": "stdout",
          "output_type": "stream",
          "text": [
            "391/391 [==============================] - 37s 96ms/step - loss: 2.8485 - accuracy: 0.3377 - val_loss: 3.0739 - val_accuracy: 0.3023 - lr: 0.0010\n",
            "Learning rate:  0.001\n",
            "Epoch 7/300\n",
            "391/391 [==============================] - ETA: 0s - loss: 2.6999 - accuracy: 0.3670WARNING:tensorflow:Can save best model only with val_acc available, skipping.\n"
          ]
        },
        {
          "name": "stderr",
          "output_type": "stream",
          "text": [
            "WARNING:tensorflow:Can save best model only with val_acc available, skipping.\n"
          ]
        },
        {
          "name": "stdout",
          "output_type": "stream",
          "text": [
            "391/391 [==============================] - 37s 95ms/step - loss: 2.6999 - accuracy: 0.3670 - val_loss: 2.8842 - val_accuracy: 0.3281 - lr: 0.0010\n",
            "Learning rate:  0.001\n",
            "Epoch 8/300\n",
            "391/391 [==============================] - ETA: 0s - loss: 2.5843 - accuracy: 0.3917WARNING:tensorflow:Can save best model only with val_acc available, skipping.\n"
          ]
        },
        {
          "name": "stderr",
          "output_type": "stream",
          "text": [
            "WARNING:tensorflow:Can save best model only with val_acc available, skipping.\n"
          ]
        },
        {
          "name": "stdout",
          "output_type": "stream",
          "text": [
            "391/391 [==============================] - 37s 95ms/step - loss: 2.5843 - accuracy: 0.3917 - val_loss: 3.0898 - val_accuracy: 0.3036 - lr: 0.0010\n",
            "Learning rate:  0.001\n",
            "Epoch 9/300\n",
            "391/391 [==============================] - ETA: 0s - loss: 2.4738 - accuracy: 0.4164WARNING:tensorflow:Can save best model only with val_acc available, skipping.\n"
          ]
        },
        {
          "name": "stderr",
          "output_type": "stream",
          "text": [
            "WARNING:tensorflow:Can save best model only with val_acc available, skipping.\n"
          ]
        },
        {
          "name": "stdout",
          "output_type": "stream",
          "text": [
            "391/391 [==============================] - 37s 94ms/step - loss: 2.4738 - accuracy: 0.4164 - val_loss: 2.7513 - val_accuracy: 0.3630 - lr: 0.0010\n",
            "Learning rate:  0.001\n",
            "Epoch 10/300\n",
            "391/391 [==============================] - ETA: 0s - loss: 2.3800 - accuracy: 0.4368WARNING:tensorflow:Can save best model only with val_acc available, skipping.\n"
          ]
        },
        {
          "name": "stderr",
          "output_type": "stream",
          "text": [
            "WARNING:tensorflow:Can save best model only with val_acc available, skipping.\n"
          ]
        },
        {
          "name": "stdout",
          "output_type": "stream",
          "text": [
            "391/391 [==============================] - 37s 95ms/step - loss: 2.3800 - accuracy: 0.4368 - val_loss: 2.8668 - val_accuracy: 0.3537 - lr: 0.0010\n",
            "Learning rate:  0.001\n",
            "Epoch 11/300\n",
            "391/391 [==============================] - ETA: 0s - loss: 2.3000 - accuracy: 0.4536WARNING:tensorflow:Can save best model only with val_acc available, skipping.\n"
          ]
        },
        {
          "name": "stderr",
          "output_type": "stream",
          "text": [
            "WARNING:tensorflow:Can save best model only with val_acc available, skipping.\n"
          ]
        },
        {
          "name": "stdout",
          "output_type": "stream",
          "text": [
            "391/391 [==============================] - 37s 94ms/step - loss: 2.3000 - accuracy: 0.4536 - val_loss: 2.7308 - val_accuracy: 0.3756 - lr: 0.0010\n",
            "Learning rate:  0.001\n",
            "Epoch 12/300\n",
            "391/391 [==============================] - ETA: 0s - loss: 2.2248 - accuracy: 0.4719WARNING:tensorflow:Can save best model only with val_acc available, skipping.\n"
          ]
        },
        {
          "name": "stderr",
          "output_type": "stream",
          "text": [
            "WARNING:tensorflow:Can save best model only with val_acc available, skipping.\n"
          ]
        },
        {
          "name": "stdout",
          "output_type": "stream",
          "text": [
            "391/391 [==============================] - 36s 93ms/step - loss: 2.2248 - accuracy: 0.4719 - val_loss: 2.6188 - val_accuracy: 0.4040 - lr: 0.0010\n",
            "Learning rate:  0.001\n",
            "Epoch 13/300\n",
            "391/391 [==============================] - ETA: 0s - loss: 2.1662 - accuracy: 0.4883WARNING:tensorflow:Can save best model only with val_acc available, skipping.\n"
          ]
        },
        {
          "name": "stderr",
          "output_type": "stream",
          "text": [
            "WARNING:tensorflow:Can save best model only with val_acc available, skipping.\n"
          ]
        },
        {
          "name": "stdout",
          "output_type": "stream",
          "text": [
            "391/391 [==============================] - 37s 95ms/step - loss: 2.1662 - accuracy: 0.4883 - val_loss: 2.5760 - val_accuracy: 0.4052 - lr: 0.0010\n",
            "Learning rate:  0.001\n",
            "Epoch 14/300\n",
            "391/391 [==============================] - ETA: 0s - loss: 2.1065 - accuracy: 0.5001WARNING:tensorflow:Can save best model only with val_acc available, skipping.\n"
          ]
        },
        {
          "name": "stderr",
          "output_type": "stream",
          "text": [
            "WARNING:tensorflow:Can save best model only with val_acc available, skipping.\n"
          ]
        },
        {
          "name": "stdout",
          "output_type": "stream",
          "text": [
            "391/391 [==============================] - 36s 93ms/step - loss: 2.1065 - accuracy: 0.5001 - val_loss: 2.6612 - val_accuracy: 0.3948 - lr: 0.0010\n",
            "Learning rate:  0.001\n",
            "Epoch 15/300\n",
            "391/391 [==============================] - ETA: 0s - loss: 2.0508 - accuracy: 0.5084WARNING:tensorflow:Can save best model only with val_acc available, skipping.\n"
          ]
        },
        {
          "name": "stderr",
          "output_type": "stream",
          "text": [
            "WARNING:tensorflow:Can save best model only with val_acc available, skipping.\n"
          ]
        },
        {
          "name": "stdout",
          "output_type": "stream",
          "text": [
            "391/391 [==============================] - 38s 96ms/step - loss: 2.0508 - accuracy: 0.5084 - val_loss: 2.3516 - val_accuracy: 0.4563 - lr: 0.0010\n",
            "Learning rate:  0.001\n",
            "Epoch 16/300\n",
            "391/391 [==============================] - ETA: 0s - loss: 1.9963 - accuracy: 0.5253WARNING:tensorflow:Can save best model only with val_acc available, skipping.\n"
          ]
        },
        {
          "name": "stderr",
          "output_type": "stream",
          "text": [
            "WARNING:tensorflow:Can save best model only with val_acc available, skipping.\n"
          ]
        },
        {
          "name": "stdout",
          "output_type": "stream",
          "text": [
            "391/391 [==============================] - 37s 95ms/step - loss: 1.9963 - accuracy: 0.5253 - val_loss: 2.5563 - val_accuracy: 0.4279 - lr: 0.0010\n",
            "Learning rate:  0.001\n",
            "Epoch 17/300\n",
            "391/391 [==============================] - ETA: 0s - loss: 1.9571 - accuracy: 0.5344WARNING:tensorflow:Can save best model only with val_acc available, skipping.\n"
          ]
        },
        {
          "name": "stderr",
          "output_type": "stream",
          "text": [
            "WARNING:tensorflow:Can save best model only with val_acc available, skipping.\n"
          ]
        },
        {
          "name": "stdout",
          "output_type": "stream",
          "text": [
            "391/391 [==============================] - 37s 94ms/step - loss: 1.9571 - accuracy: 0.5344 - val_loss: 2.5118 - val_accuracy: 0.4251 - lr: 0.0010\n",
            "Learning rate:  0.001\n",
            "Epoch 18/300\n",
            "391/391 [==============================] - ETA: 0s - loss: 1.9163 - accuracy: 0.5434WARNING:tensorflow:Can save best model only with val_acc available, skipping.\n"
          ]
        },
        {
          "name": "stderr",
          "output_type": "stream",
          "text": [
            "WARNING:tensorflow:Can save best model only with val_acc available, skipping.\n"
          ]
        },
        {
          "name": "stdout",
          "output_type": "stream",
          "text": [
            "391/391 [==============================] - 37s 94ms/step - loss: 1.9163 - accuracy: 0.5434 - val_loss: 2.6366 - val_accuracy: 0.4166 - lr: 0.0010\n",
            "Learning rate:  0.001\n",
            "Epoch 19/300\n",
            "391/391 [==============================] - ETA: 0s - loss: 1.8689 - accuracy: 0.5536WARNING:tensorflow:Can save best model only with val_acc available, skipping.\n"
          ]
        },
        {
          "name": "stderr",
          "output_type": "stream",
          "text": [
            "WARNING:tensorflow:Can save best model only with val_acc available, skipping.\n"
          ]
        },
        {
          "name": "stdout",
          "output_type": "stream",
          "text": [
            "391/391 [==============================] - 37s 93ms/step - loss: 1.8689 - accuracy: 0.5536 - val_loss: 2.3471 - val_accuracy: 0.4478 - lr: 0.0010\n",
            "Learning rate:  0.001\n",
            "Epoch 20/300\n",
            "391/391 [==============================] - ETA: 0s - loss: 1.8371 - accuracy: 0.5635WARNING:tensorflow:Can save best model only with val_acc available, skipping.\n"
          ]
        },
        {
          "name": "stderr",
          "output_type": "stream",
          "text": [
            "WARNING:tensorflow:Can save best model only with val_acc available, skipping.\n"
          ]
        },
        {
          "name": "stdout",
          "output_type": "stream",
          "text": [
            "391/391 [==============================] - 37s 95ms/step - loss: 1.8371 - accuracy: 0.5635 - val_loss: 2.2832 - val_accuracy: 0.4753 - lr: 0.0010\n",
            "Learning rate:  0.001\n",
            "Epoch 21/300\n",
            "391/391 [==============================] - ETA: 0s - loss: 1.8097 - accuracy: 0.5672WARNING:tensorflow:Can save best model only with val_acc available, skipping.\n"
          ]
        },
        {
          "name": "stderr",
          "output_type": "stream",
          "text": [
            "WARNING:tensorflow:Can save best model only with val_acc available, skipping.\n"
          ]
        },
        {
          "name": "stdout",
          "output_type": "stream",
          "text": [
            "391/391 [==============================] - 37s 95ms/step - loss: 1.8097 - accuracy: 0.5672 - val_loss: 2.2487 - val_accuracy: 0.4719 - lr: 0.0010\n",
            "Learning rate:  0.001\n",
            "Epoch 22/300\n",
            "391/391 [==============================] - ETA: 0s - loss: 1.7766 - accuracy: 0.5765WARNING:tensorflow:Can save best model only with val_acc available, skipping.\n"
          ]
        },
        {
          "name": "stderr",
          "output_type": "stream",
          "text": [
            "WARNING:tensorflow:Can save best model only with val_acc available, skipping.\n"
          ]
        },
        {
          "name": "stdout",
          "output_type": "stream",
          "text": [
            "391/391 [==============================] - 37s 94ms/step - loss: 1.7766 - accuracy: 0.5765 - val_loss: 2.2446 - val_accuracy: 0.4871 - lr: 0.0010\n",
            "Learning rate:  0.001\n",
            "Epoch 23/300\n",
            "391/391 [==============================] - ETA: 0s - loss: 1.7396 - accuracy: 0.5849WARNING:tensorflow:Can save best model only with val_acc available, skipping.\n"
          ]
        },
        {
          "name": "stderr",
          "output_type": "stream",
          "text": [
            "WARNING:tensorflow:Can save best model only with val_acc available, skipping.\n"
          ]
        },
        {
          "name": "stdout",
          "output_type": "stream",
          "text": [
            "391/391 [==============================] - 37s 95ms/step - loss: 1.7396 - accuracy: 0.5849 - val_loss: 2.2304 - val_accuracy: 0.4883 - lr: 0.0010\n",
            "Learning rate:  0.001\n",
            "Epoch 24/300\n",
            "391/391 [==============================] - ETA: 0s - loss: 1.7146 - accuracy: 0.5931WARNING:tensorflow:Can save best model only with val_acc available, skipping.\n"
          ]
        },
        {
          "name": "stderr",
          "output_type": "stream",
          "text": [
            "WARNING:tensorflow:Can save best model only with val_acc available, skipping.\n"
          ]
        },
        {
          "name": "stdout",
          "output_type": "stream",
          "text": [
            "391/391 [==============================] - 38s 96ms/step - loss: 1.7146 - accuracy: 0.5931 - val_loss: 2.3765 - val_accuracy: 0.4701 - lr: 0.0010\n",
            "Learning rate:  0.001\n",
            "Epoch 25/300\n",
            "391/391 [==============================] - ETA: 0s - loss: 1.6844 - accuracy: 0.6003WARNING:tensorflow:Can save best model only with val_acc available, skipping.\n"
          ]
        },
        {
          "name": "stderr",
          "output_type": "stream",
          "text": [
            "WARNING:tensorflow:Can save best model only with val_acc available, skipping.\n"
          ]
        },
        {
          "name": "stdout",
          "output_type": "stream",
          "text": [
            "391/391 [==============================] - 37s 94ms/step - loss: 1.6844 - accuracy: 0.6003 - val_loss: 2.4495 - val_accuracy: 0.4623 - lr: 0.0010\n",
            "Learning rate:  0.001\n",
            "Epoch 26/300\n",
            "391/391 [==============================] - ETA: 0s - loss: 1.6636 - accuracy: 0.6062WARNING:tensorflow:Can save best model only with val_acc available, skipping.\n"
          ]
        },
        {
          "name": "stderr",
          "output_type": "stream",
          "text": [
            "WARNING:tensorflow:Can save best model only with val_acc available, skipping.\n"
          ]
        },
        {
          "name": "stdout",
          "output_type": "stream",
          "text": [
            "391/391 [==============================] - 37s 95ms/step - loss: 1.6636 - accuracy: 0.6062 - val_loss: 2.2897 - val_accuracy: 0.4877 - lr: 0.0010\n",
            "Learning rate:  0.001\n",
            "Epoch 27/300\n",
            "391/391 [==============================] - ETA: 0s - loss: 1.6430 - accuracy: 0.6104WARNING:tensorflow:Can save best model only with val_acc available, skipping.\n"
          ]
        },
        {
          "name": "stderr",
          "output_type": "stream",
          "text": [
            "WARNING:tensorflow:Can save best model only with val_acc available, skipping.\n"
          ]
        },
        {
          "name": "stdout",
          "output_type": "stream",
          "text": [
            "391/391 [==============================] - 37s 94ms/step - loss: 1.6430 - accuracy: 0.6104 - val_loss: 2.2964 - val_accuracy: 0.4859 - lr: 0.0010\n",
            "Learning rate:  0.001\n",
            "Epoch 28/300\n",
            "391/391 [==============================] - ETA: 0s - loss: 1.6185 - accuracy: 0.6151WARNING:tensorflow:Can save best model only with val_acc available, skipping.\n"
          ]
        },
        {
          "name": "stderr",
          "output_type": "stream",
          "text": [
            "WARNING:tensorflow:Can save best model only with val_acc available, skipping.\n"
          ]
        },
        {
          "name": "stdout",
          "output_type": "stream",
          "text": [
            "391/391 [==============================] - 37s 96ms/step - loss: 1.6185 - accuracy: 0.6151 - val_loss: 2.6083 - val_accuracy: 0.4458 - lr: 3.1623e-04\n",
            "Learning rate:  0.001\n",
            "Epoch 29/300\n",
            "391/391 [==============================] - ETA: 0s - loss: 1.6044 - accuracy: 0.6197WARNING:tensorflow:Can save best model only with val_acc available, skipping.\n"
          ]
        },
        {
          "name": "stderr",
          "output_type": "stream",
          "text": [
            "WARNING:tensorflow:Can save best model only with val_acc available, skipping.\n"
          ]
        },
        {
          "name": "stdout",
          "output_type": "stream",
          "text": [
            "391/391 [==============================] - 37s 96ms/step - loss: 1.6044 - accuracy: 0.6197 - val_loss: 2.2679 - val_accuracy: 0.4927 - lr: 0.0010\n",
            "Learning rate:  0.001\n",
            "Epoch 30/300\n",
            "391/391 [==============================] - ETA: 0s - loss: 1.5778 - accuracy: 0.6300WARNING:tensorflow:Can save best model only with val_acc available, skipping.\n"
          ]
        },
        {
          "name": "stderr",
          "output_type": "stream",
          "text": [
            "WARNING:tensorflow:Can save best model only with val_acc available, skipping.\n"
          ]
        },
        {
          "name": "stdout",
          "output_type": "stream",
          "text": [
            "391/391 [==============================] - 37s 94ms/step - loss: 1.5778 - accuracy: 0.6300 - val_loss: 2.5867 - val_accuracy: 0.4487 - lr: 0.0010\n",
            "Learning rate:  0.001\n",
            "Epoch 31/300\n",
            "391/391 [==============================] - ETA: 0s - loss: 1.5560 - accuracy: 0.6333WARNING:tensorflow:Can save best model only with val_acc available, skipping.\n"
          ]
        },
        {
          "name": "stderr",
          "output_type": "stream",
          "text": [
            "WARNING:tensorflow:Can save best model only with val_acc available, skipping.\n"
          ]
        },
        {
          "name": "stdout",
          "output_type": "stream",
          "text": [
            "391/391 [==============================] - 37s 94ms/step - loss: 1.5560 - accuracy: 0.6333 - val_loss: 2.1408 - val_accuracy: 0.5155 - lr: 0.0010\n",
            "Learning rate:  0.001\n",
            "Epoch 32/300\n",
            "391/391 [==============================] - ETA: 0s - loss: 1.5420 - accuracy: 0.6357WARNING:tensorflow:Can save best model only with val_acc available, skipping.\n"
          ]
        },
        {
          "name": "stderr",
          "output_type": "stream",
          "text": [
            "WARNING:tensorflow:Can save best model only with val_acc available, skipping.\n"
          ]
        },
        {
          "name": "stdout",
          "output_type": "stream",
          "text": [
            "391/391 [==============================] - 37s 95ms/step - loss: 1.5420 - accuracy: 0.6357 - val_loss: 2.3075 - val_accuracy: 0.4925 - lr: 0.0010\n",
            "Learning rate:  0.001\n",
            "Epoch 33/300\n",
            "391/391 [==============================] - ETA: 0s - loss: 1.5179 - accuracy: 0.6435WARNING:tensorflow:Can save best model only with val_acc available, skipping.\n"
          ]
        },
        {
          "name": "stderr",
          "output_type": "stream",
          "text": [
            "WARNING:tensorflow:Can save best model only with val_acc available, skipping.\n"
          ]
        },
        {
          "name": "stdout",
          "output_type": "stream",
          "text": [
            "391/391 [==============================] - 36s 93ms/step - loss: 1.5179 - accuracy: 0.6435 - val_loss: 2.4250 - val_accuracy: 0.4743 - lr: 0.0010\n",
            "Learning rate:  0.001\n",
            "Epoch 34/300\n",
            "391/391 [==============================] - ETA: 0s - loss: 1.5019 - accuracy: 0.6458WARNING:tensorflow:Can save best model only with val_acc available, skipping.\n"
          ]
        },
        {
          "name": "stderr",
          "output_type": "stream",
          "text": [
            "WARNING:tensorflow:Can save best model only with val_acc available, skipping.\n"
          ]
        },
        {
          "name": "stdout",
          "output_type": "stream",
          "text": [
            "391/391 [==============================] - 37s 94ms/step - loss: 1.5019 - accuracy: 0.6458 - val_loss: 2.1106 - val_accuracy: 0.5239 - lr: 0.0010\n",
            "Learning rate:  0.001\n",
            "Epoch 35/300\n",
            "391/391 [==============================] - ETA: 0s - loss: 1.4940 - accuracy: 0.6485WARNING:tensorflow:Can save best model only with val_acc available, skipping.\n"
          ]
        },
        {
          "name": "stderr",
          "output_type": "stream",
          "text": [
            "WARNING:tensorflow:Can save best model only with val_acc available, skipping.\n"
          ]
        },
        {
          "name": "stdout",
          "output_type": "stream",
          "text": [
            "391/391 [==============================] - 36s 92ms/step - loss: 1.4940 - accuracy: 0.6485 - val_loss: 2.2195 - val_accuracy: 0.5037 - lr: 0.0010\n",
            "Learning rate:  0.001\n",
            "Epoch 36/300\n",
            "391/391 [==============================] - ETA: 0s - loss: 1.4724 - accuracy: 0.6540WARNING:tensorflow:Can save best model only with val_acc available, skipping.\n"
          ]
        },
        {
          "name": "stderr",
          "output_type": "stream",
          "text": [
            "WARNING:tensorflow:Can save best model only with val_acc available, skipping.\n"
          ]
        },
        {
          "name": "stdout",
          "output_type": "stream",
          "text": [
            "391/391 [==============================] - 37s 94ms/step - loss: 1.4724 - accuracy: 0.6540 - val_loss: 2.1073 - val_accuracy: 0.5206 - lr: 0.0010\n",
            "Learning rate:  0.001\n",
            "Epoch 37/300\n",
            "391/391 [==============================] - ETA: 0s - loss: 1.4587 - accuracy: 0.6575WARNING:tensorflow:Can save best model only with val_acc available, skipping.\n"
          ]
        },
        {
          "name": "stderr",
          "output_type": "stream",
          "text": [
            "WARNING:tensorflow:Can save best model only with val_acc available, skipping.\n"
          ]
        },
        {
          "name": "stdout",
          "output_type": "stream",
          "text": [
            "391/391 [==============================] - 37s 94ms/step - loss: 1.4587 - accuracy: 0.6575 - val_loss: 2.3887 - val_accuracy: 0.4845 - lr: 0.0010\n",
            "Learning rate:  0.001\n",
            "Epoch 38/300\n",
            "391/391 [==============================] - ETA: 0s - loss: 1.4430 - accuracy: 0.6644WARNING:tensorflow:Can save best model only with val_acc available, skipping.\n"
          ]
        },
        {
          "name": "stderr",
          "output_type": "stream",
          "text": [
            "WARNING:tensorflow:Can save best model only with val_acc available, skipping.\n"
          ]
        },
        {
          "name": "stdout",
          "output_type": "stream",
          "text": [
            "391/391 [==============================] - 36s 92ms/step - loss: 1.4430 - accuracy: 0.6644 - val_loss: 2.3984 - val_accuracy: 0.4801 - lr: 0.0010\n",
            "Learning rate:  0.001\n",
            "Epoch 39/300\n",
            "391/391 [==============================] - ETA: 0s - loss: 1.4305 - accuracy: 0.6664WARNING:tensorflow:Can save best model only with val_acc available, skipping.\n"
          ]
        },
        {
          "name": "stderr",
          "output_type": "stream",
          "text": [
            "WARNING:tensorflow:Can save best model only with val_acc available, skipping.\n"
          ]
        },
        {
          "name": "stdout",
          "output_type": "stream",
          "text": [
            "391/391 [==============================] - 37s 95ms/step - loss: 1.4305 - accuracy: 0.6664 - val_loss: 2.3766 - val_accuracy: 0.4833 - lr: 0.0010\n",
            "Learning rate:  0.001\n",
            "Epoch 40/300\n",
            "391/391 [==============================] - ETA: 0s - loss: 1.4129 - accuracy: 0.6721WARNING:tensorflow:Can save best model only with val_acc available, skipping.\n"
          ]
        },
        {
          "name": "stderr",
          "output_type": "stream",
          "text": [
            "WARNING:tensorflow:Can save best model only with val_acc available, skipping.\n"
          ]
        },
        {
          "name": "stdout",
          "output_type": "stream",
          "text": [
            "391/391 [==============================] - 36s 93ms/step - loss: 1.4129 - accuracy: 0.6721 - val_loss: 2.2265 - val_accuracy: 0.5116 - lr: 0.0010\n",
            "Learning rate:  0.001\n",
            "Epoch 41/300\n",
            "391/391 [==============================] - ETA: 0s - loss: 1.4006 - accuracy: 0.6746WARNING:tensorflow:Can save best model only with val_acc available, skipping.\n"
          ]
        },
        {
          "name": "stderr",
          "output_type": "stream",
          "text": [
            "WARNING:tensorflow:Can save best model only with val_acc available, skipping.\n"
          ]
        },
        {
          "name": "stdout",
          "output_type": "stream",
          "text": [
            "391/391 [==============================] - 37s 94ms/step - loss: 1.4006 - accuracy: 0.6746 - val_loss: 2.2721 - val_accuracy: 0.5047 - lr: 3.1623e-04\n",
            "Learning rate:  0.001\n",
            "Epoch 42/300\n",
            "391/391 [==============================] - ETA: 0s - loss: 1.3825 - accuracy: 0.6780WARNING:tensorflow:Can save best model only with val_acc available, skipping.\n"
          ]
        },
        {
          "name": "stderr",
          "output_type": "stream",
          "text": [
            "WARNING:tensorflow:Can save best model only with val_acc available, skipping.\n"
          ]
        },
        {
          "name": "stdout",
          "output_type": "stream",
          "text": [
            "391/391 [==============================] - 37s 95ms/step - loss: 1.3825 - accuracy: 0.6780 - val_loss: 2.0659 - val_accuracy: 0.5423 - lr: 0.0010\n",
            "Learning rate:  0.001\n",
            "Epoch 43/300\n",
            "391/391 [==============================] - ETA: 0s - loss: 1.3818 - accuracy: 0.6798WARNING:tensorflow:Can save best model only with val_acc available, skipping.\n"
          ]
        },
        {
          "name": "stderr",
          "output_type": "stream",
          "text": [
            "WARNING:tensorflow:Can save best model only with val_acc available, skipping.\n"
          ]
        },
        {
          "name": "stdout",
          "output_type": "stream",
          "text": [
            "391/391 [==============================] - 36s 92ms/step - loss: 1.3818 - accuracy: 0.6798 - val_loss: 2.1793 - val_accuracy: 0.5231 - lr: 0.0010\n",
            "Learning rate:  0.001\n",
            "Epoch 44/300\n",
            "391/391 [==============================] - ETA: 0s - loss: 1.3646 - accuracy: 0.6829WARNING:tensorflow:Can save best model only with val_acc available, skipping.\n"
          ]
        },
        {
          "name": "stderr",
          "output_type": "stream",
          "text": [
            "WARNING:tensorflow:Can save best model only with val_acc available, skipping.\n"
          ]
        },
        {
          "name": "stdout",
          "output_type": "stream",
          "text": [
            "391/391 [==============================] - 37s 94ms/step - loss: 1.3646 - accuracy: 0.6829 - val_loss: 2.1299 - val_accuracy: 0.5295 - lr: 0.0010\n",
            "Learning rate:  0.001\n",
            "Epoch 45/300\n",
            "391/391 [==============================] - ETA: 0s - loss: 1.3603 - accuracy: 0.6853WARNING:tensorflow:Can save best model only with val_acc available, skipping.\n"
          ]
        },
        {
          "name": "stderr",
          "output_type": "stream",
          "text": [
            "WARNING:tensorflow:Can save best model only with val_acc available, skipping.\n"
          ]
        },
        {
          "name": "stdout",
          "output_type": "stream",
          "text": [
            "391/391 [==============================] - 37s 95ms/step - loss: 1.3603 - accuracy: 0.6853 - val_loss: 2.2217 - val_accuracy: 0.5195 - lr: 0.0010\n",
            "Learning rate:  0.001\n",
            "Epoch 46/300\n",
            "391/391 [==============================] - ETA: 0s - loss: 1.3414 - accuracy: 0.6894WARNING:tensorflow:Can save best model only with val_acc available, skipping.\n"
          ]
        },
        {
          "name": "stderr",
          "output_type": "stream",
          "text": [
            "WARNING:tensorflow:Can save best model only with val_acc available, skipping.\n"
          ]
        },
        {
          "name": "stdout",
          "output_type": "stream",
          "text": [
            "391/391 [==============================] - 37s 94ms/step - loss: 1.3414 - accuracy: 0.6894 - val_loss: 2.2188 - val_accuracy: 0.5133 - lr: 0.0010\n",
            "Learning rate:  0.001\n",
            "Epoch 47/300\n",
            "391/391 [==============================] - ETA: 0s - loss: 1.3295 - accuracy: 0.6936WARNING:tensorflow:Can save best model only with val_acc available, skipping.\n"
          ]
        },
        {
          "name": "stderr",
          "output_type": "stream",
          "text": [
            "WARNING:tensorflow:Can save best model only with val_acc available, skipping.\n"
          ]
        },
        {
          "name": "stdout",
          "output_type": "stream",
          "text": [
            "391/391 [==============================] - 37s 94ms/step - loss: 1.3295 - accuracy: 0.6936 - val_loss: 2.3470 - val_accuracy: 0.4993 - lr: 3.1623e-04\n",
            "Learning rate:  0.001\n",
            "Epoch 48/300\n",
            "391/391 [==============================] - ETA: 0s - loss: 1.3246 - accuracy: 0.6952WARNING:tensorflow:Can save best model only with val_acc available, skipping.\n"
          ]
        },
        {
          "name": "stderr",
          "output_type": "stream",
          "text": [
            "WARNING:tensorflow:Can save best model only with val_acc available, skipping.\n"
          ]
        },
        {
          "name": "stdout",
          "output_type": "stream",
          "text": [
            "391/391 [==============================] - 36s 93ms/step - loss: 1.3246 - accuracy: 0.6952 - val_loss: 2.1687 - val_accuracy: 0.5301 - lr: 0.0010\n",
            "Learning rate:  0.001\n",
            "Epoch 49/300\n",
            "391/391 [==============================] - ETA: 0s - loss: 1.3129 - accuracy: 0.6950WARNING:tensorflow:Can save best model only with val_acc available, skipping.\n"
          ]
        },
        {
          "name": "stderr",
          "output_type": "stream",
          "text": [
            "WARNING:tensorflow:Can save best model only with val_acc available, skipping.\n"
          ]
        },
        {
          "name": "stdout",
          "output_type": "stream",
          "text": [
            "391/391 [==============================] - 37s 94ms/step - loss: 1.3129 - accuracy: 0.6950 - val_loss: 2.3337 - val_accuracy: 0.5097 - lr: 0.0010\n",
            "Learning rate:  0.001\n",
            "Epoch 50/300\n",
            "391/391 [==============================] - ETA: 0s - loss: 1.3066 - accuracy: 0.7008WARNING:tensorflow:Can save best model only with val_acc available, skipping.\n"
          ]
        },
        {
          "name": "stderr",
          "output_type": "stream",
          "text": [
            "WARNING:tensorflow:Can save best model only with val_acc available, skipping.\n"
          ]
        },
        {
          "name": "stdout",
          "output_type": "stream",
          "text": [
            "391/391 [==============================] - 37s 94ms/step - loss: 1.3066 - accuracy: 0.7008 - val_loss: 2.3276 - val_accuracy: 0.5087 - lr: 0.0010\n",
            "Learning rate:  0.001\n",
            "Epoch 51/300\n",
            "391/391 [==============================] - ETA: 0s - loss: 1.2872 - accuracy: 0.7067WARNING:tensorflow:Can save best model only with val_acc available, skipping.\n"
          ]
        },
        {
          "name": "stderr",
          "output_type": "stream",
          "text": [
            "WARNING:tensorflow:Can save best model only with val_acc available, skipping.\n"
          ]
        },
        {
          "name": "stdout",
          "output_type": "stream",
          "text": [
            "391/391 [==============================] - 36s 92ms/step - loss: 1.2872 - accuracy: 0.7067 - val_loss: 2.0076 - val_accuracy: 0.5585 - lr: 0.0010\n",
            "Learning rate:  0.001\n",
            "Epoch 52/300\n",
            "391/391 [==============================] - ETA: 0s - loss: 1.2805 - accuracy: 0.7074WARNING:tensorflow:Can save best model only with val_acc available, skipping.\n"
          ]
        },
        {
          "name": "stderr",
          "output_type": "stream",
          "text": [
            "WARNING:tensorflow:Can save best model only with val_acc available, skipping.\n"
          ]
        },
        {
          "name": "stdout",
          "output_type": "stream",
          "text": [
            "391/391 [==============================] - 37s 94ms/step - loss: 1.2805 - accuracy: 0.7074 - val_loss: 2.2629 - val_accuracy: 0.5217 - lr: 0.0010\n",
            "Learning rate:  0.001\n",
            "Epoch 53/300\n",
            "391/391 [==============================] - ETA: 0s - loss: 1.2777 - accuracy: 0.7078WARNING:tensorflow:Can save best model only with val_acc available, skipping.\n"
          ]
        },
        {
          "name": "stderr",
          "output_type": "stream",
          "text": [
            "WARNING:tensorflow:Can save best model only with val_acc available, skipping.\n"
          ]
        },
        {
          "name": "stdout",
          "output_type": "stream",
          "text": [
            "391/391 [==============================] - 36s 92ms/step - loss: 1.2777 - accuracy: 0.7078 - val_loss: 2.2333 - val_accuracy: 0.5246 - lr: 0.0010\n",
            "Learning rate:  0.001\n",
            "Epoch 54/300\n",
            "391/391 [==============================] - ETA: 0s - loss: 1.2570 - accuracy: 0.7113WARNING:tensorflow:Can save best model only with val_acc available, skipping.\n"
          ]
        },
        {
          "name": "stderr",
          "output_type": "stream",
          "text": [
            "WARNING:tensorflow:Can save best model only with val_acc available, skipping.\n"
          ]
        },
        {
          "name": "stdout",
          "output_type": "stream",
          "text": [
            "391/391 [==============================] - 37s 94ms/step - loss: 1.2570 - accuracy: 0.7113 - val_loss: 2.1982 - val_accuracy: 0.5270 - lr: 0.0010\n",
            "Learning rate:  0.001\n",
            "Epoch 55/300\n",
            "391/391 [==============================] - ETA: 0s - loss: 1.2563 - accuracy: 0.7124WARNING:tensorflow:Can save best model only with val_acc available, skipping.\n"
          ]
        },
        {
          "name": "stderr",
          "output_type": "stream",
          "text": [
            "WARNING:tensorflow:Can save best model only with val_acc available, skipping.\n"
          ]
        },
        {
          "name": "stdout",
          "output_type": "stream",
          "text": [
            "391/391 [==============================] - 37s 96ms/step - loss: 1.2563 - accuracy: 0.7124 - val_loss: 2.0551 - val_accuracy: 0.5460 - lr: 0.0010\n",
            "Learning rate:  0.001\n",
            "Epoch 56/300\n",
            "391/391 [==============================] - ETA: 0s - loss: 1.2525 - accuracy: 0.7133WARNING:tensorflow:Can save best model only with val_acc available, skipping.\n"
          ]
        },
        {
          "name": "stderr",
          "output_type": "stream",
          "text": [
            "WARNING:tensorflow:Can save best model only with val_acc available, skipping.\n"
          ]
        },
        {
          "name": "stdout",
          "output_type": "stream",
          "text": [
            "391/391 [==============================] - 36s 92ms/step - loss: 1.2525 - accuracy: 0.7133 - val_loss: 2.1096 - val_accuracy: 0.5454 - lr: 3.1623e-04\n",
            "Learning rate:  0.001\n",
            "Epoch 57/300\n",
            "391/391 [==============================] - ETA: 0s - loss: 1.2347 - accuracy: 0.7181WARNING:tensorflow:Can save best model only with val_acc available, skipping.\n"
          ]
        },
        {
          "name": "stderr",
          "output_type": "stream",
          "text": [
            "WARNING:tensorflow:Can save best model only with val_acc available, skipping.\n"
          ]
        },
        {
          "name": "stdout",
          "output_type": "stream",
          "text": [
            "391/391 [==============================] - 37s 95ms/step - loss: 1.2347 - accuracy: 0.7181 - val_loss: 2.2831 - val_accuracy: 0.5245 - lr: 0.0010\n",
            "Learning rate:  0.001\n",
            "Epoch 58/300\n",
            "391/391 [==============================] - ETA: 0s - loss: 1.2314 - accuracy: 0.7188WARNING:tensorflow:Can save best model only with val_acc available, skipping.\n"
          ]
        },
        {
          "name": "stderr",
          "output_type": "stream",
          "text": [
            "WARNING:tensorflow:Can save best model only with val_acc available, skipping.\n"
          ]
        },
        {
          "name": "stdout",
          "output_type": "stream",
          "text": [
            "391/391 [==============================] - 37s 95ms/step - loss: 1.2314 - accuracy: 0.7188 - val_loss: 2.1699 - val_accuracy: 0.5364 - lr: 0.0010\n",
            "Learning rate:  0.001\n",
            "Epoch 59/300\n",
            "391/391 [==============================] - ETA: 0s - loss: 1.2176 - accuracy: 0.7261WARNING:tensorflow:Can save best model only with val_acc available, skipping.\n"
          ]
        },
        {
          "name": "stderr",
          "output_type": "stream",
          "text": [
            "WARNING:tensorflow:Can save best model only with val_acc available, skipping.\n"
          ]
        },
        {
          "name": "stdout",
          "output_type": "stream",
          "text": [
            "391/391 [==============================] - 37s 94ms/step - loss: 1.2176 - accuracy: 0.7261 - val_loss: 2.1258 - val_accuracy: 0.5388 - lr: 0.0010\n",
            "Learning rate:  0.001\n",
            "Epoch 60/300\n",
            "391/391 [==============================] - ETA: 0s - loss: 1.2134 - accuracy: 0.7247WARNING:tensorflow:Can save best model only with val_acc available, skipping.\n"
          ]
        },
        {
          "name": "stderr",
          "output_type": "stream",
          "text": [
            "WARNING:tensorflow:Can save best model only with val_acc available, skipping.\n"
          ]
        },
        {
          "name": "stdout",
          "output_type": "stream",
          "text": [
            "391/391 [==============================] - 37s 95ms/step - loss: 1.2134 - accuracy: 0.7247 - val_loss: 2.2045 - val_accuracy: 0.5293 - lr: 0.0010\n",
            "Learning rate:  0.001\n",
            "Epoch 61/300\n",
            "391/391 [==============================] - ETA: 0s - loss: 1.2252 - accuracy: 0.7229WARNING:tensorflow:Can save best model only with val_acc available, skipping.\n"
          ]
        },
        {
          "name": "stderr",
          "output_type": "stream",
          "text": [
            "WARNING:tensorflow:Can save best model only with val_acc available, skipping.\n"
          ]
        },
        {
          "name": "stdout",
          "output_type": "stream",
          "text": [
            "391/391 [==============================] - 37s 94ms/step - loss: 1.2252 - accuracy: 0.7229 - val_loss: 2.4799 - val_accuracy: 0.4914 - lr: 3.1623e-04\n",
            "Learning rate:  0.001\n",
            "Epoch 62/300\n",
            "391/391 [==============================] - ETA: 0s - loss: 1.1994 - accuracy: 0.7307WARNING:tensorflow:Can save best model only with val_acc available, skipping.\n"
          ]
        },
        {
          "name": "stderr",
          "output_type": "stream",
          "text": [
            "WARNING:tensorflow:Can save best model only with val_acc available, skipping.\n"
          ]
        },
        {
          "name": "stdout",
          "output_type": "stream",
          "text": [
            "391/391 [==============================] - 37s 95ms/step - loss: 1.1994 - accuracy: 0.7307 - val_loss: 2.2380 - val_accuracy: 0.5247 - lr: 0.0010\n",
            "Learning rate:  0.001\n",
            "Epoch 63/300\n",
            "391/391 [==============================] - ETA: 0s - loss: 1.1982 - accuracy: 0.7289WARNING:tensorflow:Can save best model only with val_acc available, skipping.\n"
          ]
        },
        {
          "name": "stderr",
          "output_type": "stream",
          "text": [
            "WARNING:tensorflow:Can save best model only with val_acc available, skipping.\n"
          ]
        },
        {
          "name": "stdout",
          "output_type": "stream",
          "text": [
            "391/391 [==============================] - 37s 94ms/step - loss: 1.1982 - accuracy: 0.7289 - val_loss: 2.3926 - val_accuracy: 0.5175 - lr: 0.0010\n",
            "Learning rate:  0.001\n",
            "Epoch 64/300\n",
            "391/391 [==============================] - ETA: 0s - loss: 1.1849 - accuracy: 0.7332WARNING:tensorflow:Can save best model only with val_acc available, skipping.\n"
          ]
        },
        {
          "name": "stderr",
          "output_type": "stream",
          "text": [
            "WARNING:tensorflow:Can save best model only with val_acc available, skipping.\n"
          ]
        },
        {
          "name": "stdout",
          "output_type": "stream",
          "text": [
            "391/391 [==============================] - 36s 92ms/step - loss: 1.1849 - accuracy: 0.7332 - val_loss: 2.1780 - val_accuracy: 0.5404 - lr: 0.0010\n",
            "Learning rate:  0.001\n",
            "Epoch 65/300\n",
            "391/391 [==============================] - ETA: 0s - loss: 1.1745 - accuracy: 0.7364WARNING:tensorflow:Can save best model only with val_acc available, skipping.\n"
          ]
        },
        {
          "name": "stderr",
          "output_type": "stream",
          "text": [
            "WARNING:tensorflow:Can save best model only with val_acc available, skipping.\n"
          ]
        },
        {
          "name": "stdout",
          "output_type": "stream",
          "text": [
            "391/391 [==============================] - 37s 94ms/step - loss: 1.1745 - accuracy: 0.7364 - val_loss: 2.1626 - val_accuracy: 0.5360 - lr: 0.0010\n",
            "Learning rate:  0.001\n",
            "Epoch 66/300\n",
            "391/391 [==============================] - ETA: 0s - loss: 1.1760 - accuracy: 0.7343WARNING:tensorflow:Can save best model only with val_acc available, skipping.\n"
          ]
        },
        {
          "name": "stderr",
          "output_type": "stream",
          "text": [
            "WARNING:tensorflow:Can save best model only with val_acc available, skipping.\n"
          ]
        },
        {
          "name": "stdout",
          "output_type": "stream",
          "text": [
            "391/391 [==============================] - 36s 93ms/step - loss: 1.1760 - accuracy: 0.7343 - val_loss: 2.2147 - val_accuracy: 0.5269 - lr: 3.1623e-04\n",
            "Learning rate:  0.001\n",
            "Epoch 67/300\n",
            "391/391 [==============================] - ETA: 0s - loss: 1.1675 - accuracy: 0.7381WARNING:tensorflow:Can save best model only with val_acc available, skipping.\n"
          ]
        },
        {
          "name": "stderr",
          "output_type": "stream",
          "text": [
            "WARNING:tensorflow:Can save best model only with val_acc available, skipping.\n"
          ]
        },
        {
          "name": "stdout",
          "output_type": "stream",
          "text": [
            "391/391 [==============================] - 37s 94ms/step - loss: 1.1675 - accuracy: 0.7381 - val_loss: 2.1459 - val_accuracy: 0.5524 - lr: 0.0010\n",
            "Learning rate:  0.001\n",
            "Epoch 68/300\n",
            "391/391 [==============================] - ETA: 0s - loss: 1.1590 - accuracy: 0.7391WARNING:tensorflow:Can save best model only with val_acc available, skipping.\n"
          ]
        },
        {
          "name": "stderr",
          "output_type": "stream",
          "text": [
            "WARNING:tensorflow:Can save best model only with val_acc available, skipping.\n"
          ]
        },
        {
          "name": "stdout",
          "output_type": "stream",
          "text": [
            "391/391 [==============================] - 37s 94ms/step - loss: 1.1590 - accuracy: 0.7391 - val_loss: 2.2443 - val_accuracy: 0.5399 - lr: 0.0010\n",
            "Learning rate:  0.001\n",
            "Epoch 69/300\n",
            "391/391 [==============================] - ETA: 0s - loss: 1.1535 - accuracy: 0.7431WARNING:tensorflow:Can save best model only with val_acc available, skipping.\n"
          ]
        },
        {
          "name": "stderr",
          "output_type": "stream",
          "text": [
            "WARNING:tensorflow:Can save best model only with val_acc available, skipping.\n"
          ]
        },
        {
          "name": "stdout",
          "output_type": "stream",
          "text": [
            "391/391 [==============================] - 36s 92ms/step - loss: 1.1535 - accuracy: 0.7431 - val_loss: 2.2272 - val_accuracy: 0.5396 - lr: 0.0010\n",
            "Learning rate:  0.001\n",
            "Epoch 70/300\n",
            "391/391 [==============================] - ETA: 0s - loss: 1.1348 - accuracy: 0.7472WARNING:tensorflow:Can save best model only with val_acc available, skipping.\n"
          ]
        },
        {
          "name": "stderr",
          "output_type": "stream",
          "text": [
            "WARNING:tensorflow:Can save best model only with val_acc available, skipping.\n"
          ]
        },
        {
          "name": "stdout",
          "output_type": "stream",
          "text": [
            "391/391 [==============================] - 37s 94ms/step - loss: 1.1348 - accuracy: 0.7472 - val_loss: 2.2435 - val_accuracy: 0.5293 - lr: 0.0010\n",
            "Learning rate:  0.001\n",
            "Epoch 71/300\n",
            "391/391 [==============================] - ETA: 0s - loss: 1.1384 - accuracy: 0.7471WARNING:tensorflow:Can save best model only with val_acc available, skipping.\n"
          ]
        },
        {
          "name": "stderr",
          "output_type": "stream",
          "text": [
            "WARNING:tensorflow:Can save best model only with val_acc available, skipping.\n"
          ]
        },
        {
          "name": "stdout",
          "output_type": "stream",
          "text": [
            "391/391 [==============================] - 36s 93ms/step - loss: 1.1384 - accuracy: 0.7471 - val_loss: 2.4635 - val_accuracy: 0.5012 - lr: 3.1623e-04\n",
            "Learning rate:  0.001\n",
            "Epoch 72/300\n",
            "391/391 [==============================] - ETA: 0s - loss: 1.1389 - accuracy: 0.7457WARNING:tensorflow:Can save best model only with val_acc available, skipping.\n"
          ]
        },
        {
          "name": "stderr",
          "output_type": "stream",
          "text": [
            "WARNING:tensorflow:Can save best model only with val_acc available, skipping.\n"
          ]
        },
        {
          "name": "stdout",
          "output_type": "stream",
          "text": [
            "391/391 [==============================] - 36s 92ms/step - loss: 1.1389 - accuracy: 0.7457 - val_loss: 2.2898 - val_accuracy: 0.5288 - lr: 0.0010\n",
            "Learning rate:  0.001\n",
            "Epoch 73/300\n",
            "391/391 [==============================] - ETA: 0s - loss: 1.1332 - accuracy: 0.7475WARNING:tensorflow:Can save best model only with val_acc available, skipping.\n"
          ]
        },
        {
          "name": "stderr",
          "output_type": "stream",
          "text": [
            "WARNING:tensorflow:Can save best model only with val_acc available, skipping.\n"
          ]
        },
        {
          "name": "stdout",
          "output_type": "stream",
          "text": [
            "391/391 [==============================] - 37s 94ms/step - loss: 1.1332 - accuracy: 0.7475 - val_loss: 2.1584 - val_accuracy: 0.5566 - lr: 0.0010\n",
            "Learning rate:  0.001\n",
            "Epoch 74/300\n",
            "391/391 [==============================] - ETA: 0s - loss: 1.1213 - accuracy: 0.7500WARNING:tensorflow:Can save best model only with val_acc available, skipping.\n"
          ]
        },
        {
          "name": "stderr",
          "output_type": "stream",
          "text": [
            "WARNING:tensorflow:Can save best model only with val_acc available, skipping.\n"
          ]
        },
        {
          "name": "stdout",
          "output_type": "stream",
          "text": [
            "391/391 [==============================] - 36s 92ms/step - loss: 1.1213 - accuracy: 0.7500 - val_loss: 2.3616 - val_accuracy: 0.5180 - lr: 0.0010\n",
            "Learning rate:  0.001\n",
            "Epoch 75/300\n",
            "391/391 [==============================] - ETA: 0s - loss: 1.1175 - accuracy: 0.7526WARNING:tensorflow:Can save best model only with val_acc available, skipping.\n"
          ]
        },
        {
          "name": "stderr",
          "output_type": "stream",
          "text": [
            "WARNING:tensorflow:Can save best model only with val_acc available, skipping.\n"
          ]
        },
        {
          "name": "stdout",
          "output_type": "stream",
          "text": [
            "391/391 [==============================] - 37s 94ms/step - loss: 1.1175 - accuracy: 0.7526 - val_loss: 2.3008 - val_accuracy: 0.5297 - lr: 0.0010\n",
            "Learning rate:  0.001\n",
            "Epoch 76/300\n",
            "391/391 [==============================] - ETA: 0s - loss: 1.1163 - accuracy: 0.7522WARNING:tensorflow:Can save best model only with val_acc available, skipping.\n"
          ]
        },
        {
          "name": "stderr",
          "output_type": "stream",
          "text": [
            "WARNING:tensorflow:Can save best model only with val_acc available, skipping.\n"
          ]
        },
        {
          "name": "stdout",
          "output_type": "stream",
          "text": [
            "391/391 [==============================] - 37s 94ms/step - loss: 1.1163 - accuracy: 0.7522 - val_loss: 1.9946 - val_accuracy: 0.5852 - lr: 0.0010\n",
            "Learning rate:  0.001\n",
            "Epoch 77/300\n",
            "391/391 [==============================] - ETA: 0s - loss: 1.1075 - accuracy: 0.7565WARNING:tensorflow:Can save best model only with val_acc available, skipping.\n"
          ]
        },
        {
          "name": "stderr",
          "output_type": "stream",
          "text": [
            "WARNING:tensorflow:Can save best model only with val_acc available, skipping.\n"
          ]
        },
        {
          "name": "stdout",
          "output_type": "stream",
          "text": [
            "391/391 [==============================] - 36s 92ms/step - loss: 1.1075 - accuracy: 0.7565 - val_loss: 2.1930 - val_accuracy: 0.5506 - lr: 0.0010\n",
            "Learning rate:  0.001\n",
            "Epoch 78/300\n",
            "391/391 [==============================] - ETA: 0s - loss: 1.0992 - accuracy: 0.7566WARNING:tensorflow:Can save best model only with val_acc available, skipping.\n"
          ]
        },
        {
          "name": "stderr",
          "output_type": "stream",
          "text": [
            "WARNING:tensorflow:Can save best model only with val_acc available, skipping.\n"
          ]
        },
        {
          "name": "stdout",
          "output_type": "stream",
          "text": [
            "391/391 [==============================] - 37s 93ms/step - loss: 1.0992 - accuracy: 0.7566 - val_loss: 2.2297 - val_accuracy: 0.5400 - lr: 0.0010\n",
            "Learning rate:  0.001\n",
            "Epoch 79/300\n",
            "391/391 [==============================] - ETA: 0s - loss: 1.1051 - accuracy: 0.7552WARNING:tensorflow:Can save best model only with val_acc available, skipping.\n"
          ]
        },
        {
          "name": "stderr",
          "output_type": "stream",
          "text": [
            "WARNING:tensorflow:Can save best model only with val_acc available, skipping.\n"
          ]
        },
        {
          "name": "stdout",
          "output_type": "stream",
          "text": [
            "391/391 [==============================] - 36s 93ms/step - loss: 1.1051 - accuracy: 0.7552 - val_loss: 2.5708 - val_accuracy: 0.5065 - lr: 0.0010\n",
            "Learning rate:  0.001\n",
            "Epoch 80/300\n",
            "391/391 [==============================] - ETA: 0s - loss: 1.0931 - accuracy: 0.7586WARNING:tensorflow:Can save best model only with val_acc available, skipping.\n"
          ]
        },
        {
          "name": "stderr",
          "output_type": "stream",
          "text": [
            "WARNING:tensorflow:Can save best model only with val_acc available, skipping.\n"
          ]
        },
        {
          "name": "stdout",
          "output_type": "stream",
          "text": [
            "391/391 [==============================] - 36s 93ms/step - loss: 1.0931 - accuracy: 0.7586 - val_loss: 2.3725 - val_accuracy: 0.5337 - lr: 0.0010\n",
            "Learning rate:  0.001\n",
            "Epoch 81/300\n",
            "391/391 [==============================] - ETA: 0s - loss: 1.0881 - accuracy: 0.7606WARNING:tensorflow:Can save best model only with val_acc available, skipping.\n"
          ]
        },
        {
          "name": "stderr",
          "output_type": "stream",
          "text": [
            "WARNING:tensorflow:Can save best model only with val_acc available, skipping.\n"
          ]
        },
        {
          "name": "stdout",
          "output_type": "stream",
          "text": [
            "391/391 [==============================] - 37s 94ms/step - loss: 1.0881 - accuracy: 0.7606 - val_loss: 2.2247 - val_accuracy: 0.5549 - lr: 3.1623e-04\n",
            "Learning rate:  0.0001\n",
            "Epoch 82/300\n",
            "391/391 [==============================] - ETA: 0s - loss: 0.9361 - accuracy: 0.8092WARNING:tensorflow:Can save best model only with val_acc available, skipping.\n"
          ]
        },
        {
          "name": "stderr",
          "output_type": "stream",
          "text": [
            "WARNING:tensorflow:Can save best model only with val_acc available, skipping.\n"
          ]
        },
        {
          "name": "stdout",
          "output_type": "stream",
          "text": [
            "391/391 [==============================] - 36s 92ms/step - loss: 0.9361 - accuracy: 0.8092 - val_loss: 1.7550 - val_accuracy: 0.6301 - lr: 1.0000e-04\n",
            "Learning rate:  0.0001\n",
            "Epoch 83/300\n",
            "391/391 [==============================] - ETA: 0s - loss: 0.8736 - accuracy: 0.8285WARNING:tensorflow:Can save best model only with val_acc available, skipping.\n"
          ]
        },
        {
          "name": "stderr",
          "output_type": "stream",
          "text": [
            "WARNING:tensorflow:Can save best model only with val_acc available, skipping.\n"
          ]
        },
        {
          "name": "stdout",
          "output_type": "stream",
          "text": [
            "391/391 [==============================] - 37s 94ms/step - loss: 0.8736 - accuracy: 0.8285 - val_loss: 1.7733 - val_accuracy: 0.6280 - lr: 1.0000e-04\n",
            "Learning rate:  0.0001\n",
            "Epoch 84/300\n",
            "391/391 [==============================] - ETA: 0s - loss: 0.8550 - accuracy: 0.8343WARNING:tensorflow:Can save best model only with val_acc available, skipping.\n"
          ]
        },
        {
          "name": "stderr",
          "output_type": "stream",
          "text": [
            "WARNING:tensorflow:Can save best model only with val_acc available, skipping.\n"
          ]
        },
        {
          "name": "stdout",
          "output_type": "stream",
          "text": [
            "391/391 [==============================] - 36s 93ms/step - loss: 0.8550 - accuracy: 0.8343 - val_loss: 1.7728 - val_accuracy: 0.6316 - lr: 1.0000e-04\n",
            "Learning rate:  0.0001\n",
            "Epoch 85/300\n",
            "391/391 [==============================] - ETA: 0s - loss: 0.8409 - accuracy: 0.8363WARNING:tensorflow:Can save best model only with val_acc available, skipping.\n"
          ]
        },
        {
          "name": "stderr",
          "output_type": "stream",
          "text": [
            "WARNING:tensorflow:Can save best model only with val_acc available, skipping.\n"
          ]
        },
        {
          "name": "stdout",
          "output_type": "stream",
          "text": [
            "391/391 [==============================] - 37s 95ms/step - loss: 0.8409 - accuracy: 0.8363 - val_loss: 1.7679 - val_accuracy: 0.6288 - lr: 1.0000e-04\n",
            "Learning rate:  0.0001\n",
            "Epoch 86/300\n",
            "391/391 [==============================] - ETA: 0s - loss: 0.8269 - accuracy: 0.8415WARNING:tensorflow:Can save best model only with val_acc available, skipping.\n"
          ]
        },
        {
          "name": "stderr",
          "output_type": "stream",
          "text": [
            "WARNING:tensorflow:Can save best model only with val_acc available, skipping.\n"
          ]
        },
        {
          "name": "stdout",
          "output_type": "stream",
          "text": [
            "391/391 [==============================] - 36s 93ms/step - loss: 0.8269 - accuracy: 0.8415 - val_loss: 1.7753 - val_accuracy: 0.6291 - lr: 1.0000e-04\n",
            "Learning rate:  0.0001\n",
            "Epoch 87/300\n",
            "391/391 [==============================] - ETA: 0s - loss: 0.8186 - accuracy: 0.8448WARNING:tensorflow:Can save best model only with val_acc available, skipping.\n"
          ]
        },
        {
          "name": "stderr",
          "output_type": "stream",
          "text": [
            "WARNING:tensorflow:Can save best model only with val_acc available, skipping.\n"
          ]
        },
        {
          "name": "stdout",
          "output_type": "stream",
          "text": [
            "391/391 [==============================] - 36s 92ms/step - loss: 0.8186 - accuracy: 0.8448 - val_loss: 1.7876 - val_accuracy: 0.6304 - lr: 3.1623e-05\n",
            "Learning rate:  0.0001\n",
            "Epoch 88/300\n",
            "391/391 [==============================] - ETA: 0s - loss: 0.8071 - accuracy: 0.8469WARNING:tensorflow:Can save best model only with val_acc available, skipping.\n"
          ]
        },
        {
          "name": "stderr",
          "output_type": "stream",
          "text": [
            "WARNING:tensorflow:Can save best model only with val_acc available, skipping.\n"
          ]
        },
        {
          "name": "stdout",
          "output_type": "stream",
          "text": [
            "391/391 [==============================] - 36s 93ms/step - loss: 0.8071 - accuracy: 0.8469 - val_loss: 1.7935 - val_accuracy: 0.6292 - lr: 1.0000e-04\n",
            "Learning rate:  0.0001\n",
            "Epoch 89/300\n",
            "391/391 [==============================] - ETA: 0s - loss: 0.8066 - accuracy: 0.8457WARNING:tensorflow:Can save best model only with val_acc available, skipping.\n"
          ]
        },
        {
          "name": "stderr",
          "output_type": "stream",
          "text": [
            "WARNING:tensorflow:Can save best model only with val_acc available, skipping.\n"
          ]
        },
        {
          "name": "stdout",
          "output_type": "stream",
          "text": [
            "391/391 [==============================] - 36s 93ms/step - loss: 0.8066 - accuracy: 0.8457 - val_loss: 1.7617 - val_accuracy: 0.6342 - lr: 1.0000e-04\n",
            "Learning rate:  0.0001\n",
            "Epoch 90/300\n",
            "391/391 [==============================] - ETA: 0s - loss: 0.7965 - accuracy: 0.8518WARNING:tensorflow:Can save best model only with val_acc available, skipping.\n"
          ]
        },
        {
          "name": "stderr",
          "output_type": "stream",
          "text": [
            "WARNING:tensorflow:Can save best model only with val_acc available, skipping.\n"
          ]
        },
        {
          "name": "stdout",
          "output_type": "stream",
          "text": [
            "391/391 [==============================] - 36s 93ms/step - loss: 0.7965 - accuracy: 0.8518 - val_loss: 1.7865 - val_accuracy: 0.6339 - lr: 1.0000e-04\n",
            "Learning rate:  0.0001\n",
            "Epoch 91/300\n",
            "391/391 [==============================] - ETA: 0s - loss: 0.7926 - accuracy: 0.8485WARNING:tensorflow:Can save best model only with val_acc available, skipping.\n"
          ]
        },
        {
          "name": "stderr",
          "output_type": "stream",
          "text": [
            "WARNING:tensorflow:Can save best model only with val_acc available, skipping.\n"
          ]
        },
        {
          "name": "stdout",
          "output_type": "stream",
          "text": [
            "391/391 [==============================] - 37s 94ms/step - loss: 0.7926 - accuracy: 0.8485 - val_loss: 1.7701 - val_accuracy: 0.6308 - lr: 1.0000e-04\n",
            "Learning rate:  0.0001\n",
            "Epoch 92/300\n",
            "391/391 [==============================] - ETA: 0s - loss: 0.7829 - accuracy: 0.8520WARNING:tensorflow:Can save best model only with val_acc available, skipping.\n"
          ]
        },
        {
          "name": "stderr",
          "output_type": "stream",
          "text": [
            "WARNING:tensorflow:Can save best model only with val_acc available, skipping.\n"
          ]
        },
        {
          "name": "stdout",
          "output_type": "stream",
          "text": [
            "391/391 [==============================] - 36s 92ms/step - loss: 0.7829 - accuracy: 0.8520 - val_loss: 1.8103 - val_accuracy: 0.6273 - lr: 3.1623e-05\n",
            "Learning rate:  0.0001\n",
            "Epoch 93/300\n",
            "391/391 [==============================] - ETA: 0s - loss: 0.7840 - accuracy: 0.8532WARNING:tensorflow:Can save best model only with val_acc available, skipping.\n"
          ]
        },
        {
          "name": "stderr",
          "output_type": "stream",
          "text": [
            "WARNING:tensorflow:Can save best model only with val_acc available, skipping.\n"
          ]
        },
        {
          "name": "stdout",
          "output_type": "stream",
          "text": [
            "391/391 [==============================] - 37s 95ms/step - loss: 0.7840 - accuracy: 0.8532 - val_loss: 1.7963 - val_accuracy: 0.6291 - lr: 1.0000e-04\n",
            "Learning rate:  0.0001\n",
            "Epoch 94/300\n",
            "391/391 [==============================] - ETA: 0s - loss: 0.7796 - accuracy: 0.8538WARNING:tensorflow:Can save best model only with val_acc available, skipping.\n"
          ]
        },
        {
          "name": "stderr",
          "output_type": "stream",
          "text": [
            "WARNING:tensorflow:Can save best model only with val_acc available, skipping.\n"
          ]
        },
        {
          "name": "stdout",
          "output_type": "stream",
          "text": [
            "391/391 [==============================] - 37s 94ms/step - loss: 0.7796 - accuracy: 0.8538 - val_loss: 1.7968 - val_accuracy: 0.6314 - lr: 1.0000e-04\n",
            "Learning rate:  0.0001\n",
            "Epoch 95/300\n",
            "391/391 [==============================] - ETA: 0s - loss: 0.7728 - accuracy: 0.8546WARNING:tensorflow:Can save best model only with val_acc available, skipping.\n"
          ]
        },
        {
          "name": "stderr",
          "output_type": "stream",
          "text": [
            "WARNING:tensorflow:Can save best model only with val_acc available, skipping.\n"
          ]
        },
        {
          "name": "stdout",
          "output_type": "stream",
          "text": [
            "391/391 [==============================] - 37s 93ms/step - loss: 0.7728 - accuracy: 0.8546 - val_loss: 1.8189 - val_accuracy: 0.6296 - lr: 1.0000e-04\n",
            "Learning rate:  0.0001\n",
            "Epoch 96/300\n",
            "391/391 [==============================] - ETA: 0s - loss: 0.7684 - accuracy: 0.8539WARNING:tensorflow:Can save best model only with val_acc available, skipping.\n"
          ]
        },
        {
          "name": "stderr",
          "output_type": "stream",
          "text": [
            "WARNING:tensorflow:Can save best model only with val_acc available, skipping.\n"
          ]
        },
        {
          "name": "stdout",
          "output_type": "stream",
          "text": [
            "391/391 [==============================] - 36s 93ms/step - loss: 0.7684 - accuracy: 0.8539 - val_loss: 1.7868 - val_accuracy: 0.6354 - lr: 1.0000e-04\n",
            "Learning rate:  0.0001\n",
            "Epoch 97/300\n",
            "391/391 [==============================] - ETA: 0s - loss: 0.7647 - accuracy: 0.8555WARNING:tensorflow:Can save best model only with val_acc available, skipping.\n"
          ]
        },
        {
          "name": "stderr",
          "output_type": "stream",
          "text": [
            "WARNING:tensorflow:Can save best model only with val_acc available, skipping.\n"
          ]
        },
        {
          "name": "stdout",
          "output_type": "stream",
          "text": [
            "391/391 [==============================] - 36s 91ms/step - loss: 0.7647 - accuracy: 0.8555 - val_loss: 1.8201 - val_accuracy: 0.6290 - lr: 3.1623e-05\n",
            "Learning rate:  0.0001\n",
            "Epoch 98/300\n",
            "391/391 [==============================] - ETA: 0s - loss: 0.7546 - accuracy: 0.8599WARNING:tensorflow:Can save best model only with val_acc available, skipping.\n"
          ]
        },
        {
          "name": "stderr",
          "output_type": "stream",
          "text": [
            "WARNING:tensorflow:Can save best model only with val_acc available, skipping.\n"
          ]
        },
        {
          "name": "stdout",
          "output_type": "stream",
          "text": [
            "391/391 [==============================] - 37s 94ms/step - loss: 0.7546 - accuracy: 0.8599 - val_loss: 1.8354 - val_accuracy: 0.6281 - lr: 1.0000e-04\n",
            "Learning rate:  0.0001\n",
            "Epoch 99/300\n",
            "391/391 [==============================] - ETA: 0s - loss: 0.7563 - accuracy: 0.8582WARNING:tensorflow:Can save best model only with val_acc available, skipping.\n"
          ]
        },
        {
          "name": "stderr",
          "output_type": "stream",
          "text": [
            "WARNING:tensorflow:Can save best model only with val_acc available, skipping.\n"
          ]
        },
        {
          "name": "stdout",
          "output_type": "stream",
          "text": [
            "391/391 [==============================] - 37s 94ms/step - loss: 0.7563 - accuracy: 0.8582 - val_loss: 1.7930 - val_accuracy: 0.6340 - lr: 1.0000e-04\n",
            "Learning rate:  0.0001\n",
            "Epoch 100/300\n",
            "391/391 [==============================] - ETA: 0s - loss: 0.7500 - accuracy: 0.8593WARNING:tensorflow:Can save best model only with val_acc available, skipping.\n"
          ]
        },
        {
          "name": "stderr",
          "output_type": "stream",
          "text": [
            "WARNING:tensorflow:Can save best model only with val_acc available, skipping.\n"
          ]
        },
        {
          "name": "stdout",
          "output_type": "stream",
          "text": [
            "391/391 [==============================] - 36s 92ms/step - loss: 0.7500 - accuracy: 0.8593 - val_loss: 1.8363 - val_accuracy: 0.6271 - lr: 1.0000e-04\n",
            "Learning rate:  0.0001\n",
            "Epoch 101/300\n",
            "391/391 [==============================] - ETA: 0s - loss: 0.7461 - accuracy: 0.8605WARNING:tensorflow:Can save best model only with val_acc available, skipping.\n"
          ]
        },
        {
          "name": "stderr",
          "output_type": "stream",
          "text": [
            "WARNING:tensorflow:Can save best model only with val_acc available, skipping.\n"
          ]
        },
        {
          "name": "stdout",
          "output_type": "stream",
          "text": [
            "391/391 [==============================] - 37s 94ms/step - loss: 0.7461 - accuracy: 0.8605 - val_loss: 1.8286 - val_accuracy: 0.6272 - lr: 1.0000e-04\n",
            "Learning rate:  0.0001\n",
            "Epoch 102/300\n",
            "391/391 [==============================] - ETA: 0s - loss: 0.7429 - accuracy: 0.8623WARNING:tensorflow:Can save best model only with val_acc available, skipping.\n"
          ]
        },
        {
          "name": "stderr",
          "output_type": "stream",
          "text": [
            "WARNING:tensorflow:Can save best model only with val_acc available, skipping.\n"
          ]
        },
        {
          "name": "stdout",
          "output_type": "stream",
          "text": [
            "391/391 [==============================] - 36s 92ms/step - loss: 0.7429 - accuracy: 0.8623 - val_loss: 1.8252 - val_accuracy: 0.6261 - lr: 3.1623e-05\n",
            "Learning rate:  0.0001\n",
            "Epoch 103/300\n",
            "391/391 [==============================] - ETA: 0s - loss: 0.7390 - accuracy: 0.8628WARNING:tensorflow:Can save best model only with val_acc available, skipping.\n"
          ]
        },
        {
          "name": "stderr",
          "output_type": "stream",
          "text": [
            "WARNING:tensorflow:Can save best model only with val_acc available, skipping.\n"
          ]
        },
        {
          "name": "stdout",
          "output_type": "stream",
          "text": [
            "391/391 [==============================] - 37s 94ms/step - loss: 0.7390 - accuracy: 0.8628 - val_loss: 1.8171 - val_accuracy: 0.6294 - lr: 1.0000e-04\n",
            "Learning rate:  0.0001\n",
            "Epoch 104/300\n",
            "391/391 [==============================] - ETA: 0s - loss: 0.7365 - accuracy: 0.8612WARNING:tensorflow:Can save best model only with val_acc available, skipping.\n"
          ]
        },
        {
          "name": "stderr",
          "output_type": "stream",
          "text": [
            "WARNING:tensorflow:Can save best model only with val_acc available, skipping.\n"
          ]
        },
        {
          "name": "stdout",
          "output_type": "stream",
          "text": [
            "391/391 [==============================] - 37s 95ms/step - loss: 0.7365 - accuracy: 0.8612 - val_loss: 1.8152 - val_accuracy: 0.6290 - lr: 1.0000e-04\n",
            "Learning rate:  0.0001\n",
            "Epoch 105/300\n",
            "391/391 [==============================] - ETA: 0s - loss: 0.7365 - accuracy: 0.8614WARNING:tensorflow:Can save best model only with val_acc available, skipping.\n"
          ]
        },
        {
          "name": "stderr",
          "output_type": "stream",
          "text": [
            "WARNING:tensorflow:Can save best model only with val_acc available, skipping.\n"
          ]
        },
        {
          "name": "stdout",
          "output_type": "stream",
          "text": [
            "391/391 [==============================] - 36s 93ms/step - loss: 0.7365 - accuracy: 0.8614 - val_loss: 1.8313 - val_accuracy: 0.6304 - lr: 1.0000e-04\n",
            "Learning rate:  0.0001\n",
            "Epoch 106/300\n",
            "391/391 [==============================] - ETA: 0s - loss: 0.7274 - accuracy: 0.8651WARNING:tensorflow:Can save best model only with val_acc available, skipping.\n"
          ]
        },
        {
          "name": "stderr",
          "output_type": "stream",
          "text": [
            "WARNING:tensorflow:Can save best model only with val_acc available, skipping.\n"
          ]
        },
        {
          "name": "stdout",
          "output_type": "stream",
          "text": [
            "391/391 [==============================] - 37s 94ms/step - loss: 0.7274 - accuracy: 0.8651 - val_loss: 1.8360 - val_accuracy: 0.6290 - lr: 1.0000e-04\n",
            "Learning rate:  0.0001\n",
            "Epoch 107/300\n",
            "391/391 [==============================] - ETA: 0s - loss: 0.7237 - accuracy: 0.8646WARNING:tensorflow:Can save best model only with val_acc available, skipping.\n"
          ]
        },
        {
          "name": "stderr",
          "output_type": "stream",
          "text": [
            "WARNING:tensorflow:Can save best model only with val_acc available, skipping.\n"
          ]
        },
        {
          "name": "stdout",
          "output_type": "stream",
          "text": [
            "391/391 [==============================] - 37s 94ms/step - loss: 0.7237 - accuracy: 0.8646 - val_loss: 1.8706 - val_accuracy: 0.6229 - lr: 3.1623e-05\n",
            "Learning rate:  0.0001\n",
            "Epoch 108/300\n",
            "391/391 [==============================] - ETA: 0s - loss: 0.7228 - accuracy: 0.8639WARNING:tensorflow:Can save best model only with val_acc available, skipping.\n"
          ]
        },
        {
          "name": "stderr",
          "output_type": "stream",
          "text": [
            "WARNING:tensorflow:Can save best model only with val_acc available, skipping.\n"
          ]
        },
        {
          "name": "stdout",
          "output_type": "stream",
          "text": [
            "391/391 [==============================] - 36s 91ms/step - loss: 0.7228 - accuracy: 0.8639 - val_loss: 1.8218 - val_accuracy: 0.6310 - lr: 1.0000e-04\n",
            "Learning rate:  0.0001\n",
            "Epoch 109/300\n",
            "391/391 [==============================] - ETA: 0s - loss: 0.7204 - accuracy: 0.8652WARNING:tensorflow:Can save best model only with val_acc available, skipping.\n"
          ]
        },
        {
          "name": "stderr",
          "output_type": "stream",
          "text": [
            "WARNING:tensorflow:Can save best model only with val_acc available, skipping.\n"
          ]
        },
        {
          "name": "stdout",
          "output_type": "stream",
          "text": [
            "391/391 [==============================] - 36s 93ms/step - loss: 0.7204 - accuracy: 0.8652 - val_loss: 1.8528 - val_accuracy: 0.6275 - lr: 1.0000e-04\n",
            "Learning rate:  0.0001\n",
            "Epoch 110/300\n",
            "391/391 [==============================] - ETA: 0s - loss: 0.7157 - accuracy: 0.8689WARNING:tensorflow:Can save best model only with val_acc available, skipping.\n"
          ]
        },
        {
          "name": "stderr",
          "output_type": "stream",
          "text": [
            "WARNING:tensorflow:Can save best model only with val_acc available, skipping.\n"
          ]
        },
        {
          "name": "stdout",
          "output_type": "stream",
          "text": [
            "391/391 [==============================] - 36s 92ms/step - loss: 0.7157 - accuracy: 0.8689 - val_loss: 1.8291 - val_accuracy: 0.6333 - lr: 1.0000e-04\n",
            "Learning rate:  0.0001\n",
            "Epoch 111/300\n",
            "391/391 [==============================] - ETA: 0s - loss: 0.7145 - accuracy: 0.8675WARNING:tensorflow:Can save best model only with val_acc available, skipping.\n"
          ]
        },
        {
          "name": "stderr",
          "output_type": "stream",
          "text": [
            "WARNING:tensorflow:Can save best model only with val_acc available, skipping.\n"
          ]
        },
        {
          "name": "stdout",
          "output_type": "stream",
          "text": [
            "391/391 [==============================] - 36s 93ms/step - loss: 0.7145 - accuracy: 0.8675 - val_loss: 1.8463 - val_accuracy: 0.6249 - lr: 1.0000e-04\n",
            "Learning rate:  0.0001\n",
            "Epoch 112/300\n",
            "391/391 [==============================] - ETA: 0s - loss: 0.7146 - accuracy: 0.8665WARNING:tensorflow:Can save best model only with val_acc available, skipping.\n"
          ]
        },
        {
          "name": "stderr",
          "output_type": "stream",
          "text": [
            "WARNING:tensorflow:Can save best model only with val_acc available, skipping.\n"
          ]
        },
        {
          "name": "stdout",
          "output_type": "stream",
          "text": [
            "391/391 [==============================] - 37s 94ms/step - loss: 0.7146 - accuracy: 0.8665 - val_loss: 1.8503 - val_accuracy: 0.6235 - lr: 3.1623e-05\n",
            "Learning rate:  0.0001\n",
            "Epoch 113/300\n",
            "391/391 [==============================] - ETA: 0s - loss: 0.7108 - accuracy: 0.8676WARNING:tensorflow:Can save best model only with val_acc available, skipping.\n"
          ]
        },
        {
          "name": "stderr",
          "output_type": "stream",
          "text": [
            "WARNING:tensorflow:Can save best model only with val_acc available, skipping.\n"
          ]
        },
        {
          "name": "stdout",
          "output_type": "stream",
          "text": [
            "391/391 [==============================] - 36s 92ms/step - loss: 0.7108 - accuracy: 0.8676 - val_loss: 1.8408 - val_accuracy: 0.6311 - lr: 1.0000e-04\n",
            "Learning rate:  0.0001\n",
            "Epoch 114/300\n",
            "391/391 [==============================] - ETA: 0s - loss: 0.7122 - accuracy: 0.8672WARNING:tensorflow:Can save best model only with val_acc available, skipping.\n"
          ]
        },
        {
          "name": "stderr",
          "output_type": "stream",
          "text": [
            "WARNING:tensorflow:Can save best model only with val_acc available, skipping.\n"
          ]
        },
        {
          "name": "stdout",
          "output_type": "stream",
          "text": [
            "391/391 [==============================] - 36s 93ms/step - loss: 0.7122 - accuracy: 0.8672 - val_loss: 1.8317 - val_accuracy: 0.6286 - lr: 1.0000e-04\n",
            "Learning rate:  0.0001\n",
            "Epoch 115/300\n",
            "391/391 [==============================] - ETA: 0s - loss: 0.7046 - accuracy: 0.8685WARNING:tensorflow:Can save best model only with val_acc available, skipping.\n"
          ]
        },
        {
          "name": "stderr",
          "output_type": "stream",
          "text": [
            "WARNING:tensorflow:Can save best model only with val_acc available, skipping.\n"
          ]
        },
        {
          "name": "stdout",
          "output_type": "stream",
          "text": [
            "391/391 [==============================] - 36s 91ms/step - loss: 0.7046 - accuracy: 0.8685 - val_loss: 1.8685 - val_accuracy: 0.6265 - lr: 1.0000e-04\n",
            "Learning rate:  0.0001\n",
            "Epoch 116/300\n",
            "391/391 [==============================] - ETA: 0s - loss: 0.6987 - accuracy: 0.8709WARNING:tensorflow:Can save best model only with val_acc available, skipping.\n"
          ]
        },
        {
          "name": "stderr",
          "output_type": "stream",
          "text": [
            "WARNING:tensorflow:Can save best model only with val_acc available, skipping.\n"
          ]
        },
        {
          "name": "stdout",
          "output_type": "stream",
          "text": [
            "391/391 [==============================] - 36s 93ms/step - loss: 0.6987 - accuracy: 0.8709 - val_loss: 1.8602 - val_accuracy: 0.6300 - lr: 1.0000e-04\n",
            "Learning rate:  0.0001\n",
            "Epoch 117/300\n",
            "391/391 [==============================] - ETA: 0s - loss: 0.7034 - accuracy: 0.8683WARNING:tensorflow:Can save best model only with val_acc available, skipping.\n"
          ]
        },
        {
          "name": "stderr",
          "output_type": "stream",
          "text": [
            "WARNING:tensorflow:Can save best model only with val_acc available, skipping.\n"
          ]
        },
        {
          "name": "stdout",
          "output_type": "stream",
          "text": [
            "391/391 [==============================] - 36s 93ms/step - loss: 0.7034 - accuracy: 0.8683 - val_loss: 1.8811 - val_accuracy: 0.6217 - lr: 3.1623e-05\n",
            "Learning rate:  0.0001\n",
            "Epoch 118/300\n",
            "391/391 [==============================] - ETA: 0s - loss: 0.6977 - accuracy: 0.8694WARNING:tensorflow:Can save best model only with val_acc available, skipping.\n"
          ]
        },
        {
          "name": "stderr",
          "output_type": "stream",
          "text": [
            "WARNING:tensorflow:Can save best model only with val_acc available, skipping.\n"
          ]
        },
        {
          "name": "stdout",
          "output_type": "stream",
          "text": [
            "391/391 [==============================] - 36s 92ms/step - loss: 0.6977 - accuracy: 0.8694 - val_loss: 1.8561 - val_accuracy: 0.6224 - lr: 1.0000e-04\n",
            "Learning rate:  0.0001\n",
            "Epoch 119/300\n",
            "391/391 [==============================] - ETA: 0s - loss: 0.6938 - accuracy: 0.8711WARNING:tensorflow:Can save best model only with val_acc available, skipping.\n"
          ]
        },
        {
          "name": "stderr",
          "output_type": "stream",
          "text": [
            "WARNING:tensorflow:Can save best model only with val_acc available, skipping.\n"
          ]
        },
        {
          "name": "stdout",
          "output_type": "stream",
          "text": [
            "391/391 [==============================] - 36s 93ms/step - loss: 0.6938 - accuracy: 0.8711 - val_loss: 1.8751 - val_accuracy: 0.6276 - lr: 1.0000e-04\n",
            "Learning rate:  0.0001\n",
            "Epoch 120/300\n",
            "391/391 [==============================] - ETA: 0s - loss: 0.6938 - accuracy: 0.8707WARNING:tensorflow:Can save best model only with val_acc available, skipping.\n"
          ]
        },
        {
          "name": "stderr",
          "output_type": "stream",
          "text": [
            "WARNING:tensorflow:Can save best model only with val_acc available, skipping.\n"
          ]
        },
        {
          "name": "stdout",
          "output_type": "stream",
          "text": [
            "391/391 [==============================] - 36s 91ms/step - loss: 0.6938 - accuracy: 0.8707 - val_loss: 1.8846 - val_accuracy: 0.6263 - lr: 1.0000e-04\n",
            "Learning rate:  0.0001\n",
            "Epoch 121/300\n",
            "391/391 [==============================] - ETA: 0s - loss: 0.6911 - accuracy: 0.8725WARNING:tensorflow:Can save best model only with val_acc available, skipping.\n"
          ]
        },
        {
          "name": "stderr",
          "output_type": "stream",
          "text": [
            "WARNING:tensorflow:Can save best model only with val_acc available, skipping.\n"
          ]
        },
        {
          "name": "stdout",
          "output_type": "stream",
          "text": [
            "391/391 [==============================] - 36s 92ms/step - loss: 0.6911 - accuracy: 0.8725 - val_loss: 1.8930 - val_accuracy: 0.6229 - lr: 1.0000e-04\n",
            "Learning rate:  1e-05\n",
            "Epoch 122/300\n",
            "391/391 [==============================] - ETA: 0s - loss: 0.6755 - accuracy: 0.8757WARNING:tensorflow:Can save best model only with val_acc available, skipping.\n"
          ]
        },
        {
          "name": "stderr",
          "output_type": "stream",
          "text": [
            "WARNING:tensorflow:Can save best model only with val_acc available, skipping.\n"
          ]
        },
        {
          "name": "stdout",
          "output_type": "stream",
          "text": [
            "391/391 [==============================] - 36s 93ms/step - loss: 0.6755 - accuracy: 0.8757 - val_loss: 1.8484 - val_accuracy: 0.6319 - lr: 3.1623e-06\n",
            "Learning rate:  1e-05\n",
            "Epoch 123/300\n",
            "391/391 [==============================] - ETA: 0s - loss: 0.6766 - accuracy: 0.8739WARNING:tensorflow:Can save best model only with val_acc available, skipping.\n"
          ]
        },
        {
          "name": "stderr",
          "output_type": "stream",
          "text": [
            "WARNING:tensorflow:Can save best model only with val_acc available, skipping.\n"
          ]
        },
        {
          "name": "stdout",
          "output_type": "stream",
          "text": [
            "391/391 [==============================] - 36s 91ms/step - loss: 0.6766 - accuracy: 0.8739 - val_loss: 1.8556 - val_accuracy: 0.6284 - lr: 1.0000e-05\n",
            "Learning rate:  1e-05\n",
            "Epoch 124/300\n",
            "391/391 [==============================] - ETA: 0s - loss: 0.6768 - accuracy: 0.8762WARNING:tensorflow:Can save best model only with val_acc available, skipping.\n"
          ]
        },
        {
          "name": "stderr",
          "output_type": "stream",
          "text": [
            "WARNING:tensorflow:Can save best model only with val_acc available, skipping.\n"
          ]
        },
        {
          "name": "stdout",
          "output_type": "stream",
          "text": [
            "391/391 [==============================] - 36s 93ms/step - loss: 0.6768 - accuracy: 0.8762 - val_loss: 1.8516 - val_accuracy: 0.6297 - lr: 1.0000e-05\n",
            "Learning rate:  1e-05\n",
            "Epoch 125/300\n",
            "391/391 [==============================] - ETA: 0s - loss: 0.6720 - accuracy: 0.8778WARNING:tensorflow:Can save best model only with val_acc available, skipping.\n"
          ]
        },
        {
          "name": "stderr",
          "output_type": "stream",
          "text": [
            "WARNING:tensorflow:Can save best model only with val_acc available, skipping.\n"
          ]
        },
        {
          "name": "stdout",
          "output_type": "stream",
          "text": [
            "391/391 [==============================] - 36s 92ms/step - loss: 0.6720 - accuracy: 0.8778 - val_loss: 1.8519 - val_accuracy: 0.6325 - lr: 1.0000e-05\n",
            "Learning rate:  1e-05\n",
            "Epoch 126/300\n",
            "391/391 [==============================] - ETA: 0s - loss: 0.6733 - accuracy: 0.8764WARNING:tensorflow:Can save best model only with val_acc available, skipping.\n"
          ]
        },
        {
          "name": "stderr",
          "output_type": "stream",
          "text": [
            "WARNING:tensorflow:Can save best model only with val_acc available, skipping.\n"
          ]
        },
        {
          "name": "stdout",
          "output_type": "stream",
          "text": [
            "391/391 [==============================] - 37s 93ms/step - loss: 0.6733 - accuracy: 0.8764 - val_loss: 1.8540 - val_accuracy: 0.6304 - lr: 1.0000e-05\n",
            "Learning rate:  1e-05\n",
            "Epoch 127/300\n",
            "391/391 [==============================] - ETA: 0s - loss: 0.6783 - accuracy: 0.8764WARNING:tensorflow:Can save best model only with val_acc available, skipping.\n"
          ]
        },
        {
          "name": "stderr",
          "output_type": "stream",
          "text": [
            "WARNING:tensorflow:Can save best model only with val_acc available, skipping.\n"
          ]
        },
        {
          "name": "stdout",
          "output_type": "stream",
          "text": [
            "391/391 [==============================] - 37s 94ms/step - loss: 0.6783 - accuracy: 0.8764 - val_loss: 1.8599 - val_accuracy: 0.6299 - lr: 3.1623e-06\n",
            "Learning rate:  1e-05\n",
            "Epoch 128/300\n",
            "391/391 [==============================] - ETA: 0s - loss: 0.6756 - accuracy: 0.8771WARNING:tensorflow:Can save best model only with val_acc available, skipping.\n"
          ]
        },
        {
          "name": "stderr",
          "output_type": "stream",
          "text": [
            "WARNING:tensorflow:Can save best model only with val_acc available, skipping.\n"
          ]
        },
        {
          "name": "stdout",
          "output_type": "stream",
          "text": [
            "391/391 [==============================] - 36s 91ms/step - loss: 0.6756 - accuracy: 0.8771 - val_loss: 1.8551 - val_accuracy: 0.6293 - lr: 1.0000e-05\n",
            "Learning rate:  1e-05\n",
            "Epoch 129/300\n",
            "391/391 [==============================] - ETA: 0s - loss: 0.6745 - accuracy: 0.8754WARNING:tensorflow:Can save best model only with val_acc available, skipping.\n"
          ]
        },
        {
          "name": "stderr",
          "output_type": "stream",
          "text": [
            "WARNING:tensorflow:Can save best model only with val_acc available, skipping.\n"
          ]
        },
        {
          "name": "stdout",
          "output_type": "stream",
          "text": [
            "391/391 [==============================] - 36s 93ms/step - loss: 0.6745 - accuracy: 0.8754 - val_loss: 1.8589 - val_accuracy: 0.6286 - lr: 1.0000e-05\n",
            "Learning rate:  1e-05\n",
            "Epoch 130/300\n",
            "391/391 [==============================] - ETA: 0s - loss: 0.6841 - accuracy: 0.8741WARNING:tensorflow:Can save best model only with val_acc available, skipping.\n"
          ]
        },
        {
          "name": "stderr",
          "output_type": "stream",
          "text": [
            "WARNING:tensorflow:Can save best model only with val_acc available, skipping.\n"
          ]
        },
        {
          "name": "stdout",
          "output_type": "stream",
          "text": [
            "391/391 [==============================] - 39s 99ms/step - loss: 0.6841 - accuracy: 0.8741 - val_loss: 1.8511 - val_accuracy: 0.6281 - lr: 1.0000e-05\n",
            "Learning rate:  1e-05\n",
            "Epoch 131/300\n",
            "391/391 [==============================] - ETA: 0s - loss: 0.6780 - accuracy: 0.8744WARNING:tensorflow:Can save best model only with val_acc available, skipping.\n"
          ]
        },
        {
          "name": "stderr",
          "output_type": "stream",
          "text": [
            "WARNING:tensorflow:Can save best model only with val_acc available, skipping.\n"
          ]
        },
        {
          "name": "stdout",
          "output_type": "stream",
          "text": [
            "391/391 [==============================] - 36s 91ms/step - loss: 0.6780 - accuracy: 0.8744 - val_loss: 1.8570 - val_accuracy: 0.6293 - lr: 1.0000e-05\n",
            "Learning rate:  1e-05\n",
            "Epoch 132/300\n",
            "391/391 [==============================] - ETA: 0s - loss: 0.6714 - accuracy: 0.8774WARNING:tensorflow:Can save best model only with val_acc available, skipping.\n"
          ]
        },
        {
          "name": "stderr",
          "output_type": "stream",
          "text": [
            "WARNING:tensorflow:Can save best model only with val_acc available, skipping.\n"
          ]
        },
        {
          "name": "stdout",
          "output_type": "stream",
          "text": [
            "391/391 [==============================] - 36s 93ms/step - loss: 0.6714 - accuracy: 0.8774 - val_loss: 1.8614 - val_accuracy: 0.6297 - lr: 3.1623e-06\n",
            "Learning rate:  1e-05\n",
            "Epoch 133/300\n",
            "391/391 [==============================] - ETA: 0s - loss: 0.6767 - accuracy: 0.8754WARNING:tensorflow:Can save best model only with val_acc available, skipping.\n"
          ]
        },
        {
          "name": "stderr",
          "output_type": "stream",
          "text": [
            "WARNING:tensorflow:Can save best model only with val_acc available, skipping.\n"
          ]
        },
        {
          "name": "stdout",
          "output_type": "stream",
          "text": [
            "391/391 [==============================] - 36s 91ms/step - loss: 0.6767 - accuracy: 0.8754 - val_loss: 1.8608 - val_accuracy: 0.6290 - lr: 1.0000e-05\n",
            "Learning rate:  1e-05\n",
            "Epoch 134/300\n",
            "391/391 [==============================] - ETA: 0s - loss: 0.6802 - accuracy: 0.8724WARNING:tensorflow:Can save best model only with val_acc available, skipping.\n"
          ]
        },
        {
          "name": "stderr",
          "output_type": "stream",
          "text": [
            "WARNING:tensorflow:Can save best model only with val_acc available, skipping.\n"
          ]
        },
        {
          "name": "stdout",
          "output_type": "stream",
          "text": [
            "391/391 [==============================] - 36s 93ms/step - loss: 0.6802 - accuracy: 0.8724 - val_loss: 1.8609 - val_accuracy: 0.6296 - lr: 1.0000e-05\n",
            "Learning rate:  1e-05\n",
            "Epoch 135/300\n",
            "391/391 [==============================] - ETA: 0s - loss: 0.6719 - accuracy: 0.8776WARNING:tensorflow:Can save best model only with val_acc available, skipping.\n"
          ]
        },
        {
          "name": "stderr",
          "output_type": "stream",
          "text": [
            "WARNING:tensorflow:Can save best model only with val_acc available, skipping.\n"
          ]
        },
        {
          "name": "stdout",
          "output_type": "stream",
          "text": [
            "391/391 [==============================] - 36s 93ms/step - loss: 0.6719 - accuracy: 0.8776 - val_loss: 1.8587 - val_accuracy: 0.6295 - lr: 1.0000e-05\n",
            "Learning rate:  1e-05\n",
            "Epoch 136/300\n",
            "391/391 [==============================] - ETA: 0s - loss: 0.6773 - accuracy: 0.8749WARNING:tensorflow:Can save best model only with val_acc available, skipping.\n"
          ]
        },
        {
          "name": "stderr",
          "output_type": "stream",
          "text": [
            "WARNING:tensorflow:Can save best model only with val_acc available, skipping.\n"
          ]
        },
        {
          "name": "stdout",
          "output_type": "stream",
          "text": [
            "391/391 [==============================] - 36s 92ms/step - loss: 0.6773 - accuracy: 0.8749 - val_loss: 1.8623 - val_accuracy: 0.6279 - lr: 1.0000e-05\n",
            "Learning rate:  1e-05\n",
            "Epoch 137/300\n",
            "391/391 [==============================] - ETA: 0s - loss: 0.6710 - accuracy: 0.8777WARNING:tensorflow:Can save best model only with val_acc available, skipping.\n"
          ]
        },
        {
          "name": "stderr",
          "output_type": "stream",
          "text": [
            "WARNING:tensorflow:Can save best model only with val_acc available, skipping.\n"
          ]
        },
        {
          "name": "stdout",
          "output_type": "stream",
          "text": [
            "391/391 [==============================] - 36s 93ms/step - loss: 0.6710 - accuracy: 0.8777 - val_loss: 1.8651 - val_accuracy: 0.6284 - lr: 3.1623e-06\n",
            "Learning rate:  1e-05\n",
            "Epoch 138/300\n",
            "391/391 [==============================] - ETA: 0s - loss: 0.6878 - accuracy: 0.8720WARNING:tensorflow:Can save best model only with val_acc available, skipping.\n"
          ]
        },
        {
          "name": "stderr",
          "output_type": "stream",
          "text": [
            "WARNING:tensorflow:Can save best model only with val_acc available, skipping.\n"
          ]
        },
        {
          "name": "stdout",
          "output_type": "stream",
          "text": [
            "391/391 [==============================] - 36s 92ms/step - loss: 0.6878 - accuracy: 0.8720 - val_loss: 1.8708 - val_accuracy: 0.6254 - lr: 1.0000e-05\n",
            "Learning rate:  1e-05\n",
            "Epoch 139/300\n",
            "391/391 [==============================] - ETA: 0s - loss: 0.6787 - accuracy: 0.8751WARNING:tensorflow:Can save best model only with val_acc available, skipping.\n"
          ]
        },
        {
          "name": "stderr",
          "output_type": "stream",
          "text": [
            "WARNING:tensorflow:Can save best model only with val_acc available, skipping.\n"
          ]
        },
        {
          "name": "stdout",
          "output_type": "stream",
          "text": [
            "391/391 [==============================] - 36s 93ms/step - loss: 0.6787 - accuracy: 0.8751 - val_loss: 1.8860 - val_accuracy: 0.6243 - lr: 1.0000e-05\n",
            "Learning rate:  1e-05\n",
            "Epoch 140/300\n",
            "391/391 [==============================] - ETA: 0s - loss: 0.6815 - accuracy: 0.8729WARNING:tensorflow:Can save best model only with val_acc available, skipping.\n"
          ]
        },
        {
          "name": "stderr",
          "output_type": "stream",
          "text": [
            "WARNING:tensorflow:Can save best model only with val_acc available, skipping.\n"
          ]
        },
        {
          "name": "stdout",
          "output_type": "stream",
          "text": [
            "391/391 [==============================] - 37s 94ms/step - loss: 0.6815 - accuracy: 0.8729 - val_loss: 1.8725 - val_accuracy: 0.6265 - lr: 1.0000e-05\n",
            "Learning rate:  1e-05\n",
            "Epoch 141/300\n",
            "391/391 [==============================] - ETA: 0s - loss: 0.6823 - accuracy: 0.8729WARNING:tensorflow:Can save best model only with val_acc available, skipping.\n"
          ]
        },
        {
          "name": "stderr",
          "output_type": "stream",
          "text": [
            "WARNING:tensorflow:Can save best model only with val_acc available, skipping.\n"
          ]
        },
        {
          "name": "stdout",
          "output_type": "stream",
          "text": [
            "391/391 [==============================] - 36s 92ms/step - loss: 0.6823 - accuracy: 0.8729 - val_loss: 1.8909 - val_accuracy: 0.6212 - lr: 1.0000e-05\n",
            "Learning rate:  1e-05\n",
            "Epoch 142/300\n",
            "391/391 [==============================] - ETA: 0s - loss: 0.6884 - accuracy: 0.8706WARNING:tensorflow:Can save best model only with val_acc available, skipping.\n"
          ]
        },
        {
          "name": "stderr",
          "output_type": "stream",
          "text": [
            "WARNING:tensorflow:Can save best model only with val_acc available, skipping.\n"
          ]
        },
        {
          "name": "stdout",
          "output_type": "stream",
          "text": [
            "391/391 [==============================] - 36s 93ms/step - loss: 0.6884 - accuracy: 0.8706 - val_loss: 1.8668 - val_accuracy: 0.6251 - lr: 3.1623e-06\n",
            "Learning rate:  1e-05\n",
            "Epoch 143/300\n",
            "391/391 [==============================] - ETA: 0s - loss: 0.6810 - accuracy: 0.8727WARNING:tensorflow:Can save best model only with val_acc available, skipping.\n"
          ]
        },
        {
          "name": "stderr",
          "output_type": "stream",
          "text": [
            "WARNING:tensorflow:Can save best model only with val_acc available, skipping.\n"
          ]
        },
        {
          "name": "stdout",
          "output_type": "stream",
          "text": [
            "391/391 [==============================] - 36s 92ms/step - loss: 0.6810 - accuracy: 0.8727 - val_loss: 1.8698 - val_accuracy: 0.6256 - lr: 1.0000e-05\n",
            "Learning rate:  1e-05\n",
            "Epoch 144/300\n",
            "391/391 [==============================] - ETA: 0s - loss: 0.6786 - accuracy: 0.8742WARNING:tensorflow:Can save best model only with val_acc available, skipping.\n"
          ]
        },
        {
          "name": "stderr",
          "output_type": "stream",
          "text": [
            "WARNING:tensorflow:Can save best model only with val_acc available, skipping.\n"
          ]
        },
        {
          "name": "stdout",
          "output_type": "stream",
          "text": [
            "391/391 [==============================] - 36s 93ms/step - loss: 0.6786 - accuracy: 0.8742 - val_loss: 1.8702 - val_accuracy: 0.6251 - lr: 1.0000e-05\n",
            "Learning rate:  1e-05\n",
            "Epoch 145/300\n",
            "391/391 [==============================] - ETA: 0s - loss: 0.6781 - accuracy: 0.8743WARNING:tensorflow:Can save best model only with val_acc available, skipping.\n"
          ]
        },
        {
          "name": "stderr",
          "output_type": "stream",
          "text": [
            "WARNING:tensorflow:Can save best model only with val_acc available, skipping.\n"
          ]
        },
        {
          "name": "stdout",
          "output_type": "stream",
          "text": [
            "391/391 [==============================] - 36s 93ms/step - loss: 0.6781 - accuracy: 0.8743 - val_loss: 1.8602 - val_accuracy: 0.6248 - lr: 1.0000e-05\n",
            "Learning rate:  1e-05\n",
            "Epoch 146/300\n",
            "391/391 [==============================] - ETA: 0s - loss: 0.6858 - accuracy: 0.8736WARNING:tensorflow:Can save best model only with val_acc available, skipping.\n"
          ]
        },
        {
          "name": "stderr",
          "output_type": "stream",
          "text": [
            "WARNING:tensorflow:Can save best model only with val_acc available, skipping.\n"
          ]
        },
        {
          "name": "stdout",
          "output_type": "stream",
          "text": [
            "391/391 [==============================] - 36s 91ms/step - loss: 0.6858 - accuracy: 0.8736 - val_loss: 1.8742 - val_accuracy: 0.6265 - lr: 1.0000e-05\n",
            "Learning rate:  1e-05\n",
            "Epoch 147/300\n",
            "391/391 [==============================] - ETA: 0s - loss: 0.6811 - accuracy: 0.8725WARNING:tensorflow:Can save best model only with val_acc available, skipping.\n"
          ]
        },
        {
          "name": "stderr",
          "output_type": "stream",
          "text": [
            "WARNING:tensorflow:Can save best model only with val_acc available, skipping.\n"
          ]
        },
        {
          "name": "stdout",
          "output_type": "stream",
          "text": [
            "391/391 [==============================] - 36s 93ms/step - loss: 0.6811 - accuracy: 0.8725 - val_loss: 1.8655 - val_accuracy: 0.6244 - lr: 3.1623e-06\n",
            "Learning rate:  1e-05\n",
            "Epoch 148/300\n",
            "391/391 [==============================] - ETA: 0s - loss: 0.6795 - accuracy: 0.8736WARNING:tensorflow:Can save best model only with val_acc available, skipping.\n"
          ]
        },
        {
          "name": "stderr",
          "output_type": "stream",
          "text": [
            "WARNING:tensorflow:Can save best model only with val_acc available, skipping.\n"
          ]
        },
        {
          "name": "stdout",
          "output_type": "stream",
          "text": [
            "391/391 [==============================] - 36s 92ms/step - loss: 0.6795 - accuracy: 0.8736 - val_loss: 1.8638 - val_accuracy: 0.6243 - lr: 1.0000e-05\n",
            "Learning rate:  1e-05\n",
            "Epoch 149/300\n",
            "391/391 [==============================] - ETA: 0s - loss: 0.6760 - accuracy: 0.8737WARNING:tensorflow:Can save best model only with val_acc available, skipping.\n"
          ]
        },
        {
          "name": "stderr",
          "output_type": "stream",
          "text": [
            "WARNING:tensorflow:Can save best model only with val_acc available, skipping.\n"
          ]
        },
        {
          "name": "stdout",
          "output_type": "stream",
          "text": [
            "391/391 [==============================] - 36s 93ms/step - loss: 0.6760 - accuracy: 0.8737 - val_loss: 1.8615 - val_accuracy: 0.6253 - lr: 1.0000e-05\n",
            "Learning rate:  1e-05\n",
            "Epoch 150/300\n",
            "391/391 [==============================] - ETA: 0s - loss: 0.6809 - accuracy: 0.8727WARNING:tensorflow:Can save best model only with val_acc available, skipping.\n"
          ]
        },
        {
          "name": "stderr",
          "output_type": "stream",
          "text": [
            "WARNING:tensorflow:Can save best model only with val_acc available, skipping.\n"
          ]
        },
        {
          "name": "stdout",
          "output_type": "stream",
          "text": [
            "391/391 [==============================] - 36s 93ms/step - loss: 0.6809 - accuracy: 0.8727 - val_loss: 1.8678 - val_accuracy: 0.6225 - lr: 1.0000e-05\n",
            "Learning rate:  1e-05\n",
            "Epoch 151/300\n",
            "391/391 [==============================] - ETA: 0s - loss: 0.6835 - accuracy: 0.8722WARNING:tensorflow:Can save best model only with val_acc available, skipping.\n"
          ]
        },
        {
          "name": "stderr",
          "output_type": "stream",
          "text": [
            "WARNING:tensorflow:Can save best model only with val_acc available, skipping.\n"
          ]
        },
        {
          "name": "stdout",
          "output_type": "stream",
          "text": [
            "391/391 [==============================] - 36s 92ms/step - loss: 0.6835 - accuracy: 0.8722 - val_loss: 1.8695 - val_accuracy: 0.6221 - lr: 1.0000e-05\n",
            "Learning rate:  1e-05\n",
            "Epoch 152/300\n",
            "391/391 [==============================] - ETA: 0s - loss: 0.6759 - accuracy: 0.8754WARNING:tensorflow:Can save best model only with val_acc available, skipping.\n"
          ]
        },
        {
          "name": "stderr",
          "output_type": "stream",
          "text": [
            "WARNING:tensorflow:Can save best model only with val_acc available, skipping.\n"
          ]
        },
        {
          "name": "stdout",
          "output_type": "stream",
          "text": [
            "391/391 [==============================] - 36s 93ms/step - loss: 0.6759 - accuracy: 0.8754 - val_loss: 1.8718 - val_accuracy: 0.6209 - lr: 3.1623e-06\n",
            "Learning rate:  1e-05\n",
            "Epoch 153/300\n",
            "391/391 [==============================] - ETA: 0s - loss: 0.6780 - accuracy: 0.8745WARNING:tensorflow:Can save best model only with val_acc available, skipping.\n"
          ]
        },
        {
          "name": "stderr",
          "output_type": "stream",
          "text": [
            "WARNING:tensorflow:Can save best model only with val_acc available, skipping.\n"
          ]
        },
        {
          "name": "stdout",
          "output_type": "stream",
          "text": [
            "391/391 [==============================] - 36s 91ms/step - loss: 0.6780 - accuracy: 0.8745 - val_loss: 1.8722 - val_accuracy: 0.6229 - lr: 1.0000e-05\n",
            "Learning rate:  1e-05\n",
            "Epoch 154/300\n",
            "391/391 [==============================] - ETA: 0s - loss: 0.6785 - accuracy: 0.8729WARNING:tensorflow:Can save best model only with val_acc available, skipping.\n"
          ]
        },
        {
          "name": "stderr",
          "output_type": "stream",
          "text": [
            "WARNING:tensorflow:Can save best model only with val_acc available, skipping.\n"
          ]
        },
        {
          "name": "stdout",
          "output_type": "stream",
          "text": [
            "391/391 [==============================] - 37s 95ms/step - loss: 0.6785 - accuracy: 0.8729 - val_loss: 1.8711 - val_accuracy: 0.6251 - lr: 1.0000e-05\n",
            "Learning rate:  1e-05\n",
            "Epoch 155/300\n",
            "391/391 [==============================] - ETA: 0s - loss: 0.6850 - accuracy: 0.8716WARNING:tensorflow:Can save best model only with val_acc available, skipping.\n"
          ]
        },
        {
          "name": "stderr",
          "output_type": "stream",
          "text": [
            "WARNING:tensorflow:Can save best model only with val_acc available, skipping.\n"
          ]
        },
        {
          "name": "stdout",
          "output_type": "stream",
          "text": [
            "391/391 [==============================] - 36s 93ms/step - loss: 0.6850 - accuracy: 0.8716 - val_loss: 1.8785 - val_accuracy: 0.6215 - lr: 1.0000e-05\n",
            "Learning rate:  1e-05\n",
            "Epoch 156/300\n",
            "391/391 [==============================] - ETA: 0s - loss: 0.6833 - accuracy: 0.8730WARNING:tensorflow:Can save best model only with val_acc available, skipping.\n"
          ]
        },
        {
          "name": "stderr",
          "output_type": "stream",
          "text": [
            "WARNING:tensorflow:Can save best model only with val_acc available, skipping.\n"
          ]
        },
        {
          "name": "stdout",
          "output_type": "stream",
          "text": [
            "391/391 [==============================] - 36s 92ms/step - loss: 0.6833 - accuracy: 0.8730 - val_loss: 1.8680 - val_accuracy: 0.6234 - lr: 1.0000e-05\n",
            "Learning rate:  1e-05\n",
            "Epoch 157/300\n",
            "391/391 [==============================] - ETA: 0s - loss: 0.6809 - accuracy: 0.8728WARNING:tensorflow:Can save best model only with val_acc available, skipping.\n"
          ]
        },
        {
          "name": "stderr",
          "output_type": "stream",
          "text": [
            "WARNING:tensorflow:Can save best model only with val_acc available, skipping.\n"
          ]
        },
        {
          "name": "stdout",
          "output_type": "stream",
          "text": [
            "391/391 [==============================] - 37s 94ms/step - loss: 0.6809 - accuracy: 0.8728 - val_loss: 1.8664 - val_accuracy: 0.6243 - lr: 3.1623e-06\n",
            "Learning rate:  1e-05\n",
            "Epoch 158/300\n",
            "391/391 [==============================] - ETA: 0s - loss: 0.6739 - accuracy: 0.8743WARNING:tensorflow:Can save best model only with val_acc available, skipping.\n"
          ]
        },
        {
          "name": "stderr",
          "output_type": "stream",
          "text": [
            "WARNING:tensorflow:Can save best model only with val_acc available, skipping.\n"
          ]
        },
        {
          "name": "stdout",
          "output_type": "stream",
          "text": [
            "391/391 [==============================] - 37s 93ms/step - loss: 0.6739 - accuracy: 0.8743 - val_loss: 1.8750 - val_accuracy: 0.6213 - lr: 1.0000e-05\n",
            "Learning rate:  1e-05\n",
            "Epoch 159/300\n",
            "391/391 [==============================] - ETA: 0s - loss: 0.6762 - accuracy: 0.8754WARNING:tensorflow:Can save best model only with val_acc available, skipping.\n"
          ]
        },
        {
          "name": "stderr",
          "output_type": "stream",
          "text": [
            "WARNING:tensorflow:Can save best model only with val_acc available, skipping.\n"
          ]
        },
        {
          "name": "stdout",
          "output_type": "stream",
          "text": [
            "391/391 [==============================] - 36s 93ms/step - loss: 0.6762 - accuracy: 0.8754 - val_loss: 1.8764 - val_accuracy: 0.6214 - lr: 1.0000e-05\n",
            "Learning rate:  1e-05\n",
            "Epoch 160/300\n",
            "391/391 [==============================] - ETA: 0s - loss: 0.6823 - accuracy: 0.8732WARNING:tensorflow:Can save best model only with val_acc available, skipping.\n"
          ]
        },
        {
          "name": "stderr",
          "output_type": "stream",
          "text": [
            "WARNING:tensorflow:Can save best model only with val_acc available, skipping.\n"
          ]
        },
        {
          "name": "stdout",
          "output_type": "stream",
          "text": [
            "391/391 [==============================] - 37s 94ms/step - loss: 0.6823 - accuracy: 0.8732 - val_loss: 1.8818 - val_accuracy: 0.6220 - lr: 1.0000e-05\n",
            "Learning rate:  1e-05\n",
            "Epoch 161/300\n",
            "391/391 [==============================] - ETA: 0s - loss: 0.6866 - accuracy: 0.8704WARNING:tensorflow:Can save best model only with val_acc available, skipping.\n"
          ]
        },
        {
          "name": "stderr",
          "output_type": "stream",
          "text": [
            "WARNING:tensorflow:Can save best model only with val_acc available, skipping.\n"
          ]
        },
        {
          "name": "stdout",
          "output_type": "stream",
          "text": [
            "391/391 [==============================] - 36s 91ms/step - loss: 0.6866 - accuracy: 0.8704 - val_loss: 1.8803 - val_accuracy: 0.6222 - lr: 1.0000e-05\n",
            "Learning rate:  1e-06\n",
            "Epoch 162/300\n",
            "391/391 [==============================] - ETA: 0s - loss: 0.6763 - accuracy: 0.8739WARNING:tensorflow:Can save best model only with val_acc available, skipping.\n"
          ]
        },
        {
          "name": "stderr",
          "output_type": "stream",
          "text": [
            "WARNING:tensorflow:Can save best model only with val_acc available, skipping.\n"
          ]
        },
        {
          "name": "stdout",
          "output_type": "stream",
          "text": [
            "391/391 [==============================] - 36s 93ms/step - loss: 0.6763 - accuracy: 0.8739 - val_loss: 1.8742 - val_accuracy: 0.6234 - lr: 5.0000e-07\n",
            "Learning rate:  1e-06\n",
            "Epoch 163/300\n",
            "391/391 [==============================] - ETA: 0s - loss: 0.6849 - accuracy: 0.8710WARNING:tensorflow:Can save best model only with val_acc available, skipping.\n"
          ]
        },
        {
          "name": "stderr",
          "output_type": "stream",
          "text": [
            "WARNING:tensorflow:Can save best model only with val_acc available, skipping.\n"
          ]
        },
        {
          "name": "stdout",
          "output_type": "stream",
          "text": [
            "391/391 [==============================] - 37s 94ms/step - loss: 0.6849 - accuracy: 0.8710 - val_loss: 1.8814 - val_accuracy: 0.6212 - lr: 1.0000e-06\n",
            "Learning rate:  1e-06\n",
            "Epoch 164/300\n",
            "391/391 [==============================] - ETA: 0s - loss: 0.6869 - accuracy: 0.8700WARNING:tensorflow:Can save best model only with val_acc available, skipping.\n"
          ]
        },
        {
          "name": "stderr",
          "output_type": "stream",
          "text": [
            "WARNING:tensorflow:Can save best model only with val_acc available, skipping.\n"
          ]
        },
        {
          "name": "stdout",
          "output_type": "stream",
          "text": [
            "391/391 [==============================] - 36s 93ms/step - loss: 0.6869 - accuracy: 0.8700 - val_loss: 1.8774 - val_accuracy: 0.6220 - lr: 1.0000e-06\n",
            "Learning rate:  1e-06\n",
            "Epoch 165/300\n",
            "391/391 [==============================] - ETA: 0s - loss: 0.6888 - accuracy: 0.8698WARNING:tensorflow:Can save best model only with val_acc available, skipping.\n"
          ]
        },
        {
          "name": "stderr",
          "output_type": "stream",
          "text": [
            "WARNING:tensorflow:Can save best model only with val_acc available, skipping.\n"
          ]
        },
        {
          "name": "stdout",
          "output_type": "stream",
          "text": [
            "391/391 [==============================] - 36s 93ms/step - loss: 0.6888 - accuracy: 0.8698 - val_loss: 1.8801 - val_accuracy: 0.6214 - lr: 1.0000e-06\n",
            "Learning rate:  1e-06\n",
            "Epoch 166/300\n",
            "391/391 [==============================] - ETA: 0s - loss: 0.6959 - accuracy: 0.8666WARNING:tensorflow:Can save best model only with val_acc available, skipping.\n"
          ]
        },
        {
          "name": "stderr",
          "output_type": "stream",
          "text": [
            "WARNING:tensorflow:Can save best model only with val_acc available, skipping.\n"
          ]
        },
        {
          "name": "stdout",
          "output_type": "stream",
          "text": [
            "391/391 [==============================] - 36s 91ms/step - loss: 0.6959 - accuracy: 0.8666 - val_loss: 1.8878 - val_accuracy: 0.6212 - lr: 1.0000e-06\n",
            "Learning rate:  1e-06\n",
            "Epoch 167/300\n",
            "391/391 [==============================] - ETA: 0s - loss: 0.7007 - accuracy: 0.8656WARNING:tensorflow:Can save best model only with val_acc available, skipping.\n"
          ]
        },
        {
          "name": "stderr",
          "output_type": "stream",
          "text": [
            "WARNING:tensorflow:Can save best model only with val_acc available, skipping.\n"
          ]
        },
        {
          "name": "stdout",
          "output_type": "stream",
          "text": [
            "391/391 [==============================] - 37s 94ms/step - loss: 0.7007 - accuracy: 0.8656 - val_loss: 1.8954 - val_accuracy: 0.6206 - lr: 5.0000e-07\n",
            "Learning rate:  1e-06\n",
            "Epoch 168/300\n",
            "391/391 [==============================] - ETA: 0s - loss: 0.6977 - accuracy: 0.8674WARNING:tensorflow:Can save best model only with val_acc available, skipping.\n"
          ]
        },
        {
          "name": "stderr",
          "output_type": "stream",
          "text": [
            "WARNING:tensorflow:Can save best model only with val_acc available, skipping.\n"
          ]
        },
        {
          "name": "stdout",
          "output_type": "stream",
          "text": [
            "391/391 [==============================] - 36s 93ms/step - loss: 0.6977 - accuracy: 0.8674 - val_loss: 1.9019 - val_accuracy: 0.6212 - lr: 1.0000e-06\n",
            "Learning rate:  1e-06\n",
            "Epoch 169/300\n",
            "391/391 [==============================] - ETA: 0s - loss: 0.7010 - accuracy: 0.8643WARNING:tensorflow:Can save best model only with val_acc available, skipping.\n"
          ]
        },
        {
          "name": "stderr",
          "output_type": "stream",
          "text": [
            "WARNING:tensorflow:Can save best model only with val_acc available, skipping.\n"
          ]
        },
        {
          "name": "stdout",
          "output_type": "stream",
          "text": [
            "391/391 [==============================] - 36s 92ms/step - loss: 0.7010 - accuracy: 0.8643 - val_loss: 1.9035 - val_accuracy: 0.6186 - lr: 1.0000e-06\n",
            "Learning rate:  1e-06\n",
            "Epoch 170/300\n",
            "391/391 [==============================] - ETA: 0s - loss: 0.7065 - accuracy: 0.8620WARNING:tensorflow:Can save best model only with val_acc available, skipping.\n"
          ]
        },
        {
          "name": "stderr",
          "output_type": "stream",
          "text": [
            "WARNING:tensorflow:Can save best model only with val_acc available, skipping.\n"
          ]
        },
        {
          "name": "stdout",
          "output_type": "stream",
          "text": [
            "391/391 [==============================] - 36s 93ms/step - loss: 0.7065 - accuracy: 0.8620 - val_loss: 1.8952 - val_accuracy: 0.6207 - lr: 1.0000e-06\n",
            "Learning rate:  1e-06\n",
            "Epoch 171/300\n",
            "391/391 [==============================] - ETA: 0s - loss: 0.7046 - accuracy: 0.8628WARNING:tensorflow:Can save best model only with val_acc available, skipping.\n"
          ]
        },
        {
          "name": "stderr",
          "output_type": "stream",
          "text": [
            "WARNING:tensorflow:Can save best model only with val_acc available, skipping.\n"
          ]
        },
        {
          "name": "stdout",
          "output_type": "stream",
          "text": [
            "391/391 [==============================] - 36s 92ms/step - loss: 0.7046 - accuracy: 0.8628 - val_loss: 1.9229 - val_accuracy: 0.6183 - lr: 1.0000e-06\n",
            "Learning rate:  1e-06\n",
            "Epoch 172/300\n",
            "391/391 [==============================] - ETA: 0s - loss: 0.7310 - accuracy: 0.8539WARNING:tensorflow:Can save best model only with val_acc available, skipping.\n"
          ]
        },
        {
          "name": "stderr",
          "output_type": "stream",
          "text": [
            "WARNING:tensorflow:Can save best model only with val_acc available, skipping.\n"
          ]
        },
        {
          "name": "stdout",
          "output_type": "stream",
          "text": [
            "391/391 [==============================] - 36s 93ms/step - loss: 0.7310 - accuracy: 0.8539 - val_loss: 1.9098 - val_accuracy: 0.6185 - lr: 5.0000e-07\n",
            "Learning rate:  1e-06\n",
            "Epoch 173/300\n",
            "391/391 [==============================] - ETA: 0s - loss: 0.7254 - accuracy: 0.8566WARNING:tensorflow:Can save best model only with val_acc available, skipping.\n"
          ]
        },
        {
          "name": "stderr",
          "output_type": "stream",
          "text": [
            "WARNING:tensorflow:Can save best model only with val_acc available, skipping.\n"
          ]
        },
        {
          "name": "stdout",
          "output_type": "stream",
          "text": [
            "391/391 [==============================] - 36s 93ms/step - loss: 0.7254 - accuracy: 0.8566 - val_loss: 1.9104 - val_accuracy: 0.6198 - lr: 1.0000e-06\n",
            "Learning rate:  1e-06\n",
            "Epoch 174/300\n",
            "391/391 [==============================] - ETA: 0s - loss: 0.7203 - accuracy: 0.8598WARNING:tensorflow:Can save best model only with val_acc available, skipping.\n"
          ]
        },
        {
          "name": "stderr",
          "output_type": "stream",
          "text": [
            "WARNING:tensorflow:Can save best model only with val_acc available, skipping.\n"
          ]
        },
        {
          "name": "stdout",
          "output_type": "stream",
          "text": [
            "391/391 [==============================] - 36s 92ms/step - loss: 0.7203 - accuracy: 0.8598 - val_loss: 1.9132 - val_accuracy: 0.6206 - lr: 1.0000e-06\n",
            "Learning rate:  1e-06\n",
            "Epoch 175/300\n",
            "391/391 [==============================] - ETA: 0s - loss: 0.7241 - accuracy: 0.8551WARNING:tensorflow:Can save best model only with val_acc available, skipping.\n"
          ]
        },
        {
          "name": "stderr",
          "output_type": "stream",
          "text": [
            "WARNING:tensorflow:Can save best model only with val_acc available, skipping.\n"
          ]
        },
        {
          "name": "stdout",
          "output_type": "stream",
          "text": [
            "391/391 [==============================] - 36s 92ms/step - loss: 0.7241 - accuracy: 0.8551 - val_loss: 1.9138 - val_accuracy: 0.6196 - lr: 1.0000e-06\n",
            "Learning rate:  1e-06\n",
            "Epoch 176/300\n",
            "391/391 [==============================] - ETA: 0s - loss: 0.7223 - accuracy: 0.8586WARNING:tensorflow:Can save best model only with val_acc available, skipping.\n"
          ]
        },
        {
          "name": "stderr",
          "output_type": "stream",
          "text": [
            "WARNING:tensorflow:Can save best model only with val_acc available, skipping.\n"
          ]
        },
        {
          "name": "stdout",
          "output_type": "stream",
          "text": [
            "391/391 [==============================] - 36s 92ms/step - loss: 0.7223 - accuracy: 0.8586 - val_loss: 1.9179 - val_accuracy: 0.6184 - lr: 1.0000e-06\n",
            "Learning rate:  1e-06\n",
            "Epoch 177/300\n",
            "391/391 [==============================] - ETA: 0s - loss: 0.7245 - accuracy: 0.8573WARNING:tensorflow:Can save best model only with val_acc available, skipping.\n"
          ]
        },
        {
          "name": "stderr",
          "output_type": "stream",
          "text": [
            "WARNING:tensorflow:Can save best model only with val_acc available, skipping.\n"
          ]
        },
        {
          "name": "stdout",
          "output_type": "stream",
          "text": [
            "391/391 [==============================] - 36s 93ms/step - loss: 0.7245 - accuracy: 0.8573 - val_loss: 1.9136 - val_accuracy: 0.6161 - lr: 5.0000e-07\n",
            "Learning rate:  1e-06\n",
            "Epoch 178/300\n",
            "391/391 [==============================] - ETA: 0s - loss: 0.7236 - accuracy: 0.8585WARNING:tensorflow:Can save best model only with val_acc available, skipping.\n"
          ]
        },
        {
          "name": "stderr",
          "output_type": "stream",
          "text": [
            "WARNING:tensorflow:Can save best model only with val_acc available, skipping.\n"
          ]
        },
        {
          "name": "stdout",
          "output_type": "stream",
          "text": [
            "391/391 [==============================] - 36s 93ms/step - loss: 0.7236 - accuracy: 0.8585 - val_loss: 1.9050 - val_accuracy: 0.6194 - lr: 1.0000e-06\n",
            "Learning rate:  1e-06\n",
            "Epoch 179/300\n",
            "391/391 [==============================] - ETA: 0s - loss: 0.7250 - accuracy: 0.8555WARNING:tensorflow:Can save best model only with val_acc available, skipping.\n"
          ]
        },
        {
          "name": "stderr",
          "output_type": "stream",
          "text": [
            "WARNING:tensorflow:Can save best model only with val_acc available, skipping.\n"
          ]
        },
        {
          "name": "stdout",
          "output_type": "stream",
          "text": [
            "391/391 [==============================] - 36s 91ms/step - loss: 0.7250 - accuracy: 0.8555 - val_loss: 1.9099 - val_accuracy: 0.6168 - lr: 1.0000e-06\n",
            "Learning rate:  1e-06\n",
            "Epoch 180/300\n",
            "391/391 [==============================] - ETA: 0s - loss: 0.7202 - accuracy: 0.8576WARNING:tensorflow:Can save best model only with val_acc available, skipping.\n"
          ]
        },
        {
          "name": "stderr",
          "output_type": "stream",
          "text": [
            "WARNING:tensorflow:Can save best model only with val_acc available, skipping.\n"
          ]
        },
        {
          "name": "stdout",
          "output_type": "stream",
          "text": [
            "391/391 [==============================] - 36s 93ms/step - loss: 0.7202 - accuracy: 0.8576 - val_loss: 1.9095 - val_accuracy: 0.6168 - lr: 1.0000e-06\n",
            "Learning rate:  1e-06\n",
            "Epoch 181/300\n",
            "391/391 [==============================] - ETA: 0s - loss: 0.7218 - accuracy: 0.8562WARNING:tensorflow:Can save best model only with val_acc available, skipping.\n"
          ]
        },
        {
          "name": "stderr",
          "output_type": "stream",
          "text": [
            "WARNING:tensorflow:Can save best model only with val_acc available, skipping.\n"
          ]
        },
        {
          "name": "stdout",
          "output_type": "stream",
          "text": [
            "391/391 [==============================] - 36s 91ms/step - loss: 0.7218 - accuracy: 0.8562 - val_loss: 1.9095 - val_accuracy: 0.6149 - lr: 1.0000e-06\n",
            "Learning rate:  5e-07\n",
            "Epoch 182/300\n",
            "391/391 [==============================] - ETA: 0s - loss: 0.7227 - accuracy: 0.8566WARNING:tensorflow:Can save best model only with val_acc available, skipping.\n"
          ]
        },
        {
          "name": "stderr",
          "output_type": "stream",
          "text": [
            "WARNING:tensorflow:Can save best model only with val_acc available, skipping.\n"
          ]
        },
        {
          "name": "stdout",
          "output_type": "stream",
          "text": [
            "391/391 [==============================] - 37s 94ms/step - loss: 0.7227 - accuracy: 0.8566 - val_loss: 1.9173 - val_accuracy: 0.6153 - lr: 5.0000e-07\n",
            "Learning rate:  5e-07\n",
            "Epoch 183/300\n",
            "391/391 [==============================] - ETA: 0s - loss: 0.7230 - accuracy: 0.8577WARNING:tensorflow:Can save best model only with val_acc available, skipping.\n"
          ]
        },
        {
          "name": "stderr",
          "output_type": "stream",
          "text": [
            "WARNING:tensorflow:Can save best model only with val_acc available, skipping.\n"
          ]
        },
        {
          "name": "stdout",
          "output_type": "stream",
          "text": [
            "391/391 [==============================] - 36s 93ms/step - loss: 0.7230 - accuracy: 0.8577 - val_loss: 1.9160 - val_accuracy: 0.6151 - lr: 5.0000e-07\n",
            "Learning rate:  5e-07\n",
            "Epoch 184/300\n",
            "391/391 [==============================] - ETA: 0s - loss: 0.7212 - accuracy: 0.8581WARNING:tensorflow:Can save best model only with val_acc available, skipping.\n"
          ]
        },
        {
          "name": "stderr",
          "output_type": "stream",
          "text": [
            "WARNING:tensorflow:Can save best model only with val_acc available, skipping.\n"
          ]
        },
        {
          "name": "stdout",
          "output_type": "stream",
          "text": [
            "391/391 [==============================] - 36s 92ms/step - loss: 0.7212 - accuracy: 0.8581 - val_loss: 1.9194 - val_accuracy: 0.6136 - lr: 5.0000e-07\n",
            "Learning rate:  5e-07\n",
            "Epoch 185/300\n",
            "391/391 [==============================] - ETA: 0s - loss: 0.7255 - accuracy: 0.8538WARNING:tensorflow:Can save best model only with val_acc available, skipping.\n"
          ]
        },
        {
          "name": "stderr",
          "output_type": "stream",
          "text": [
            "WARNING:tensorflow:Can save best model only with val_acc available, skipping.\n"
          ]
        },
        {
          "name": "stdout",
          "output_type": "stream",
          "text": [
            "391/391 [==============================] - 36s 93ms/step - loss: 0.7255 - accuracy: 0.8538 - val_loss: 1.9318 - val_accuracy: 0.6131 - lr: 5.0000e-07\n",
            "Learning rate:  5e-07\n",
            "Epoch 186/300\n",
            "391/391 [==============================] - ETA: 0s - loss: 0.7348 - accuracy: 0.8527WARNING:tensorflow:Can save best model only with val_acc available, skipping.\n"
          ]
        },
        {
          "name": "stderr",
          "output_type": "stream",
          "text": [
            "WARNING:tensorflow:Can save best model only with val_acc available, skipping.\n"
          ]
        },
        {
          "name": "stdout",
          "output_type": "stream",
          "text": [
            "391/391 [==============================] - 36s 92ms/step - loss: 0.7348 - accuracy: 0.8527 - val_loss: 1.9260 - val_accuracy: 0.6152 - lr: 5.0000e-07\n",
            "Learning rate:  5e-07\n",
            "Epoch 187/300\n",
            "391/391 [==============================] - ETA: 0s - loss: 0.7342 - accuracy: 0.8524WARNING:tensorflow:Can save best model only with val_acc available, skipping.\n"
          ]
        },
        {
          "name": "stderr",
          "output_type": "stream",
          "text": [
            "WARNING:tensorflow:Can save best model only with val_acc available, skipping.\n"
          ]
        },
        {
          "name": "stdout",
          "output_type": "stream",
          "text": [
            "391/391 [==============================] - 36s 93ms/step - loss: 0.7342 - accuracy: 0.8524 - val_loss: 1.9287 - val_accuracy: 0.6139 - lr: 5.0000e-07\n",
            "Learning rate:  5e-07\n",
            "Epoch 188/300\n",
            "391/391 [==============================] - ETA: 0s - loss: 0.7325 - accuracy: 0.8527WARNING:tensorflow:Can save best model only with val_acc available, skipping.\n"
          ]
        },
        {
          "name": "stderr",
          "output_type": "stream",
          "text": [
            "WARNING:tensorflow:Can save best model only with val_acc available, skipping.\n"
          ]
        },
        {
          "name": "stdout",
          "output_type": "stream",
          "text": [
            "391/391 [==============================] - 37s 94ms/step - loss: 0.7325 - accuracy: 0.8527 - val_loss: 1.9342 - val_accuracy: 0.6125 - lr: 5.0000e-07\n",
            "Learning rate:  5e-07\n",
            "Epoch 189/300\n",
            "391/391 [==============================] - ETA: 0s - loss: 0.7329 - accuracy: 0.8541WARNING:tensorflow:Can save best model only with val_acc available, skipping.\n"
          ]
        },
        {
          "name": "stderr",
          "output_type": "stream",
          "text": [
            "WARNING:tensorflow:Can save best model only with val_acc available, skipping.\n"
          ]
        },
        {
          "name": "stdout",
          "output_type": "stream",
          "text": [
            "391/391 [==============================] - 36s 91ms/step - loss: 0.7329 - accuracy: 0.8541 - val_loss: 1.9330 - val_accuracy: 0.6119 - lr: 5.0000e-07\n",
            "Learning rate:  5e-07\n",
            "Epoch 190/300\n",
            "391/391 [==============================] - ETA: 0s - loss: 0.7359 - accuracy: 0.8520WARNING:tensorflow:Can save best model only with val_acc available, skipping.\n"
          ]
        },
        {
          "name": "stderr",
          "output_type": "stream",
          "text": [
            "WARNING:tensorflow:Can save best model only with val_acc available, skipping.\n"
          ]
        },
        {
          "name": "stdout",
          "output_type": "stream",
          "text": [
            "391/391 [==============================] - 37s 94ms/step - loss: 0.7359 - accuracy: 0.8520 - val_loss: 1.9335 - val_accuracy: 0.6119 - lr: 5.0000e-07\n",
            "Learning rate:  5e-07\n",
            "Epoch 191/300\n",
            "391/391 [==============================] - ETA: 0s - loss: 0.7370 - accuracy: 0.8526WARNING:tensorflow:Can save best model only with val_acc available, skipping.\n"
          ]
        },
        {
          "name": "stderr",
          "output_type": "stream",
          "text": [
            "WARNING:tensorflow:Can save best model only with val_acc available, skipping.\n"
          ]
        },
        {
          "name": "stdout",
          "output_type": "stream",
          "text": [
            "391/391 [==============================] - 37s 94ms/step - loss: 0.7370 - accuracy: 0.8526 - val_loss: 1.9339 - val_accuracy: 0.6126 - lr: 5.0000e-07\n",
            "Learning rate:  5e-07\n",
            "Epoch 192/300\n",
            "391/391 [==============================] - ETA: 0s - loss: 0.7395 - accuracy: 0.8507WARNING:tensorflow:Can save best model only with val_acc available, skipping.\n"
          ]
        },
        {
          "name": "stderr",
          "output_type": "stream",
          "text": [
            "WARNING:tensorflow:Can save best model only with val_acc available, skipping.\n"
          ]
        },
        {
          "name": "stdout",
          "output_type": "stream",
          "text": [
            "391/391 [==============================] - 36s 92ms/step - loss: 0.7395 - accuracy: 0.8507 - val_loss: 1.9430 - val_accuracy: 0.6096 - lr: 5.0000e-07\n",
            "Learning rate:  5e-07\n",
            "Epoch 193/300\n",
            "391/391 [==============================] - ETA: 0s - loss: 0.7409 - accuracy: 0.8505WARNING:tensorflow:Can save best model only with val_acc available, skipping.\n"
          ]
        },
        {
          "name": "stderr",
          "output_type": "stream",
          "text": [
            "WARNING:tensorflow:Can save best model only with val_acc available, skipping.\n"
          ]
        },
        {
          "name": "stdout",
          "output_type": "stream",
          "text": [
            "391/391 [==============================] - 37s 94ms/step - loss: 0.7409 - accuracy: 0.8505 - val_loss: 1.9384 - val_accuracy: 0.6110 - lr: 5.0000e-07\n",
            "Learning rate:  5e-07\n",
            "Epoch 194/300\n",
            "391/391 [==============================] - ETA: 0s - loss: 0.7662 - accuracy: 0.8420WARNING:tensorflow:Can save best model only with val_acc available, skipping.\n"
          ]
        },
        {
          "name": "stderr",
          "output_type": "stream",
          "text": [
            "WARNING:tensorflow:Can save best model only with val_acc available, skipping.\n"
          ]
        },
        {
          "name": "stdout",
          "output_type": "stream",
          "text": [
            "391/391 [==============================] - 36s 91ms/step - loss: 0.7662 - accuracy: 0.8420 - val_loss: 1.9739 - val_accuracy: 0.6060 - lr: 5.0000e-07\n",
            "Learning rate:  5e-07\n",
            "Epoch 195/300\n",
            "391/391 [==============================] - ETA: 0s - loss: 0.7792 - accuracy: 0.8379WARNING:tensorflow:Can save best model only with val_acc available, skipping.\n"
          ]
        },
        {
          "name": "stderr",
          "output_type": "stream",
          "text": [
            "WARNING:tensorflow:Can save best model only with val_acc available, skipping.\n"
          ]
        },
        {
          "name": "stdout",
          "output_type": "stream",
          "text": [
            "391/391 [==============================] - 37s 93ms/step - loss: 0.7792 - accuracy: 0.8379 - val_loss: 1.9694 - val_accuracy: 0.6048 - lr: 5.0000e-07\n",
            "Learning rate:  5e-07\n",
            "Epoch 196/300\n",
            "391/391 [==============================] - ETA: 0s - loss: 0.7779 - accuracy: 0.8378WARNING:tensorflow:Can save best model only with val_acc available, skipping.\n"
          ]
        },
        {
          "name": "stderr",
          "output_type": "stream",
          "text": [
            "WARNING:tensorflow:Can save best model only with val_acc available, skipping.\n"
          ]
        },
        {
          "name": "stdout",
          "output_type": "stream",
          "text": [
            "391/391 [==============================] - 37s 94ms/step - loss: 0.7779 - accuracy: 0.8378 - val_loss: 1.9608 - val_accuracy: 0.6064 - lr: 5.0000e-07\n",
            "Learning rate:  5e-07\n",
            "Epoch 197/300\n",
            "391/391 [==============================] - ETA: 0s - loss: 0.7718 - accuracy: 0.8405WARNING:tensorflow:Can save best model only with val_acc available, skipping.\n"
          ]
        },
        {
          "name": "stderr",
          "output_type": "stream",
          "text": [
            "WARNING:tensorflow:Can save best model only with val_acc available, skipping.\n"
          ]
        },
        {
          "name": "stdout",
          "output_type": "stream",
          "text": [
            "391/391 [==============================] - 36s 92ms/step - loss: 0.7718 - accuracy: 0.8405 - val_loss: 1.9562 - val_accuracy: 0.6071 - lr: 5.0000e-07\n",
            "Learning rate:  5e-07\n",
            "Epoch 198/300\n",
            "391/391 [==============================] - ETA: 0s - loss: 0.7724 - accuracy: 0.8394WARNING:tensorflow:Can save best model only with val_acc available, skipping.\n"
          ]
        },
        {
          "name": "stderr",
          "output_type": "stream",
          "text": [
            "WARNING:tensorflow:Can save best model only with val_acc available, skipping.\n"
          ]
        },
        {
          "name": "stdout",
          "output_type": "stream",
          "text": [
            "391/391 [==============================] - 37s 93ms/step - loss: 0.7724 - accuracy: 0.8394 - val_loss: 1.9558 - val_accuracy: 0.6094 - lr: 5.0000e-07\n",
            "Learning rate:  5e-07\n",
            "Epoch 199/300\n",
            "391/391 [==============================] - ETA: 0s - loss: 0.7682 - accuracy: 0.8418WARNING:tensorflow:Can save best model only with val_acc available, skipping.\n"
          ]
        },
        {
          "name": "stderr",
          "output_type": "stream",
          "text": [
            "WARNING:tensorflow:Can save best model only with val_acc available, skipping.\n"
          ]
        },
        {
          "name": "stdout",
          "output_type": "stream",
          "text": [
            "391/391 [==============================] - 36s 92ms/step - loss: 0.7682 - accuracy: 0.8418 - val_loss: 1.9548 - val_accuracy: 0.6087 - lr: 5.0000e-07\n",
            "Learning rate:  5e-07\n",
            "Epoch 200/300\n",
            "391/391 [==============================] - ETA: 0s - loss: 0.7666 - accuracy: 0.8415WARNING:tensorflow:Can save best model only with val_acc available, skipping.\n"
          ]
        },
        {
          "name": "stderr",
          "output_type": "stream",
          "text": [
            "WARNING:tensorflow:Can save best model only with val_acc available, skipping.\n"
          ]
        },
        {
          "name": "stdout",
          "output_type": "stream",
          "text": [
            "391/391 [==============================] - 37s 94ms/step - loss: 0.7666 - accuracy: 0.8415 - val_loss: 1.9536 - val_accuracy: 0.6091 - lr: 5.0000e-07\n",
            "Learning rate:  5e-07\n",
            "Epoch 201/300\n",
            "391/391 [==============================] - ETA: 0s - loss: 0.7642 - accuracy: 0.8424WARNING:tensorflow:Can save best model only with val_acc available, skipping.\n"
          ]
        },
        {
          "name": "stderr",
          "output_type": "stream",
          "text": [
            "WARNING:tensorflow:Can save best model only with val_acc available, skipping.\n"
          ]
        },
        {
          "name": "stdout",
          "output_type": "stream",
          "text": [
            "391/391 [==============================] - 37s 93ms/step - loss: 0.7642 - accuracy: 0.8424 - val_loss: 1.9520 - val_accuracy: 0.6083 - lr: 5.0000e-07\n",
            "Learning rate:  5e-07\n",
            "Epoch 202/300\n",
            "391/391 [==============================] - ETA: 0s - loss: 0.7594 - accuracy: 0.8441WARNING:tensorflow:Can save best model only with val_acc available, skipping.\n"
          ]
        },
        {
          "name": "stderr",
          "output_type": "stream",
          "text": [
            "WARNING:tensorflow:Can save best model only with val_acc available, skipping.\n"
          ]
        },
        {
          "name": "stdout",
          "output_type": "stream",
          "text": [
            "391/391 [==============================] - 36s 92ms/step - loss: 0.7594 - accuracy: 0.8441 - val_loss: 1.9424 - val_accuracy: 0.6094 - lr: 5.0000e-07\n",
            "Learning rate:  5e-07\n",
            "Epoch 203/300\n",
            "391/391 [==============================] - ETA: 0s - loss: 0.7570 - accuracy: 0.8454WARNING:tensorflow:Can save best model only with val_acc available, skipping.\n"
          ]
        },
        {
          "name": "stderr",
          "output_type": "stream",
          "text": [
            "WARNING:tensorflow:Can save best model only with val_acc available, skipping.\n"
          ]
        },
        {
          "name": "stdout",
          "output_type": "stream",
          "text": [
            "391/391 [==============================] - 37s 96ms/step - loss: 0.7570 - accuracy: 0.8454 - val_loss: 1.9429 - val_accuracy: 0.6096 - lr: 5.0000e-07\n",
            "Learning rate:  5e-07\n",
            "Epoch 204/300\n",
            "391/391 [==============================] - ETA: 0s - loss: 0.7707 - accuracy: 0.8390WARNING:tensorflow:Can save best model only with val_acc available, skipping.\n"
          ]
        },
        {
          "name": "stderr",
          "output_type": "stream",
          "text": [
            "WARNING:tensorflow:Can save best model only with val_acc available, skipping.\n"
          ]
        },
        {
          "name": "stdout",
          "output_type": "stream",
          "text": [
            "391/391 [==============================] - 37s 94ms/step - loss: 0.7707 - accuracy: 0.8390 - val_loss: 1.9506 - val_accuracy: 0.6103 - lr: 5.0000e-07\n",
            "Learning rate:  5e-07\n",
            "Epoch 205/300\n",
            "391/391 [==============================] - ETA: 0s - loss: 0.7708 - accuracy: 0.8412WARNING:tensorflow:Can save best model only with val_acc available, skipping.\n"
          ]
        },
        {
          "name": "stderr",
          "output_type": "stream",
          "text": [
            "WARNING:tensorflow:Can save best model only with val_acc available, skipping.\n"
          ]
        },
        {
          "name": "stdout",
          "output_type": "stream",
          "text": [
            "391/391 [==============================] - 36s 92ms/step - loss: 0.7708 - accuracy: 0.8412 - val_loss: 1.9459 - val_accuracy: 0.6099 - lr: 5.0000e-07\n",
            "Learning rate:  5e-07\n",
            "Epoch 206/300\n",
            "391/391 [==============================] - ETA: 0s - loss: 0.7637 - accuracy: 0.8423WARNING:tensorflow:Can save best model only with val_acc available, skipping.\n"
          ]
        },
        {
          "name": "stderr",
          "output_type": "stream",
          "text": [
            "WARNING:tensorflow:Can save best model only with val_acc available, skipping.\n"
          ]
        },
        {
          "name": "stdout",
          "output_type": "stream",
          "text": [
            "391/391 [==============================] - 36s 93ms/step - loss: 0.7637 - accuracy: 0.8423 - val_loss: 1.9459 - val_accuracy: 0.6094 - lr: 5.0000e-07\n",
            "Learning rate:  5e-07\n",
            "Epoch 207/300\n",
            "391/391 [==============================] - ETA: 0s - loss: 0.7664 - accuracy: 0.8411WARNING:tensorflow:Can save best model only with val_acc available, skipping.\n"
          ]
        },
        {
          "name": "stderr",
          "output_type": "stream",
          "text": [
            "WARNING:tensorflow:Can save best model only with val_acc available, skipping.\n"
          ]
        },
        {
          "name": "stdout",
          "output_type": "stream",
          "text": [
            "391/391 [==============================] - 36s 92ms/step - loss: 0.7664 - accuracy: 0.8411 - val_loss: 1.9453 - val_accuracy: 0.6090 - lr: 5.0000e-07\n",
            "Learning rate:  5e-07\n",
            "Epoch 208/300\n",
            "391/391 [==============================] - ETA: 0s - loss: 0.7659 - accuracy: 0.8431WARNING:tensorflow:Can save best model only with val_acc available, skipping.\n"
          ]
        },
        {
          "name": "stderr",
          "output_type": "stream",
          "text": [
            "WARNING:tensorflow:Can save best model only with val_acc available, skipping.\n"
          ]
        },
        {
          "name": "stdout",
          "output_type": "stream",
          "text": [
            "391/391 [==============================] - 36s 93ms/step - loss: 0.7659 - accuracy: 0.8431 - val_loss: 1.9438 - val_accuracy: 0.6104 - lr: 5.0000e-07\n",
            "Learning rate:  5e-07\n",
            "Epoch 209/300\n",
            "391/391 [==============================] - ETA: 0s - loss: 0.7665 - accuracy: 0.8411WARNING:tensorflow:Can save best model only with val_acc available, skipping.\n"
          ]
        },
        {
          "name": "stderr",
          "output_type": "stream",
          "text": [
            "WARNING:tensorflow:Can save best model only with val_acc available, skipping.\n"
          ]
        },
        {
          "name": "stdout",
          "output_type": "stream",
          "text": [
            "391/391 [==============================] - 36s 93ms/step - loss: 0.7665 - accuracy: 0.8411 - val_loss: 1.9712 - val_accuracy: 0.6061 - lr: 5.0000e-07\n",
            "Learning rate:  5e-07\n",
            "Epoch 210/300\n",
            "391/391 [==============================] - ETA: 0s - loss: 0.7661 - accuracy: 0.8437WARNING:tensorflow:Can save best model only with val_acc available, skipping.\n"
          ]
        },
        {
          "name": "stderr",
          "output_type": "stream",
          "text": [
            "WARNING:tensorflow:Can save best model only with val_acc available, skipping.\n"
          ]
        },
        {
          "name": "stdout",
          "output_type": "stream",
          "text": [
            "391/391 [==============================] - 36s 92ms/step - loss: 0.7661 - accuracy: 0.8437 - val_loss: 1.9535 - val_accuracy: 0.6089 - lr: 5.0000e-07\n",
            "Learning rate:  5e-07\n",
            "Epoch 211/300\n",
            "391/391 [==============================] - ETA: 0s - loss: 0.7623 - accuracy: 0.8410WARNING:tensorflow:Can save best model only with val_acc available, skipping.\n"
          ]
        },
        {
          "name": "stderr",
          "output_type": "stream",
          "text": [
            "WARNING:tensorflow:Can save best model only with val_acc available, skipping.\n"
          ]
        },
        {
          "name": "stdout",
          "output_type": "stream",
          "text": [
            "391/391 [==============================] - 36s 93ms/step - loss: 0.7623 - accuracy: 0.8410 - val_loss: 1.9563 - val_accuracy: 0.6071 - lr: 5.0000e-07\n",
            "Learning rate:  5e-07\n",
            "Epoch 212/300\n",
            "391/391 [==============================] - ETA: 0s - loss: 0.7648 - accuracy: 0.8428WARNING:tensorflow:Can save best model only with val_acc available, skipping.\n"
          ]
        },
        {
          "name": "stderr",
          "output_type": "stream",
          "text": [
            "WARNING:tensorflow:Can save best model only with val_acc available, skipping.\n"
          ]
        },
        {
          "name": "stdout",
          "output_type": "stream",
          "text": [
            "391/391 [==============================] - 36s 92ms/step - loss: 0.7648 - accuracy: 0.8428 - val_loss: 1.9486 - val_accuracy: 0.6086 - lr: 5.0000e-07\n",
            "Learning rate:  5e-07\n",
            "Epoch 213/300\n",
            "391/391 [==============================] - ETA: 0s - loss: 0.7616 - accuracy: 0.8439WARNING:tensorflow:Can save best model only with val_acc available, skipping.\n"
          ]
        },
        {
          "name": "stderr",
          "output_type": "stream",
          "text": [
            "WARNING:tensorflow:Can save best model only with val_acc available, skipping.\n"
          ]
        },
        {
          "name": "stdout",
          "output_type": "stream",
          "text": [
            "391/391 [==============================] - 36s 93ms/step - loss: 0.7616 - accuracy: 0.8439 - val_loss: 1.9532 - val_accuracy: 0.6084 - lr: 5.0000e-07\n",
            "Learning rate:  5e-07\n",
            "Epoch 214/300\n",
            "391/391 [==============================] - ETA: 0s - loss: 0.7604 - accuracy: 0.8450WARNING:tensorflow:Can save best model only with val_acc available, skipping.\n"
          ]
        },
        {
          "name": "stderr",
          "output_type": "stream",
          "text": [
            "WARNING:tensorflow:Can save best model only with val_acc available, skipping.\n"
          ]
        },
        {
          "name": "stdout",
          "output_type": "stream",
          "text": [
            "391/391 [==============================] - 36s 93ms/step - loss: 0.7604 - accuracy: 0.8450 - val_loss: 1.9457 - val_accuracy: 0.6098 - lr: 5.0000e-07\n",
            "Learning rate:  5e-07\n",
            "Epoch 215/300\n",
            "391/391 [==============================] - ETA: 0s - loss: 0.7533 - accuracy: 0.8473WARNING:tensorflow:Can save best model only with val_acc available, skipping.\n"
          ]
        },
        {
          "name": "stderr",
          "output_type": "stream",
          "text": [
            "WARNING:tensorflow:Can save best model only with val_acc available, skipping.\n"
          ]
        },
        {
          "name": "stdout",
          "output_type": "stream",
          "text": [
            "391/391 [==============================] - 36s 92ms/step - loss: 0.7533 - accuracy: 0.8473 - val_loss: 1.9521 - val_accuracy: 0.6082 - lr: 5.0000e-07\n",
            "Learning rate:  5e-07\n",
            "Epoch 216/300\n",
            "391/391 [==============================] - ETA: 0s - loss: 0.7587 - accuracy: 0.8464WARNING:tensorflow:Can save best model only with val_acc available, skipping.\n"
          ]
        },
        {
          "name": "stderr",
          "output_type": "stream",
          "text": [
            "WARNING:tensorflow:Can save best model only with val_acc available, skipping.\n"
          ]
        },
        {
          "name": "stdout",
          "output_type": "stream",
          "text": [
            "391/391 [==============================] - 36s 93ms/step - loss: 0.7587 - accuracy: 0.8464 - val_loss: 1.9486 - val_accuracy: 0.6078 - lr: 5.0000e-07\n",
            "Learning rate:  5e-07\n",
            "Epoch 217/300\n",
            "391/391 [==============================] - ETA: 0s - loss: 0.7678 - accuracy: 0.8401WARNING:tensorflow:Can save best model only with val_acc available, skipping.\n"
          ]
        },
        {
          "name": "stderr",
          "output_type": "stream",
          "text": [
            "WARNING:tensorflow:Can save best model only with val_acc available, skipping.\n"
          ]
        },
        {
          "name": "stdout",
          "output_type": "stream",
          "text": [
            "391/391 [==============================] - 36s 91ms/step - loss: 0.7678 - accuracy: 0.8401 - val_loss: 1.9544 - val_accuracy: 0.6057 - lr: 5.0000e-07\n",
            "Learning rate:  5e-07\n",
            "Epoch 218/300\n",
            "391/391 [==============================] - ETA: 0s - loss: 0.7657 - accuracy: 0.8404WARNING:tensorflow:Can save best model only with val_acc available, skipping.\n"
          ]
        },
        {
          "name": "stderr",
          "output_type": "stream",
          "text": [
            "WARNING:tensorflow:Can save best model only with val_acc available, skipping.\n"
          ]
        },
        {
          "name": "stdout",
          "output_type": "stream",
          "text": [
            "391/391 [==============================] - 36s 93ms/step - loss: 0.7657 - accuracy: 0.8404 - val_loss: 1.9491 - val_accuracy: 0.6052 - lr: 5.0000e-07\n",
            "Learning rate:  5e-07\n",
            "Epoch 219/300\n",
            "391/391 [==============================] - ETA: 0s - loss: 0.7660 - accuracy: 0.8413WARNING:tensorflow:Can save best model only with val_acc available, skipping.\n"
          ]
        },
        {
          "name": "stderr",
          "output_type": "stream",
          "text": [
            "WARNING:tensorflow:Can save best model only with val_acc available, skipping.\n"
          ]
        },
        {
          "name": "stdout",
          "output_type": "stream",
          "text": [
            "391/391 [==============================] - 36s 93ms/step - loss: 0.7660 - accuracy: 0.8413 - val_loss: 1.9620 - val_accuracy: 0.6063 - lr: 5.0000e-07\n",
            "Learning rate:  5e-07\n",
            "Epoch 220/300\n",
            "391/391 [==============================] - ETA: 0s - loss: 0.7639 - accuracy: 0.8436WARNING:tensorflow:Can save best model only with val_acc available, skipping.\n"
          ]
        },
        {
          "name": "stderr",
          "output_type": "stream",
          "text": [
            "WARNING:tensorflow:Can save best model only with val_acc available, skipping.\n"
          ]
        },
        {
          "name": "stdout",
          "output_type": "stream",
          "text": [
            "391/391 [==============================] - 36s 92ms/step - loss: 0.7639 - accuracy: 0.8436 - val_loss: 1.9481 - val_accuracy: 0.6089 - lr: 5.0000e-07\n",
            "Learning rate:  5e-07\n",
            "Epoch 221/300\n",
            "391/391 [==============================] - ETA: 0s - loss: 0.7587 - accuracy: 0.8430WARNING:tensorflow:Can save best model only with val_acc available, skipping.\n"
          ]
        },
        {
          "name": "stderr",
          "output_type": "stream",
          "text": [
            "WARNING:tensorflow:Can save best model only with val_acc available, skipping.\n"
          ]
        },
        {
          "name": "stdout",
          "output_type": "stream",
          "text": [
            "391/391 [==============================] - 36s 93ms/step - loss: 0.7587 - accuracy: 0.8430 - val_loss: 1.9447 - val_accuracy: 0.6083 - lr: 5.0000e-07\n",
            "Learning rate:  5e-07\n",
            "Epoch 222/300\n",
            "391/391 [==============================] - ETA: 0s - loss: 0.7594 - accuracy: 0.8448WARNING:tensorflow:Can save best model only with val_acc available, skipping.\n"
          ]
        },
        {
          "name": "stderr",
          "output_type": "stream",
          "text": [
            "WARNING:tensorflow:Can save best model only with val_acc available, skipping.\n"
          ]
        },
        {
          "name": "stdout",
          "output_type": "stream",
          "text": [
            "391/391 [==============================] - 36s 92ms/step - loss: 0.7594 - accuracy: 0.8448 - val_loss: 1.9401 - val_accuracy: 0.6092 - lr: 5.0000e-07\n",
            "Learning rate:  5e-07\n",
            "Epoch 223/300\n",
            "391/391 [==============================] - ETA: 0s - loss: 0.7560 - accuracy: 0.8462WARNING:tensorflow:Can save best model only with val_acc available, skipping.\n"
          ]
        },
        {
          "name": "stderr",
          "output_type": "stream",
          "text": [
            "WARNING:tensorflow:Can save best model only with val_acc available, skipping.\n"
          ]
        },
        {
          "name": "stdout",
          "output_type": "stream",
          "text": [
            "391/391 [==============================] - 37s 94ms/step - loss: 0.7560 - accuracy: 0.8462 - val_loss: 1.9365 - val_accuracy: 0.6091 - lr: 5.0000e-07\n",
            "Learning rate:  5e-07\n",
            "Epoch 224/300\n",
            "391/391 [==============================] - ETA: 0s - loss: 0.7611 - accuracy: 0.8434WARNING:tensorflow:Can save best model only with val_acc available, skipping.\n"
          ]
        },
        {
          "name": "stderr",
          "output_type": "stream",
          "text": [
            "WARNING:tensorflow:Can save best model only with val_acc available, skipping.\n"
          ]
        },
        {
          "name": "stdout",
          "output_type": "stream",
          "text": [
            "391/391 [==============================] - 37s 94ms/step - loss: 0.7611 - accuracy: 0.8434 - val_loss: 1.9382 - val_accuracy: 0.6091 - lr: 5.0000e-07\n",
            "Learning rate:  5e-07\n",
            "Epoch 225/300\n",
            "391/391 [==============================] - ETA: 0s - loss: 0.7573 - accuracy: 0.8448WARNING:tensorflow:Can save best model only with val_acc available, skipping.\n"
          ]
        },
        {
          "name": "stderr",
          "output_type": "stream",
          "text": [
            "WARNING:tensorflow:Can save best model only with val_acc available, skipping.\n"
          ]
        },
        {
          "name": "stdout",
          "output_type": "stream",
          "text": [
            "391/391 [==============================] - 36s 92ms/step - loss: 0.7573 - accuracy: 0.8448 - val_loss: 1.9391 - val_accuracy: 0.6085 - lr: 5.0000e-07\n",
            "Learning rate:  5e-07\n",
            "Epoch 226/300\n",
            "391/391 [==============================] - ETA: 0s - loss: 0.7483 - accuracy: 0.8491WARNING:tensorflow:Can save best model only with val_acc available, skipping.\n"
          ]
        },
        {
          "name": "stderr",
          "output_type": "stream",
          "text": [
            "WARNING:tensorflow:Can save best model only with val_acc available, skipping.\n"
          ]
        },
        {
          "name": "stdout",
          "output_type": "stream",
          "text": [
            "391/391 [==============================] - 36s 93ms/step - loss: 0.7483 - accuracy: 0.8491 - val_loss: 1.9373 - val_accuracy: 0.6091 - lr: 5.0000e-07\n",
            "Learning rate:  5e-07\n",
            "Epoch 227/300\n",
            "391/391 [==============================] - ETA: 0s - loss: 0.7519 - accuracy: 0.8480WARNING:tensorflow:Can save best model only with val_acc available, skipping.\n"
          ]
        },
        {
          "name": "stderr",
          "output_type": "stream",
          "text": [
            "WARNING:tensorflow:Can save best model only with val_acc available, skipping.\n"
          ]
        },
        {
          "name": "stdout",
          "output_type": "stream",
          "text": [
            "391/391 [==============================] - 36s 92ms/step - loss: 0.7519 - accuracy: 0.8480 - val_loss: 1.9351 - val_accuracy: 0.6097 - lr: 5.0000e-07\n",
            "Learning rate:  5e-07\n",
            "Epoch 228/300\n",
            "391/391 [==============================] - ETA: 0s - loss: 0.7499 - accuracy: 0.8468WARNING:tensorflow:Can save best model only with val_acc available, skipping.\n"
          ]
        },
        {
          "name": "stderr",
          "output_type": "stream",
          "text": [
            "WARNING:tensorflow:Can save best model only with val_acc available, skipping.\n"
          ]
        },
        {
          "name": "stdout",
          "output_type": "stream",
          "text": [
            "391/391 [==============================] - 36s 93ms/step - loss: 0.7499 - accuracy: 0.8468 - val_loss: 1.9303 - val_accuracy: 0.6097 - lr: 5.0000e-07\n",
            "Learning rate:  5e-07\n",
            "Epoch 229/300\n",
            "391/391 [==============================] - ETA: 0s - loss: 0.7548 - accuracy: 0.8454WARNING:tensorflow:Can save best model only with val_acc available, skipping.\n"
          ]
        },
        {
          "name": "stderr",
          "output_type": "stream",
          "text": [
            "WARNING:tensorflow:Can save best model only with val_acc available, skipping.\n"
          ]
        },
        {
          "name": "stdout",
          "output_type": "stream",
          "text": [
            "391/391 [==============================] - 37s 94ms/step - loss: 0.7548 - accuracy: 0.8454 - val_loss: 1.9339 - val_accuracy: 0.6101 - lr: 5.0000e-07\n",
            "Learning rate:  5e-07\n",
            "Epoch 230/300\n",
            "391/391 [==============================] - ETA: 0s - loss: 0.7538 - accuracy: 0.8466WARNING:tensorflow:Can save best model only with val_acc available, skipping.\n"
          ]
        },
        {
          "name": "stderr",
          "output_type": "stream",
          "text": [
            "WARNING:tensorflow:Can save best model only with val_acc available, skipping.\n"
          ]
        },
        {
          "name": "stdout",
          "output_type": "stream",
          "text": [
            "391/391 [==============================] - 36s 91ms/step - loss: 0.7538 - accuracy: 0.8466 - val_loss: 1.9360 - val_accuracy: 0.6107 - lr: 5.0000e-07\n",
            "Learning rate:  5e-07\n",
            "Epoch 231/300\n",
            "391/391 [==============================] - ETA: 0s - loss: 0.7536 - accuracy: 0.8461WARNING:tensorflow:Can save best model only with val_acc available, skipping.\n"
          ]
        },
        {
          "name": "stderr",
          "output_type": "stream",
          "text": [
            "WARNING:tensorflow:Can save best model only with val_acc available, skipping.\n"
          ]
        },
        {
          "name": "stdout",
          "output_type": "stream",
          "text": [
            "391/391 [==============================] - 36s 93ms/step - loss: 0.7536 - accuracy: 0.8461 - val_loss: 1.9306 - val_accuracy: 0.6110 - lr: 5.0000e-07\n",
            "Learning rate:  5e-07\n",
            "Epoch 232/300\n",
            "391/391 [==============================] - ETA: 0s - loss: 0.7499 - accuracy: 0.8472WARNING:tensorflow:Can save best model only with val_acc available, skipping.\n"
          ]
        },
        {
          "name": "stderr",
          "output_type": "stream",
          "text": [
            "WARNING:tensorflow:Can save best model only with val_acc available, skipping.\n"
          ]
        },
        {
          "name": "stdout",
          "output_type": "stream",
          "text": [
            "391/391 [==============================] - 36s 92ms/step - loss: 0.7499 - accuracy: 0.8472 - val_loss: 1.9289 - val_accuracy: 0.6115 - lr: 5.0000e-07\n",
            "Learning rate:  5e-07\n",
            "Epoch 233/300\n",
            "391/391 [==============================] - ETA: 0s - loss: 0.7562 - accuracy: 0.8459WARNING:tensorflow:Can save best model only with val_acc available, skipping.\n"
          ]
        },
        {
          "name": "stderr",
          "output_type": "stream",
          "text": [
            "WARNING:tensorflow:Can save best model only with val_acc available, skipping.\n"
          ]
        },
        {
          "name": "stdout",
          "output_type": "stream",
          "text": [
            "391/391 [==============================] - 36s 92ms/step - loss: 0.7562 - accuracy: 0.8459 - val_loss: 1.9243 - val_accuracy: 0.6121 - lr: 5.0000e-07\n",
            "Learning rate:  5e-07\n",
            "Epoch 234/300\n",
            "391/391 [==============================] - ETA: 0s - loss: 0.7488 - accuracy: 0.8473WARNING:tensorflow:Can save best model only with val_acc available, skipping.\n"
          ]
        },
        {
          "name": "stderr",
          "output_type": "stream",
          "text": [
            "WARNING:tensorflow:Can save best model only with val_acc available, skipping.\n"
          ]
        },
        {
          "name": "stdout",
          "output_type": "stream",
          "text": [
            "391/391 [==============================] - 36s 92ms/step - loss: 0.7488 - accuracy: 0.8473 - val_loss: 1.9282 - val_accuracy: 0.6110 - lr: 5.0000e-07\n",
            "Learning rate:  5e-07\n",
            "Epoch 235/300\n",
            "391/391 [==============================] - ETA: 0s - loss: 0.7482 - accuracy: 0.8480WARNING:tensorflow:Can save best model only with val_acc available, skipping.\n"
          ]
        },
        {
          "name": "stderr",
          "output_type": "stream",
          "text": [
            "WARNING:tensorflow:Can save best model only with val_acc available, skipping.\n"
          ]
        },
        {
          "name": "stdout",
          "output_type": "stream",
          "text": [
            "391/391 [==============================] - 36s 91ms/step - loss: 0.7482 - accuracy: 0.8480 - val_loss: 1.9263 - val_accuracy: 0.6122 - lr: 5.0000e-07\n",
            "Learning rate:  5e-07\n",
            "Epoch 236/300\n",
            "391/391 [==============================] - ETA: 0s - loss: 0.7469 - accuracy: 0.8505WARNING:tensorflow:Can save best model only with val_acc available, skipping.\n"
          ]
        },
        {
          "name": "stderr",
          "output_type": "stream",
          "text": [
            "WARNING:tensorflow:Can save best model only with val_acc available, skipping.\n"
          ]
        },
        {
          "name": "stdout",
          "output_type": "stream",
          "text": [
            "391/391 [==============================] - 36s 93ms/step - loss: 0.7469 - accuracy: 0.8505 - val_loss: 1.9213 - val_accuracy: 0.6137 - lr: 5.0000e-07\n",
            "Learning rate:  5e-07\n",
            "Epoch 237/300\n",
            "391/391 [==============================] - ETA: 0s - loss: 0.7494 - accuracy: 0.8464WARNING:tensorflow:Can save best model only with val_acc available, skipping.\n"
          ]
        },
        {
          "name": "stderr",
          "output_type": "stream",
          "text": [
            "WARNING:tensorflow:Can save best model only with val_acc available, skipping.\n"
          ]
        },
        {
          "name": "stdout",
          "output_type": "stream",
          "text": [
            "391/391 [==============================] - 36s 92ms/step - loss: 0.7494 - accuracy: 0.8464 - val_loss: 1.9257 - val_accuracy: 0.6139 - lr: 5.0000e-07\n",
            "Learning rate:  5e-07\n",
            "Epoch 238/300\n",
            "391/391 [==============================] - ETA: 0s - loss: 0.7551 - accuracy: 0.8470WARNING:tensorflow:Can save best model only with val_acc available, skipping.\n"
          ]
        },
        {
          "name": "stderr",
          "output_type": "stream",
          "text": [
            "WARNING:tensorflow:Can save best model only with val_acc available, skipping.\n"
          ]
        },
        {
          "name": "stdout",
          "output_type": "stream",
          "text": [
            "391/391 [==============================] - 36s 93ms/step - loss: 0.7551 - accuracy: 0.8470 - val_loss: 1.9299 - val_accuracy: 0.6137 - lr: 5.0000e-07\n",
            "Learning rate:  5e-07\n",
            "Epoch 239/300\n",
            "391/391 [==============================] - ETA: 0s - loss: 0.7483 - accuracy: 0.8495WARNING:tensorflow:Can save best model only with val_acc available, skipping.\n"
          ]
        },
        {
          "name": "stderr",
          "output_type": "stream",
          "text": [
            "WARNING:tensorflow:Can save best model only with val_acc available, skipping.\n"
          ]
        },
        {
          "name": "stdout",
          "output_type": "stream",
          "text": [
            "391/391 [==============================] - 37s 94ms/step - loss: 0.7483 - accuracy: 0.8495 - val_loss: 1.9286 - val_accuracy: 0.6122 - lr: 5.0000e-07\n",
            "Learning rate:  5e-07\n",
            "Epoch 240/300\n",
            "391/391 [==============================] - ETA: 0s - loss: 0.7531 - accuracy: 0.8475WARNING:tensorflow:Can save best model only with val_acc available, skipping.\n"
          ]
        },
        {
          "name": "stderr",
          "output_type": "stream",
          "text": [
            "WARNING:tensorflow:Can save best model only with val_acc available, skipping.\n"
          ]
        },
        {
          "name": "stdout",
          "output_type": "stream",
          "text": [
            "391/391 [==============================] - 36s 92ms/step - loss: 0.7531 - accuracy: 0.8475 - val_loss: 1.9295 - val_accuracy: 0.6126 - lr: 5.0000e-07\n",
            "Learning rate:  5e-07\n",
            "Epoch 241/300\n",
            "391/391 [==============================] - ETA: 0s - loss: 0.7463 - accuracy: 0.8492WARNING:tensorflow:Can save best model only with val_acc available, skipping.\n"
          ]
        },
        {
          "name": "stderr",
          "output_type": "stream",
          "text": [
            "WARNING:tensorflow:Can save best model only with val_acc available, skipping.\n"
          ]
        },
        {
          "name": "stdout",
          "output_type": "stream",
          "text": [
            "391/391 [==============================] - 36s 93ms/step - loss: 0.7463 - accuracy: 0.8492 - val_loss: 1.9265 - val_accuracy: 0.6130 - lr: 5.0000e-07\n",
            "Learning rate:  5e-07\n",
            "Epoch 242/300\n",
            "391/391 [==============================] - ETA: 0s - loss: 0.7500 - accuracy: 0.8476WARNING:tensorflow:Can save best model only with val_acc available, skipping.\n"
          ]
        },
        {
          "name": "stderr",
          "output_type": "stream",
          "text": [
            "WARNING:tensorflow:Can save best model only with val_acc available, skipping.\n"
          ]
        },
        {
          "name": "stdout",
          "output_type": "stream",
          "text": [
            "391/391 [==============================] - 36s 93ms/step - loss: 0.7500 - accuracy: 0.8476 - val_loss: 1.9291 - val_accuracy: 0.6128 - lr: 5.0000e-07\n",
            "Learning rate:  5e-07\n",
            "Epoch 243/300\n",
            "391/391 [==============================] - ETA: 0s - loss: 0.7453 - accuracy: 0.8486WARNING:tensorflow:Can save best model only with val_acc available, skipping.\n"
          ]
        },
        {
          "name": "stderr",
          "output_type": "stream",
          "text": [
            "WARNING:tensorflow:Can save best model only with val_acc available, skipping.\n"
          ]
        },
        {
          "name": "stdout",
          "output_type": "stream",
          "text": [
            "391/391 [==============================] - 35s 91ms/step - loss: 0.7453 - accuracy: 0.8486 - val_loss: 1.9253 - val_accuracy: 0.6134 - lr: 5.0000e-07\n",
            "Learning rate:  5e-07\n",
            "Epoch 244/300\n",
            "391/391 [==============================] - ETA: 0s - loss: 0.7457 - accuracy: 0.8512WARNING:tensorflow:Can save best model only with val_acc available, skipping.\n"
          ]
        },
        {
          "name": "stderr",
          "output_type": "stream",
          "text": [
            "WARNING:tensorflow:Can save best model only with val_acc available, skipping.\n"
          ]
        },
        {
          "name": "stdout",
          "output_type": "stream",
          "text": [
            "391/391 [==============================] - 36s 93ms/step - loss: 0.7457 - accuracy: 0.8512 - val_loss: 1.9231 - val_accuracy: 0.6127 - lr: 5.0000e-07\n",
            "Learning rate:  5e-07\n",
            "Epoch 245/300\n",
            "391/391 [==============================] - ETA: 0s - loss: 0.7454 - accuracy: 0.8489WARNING:tensorflow:Can save best model only with val_acc available, skipping.\n"
          ]
        },
        {
          "name": "stderr",
          "output_type": "stream",
          "text": [
            "WARNING:tensorflow:Can save best model only with val_acc available, skipping.\n"
          ]
        },
        {
          "name": "stdout",
          "output_type": "stream",
          "text": [
            "391/391 [==============================] - 36s 91ms/step - loss: 0.7454 - accuracy: 0.8489 - val_loss: 1.9213 - val_accuracy: 0.6141 - lr: 5.0000e-07\n",
            "Learning rate:  5e-07\n",
            "Epoch 246/300\n",
            "391/391 [==============================] - ETA: 0s - loss: 0.7442 - accuracy: 0.8488WARNING:tensorflow:Can save best model only with val_acc available, skipping.\n"
          ]
        },
        {
          "name": "stderr",
          "output_type": "stream",
          "text": [
            "WARNING:tensorflow:Can save best model only with val_acc available, skipping.\n"
          ]
        },
        {
          "name": "stdout",
          "output_type": "stream",
          "text": [
            "391/391 [==============================] - 36s 93ms/step - loss: 0.7442 - accuracy: 0.8488 - val_loss: 1.9203 - val_accuracy: 0.6128 - lr: 5.0000e-07\n",
            "Learning rate:  5e-07\n",
            "Epoch 247/300\n",
            "391/391 [==============================] - ETA: 0s - loss: 0.7420 - accuracy: 0.8505WARNING:tensorflow:Can save best model only with val_acc available, skipping.\n"
          ]
        },
        {
          "name": "stderr",
          "output_type": "stream",
          "text": [
            "WARNING:tensorflow:Can save best model only with val_acc available, skipping.\n"
          ]
        },
        {
          "name": "stdout",
          "output_type": "stream",
          "text": [
            "391/391 [==============================] - 36s 93ms/step - loss: 0.7420 - accuracy: 0.8505 - val_loss: 1.9207 - val_accuracy: 0.6136 - lr: 5.0000e-07\n",
            "Learning rate:  5e-07\n",
            "Epoch 248/300\n",
            "391/391 [==============================] - ETA: 0s - loss: 0.7435 - accuracy: 0.8501WARNING:tensorflow:Can save best model only with val_acc available, skipping.\n"
          ]
        },
        {
          "name": "stderr",
          "output_type": "stream",
          "text": [
            "WARNING:tensorflow:Can save best model only with val_acc available, skipping.\n"
          ]
        },
        {
          "name": "stdout",
          "output_type": "stream",
          "text": [
            "391/391 [==============================] - 36s 91ms/step - loss: 0.7435 - accuracy: 0.8501 - val_loss: 1.9182 - val_accuracy: 0.6134 - lr: 5.0000e-07\n",
            "Learning rate:  5e-07\n",
            "Epoch 249/300\n",
            "391/391 [==============================] - ETA: 0s - loss: 0.7466 - accuracy: 0.8486WARNING:tensorflow:Can save best model only with val_acc available, skipping.\n"
          ]
        },
        {
          "name": "stderr",
          "output_type": "stream",
          "text": [
            "WARNING:tensorflow:Can save best model only with val_acc available, skipping.\n"
          ]
        },
        {
          "name": "stdout",
          "output_type": "stream",
          "text": [
            "391/391 [==============================] - 37s 94ms/step - loss: 0.7466 - accuracy: 0.8486 - val_loss: 1.9200 - val_accuracy: 0.6138 - lr: 5.0000e-07\n",
            "Learning rate:  5e-07\n",
            "Epoch 250/300\n",
            "391/391 [==============================] - ETA: 0s - loss: 0.7457 - accuracy: 0.8479WARNING:tensorflow:Can save best model only with val_acc available, skipping.\n"
          ]
        },
        {
          "name": "stderr",
          "output_type": "stream",
          "text": [
            "WARNING:tensorflow:Can save best model only with val_acc available, skipping.\n"
          ]
        },
        {
          "name": "stdout",
          "output_type": "stream",
          "text": [
            "391/391 [==============================] - 36s 91ms/step - loss: 0.7457 - accuracy: 0.8479 - val_loss: 1.9207 - val_accuracy: 0.6138 - lr: 5.0000e-07\n",
            "Learning rate:  5e-07\n",
            "Epoch 251/300\n",
            "391/391 [==============================] - ETA: 0s - loss: 0.7447 - accuracy: 0.8503WARNING:tensorflow:Can save best model only with val_acc available, skipping.\n"
          ]
        },
        {
          "name": "stderr",
          "output_type": "stream",
          "text": [
            "WARNING:tensorflow:Can save best model only with val_acc available, skipping.\n"
          ]
        },
        {
          "name": "stdout",
          "output_type": "stream",
          "text": [
            "391/391 [==============================] - 36s 93ms/step - loss: 0.7447 - accuracy: 0.8503 - val_loss: 1.9166 - val_accuracy: 0.6146 - lr: 5.0000e-07\n",
            "Learning rate:  5e-07\n",
            "Epoch 252/300\n",
            "391/391 [==============================] - ETA: 0s - loss: 0.7418 - accuracy: 0.8485WARNING:tensorflow:Can save best model only with val_acc available, skipping.\n"
          ]
        },
        {
          "name": "stderr",
          "output_type": "stream",
          "text": [
            "WARNING:tensorflow:Can save best model only with val_acc available, skipping.\n"
          ]
        },
        {
          "name": "stdout",
          "output_type": "stream",
          "text": [
            "391/391 [==============================] - 36s 92ms/step - loss: 0.7418 - accuracy: 0.8485 - val_loss: 1.9165 - val_accuracy: 0.6139 - lr: 5.0000e-07\n",
            "Learning rate:  5e-07\n",
            "Epoch 253/300\n",
            "391/391 [==============================] - ETA: 0s - loss: 0.7380 - accuracy: 0.8526WARNING:tensorflow:Can save best model only with val_acc available, skipping.\n"
          ]
        },
        {
          "name": "stderr",
          "output_type": "stream",
          "text": [
            "WARNING:tensorflow:Can save best model only with val_acc available, skipping.\n"
          ]
        },
        {
          "name": "stdout",
          "output_type": "stream",
          "text": [
            "391/391 [==============================] - 36s 93ms/step - loss: 0.7380 - accuracy: 0.8526 - val_loss: 1.9156 - val_accuracy: 0.6135 - lr: 5.0000e-07\n",
            "Learning rate:  5e-07\n",
            "Epoch 254/300\n",
            "391/391 [==============================] - ETA: 0s - loss: 0.7421 - accuracy: 0.8513WARNING:tensorflow:Can save best model only with val_acc available, skipping.\n"
          ]
        },
        {
          "name": "stderr",
          "output_type": "stream",
          "text": [
            "WARNING:tensorflow:Can save best model only with val_acc available, skipping.\n"
          ]
        },
        {
          "name": "stdout",
          "output_type": "stream",
          "text": [
            "391/391 [==============================] - 37s 94ms/step - loss: 0.7421 - accuracy: 0.8513 - val_loss: 1.9164 - val_accuracy: 0.6142 - lr: 5.0000e-07\n",
            "Learning rate:  5e-07\n",
            "Epoch 255/300\n",
            "391/391 [==============================] - ETA: 0s - loss: 0.7386 - accuracy: 0.8516WARNING:tensorflow:Can save best model only with val_acc available, skipping.\n"
          ]
        },
        {
          "name": "stderr",
          "output_type": "stream",
          "text": [
            "WARNING:tensorflow:Can save best model only with val_acc available, skipping.\n"
          ]
        },
        {
          "name": "stdout",
          "output_type": "stream",
          "text": [
            "391/391 [==============================] - 36s 93ms/step - loss: 0.7386 - accuracy: 0.8516 - val_loss: 1.9126 - val_accuracy: 0.6145 - lr: 5.0000e-07\n",
            "Learning rate:  5e-07\n",
            "Epoch 256/300\n",
            "391/391 [==============================] - ETA: 0s - loss: 0.7358 - accuracy: 0.8525WARNING:tensorflow:Can save best model only with val_acc available, skipping.\n"
          ]
        },
        {
          "name": "stderr",
          "output_type": "stream",
          "text": [
            "WARNING:tensorflow:Can save best model only with val_acc available, skipping.\n"
          ]
        },
        {
          "name": "stdout",
          "output_type": "stream",
          "text": [
            "391/391 [==============================] - 37s 95ms/step - loss: 0.7358 - accuracy: 0.8525 - val_loss: 1.9112 - val_accuracy: 0.6153 - lr: 5.0000e-07\n",
            "Learning rate:  5e-07\n",
            "Epoch 257/300\n",
            "391/391 [==============================] - ETA: 0s - loss: 0.7386 - accuracy: 0.8510WARNING:tensorflow:Can save best model only with val_acc available, skipping.\n"
          ]
        },
        {
          "name": "stderr",
          "output_type": "stream",
          "text": [
            "WARNING:tensorflow:Can save best model only with val_acc available, skipping.\n"
          ]
        },
        {
          "name": "stdout",
          "output_type": "stream",
          "text": [
            "391/391 [==============================] - 37s 94ms/step - loss: 0.7386 - accuracy: 0.8510 - val_loss: 1.9120 - val_accuracy: 0.6153 - lr: 5.0000e-07\n",
            "Learning rate:  5e-07\n",
            "Epoch 258/300\n",
            "391/391 [==============================] - ETA: 0s - loss: 0.7383 - accuracy: 0.8507WARNING:tensorflow:Can save best model only with val_acc available, skipping.\n"
          ]
        },
        {
          "name": "stderr",
          "output_type": "stream",
          "text": [
            "WARNING:tensorflow:Can save best model only with val_acc available, skipping.\n"
          ]
        },
        {
          "name": "stdout",
          "output_type": "stream",
          "text": [
            "391/391 [==============================] - 36s 92ms/step - loss: 0.7383 - accuracy: 0.8507 - val_loss: 1.9116 - val_accuracy: 0.6157 - lr: 5.0000e-07\n",
            "Learning rate:  5e-07\n",
            "Epoch 259/300\n",
            "391/391 [==============================] - ETA: 0s - loss: 0.7389 - accuracy: 0.8516WARNING:tensorflow:Can save best model only with val_acc available, skipping.\n"
          ]
        },
        {
          "name": "stderr",
          "output_type": "stream",
          "text": [
            "WARNING:tensorflow:Can save best model only with val_acc available, skipping.\n"
          ]
        },
        {
          "name": "stdout",
          "output_type": "stream",
          "text": [
            "391/391 [==============================] - 36s 93ms/step - loss: 0.7389 - accuracy: 0.8516 - val_loss: 1.9134 - val_accuracy: 0.6145 - lr: 5.0000e-07\n",
            "Learning rate:  5e-07\n",
            "Epoch 260/300\n",
            "391/391 [==============================] - ETA: 0s - loss: 0.7394 - accuracy: 0.8520WARNING:tensorflow:Can save best model only with val_acc available, skipping.\n"
          ]
        },
        {
          "name": "stderr",
          "output_type": "stream",
          "text": [
            "WARNING:tensorflow:Can save best model only with val_acc available, skipping.\n"
          ]
        },
        {
          "name": "stdout",
          "output_type": "stream",
          "text": [
            "391/391 [==============================] - 36s 93ms/step - loss: 0.7394 - accuracy: 0.8520 - val_loss: 1.9115 - val_accuracy: 0.6152 - lr: 5.0000e-07\n",
            "Learning rate:  5e-07\n",
            "Epoch 261/300\n",
            "391/391 [==============================] - ETA: 0s - loss: 0.7412 - accuracy: 0.8508WARNING:tensorflow:Can save best model only with val_acc available, skipping.\n"
          ]
        },
        {
          "name": "stderr",
          "output_type": "stream",
          "text": [
            "WARNING:tensorflow:Can save best model only with val_acc available, skipping.\n"
          ]
        },
        {
          "name": "stdout",
          "output_type": "stream",
          "text": [
            "391/391 [==============================] - 36s 92ms/step - loss: 0.7412 - accuracy: 0.8508 - val_loss: 1.9131 - val_accuracy: 0.6149 - lr: 5.0000e-07\n",
            "Learning rate:  5e-07\n",
            "Epoch 262/300\n",
            "391/391 [==============================] - ETA: 0s - loss: 0.7416 - accuracy: 0.8489WARNING:tensorflow:Can save best model only with val_acc available, skipping.\n"
          ]
        },
        {
          "name": "stderr",
          "output_type": "stream",
          "text": [
            "WARNING:tensorflow:Can save best model only with val_acc available, skipping.\n"
          ]
        },
        {
          "name": "stdout",
          "output_type": "stream",
          "text": [
            "391/391 [==============================] - 37s 94ms/step - loss: 0.7416 - accuracy: 0.8489 - val_loss: 1.9120 - val_accuracy: 0.6152 - lr: 5.0000e-07\n",
            "Learning rate:  5e-07\n",
            "Epoch 263/300\n",
            "391/391 [==============================] - ETA: 0s - loss: 0.7366 - accuracy: 0.8523WARNING:tensorflow:Can save best model only with val_acc available, skipping.\n"
          ]
        },
        {
          "name": "stderr",
          "output_type": "stream",
          "text": [
            "WARNING:tensorflow:Can save best model only with val_acc available, skipping.\n"
          ]
        },
        {
          "name": "stdout",
          "output_type": "stream",
          "text": [
            "391/391 [==============================] - 36s 92ms/step - loss: 0.7366 - accuracy: 0.8523 - val_loss: 1.9107 - val_accuracy: 0.6157 - lr: 5.0000e-07\n",
            "Learning rate:  5e-07\n",
            "Epoch 264/300\n",
            "391/391 [==============================] - ETA: 0s - loss: 0.7417 - accuracy: 0.8503WARNING:tensorflow:Can save best model only with val_acc available, skipping.\n"
          ]
        },
        {
          "name": "stderr",
          "output_type": "stream",
          "text": [
            "WARNING:tensorflow:Can save best model only with val_acc available, skipping.\n"
          ]
        },
        {
          "name": "stdout",
          "output_type": "stream",
          "text": [
            "391/391 [==============================] - 36s 93ms/step - loss: 0.7417 - accuracy: 0.8503 - val_loss: 1.9076 - val_accuracy: 0.6162 - lr: 5.0000e-07\n",
            "Learning rate:  5e-07\n",
            "Epoch 265/300\n",
            "391/391 [==============================] - ETA: 0s - loss: 0.7424 - accuracy: 0.8502WARNING:tensorflow:Can save best model only with val_acc available, skipping.\n"
          ]
        },
        {
          "name": "stderr",
          "output_type": "stream",
          "text": [
            "WARNING:tensorflow:Can save best model only with val_acc available, skipping.\n"
          ]
        },
        {
          "name": "stdout",
          "output_type": "stream",
          "text": [
            "391/391 [==============================] - 36s 93ms/step - loss: 0.7424 - accuracy: 0.8502 - val_loss: 1.9138 - val_accuracy: 0.6143 - lr: 5.0000e-07\n",
            "Learning rate:  5e-07\n",
            "Epoch 266/300\n",
            "391/391 [==============================] - ETA: 0s - loss: 0.7414 - accuracy: 0.8523WARNING:tensorflow:Can save best model only with val_acc available, skipping.\n"
          ]
        },
        {
          "name": "stderr",
          "output_type": "stream",
          "text": [
            "WARNING:tensorflow:Can save best model only with val_acc available, skipping.\n"
          ]
        },
        {
          "name": "stdout",
          "output_type": "stream",
          "text": [
            "391/391 [==============================] - 36s 91ms/step - loss: 0.7414 - accuracy: 0.8523 - val_loss: 1.9054 - val_accuracy: 0.6148 - lr: 5.0000e-07\n",
            "Learning rate:  5e-07\n",
            "Epoch 267/300\n",
            "391/391 [==============================] - ETA: 0s - loss: 0.7336 - accuracy: 0.8545WARNING:tensorflow:Can save best model only with val_acc available, skipping.\n"
          ]
        },
        {
          "name": "stderr",
          "output_type": "stream",
          "text": [
            "WARNING:tensorflow:Can save best model only with val_acc available, skipping.\n"
          ]
        },
        {
          "name": "stdout",
          "output_type": "stream",
          "text": [
            "391/391 [==============================] - 36s 92ms/step - loss: 0.7336 - accuracy: 0.8545 - val_loss: 1.9070 - val_accuracy: 0.6155 - lr: 5.0000e-07\n",
            "Learning rate:  5e-07\n",
            "Epoch 268/300\n",
            "391/391 [==============================] - ETA: 0s - loss: 0.7400 - accuracy: 0.8513WARNING:tensorflow:Can save best model only with val_acc available, skipping.\n"
          ]
        },
        {
          "name": "stderr",
          "output_type": "stream",
          "text": [
            "WARNING:tensorflow:Can save best model only with val_acc available, skipping.\n"
          ]
        },
        {
          "name": "stdout",
          "output_type": "stream",
          "text": [
            "391/391 [==============================] - 36s 92ms/step - loss: 0.7400 - accuracy: 0.8513 - val_loss: 1.9061 - val_accuracy: 0.6156 - lr: 5.0000e-07\n",
            "Learning rate:  5e-07\n",
            "Epoch 269/300\n",
            "391/391 [==============================] - ETA: 0s - loss: 0.7368 - accuracy: 0.8527WARNING:tensorflow:Can save best model only with val_acc available, skipping.\n"
          ]
        },
        {
          "name": "stderr",
          "output_type": "stream",
          "text": [
            "WARNING:tensorflow:Can save best model only with val_acc available, skipping.\n"
          ]
        },
        {
          "name": "stdout",
          "output_type": "stream",
          "text": [
            "391/391 [==============================] - 36s 93ms/step - loss: 0.7368 - accuracy: 0.8527 - val_loss: 1.9075 - val_accuracy: 0.6163 - lr: 5.0000e-07\n",
            "Learning rate:  5e-07\n",
            "Epoch 270/300\n",
            "391/391 [==============================] - ETA: 0s - loss: 0.7323 - accuracy: 0.8545WARNING:tensorflow:Can save best model only with val_acc available, skipping.\n"
          ]
        },
        {
          "name": "stderr",
          "output_type": "stream",
          "text": [
            "WARNING:tensorflow:Can save best model only with val_acc available, skipping.\n"
          ]
        },
        {
          "name": "stdout",
          "output_type": "stream",
          "text": [
            "391/391 [==============================] - 36s 93ms/step - loss: 0.7323 - accuracy: 0.8545 - val_loss: 1.9092 - val_accuracy: 0.6159 - lr: 5.0000e-07\n",
            "Learning rate:  5e-07\n",
            "Epoch 271/300\n",
            "391/391 [==============================] - ETA: 0s - loss: 0.7331 - accuracy: 0.8536WARNING:tensorflow:Can save best model only with val_acc available, skipping.\n"
          ]
        },
        {
          "name": "stderr",
          "output_type": "stream",
          "text": [
            "WARNING:tensorflow:Can save best model only with val_acc available, skipping.\n"
          ]
        },
        {
          "name": "stdout",
          "output_type": "stream",
          "text": [
            "391/391 [==============================] - 36s 92ms/step - loss: 0.7331 - accuracy: 0.8536 - val_loss: 1.9047 - val_accuracy: 0.6158 - lr: 5.0000e-07\n",
            "Learning rate:  5e-07\n",
            "Epoch 272/300\n",
            "391/391 [==============================] - ETA: 0s - loss: 0.7322 - accuracy: 0.8541WARNING:tensorflow:Can save best model only with val_acc available, skipping.\n"
          ]
        },
        {
          "name": "stderr",
          "output_type": "stream",
          "text": [
            "WARNING:tensorflow:Can save best model only with val_acc available, skipping.\n"
          ]
        },
        {
          "name": "stdout",
          "output_type": "stream",
          "text": [
            "391/391 [==============================] - 36s 93ms/step - loss: 0.7322 - accuracy: 0.8541 - val_loss: 1.9052 - val_accuracy: 0.6161 - lr: 5.0000e-07\n",
            "Learning rate:  5e-07\n",
            "Epoch 273/300\n",
            "391/391 [==============================] - ETA: 0s - loss: 0.7277 - accuracy: 0.8577WARNING:tensorflow:Can save best model only with val_acc available, skipping.\n"
          ]
        },
        {
          "name": "stderr",
          "output_type": "stream",
          "text": [
            "WARNING:tensorflow:Can save best model only with val_acc available, skipping.\n"
          ]
        },
        {
          "name": "stdout",
          "output_type": "stream",
          "text": [
            "391/391 [==============================] - 36s 91ms/step - loss: 0.7277 - accuracy: 0.8577 - val_loss: 1.9071 - val_accuracy: 0.6163 - lr: 5.0000e-07\n",
            "Learning rate:  5e-07\n",
            "Epoch 274/300\n",
            "391/391 [==============================] - ETA: 0s - loss: 0.7367 - accuracy: 0.8525WARNING:tensorflow:Can save best model only with val_acc available, skipping.\n"
          ]
        },
        {
          "name": "stderr",
          "output_type": "stream",
          "text": [
            "WARNING:tensorflow:Can save best model only with val_acc available, skipping.\n"
          ]
        },
        {
          "name": "stdout",
          "output_type": "stream",
          "text": [
            "391/391 [==============================] - 37s 95ms/step - loss: 0.7367 - accuracy: 0.8525 - val_loss: 1.9056 - val_accuracy: 0.6161 - lr: 5.0000e-07\n",
            "Learning rate:  5e-07\n",
            "Epoch 275/300\n",
            "391/391 [==============================] - ETA: 0s - loss: 0.7327 - accuracy: 0.8555WARNING:tensorflow:Can save best model only with val_acc available, skipping.\n"
          ]
        },
        {
          "name": "stderr",
          "output_type": "stream",
          "text": [
            "WARNING:tensorflow:Can save best model only with val_acc available, skipping.\n"
          ]
        },
        {
          "name": "stdout",
          "output_type": "stream",
          "text": [
            "391/391 [==============================] - 37s 93ms/step - loss: 0.7327 - accuracy: 0.8555 - val_loss: 1.9038 - val_accuracy: 0.6152 - lr: 5.0000e-07\n",
            "Learning rate:  5e-07\n",
            "Epoch 276/300\n",
            "391/391 [==============================] - ETA: 0s - loss: 0.7330 - accuracy: 0.8534WARNING:tensorflow:Can save best model only with val_acc available, skipping.\n"
          ]
        },
        {
          "name": "stderr",
          "output_type": "stream",
          "text": [
            "WARNING:tensorflow:Can save best model only with val_acc available, skipping.\n"
          ]
        },
        {
          "name": "stdout",
          "output_type": "stream",
          "text": [
            "391/391 [==============================] - 36s 92ms/step - loss: 0.7330 - accuracy: 0.8534 - val_loss: 1.9051 - val_accuracy: 0.6159 - lr: 5.0000e-07\n",
            "Learning rate:  5e-07\n",
            "Epoch 277/300\n",
            "391/391 [==============================] - ETA: 0s - loss: 0.7297 - accuracy: 0.8544WARNING:tensorflow:Can save best model only with val_acc available, skipping.\n"
          ]
        },
        {
          "name": "stderr",
          "output_type": "stream",
          "text": [
            "WARNING:tensorflow:Can save best model only with val_acc available, skipping.\n"
          ]
        },
        {
          "name": "stdout",
          "output_type": "stream",
          "text": [
            "391/391 [==============================] - 36s 93ms/step - loss: 0.7297 - accuracy: 0.8544 - val_loss: 1.9046 - val_accuracy: 0.6161 - lr: 5.0000e-07\n",
            "Learning rate:  5e-07\n",
            "Epoch 278/300\n",
            "391/391 [==============================] - ETA: 0s - loss: 0.7328 - accuracy: 0.8522WARNING:tensorflow:Can save best model only with val_acc available, skipping.\n"
          ]
        },
        {
          "name": "stderr",
          "output_type": "stream",
          "text": [
            "WARNING:tensorflow:Can save best model only with val_acc available, skipping.\n"
          ]
        },
        {
          "name": "stdout",
          "output_type": "stream",
          "text": [
            "391/391 [==============================] - 36s 92ms/step - loss: 0.7328 - accuracy: 0.8522 - val_loss: 1.9002 - val_accuracy: 0.6176 - lr: 5.0000e-07\n",
            "Learning rate:  5e-07\n",
            "Epoch 279/300\n",
            "391/391 [==============================] - ETA: 0s - loss: 0.7364 - accuracy: 0.8530WARNING:tensorflow:Can save best model only with val_acc available, skipping.\n"
          ]
        },
        {
          "name": "stderr",
          "output_type": "stream",
          "text": [
            "WARNING:tensorflow:Can save best model only with val_acc available, skipping.\n"
          ]
        },
        {
          "name": "stdout",
          "output_type": "stream",
          "text": [
            "391/391 [==============================] - 36s 93ms/step - loss: 0.7364 - accuracy: 0.8530 - val_loss: 1.9037 - val_accuracy: 0.6181 - lr: 5.0000e-07\n",
            "Learning rate:  5e-07\n",
            "Epoch 280/300\n",
            "391/391 [==============================] - ETA: 0s - loss: 0.7299 - accuracy: 0.8548WARNING:tensorflow:Can save best model only with val_acc available, skipping.\n"
          ]
        },
        {
          "name": "stderr",
          "output_type": "stream",
          "text": [
            "WARNING:tensorflow:Can save best model only with val_acc available, skipping.\n"
          ]
        },
        {
          "name": "stdout",
          "output_type": "stream",
          "text": [
            "391/391 [==============================] - 37s 94ms/step - loss: 0.7299 - accuracy: 0.8548 - val_loss: 1.9070 - val_accuracy: 0.6182 - lr: 5.0000e-07\n",
            "Learning rate:  5e-07\n",
            "Epoch 281/300\n",
            "391/391 [==============================] - ETA: 0s - loss: 0.7303 - accuracy: 0.8553WARNING:tensorflow:Can save best model only with val_acc available, skipping.\n"
          ]
        },
        {
          "name": "stderr",
          "output_type": "stream",
          "text": [
            "WARNING:tensorflow:Can save best model only with val_acc available, skipping.\n"
          ]
        },
        {
          "name": "stdout",
          "output_type": "stream",
          "text": [
            "391/391 [==============================] - 36s 92ms/step - loss: 0.7303 - accuracy: 0.8553 - val_loss: 1.9055 - val_accuracy: 0.6171 - lr: 5.0000e-07\n",
            "Learning rate:  5e-07\n",
            "Epoch 282/300\n",
            "391/391 [==============================] - ETA: 0s - loss: 0.7306 - accuracy: 0.8553WARNING:tensorflow:Can save best model only with val_acc available, skipping.\n"
          ]
        },
        {
          "name": "stderr",
          "output_type": "stream",
          "text": [
            "WARNING:tensorflow:Can save best model only with val_acc available, skipping.\n"
          ]
        },
        {
          "name": "stdout",
          "output_type": "stream",
          "text": [
            "391/391 [==============================] - 37s 94ms/step - loss: 0.7306 - accuracy: 0.8553 - val_loss: 1.9039 - val_accuracy: 0.6174 - lr: 5.0000e-07\n",
            "Learning rate:  5e-07\n",
            "Epoch 283/300\n",
            "391/391 [==============================] - ETA: 0s - loss: 0.7300 - accuracy: 0.8543WARNING:tensorflow:Can save best model only with val_acc available, skipping.\n"
          ]
        },
        {
          "name": "stderr",
          "output_type": "stream",
          "text": [
            "WARNING:tensorflow:Can save best model only with val_acc available, skipping.\n"
          ]
        },
        {
          "name": "stdout",
          "output_type": "stream",
          "text": [
            "391/391 [==============================] - 36s 93ms/step - loss: 0.7300 - accuracy: 0.8543 - val_loss: 1.9057 - val_accuracy: 0.6168 - lr: 5.0000e-07\n",
            "Learning rate:  5e-07\n",
            "Epoch 284/300\n",
            "391/391 [==============================] - ETA: 0s - loss: 0.7320 - accuracy: 0.8542WARNING:tensorflow:Can save best model only with val_acc available, skipping.\n"
          ]
        },
        {
          "name": "stderr",
          "output_type": "stream",
          "text": [
            "WARNING:tensorflow:Can save best model only with val_acc available, skipping.\n"
          ]
        },
        {
          "name": "stdout",
          "output_type": "stream",
          "text": [
            "391/391 [==============================] - 36s 93ms/step - loss: 0.7320 - accuracy: 0.8542 - val_loss: 1.9026 - val_accuracy: 0.6176 - lr: 5.0000e-07\n",
            "Learning rate:  5e-07\n",
            "Epoch 285/300\n",
            "391/391 [==============================] - ETA: 0s - loss: 0.7277 - accuracy: 0.8563WARNING:tensorflow:Can save best model only with val_acc available, skipping.\n"
          ]
        },
        {
          "name": "stderr",
          "output_type": "stream",
          "text": [
            "WARNING:tensorflow:Can save best model only with val_acc available, skipping.\n"
          ]
        },
        {
          "name": "stdout",
          "output_type": "stream",
          "text": [
            "391/391 [==============================] - 37s 94ms/step - loss: 0.7277 - accuracy: 0.8563 - val_loss: 1.9026 - val_accuracy: 0.6181 - lr: 5.0000e-07\n",
            "Learning rate:  5e-07\n",
            "Epoch 286/300\n",
            "391/391 [==============================] - ETA: 0s - loss: 0.7310 - accuracy: 0.8543WARNING:tensorflow:Can save best model only with val_acc available, skipping.\n"
          ]
        },
        {
          "name": "stderr",
          "output_type": "stream",
          "text": [
            "WARNING:tensorflow:Can save best model only with val_acc available, skipping.\n"
          ]
        },
        {
          "name": "stdout",
          "output_type": "stream",
          "text": [
            "391/391 [==============================] - 36s 92ms/step - loss: 0.7310 - accuracy: 0.8543 - val_loss: 1.8980 - val_accuracy: 0.6180 - lr: 5.0000e-07\n",
            "Learning rate:  5e-07\n",
            "Epoch 287/300\n",
            "391/391 [==============================] - ETA: 0s - loss: 0.7277 - accuracy: 0.8552WARNING:tensorflow:Can save best model only with val_acc available, skipping.\n"
          ]
        },
        {
          "name": "stderr",
          "output_type": "stream",
          "text": [
            "WARNING:tensorflow:Can save best model only with val_acc available, skipping.\n"
          ]
        },
        {
          "name": "stdout",
          "output_type": "stream",
          "text": [
            "391/391 [==============================] - 37s 94ms/step - loss: 0.7277 - accuracy: 0.8552 - val_loss: 1.9008 - val_accuracy: 0.6184 - lr: 5.0000e-07\n",
            "Learning rate:  5e-07\n",
            "Epoch 288/300\n",
            "391/391 [==============================] - ETA: 0s - loss: 0.7312 - accuracy: 0.8534WARNING:tensorflow:Can save best model only with val_acc available, skipping.\n"
          ]
        },
        {
          "name": "stderr",
          "output_type": "stream",
          "text": [
            "WARNING:tensorflow:Can save best model only with val_acc available, skipping.\n"
          ]
        },
        {
          "name": "stdout",
          "output_type": "stream",
          "text": [
            "391/391 [==============================] - 37s 94ms/step - loss: 0.7312 - accuracy: 0.8534 - val_loss: 1.9010 - val_accuracy: 0.6189 - lr: 5.0000e-07\n",
            "Learning rate:  5e-07\n",
            "Epoch 289/300\n",
            "391/391 [==============================] - ETA: 0s - loss: 0.7250 - accuracy: 0.8558WARNING:tensorflow:Can save best model only with val_acc available, skipping.\n"
          ]
        },
        {
          "name": "stderr",
          "output_type": "stream",
          "text": [
            "WARNING:tensorflow:Can save best model only with val_acc available, skipping.\n"
          ]
        },
        {
          "name": "stdout",
          "output_type": "stream",
          "text": [
            "391/391 [==============================] - 36s 93ms/step - loss: 0.7250 - accuracy: 0.8558 - val_loss: 1.9008 - val_accuracy: 0.6181 - lr: 5.0000e-07\n",
            "Learning rate:  5e-07\n",
            "Epoch 290/300\n",
            "391/391 [==============================] - ETA: 0s - loss: 0.7254 - accuracy: 0.8552WARNING:tensorflow:Can save best model only with val_acc available, skipping.\n"
          ]
        },
        {
          "name": "stderr",
          "output_type": "stream",
          "text": [
            "WARNING:tensorflow:Can save best model only with val_acc available, skipping.\n"
          ]
        },
        {
          "name": "stdout",
          "output_type": "stream",
          "text": [
            "391/391 [==============================] - 37s 94ms/step - loss: 0.7254 - accuracy: 0.8552 - val_loss: 1.8997 - val_accuracy: 0.6187 - lr: 5.0000e-07\n",
            "Learning rate:  5e-07\n",
            "Epoch 291/300\n",
            "391/391 [==============================] - ETA: 0s - loss: 0.7260 - accuracy: 0.8547WARNING:tensorflow:Can save best model only with val_acc available, skipping.\n"
          ]
        },
        {
          "name": "stderr",
          "output_type": "stream",
          "text": [
            "WARNING:tensorflow:Can save best model only with val_acc available, skipping.\n"
          ]
        },
        {
          "name": "stdout",
          "output_type": "stream",
          "text": [
            "391/391 [==============================] - 36s 92ms/step - loss: 0.7260 - accuracy: 0.8547 - val_loss: 1.8989 - val_accuracy: 0.6175 - lr: 5.0000e-07\n",
            "Learning rate:  5e-07\n",
            "Epoch 292/300\n",
            "391/391 [==============================] - ETA: 0s - loss: 0.7253 - accuracy: 0.8564WARNING:tensorflow:Can save best model only with val_acc available, skipping.\n"
          ]
        },
        {
          "name": "stderr",
          "output_type": "stream",
          "text": [
            "WARNING:tensorflow:Can save best model only with val_acc available, skipping.\n"
          ]
        },
        {
          "name": "stdout",
          "output_type": "stream",
          "text": [
            "391/391 [==============================] - 36s 93ms/step - loss: 0.7253 - accuracy: 0.8564 - val_loss: 1.8964 - val_accuracy: 0.6183 - lr: 5.0000e-07\n",
            "Learning rate:  5e-07\n",
            "Epoch 293/300\n",
            "391/391 [==============================] - ETA: 0s - loss: 0.7271 - accuracy: 0.8568WARNING:tensorflow:Can save best model only with val_acc available, skipping.\n"
          ]
        },
        {
          "name": "stderr",
          "output_type": "stream",
          "text": [
            "WARNING:tensorflow:Can save best model only with val_acc available, skipping.\n"
          ]
        },
        {
          "name": "stdout",
          "output_type": "stream",
          "text": [
            "391/391 [==============================] - 37s 93ms/step - loss: 0.7271 - accuracy: 0.8568 - val_loss: 1.8966 - val_accuracy: 0.6189 - lr: 5.0000e-07\n",
            "Learning rate:  5e-07\n",
            "Epoch 294/300\n",
            "391/391 [==============================] - ETA: 0s - loss: 0.7251 - accuracy: 0.8564WARNING:tensorflow:Can save best model only with val_acc available, skipping.\n"
          ]
        },
        {
          "name": "stderr",
          "output_type": "stream",
          "text": [
            "WARNING:tensorflow:Can save best model only with val_acc available, skipping.\n"
          ]
        },
        {
          "name": "stdout",
          "output_type": "stream",
          "text": [
            "391/391 [==============================] - 36s 92ms/step - loss: 0.7251 - accuracy: 0.8564 - val_loss: 1.8961 - val_accuracy: 0.6186 - lr: 5.0000e-07\n",
            "Learning rate:  5e-07\n",
            "Epoch 295/300\n",
            "391/391 [==============================] - ETA: 0s - loss: 0.7245 - accuracy: 0.8562WARNING:tensorflow:Can save best model only with val_acc available, skipping.\n"
          ]
        },
        {
          "name": "stderr",
          "output_type": "stream",
          "text": [
            "WARNING:tensorflow:Can save best model only with val_acc available, skipping.\n"
          ]
        },
        {
          "name": "stdout",
          "output_type": "stream",
          "text": [
            "391/391 [==============================] - 36s 93ms/step - loss: 0.7245 - accuracy: 0.8562 - val_loss: 1.8981 - val_accuracy: 0.6192 - lr: 5.0000e-07\n",
            "Learning rate:  5e-07\n",
            "Epoch 296/300\n",
            "391/391 [==============================] - ETA: 0s - loss: 0.7258 - accuracy: 0.8562WARNING:tensorflow:Can save best model only with val_acc available, skipping.\n"
          ]
        },
        {
          "name": "stderr",
          "output_type": "stream",
          "text": [
            "WARNING:tensorflow:Can save best model only with val_acc available, skipping.\n"
          ]
        },
        {
          "name": "stdout",
          "output_type": "stream",
          "text": [
            "391/391 [==============================] - 39s 98ms/step - loss: 0.7258 - accuracy: 0.8562 - val_loss: 1.8955 - val_accuracy: 0.6189 - lr: 5.0000e-07\n",
            "Learning rate:  5e-07\n",
            "Epoch 297/300\n",
            "391/391 [==============================] - ETA: 0s - loss: 0.7264 - accuracy: 0.8550WARNING:tensorflow:Can save best model only with val_acc available, skipping.\n"
          ]
        },
        {
          "name": "stderr",
          "output_type": "stream",
          "text": [
            "WARNING:tensorflow:Can save best model only with val_acc available, skipping.\n"
          ]
        },
        {
          "name": "stdout",
          "output_type": "stream",
          "text": [
            "391/391 [==============================] - 37s 94ms/step - loss: 0.7264 - accuracy: 0.8550 - val_loss: 1.8940 - val_accuracy: 0.6192 - lr: 5.0000e-07\n",
            "Learning rate:  5e-07\n",
            "Epoch 298/300\n",
            "391/391 [==============================] - ETA: 0s - loss: 0.7244 - accuracy: 0.8568WARNING:tensorflow:Can save best model only with val_acc available, skipping.\n"
          ]
        },
        {
          "name": "stderr",
          "output_type": "stream",
          "text": [
            "WARNING:tensorflow:Can save best model only with val_acc available, skipping.\n"
          ]
        },
        {
          "name": "stdout",
          "output_type": "stream",
          "text": [
            "391/391 [==============================] - 36s 93ms/step - loss: 0.7244 - accuracy: 0.8568 - val_loss: 1.8948 - val_accuracy: 0.6174 - lr: 5.0000e-07\n",
            "Learning rate:  5e-07\n",
            "Epoch 299/300\n",
            "391/391 [==============================] - ETA: 0s - loss: 0.7267 - accuracy: 0.8560WARNING:tensorflow:Can save best model only with val_acc available, skipping.\n"
          ]
        },
        {
          "name": "stderr",
          "output_type": "stream",
          "text": [
            "WARNING:tensorflow:Can save best model only with val_acc available, skipping.\n"
          ]
        },
        {
          "name": "stdout",
          "output_type": "stream",
          "text": [
            "391/391 [==============================] - 36s 92ms/step - loss: 0.7267 - accuracy: 0.8560 - val_loss: 1.8953 - val_accuracy: 0.6182 - lr: 5.0000e-07\n",
            "Learning rate:  5e-07\n",
            "Epoch 300/300\n",
            "391/391 [==============================] - ETA: 0s - loss: 0.7223 - accuracy: 0.8576WARNING:tensorflow:Can save best model only with val_acc available, skipping.\n"
          ]
        },
        {
          "name": "stderr",
          "output_type": "stream",
          "text": [
            "WARNING:tensorflow:Can save best model only with val_acc available, skipping.\n"
          ]
        },
        {
          "name": "stdout",
          "output_type": "stream",
          "text": [
            "391/391 [==============================] - 37s 94ms/step - loss: 0.7223 - accuracy: 0.8576 - val_loss: 1.8931 - val_accuracy: 0.6188 - lr: 5.0000e-07\n"
          ]
        },
        {
          "data": {
            "text/html": [
              "\n",
              "      <iframe id=\"tensorboard-frame-2f32413db89c7755\" width=\"100%\" height=\"800\" frameborder=\"0\">\n",
              "      </iframe>\n",
              "      <script>\n",
              "        (function() {\n",
              "          const frame = document.getElementById(\"tensorboard-frame-2f32413db89c7755\");\n",
              "          const url = new URL(\"/proxy/6007/\", window.location);\n",
              "          const port = 0;\n",
              "          if (port) {\n",
              "            url.port = port;\n",
              "          }\n",
              "          frame.src = url;\n",
              "        })();\n",
              "      </script>\n",
              "    "
            ],
            "text/plain": [
              "<IPython.core.display.HTML object>"
            ]
          },
          "metadata": {},
          "output_type": "display_data"
        },
        {
          "name": "stdout",
          "output_type": "stream",
          "text": [
            "overall training time is 11039.016183376312\n",
            "each epoch training time is [80.18421864509583, 37.19637060165405, 37.245864152908325, 36.58544945716858, 37.46917128562927, 37.56452560424805, 37.33128023147583, 37.13922882080078, 36.79392957687378, 37.33463501930237, 36.75738048553467, 36.54362511634827, 37.18823862075806, 36.56214642524719, 37.76237630844116, 37.427793741226196, 37.0645546913147, 37.08331060409546, 36.638487815856934, 37.1834020614624, 37.453372955322266, 36.70091724395752, 37.09920644760132, 37.63202404975891, 36.787682056427, 37.45461916923523, 36.8315532207489, 37.51795053482056, 37.53451323509216, 36.85055375099182, 36.92389106750488, 37.1626832485199, 36.393744230270386, 37.07637286186218, 36.236244201660156, 37.08192825317383, 37.08175539970398, 36.277942419052124, 37.116055965423584, 36.359174728393555, 37.19058322906494, 37.2837975025177, 36.20679235458374, 36.69001817703247, 37.266265630722046, 36.78256630897522, 36.82159781455994, 36.32480978965759, 36.786537885665894, 37.067309856414795, 36.27488875389099, 37.01894164085388, 36.140915632247925, 36.98040294647217, 37.49458384513855, 36.13358974456787, 37.10725522041321, 37.40480923652649, 36.80239796638489, 37.2671000957489, 36.72544550895691, 37.13732385635376, 37.054746866226196, 36.12766933441162, 36.71242165565491, 36.33214473724365, 37.02818989753723, 37.04873538017273, 36.09629511833191, 36.82875084877014, 36.49490213394165, 36.18417763710022, 36.70470595359802, 36.003777742385864, 36.7566704750061, 36.81362819671631, 36.27995753288269, 36.66830134391785, 36.3275101184845, 36.55693197250366, 36.82051348686218, 36.249754667282104, 36.790730237960815, 36.4858283996582, 37.24024271965027, 36.584314823150635, 36.11386585235596, 36.439096450805664, 36.51179099082947, 36.56250500679016, 36.712690353393555, 36.10525417327881, 37.198691606521606, 37.021827697753906, 36.68298554420471, 36.58885908126831, 35.791502237319946, 36.78329801559448, 36.861891746520996, 36.0087468624115, 36.78291034698486, 36.028271436691284, 36.72952365875244, 37.33497190475464, 36.32952165603638, 36.83223628997803, 36.92036151885986, 35.87887930870056, 36.4796941280365, 35.95694327354431, 36.50357699394226, 36.808881998062134, 36.10347819328308, 36.519859075546265, 35.832576513290405, 36.39053773880005, 36.56113338470459, 36.082202434539795, 36.30822157859802, 35.721510887145996, 36.089372873306274, 36.485005378723145, 35.72932028770447, 36.538310289382935, 35.976072549819946, 36.651341676712036, 36.7373731136322, 35.88037824630737, 36.47136616706848, 38.73963904380798, 35.7592031955719, 36.38945508003235, 35.68470644950867, 36.38368535041809, 36.57063674926758, 36.15043354034424, 36.417972564697266, 36.04910206794739, 36.55312752723694, 36.75622582435608, 36.17023277282715, 36.406227588653564, 36.038301944732666, 36.54687809944153, 36.53352069854736, 35.62458395957947, 36.485597133636475, 35.98376941680908, 36.40375065803528, 36.5743772983551, 35.93196964263916, 36.36805248260498, 35.89862418174744, 37.283034563064575, 36.34448599815369, 36.124873638153076, 36.8609082698822, 36.687516927719116, 36.43733024597168, 36.75120282173157, 35.80992126464844, 36.48362946510315, 36.74218559265137, 36.320374727249146, 36.38147592544556, 35.727214336395264, 36.73390007019043, 36.35949468612671, 35.991188764572144, 36.47267246246338, 35.92540717124939, 36.39446973800659, 36.49310350418091, 35.92632603645325, 36.27881622314453, 36.18977665901184, 36.53640103340149, 36.60281229019165, 35.75754427909851, 36.432605028152466, 35.730525970458984, 36.782350063323975, 36.441742181777954, 36.091599464416504, 36.558960914611816, 36.14882493019104, 36.47394061088562, 36.73135232925415, 35.85800504684448, 36.85732412338257, 36.72824239730835, 36.143914222717285, 36.91343808174133, 35.796412229537964, 36.64138197898865, 36.763957500457764, 36.23460555076599, 36.63554763793945, 36.19965481758118, 36.7447144985199, 36.66871905326843, 35.9628963470459, 37.57873487472534, 36.78492546081543, 36.23819088935852, 36.50855112075806, 36.28917956352234, 36.30277109146118, 36.562602281570435, 36.23147368431091, 36.32603430747986, 35.92725419998169, 36.38589930534363, 36.530231952667236, 35.99475574493408, 36.42566728591919, 35.85836887359619, 36.315916538238525, 36.568188428878784, 35.99038243293762, 36.517958641052246, 36.04908514022827, 36.92420697212219, 36.78677558898926, 36.17389678955078, 36.48851537704468, 35.96859121322632, 36.60699152946472, 36.777342319488525, 35.84939694404602, 36.59342288970947, 36.28104782104492, 36.06605792045593, 36.20932412147522, 35.84886431694031, 36.436222314834595, 36.191943645477295, 36.40766525268555, 36.716888189315796, 36.059083223342896, 36.41058564186096, 36.417017698287964, 35.54808735847473, 36.43655729293823, 35.78559350967407, 36.33955097198486, 36.560277700424194, 35.774115562438965, 36.75248980522156, 35.83469319343567, 36.531144857406616, 36.29285287857056, 36.4946231842041, 36.73746633529663, 36.41521692276001, 37.15408277511597, 36.84701657295227, 36.29123616218567, 36.54810905456543, 36.43147420883179, 36.26492524147034, 36.79915499687195, 36.00729942321777, 36.42635989189148, 36.46761775016785, 35.893866539001465, 36.10996222496033, 35.9926974773407, 36.47346043586731, 36.41727828979492, 36.058027505874634, 36.5434045791626, 35.718385219573975, 37.150591135025024, 36.63857388496399, 36.19991946220398, 36.4179151058197, 35.975242137908936, 36.552504777908325, 36.87417507171631, 36.27878427505493, 36.86673092842102, 36.564594745635986, 36.526103019714355, 36.98873949050903, 36.11466431617737, 36.76139760017395, 36.87407326698303, 36.518043518066406, 36.85137581825256, 35.98942756652832, 36.35214304924011, 36.65025997161865, 36.22741103172302, 36.35104179382324, 38.612120628356934, 36.756176710128784, 36.58912467956543, 36.159494161605835, 36.693601846694946]\n",
            "313/313 [==============================] - 4s 12ms/step - loss: 1.8931 - accuracy: 0.6188\n",
            "Test loss: 1.8931212425231934\n",
            "Test accuracy: 0.6187999844551086\n",
            "tt /home/jupyter/final_proj/saved_models/resnet_super_forty_300epochs_44_V100\n",
            "WARNING:tensorflow:Compiled the loaded model, but the compiled metrics have yet to be built. `model.compile_metrics` will be empty until you train or evaluate the model.\n"
          ]
        },
        {
          "name": "stderr",
          "output_type": "stream",
          "text": [
            "WARNING:tensorflow:Compiled the loaded model, but the compiled metrics have yet to be built. `model.compile_metrics` will be empty until you train or evaluate the model.\n"
          ]
        },
        {
          "name": "stdout",
          "output_type": "stream",
          "text": [
            "Saved pruned Keras model to: /home/jupyter/final_proj/saved_models/PRUNE_resnet_super_forty_300epochs_44_V100.h5\n"
          ]
        },
        {
          "name": "stderr",
          "output_type": "stream",
          "text": [
            "WARNING:absl:Found untraced functions such as conv2d_21_layer_call_fn, conv2d_21_layer_call_and_return_conditional_losses, _jit_compiled_convolution_op, activation_19_layer_call_fn, activation_19_layer_call_and_return_conditional_losses while saving (showing 5 of 267). These functions will not be directly callable after loading.\n"
          ]
        },
        {
          "name": "stdout",
          "output_type": "stream",
          "text": [
            "INFO:tensorflow:Assets written to: /tmp/tmpgmrzargi/assets\n"
          ]
        },
        {
          "name": "stderr",
          "output_type": "stream",
          "text": [
            "INFO:tensorflow:Assets written to: /tmp/tmpgmrzargi/assets\n",
            "2022-12-17 11:57:02.634989: W tensorflow/compiler/mlir/lite/python/tf_tfl_flatbuffer_helpers.cc:362] Ignored output_format.\n",
            "2022-12-17 11:57:02.635055: W tensorflow/compiler/mlir/lite/python/tf_tfl_flatbuffer_helpers.cc:365] Ignored drop_control_dependency.\n",
            "2022-12-17 11:57:02.635240: I tensorflow/cc/saved_model/reader.cc:45] Reading SavedModel from: /tmp/tmpgmrzargi\n",
            "2022-12-17 11:57:02.781953: I tensorflow/cc/saved_model/reader.cc:89] Reading meta graph with tags { serve }\n",
            "2022-12-17 11:57:02.782012: I tensorflow/cc/saved_model/reader.cc:130] Reading SavedModel debug info (if present) from: /tmp/tmpgmrzargi\n",
            "2022-12-17 11:57:03.469344: I tensorflow/cc/saved_model/loader.cc:229] Restoring SavedModel bundle.\n",
            "2022-12-17 11:57:05.437519: I tensorflow/cc/saved_model/loader.cc:213] Running initialization op on SavedModel bundle at path: /tmp/tmpgmrzargi\n",
            "2022-12-17 11:57:06.142703: I tensorflow/cc/saved_model/loader.cc:305] SavedModel load for tags { serve }; Status: success: OK. Took 3507462 microseconds.\n"
          ]
        },
        {
          "name": "stdout",
          "output_type": "stream",
          "text": [
            "Saved pruned TFLite model to: /home/jupyter/final_proj/saved_models/lite_PRUNE_resnet_super_forty_300epochs_44_V100.h5\n"
          ]
        },
        {
          "name": "stderr",
          "output_type": "stream",
          "text": [
            "WARNING:absl:Found untraced functions such as conv2d_21_layer_call_fn, conv2d_21_layer_call_and_return_conditional_losses, _jit_compiled_convolution_op, activation_19_layer_call_fn, activation_19_layer_call_and_return_conditional_losses while saving (showing 5 of 267). These functions will not be directly callable after loading.\n"
          ]
        },
        {
          "name": "stdout",
          "output_type": "stream",
          "text": [
            "INFO:tensorflow:Assets written to: /tmp/tmpjgm7ozc8/assets\n"
          ]
        },
        {
          "name": "stderr",
          "output_type": "stream",
          "text": [
            "INFO:tensorflow:Assets written to: /tmp/tmpjgm7ozc8/assets\n",
            "2022-12-17 11:59:39.822166: W tensorflow/compiler/mlir/lite/python/tf_tfl_flatbuffer_helpers.cc:362] Ignored output_format.\n",
            "2022-12-17 11:59:39.822218: W tensorflow/compiler/mlir/lite/python/tf_tfl_flatbuffer_helpers.cc:365] Ignored drop_control_dependency.\n",
            "2022-12-17 11:59:39.822434: I tensorflow/cc/saved_model/reader.cc:45] Reading SavedModel from: /tmp/tmpjgm7ozc8\n",
            "2022-12-17 11:59:39.971688: I tensorflow/cc/saved_model/reader.cc:89] Reading meta graph with tags { serve }\n",
            "2022-12-17 11:59:39.971781: I tensorflow/cc/saved_model/reader.cc:130] Reading SavedModel debug info (if present) from: /tmp/tmpjgm7ozc8\n",
            "2022-12-17 11:59:40.691449: I tensorflow/cc/saved_model/loader.cc:229] Restoring SavedModel bundle.\n",
            "2022-12-17 11:59:42.562126: I tensorflow/cc/saved_model/loader.cc:213] Running initialization op on SavedModel bundle at path: /tmp/tmpjgm7ozc8\n",
            "2022-12-17 11:59:43.247869: I tensorflow/cc/saved_model/loader.cc:305] SavedModel load for tags { serve }; Status: success: OK. Took 3425434 microseconds.\n"
          ]
        },
        {
          "name": "stdout",
          "output_type": "stream",
          "text": [
            "Saved pruned TFLite model to: /home/jupyter/final_proj/saved_models/lite_quant_PRUNE_resnet_super_forty_300epochs_44_V100.h5\n",
            "Size of gzipped pruned Keras model: 1113673.00 bytes\n",
            "Size of gzipped pruned TFlite model: 1240754.00 bytes\n",
            "Size of gzipped pruned and quantized TFlite model: 1240788.00 bytes\n"
          ]
        }
      ],
      "source": [
        "layers = [3, 7]\n",
        "names = [\"twenty_300epochs\", \"forty_300epochs\"]\n",
        "for x in range(2):\n",
        "    name=\"resnet_super_\"+names[x]\n",
        "    model1 = resnet_training(X_train,Y_train,X_test, Y_test,layers=layers[x],frequency=100,\\\n",
        "                    initial_sparsity = 0.5, final_sparsity=0.7,gpu=\"V100\",\\\n",
        "                    const=False, poly=True,file_name=name,\\\n",
        "                    num_classes=100,begin_step=0,end_step='default')"
      ]
    },
    {
      "cell_type": "code",
      "execution_count": null,
      "metadata": {
        "id": "yC-PpggqHfTm"
      },
      "outputs": [],
      "source": []
    }
  ],
  "metadata": {
    "colab": {
      "provenance": []
    },
    "kernelspec": {
      "display_name": "TensorFlow 2 (Local)",
      "language": "python",
      "name": "local-tf2"
    },
    "language_info": {
      "codemirror_mode": {
        "name": "ipython",
        "version": 3
      },
      "file_extension": ".py",
      "mimetype": "text/x-python",
      "name": "python",
      "nbconvert_exporter": "python",
      "pygments_lexer": "ipython3",
      "version": "3.7.12"
    }
  },
  "nbformat": 4,
  "nbformat_minor": 0
}