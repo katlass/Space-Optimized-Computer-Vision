{
  "nbformat": 4,
  "nbformat_minor": 0,
  "metadata": {
    "colab": {
      "provenance": []
    },
    "kernelspec": {
      "name": "python3",
      "display_name": "Python 3"
    },
    "language_info": {
      "name": "python"
    }
  },
  "cells": [
    {
      "cell_type": "markdown",
      "source": [
        "# Aggregating final results for presentation "
      ],
      "metadata": {
        "id": "q5MlW118dKAG"
      }
    },
    {
      "cell_type": "markdown",
      "source": [
        "## Cleaning up training logs "
      ],
      "metadata": {
        "id": "ZdqvHo_KdTjW"
      }
    },
    {
      "cell_type": "code",
      "source": [
        "from google.colab import drive\n",
        "import os\n",
        "drive.mount('/content/gdrive')"
      ],
      "metadata": {
        "colab": {
          "base_uri": "https://localhost:8080/"
        },
        "id": "Cn9uhsGwZXvJ",
        "outputId": "1976f27f-c28c-42ad-ed33-762121d0ba3d"
      },
      "execution_count": null,
      "outputs": [
        {
          "output_type": "stream",
          "name": "stdout",
          "text": [
            "Mounted at /content/gdrive\n"
          ]
        }
      ]
    },
    {
      "cell_type": "code",
      "source": [
        "dir=f'/content/gdrive/My Drive/COMS6998_FinalProj/'\n",
        "files=os.listdir(dir)\n",
        "files"
      ],
      "metadata": {
        "id": "LpWLlOdoZcQj",
        "colab": {
          "base_uri": "https://localhost:8080/"
        },
        "outputId": "1980f401-3855-4c8b-fa5e-2b28045b991c"
      },
      "execution_count": null,
      "outputs": [
        {
          "output_type": "execute_result",
          "data": {
            "text/plain": [
              "['Final Project Proposal COMS 6998_.docx',\n",
              " 'Project direction COMS 6998.docx',\n",
              " 'Proj Direction COMS6998.docx',\n",
              " 'try_later (1).ipynb',\n",
              " 'COMS6998_FinalProj.ipynb',\n",
              " 'log_resnet20_const_sparsity_ninety_20_T4.csv',\n",
              " 'log_resnet20_const_sparsity_eighty_20_T4.csv',\n",
              " 'log_resnet20_const_sparsity_sixty_20_T4.csv',\n",
              " 'log_resnet20_poly_sparsity_ninety_20_T4.csv',\n",
              " 'log_resnet20_poly_sparsity_eighty_20_T4.csv',\n",
              " 'final_proj_12_7.ipynb',\n",
              " 'log_20_const_sparse_250freq_4rat_V100.csv',\n",
              " 'log_20_const_sparse_50freq_4rat_V100.csv',\n",
              " 'log_20_const_sparse_250freq_4rat_V100 (1).csv',\n",
              " 'log_20_const_sparse_finalsparse6_50_V100.csv',\n",
              " 'log_20_const_sparse_finalsparse6_V100.csv',\n",
              " 'log_20_const_sparse_freq_50_V100.csv',\n",
              " 'log_20_const_sparse_default_V100.csv',\n",
              " 'log_resnet44_poly_sparsity_ninety_44_V100.csv',\n",
              " 'log_resnet44_poly_sparsity_eighty_44_V100.csv',\n",
              " 'resnet44_poly_sparsity_ninety_44_V100.pickle',\n",
              " 'log_resnet44_const_sparsity_sixty_44_V100.csv',\n",
              " 'log_resnet44_const_sparsity_freq250_44_V100.csv',\n",
              " 'log_resnet44_const_sparsity_freq50_44_V100.csv',\n",
              " 'log_resnet44_poly_sparsity_freq500_44_V100.csv',\n",
              " 'log_resnet44_poly_sparsity_freq250_44_V100.csv',\n",
              " 'log_resnet44_poly_sparsity_freq50_44_V100.csv',\n",
              " 'log_resnet44_const_sparsity_eighty_44_T4.csv',\n",
              " 'log_resnet44_const_sparsity_sixty_44_T4.csv',\n",
              " 'resnet44_const_sparsity_eighty_44_T4.pickle',\n",
              " 'resnet44_const_sparsity_sixty_44_T4.pickle',\n",
              " 'log_resnet44_const_sparsity_ninety_44_T4.csv',\n",
              " 'log_resnet20_const_sparsity_ninety_20_T4.xlsx',\n",
              " 'log_resnet20_poly_sparsity_eighty_20_T4.xlsx',\n",
              " 'resnet_forty_baseline_20_T4.pickle',\n",
              " 'resnet_twenty_baseline_20_T4.pickle',\n",
              " 'resnet_forty_baseline_20_T4.h5',\n",
              " 'log_resnet_forty_baseline_20_T4.csv',\n",
              " 'resnet_twenty_baseline_20_T4.h5',\n",
              " 'log_resnet_twenty_baseline_20_T4.csv',\n",
              " 'try_later (13) (8) (4).ipynb',\n",
              " 'resnet_forty_mixed_prec_44_T4.h5',\n",
              " 'log_resnet_forty_mixed_prec_44_T4.csv',\n",
              " 'resnet_twenty_mixed_prec_20_T4.h5',\n",
              " 'resnet_super_forty_44_k80.pickle',\n",
              " 'resnet_super_twenty_20_k80.pickle',\n",
              " 'final proj_.pptx',\n",
              " 'log_resnet_twenty_mixed_prec_20_T4.csv',\n",
              " 'super_final.ipynb',\n",
              " 'try_distributed.ipynb',\n",
              " 'log_resnet44_poly_sparsity_sixty_44_T4 (1).csv',\n",
              " 'log_resnet44_poly_sparsity_eighty_44_T4 (1).csv',\n",
              " 'log_resnet20_poly_sparsity_sixty_20_T4.csv',\n",
              " 'super.ipynb',\n",
              " 'resnet_twenty_mixed_prec_20_T4.pickle',\n",
              " 'resnet_twenty_mixed_prec_20_T4 (1).pickle',\n",
              " 'resnet_forty_mixed_prec_44_T4 (1).pickle',\n",
              " 'resnet_forty_mixed_prec_44_T4.pickle',\n",
              " 'resnet_super_twenty_20_V100.pickle',\n",
              " 'resnet_super_forty_44_V100.pickle',\n",
              " 'PRUNE_resnet_super_forty_44_V100.h5',\n",
              " 'PRUNE_resnet_super_twenty_20_V100.h5',\n",
              " 'log_resnet_super_forty_44_V100.csv',\n",
              " 'log_resnet_super_twenty_20_V100.csv',\n",
              " 'test_quant32.h5',\n",
              " 'log_resnet20_poly_sparsity_sixty_20_T4.gsheet',\n",
              " 'log_resnet20_poly_sparsity_ninety_20_T4.gsheet',\n",
              " 'log_resnet20_poly_sparsity_eighty_20_T4.gsheet',\n",
              " 'log_20_const_sparse_250freq_4rat_V100.gsheet',\n",
              " 'log_20_const_sparse_default_V100.gsheet',\n",
              " 'log_20_const_sparse_finalsparse6_50_V100.gsheet',\n",
              " 'log_20_const_sparse_finalsparse6_V100.gsheet',\n",
              " 'log_20_const_sparse_freq_50_V100.gsheet',\n",
              " 'log_20_const_sparse_50freq_4rat_V100.gsheet',\n",
              " 'log_resnet_twenty_baseline_20_T4.gsheet',\n",
              " 'log_resnet_forty_baseline_20_T4.gsheet',\n",
              " 'log_resnet_forty_mixed_prec_44_T4.gsheet',\n",
              " 'log_resnet_twenty_mixed_prec_20_T4.gsheet',\n",
              " 'quant_super.ipynb',\n",
              " 'resnet_forty_baseline_44_T4.pickle',\n",
              " 'resnet_forty_baseline_44_T4.h5',\n",
              " 'log_resnet_forty_baseline_44_T4.csv']"
            ]
          },
          "metadata": {},
          "execution_count": 3
        }
      ]
    },
    {
      "cell_type": "code",
      "source": [
        "def typefinder(file_,filename):\n",
        "    file_['filename']=filename\n",
        "    if filename.find(\"const\")!=-1:\n",
        "      file_['type']=\"const\"\n",
        "    elif filename.find(\"poly\")!=-1:\n",
        "      file_['type']=\"poly\"\n",
        "    else:\n",
        "      file_['type']=\"\"\n",
        "    \n",
        "    if filename.rsplit('_', 2)[-2] == '44':\n",
        "      file_['layers']='44'\n",
        "    elif filename.rsplit('_', 2)[-2] == '20':\n",
        "      file_['layers']='20'\n",
        "    else:\n",
        "      file_['layers']=\"\"\n",
        "    \n",
        "    if filename.find(\"ninety\")!=-1:\n",
        "      file_['sparsity']='0.9'\n",
        "    elif filename.find(\"sixty\")!=-1:\n",
        "      file_['sparsity']='0.6'\n",
        "    elif filename.find(\"eighty\")!=-1:\n",
        "      file_['sparsity']='0.8'\n",
        "    else:\n",
        "      file_['sparsity']=\"\"\n",
        "\n",
        "\n",
        "    if filename.find(\"500\")!=-1:\n",
        "      file_['freq']='500'\n",
        "    elif filename.find(\"250\")!=-1:\n",
        "      file_['freq']='250'\n",
        "    elif filename.find(\"50\")!=-1:\n",
        "      file_['freq']='50'\n",
        "    else:\n",
        "      file_['freq']=\"\"\n",
        "\n",
        "    if filename.find(\"mixed\")!=-1:\n",
        "      file_['mixed_prec']=\"mixed\"\n",
        "    else:\n",
        "      file_['mixed_prec']=\"\"\n",
        "    \n",
        "\n",
        "    if filename.find(\"baseline\")!=-1:\n",
        "      file_['baseline_model']=\"baseline\"\n",
        "    else:\n",
        "      file_['baseline_model']=\"\"\n",
        "    return(file_)"
      ],
      "metadata": {
        "id": "flz__4BzX-jo"
      },
      "execution_count": null,
      "outputs": []
    },
    {
      "cell_type": "code",
      "source": [
        "import pandas as pd\n",
        "failed=[] \n",
        "dfs=[]\n",
        "improper=[]\n",
        "names=[]\n",
        "for file1 in files: \n",
        "  filename=file1\n",
        "  try:\n",
        "    if file1.rsplit('.', 2)[-1] == 'ipynb':\n",
        "        failed=failed+[file1]\n",
        "    else:\n",
        "      file_ = pd.DataFrame(pd.read_csv(dir+file1,sep=';'))\n",
        "      if len(file_.columns) != 6:\n",
        "        file1 = pd.DataFrame(pd.read_csv(dir+file1,sep=','))\n",
        "        if len(file1.columns) != 6:\n",
        "          improper=improper+[file1]\n",
        "        else:\n",
        "          file_=typefinder(file1,filename) \n",
        "          dfs=dfs+[file_]\n",
        "          names=names+[filename]\n",
        "      else:\n",
        "        file_=typefinder(file_,filename)\n",
        "        dfs=dfs+[file_]\n",
        "        names=names+[filename]\n",
        "  except:\n",
        "      failed=failed+[file1]"
      ],
      "metadata": {
        "id": "eNTROI8NWD-c"
      },
      "execution_count": null,
      "outputs": []
    },
    {
      "cell_type": "code",
      "source": [
        "for x in dfs:\n",
        "  print(pd.unique(x.layers)[0])\n",
        "  if pd.unique(x.layers)[0]==\"20\":\n",
        "      print(x)"
      ],
      "metadata": {
        "id": "3QvwY2P2gk8C"
      },
      "execution_count": null,
      "outputs": []
    },
    {
      "cell_type": "markdown",
      "source": [
        "## Results from mixed precision trials"
      ],
      "metadata": {
        "id": "QeuzTfNMtff-"
      }
    },
    {
      "cell_type": "markdown",
      "source": [
        "### Training time"
      ],
      "metadata": {
        "id": "sJw8gmbnwPdj"
      }
    },
    {
      "cell_type": "markdown",
      "source": [
        "#### Resnet20"
      ],
      "metadata": {
        "id": "w-I1-jVOwUmd"
      }
    },
    {
      "cell_type": "code",
      "source": [
        "import pickle\n",
        "with open(dir+'resnet_twenty_baseline_20_T4.pickle', 'rb') as handle:\n",
        "    b1 = pickle.load(handle)\n",
        "b1[0]"
      ],
      "metadata": {
        "colab": {
          "base_uri": "https://localhost:8080/"
        },
        "id": "-QGiZjxfqGA2",
        "outputId": "7c419a1a-f6bb-4272-9fe1-f7fb7cf4726a"
      },
      "execution_count": null,
      "outputs": [
        {
          "output_type": "execute_result",
          "data": {
            "text/plain": [
              "3502.680858373642"
            ]
          },
          "metadata": {},
          "execution_count": 5
        }
      ]
    },
    {
      "cell_type": "code",
      "source": [
        "with open(dir+'resnet_twenty_mixed_prec_20_T4.pickle', 'rb') as handle:\n",
        "    b1 = pickle.load(handle)\n",
        "b1[0]"
      ],
      "metadata": {
        "colab": {
          "base_uri": "https://localhost:8080/"
        },
        "id": "595wPvr1smn3",
        "outputId": "6177c2ff-6c8b-400d-c8fc-609e9ef48ed7"
      },
      "execution_count": null,
      "outputs": [
        {
          "output_type": "execute_result",
          "data": {
            "text/plain": [
              "2973.8066313266754"
            ]
          },
          "metadata": {},
          "execution_count": 17
        }
      ]
    },
    {
      "cell_type": "markdown",
      "source": [
        "#### Resnet44"
      ],
      "metadata": {
        "id": "P8f33bq3wYEc"
      }
    },
    {
      "cell_type": "code",
      "source": [
        "with open(dir+'resnet_forty_baseline_44_T4.pickle', 'rb') as handle:\n",
        "    b1 = pickle.load(handle)\n",
        "b1[0]"
      ],
      "metadata": {
        "colab": {
          "base_uri": "https://localhost:8080/"
        },
        "id": "rJNa5uNYsmuD",
        "outputId": "446aa96b-d61c-4e11-825f-9b1adc412d45"
      },
      "execution_count": null,
      "outputs": [
        {
          "output_type": "execute_result",
          "data": {
            "text/plain": [
              "7413.27876996994"
            ]
          },
          "metadata": {},
          "execution_count": 6
        }
      ]
    },
    {
      "cell_type": "code",
      "source": [
        "with open(dir+'resnet_forty_mixed_prec_44_T4.pickle', 'rb') as handle:\n",
        "    b1 = pickle.load(handle)\n",
        "b1[0]"
      ],
      "metadata": {
        "colab": {
          "base_uri": "https://localhost:8080/"
        },
        "id": "SoxRLHdasm0y",
        "outputId": "de2cb6bf-daf7-44a7-d5e7-4791f3af4269"
      },
      "execution_count": null,
      "outputs": [
        {
          "output_type": "execute_result",
          "data": {
            "text/plain": [
              "6026.807995557785"
            ]
          },
          "metadata": {},
          "execution_count": 22
        }
      ]
    },
    {
      "cell_type": "markdown",
      "source": [
        "### Accuracy"
      ],
      "metadata": {
        "id": "oXFiSXdSVGIP"
      }
    },
    {
      "cell_type": "markdown",
      "source": [
        "#### Resnet20"
      ],
      "metadata": {
        "id": "YkvapnKKwZot"
      }
    },
    {
      "cell_type": "code",
      "source": [
        "import pickle\n",
        "with open(dir+'resnet_twenty_baseline_20_T4.pickle', 'rb') as handle:\n",
        "    b1 = pickle.load(handle)\n",
        "b1[3]"
      ],
      "metadata": {
        "colab": {
          "base_uri": "https://localhost:8080/"
        },
        "id": "KGOd45uFVHby",
        "outputId": "2d898b90-1cf2-4f01-80c3-96a8a49a8290"
      },
      "execution_count": null,
      "outputs": [
        {
          "output_type": "execute_result",
          "data": {
            "text/plain": [
              "0.44119998812675476"
            ]
          },
          "metadata": {},
          "execution_count": 8
        }
      ]
    },
    {
      "cell_type": "code",
      "source": [
        "with open(dir+'resnet_twenty_mixed_prec_20_T4.pickle', 'rb') as handle:\n",
        "    b1 = pickle.load(handle)\n",
        "b1[3]"
      ],
      "metadata": {
        "colab": {
          "base_uri": "https://localhost:8080/"
        },
        "id": "cA4nlijgVjyw",
        "outputId": "89ffb8f0-6ddf-45c0-8562-b93d817316e7"
      },
      "execution_count": null,
      "outputs": [
        {
          "output_type": "execute_result",
          "data": {
            "text/plain": [
              "0.4652999937534332"
            ]
          },
          "metadata": {},
          "execution_count": 9
        }
      ]
    },
    {
      "cell_type": "markdown",
      "source": [
        "#### Resnet44"
      ],
      "metadata": {
        "id": "r3PjS0Ngwb1N"
      }
    },
    {
      "cell_type": "code",
      "source": [
        "with open(dir+'resnet_forty_baseline_44_T4.pickle', 'rb') as handle:\n",
        "    b1 = pickle.load(handle)\n",
        "b1[3]"
      ],
      "metadata": {
        "colab": {
          "base_uri": "https://localhost:8080/"
        },
        "id": "xkP6BStoVlqR",
        "outputId": "e8e476c2-555d-486c-f90a-a064549bb11b"
      },
      "execution_count": null,
      "outputs": [
        {
          "output_type": "execute_result",
          "data": {
            "text/plain": [
              "0.5008000135421753"
            ]
          },
          "metadata": {},
          "execution_count": 10
        }
      ]
    },
    {
      "cell_type": "code",
      "source": [
        "with open(dir+'resnet_forty_mixed_prec_44_T4.pickle', 'rb') as handle:\n",
        "    b1 = pickle.load(handle)\n",
        "b1[3]"
      ],
      "metadata": {
        "colab": {
          "base_uri": "https://localhost:8080/"
        },
        "id": "ZUvpgsg9VoGE",
        "outputId": "3e99835f-766e-48a2-eefe-e54fe9888ba0"
      },
      "execution_count": null,
      "outputs": [
        {
          "output_type": "execute_result",
          "data": {
            "text/plain": [
              "0.4945000112056732"
            ]
          },
          "metadata": {},
          "execution_count": 11
        }
      ]
    },
    {
      "cell_type": "markdown",
      "source": [
        "### Average per epoch time"
      ],
      "metadata": {
        "id": "-DEQzAClwlOE"
      }
    },
    {
      "cell_type": "markdown",
      "source": [
        "#### Resnet20"
      ],
      "metadata": {
        "id": "rw-S99vKWVyC"
      }
    },
    {
      "cell_type": "code",
      "source": [
        "import pickle\n",
        "with open(dir+'resnet_twenty_baseline_20_T4.pickle', 'rb') as handle:\n",
        "    b1 = pickle.load(handle)\n",
        "\n",
        "b1[1]\n",
        "np.mean(b1[1])"
      ],
      "metadata": {
        "colab": {
          "base_uri": "https://localhost:8080/"
        },
        "id": "VwXbwtqhWc5T",
        "outputId": "2d294341-1055-44c0-b210-f9270a94ad1c"
      },
      "execution_count": null,
      "outputs": [
        {
          "output_type": "execute_result",
          "data": {
            "text/plain": [
              "11.668401989936829"
            ]
          },
          "metadata": {},
          "execution_count": 18
        }
      ]
    },
    {
      "cell_type": "code",
      "source": [
        "with open(dir+'resnet_twenty_mixed_prec_20_T4.pickle', 'rb') as handle:\n",
        "    b1 = pickle.load(handle)\n",
        "b1[1]\n",
        "np.mean(b1[1])"
      ],
      "metadata": {
        "colab": {
          "base_uri": "https://localhost:8080/"
        },
        "id": "X5rIn3ZAWg66",
        "outputId": "e9208cd0-973c-4233-b455-9e875e0e5f2c"
      },
      "execution_count": null,
      "outputs": [
        {
          "output_type": "execute_result",
          "data": {
            "text/plain": [
              "9.9057084496816"
            ]
          },
          "metadata": {},
          "execution_count": 19
        }
      ]
    },
    {
      "cell_type": "markdown",
      "source": [
        "#### Resnet44"
      ],
      "metadata": {
        "id": "8bpGfvrjwq1i"
      }
    },
    {
      "cell_type": "code",
      "source": [
        "with open(dir+'resnet_forty_baseline_44_T4.pickle', 'rb') as handle:\n",
        "    b1 = pickle.load(handle)\n",
        "b1[1]\n",
        "np.mean(b1[1])"
      ],
      "metadata": {
        "colab": {
          "base_uri": "https://localhost:8080/"
        },
        "id": "WO70J4t8Xbhd",
        "outputId": "88641a00-24c1-419d-920d-69dc5e3a7577"
      },
      "execution_count": null,
      "outputs": [
        {
          "output_type": "execute_result",
          "data": {
            "text/plain": [
              "24.702984505494435"
            ]
          },
          "metadata": {},
          "execution_count": 20
        }
      ]
    },
    {
      "cell_type": "code",
      "source": [
        "with open(dir+'resnet_forty_mixed_prec_44_T4.pickle', 'rb') as handle:\n",
        "    b1 = pickle.load(handle)\n",
        "b1[1]\n",
        "np.mean(b1[1])"
      ],
      "metadata": {
        "colab": {
          "base_uri": "https://localhost:8080/"
        },
        "id": "4gwQJ8KtXdEa",
        "outputId": "cba42ad8-e56d-43e9-f3e6-a9a19e078598"
      },
      "execution_count": null,
      "outputs": [
        {
          "output_type": "execute_result",
          "data": {
            "text/plain": [
              "20.082109989325204"
            ]
          },
          "metadata": {},
          "execution_count": 21
        }
      ]
    },
    {
      "cell_type": "markdown",
      "source": [
        "## Super model 60%"
      ],
      "metadata": {
        "id": "kmdI8kW9VOss"
      }
    },
    {
      "cell_type": "markdown",
      "source": [
        "### Test Accuracy "
      ],
      "metadata": {
        "id": "Fj0br-3-wyZt"
      }
    },
    {
      "cell_type": "markdown",
      "source": [
        "#### Resnet20"
      ],
      "metadata": {
        "id": "wwAVIfsuw2oA"
      }
    },
    {
      "cell_type": "code",
      "source": [
        "import pickle\n",
        "with open(dir+'resnet20_poly_sparsity_sixty_20_T4.pickle', 'rb') as handle:\n",
        "    b1 = pickle.load(handle)\n",
        "\n",
        "b1[3]"
      ],
      "metadata": {
        "colab": {
          "base_uri": "https://localhost:8080/"
        },
        "id": "lMYmmuVxaIKX",
        "outputId": "2a3262dd-cbe4-4887-e59a-5d986de80dae"
      },
      "execution_count": null,
      "outputs": [
        {
          "output_type": "execute_result",
          "data": {
            "text/plain": [
              "0.37549999356269836"
            ]
          },
          "metadata": {},
          "execution_count": 40
        }
      ]
    },
    {
      "cell_type": "code",
      "source": [
        "with open(dir+'resnet_super_twenty_20_V100.pickle', 'rb') as handle:\n",
        "    b1 = pickle.load(handle)\n",
        "b1[3]"
      ],
      "metadata": {
        "colab": {
          "base_uri": "https://localhost:8080/"
        },
        "id": "venjmFsqawEH",
        "outputId": "1ceaefc2-d2d2-4b01-a109-874701deec91"
      },
      "execution_count": null,
      "outputs": [
        {
          "output_type": "execute_result",
          "data": {
            "text/plain": [
              "0.599399983882904"
            ]
          },
          "metadata": {},
          "execution_count": 41
        }
      ]
    },
    {
      "cell_type": "markdown",
      "source": [
        "#### Resnet44"
      ],
      "metadata": {
        "id": "bwBy0zjZw6BM"
      }
    },
    {
      "cell_type": "code",
      "source": [
        "import pickle\n",
        "with open(dir+'resnet44_poly_sparsity_sixty_44_T4.pickle', 'rb') as handle:\n",
        "    b1 = pickle.load(handle)\n",
        "\n",
        "b1[3]"
      ],
      "metadata": {
        "colab": {
          "base_uri": "https://localhost:8080/"
        },
        "id": "dV6O06H6d_wh",
        "outputId": "c32be1e5-841d-4614-a8e2-dc49e82a5225"
      },
      "execution_count": null,
      "outputs": [
        {
          "output_type": "execute_result",
          "data": {
            "text/plain": [
              "0.4235000014305115"
            ]
          },
          "metadata": {},
          "execution_count": 42
        }
      ]
    },
    {
      "cell_type": "code",
      "source": [
        "with open(dir+'resnet_super_forty_44_V100.pickle', 'rb') as handle:\n",
        "    b1 = pickle.load(handle)\n",
        "b1[3]"
      ],
      "metadata": {
        "colab": {
          "base_uri": "https://localhost:8080/"
        },
        "id": "drQ6B0d2aSpc",
        "outputId": "34e00394-f945-420e-acab-00d029b50aa4"
      },
      "execution_count": null,
      "outputs": [
        {
          "output_type": "execute_result",
          "data": {
            "text/plain": [
              "0.633899986743927"
            ]
          },
          "metadata": {},
          "execution_count": 43
        }
      ]
    },
    {
      "cell_type": "markdown",
      "source": [
        "### Memory\n"
      ],
      "metadata": {
        "id": "3D2nPb-sog_b"
      }
    },
    {
      "cell_type": "code",
      "source": [
        "#Helper function to get size of zipped files\n",
        "#https://blog.tensorflow.org/2019/08/tensorflow-model-optimization-toolkit_5.html\n",
        "def get_gzipped_model_size(file):\n",
        "  # Returns size of gzipped model, in bytes.\n",
        "  import os\n",
        "  import zipfile\n",
        "\n",
        "  _, zipped_file = tempfile.mkstemp('.zip')\n",
        "  with zipfile.ZipFile(zipped_file, 'w', compression=zipfile.ZIP_DEFLATED) as f:\n",
        "    f.write(file)\n",
        "\n",
        "  return os.path.getsize(zipped_file)"
      ],
      "metadata": {
        "id": "KhAPMCe-ovff"
      },
      "execution_count": null,
      "outputs": []
    },
    {
      "cell_type": "markdown",
      "source": [
        "#### Resnet 20"
      ],
      "metadata": {
        "id": "JHQTYQ6ZpEPs"
      }
    },
    {
      "cell_type": "code",
      "source": [
        "import tensorflow as tf\n",
        "import tempfile\n",
        "model = tf.keras.models.load_model(dir+\"PRUNE_resnet_super_twenty_20_V100.h5\")\n",
        "converter = tf.lite.TFLiteConverter.from_keras_model(model)\n",
        "converter.optimizations = [tf.lite.Optimize.DEFAULT]\n",
        "converter.target_spec.supported_types = [tf.float16]\n",
        "tflite_quant_model = converter.convert()\n",
        "\n",
        "path=dir+\"test_quant32.h5\"\n",
        "with open(path, 'wb') as f:\n",
        "    f.write(tflite_quant_model)\n",
        "    \n",
        "get_gzipped_model_size(path)"
      ],
      "metadata": {
        "colab": {
          "base_uri": "https://localhost:8080/"
        },
        "id": "eLn7t0FIo6Vp",
        "outputId": "996d4746-fa5e-4c7a-847a-4743437194e7"
      },
      "execution_count": null,
      "outputs": [
        {
          "output_type": "stream",
          "name": "stderr",
          "text": [
            "WARNING:tensorflow:No training configuration found in the save file, so the model was *not* compiled. Compile it manually.\n",
            "WARNING:absl:Found untraced functions such as _jit_compiled_convolution_op, _jit_compiled_convolution_op, _jit_compiled_convolution_op, _jit_compiled_convolution_op, _jit_compiled_convolution_op while saving (showing 5 of 21). These functions will not be directly callable after loading.\n"
          ]
        },
        {
          "output_type": "execute_result",
          "data": {
            "text/plain": [
              "320560"
            ]
          },
          "metadata": {},
          "execution_count": 48
        }
      ]
    },
    {
      "cell_type": "code",
      "source": [
        "import pickle\n",
        "with open(dir+'resnet_super_twenty_20_V100.pickle', 'rb') as handle:\n",
        "    b1 = pickle.load(handle)\n",
        "b1[-3]"
      ],
      "metadata": {
        "colab": {
          "base_uri": "https://localhost:8080/"
        },
        "id": "kvjvrFrZo6fk",
        "outputId": "defedb3a-3577-4bf8-f027-6f114d8d71d0"
      },
      "execution_count": null,
      "outputs": [
        {
          "output_type": "execute_result",
          "data": {
            "text/plain": [
              "573033"
            ]
          },
          "metadata": {},
          "execution_count": 49
        }
      ]
    },
    {
      "cell_type": "code",
      "source": [
        "573033/320560"
      ],
      "metadata": {
        "colab": {
          "base_uri": "https://localhost:8080/"
        },
        "id": "xbxj9_lrqmmv",
        "outputId": "efbdcb7e-d769-42a0-e059-b5a8e0e7c771"
      },
      "execution_count": null,
      "outputs": [
        {
          "output_type": "execute_result",
          "data": {
            "text/plain": [
              "1.787599825305715"
            ]
          },
          "metadata": {},
          "execution_count": 50
        }
      ]
    },
    {
      "cell_type": "markdown",
      "source": [
        "#### Resnet 44"
      ],
      "metadata": {
        "id": "o-Hug0PQpF_K"
      }
    },
    {
      "cell_type": "code",
      "source": [
        "import tensorflow as tf\n",
        "import tempfile\n",
        "model = tf.keras.models.load_model(dir+\"PRUNE_resnet_super_forty_44_V100.h5\")\n",
        "converter = tf.lite.TFLiteConverter.from_keras_model(model)\n",
        "converter.optimizations = [tf.lite.Optimize.DEFAULT]\n",
        "converter.target_spec.supported_types = [tf.float16]\n",
        "tflite_quant_model = converter.convert()\n",
        "\n",
        "path=dir+\"test_quant32.h5\"\n",
        "with open(path, 'wb') as f:\n",
        "    f.write(tflite_quant_model)\n",
        "    \n",
        "get_gzipped_model_size(path)"
      ],
      "metadata": {
        "colab": {
          "base_uri": "https://localhost:8080/"
        },
        "id": "4DZ42st0oy0A",
        "outputId": "4afb581a-5d45-4f4b-db6a-be7c6fb6ce65"
      },
      "execution_count": null,
      "outputs": [
        {
          "output_type": "stream",
          "name": "stderr",
          "text": [
            "WARNING:tensorflow:No training configuration found in the save file, so the model was *not* compiled. Compile it manually.\n",
            "WARNING:absl:Found untraced functions such as _jit_compiled_convolution_op, _jit_compiled_convolution_op, _jit_compiled_convolution_op, _jit_compiled_convolution_op, _jit_compiled_convolution_op while saving (showing 5 of 45). These functions will not be directly callable after loading.\n"
          ]
        },
        {
          "output_type": "execute_result",
          "data": {
            "text/plain": [
              "766090"
            ]
          },
          "metadata": {},
          "execution_count": 45
        }
      ]
    },
    {
      "cell_type": "code",
      "source": [
        "import pickle\n",
        "with open(dir+'resnet_super_forty_44_V100.pickle', 'rb') as handle:\n",
        "    b1 = pickle.load(handle)\n",
        "b1[-3]"
      ],
      "metadata": {
        "colab": {
          "base_uri": "https://localhost:8080/"
        },
        "id": "8rPW7C6Go0Vz",
        "outputId": "7f6ecf53-7bc3-4e19-f81a-5e609d910d61"
      },
      "execution_count": null,
      "outputs": [
        {
          "output_type": "execute_result",
          "data": {
            "text/plain": [
              "1367218"
            ]
          },
          "metadata": {},
          "execution_count": 47
        }
      ]
    },
    {
      "cell_type": "code",
      "source": [
        "1367218/766090"
      ],
      "metadata": {
        "colab": {
          "base_uri": "https://localhost:8080/"
        },
        "id": "VUYd9V6hqz3z",
        "outputId": "b58a9657-23ac-4f53-cd05-9784e69319e6"
      },
      "execution_count": null,
      "outputs": [
        {
          "output_type": "execute_result",
          "data": {
            "text/plain": [
              "1.7846702084611468"
            ]
          },
          "metadata": {},
          "execution_count": 51
        }
      ]
    },
    {
      "cell_type": "markdown",
      "source": [
        "## Super model - 70%"
      ],
      "metadata": {
        "id": "Ng3lc7G1u5MM"
      }
    },
    {
      "cell_type": "markdown",
      "source": [
        "### Testing accuracy"
      ],
      "metadata": {
        "id": "r8a06rnAxUsp"
      }
    },
    {
      "cell_type": "markdown",
      "source": [
        "#### Resnet 20"
      ],
      "metadata": {
        "id": "WwFgYUUwxY0c"
      }
    },
    {
      "cell_type": "code",
      "source": [
        "import pickle\n",
        "with open(dir+'resnet20_poly_sparsity_sixty_20_T4.pickle', 'rb') as handle:\n",
        "    b1 = pickle.load(handle)\n",
        "\n",
        "b1[3]"
      ],
      "metadata": {
        "colab": {
          "base_uri": "https://localhost:8080/"
        },
        "id": "6EUJT0PvvHMf",
        "outputId": "f280d0cb-dafd-4dba-9096-5c5671b2ced1"
      },
      "execution_count": null,
      "outputs": [
        {
          "output_type": "execute_result",
          "data": {
            "text/plain": [
              "0.37549999356269836"
            ]
          },
          "metadata": {},
          "execution_count": 52
        }
      ]
    },
    {
      "cell_type": "code",
      "source": [
        "with open(dir+'resnet_super_twenty_300epochs_20_V100.pickle', 'rb') as handle:\n",
        "    b1 = pickle.load(handle)\n",
        "b1[3]"
      ],
      "metadata": {
        "colab": {
          "base_uri": "https://localhost:8080/"
        },
        "id": "Ifo_n-gGvPYy",
        "outputId": "43fcab99-621d-4b9b-8e44-dbaf7e556beb"
      },
      "execution_count": null,
      "outputs": [
        {
          "output_type": "execute_result",
          "data": {
            "text/plain": [
              "0.5742999911308289"
            ]
          },
          "metadata": {},
          "execution_count": 53
        }
      ]
    },
    {
      "cell_type": "markdown",
      "source": [
        "#### Resnet 44"
      ],
      "metadata": {
        "id": "mDD7rdJvxbdS"
      }
    },
    {
      "cell_type": "code",
      "source": [
        "import pickle\n",
        "with open(dir+'resnet44_poly_sparsity_sixty_44_T4.pickle', 'rb') as handle:\n",
        "    b1 = pickle.load(handle)\n",
        "\n",
        "b1[3]"
      ],
      "metadata": {
        "colab": {
          "base_uri": "https://localhost:8080/"
        },
        "id": "VIdZMMR_vPjn",
        "outputId": "507d94cd-c960-4c50-9306-f16bc95c6044"
      },
      "execution_count": null,
      "outputs": [
        {
          "output_type": "execute_result",
          "data": {
            "text/plain": [
              "0.4235000014305115"
            ]
          },
          "metadata": {},
          "execution_count": 54
        }
      ]
    },
    {
      "cell_type": "code",
      "source": [
        "with open(dir+'resnet_super_forty_300epochs_44_V100.pickle', 'rb') as handle:\n",
        "    b1 = pickle.load(handle)\n",
        "b1[3]"
      ],
      "metadata": {
        "colab": {
          "base_uri": "https://localhost:8080/"
        },
        "id": "kvs1JI52vPqT",
        "outputId": "324cfceb-9bd3-46b4-99bd-9880241a8fce"
      },
      "execution_count": null,
      "outputs": [
        {
          "output_type": "execute_result",
          "data": {
            "text/plain": [
              "0.6187999844551086"
            ]
          },
          "metadata": {},
          "execution_count": 55
        }
      ]
    },
    {
      "cell_type": "markdown",
      "source": [
        "### Memory"
      ],
      "metadata": {
        "id": "_-oc9MaswvTS"
      }
    },
    {
      "cell_type": "markdown",
      "source": [
        "#### Resnet 20"
      ],
      "metadata": {
        "id": "9AeY041cxHHF"
      }
    },
    {
      "cell_type": "code",
      "source": [
        "import tensorflow as tf\n",
        "import tempfile\n",
        "model = tf.keras.models.load_model(dir+\"PRUNE_resnet_super_twenty_300epochs_20_V100.h5\")\n",
        "converter = tf.lite.TFLiteConverter.from_keras_model(model)\n",
        "converter.optimizations = [tf.lite.Optimize.DEFAULT]\n",
        "converter.target_spec.supported_types = [tf.float16]\n",
        "tflite_quant_model = converter.convert()\n",
        "\n",
        "path=dir+\"tes sayingt_quant32.h5\"\n",
        "with open(path, 'wb') as f:\n",
        "    f.write(tflite_quant_model)\n",
        "    \n",
        "get_gzipped_model_size(path)"
      ],
      "metadata": {
        "colab": {
          "base_uri": "https://localhost:8080/"
        },
        "id": "mG-lCeNGwzrW",
        "outputId": "23413f55-7ce4-40d9-b935-e1ba80c02450"
      },
      "execution_count": null,
      "outputs": [
        {
          "output_type": "stream",
          "name": "stderr",
          "text": [
            "WARNING:tensorflow:No training configuration found in the save file, so the model was *not* compiled. Compile it manually.\n",
            "WARNING:absl:Found untraced functions such as _jit_compiled_convolution_op, _jit_compiled_convolution_op, _jit_compiled_convolution_op, _jit_compiled_convolution_op, _jit_compiled_convolution_op while saving (showing 5 of 21). These functions will not be directly callable after loading.\n"
          ]
        },
        {
          "output_type": "execute_result",
          "data": {
            "text/plain": [
              "265853"
            ]
          },
          "metadata": {},
          "execution_count": 60
        }
      ]
    },
    {
      "cell_type": "code",
      "source": [
        "import pickle\n",
        "with open(dir+'resnet_super_twenty_300epochs_20_V100.pickle', 'rb') as handle:\n",
        "    b1 = pickle.load(handle)\n",
        "b1[-3]"
      ],
      "metadata": {
        "colab": {
          "base_uri": "https://localhost:8080/"
        },
        "id": "O89ewKb6wzv9",
        "outputId": "97532b24-d0aa-4efc-f754-ee21eba73c2a"
      },
      "execution_count": null,
      "outputs": [
        {
          "output_type": "execute_result",
          "data": {
            "text/plain": [
              "468904"
            ]
          },
          "metadata": {},
          "execution_count": 63
        }
      ]
    },
    {
      "cell_type": "markdown",
      "source": [
        "#### Resnet 44"
      ],
      "metadata": {
        "id": "qNYESuZEw9aN"
      }
    },
    {
      "cell_type": "code",
      "source": [
        "import tensorflow as tf\n",
        "import tempfile\n",
        "model = tf.keras.models.load_model(dir+\"PRUNE_resnet_super_forty_300epochs_44_V100.h5\")\n",
        "converter = tf.lite.TFLiteConverter.from_keras_model(model)\n",
        "converter.optimizations = [tf.lite.Optimize.DEFAULT]\n",
        "converter.target_spec.supported_types = [tf.float16]\n",
        "tflite_quant_model = converter.convert()\n",
        "\n",
        "path=dir+\"test_quant32.h5\"\n",
        "with open(path, 'wb') as f:\n",
        "    f.write(tflite_quant_model)\n",
        "    \n",
        "get_gzipped_model_size(path)"
      ],
      "metadata": {
        "colab": {
          "base_uri": "https://localhost:8080/"
        },
        "id": "QNu-TMjPwz3i",
        "outputId": "8632b5aa-df2e-40e0-8dea-0d087a14d1fb"
      },
      "execution_count": null,
      "outputs": [
        {
          "output_type": "stream",
          "name": "stderr",
          "text": [
            "WARNING:tensorflow:No training configuration found in the save file, so the model was *not* compiled. Compile it manually.\n",
            "WARNING:absl:Found untraced functions such as _jit_compiled_convolution_op, _jit_compiled_convolution_op, _jit_compiled_convolution_op, _jit_compiled_convolution_op, _jit_compiled_convolution_op while saving (showing 5 of 45). These functions will not be directly callable after loading.\n"
          ]
        },
        {
          "output_type": "execute_result",
          "data": {
            "text/plain": [
              "766090"
            ]
          },
          "metadata": {},
          "execution_count": 58
        }
      ]
    },
    {
      "cell_type": "code",
      "source": [
        "with open(dir+'resnet_super_forty_300epochs_44_V100.pickle', 'rb') as handle:\n",
        "    b1 = pickle.load(handle)\n",
        "b1[-3]"
      ],
      "metadata": {
        "colab": {
          "base_uri": "https://localhost:8080/"
        },
        "id": "7WskLQ8Iw7Me",
        "outputId": "e9cf6d37-dab0-4a5c-ca51-1663f3321447"
      },
      "execution_count": null,
      "outputs": [
        {
          "output_type": "execute_result",
          "data": {
            "text/plain": [
              "1113673"
            ]
          },
          "metadata": {},
          "execution_count": 66
        }
      ]
    }
  ]
}