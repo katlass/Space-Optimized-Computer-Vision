{
  "cells": [
    {
      "cell_type": "markdown",
      "source": [
        "# Training a SuperModel\n",
        "In this project we set out to optimize convolution neural networks through exploring the techniques of data augmentation, pruning, quantization and synchronous training on Cifar100 image dataset. <br>\n",
        "Testing specifications: <br>\n",
        "For data augmentation, images were shifted horizontally or vertically 10% of the time and also flipped horizontally at random. Also, the training data is normalized, which has been\n",
        "shown to improve accuracy. Batch size is equal to 128 and trained for 300\n",
        "epochs, utilizing an exponentially decaying learning rate strategy shown in class and adam optimizer. The\n",
        "winning strategy was polynomial decaying of the sparsity, starting at 50% sparsity and ending at 60%\n",
        "sparsity."
      ],
      "metadata": {
        "id": "-E6ql44yLWS4"
      }
    },
    {
      "cell_type": "markdown",
      "source": [
        "## Installs"
      ],
      "metadata": {
        "id": "72wFIG2cMhyD"
      }
    },
    {
      "cell_type": "code",
      "execution_count": null,
      "metadata": {
        "colab": {
          "base_uri": "https://localhost:8080/"
        },
        "id": "UmCFZ9uR6lyN",
        "outputId": "67d18fc5-6fe6-47fc-83d1-97d707f93652"
      },
      "outputs": [
        {
          "name": "stdout",
          "output_type": "stream",
          "text": [
            "Collecting tensorflow-model-optimization\n",
            "  Downloading tensorflow_model_optimization-0.7.3-py2.py3-none-any.whl (238 kB)\n",
            "\u001b[2K     \u001b[90m━━━━━━━━━━━━━━━━━━━━━━━━━━━━━━━━━━━━━━━\u001b[0m \u001b[32m238.9/238.9 kB\u001b[0m \u001b[31m7.0 MB/s\u001b[0m eta \u001b[36m0:00:00\u001b[0m\n",
            "\u001b[?25hRequirement already satisfied: numpy~=1.14 in /opt/conda/lib/python3.7/site-packages (from tensorflow-model-optimization) (1.21.6)\n",
            "Requirement already satisfied: six~=1.10 in /opt/conda/lib/python3.7/site-packages (from tensorflow-model-optimization) (1.16.0)\n",
            "Requirement already satisfied: dm-tree~=0.1.1 in /opt/conda/lib/python3.7/site-packages (from tensorflow-model-optimization) (0.1.7)\n",
            "Installing collected packages: tensorflow-model-optimization\n",
            "Successfully installed tensorflow-model-optimization-0.7.3\n"
          ]
        }
      ],
      "source": [
        "!pip install tensorflow-model-optimization"
      ]
    },
    {
      "cell_type": "code",
      "execution_count": null,
      "metadata": {
        "id": "Cqsw0IP65J9B"
      },
      "outputs": [],
      "source": [
        "from __future__ import print_function\n",
        "import keras\n",
        "import tempfile\n",
        "from keras.layers import Dense, Conv2D, BatchNormalization, Activation\n",
        "from keras.layers import AveragePooling2D, Input, Flatten\n",
        "from keras.optimizers import Adam\n",
        "from keras.callbacks import ModelCheckpoint, LearningRateScheduler\n",
        "from keras.callbacks import ReduceLROnPlateau\n",
        "from keras.callbacks import CSVLogger  #, UpdatePruningStep\n",
        "from keras.preprocessing.image import ImageDataGenerator\n",
        "from keras.regularizers import l2\n",
        "from keras import backend as K\n",
        "from keras.models import Model\n",
        "from keras.datasets import cifar10\n",
        "from tensorflow_model_optimization.python.core.sparsity.keras import pruning_callbacks\n",
        "import tensorflow_model_optimization as tfmot\n",
        "import numpy as np\n",
        "import time\n",
        "import os\n",
        "import pickle\n",
        "from keras.datasets import cifar100\n",
        "import tensorflow as tf\n",
        "import multiprocessing\n",
        "import os\n",
        "import random\n",
        "%load_ext tensorboard"
      ]
    },
    {
      "cell_type": "markdown",
      "source": [
        "## Model Setup"
      ],
      "metadata": {
        "id": "f1mfoO_CMjvT"
      }
    },
    {
      "cell_type": "code",
      "execution_count": null,
      "metadata": {
        "id": "f3u6BwEZ5Ngo"
      },
      "outputs": [],
      "source": [
        "# timing per epoch iteration\n",
        "class TimeHistory(keras.callbacks.Callback):\n",
        "    def on_train_begin(self, logs={}):\n",
        "        self.times = []\n",
        "\n",
        "    def on_epoch_begin(self, batch, logs={}):\n",
        "        self.epoch_time_start = time.time()\n",
        "\n",
        "    def on_epoch_end(self, batch, logs={}):\n",
        "        self.times.append(time.time() - self.epoch_time_start)"
      ]
    },
    {
      "cell_type": "code",
      "execution_count": null,
      "metadata": {
        "id": "OJNDDDzn5Qyy",
        "outputId": "155abd49-1dab-4d05-a33d-9aa8be71cf9c"
      },
      "outputs": [
        {
          "name": "stderr",
          "output_type": "stream",
          "text": [
            "2022-12-17 05:32:31.905911: I tensorflow/stream_executor/cuda/cuda_gpu_executor.cc:980] successful NUMA node read from SysFS had negative value (-1), but there must be at least one NUMA node, so returning NUMA node zero\n",
            "2022-12-17 05:32:32.841486: I tensorflow/stream_executor/cuda/cuda_gpu_executor.cc:980] successful NUMA node read from SysFS had negative value (-1), but there must be at least one NUMA node, so returning NUMA node zero\n",
            "2022-12-17 05:32:32.841970: I tensorflow/stream_executor/cuda/cuda_gpu_executor.cc:980] successful NUMA node read from SysFS had negative value (-1), but there must be at least one NUMA node, so returning NUMA node zero\n",
            "2022-12-17 05:32:33.024132: I tensorflow/core/platform/cpu_feature_guard.cc:193] This TensorFlow binary is optimized with oneAPI Deep Neural Network Library (oneDNN) to use the following CPU instructions in performance-critical operations:  AVX2 FMA\n",
            "To enable them in other operations, rebuild TensorFlow with the appropriate compiler flags.\n",
            "2022-12-17 05:32:33.049520: I tensorflow/stream_executor/cuda/cuda_gpu_executor.cc:980] successful NUMA node read from SysFS had negative value (-1), but there must be at least one NUMA node, so returning NUMA node zero\n",
            "2022-12-17 05:32:33.049908: I tensorflow/stream_executor/cuda/cuda_gpu_executor.cc:980] successful NUMA node read from SysFS had negative value (-1), but there must be at least one NUMA node, so returning NUMA node zero\n",
            "2022-12-17 05:32:33.050101: I tensorflow/stream_executor/cuda/cuda_gpu_executor.cc:980] successful NUMA node read from SysFS had negative value (-1), but there must be at least one NUMA node, so returning NUMA node zero\n",
            "2022-12-17 05:32:40.377643: I tensorflow/stream_executor/cuda/cuda_gpu_executor.cc:980] successful NUMA node read from SysFS had negative value (-1), but there must be at least one NUMA node, so returning NUMA node zero\n",
            "2022-12-17 05:32:40.399836: I tensorflow/stream_executor/cuda/cuda_gpu_executor.cc:980] successful NUMA node read from SysFS had negative value (-1), but there must be at least one NUMA node, so returning NUMA node zero\n",
            "2022-12-17 05:32:40.400280: I tensorflow/stream_executor/cuda/cuda_gpu_executor.cc:980] successful NUMA node read from SysFS had negative value (-1), but there must be at least one NUMA node, so returning NUMA node zero\n",
            "2022-12-17 05:32:40.400484: I tensorflow/core/common_runtime/gpu/gpu_device.cc:1616] Created device /job:localhost/replica:0/task:0/device:GPU:0 with 14626 MB memory:  -> device: 0, name: Tesla V100-SXM2-16GB, pci bus id: 0000:00:04.0, compute capability: 7.0\n"
          ]
        }
      ],
      "source": [
        "# using data sharding, one divide strategy for single GPU distributed training. \n",
        "# the OneDeviceStrategy places variables and computation on a single specified device.\n",
        "strategy = tf.distribute.OneDeviceStrategy(device=\"/gpu:0\")  #   tf.distribute.experimental.CentralStorageStrategy()   #tf.distribute.MirroredStrategy()"
      ]
    },
    {
      "cell_type": "code",
      "execution_count": null,
      "metadata": {
        "id": "8xlQL90G5SzL"
      },
      "outputs": [],
      "source": [
        "# define builder function for resnet layers\n",
        "def resnet_layer(inputs,\n",
        "                 num_filters=16,\n",
        "                 kernel_size=3,\n",
        "                 strides=1,\n",
        "                 activation='relu',\n",
        "                 batch_normalization=True,\n",
        "                 conv_first=True):\n",
        "    \"\"\"2D Convolution-Batch Normalization-Activation stack builder\n",
        "\n",
        "    # Arguments\n",
        "        inputs (tensor): input tensor from input image or previous layer\n",
        "        num_filters (int): Conv2D number of filters\n",
        "        kernel_size (int): Conv2D square kernel dimensions\n",
        "        strides (int): Conv2D square stride dimensions\n",
        "        activation (string): activation name\n",
        "        batch_normalization (bool): whether to include batch normalization\n",
        "        conv_first (bool): conv-bn-activation (True) or\n",
        "            bn-activation-conv (False)\n",
        "\n",
        "    # Returns\n",
        "        x (tensor): tensor as input to the next layer\n",
        "    \"\"\"\n",
        "    conv = Conv2D(num_filters,\n",
        "                  kernel_size=kernel_size,\n",
        "                  strides=strides,\n",
        "                  padding='same',\n",
        "                  kernel_initializer='he_normal',\n",
        "                  kernel_regularizer=l2(1e-4))\n",
        "\n",
        "    x = inputs\n",
        "    if conv_first:\n",
        "        x = conv(x)\n",
        "        if batch_normalization:\n",
        "            x = BatchNormalization()(x)\n",
        "        if activation is not None:\n",
        "            x = Activation(activation)(x)\n",
        "    else:\n",
        "        if batch_normalization:\n",
        "            x = BatchNormalization()(x)\n",
        "        if activation is not None:\n",
        "            x = Activation(activation)(x)\n",
        "        x = conv(x)\n",
        "    return x"
      ]
    },
    {
      "cell_type": "code",
      "execution_count": null,
      "metadata": {
        "id": "q0qeB2wJ5nsX"
      },
      "outputs": [],
      "source": [
        "# actual resnet code\n",
        "def resnet_v1(input_shape, depth, num_classes=10):\n",
        "    \"\"\"ResNet Version 1 Model builder [a]\n",
        "\n",
        "    Stacks of 2 x (3 x 3) Conv2D-BN-ReLU\n",
        "    Last ReLU is after the shortcut connection.\n",
        "    At the beginning of each stage, the feature map size is halved (downsampled)\n",
        "    by a convolutional layer with strides=2, while the number of filters is\n",
        "    doubled. Within each stage, the layers have the same number filters and the\n",
        "    same number of filters.\n",
        "    Features maps sizes:\n",
        "    stage 0: 32x32, 16\n",
        "    stage 1: 16x16, 32\n",
        "    stage 2:  8x8,  64\n",
        "    The Number of parameters is approx the same as Table 6 of [a]:\n",
        "    ResNet20 0.27M\n",
        "    ResNet32 0.46M\n",
        "    ResNet44 0.66M\n",
        "    ResNet56 0.85M\n",
        "    ResNet110 1.7M\n",
        "\n",
        "    # Arguments\n",
        "        input_shape (tensor): shape of input image tensor\n",
        "        depth (int): number of core convolutional layers\n",
        "        num_classes (int): number of classes (CIFAR10 has 10)\n",
        "\n",
        "    # Returns\n",
        "        model (Model): Keras model instance\n",
        "    \"\"\"\n",
        "    if (depth - 2) % 6 != 0:\n",
        "        raise ValueError('depth should be 6n+2 (eg 20, 32, 44 in [a])')\n",
        "    # Start model definition.\n",
        "    num_filters = 16\n",
        "    num_res_blocks = int((depth - 2) / 6)\n",
        "\n",
        "    inputs = Input(shape=input_shape)\n",
        "    x = resnet_layer(inputs=inputs)\n",
        "    # Instantiate the stack of residual units\n",
        "    for stack in range(3):\n",
        "        for res_block in range(num_res_blocks):\n",
        "            strides = 1\n",
        "            if stack > 0 and res_block == 0:  # first layer but not first stack\n",
        "                strides = 2  # downsample\n",
        "            y = resnet_layer(inputs=x,\n",
        "                             num_filters=num_filters,\n",
        "                             strides=strides)\n",
        "            y = resnet_layer(inputs=y,\n",
        "                             num_filters=num_filters,\n",
        "                             activation=None)\n",
        "            if stack > 0 and res_block == 0:  # first layer but not first stack\n",
        "                # linear projection residual shortcut connection to match\n",
        "                # changed dims\n",
        "                x = resnet_layer(inputs=x,\n",
        "                                 num_filters=num_filters,\n",
        "                                 kernel_size=1,\n",
        "                                 strides=strides,\n",
        "                                 activation=None,\n",
        "                                 batch_normalization=False)\n",
        "            x = keras.layers.add([x, y])\n",
        "            x = Activation('relu')(x)\n",
        "        num_filters *= 2\n",
        "\n",
        "    # Add classifier on top.\n",
        "    # v1 does not use BN after last shortcut connection-ReLU\n",
        "    x = AveragePooling2D(pool_size=8)(x)\n",
        "    y = Flatten()(x)\n",
        "    outputs = Dense(num_classes,\n",
        "                    activation='softmax',\n",
        "                    kernel_initializer='he_normal')(y)\n",
        "    # Instantiate model.\n",
        "    model = Model(inputs=inputs, outputs=outputs)\n",
        "    return model"
      ]
    },
    {
      "cell_type": "code",
      "execution_count": null,
      "metadata": {
        "id": "KI--slgF5-D0"
      },
      "outputs": [],
      "source": [
        "# Learning rate scheduler \n",
        "def lr_schedule(epoch):\n",
        "    \"\"\"Learning Rate Schedule\n",
        "\n",
        "    Learning rate is scheduled to be reduced after 80, 120, 160, 180 epochs.\n",
        "    Called automatically every epoch as part of callbacks during training.\n",
        "\n",
        "    # Arguments\n",
        "        epoch (int): The number of epochs\n",
        "\n",
        "    # Returns\n",
        "        lr (float32): learning rate\n",
        "    \"\"\"\n",
        "    lr = 1e-3\n",
        "    if epoch > 180:\n",
        "        lr *= 0.5e-3\n",
        "    elif epoch > 160:\n",
        "        lr *= 1e-3\n",
        "    elif epoch > 120:\n",
        "        lr *= 1e-2\n",
        "    elif epoch > 80:\n",
        "        lr *= 1e-1\n",
        "    print('Learning rate: ', lr)\n",
        "    return lr"
      ]
    },
    {
      "cell_type": "code",
      "execution_count": null,
      "metadata": {
        "id": "jtXh5ajC6AKC"
      },
      "outputs": [],
      "source": [
        "# tflite conversion\n",
        "def tflite_conv(model,path,quant=False):\n",
        "    converter = tf.lite.TFLiteConverter.from_keras_model(model)\n",
        "    if quant == True:\n",
        "        converter.optimizations = [tf.lite.Optimize.DEFAULT]\n",
        "    pruned_tflite_model = converter.convert()\n",
        "    with open(path, 'wb') as f:\n",
        "      f.write(pruned_tflite_model)\n",
        "    print('Saved pruned TFLite model to:',path)"
      ]
    },
    {
      "cell_type": "code",
      "execution_count": null,
      "metadata": {
        "id": "GQ4jU6PM6CJV"
      },
      "outputs": [],
      "source": [
        "# returns size of gzipped model, in bytes.\n",
        "def get_gzipped_model_size(file):\n",
        "    _, zipped_file = tempfile.mkstemp('.zip')\n",
        "    with zipfile.ZipFile(zipped_file, 'w', compression=zipfile.ZIP_DEFLATED) as f:\n",
        "        f.write(file)\n",
        "\n",
        "    return os.path.getsize(zipped_file)"
      ]
    },
    {
      "cell_type": "code",
      "execution_count": null,
      "metadata": {
        "id": "TqbzgNzq6EQB",
        "outputId": "b09f407c-f067-4af3-cf3c-e79a3efa8d50"
      },
      "outputs": [
        {
          "data": {
            "text/plain": [
              "1"
            ]
          },
          "execution_count": 12,
          "metadata": {},
          "output_type": "execute_result"
        }
      ],
      "source": [
        "# number of model replicas\n",
        "strategy.num_replicas_in_sync"
      ]
    },
    {
      "cell_type": "code",
      "execution_count": null,
      "metadata": {
        "id": "J7YmlsR26M8G"
      },
      "outputs": [],
      "source": [
        "# actual trainer function\n",
        "def resnet_training(x_train,y_train,x_test, y_test,layers,frequency,\\\n",
        "                    initial_sparsity,final_sparsity,gpu=\"T4\",\\\n",
        "                    const=True, poly=False,file_name='cifar10_test1',\\\n",
        "                    num_classes=10,begin_step=0,end_step='default'):\n",
        "\n",
        "    # Default parameters\n",
        "    batch_size = 128 * strategy.num_replicas_in_sync \n",
        "    epochs = 300\n",
        "    data_augmentation = True\n",
        "    n = layers\n",
        "\n",
        "    # Computed depth from supplied model parameter n\n",
        "    depth = n * 6 + 2\n",
        "\n",
        "    # Input image dimensions.\n",
        "    input_shape = x_train.shape[1:]\n",
        "\n",
        "    # Subtracting pixel mean improves accuracy\n",
        "    x_train_mean = np.mean(x_train, axis=0)\n",
        "    x_train -= x_train_mean\n",
        "    x_test -= x_train_mean\n",
        "\n",
        "    print('x_train shape:', x_train.shape)\n",
        "    print(x_train.shape[0], 'train samples')\n",
        "    print(x_test.shape[0], 'test samples')\n",
        "    print('y_train shape:', y_train.shape)\n",
        "\n",
        "    ####Changes start#####\n",
        "    num_images = x_train.shape[0] #* (1 - validation_split)\n",
        "\n",
        "    if end_step == 'default':\n",
        "        end_step = np.ceil(num_images / batch_size).astype(np.int32) * epochs\n",
        "\n",
        "    #hyperparameters: initial_sparsity=0.50, final_sparsity=0.80\n",
        "    if poly:\n",
        "        pruning_params = {\n",
        "              'pruning_schedule': tfmot.sparsity.keras.PolynomialDecay(initial_sparsity=initial_sparsity,\n",
        "                                                                       final_sparsity=final_sparsity,\n",
        "                                                                       begin_step=begin_step,\n",
        "                                                                       end_step=end_step,\n",
        "                                                                      frequency=frequency)\n",
        "        }\n",
        "    if const:\n",
        "            pruning_params = {\n",
        "              'pruning_schedule': tfmot.sparsity.keras.ConstantSparsity(target_sparsity=final_sparsity,\n",
        "                                                                       begin_step=begin_step,\n",
        "                                                                       end_step=end_step,\n",
        "                                                                       frequency=frequency)\n",
        "        }\n",
        "\n",
        "    prune_low_magnitude = tfmot.sparsity.keras.prune_low_magnitude\n",
        "    with strategy.scope():\n",
        "        model = resnet_v1(input_shape=input_shape, depth=depth,num_classes=num_classes)\n",
        "        model = prune_low_magnitude(model, **pruning_params)    #_for_pruning\n",
        "\n",
        "        model.compile(loss= 'categorical_crossentropy',     #''  tf.  keras.losses.SparseCategoricalCrossentropy(from_logits=True)\n",
        "                  optimizer=Adam(lr=lr_schedule(0)),\n",
        "                  metrics=['accuracy'])\n",
        "    ####Changes end#####\n",
        "    model.summary()\n",
        "\n",
        "    # Prepare model model saving directory.\n",
        "    save_dir = os.path.join(os.getcwd(), 'saved_models')\n",
        "    if not os.path.isdir(save_dir):\n",
        "        os.makedirs(save_dir)\n",
        "\n",
        "    model_run=file_name+'_'+str(depth)+'_'+gpu\n",
        "    model_path=model_run+'.h5'\n",
        "    print(\"RRrrrrrR\",model_path)\n",
        "    \n",
        "    filepath = os.path.join(save_dir, model_path)\n",
        "    print(\"RRR\",filepath)\n",
        "    \n",
        "    print(model_run)\n",
        "\n",
        "    # Prepare callbacks for model saving and for learning rate adjustment.\n",
        "    checkpoint = ModelCheckpoint(filepath=filepath,\n",
        "                                 monitor='val_acc',\n",
        "                                 verbose=1,\n",
        "                                 save_best_only=True)\n",
        "\n",
        "    lr_scheduler = LearningRateScheduler(lr_schedule)\n",
        "\n",
        "    lr_reducer = ReduceLROnPlateau(factor=np.sqrt(0.1),\n",
        "                                   cooldown=0,\n",
        "                                   patience=5,\n",
        "                                   min_lr=0.5e-6)\n",
        "    logdir = tempfile.mkdtemp()\n",
        "    time_callback = TimeHistory()\n",
        "    logname='/home/jupyter/final_proj/log_'+model_run+'.csv'\n",
        "    csv_logger = CSVLogger(logname, append=True, separator=';')\n",
        "    callbacks = [checkpoint, lr_reducer, lr_scheduler, csv_logger, time_callback, pruning_callbacks.UpdatePruningStep(), tfmot.sparsity.keras.PruningSummaries(log_dir=logdir)]\n",
        "\n",
        "    st = time.time()\n",
        "    ######################## no augmentation################\n",
        "    # model.fit(x_train, y_train,\n",
        "    #           batch_size=batch_size,\n",
        "    #           epochs=epochs,\n",
        "    #           validation_data=(x_test, y_test),\n",
        "    #           shuffle=True,\n",
        "    #           callbacks=callbacks)\n",
        "    ######################## no augmentation################\n",
        "\n",
        "    ########################augmentation################\n",
        "    datagen = ImageDataGenerator(\n",
        "          # set input mean to 0 over the dataset\n",
        "          featurewise_center=False,\n",
        "          # set each sample mean to 0\n",
        "          samplewise_center=False,\n",
        "          # divide inputs by std of dataset\n",
        "          featurewise_std_normalization=False,\n",
        "          # divide each input by its std\n",
        "          samplewise_std_normalization=False,\n",
        "          # apply ZCA whitening\n",
        "          zca_whitening=False,\n",
        "          # epsilon for ZCA whitening\n",
        "          zca_epsilon=1e-06,\n",
        "          # randomly rotate images in the range (deg 0 to 180)\n",
        "          rotation_range=0,\n",
        "          # randomly shift images horizontally\n",
        "          width_shift_range=0.1,\n",
        "          # randomly shift images vertically\n",
        "          height_shift_range=0.1,\n",
        "          # set range for random shear\n",
        "          shear_range=0.,\n",
        "          # set range for random zoom\n",
        "          zoom_range=0.,\n",
        "          # set range for random channel shifts\n",
        "          channel_shift_range=0.,\n",
        "          # set mode for filling points outside the input boundaries\n",
        "          fill_mode='nearest',\n",
        "          # value used for fill_mode = \"constant\"\n",
        "          cval=0.,\n",
        "          # randomly flip images\n",
        "          horizontal_flip=True,\n",
        "          # randomly flip images\n",
        "          vertical_flip=False,\n",
        "          # set rescaling factor (applied before any other transformation)\n",
        "          rescale=None,\n",
        "          # set function that will be applied on each input\n",
        "          preprocessing_function=None,\n",
        "          # image data format, either \"channels_first\" or \"channels_last\"\n",
        "          data_format=None,\n",
        "          # fraction of images reserved for validation (strictly between 0 and 1)\n",
        "          validation_split=0.0)\n",
        "          \n",
        "    datagen.fit(x_train)\n",
        "\n",
        "    # Fit the model on the batches generated by datagen.flow().\n",
        "    model.fit_generator(datagen.flow(x_train, y_train, batch_size=batch_size),\n",
        "                        validation_data=(x_test, y_test),\n",
        "                        epochs=epochs, verbose=1, \n",
        "                        callbacks=callbacks)\n",
        "     \n",
        "     ########################augmentation################\n",
        "\n",
        "    %tensorboard --logdir={logdir}\n",
        "    training_time = time.time() - st\n",
        "\n",
        "    print(f\"overall training time is {training_time}\")\n",
        "    epoch_times = time_callback.times\n",
        "    print(f\"each epoch training time is {epoch_times}\")\n",
        "\n",
        "    # Score trained model.\n",
        "    scores = model.evaluate(x_test, y_test, verbose=1)\n",
        "    print('Test loss:', scores[0])\n",
        "    print('Test accuracy:', scores[1])\n",
        "    print(\"tt\",save_dir+'/'+model_run)\n",
        "    \n",
        "    #save standard model \n",
        "    model.save(save_dir+'/'+model_path)\n",
        "    \n",
        "    #saving data \n",
        "    with open(model_run+'.pickle', 'wb') as handle:\n",
        "        pickle.dump([training_time,epoch_times,scores[0],scores[1]], handle)\n",
        "\n",
        "    #save pruned model\n",
        "    model_for_export = tfmot.sparsity.keras.strip_pruning(model)\n",
        "    pruned_keras_file = save_dir+'/PRUNE_'+model_path\n",
        "    keras.models.save_model(model_for_export, pruned_keras_file, include_optimizer=False)\n",
        "    print('Saved pruned Keras model to:', pruned_keras_file)\n",
        "    \n",
        "    #convert to tflite+ save\n",
        "    pruned_tflite_file=save_dir+'/lite_PRUNE_'+model_path\n",
        "    tflite_conv(model,pruned_tflite_file)\n",
        "    \n",
        "    #save to tf lite + qaunt\n",
        "    pruned_tflite_quant_file=save_dir+'/lite_quant_PRUNE_'+model_path\n",
        "    tflite_conv(model,pruned_tflite_quant_file,quant=True)\n",
        "    \n",
        "    pruned=get_gzipped_model_size(pruned_keras_file)\n",
        "    tflite_pruned=get_gzipped_model_size(pruned_tflite_file)\n",
        "    tflite_quant_pruned=get_gzipped_model_size(pruned_tflite_quant_file)\n",
        "    \n",
        "    \n",
        "    print(\"Size of gzipped pruned Keras model: %.2f bytes\" % (pruned))\n",
        "    print(\"Size of gzipped pruned TFlite model: %.2f bytes\" % (tflite_pruned))\n",
        "    print(\"Size of gzipped pruned and quantized TFlite model: %.2f bytes\" % (tflite_quant_pruned))\n",
        "    \n",
        "    with open(model_run+'.pickle', 'wb') as handle:\n",
        "        pickle.dump([training_time,epoch_times,scores[0],scores[1],pruned,tflite_pruned,tflite_quant_pruned], handle)\n",
        "\n",
        "    return(model,model_path)"
      ]
    },
    {
      "cell_type": "markdown",
      "source": [
        "## Data: loading and preparation"
      ],
      "metadata": {
        "id": "s0cNgVmkNpne"
      }
    },
    {
      "cell_type": "code",
      "execution_count": null,
      "metadata": {
        "id": "XRxSJSxR6QKd",
        "outputId": "1566354f-1d3e-451d-99c7-48e81ab5cc6a"
      },
      "outputs": [
        {
          "name": "stdout",
          "output_type": "stream",
          "text": [
            "Downloading data from https://www.cs.toronto.edu/~kriz/cifar-100-python.tar.gz\n",
            "169001437/169001437 [==============================] - 2s 0us/step\n"
          ]
        }
      ],
      "source": [
        "# Load the CIFAR100 data.\n",
        "(X_train, Y_train), (X_test, Y_test) = cifar100.load_data()\n",
        "# Normalize data.\n",
        "X_train = X_train.astype('float32') / 255\n",
        "X_test = X_test.astype('float32') / 255\n",
        "# Convert class vectors to binary class matrices.\n",
        "Y_train = keras.utils.to_categorical(Y_train)\n",
        "Y_test = keras.utils.to_categorical(Y_test)"
      ]
    },
    {
      "cell_type": "markdown",
      "source": [
        "## Running super model with 60% final sparsity on Cifar100 with Resnet 20 and 44:"
      ],
      "metadata": {
        "id": "MLQ7VzaLLD-E"
      }
    },
    {
      "cell_type": "code",
      "execution_count": null,
      "metadata": {
        "colab": {
          "base_uri": "https://localhost:8080/"
        },
        "id": "mVVvxo1P6T2o",
        "outputId": "100386a8-40c4-4576-b759-69831fcee326"
      },
      "outputs": [
        {
          "name": "stdout",
          "output_type": "stream",
          "text": [
            "x_train shape: (50000, 32, 32, 3)\n",
            "50000 train samples\n",
            "10000 test samples\n",
            "y_train shape: (50000, 100)\n",
            "Learning rate:  0.001\n",
            "Model: \"model_2\"\n",
            "__________________________________________________________________________________________________\n",
            " Layer (type)                   Output Shape         Param #     Connected to                     \n",
            "==================================================================================================\n",
            " input_3 (InputLayer)           [(None, 32, 32, 3)]  0           []                               \n",
            "                                                                                                  \n",
            " prune_low_magnitude_conv2d_66   (None, 32, 32, 16)  882         ['input_3[0][0]']                \n",
            " (PruneLowMagnitude)                                                                              \n",
            "                                                                                                  \n",
            " prune_low_magnitude_batch_norm  (None, 32, 32, 16)  65          ['prune_low_magnitude_conv2d_66[0\n",
            " alization_62 (PruneLowMagnitud                                  ][0]']                           \n",
            " e)                                                                                               \n",
            "                                                                                                  \n",
            " prune_low_magnitude_activation  (None, 32, 32, 16)  1           ['prune_low_magnitude_batch_norma\n",
            " _62 (PruneLowMagnitude)                                         lization_62[0][0]']              \n",
            "                                                                                                  \n",
            " prune_low_magnitude_conv2d_67   (None, 32, 32, 16)  4626        ['prune_low_magnitude_activation_\n",
            " (PruneLowMagnitude)                                             62[0][0]']                       \n",
            "                                                                                                  \n",
            " prune_low_magnitude_batch_norm  (None, 32, 32, 16)  65          ['prune_low_magnitude_conv2d_67[0\n",
            " alization_63 (PruneLowMagnitud                                  ][0]']                           \n",
            " e)                                                                                               \n",
            "                                                                                                  \n",
            " prune_low_magnitude_activation  (None, 32, 32, 16)  1           ['prune_low_magnitude_batch_norma\n",
            " _63 (PruneLowMagnitude)                                         lization_63[0][0]']              \n",
            "                                                                                                  \n",
            " prune_low_magnitude_conv2d_68   (None, 32, 32, 16)  4626        ['prune_low_magnitude_activation_\n",
            " (PruneLowMagnitude)                                             63[0][0]']                       \n",
            "                                                                                                  \n",
            " prune_low_magnitude_batch_norm  (None, 32, 32, 16)  65          ['prune_low_magnitude_conv2d_68[0\n",
            " alization_64 (PruneLowMagnitud                                  ][0]']                           \n",
            " e)                                                                                               \n",
            "                                                                                                  \n",
            " prune_low_magnitude_add_30 (Pr  (None, 32, 32, 16)  1           ['prune_low_magnitude_activation_\n",
            " uneLowMagnitude)                                                62[0][0]',                       \n",
            "                                                                  'prune_low_magnitude_batch_norma\n",
            "                                                                 lization_64[0][0]']              \n",
            "                                                                                                  \n",
            " prune_low_magnitude_activation  (None, 32, 32, 16)  1           ['prune_low_magnitude_add_30[0][0\n",
            " _64 (PruneLowMagnitude)                                         ]']                              \n",
            "                                                                                                  \n",
            " prune_low_magnitude_conv2d_69   (None, 32, 32, 16)  4626        ['prune_low_magnitude_activation_\n",
            " (PruneLowMagnitude)                                             64[0][0]']                       \n",
            "                                                                                                  \n",
            " prune_low_magnitude_batch_norm  (None, 32, 32, 16)  65          ['prune_low_magnitude_conv2d_69[0\n",
            " alization_65 (PruneLowMagnitud                                  ][0]']                           \n",
            " e)                                                                                               \n",
            "                                                                                                  \n",
            " prune_low_magnitude_activation  (None, 32, 32, 16)  1           ['prune_low_magnitude_batch_norma\n",
            " _65 (PruneLowMagnitude)                                         lization_65[0][0]']              \n",
            "                                                                                                  \n",
            " prune_low_magnitude_conv2d_70   (None, 32, 32, 16)  4626        ['prune_low_magnitude_activation_\n",
            " (PruneLowMagnitude)                                             65[0][0]']                       \n",
            "                                                                                                  \n",
            " prune_low_magnitude_batch_norm  (None, 32, 32, 16)  65          ['prune_low_magnitude_conv2d_70[0\n",
            " alization_66 (PruneLowMagnitud                                  ][0]']                           \n",
            " e)                                                                                               \n",
            "                                                                                                  \n",
            " prune_low_magnitude_add_31 (Pr  (None, 32, 32, 16)  1           ['prune_low_magnitude_activation_\n",
            " uneLowMagnitude)                                                64[0][0]',                       \n",
            "                                                                  'prune_low_magnitude_batch_norma\n",
            "                                                                 lization_66[0][0]']              \n",
            "                                                                                                  \n",
            " prune_low_magnitude_activation  (None, 32, 32, 16)  1           ['prune_low_magnitude_add_31[0][0\n",
            " _66 (PruneLowMagnitude)                                         ]']                              \n",
            "                                                                                                  \n",
            " prune_low_magnitude_conv2d_71   (None, 32, 32, 16)  4626        ['prune_low_magnitude_activation_\n",
            " (PruneLowMagnitude)                                             66[0][0]']                       \n",
            "                                                                                                  \n",
            " prune_low_magnitude_batch_norm  (None, 32, 32, 16)  65          ['prune_low_magnitude_conv2d_71[0\n",
            " alization_67 (PruneLowMagnitud                                  ][0]']                           \n",
            " e)                                                                                               \n",
            "                                                                                                  \n",
            " prune_low_magnitude_activation  (None, 32, 32, 16)  1           ['prune_low_magnitude_batch_norma\n",
            " _67 (PruneLowMagnitude)                                         lization_67[0][0]']              \n",
            "                                                                                                  \n",
            " prune_low_magnitude_conv2d_72   (None, 32, 32, 16)  4626        ['prune_low_magnitude_activation_\n",
            " (PruneLowMagnitude)                                             67[0][0]']                       \n",
            "                                                                                                  \n",
            " prune_low_magnitude_batch_norm  (None, 32, 32, 16)  65          ['prune_low_magnitude_conv2d_72[0\n",
            " alization_68 (PruneLowMagnitud                                  ][0]']                           \n",
            " e)                                                                                               \n",
            "                                                                                                  \n",
            " prune_low_magnitude_add_32 (Pr  (None, 32, 32, 16)  1           ['prune_low_magnitude_activation_\n",
            " uneLowMagnitude)                                                66[0][0]',                       \n",
            "                                                                  'prune_low_magnitude_batch_norma\n",
            "                                                                 lization_68[0][0]']              \n",
            "                                                                                                  \n",
            " prune_low_magnitude_activation  (None, 32, 32, 16)  1           ['prune_low_magnitude_add_32[0][0\n",
            " _68 (PruneLowMagnitude)                                         ]']                              \n",
            "                                                                                                  \n",
            " prune_low_magnitude_conv2d_73   (None, 16, 16, 32)  9250        ['prune_low_magnitude_activation_\n",
            " (PruneLowMagnitude)                                             68[0][0]']                       \n",
            "                                                                                                  \n",
            " prune_low_magnitude_batch_norm  (None, 16, 16, 32)  129         ['prune_low_magnitude_conv2d_73[0\n",
            " alization_69 (PruneLowMagnitud                                  ][0]']                           \n",
            " e)                                                                                               \n",
            "                                                                                                  \n",
            " prune_low_magnitude_activation  (None, 16, 16, 32)  1           ['prune_low_magnitude_batch_norma\n",
            " _69 (PruneLowMagnitude)                                         lization_69[0][0]']              \n",
            "                                                                                                  \n",
            " prune_low_magnitude_conv2d_74   (None, 16, 16, 32)  18466       ['prune_low_magnitude_activation_\n",
            " (PruneLowMagnitude)                                             69[0][0]']                       \n",
            "                                                                                                  \n",
            " prune_low_magnitude_conv2d_75   (None, 16, 16, 32)  1058        ['prune_low_magnitude_activation_\n",
            " (PruneLowMagnitude)                                             68[0][0]']                       \n",
            "                                                                                                  \n",
            " prune_low_magnitude_batch_norm  (None, 16, 16, 32)  129         ['prune_low_magnitude_conv2d_74[0\n",
            " alization_70 (PruneLowMagnitud                                  ][0]']                           \n",
            " e)                                                                                               \n",
            "                                                                                                  \n",
            " prune_low_magnitude_add_33 (Pr  (None, 16, 16, 32)  1           ['prune_low_magnitude_conv2d_75[0\n",
            " uneLowMagnitude)                                                ][0]',                           \n",
            "                                                                  'prune_low_magnitude_batch_norma\n",
            "                                                                 lization_70[0][0]']              \n",
            "                                                                                                  \n",
            " prune_low_magnitude_activation  (None, 16, 16, 32)  1           ['prune_low_magnitude_add_33[0][0\n",
            " _70 (PruneLowMagnitude)                                         ]']                              \n",
            "                                                                                                  \n",
            " prune_low_magnitude_conv2d_76   (None, 16, 16, 32)  18466       ['prune_low_magnitude_activation_\n",
            " (PruneLowMagnitude)                                             70[0][0]']                       \n",
            "                                                                                                  \n",
            " prune_low_magnitude_batch_norm  (None, 16, 16, 32)  129         ['prune_low_magnitude_conv2d_76[0\n",
            " alization_71 (PruneLowMagnitud                                  ][0]']                           \n",
            " e)                                                                                               \n",
            "                                                                                                  \n",
            " prune_low_magnitude_activation  (None, 16, 16, 32)  1           ['prune_low_magnitude_batch_norma\n",
            " _71 (PruneLowMagnitude)                                         lization_71[0][0]']              \n",
            "                                                                                                  \n",
            " prune_low_magnitude_conv2d_77   (None, 16, 16, 32)  18466       ['prune_low_magnitude_activation_\n",
            " (PruneLowMagnitude)                                             71[0][0]']                       \n",
            "                                                                                                  \n",
            " prune_low_magnitude_batch_norm  (None, 16, 16, 32)  129         ['prune_low_magnitude_conv2d_77[0\n",
            " alization_72 (PruneLowMagnitud                                  ][0]']                           \n",
            " e)                                                                                               \n",
            "                                                                                                  \n",
            " prune_low_magnitude_add_34 (Pr  (None, 16, 16, 32)  1           ['prune_low_magnitude_activation_\n",
            " uneLowMagnitude)                                                70[0][0]',                       \n",
            "                                                                  'prune_low_magnitude_batch_norma\n",
            "                                                                 lization_72[0][0]']              \n",
            "                                                                                                  \n",
            " prune_low_magnitude_activation  (None, 16, 16, 32)  1           ['prune_low_magnitude_add_34[0][0\n",
            " _72 (PruneLowMagnitude)                                         ]']                              \n",
            "                                                                                                  \n",
            " prune_low_magnitude_conv2d_78   (None, 16, 16, 32)  18466       ['prune_low_magnitude_activation_\n",
            " (PruneLowMagnitude)                                             72[0][0]']                       \n",
            "                                                                                                  \n",
            " prune_low_magnitude_batch_norm  (None, 16, 16, 32)  129         ['prune_low_magnitude_conv2d_78[0\n",
            " alization_73 (PruneLowMagnitud                                  ][0]']                           \n",
            " e)                                                                                               \n",
            "                                                                                                  \n",
            " prune_low_magnitude_activation  (None, 16, 16, 32)  1           ['prune_low_magnitude_batch_norma\n",
            " _73 (PruneLowMagnitude)                                         lization_73[0][0]']              \n",
            "                                                                                                  \n",
            " prune_low_magnitude_conv2d_79   (None, 16, 16, 32)  18466       ['prune_low_magnitude_activation_\n",
            " (PruneLowMagnitude)                                             73[0][0]']                       \n",
            "                                                                                                  \n",
            " prune_low_magnitude_batch_norm  (None, 16, 16, 32)  129         ['prune_low_magnitude_conv2d_79[0\n",
            " alization_74 (PruneLowMagnitud                                  ][0]']                           \n",
            " e)                                                                                               \n",
            "                                                                                                  \n",
            " prune_low_magnitude_add_35 (Pr  (None, 16, 16, 32)  1           ['prune_low_magnitude_activation_\n",
            " uneLowMagnitude)                                                72[0][0]',                       \n",
            "                                                                  'prune_low_magnitude_batch_norma\n",
            "                                                                 lization_74[0][0]']              \n",
            "                                                                                                  \n",
            " prune_low_magnitude_activation  (None, 16, 16, 32)  1           ['prune_low_magnitude_add_35[0][0\n",
            " _74 (PruneLowMagnitude)                                         ]']                              \n",
            "                                                                                                  \n",
            " prune_low_magnitude_conv2d_80   (None, 8, 8, 64)    36930       ['prune_low_magnitude_activation_\n",
            " (PruneLowMagnitude)                                             74[0][0]']                       \n",
            "                                                                                                  \n",
            " prune_low_magnitude_batch_norm  (None, 8, 8, 64)    257         ['prune_low_magnitude_conv2d_80[0\n",
            " alization_75 (PruneLowMagnitud                                  ][0]']                           \n",
            " e)                                                                                               \n",
            "                                                                                                  \n",
            " prune_low_magnitude_activation  (None, 8, 8, 64)    1           ['prune_low_magnitude_batch_norma\n",
            " _75 (PruneLowMagnitude)                                         lization_75[0][0]']              \n",
            "                                                                                                  \n",
            " prune_low_magnitude_conv2d_81   (None, 8, 8, 64)    73794       ['prune_low_magnitude_activation_\n",
            " (PruneLowMagnitude)                                             75[0][0]']                       \n",
            "                                                                                                  \n",
            " prune_low_magnitude_conv2d_82   (None, 8, 8, 64)    4162        ['prune_low_magnitude_activation_\n",
            " (PruneLowMagnitude)                                             74[0][0]']                       \n",
            "                                                                                                  \n",
            " prune_low_magnitude_batch_norm  (None, 8, 8, 64)    257         ['prune_low_magnitude_conv2d_81[0\n",
            " alization_76 (PruneLowMagnitud                                  ][0]']                           \n",
            " e)                                                                                               \n",
            "                                                                                                  \n",
            " prune_low_magnitude_add_36 (Pr  (None, 8, 8, 64)    1           ['prune_low_magnitude_conv2d_82[0\n",
            " uneLowMagnitude)                                                ][0]',                           \n",
            "                                                                  'prune_low_magnitude_batch_norma\n",
            "                                                                 lization_76[0][0]']              \n",
            "                                                                                                  \n",
            " prune_low_magnitude_activation  (None, 8, 8, 64)    1           ['prune_low_magnitude_add_36[0][0\n",
            " _76 (PruneLowMagnitude)                                         ]']                              \n",
            "                                                                                                  \n",
            " prune_low_magnitude_conv2d_83   (None, 8, 8, 64)    73794       ['prune_low_magnitude_activation_\n",
            " (PruneLowMagnitude)                                             76[0][0]']                       \n",
            "                                                                                                  \n"
          ]
        },
        {
          "name": "stderr",
          "output_type": "stream",
          "text": [
            "/opt/conda/lib/python3.7/site-packages/keras/optimizers/optimizer_v2/adam.py:114: UserWarning: The `lr` argument is deprecated, use `learning_rate` instead.\n",
            "  super().__init__(name, **kwargs)\n"
          ]
        },
        {
          "name": "stdout",
          "output_type": "stream",
          "text": [
            " prune_low_magnitude_batch_norm  (None, 8, 8, 64)    257         ['prune_low_magnitude_conv2d_83[0\n",
            " alization_77 (PruneLowMagnitud                                  ][0]']                           \n",
            " e)                                                                                               \n",
            "                                                                                                  \n",
            " prune_low_magnitude_activation  (None, 8, 8, 64)    1           ['prune_low_magnitude_batch_norma\n",
            " _77 (PruneLowMagnitude)                                         lization_77[0][0]']              \n",
            "                                                                                                  \n",
            " prune_low_magnitude_conv2d_84   (None, 8, 8, 64)    73794       ['prune_low_magnitude_activation_\n",
            " (PruneLowMagnitude)                                             77[0][0]']                       \n",
            "                                                                                                  \n",
            " prune_low_magnitude_batch_norm  (None, 8, 8, 64)    257         ['prune_low_magnitude_conv2d_84[0\n",
            " alization_78 (PruneLowMagnitud                                  ][0]']                           \n",
            " e)                                                                                               \n",
            "                                                                                                  \n",
            " prune_low_magnitude_add_37 (Pr  (None, 8, 8, 64)    1           ['prune_low_magnitude_activation_\n",
            " uneLowMagnitude)                                                76[0][0]',                       \n",
            "                                                                  'prune_low_magnitude_batch_norma\n",
            "                                                                 lization_78[0][0]']              \n",
            "                                                                                                  \n",
            " prune_low_magnitude_activation  (None, 8, 8, 64)    1           ['prune_low_magnitude_add_37[0][0\n",
            " _78 (PruneLowMagnitude)                                         ]']                              \n",
            "                                                                                                  \n",
            " prune_low_magnitude_conv2d_85   (None, 8, 8, 64)    73794       ['prune_low_magnitude_activation_\n",
            " (PruneLowMagnitude)                                             78[0][0]']                       \n",
            "                                                                                                  \n",
            " prune_low_magnitude_batch_norm  (None, 8, 8, 64)    257         ['prune_low_magnitude_conv2d_85[0\n",
            " alization_79 (PruneLowMagnitud                                  ][0]']                           \n",
            " e)                                                                                               \n",
            "                                                                                                  \n",
            " prune_low_magnitude_activation  (None, 8, 8, 64)    1           ['prune_low_magnitude_batch_norma\n",
            " _79 (PruneLowMagnitude)                                         lization_79[0][0]']              \n",
            "                                                                                                  \n",
            " prune_low_magnitude_conv2d_86   (None, 8, 8, 64)    73794       ['prune_low_magnitude_activation_\n",
            " (PruneLowMagnitude)                                             79[0][0]']                       \n",
            "                                                                                                  \n",
            " prune_low_magnitude_batch_norm  (None, 8, 8, 64)    257         ['prune_low_magnitude_conv2d_86[0\n",
            " alization_80 (PruneLowMagnitud                                  ][0]']                           \n",
            " e)                                                                                               \n",
            "                                                                                                  \n",
            " prune_low_magnitude_add_38 (Pr  (None, 8, 8, 64)    1           ['prune_low_magnitude_activation_\n",
            " uneLowMagnitude)                                                78[0][0]',                       \n",
            "                                                                  'prune_low_magnitude_batch_norma\n",
            "                                                                 lization_80[0][0]']              \n",
            "                                                                                                  \n",
            " prune_low_magnitude_activation  (None, 8, 8, 64)    1           ['prune_low_magnitude_add_38[0][0\n",
            " _80 (PruneLowMagnitude)                                         ]']                              \n",
            "                                                                                                  \n",
            " prune_low_magnitude_average_po  (None, 1, 1, 64)    1           ['prune_low_magnitude_activation_\n",
            " oling2d_2 (PruneLowMagnitude)                                   80[0][0]']                       \n",
            "                                                                                                  \n",
            " prune_low_magnitude_flatten_2   (None, 64)          1           ['prune_low_magnitude_average_poo\n",
            " (PruneLowMagnitude)                                             ling2d_2[0][0]']                 \n",
            "                                                                                                  \n",
            " prune_low_magnitude_dense_2 (P  (None, 100)         12902       ['prune_low_magnitude_flatten_2[0\n",
            " runeLowMagnitude)                                               ][0]']                           \n",
            "                                                                                                  \n",
            "==================================================================================================\n",
            "Total params: 557,041\n",
            "Trainable params: 278,916\n",
            "Non-trainable params: 278,125\n",
            "__________________________________________________________________________________________________\n",
            "RRrrrrrR resnet_super_twenty_20_V100.h5\n",
            "RRR /home/jupyter/saved_models/resnet_super_twenty_20_V100.h5\n",
            "resnet_super_twenty_20_V100\n"
          ]
        },
        {
          "name": "stderr",
          "output_type": "stream",
          "text": [
            "/opt/conda/lib/python3.7/site-packages/ipykernel_launcher.py:153: UserWarning: `Model.fit_generator` is deprecated and will be removed in a future version. Please use `Model.fit`, which supports generators.\n",
            "2022-12-17 05:49:05.087445: W tensorflow/core/grappler/optimizers/data/auto_shard.cc:776] AUTO sharding policy will apply DATA sharding policy as it failed to apply FILE sharding policy because of the following reason: Did not find a shardable source, walked to a node which is not a dataset: name: \"FlatMapDataset/_2\"\n",
            "op: \"FlatMapDataset\"\n",
            "input: \"TensorDataset/_1\"\n",
            "attr {\n",
            "  key: \"Targuments\"\n",
            "  value {\n",
            "    list {\n",
            "    }\n",
            "  }\n",
            "}\n",
            "attr {\n",
            "  key: \"_cardinality\"\n",
            "  value {\n",
            "    i: -2\n",
            "  }\n",
            "}\n",
            "attr {\n",
            "  key: \"f\"\n",
            "  value {\n",
            "    func {\n",
            "      name: \"__inference_Dataset_flat_map_flat_map_fn_627072\"\n",
            "    }\n",
            "  }\n",
            "}\n",
            "attr {\n",
            "  key: \"metadata\"\n",
            "  value {\n",
            "    s: \"\\n\\022FlatMapDataset:117\"\n",
            "  }\n",
            "}\n",
            "attr {\n",
            "  key: \"output_shapes\"\n",
            "  value {\n",
            "    list {\n",
            "      shape {\n",
            "        dim {\n",
            "          size: -1\n",
            "        }\n",
            "        dim {\n",
            "          size: -1\n",
            "        }\n",
            "        dim {\n",
            "          size: -1\n",
            "        }\n",
            "        dim {\n",
            "          size: -1\n",
            "        }\n",
            "      }\n",
            "      shape {\n",
            "        dim {\n",
            "          size: -1\n",
            "        }\n",
            "        dim {\n",
            "          size: -1\n",
            "        }\n",
            "      }\n",
            "    }\n",
            "  }\n",
            "}\n",
            "attr {\n",
            "  key: \"output_types\"\n",
            "  value {\n",
            "    list {\n",
            "      type: DT_FLOAT\n",
            "      type: DT_FLOAT\n",
            "    }\n",
            "  }\n",
            "}\n",
            "experimental_type {\n",
            "  type_id: TFT_PRODUCT\n",
            "  args {\n",
            "    type_id: TFT_DATASET\n",
            "    args {\n",
            "      type_id: TFT_PRODUCT\n",
            "      args {\n",
            "        type_id: TFT_TENSOR\n",
            "        args {\n",
            "          type_id: TFT_FLOAT\n",
            "        }\n",
            "      }\n",
            "      args {\n",
            "        type_id: TFT_TENSOR\n",
            "        args {\n",
            "          type_id: TFT_FLOAT\n",
            "        }\n",
            "      }\n",
            "    }\n",
            "  }\n",
            "}\n",
            ". Consider either turning off auto-sharding or switching the auto_shard_policy to DATA to shard this dataset. You can do this by creating a new `tf.data.Options()` object then setting `options.experimental_distribute.auto_shard_policy = AutoShardPolicy.DATA` before applying the options object to the dataset via `dataset.with_options(options)`.\n"
          ]
        },
        {
          "name": "stdout",
          "output_type": "stream",
          "text": [
            "Learning rate:  0.001\n",
            "Epoch 1/300\n",
            "  6/391 [..............................] - ETA: 18s - loss: 6.5235 - accuracy: 0.0143  WARNING:tensorflow:Callback method `on_train_batch_end` is slow compared to the batch time (batch time: 0.0431s vs `on_train_batch_end` time: 0.1009s). Check your callbacks.\n"
          ]
        },
        {
          "name": "stderr",
          "output_type": "stream",
          "text": [
            "WARNING:tensorflow:Callback method `on_train_batch_end` is slow compared to the batch time (batch time: 0.0431s vs `on_train_batch_end` time: 0.1009s). Check your callbacks.\n"
          ]
        },
        {
          "name": "stdout",
          "output_type": "stream",
          "text": [
            "391/391 [==============================] - ETA: 0s - loss: 4.2034 - accuracy: 0.0924WARNING:tensorflow:Can save best model only with val_acc available, skipping.\n"
          ]
        },
        {
          "name": "stderr",
          "output_type": "stream",
          "text": [
            "WARNING:tensorflow:Can save best model only with val_acc available, skipping.\n"
          ]
        },
        {
          "name": "stdout",
          "output_type": "stream",
          "text": [
            "391/391 [==============================] - 59s 86ms/step - loss: 4.2034 - accuracy: 0.0924 - val_loss: 3.8973 - val_accuracy: 0.1210 - lr: 0.0010\n",
            "Learning rate:  0.001\n",
            "Epoch 2/300\n",
            "391/391 [==============================] - ETA: 0s - loss: 3.6481 - accuracy: 0.1668WARNING:tensorflow:Can save best model only with val_acc available, skipping.\n"
          ]
        },
        {
          "name": "stderr",
          "output_type": "stream",
          "text": [
            "WARNING:tensorflow:Can save best model only with val_acc available, skipping.\n"
          ]
        },
        {
          "name": "stdout",
          "output_type": "stream",
          "text": [
            "391/391 [==============================] - 32s 82ms/step - loss: 3.6481 - accuracy: 0.1668 - val_loss: 3.7811 - val_accuracy: 0.1529 - lr: 0.0010\n",
            "Learning rate:  0.001\n",
            "Epoch 3/300\n",
            "391/391 [==============================] - ETA: 0s - loss: 3.3810 - accuracy: 0.2131WARNING:tensorflow:Can save best model only with val_acc available, skipping.\n"
          ]
        },
        {
          "name": "stderr",
          "output_type": "stream",
          "text": [
            "WARNING:tensorflow:Can save best model only with val_acc available, skipping.\n"
          ]
        },
        {
          "name": "stdout",
          "output_type": "stream",
          "text": [
            "391/391 [==============================] - 33s 83ms/step - loss: 3.3810 - accuracy: 0.2131 - val_loss: 3.6726 - val_accuracy: 0.1780 - lr: 0.0010\n",
            "Learning rate:  0.001\n",
            "Epoch 4/300\n",
            "391/391 [==============================] - ETA: 0s - loss: 3.1652 - accuracy: 0.2512WARNING:tensorflow:Can save best model only with val_acc available, skipping.\n"
          ]
        },
        {
          "name": "stderr",
          "output_type": "stream",
          "text": [
            "WARNING:tensorflow:Can save best model only with val_acc available, skipping.\n"
          ]
        },
        {
          "name": "stdout",
          "output_type": "stream",
          "text": [
            "391/391 [==============================] - 32s 82ms/step - loss: 3.1652 - accuracy: 0.2512 - val_loss: 3.5967 - val_accuracy: 0.1866 - lr: 0.0010\n",
            "Learning rate:  0.001\n",
            "Epoch 5/300\n",
            "391/391 [==============================] - ETA: 0s - loss: 2.9941 - accuracy: 0.2805WARNING:tensorflow:Can save best model only with val_acc available, skipping.\n"
          ]
        },
        {
          "name": "stderr",
          "output_type": "stream",
          "text": [
            "WARNING:tensorflow:Can save best model only with val_acc available, skipping.\n"
          ]
        },
        {
          "name": "stdout",
          "output_type": "stream",
          "text": [
            "391/391 [==============================] - 33s 84ms/step - loss: 2.9941 - accuracy: 0.2805 - val_loss: 3.0862 - val_accuracy: 0.2576 - lr: 0.0010\n",
            "Learning rate:  0.001\n",
            "Epoch 6/300\n",
            "391/391 [==============================] - ETA: 0s - loss: 2.8444 - accuracy: 0.3119WARNING:tensorflow:Can save best model only with val_acc available, skipping.\n"
          ]
        },
        {
          "name": "stderr",
          "output_type": "stream",
          "text": [
            "WARNING:tensorflow:Can save best model only with val_acc available, skipping.\n"
          ]
        },
        {
          "name": "stdout",
          "output_type": "stream",
          "text": [
            "391/391 [==============================] - 32s 83ms/step - loss: 2.8444 - accuracy: 0.3119 - val_loss: 3.1415 - val_accuracy: 0.2591 - lr: 0.0010\n",
            "Learning rate:  0.001\n",
            "Epoch 7/300\n",
            "391/391 [==============================] - ETA: 0s - loss: 2.7264 - accuracy: 0.3333WARNING:tensorflow:Can save best model only with val_acc available, skipping.\n"
          ]
        },
        {
          "name": "stderr",
          "output_type": "stream",
          "text": [
            "WARNING:tensorflow:Can save best model only with val_acc available, skipping.\n"
          ]
        },
        {
          "name": "stdout",
          "output_type": "stream",
          "text": [
            "391/391 [==============================] - 33s 83ms/step - loss: 2.7264 - accuracy: 0.3333 - val_loss: 3.1615 - val_accuracy: 0.2574 - lr: 0.0010\n",
            "Learning rate:  0.001\n",
            "Epoch 8/300\n",
            "391/391 [==============================] - ETA: 0s - loss: 2.6209 - accuracy: 0.3550WARNING:tensorflow:Can save best model only with val_acc available, skipping.\n"
          ]
        },
        {
          "name": "stderr",
          "output_type": "stream",
          "text": [
            "WARNING:tensorflow:Can save best model only with val_acc available, skipping.\n"
          ]
        },
        {
          "name": "stdout",
          "output_type": "stream",
          "text": [
            "391/391 [==============================] - 32s 82ms/step - loss: 2.6209 - accuracy: 0.3550 - val_loss: 3.0909 - val_accuracy: 0.2851 - lr: 0.0010\n",
            "Learning rate:  0.001\n",
            "Epoch 9/300\n",
            "391/391 [==============================] - ETA: 0s - loss: 2.5281 - accuracy: 0.3754WARNING:tensorflow:Can save best model only with val_acc available, skipping.\n"
          ]
        },
        {
          "name": "stderr",
          "output_type": "stream",
          "text": [
            "WARNING:tensorflow:Can save best model only with val_acc available, skipping.\n"
          ]
        },
        {
          "name": "stdout",
          "output_type": "stream",
          "text": [
            "391/391 [==============================] - 33s 84ms/step - loss: 2.5281 - accuracy: 0.3754 - val_loss: 2.8250 - val_accuracy: 0.3168 - lr: 0.0010\n",
            "Learning rate:  0.001\n",
            "Epoch 10/300\n",
            "391/391 [==============================] - ETA: 0s - loss: 2.4533 - accuracy: 0.3960WARNING:tensorflow:Can save best model only with val_acc available, skipping.\n"
          ]
        },
        {
          "name": "stderr",
          "output_type": "stream",
          "text": [
            "WARNING:tensorflow:Can save best model only with val_acc available, skipping.\n"
          ]
        },
        {
          "name": "stdout",
          "output_type": "stream",
          "text": [
            "391/391 [==============================] - 32s 83ms/step - loss: 2.4533 - accuracy: 0.3960 - val_loss: 3.0810 - val_accuracy: 0.2975 - lr: 0.0010\n",
            "Learning rate:  0.001\n",
            "Epoch 11/300\n",
            "391/391 [==============================] - ETA: 0s - loss: 2.3846 - accuracy: 0.4066WARNING:tensorflow:Can save best model only with val_acc available, skipping.\n"
          ]
        },
        {
          "name": "stderr",
          "output_type": "stream",
          "text": [
            "WARNING:tensorflow:Can save best model only with val_acc available, skipping.\n"
          ]
        },
        {
          "name": "stdout",
          "output_type": "stream",
          "text": [
            "391/391 [==============================] - 32s 82ms/step - loss: 2.3846 - accuracy: 0.4066 - val_loss: 2.6239 - val_accuracy: 0.3608 - lr: 0.0010\n",
            "Learning rate:  0.001\n",
            "Epoch 12/300\n",
            "391/391 [==============================] - ETA: 0s - loss: 2.3220 - accuracy: 0.4210WARNING:tensorflow:Can save best model only with val_acc available, skipping.\n"
          ]
        },
        {
          "name": "stderr",
          "output_type": "stream",
          "text": [
            "WARNING:tensorflow:Can save best model only with val_acc available, skipping.\n"
          ]
        },
        {
          "name": "stdout",
          "output_type": "stream",
          "text": [
            "391/391 [==============================] - 32s 82ms/step - loss: 2.3220 - accuracy: 0.4210 - val_loss: 3.2032 - val_accuracy: 0.2879 - lr: 0.0010\n",
            "Learning rate:  0.001\n",
            "Epoch 13/300\n",
            "391/391 [==============================] - ETA: 0s - loss: 2.2750 - accuracy: 0.4322WARNING:tensorflow:Can save best model only with val_acc available, skipping.\n"
          ]
        },
        {
          "name": "stderr",
          "output_type": "stream",
          "text": [
            "WARNING:tensorflow:Can save best model only with val_acc available, skipping.\n"
          ]
        },
        {
          "name": "stdout",
          "output_type": "stream",
          "text": [
            "391/391 [==============================] - 32s 81ms/step - loss: 2.2750 - accuracy: 0.4322 - val_loss: 2.6629 - val_accuracy: 0.3592 - lr: 0.0010\n",
            "Learning rate:  0.001\n",
            "Epoch 14/300\n",
            "391/391 [==============================] - ETA: 0s - loss: 2.2138 - accuracy: 0.4458WARNING:tensorflow:Can save best model only with val_acc available, skipping.\n"
          ]
        },
        {
          "name": "stderr",
          "output_type": "stream",
          "text": [
            "WARNING:tensorflow:Can save best model only with val_acc available, skipping.\n"
          ]
        },
        {
          "name": "stdout",
          "output_type": "stream",
          "text": [
            "391/391 [==============================] - 32s 82ms/step - loss: 2.2138 - accuracy: 0.4458 - val_loss: 2.4956 - val_accuracy: 0.3856 - lr: 0.0010\n",
            "Learning rate:  0.001\n",
            "Epoch 15/300\n",
            "391/391 [==============================] - ETA: 0s - loss: 2.1699 - accuracy: 0.4545WARNING:tensorflow:Can save best model only with val_acc available, skipping.\n"
          ]
        },
        {
          "name": "stderr",
          "output_type": "stream",
          "text": [
            "WARNING:tensorflow:Can save best model only with val_acc available, skipping.\n"
          ]
        },
        {
          "name": "stdout",
          "output_type": "stream",
          "text": [
            "391/391 [==============================] - 32s 82ms/step - loss: 2.1699 - accuracy: 0.4545 - val_loss: 2.5309 - val_accuracy: 0.3824 - lr: 0.0010\n",
            "Learning rate:  0.001\n",
            "Epoch 16/300\n",
            "391/391 [==============================] - ETA: 0s - loss: 2.1282 - accuracy: 0.4677WARNING:tensorflow:Can save best model only with val_acc available, skipping.\n"
          ]
        },
        {
          "name": "stderr",
          "output_type": "stream",
          "text": [
            "WARNING:tensorflow:Can save best model only with val_acc available, skipping.\n"
          ]
        },
        {
          "name": "stdout",
          "output_type": "stream",
          "text": [
            "391/391 [==============================] - 32s 82ms/step - loss: 2.1282 - accuracy: 0.4677 - val_loss: 2.8009 - val_accuracy: 0.3520 - lr: 0.0010\n",
            "Learning rate:  0.001\n",
            "Epoch 17/300\n",
            "391/391 [==============================] - ETA: 0s - loss: 2.0877 - accuracy: 0.4745WARNING:tensorflow:Can save best model only with val_acc available, skipping.\n"
          ]
        },
        {
          "name": "stderr",
          "output_type": "stream",
          "text": [
            "WARNING:tensorflow:Can save best model only with val_acc available, skipping.\n"
          ]
        },
        {
          "name": "stdout",
          "output_type": "stream",
          "text": [
            "391/391 [==============================] - 32s 81ms/step - loss: 2.0877 - accuracy: 0.4745 - val_loss: 2.6550 - val_accuracy: 0.3726 - lr: 0.0010\n",
            "Learning rate:  0.001\n",
            "Epoch 18/300\n",
            "391/391 [==============================] - ETA: 0s - loss: 2.0498 - accuracy: 0.4838WARNING:tensorflow:Can save best model only with val_acc available, skipping.\n"
          ]
        },
        {
          "name": "stderr",
          "output_type": "stream",
          "text": [
            "WARNING:tensorflow:Can save best model only with val_acc available, skipping.\n"
          ]
        },
        {
          "name": "stdout",
          "output_type": "stream",
          "text": [
            "391/391 [==============================] - 33s 84ms/step - loss: 2.0498 - accuracy: 0.4838 - val_loss: 2.5033 - val_accuracy: 0.3989 - lr: 0.0010\n",
            "Learning rate:  0.001\n",
            "Epoch 19/300\n",
            "391/391 [==============================] - ETA: 0s - loss: 2.0118 - accuracy: 0.4927WARNING:tensorflow:Can save best model only with val_acc available, skipping.\n"
          ]
        },
        {
          "name": "stderr",
          "output_type": "stream",
          "text": [
            "WARNING:tensorflow:Can save best model only with val_acc available, skipping.\n"
          ]
        },
        {
          "name": "stdout",
          "output_type": "stream",
          "text": [
            "391/391 [==============================] - 33s 84ms/step - loss: 2.0118 - accuracy: 0.4927 - val_loss: 2.5247 - val_accuracy: 0.4053 - lr: 3.1623e-04\n",
            "Learning rate:  0.001\n",
            "Epoch 20/300\n",
            "391/391 [==============================] - ETA: 0s - loss: 1.9819 - accuracy: 0.4989WARNING:tensorflow:Can save best model only with val_acc available, skipping.\n"
          ]
        },
        {
          "name": "stderr",
          "output_type": "stream",
          "text": [
            "WARNING:tensorflow:Can save best model only with val_acc available, skipping.\n"
          ]
        },
        {
          "name": "stdout",
          "output_type": "stream",
          "text": [
            "391/391 [==============================] - 33s 84ms/step - loss: 1.9819 - accuracy: 0.4989 - val_loss: 2.2775 - val_accuracy: 0.4363 - lr: 0.0010\n",
            "Learning rate:  0.001\n",
            "Epoch 21/300\n",
            "391/391 [==============================] - ETA: 0s - loss: 1.9456 - accuracy: 0.5074WARNING:tensorflow:Can save best model only with val_acc available, skipping.\n"
          ]
        },
        {
          "name": "stderr",
          "output_type": "stream",
          "text": [
            "WARNING:tensorflow:Can save best model only with val_acc available, skipping.\n"
          ]
        },
        {
          "name": "stdout",
          "output_type": "stream",
          "text": [
            "391/391 [==============================] - 33s 84ms/step - loss: 1.9456 - accuracy: 0.5074 - val_loss: 2.5632 - val_accuracy: 0.3938 - lr: 0.0010\n",
            "Learning rate:  0.001\n",
            "Epoch 22/300\n",
            "391/391 [==============================] - ETA: 0s - loss: 1.9247 - accuracy: 0.5143WARNING:tensorflow:Can save best model only with val_acc available, skipping.\n"
          ]
        },
        {
          "name": "stderr",
          "output_type": "stream",
          "text": [
            "WARNING:tensorflow:Can save best model only with val_acc available, skipping.\n"
          ]
        },
        {
          "name": "stdout",
          "output_type": "stream",
          "text": [
            "391/391 [==============================] - 32s 83ms/step - loss: 1.9247 - accuracy: 0.5143 - val_loss: 2.2150 - val_accuracy: 0.4520 - lr: 0.0010\n",
            "Learning rate:  0.001\n",
            "Epoch 23/300\n",
            "391/391 [==============================] - ETA: 0s - loss: 1.8949 - accuracy: 0.5210WARNING:tensorflow:Can save best model only with val_acc available, skipping.\n"
          ]
        },
        {
          "name": "stderr",
          "output_type": "stream",
          "text": [
            "WARNING:tensorflow:Can save best model only with val_acc available, skipping.\n"
          ]
        },
        {
          "name": "stdout",
          "output_type": "stream",
          "text": [
            "391/391 [==============================] - 33s 84ms/step - loss: 1.8949 - accuracy: 0.5210 - val_loss: 2.3739 - val_accuracy: 0.4273 - lr: 0.0010\n",
            "Learning rate:  0.001\n",
            "Epoch 24/300\n",
            "391/391 [==============================] - ETA: 0s - loss: 1.8659 - accuracy: 0.5271WARNING:tensorflow:Can save best model only with val_acc available, skipping.\n"
          ]
        },
        {
          "name": "stderr",
          "output_type": "stream",
          "text": [
            "WARNING:tensorflow:Can save best model only with val_acc available, skipping.\n"
          ]
        },
        {
          "name": "stdout",
          "output_type": "stream",
          "text": [
            "391/391 [==============================] - 33s 83ms/step - loss: 1.8659 - accuracy: 0.5271 - val_loss: 2.5932 - val_accuracy: 0.3920 - lr: 0.0010\n",
            "Learning rate:  0.001\n",
            "Epoch 25/300\n",
            "391/391 [==============================] - ETA: 0s - loss: 1.8464 - accuracy: 0.5321WARNING:tensorflow:Can save best model only with val_acc available, skipping.\n"
          ]
        },
        {
          "name": "stderr",
          "output_type": "stream",
          "text": [
            "WARNING:tensorflow:Can save best model only with val_acc available, skipping.\n"
          ]
        },
        {
          "name": "stdout",
          "output_type": "stream",
          "text": [
            "391/391 [==============================] - 33s 83ms/step - loss: 1.8464 - accuracy: 0.5321 - val_loss: 2.3637 - val_accuracy: 0.4238 - lr: 0.0010\n",
            "Learning rate:  0.001\n",
            "Epoch 26/300\n",
            "391/391 [==============================] - ETA: 0s - loss: 1.8256 - accuracy: 0.5374WARNING:tensorflow:Can save best model only with val_acc available, skipping.\n"
          ]
        },
        {
          "name": "stderr",
          "output_type": "stream",
          "text": [
            "WARNING:tensorflow:Can save best model only with val_acc available, skipping.\n"
          ]
        },
        {
          "name": "stdout",
          "output_type": "stream",
          "text": [
            "391/391 [==============================] - 33s 84ms/step - loss: 1.8256 - accuracy: 0.5374 - val_loss: 2.5383 - val_accuracy: 0.4127 - lr: 0.0010\n",
            "Learning rate:  0.001\n",
            "Epoch 27/300\n",
            "391/391 [==============================] - ETA: 0s - loss: 1.8049 - accuracy: 0.5419WARNING:tensorflow:Can save best model only with val_acc available, skipping.\n"
          ]
        },
        {
          "name": "stderr",
          "output_type": "stream",
          "text": [
            "WARNING:tensorflow:Can save best model only with val_acc available, skipping.\n"
          ]
        },
        {
          "name": "stdout",
          "output_type": "stream",
          "text": [
            "391/391 [==============================] - 33s 84ms/step - loss: 1.8049 - accuracy: 0.5419 - val_loss: 2.3299 - val_accuracy: 0.4386 - lr: 3.1623e-04\n",
            "Learning rate:  0.001\n",
            "Epoch 28/300\n",
            "391/391 [==============================] - ETA: 0s - loss: 1.7848 - accuracy: 0.5466WARNING:tensorflow:Can save best model only with val_acc available, skipping.\n"
          ]
        },
        {
          "name": "stderr",
          "output_type": "stream",
          "text": [
            "WARNING:tensorflow:Can save best model only with val_acc available, skipping.\n"
          ]
        },
        {
          "name": "stdout",
          "output_type": "stream",
          "text": [
            "391/391 [==============================] - 33s 83ms/step - loss: 1.7848 - accuracy: 0.5466 - val_loss: 2.2377 - val_accuracy: 0.4516 - lr: 0.0010\n",
            "Learning rate:  0.001\n",
            "Epoch 29/300\n",
            "391/391 [==============================] - ETA: 0s - loss: 1.7691 - accuracy: 0.5543WARNING:tensorflow:Can save best model only with val_acc available, skipping.\n"
          ]
        },
        {
          "name": "stderr",
          "output_type": "stream",
          "text": [
            "WARNING:tensorflow:Can save best model only with val_acc available, skipping.\n"
          ]
        },
        {
          "name": "stdout",
          "output_type": "stream",
          "text": [
            "391/391 [==============================] - 33s 84ms/step - loss: 1.7691 - accuracy: 0.5543 - val_loss: 2.2959 - val_accuracy: 0.4480 - lr: 0.0010\n",
            "Learning rate:  0.001\n",
            "Epoch 30/300\n",
            "391/391 [==============================] - ETA: 0s - loss: 1.7488 - accuracy: 0.5586WARNING:tensorflow:Can save best model only with val_acc available, skipping.\n"
          ]
        },
        {
          "name": "stderr",
          "output_type": "stream",
          "text": [
            "WARNING:tensorflow:Can save best model only with val_acc available, skipping.\n"
          ]
        },
        {
          "name": "stdout",
          "output_type": "stream",
          "text": [
            "391/391 [==============================] - 32s 83ms/step - loss: 1.7488 - accuracy: 0.5586 - val_loss: 2.2890 - val_accuracy: 0.4410 - lr: 0.0010\n",
            "Learning rate:  0.001\n",
            "Epoch 31/300\n",
            "391/391 [==============================] - ETA: 0s - loss: 1.7317 - accuracy: 0.5607WARNING:tensorflow:Can save best model only with val_acc available, skipping.\n"
          ]
        },
        {
          "name": "stderr",
          "output_type": "stream",
          "text": [
            "WARNING:tensorflow:Can save best model only with val_acc available, skipping.\n"
          ]
        },
        {
          "name": "stdout",
          "output_type": "stream",
          "text": [
            "391/391 [==============================] - 33s 85ms/step - loss: 1.7317 - accuracy: 0.5607 - val_loss: 2.3852 - val_accuracy: 0.4339 - lr: 0.0010\n",
            "Learning rate:  0.001\n",
            "Epoch 32/300\n",
            "391/391 [==============================] - ETA: 0s - loss: 1.7114 - accuracy: 0.5634WARNING:tensorflow:Can save best model only with val_acc available, skipping.\n"
          ]
        },
        {
          "name": "stderr",
          "output_type": "stream",
          "text": [
            "WARNING:tensorflow:Can save best model only with val_acc available, skipping.\n"
          ]
        },
        {
          "name": "stdout",
          "output_type": "stream",
          "text": [
            "391/391 [==============================] - 33s 84ms/step - loss: 1.7114 - accuracy: 0.5634 - val_loss: 2.3928 - val_accuracy: 0.4420 - lr: 3.1623e-04\n",
            "Learning rate:  0.001\n",
            "Epoch 33/300\n",
            "391/391 [==============================] - ETA: 0s - loss: 1.7021 - accuracy: 0.5670WARNING:tensorflow:Can save best model only with val_acc available, skipping.\n"
          ]
        },
        {
          "name": "stderr",
          "output_type": "stream",
          "text": [
            "WARNING:tensorflow:Can save best model only with val_acc available, skipping.\n"
          ]
        },
        {
          "name": "stdout",
          "output_type": "stream",
          "text": [
            "391/391 [==============================] - 33s 84ms/step - loss: 1.7021 - accuracy: 0.5670 - val_loss: 2.1622 - val_accuracy: 0.4705 - lr: 0.0010\n",
            "Learning rate:  0.001\n",
            "Epoch 34/300\n",
            "391/391 [==============================] - ETA: 0s - loss: 1.6846 - accuracy: 0.5707WARNING:tensorflow:Can save best model only with val_acc available, skipping.\n"
          ]
        },
        {
          "name": "stderr",
          "output_type": "stream",
          "text": [
            "WARNING:tensorflow:Can save best model only with val_acc available, skipping.\n"
          ]
        },
        {
          "name": "stdout",
          "output_type": "stream",
          "text": [
            "391/391 [==============================] - 33s 84ms/step - loss: 1.6846 - accuracy: 0.5707 - val_loss: 2.1839 - val_accuracy: 0.4619 - lr: 0.0010\n",
            "Learning rate:  0.001\n",
            "Epoch 35/300\n",
            "391/391 [==============================] - ETA: 0s - loss: 1.6650 - accuracy: 0.5788WARNING:tensorflow:Can save best model only with val_acc available, skipping.\n"
          ]
        },
        {
          "name": "stderr",
          "output_type": "stream",
          "text": [
            "WARNING:tensorflow:Can save best model only with val_acc available, skipping.\n"
          ]
        },
        {
          "name": "stdout",
          "output_type": "stream",
          "text": [
            "391/391 [==============================] - 33s 83ms/step - loss: 1.6650 - accuracy: 0.5788 - val_loss: 2.0466 - val_accuracy: 0.4931 - lr: 0.0010\n",
            "Learning rate:  0.001\n",
            "Epoch 36/300\n",
            "391/391 [==============================] - ETA: 0s - loss: 1.6592 - accuracy: 0.5812WARNING:tensorflow:Can save best model only with val_acc available, skipping.\n"
          ]
        },
        {
          "name": "stderr",
          "output_type": "stream",
          "text": [
            "WARNING:tensorflow:Can save best model only with val_acc available, skipping.\n"
          ]
        },
        {
          "name": "stdout",
          "output_type": "stream",
          "text": [
            "391/391 [==============================] - 33s 84ms/step - loss: 1.6592 - accuracy: 0.5812 - val_loss: 2.2299 - val_accuracy: 0.4685 - lr: 0.0010\n",
            "Learning rate:  0.001\n",
            "Epoch 37/300\n",
            "391/391 [==============================] - ETA: 0s - loss: 1.6386 - accuracy: 0.5834WARNING:tensorflow:Can save best model only with val_acc available, skipping.\n"
          ]
        },
        {
          "name": "stderr",
          "output_type": "stream",
          "text": [
            "WARNING:tensorflow:Can save best model only with val_acc available, skipping.\n"
          ]
        },
        {
          "name": "stdout",
          "output_type": "stream",
          "text": [
            "391/391 [==============================] - 33s 84ms/step - loss: 1.6386 - accuracy: 0.5834 - val_loss: 2.1597 - val_accuracy: 0.4830 - lr: 0.0010\n",
            "Learning rate:  0.001\n",
            "Epoch 38/300\n",
            "391/391 [==============================] - ETA: 0s - loss: 1.6320 - accuracy: 0.5856WARNING:tensorflow:Can save best model only with val_acc available, skipping.\n"
          ]
        },
        {
          "name": "stderr",
          "output_type": "stream",
          "text": [
            "WARNING:tensorflow:Can save best model only with val_acc available, skipping.\n"
          ]
        },
        {
          "name": "stdout",
          "output_type": "stream",
          "text": [
            "391/391 [==============================] - 33s 84ms/step - loss: 1.6320 - accuracy: 0.5856 - val_loss: 2.2856 - val_accuracy: 0.4512 - lr: 0.0010\n",
            "Learning rate:  0.001\n",
            "Epoch 39/300\n",
            "391/391 [==============================] - ETA: 0s - loss: 1.6197 - accuracy: 0.5885WARNING:tensorflow:Can save best model only with val_acc available, skipping.\n"
          ]
        },
        {
          "name": "stderr",
          "output_type": "stream",
          "text": [
            "WARNING:tensorflow:Can save best model only with val_acc available, skipping.\n"
          ]
        },
        {
          "name": "stdout",
          "output_type": "stream",
          "text": [
            "391/391 [==============================] - 33s 84ms/step - loss: 1.6197 - accuracy: 0.5885 - val_loss: 2.3394 - val_accuracy: 0.4507 - lr: 0.0010\n",
            "Learning rate:  0.001\n",
            "Epoch 40/300\n",
            "391/391 [==============================] - ETA: 0s - loss: 1.6036 - accuracy: 0.5930WARNING:tensorflow:Can save best model only with val_acc available, skipping.\n"
          ]
        },
        {
          "name": "stderr",
          "output_type": "stream",
          "text": [
            "WARNING:tensorflow:Can save best model only with val_acc available, skipping.\n"
          ]
        },
        {
          "name": "stdout",
          "output_type": "stream",
          "text": [
            "391/391 [==============================] - 33s 83ms/step - loss: 1.6036 - accuracy: 0.5930 - val_loss: 1.9943 - val_accuracy: 0.5049 - lr: 0.0010\n",
            "Learning rate:  0.001\n",
            "Epoch 41/300\n",
            "391/391 [==============================] - ETA: 0s - loss: 1.5928 - accuracy: 0.5947WARNING:tensorflow:Can save best model only with val_acc available, skipping.\n"
          ]
        },
        {
          "name": "stderr",
          "output_type": "stream",
          "text": [
            "WARNING:tensorflow:Can save best model only with val_acc available, skipping.\n"
          ]
        },
        {
          "name": "stdout",
          "output_type": "stream",
          "text": [
            "391/391 [==============================] - 33s 85ms/step - loss: 1.5928 - accuracy: 0.5947 - val_loss: 2.1128 - val_accuracy: 0.4957 - lr: 0.0010\n",
            "Learning rate:  0.001\n",
            "Epoch 42/300\n",
            "391/391 [==============================] - ETA: 0s - loss: 1.5826 - accuracy: 0.5990WARNING:tensorflow:Can save best model only with val_acc available, skipping.\n"
          ]
        },
        {
          "name": "stderr",
          "output_type": "stream",
          "text": [
            "WARNING:tensorflow:Can save best model only with val_acc available, skipping.\n"
          ]
        },
        {
          "name": "stdout",
          "output_type": "stream",
          "text": [
            "391/391 [==============================] - 32s 82ms/step - loss: 1.5826 - accuracy: 0.5990 - val_loss: 2.2312 - val_accuracy: 0.4776 - lr: 0.0010\n",
            "Learning rate:  0.001\n",
            "Epoch 43/300\n",
            "391/391 [==============================] - ETA: 0s - loss: 1.5671 - accuracy: 0.6034WARNING:tensorflow:Can save best model only with val_acc available, skipping.\n"
          ]
        },
        {
          "name": "stderr",
          "output_type": "stream",
          "text": [
            "WARNING:tensorflow:Can save best model only with val_acc available, skipping.\n"
          ]
        },
        {
          "name": "stdout",
          "output_type": "stream",
          "text": [
            "391/391 [==============================] - 33s 84ms/step - loss: 1.5671 - accuracy: 0.6034 - val_loss: 2.1564 - val_accuracy: 0.4857 - lr: 0.0010\n",
            "Learning rate:  0.001\n",
            "Epoch 44/300\n",
            "391/391 [==============================] - ETA: 0s - loss: 1.5589 - accuracy: 0.6042WARNING:tensorflow:Can save best model only with val_acc available, skipping.\n"
          ]
        },
        {
          "name": "stderr",
          "output_type": "stream",
          "text": [
            "WARNING:tensorflow:Can save best model only with val_acc available, skipping.\n"
          ]
        },
        {
          "name": "stdout",
          "output_type": "stream",
          "text": [
            "391/391 [==============================] - 32s 82ms/step - loss: 1.5589 - accuracy: 0.6042 - val_loss: 2.1767 - val_accuracy: 0.4791 - lr: 0.0010\n",
            "Learning rate:  0.001\n",
            "Epoch 45/300\n",
            "391/391 [==============================] - ETA: 0s - loss: 1.5464 - accuracy: 0.6082WARNING:tensorflow:Can save best model only with val_acc available, skipping.\n"
          ]
        },
        {
          "name": "stderr",
          "output_type": "stream",
          "text": [
            "WARNING:tensorflow:Can save best model only with val_acc available, skipping.\n"
          ]
        },
        {
          "name": "stdout",
          "output_type": "stream",
          "text": [
            "391/391 [==============================] - 33s 83ms/step - loss: 1.5464 - accuracy: 0.6082 - val_loss: 2.1779 - val_accuracy: 0.4859 - lr: 3.1623e-04\n",
            "Learning rate:  0.001\n",
            "Epoch 46/300\n",
            "391/391 [==============================] - ETA: 0s - loss: 1.5412 - accuracy: 0.6070WARNING:tensorflow:Can save best model only with val_acc available, skipping.\n"
          ]
        },
        {
          "name": "stderr",
          "output_type": "stream",
          "text": [
            "WARNING:tensorflow:Can save best model only with val_acc available, skipping.\n"
          ]
        },
        {
          "name": "stdout",
          "output_type": "stream",
          "text": [
            "391/391 [==============================] - 32s 82ms/step - loss: 1.5412 - accuracy: 0.6070 - val_loss: 2.2768 - val_accuracy: 0.4658 - lr: 0.0010\n",
            "Learning rate:  0.001\n",
            "Epoch 47/300\n",
            "391/391 [==============================] - ETA: 0s - loss: 1.5279 - accuracy: 0.6125WARNING:tensorflow:Can save best model only with val_acc available, skipping.\n"
          ]
        },
        {
          "name": "stderr",
          "output_type": "stream",
          "text": [
            "WARNING:tensorflow:Can save best model only with val_acc available, skipping.\n"
          ]
        },
        {
          "name": "stdout",
          "output_type": "stream",
          "text": [
            "391/391 [==============================] - 33s 83ms/step - loss: 1.5279 - accuracy: 0.6125 - val_loss: 2.2382 - val_accuracy: 0.4743 - lr: 0.0010\n",
            "Learning rate:  0.001\n",
            "Epoch 48/300\n",
            "391/391 [==============================] - ETA: 0s - loss: 1.5204 - accuracy: 0.6131WARNING:tensorflow:Can save best model only with val_acc available, skipping.\n"
          ]
        },
        {
          "name": "stderr",
          "output_type": "stream",
          "text": [
            "WARNING:tensorflow:Can save best model only with val_acc available, skipping.\n"
          ]
        },
        {
          "name": "stdout",
          "output_type": "stream",
          "text": [
            "391/391 [==============================] - 32s 82ms/step - loss: 1.5204 - accuracy: 0.6131 - val_loss: 2.1309 - val_accuracy: 0.4986 - lr: 0.0010\n",
            "Learning rate:  0.001\n",
            "Epoch 49/300\n",
            "391/391 [==============================] - ETA: 0s - loss: 1.5111 - accuracy: 0.6168WARNING:tensorflow:Can save best model only with val_acc available, skipping.\n"
          ]
        },
        {
          "name": "stderr",
          "output_type": "stream",
          "text": [
            "WARNING:tensorflow:Can save best model only with val_acc available, skipping.\n"
          ]
        },
        {
          "name": "stdout",
          "output_type": "stream",
          "text": [
            "391/391 [==============================] - 32s 82ms/step - loss: 1.5111 - accuracy: 0.6168 - val_loss: 2.0920 - val_accuracy: 0.4909 - lr: 0.0010\n",
            "Learning rate:  0.001\n",
            "Epoch 50/300\n",
            "391/391 [==============================] - ETA: 0s - loss: 1.4991 - accuracy: 0.6221WARNING:tensorflow:Can save best model only with val_acc available, skipping.\n"
          ]
        },
        {
          "name": "stderr",
          "output_type": "stream",
          "text": [
            "WARNING:tensorflow:Can save best model only with val_acc available, skipping.\n"
          ]
        },
        {
          "name": "stdout",
          "output_type": "stream",
          "text": [
            "391/391 [==============================] - 32s 82ms/step - loss: 1.4991 - accuracy: 0.6221 - val_loss: 2.1749 - val_accuracy: 0.4938 - lr: 3.1623e-04\n",
            "Learning rate:  0.001\n",
            "Epoch 51/300\n",
            "391/391 [==============================] - ETA: 0s - loss: 1.4990 - accuracy: 0.6203WARNING:tensorflow:Can save best model only with val_acc available, skipping.\n"
          ]
        },
        {
          "name": "stderr",
          "output_type": "stream",
          "text": [
            "WARNING:tensorflow:Can save best model only with val_acc available, skipping.\n"
          ]
        },
        {
          "name": "stdout",
          "output_type": "stream",
          "text": [
            "391/391 [==============================] - 32s 82ms/step - loss: 1.4990 - accuracy: 0.6203 - val_loss: 1.9833 - val_accuracy: 0.5127 - lr: 0.0010\n",
            "Learning rate:  0.001\n",
            "Epoch 52/300\n",
            "391/391 [==============================] - ETA: 0s - loss: 1.4919 - accuracy: 0.6231WARNING:tensorflow:Can save best model only with val_acc available, skipping.\n"
          ]
        },
        {
          "name": "stderr",
          "output_type": "stream",
          "text": [
            "WARNING:tensorflow:Can save best model only with val_acc available, skipping.\n"
          ]
        },
        {
          "name": "stdout",
          "output_type": "stream",
          "text": [
            "391/391 [==============================] - 32s 83ms/step - loss: 1.4919 - accuracy: 0.6231 - val_loss: 2.2093 - val_accuracy: 0.4881 - lr: 0.0010\n",
            "Learning rate:  0.001\n",
            "Epoch 53/300\n",
            "391/391 [==============================] - ETA: 0s - loss: 1.4807 - accuracy: 0.6240WARNING:tensorflow:Can save best model only with val_acc available, skipping.\n"
          ]
        },
        {
          "name": "stderr",
          "output_type": "stream",
          "text": [
            "WARNING:tensorflow:Can save best model only with val_acc available, skipping.\n"
          ]
        },
        {
          "name": "stdout",
          "output_type": "stream",
          "text": [
            "391/391 [==============================] - 32s 81ms/step - loss: 1.4807 - accuracy: 0.6240 - val_loss: 2.1659 - val_accuracy: 0.4906 - lr: 0.0010\n",
            "Learning rate:  0.001\n",
            "Epoch 54/300\n",
            "391/391 [==============================] - ETA: 0s - loss: 1.4730 - accuracy: 0.6288WARNING:tensorflow:Can save best model only with val_acc available, skipping.\n"
          ]
        },
        {
          "name": "stderr",
          "output_type": "stream",
          "text": [
            "WARNING:tensorflow:Can save best model only with val_acc available, skipping.\n"
          ]
        },
        {
          "name": "stdout",
          "output_type": "stream",
          "text": [
            "391/391 [==============================] - 32s 83ms/step - loss: 1.4730 - accuracy: 0.6288 - val_loss: 2.2131 - val_accuracy: 0.4798 - lr: 0.0010\n",
            "Learning rate:  0.001\n",
            "Epoch 55/300\n",
            "391/391 [==============================] - ETA: 0s - loss: 1.4650 - accuracy: 0.6300WARNING:tensorflow:Can save best model only with val_acc available, skipping.\n"
          ]
        },
        {
          "name": "stderr",
          "output_type": "stream",
          "text": [
            "WARNING:tensorflow:Can save best model only with val_acc available, skipping.\n"
          ]
        },
        {
          "name": "stdout",
          "output_type": "stream",
          "text": [
            "391/391 [==============================] - 32s 82ms/step - loss: 1.4650 - accuracy: 0.6300 - val_loss: 2.1864 - val_accuracy: 0.4886 - lr: 0.0010\n",
            "Learning rate:  0.001\n",
            "Epoch 56/300\n",
            "391/391 [==============================] - ETA: 0s - loss: 1.4561 - accuracy: 0.6312WARNING:tensorflow:Can save best model only with val_acc available, skipping.\n"
          ]
        },
        {
          "name": "stderr",
          "output_type": "stream",
          "text": [
            "WARNING:tensorflow:Can save best model only with val_acc available, skipping.\n"
          ]
        },
        {
          "name": "stdout",
          "output_type": "stream",
          "text": [
            "391/391 [==============================] - 32s 82ms/step - loss: 1.4561 - accuracy: 0.6312 - val_loss: 2.0184 - val_accuracy: 0.5149 - lr: 3.1623e-04\n",
            "Learning rate:  0.001\n",
            "Epoch 57/300\n",
            "391/391 [==============================] - ETA: 0s - loss: 1.4484 - accuracy: 0.6330WARNING:tensorflow:Can save best model only with val_acc available, skipping.\n"
          ]
        },
        {
          "name": "stderr",
          "output_type": "stream",
          "text": [
            "WARNING:tensorflow:Can save best model only with val_acc available, skipping.\n"
          ]
        },
        {
          "name": "stdout",
          "output_type": "stream",
          "text": [
            "391/391 [==============================] - 32s 81ms/step - loss: 1.4484 - accuracy: 0.6330 - val_loss: 2.2269 - val_accuracy: 0.4899 - lr: 0.0010\n",
            "Learning rate:  0.001\n",
            "Epoch 58/300\n",
            "391/391 [==============================] - ETA: 0s - loss: 1.4438 - accuracy: 0.6343WARNING:tensorflow:Can save best model only with val_acc available, skipping.\n"
          ]
        },
        {
          "name": "stderr",
          "output_type": "stream",
          "text": [
            "WARNING:tensorflow:Can save best model only with val_acc available, skipping.\n"
          ]
        },
        {
          "name": "stdout",
          "output_type": "stream",
          "text": [
            "391/391 [==============================] - 32s 82ms/step - loss: 1.4438 - accuracy: 0.6343 - val_loss: 2.0643 - val_accuracy: 0.5123 - lr: 0.0010\n",
            "Learning rate:  0.001\n",
            "Epoch 59/300\n",
            "391/391 [==============================] - ETA: 0s - loss: 1.4426 - accuracy: 0.6350WARNING:tensorflow:Can save best model only with val_acc available, skipping.\n"
          ]
        },
        {
          "name": "stderr",
          "output_type": "stream",
          "text": [
            "WARNING:tensorflow:Can save best model only with val_acc available, skipping.\n"
          ]
        },
        {
          "name": "stdout",
          "output_type": "stream",
          "text": [
            "391/391 [==============================] - 32s 82ms/step - loss: 1.4426 - accuracy: 0.6350 - val_loss: 2.1040 - val_accuracy: 0.5064 - lr: 0.0010\n",
            "Learning rate:  0.001\n",
            "Epoch 60/300\n",
            "391/391 [==============================] - ETA: 0s - loss: 1.4321 - accuracy: 0.6366WARNING:tensorflow:Can save best model only with val_acc available, skipping.\n"
          ]
        },
        {
          "name": "stderr",
          "output_type": "stream",
          "text": [
            "WARNING:tensorflow:Can save best model only with val_acc available, skipping.\n"
          ]
        },
        {
          "name": "stdout",
          "output_type": "stream",
          "text": [
            "391/391 [==============================] - 32s 82ms/step - loss: 1.4321 - accuracy: 0.6366 - val_loss: 2.0595 - val_accuracy: 0.5135 - lr: 0.0010\n",
            "Learning rate:  0.001\n",
            "Epoch 61/300\n",
            "391/391 [==============================] - ETA: 0s - loss: 1.4181 - accuracy: 0.6415WARNING:tensorflow:Can save best model only with val_acc available, skipping.\n"
          ]
        },
        {
          "name": "stderr",
          "output_type": "stream",
          "text": [
            "WARNING:tensorflow:Can save best model only with val_acc available, skipping.\n"
          ]
        },
        {
          "name": "stdout",
          "output_type": "stream",
          "text": [
            "391/391 [==============================] - 32s 82ms/step - loss: 1.4181 - accuracy: 0.6415 - val_loss: 2.0944 - val_accuracy: 0.5055 - lr: 3.1623e-04\n",
            "Learning rate:  0.001\n",
            "Epoch 62/300\n",
            "391/391 [==============================] - ETA: 0s - loss: 1.4150 - accuracy: 0.6431WARNING:tensorflow:Can save best model only with val_acc available, skipping.\n"
          ]
        },
        {
          "name": "stderr",
          "output_type": "stream",
          "text": [
            "WARNING:tensorflow:Can save best model only with val_acc available, skipping.\n"
          ]
        },
        {
          "name": "stdout",
          "output_type": "stream",
          "text": [
            "391/391 [==============================] - 32s 82ms/step - loss: 1.4150 - accuracy: 0.6431 - val_loss: 2.0926 - val_accuracy: 0.5066 - lr: 0.0010\n",
            "Learning rate:  0.001\n",
            "Epoch 63/300\n",
            "391/391 [==============================] - ETA: 0s - loss: 1.4105 - accuracy: 0.6448WARNING:tensorflow:Can save best model only with val_acc available, skipping.\n"
          ]
        },
        {
          "name": "stderr",
          "output_type": "stream",
          "text": [
            "WARNING:tensorflow:Can save best model only with val_acc available, skipping.\n"
          ]
        },
        {
          "name": "stdout",
          "output_type": "stream",
          "text": [
            "391/391 [==============================] - 32s 83ms/step - loss: 1.4105 - accuracy: 0.6448 - val_loss: 2.0064 - val_accuracy: 0.5241 - lr: 0.0010\n",
            "Learning rate:  0.001\n",
            "Epoch 64/300\n",
            "391/391 [==============================] - ETA: 0s - loss: 1.4037 - accuracy: 0.6451WARNING:tensorflow:Can save best model only with val_acc available, skipping.\n"
          ]
        },
        {
          "name": "stderr",
          "output_type": "stream",
          "text": [
            "WARNING:tensorflow:Can save best model only with val_acc available, skipping.\n"
          ]
        },
        {
          "name": "stdout",
          "output_type": "stream",
          "text": [
            "391/391 [==============================] - 32s 81ms/step - loss: 1.4037 - accuracy: 0.6451 - val_loss: 1.9856 - val_accuracy: 0.5219 - lr: 0.0010\n",
            "Learning rate:  0.001\n",
            "Epoch 65/300\n",
            "391/391 [==============================] - ETA: 0s - loss: 1.3990 - accuracy: 0.6471WARNING:tensorflow:Can save best model only with val_acc available, skipping.\n"
          ]
        },
        {
          "name": "stderr",
          "output_type": "stream",
          "text": [
            "WARNING:tensorflow:Can save best model only with val_acc available, skipping.\n"
          ]
        },
        {
          "name": "stdout",
          "output_type": "stream",
          "text": [
            "391/391 [==============================] - 32s 83ms/step - loss: 1.3990 - accuracy: 0.6471 - val_loss: 2.0493 - val_accuracy: 0.5235 - lr: 0.0010\n",
            "Learning rate:  0.001\n",
            "Epoch 66/300\n",
            "391/391 [==============================] - ETA: 0s - loss: 1.3907 - accuracy: 0.6494WARNING:tensorflow:Can save best model only with val_acc available, skipping.\n"
          ]
        },
        {
          "name": "stderr",
          "output_type": "stream",
          "text": [
            "WARNING:tensorflow:Can save best model only with val_acc available, skipping.\n"
          ]
        },
        {
          "name": "stdout",
          "output_type": "stream",
          "text": [
            "391/391 [==============================] - 32s 82ms/step - loss: 1.3907 - accuracy: 0.6494 - val_loss: 2.4559 - val_accuracy: 0.4560 - lr: 3.1623e-04\n",
            "Learning rate:  0.001\n",
            "Epoch 67/300\n",
            "391/391 [==============================] - ETA: 0s - loss: 1.3885 - accuracy: 0.6490WARNING:tensorflow:Can save best model only with val_acc available, skipping.\n"
          ]
        },
        {
          "name": "stderr",
          "output_type": "stream",
          "text": [
            "WARNING:tensorflow:Can save best model only with val_acc available, skipping.\n"
          ]
        },
        {
          "name": "stdout",
          "output_type": "stream",
          "text": [
            "391/391 [==============================] - 32s 82ms/step - loss: 1.3885 - accuracy: 0.6490 - val_loss: 2.0528 - val_accuracy: 0.5106 - lr: 0.0010\n",
            "Learning rate:  0.001\n",
            "Epoch 68/300\n",
            "391/391 [==============================] - ETA: 0s - loss: 1.3796 - accuracy: 0.6518WARNING:tensorflow:Can save best model only with val_acc available, skipping.\n"
          ]
        },
        {
          "name": "stderr",
          "output_type": "stream",
          "text": [
            "WARNING:tensorflow:Can save best model only with val_acc available, skipping.\n"
          ]
        },
        {
          "name": "stdout",
          "output_type": "stream",
          "text": [
            "391/391 [==============================] - 32s 81ms/step - loss: 1.3796 - accuracy: 0.6518 - val_loss: 2.0797 - val_accuracy: 0.5149 - lr: 0.0010\n",
            "Learning rate:  0.001\n",
            "Epoch 69/300\n",
            "391/391 [==============================] - ETA: 0s - loss: 1.3713 - accuracy: 0.6539WARNING:tensorflow:Can save best model only with val_acc available, skipping.\n"
          ]
        },
        {
          "name": "stderr",
          "output_type": "stream",
          "text": [
            "WARNING:tensorflow:Can save best model only with val_acc available, skipping.\n"
          ]
        },
        {
          "name": "stdout",
          "output_type": "stream",
          "text": [
            "391/391 [==============================] - 32s 83ms/step - loss: 1.3713 - accuracy: 0.6539 - val_loss: 2.2502 - val_accuracy: 0.4932 - lr: 0.0010\n",
            "Learning rate:  0.001\n",
            "Epoch 70/300\n",
            "391/391 [==============================] - ETA: 0s - loss: 1.3727 - accuracy: 0.6529WARNING:tensorflow:Can save best model only with val_acc available, skipping.\n"
          ]
        },
        {
          "name": "stderr",
          "output_type": "stream",
          "text": [
            "WARNING:tensorflow:Can save best model only with val_acc available, skipping.\n"
          ]
        },
        {
          "name": "stdout",
          "output_type": "stream",
          "text": [
            "391/391 [==============================] - 32s 81ms/step - loss: 1.3727 - accuracy: 0.6529 - val_loss: 2.1208 - val_accuracy: 0.5135 - lr: 0.0010\n",
            "Learning rate:  0.001\n",
            "Epoch 71/300\n",
            "391/391 [==============================] - ETA: 0s - loss: 1.3657 - accuracy: 0.6562WARNING:tensorflow:Can save best model only with val_acc available, skipping.\n"
          ]
        },
        {
          "name": "stderr",
          "output_type": "stream",
          "text": [
            "WARNING:tensorflow:Can save best model only with val_acc available, skipping.\n"
          ]
        },
        {
          "name": "stdout",
          "output_type": "stream",
          "text": [
            "391/391 [==============================] - 32s 82ms/step - loss: 1.3657 - accuracy: 0.6562 - val_loss: 2.0573 - val_accuracy: 0.5228 - lr: 3.1623e-04\n",
            "Learning rate:  0.001\n",
            "Epoch 72/300\n",
            "391/391 [==============================] - ETA: 0s - loss: 1.3665 - accuracy: 0.6561WARNING:tensorflow:Can save best model only with val_acc available, skipping.\n"
          ]
        },
        {
          "name": "stderr",
          "output_type": "stream",
          "text": [
            "WARNING:tensorflow:Can save best model only with val_acc available, skipping.\n"
          ]
        },
        {
          "name": "stdout",
          "output_type": "stream",
          "text": [
            "391/391 [==============================] - 32s 81ms/step - loss: 1.3665 - accuracy: 0.6561 - val_loss: 2.2912 - val_accuracy: 0.4762 - lr: 0.0010\n",
            "Learning rate:  0.001\n",
            "Epoch 73/300\n",
            "391/391 [==============================] - ETA: 0s - loss: 1.3513 - accuracy: 0.6620WARNING:tensorflow:Can save best model only with val_acc available, skipping.\n"
          ]
        },
        {
          "name": "stderr",
          "output_type": "stream",
          "text": [
            "WARNING:tensorflow:Can save best model only with val_acc available, skipping.\n"
          ]
        },
        {
          "name": "stdout",
          "output_type": "stream",
          "text": [
            "391/391 [==============================] - 32s 82ms/step - loss: 1.3513 - accuracy: 0.6620 - val_loss: 1.9685 - val_accuracy: 0.5327 - lr: 0.0010\n",
            "Learning rate:  0.001\n",
            "Epoch 74/300\n",
            "391/391 [==============================] - ETA: 0s - loss: 1.3543 - accuracy: 0.6572WARNING:tensorflow:Can save best model only with val_acc available, skipping.\n"
          ]
        },
        {
          "name": "stderr",
          "output_type": "stream",
          "text": [
            "WARNING:tensorflow:Can save best model only with val_acc available, skipping.\n"
          ]
        },
        {
          "name": "stdout",
          "output_type": "stream",
          "text": [
            "391/391 [==============================] - 33s 84ms/step - loss: 1.3543 - accuracy: 0.6572 - val_loss: 2.0112 - val_accuracy: 0.5259 - lr: 0.0010\n",
            "Learning rate:  0.001\n",
            "Epoch 75/300\n",
            "391/391 [==============================] - ETA: 0s - loss: 1.3493 - accuracy: 0.6628WARNING:tensorflow:Can save best model only with val_acc available, skipping.\n"
          ]
        },
        {
          "name": "stderr",
          "output_type": "stream",
          "text": [
            "WARNING:tensorflow:Can save best model only with val_acc available, skipping.\n"
          ]
        },
        {
          "name": "stdout",
          "output_type": "stream",
          "text": [
            "391/391 [==============================] - 32s 82ms/step - loss: 1.3493 - accuracy: 0.6628 - val_loss: 2.2393 - val_accuracy: 0.4965 - lr: 0.0010\n",
            "Learning rate:  0.001\n",
            "Epoch 76/300\n",
            "391/391 [==============================] - ETA: 0s - loss: 1.3399 - accuracy: 0.6608WARNING:tensorflow:Can save best model only with val_acc available, skipping.\n"
          ]
        },
        {
          "name": "stderr",
          "output_type": "stream",
          "text": [
            "WARNING:tensorflow:Can save best model only with val_acc available, skipping.\n"
          ]
        },
        {
          "name": "stdout",
          "output_type": "stream",
          "text": [
            "391/391 [==============================] - 32s 82ms/step - loss: 1.3399 - accuracy: 0.6608 - val_loss: 1.9695 - val_accuracy: 0.5328 - lr: 0.0010\n",
            "Learning rate:  0.001\n",
            "Epoch 77/300\n",
            "391/391 [==============================] - ETA: 0s - loss: 1.3417 - accuracy: 0.6624WARNING:tensorflow:Can save best model only with val_acc available, skipping.\n"
          ]
        },
        {
          "name": "stderr",
          "output_type": "stream",
          "text": [
            "WARNING:tensorflow:Can save best model only with val_acc available, skipping.\n"
          ]
        },
        {
          "name": "stdout",
          "output_type": "stream",
          "text": [
            "391/391 [==============================] - 32s 82ms/step - loss: 1.3417 - accuracy: 0.6624 - val_loss: 2.2129 - val_accuracy: 0.5074 - lr: 0.0010\n",
            "Learning rate:  0.001\n",
            "Epoch 78/300\n",
            "391/391 [==============================] - ETA: 0s - loss: 1.3320 - accuracy: 0.6638WARNING:tensorflow:Can save best model only with val_acc available, skipping.\n"
          ]
        },
        {
          "name": "stderr",
          "output_type": "stream",
          "text": [
            "WARNING:tensorflow:Can save best model only with val_acc available, skipping.\n"
          ]
        },
        {
          "name": "stdout",
          "output_type": "stream",
          "text": [
            "391/391 [==============================] - 32s 82ms/step - loss: 1.3320 - accuracy: 0.6638 - val_loss: 2.2226 - val_accuracy: 0.4926 - lr: 3.1623e-04\n",
            "Learning rate:  0.001\n",
            "Epoch 79/300\n",
            "391/391 [==============================] - ETA: 0s - loss: 1.3353 - accuracy: 0.6627WARNING:tensorflow:Can save best model only with val_acc available, skipping.\n"
          ]
        },
        {
          "name": "stderr",
          "output_type": "stream",
          "text": [
            "WARNING:tensorflow:Can save best model only with val_acc available, skipping.\n"
          ]
        },
        {
          "name": "stdout",
          "output_type": "stream",
          "text": [
            "391/391 [==============================] - 32s 82ms/step - loss: 1.3353 - accuracy: 0.6627 - val_loss: 1.9309 - val_accuracy: 0.5336 - lr: 0.0010\n",
            "Learning rate:  0.001\n",
            "Epoch 80/300\n",
            "391/391 [==============================] - ETA: 0s - loss: 1.3261 - accuracy: 0.6669WARNING:tensorflow:Can save best model only with val_acc available, skipping.\n"
          ]
        },
        {
          "name": "stderr",
          "output_type": "stream",
          "text": [
            "WARNING:tensorflow:Can save best model only with val_acc available, skipping.\n"
          ]
        },
        {
          "name": "stdout",
          "output_type": "stream",
          "text": [
            "391/391 [==============================] - 32s 81ms/step - loss: 1.3261 - accuracy: 0.6669 - val_loss: 2.0139 - val_accuracy: 0.5274 - lr: 0.0010\n",
            "Learning rate:  0.001\n",
            "Epoch 81/300\n",
            "391/391 [==============================] - ETA: 0s - loss: 1.3154 - accuracy: 0.6671WARNING:tensorflow:Can save best model only with val_acc available, skipping.\n"
          ]
        },
        {
          "name": "stderr",
          "output_type": "stream",
          "text": [
            "WARNING:tensorflow:Can save best model only with val_acc available, skipping.\n"
          ]
        },
        {
          "name": "stdout",
          "output_type": "stream",
          "text": [
            "391/391 [==============================] - 32s 81ms/step - loss: 1.3154 - accuracy: 0.6671 - val_loss: 1.8268 - val_accuracy: 0.5593 - lr: 0.0010\n",
            "Learning rate:  0.0001\n",
            "Epoch 82/300\n",
            "391/391 [==============================] - ETA: 0s - loss: 1.1906 - accuracy: 0.7036WARNING:tensorflow:Can save best model only with val_acc available, skipping.\n"
          ]
        },
        {
          "name": "stderr",
          "output_type": "stream",
          "text": [
            "WARNING:tensorflow:Can save best model only with val_acc available, skipping.\n"
          ]
        },
        {
          "name": "stdout",
          "output_type": "stream",
          "text": [
            "391/391 [==============================] - 32s 81ms/step - loss: 1.1906 - accuracy: 0.7036 - val_loss: 1.6723 - val_accuracy: 0.5958 - lr: 1.0000e-04\n",
            "Learning rate:  0.0001\n",
            "Epoch 83/300\n",
            "391/391 [==============================] - ETA: 0s - loss: 1.1505 - accuracy: 0.7167WARNING:tensorflow:Can save best model only with val_acc available, skipping.\n"
          ]
        },
        {
          "name": "stderr",
          "output_type": "stream",
          "text": [
            "WARNING:tensorflow:Can save best model only with val_acc available, skipping.\n"
          ]
        },
        {
          "name": "stdout",
          "output_type": "stream",
          "text": [
            "391/391 [==============================] - 31s 80ms/step - loss: 1.1505 - accuracy: 0.7167 - val_loss: 1.6632 - val_accuracy: 0.5972 - lr: 1.0000e-04\n",
            "Learning rate:  0.0001\n",
            "Epoch 84/300\n",
            "391/391 [==============================] - ETA: 0s - loss: 1.1409 - accuracy: 0.7194WARNING:tensorflow:Can save best model only with val_acc available, skipping.\n"
          ]
        },
        {
          "name": "stderr",
          "output_type": "stream",
          "text": [
            "WARNING:tensorflow:Can save best model only with val_acc available, skipping.\n"
          ]
        },
        {
          "name": "stdout",
          "output_type": "stream",
          "text": [
            "391/391 [==============================] - 32s 81ms/step - loss: 1.1409 - accuracy: 0.7194 - val_loss: 1.6683 - val_accuracy: 0.5961 - lr: 1.0000e-04\n",
            "Learning rate:  0.0001\n",
            "Epoch 85/300\n",
            "391/391 [==============================] - ETA: 0s - loss: 1.1267 - accuracy: 0.7249WARNING:tensorflow:Can save best model only with val_acc available, skipping.\n"
          ]
        },
        {
          "name": "stderr",
          "output_type": "stream",
          "text": [
            "WARNING:tensorflow:Can save best model only with val_acc available, skipping.\n"
          ]
        },
        {
          "name": "stdout",
          "output_type": "stream",
          "text": [
            "391/391 [==============================] - 31s 80ms/step - loss: 1.1267 - accuracy: 0.7249 - val_loss: 1.6598 - val_accuracy: 0.5964 - lr: 1.0000e-04\n",
            "Learning rate:  0.0001\n",
            "Epoch 86/300\n",
            "391/391 [==============================] - ETA: 0s - loss: 1.1251 - accuracy: 0.7236WARNING:tensorflow:Can save best model only with val_acc available, skipping.\n"
          ]
        },
        {
          "name": "stderr",
          "output_type": "stream",
          "text": [
            "WARNING:tensorflow:Can save best model only with val_acc available, skipping.\n"
          ]
        },
        {
          "name": "stdout",
          "output_type": "stream",
          "text": [
            "391/391 [==============================] - 32s 81ms/step - loss: 1.1251 - accuracy: 0.7236 - val_loss: 1.6934 - val_accuracy: 0.5907 - lr: 1.0000e-04\n",
            "Learning rate:  0.0001\n",
            "Epoch 87/300\n",
            "391/391 [==============================] - ETA: 0s - loss: 1.1172 - accuracy: 0.7257WARNING:tensorflow:Can save best model only with val_acc available, skipping.\n"
          ]
        },
        {
          "name": "stderr",
          "output_type": "stream",
          "text": [
            "WARNING:tensorflow:Can save best model only with val_acc available, skipping.\n"
          ]
        },
        {
          "name": "stdout",
          "output_type": "stream",
          "text": [
            "391/391 [==============================] - 31s 80ms/step - loss: 1.1172 - accuracy: 0.7257 - val_loss: 1.7018 - val_accuracy: 0.5908 - lr: 1.0000e-04\n",
            "Learning rate:  0.0001\n",
            "Epoch 88/300\n",
            "391/391 [==============================] - ETA: 0s - loss: 1.1156 - accuracy: 0.7261WARNING:tensorflow:Can save best model only with val_acc available, skipping.\n"
          ]
        },
        {
          "name": "stderr",
          "output_type": "stream",
          "text": [
            "WARNING:tensorflow:Can save best model only with val_acc available, skipping.\n"
          ]
        },
        {
          "name": "stdout",
          "output_type": "stream",
          "text": [
            "391/391 [==============================] - 31s 80ms/step - loss: 1.1156 - accuracy: 0.7261 - val_loss: 1.6948 - val_accuracy: 0.5933 - lr: 1.0000e-04\n",
            "Learning rate:  0.0001\n",
            "Epoch 89/300\n",
            "391/391 [==============================] - ETA: 0s - loss: 1.1078 - accuracy: 0.7277WARNING:tensorflow:Can save best model only with val_acc available, skipping.\n"
          ]
        },
        {
          "name": "stderr",
          "output_type": "stream",
          "text": [
            "WARNING:tensorflow:Can save best model only with val_acc available, skipping.\n"
          ]
        },
        {
          "name": "stdout",
          "output_type": "stream",
          "text": [
            "391/391 [==============================] - 31s 80ms/step - loss: 1.1078 - accuracy: 0.7277 - val_loss: 1.6674 - val_accuracy: 0.5995 - lr: 1.0000e-04\n",
            "Learning rate:  0.0001\n",
            "Epoch 90/300\n",
            "391/391 [==============================] - ETA: 0s - loss: 1.1026 - accuracy: 0.7290WARNING:tensorflow:Can save best model only with val_acc available, skipping.\n"
          ]
        },
        {
          "name": "stderr",
          "output_type": "stream",
          "text": [
            "WARNING:tensorflow:Can save best model only with val_acc available, skipping.\n"
          ]
        },
        {
          "name": "stdout",
          "output_type": "stream",
          "text": [
            "391/391 [==============================] - 32s 81ms/step - loss: 1.1026 - accuracy: 0.7290 - val_loss: 1.6737 - val_accuracy: 0.5954 - lr: 3.1623e-05\n",
            "Learning rate:  0.0001\n",
            "Epoch 91/300\n",
            "391/391 [==============================] - ETA: 0s - loss: 1.1039 - accuracy: 0.7296WARNING:tensorflow:Can save best model only with val_acc available, skipping.\n"
          ]
        },
        {
          "name": "stderr",
          "output_type": "stream",
          "text": [
            "WARNING:tensorflow:Can save best model only with val_acc available, skipping.\n"
          ]
        },
        {
          "name": "stdout",
          "output_type": "stream",
          "text": [
            "391/391 [==============================] - 31s 81ms/step - loss: 1.1039 - accuracy: 0.7296 - val_loss: 1.6746 - val_accuracy: 0.5967 - lr: 1.0000e-04\n",
            "Learning rate:  0.0001\n",
            "Epoch 92/300\n",
            "391/391 [==============================] - ETA: 0s - loss: 1.1000 - accuracy: 0.7304WARNING:tensorflow:Can save best model only with val_acc available, skipping.\n"
          ]
        },
        {
          "name": "stderr",
          "output_type": "stream",
          "text": [
            "WARNING:tensorflow:Can save best model only with val_acc available, skipping.\n"
          ]
        },
        {
          "name": "stdout",
          "output_type": "stream",
          "text": [
            "391/391 [==============================] - 32s 81ms/step - loss: 1.1000 - accuracy: 0.7304 - val_loss: 1.6873 - val_accuracy: 0.5965 - lr: 1.0000e-04\n",
            "Learning rate:  0.0001\n",
            "Epoch 93/300\n",
            "391/391 [==============================] - ETA: 0s - loss: 1.0967 - accuracy: 0.7309WARNING:tensorflow:Can save best model only with val_acc available, skipping.\n"
          ]
        },
        {
          "name": "stderr",
          "output_type": "stream",
          "text": [
            "WARNING:tensorflow:Can save best model only with val_acc available, skipping.\n"
          ]
        },
        {
          "name": "stdout",
          "output_type": "stream",
          "text": [
            "391/391 [==============================] - 31s 80ms/step - loss: 1.0967 - accuracy: 0.7309 - val_loss: 1.6775 - val_accuracy: 0.5944 - lr: 1.0000e-04\n",
            "Learning rate:  0.0001\n",
            "Epoch 94/300\n",
            "391/391 [==============================] - ETA: 0s - loss: 1.0943 - accuracy: 0.7312WARNING:tensorflow:Can save best model only with val_acc available, skipping.\n"
          ]
        },
        {
          "name": "stderr",
          "output_type": "stream",
          "text": [
            "WARNING:tensorflow:Can save best model only with val_acc available, skipping.\n"
          ]
        },
        {
          "name": "stdout",
          "output_type": "stream",
          "text": [
            "391/391 [==============================] - 31s 80ms/step - loss: 1.0943 - accuracy: 0.7312 - val_loss: 1.6779 - val_accuracy: 0.5969 - lr: 1.0000e-04\n",
            "Learning rate:  0.0001\n",
            "Epoch 95/300\n",
            "391/391 [==============================] - ETA: 0s - loss: 1.0946 - accuracy: 0.7314WARNING:tensorflow:Can save best model only with val_acc available, skipping.\n"
          ]
        },
        {
          "name": "stderr",
          "output_type": "stream",
          "text": [
            "WARNING:tensorflow:Can save best model only with val_acc available, skipping.\n"
          ]
        },
        {
          "name": "stdout",
          "output_type": "stream",
          "text": [
            "391/391 [==============================] - 32s 81ms/step - loss: 1.0946 - accuracy: 0.7314 - val_loss: 1.6918 - val_accuracy: 0.5911 - lr: 3.1623e-05\n",
            "Learning rate:  0.0001\n",
            "Epoch 96/300\n",
            "391/391 [==============================] - ETA: 0s - loss: 1.0912 - accuracy: 0.7313WARNING:tensorflow:Can save best model only with val_acc available, skipping.\n"
          ]
        },
        {
          "name": "stderr",
          "output_type": "stream",
          "text": [
            "WARNING:tensorflow:Can save best model only with val_acc available, skipping.\n"
          ]
        },
        {
          "name": "stdout",
          "output_type": "stream",
          "text": [
            "391/391 [==============================] - 31s 80ms/step - loss: 1.0912 - accuracy: 0.7313 - val_loss: 1.6742 - val_accuracy: 0.5973 - lr: 1.0000e-04\n",
            "Learning rate:  0.0001\n",
            "Epoch 97/300\n",
            "391/391 [==============================] - ETA: 0s - loss: 1.0855 - accuracy: 0.7344WARNING:tensorflow:Can save best model only with val_acc available, skipping.\n"
          ]
        },
        {
          "name": "stderr",
          "output_type": "stream",
          "text": [
            "WARNING:tensorflow:Can save best model only with val_acc available, skipping.\n"
          ]
        },
        {
          "name": "stdout",
          "output_type": "stream",
          "text": [
            "391/391 [==============================] - 32s 81ms/step - loss: 1.0855 - accuracy: 0.7344 - val_loss: 1.6636 - val_accuracy: 0.5984 - lr: 1.0000e-04\n",
            "Learning rate:  0.0001\n",
            "Epoch 98/300\n",
            "391/391 [==============================] - ETA: 0s - loss: 1.0874 - accuracy: 0.7340WARNING:tensorflow:Can save best model only with val_acc available, skipping.\n"
          ]
        },
        {
          "name": "stderr",
          "output_type": "stream",
          "text": [
            "WARNING:tensorflow:Can save best model only with val_acc available, skipping.\n"
          ]
        },
        {
          "name": "stdout",
          "output_type": "stream",
          "text": [
            "391/391 [==============================] - 31s 80ms/step - loss: 1.0874 - accuracy: 0.7340 - val_loss: 1.6941 - val_accuracy: 0.5939 - lr: 1.0000e-04\n",
            "Learning rate:  0.0001\n",
            "Epoch 99/300\n",
            "391/391 [==============================] - ETA: 0s - loss: 1.0832 - accuracy: 0.7306WARNING:tensorflow:Can save best model only with val_acc available, skipping.\n"
          ]
        },
        {
          "name": "stderr",
          "output_type": "stream",
          "text": [
            "WARNING:tensorflow:Can save best model only with val_acc available, skipping.\n"
          ]
        },
        {
          "name": "stdout",
          "output_type": "stream",
          "text": [
            "391/391 [==============================] - 32s 81ms/step - loss: 1.0832 - accuracy: 0.7306 - val_loss: 1.6730 - val_accuracy: 0.5988 - lr: 1.0000e-04\n",
            "Learning rate:  0.0001\n",
            "Epoch 100/300\n",
            "391/391 [==============================] - ETA: 0s - loss: 1.0806 - accuracy: 0.7316WARNING:tensorflow:Can save best model only with val_acc available, skipping.\n"
          ]
        },
        {
          "name": "stderr",
          "output_type": "stream",
          "text": [
            "WARNING:tensorflow:Can save best model only with val_acc available, skipping.\n"
          ]
        },
        {
          "name": "stdout",
          "output_type": "stream",
          "text": [
            "391/391 [==============================] - 31s 80ms/step - loss: 1.0806 - accuracy: 0.7316 - val_loss: 1.6728 - val_accuracy: 0.5960 - lr: 3.1623e-05\n",
            "Learning rate:  0.0001\n",
            "Epoch 101/300\n",
            "391/391 [==============================] - ETA: 0s - loss: 1.0775 - accuracy: 0.7329WARNING:tensorflow:Can save best model only with val_acc available, skipping.\n"
          ]
        },
        {
          "name": "stderr",
          "output_type": "stream",
          "text": [
            "WARNING:tensorflow:Can save best model only with val_acc available, skipping.\n"
          ]
        },
        {
          "name": "stdout",
          "output_type": "stream",
          "text": [
            "391/391 [==============================] - 32s 82ms/step - loss: 1.0775 - accuracy: 0.7329 - val_loss: 1.6807 - val_accuracy: 0.5996 - lr: 1.0000e-04\n",
            "Learning rate:  0.0001\n",
            "Epoch 102/300\n",
            "391/391 [==============================] - ETA: 0s - loss: 1.0753 - accuracy: 0.7350WARNING:tensorflow:Can save best model only with val_acc available, skipping.\n"
          ]
        },
        {
          "name": "stderr",
          "output_type": "stream",
          "text": [
            "WARNING:tensorflow:Can save best model only with val_acc available, skipping.\n"
          ]
        },
        {
          "name": "stdout",
          "output_type": "stream",
          "text": [
            "391/391 [==============================] - 32s 82ms/step - loss: 1.0753 - accuracy: 0.7350 - val_loss: 1.6966 - val_accuracy: 0.5941 - lr: 1.0000e-04\n",
            "Learning rate:  0.0001\n",
            "Epoch 103/300\n",
            "391/391 [==============================] - ETA: 0s - loss: 1.0733 - accuracy: 0.7347WARNING:tensorflow:Can save best model only with val_acc available, skipping.\n"
          ]
        },
        {
          "name": "stderr",
          "output_type": "stream",
          "text": [
            "WARNING:tensorflow:Can save best model only with val_acc available, skipping.\n"
          ]
        },
        {
          "name": "stdout",
          "output_type": "stream",
          "text": [
            "391/391 [==============================] - 32s 82ms/step - loss: 1.0733 - accuracy: 0.7347 - val_loss: 1.6817 - val_accuracy: 0.5943 - lr: 1.0000e-04\n",
            "Learning rate:  0.0001\n",
            "Epoch 104/300\n",
            "391/391 [==============================] - ETA: 0s - loss: 1.0734 - accuracy: 0.7356WARNING:tensorflow:Can save best model only with val_acc available, skipping.\n"
          ]
        },
        {
          "name": "stderr",
          "output_type": "stream",
          "text": [
            "WARNING:tensorflow:Can save best model only with val_acc available, skipping.\n"
          ]
        },
        {
          "name": "stdout",
          "output_type": "stream",
          "text": [
            "391/391 [==============================] - 32s 81ms/step - loss: 1.0734 - accuracy: 0.7356 - val_loss: 1.6837 - val_accuracy: 0.6004 - lr: 1.0000e-04\n",
            "Learning rate:  0.0001\n",
            "Epoch 105/300\n",
            "391/391 [==============================] - ETA: 0s - loss: 1.0679 - accuracy: 0.7378WARNING:tensorflow:Can save best model only with val_acc available, skipping.\n"
          ]
        },
        {
          "name": "stderr",
          "output_type": "stream",
          "text": [
            "WARNING:tensorflow:Can save best model only with val_acc available, skipping.\n"
          ]
        },
        {
          "name": "stdout",
          "output_type": "stream",
          "text": [
            "391/391 [==============================] - 32s 82ms/step - loss: 1.0679 - accuracy: 0.7378 - val_loss: 1.7099 - val_accuracy: 0.5929 - lr: 3.1623e-05\n",
            "Learning rate:  0.0001\n",
            "Epoch 106/300\n",
            "391/391 [==============================] - ETA: 0s - loss: 1.0726 - accuracy: 0.7356WARNING:tensorflow:Can save best model only with val_acc available, skipping.\n"
          ]
        },
        {
          "name": "stderr",
          "output_type": "stream",
          "text": [
            "WARNING:tensorflow:Can save best model only with val_acc available, skipping.\n"
          ]
        },
        {
          "name": "stdout",
          "output_type": "stream",
          "text": [
            "391/391 [==============================] - 32s 82ms/step - loss: 1.0726 - accuracy: 0.7356 - val_loss: 1.6921 - val_accuracy: 0.5994 - lr: 1.0000e-04\n",
            "Learning rate:  0.0001\n",
            "Epoch 107/300\n",
            "391/391 [==============================] - ETA: 0s - loss: 1.0700 - accuracy: 0.7344WARNING:tensorflow:Can save best model only with val_acc available, skipping.\n"
          ]
        },
        {
          "name": "stderr",
          "output_type": "stream",
          "text": [
            "WARNING:tensorflow:Can save best model only with val_acc available, skipping.\n"
          ]
        },
        {
          "name": "stdout",
          "output_type": "stream",
          "text": [
            "391/391 [==============================] - 32s 82ms/step - loss: 1.0700 - accuracy: 0.7344 - val_loss: 1.7018 - val_accuracy: 0.5953 - lr: 1.0000e-04\n",
            "Learning rate:  0.0001\n",
            "Epoch 108/300\n",
            "391/391 [==============================] - ETA: 0s - loss: 1.0634 - accuracy: 0.7375WARNING:tensorflow:Can save best model only with val_acc available, skipping.\n"
          ]
        },
        {
          "name": "stderr",
          "output_type": "stream",
          "text": [
            "WARNING:tensorflow:Can save best model only with val_acc available, skipping.\n"
          ]
        },
        {
          "name": "stdout",
          "output_type": "stream",
          "text": [
            "391/391 [==============================] - 32s 82ms/step - loss: 1.0634 - accuracy: 0.7375 - val_loss: 1.6644 - val_accuracy: 0.5984 - lr: 1.0000e-04\n",
            "Learning rate:  0.0001\n",
            "Epoch 109/300\n",
            "391/391 [==============================] - ETA: 0s - loss: 1.0625 - accuracy: 0.7367WARNING:tensorflow:Can save best model only with val_acc available, skipping.\n"
          ]
        },
        {
          "name": "stderr",
          "output_type": "stream",
          "text": [
            "WARNING:tensorflow:Can save best model only with val_acc available, skipping.\n"
          ]
        },
        {
          "name": "stdout",
          "output_type": "stream",
          "text": [
            "391/391 [==============================] - 32s 82ms/step - loss: 1.0625 - accuracy: 0.7367 - val_loss: 1.7055 - val_accuracy: 0.5927 - lr: 1.0000e-04\n",
            "Learning rate:  0.0001\n",
            "Epoch 110/300\n",
            "391/391 [==============================] - ETA: 0s - loss: 1.0651 - accuracy: 0.7375WARNING:tensorflow:Can save best model only with val_acc available, skipping.\n"
          ]
        },
        {
          "name": "stderr",
          "output_type": "stream",
          "text": [
            "WARNING:tensorflow:Can save best model only with val_acc available, skipping.\n"
          ]
        },
        {
          "name": "stdout",
          "output_type": "stream",
          "text": [
            "391/391 [==============================] - 32s 83ms/step - loss: 1.0651 - accuracy: 0.7375 - val_loss: 1.6724 - val_accuracy: 0.6012 - lr: 3.1623e-05\n",
            "Learning rate:  0.0001\n",
            "Epoch 111/300\n",
            "391/391 [==============================] - ETA: 0s - loss: 1.0617 - accuracy: 0.7366WARNING:tensorflow:Can save best model only with val_acc available, skipping.\n"
          ]
        },
        {
          "name": "stderr",
          "output_type": "stream",
          "text": [
            "WARNING:tensorflow:Can save best model only with val_acc available, skipping.\n"
          ]
        },
        {
          "name": "stdout",
          "output_type": "stream",
          "text": [
            "391/391 [==============================] - 32s 82ms/step - loss: 1.0617 - accuracy: 0.7366 - val_loss: 1.6470 - val_accuracy: 0.6062 - lr: 1.0000e-04\n",
            "Learning rate:  0.0001\n",
            "Epoch 112/300\n",
            "391/391 [==============================] - ETA: 0s - loss: 1.0598 - accuracy: 0.7378WARNING:tensorflow:Can save best model only with val_acc available, skipping.\n"
          ]
        },
        {
          "name": "stderr",
          "output_type": "stream",
          "text": [
            "WARNING:tensorflow:Can save best model only with val_acc available, skipping.\n"
          ]
        },
        {
          "name": "stdout",
          "output_type": "stream",
          "text": [
            "391/391 [==============================] - 33s 84ms/step - loss: 1.0598 - accuracy: 0.7378 - val_loss: 1.6794 - val_accuracy: 0.6005 - lr: 1.0000e-04\n",
            "Learning rate:  0.0001\n",
            "Epoch 113/300\n",
            "391/391 [==============================] - ETA: 0s - loss: 1.0634 - accuracy: 0.7372WARNING:tensorflow:Can save best model only with val_acc available, skipping.\n"
          ]
        },
        {
          "name": "stderr",
          "output_type": "stream",
          "text": [
            "WARNING:tensorflow:Can save best model only with val_acc available, skipping.\n"
          ]
        },
        {
          "name": "stdout",
          "output_type": "stream",
          "text": [
            "391/391 [==============================] - 32s 82ms/step - loss: 1.0634 - accuracy: 0.7372 - val_loss: 1.6746 - val_accuracy: 0.5979 - lr: 1.0000e-04\n",
            "Learning rate:  0.0001\n",
            "Epoch 114/300\n",
            "391/391 [==============================] - ETA: 0s - loss: 1.0583 - accuracy: 0.7362WARNING:tensorflow:Can save best model only with val_acc available, skipping.\n"
          ]
        },
        {
          "name": "stderr",
          "output_type": "stream",
          "text": [
            "WARNING:tensorflow:Can save best model only with val_acc available, skipping.\n"
          ]
        },
        {
          "name": "stdout",
          "output_type": "stream",
          "text": [
            "391/391 [==============================] - 33s 83ms/step - loss: 1.0583 - accuracy: 0.7362 - val_loss: 1.6777 - val_accuracy: 0.5984 - lr: 1.0000e-04\n",
            "Learning rate:  0.0001\n",
            "Epoch 115/300\n",
            "391/391 [==============================] - ETA: 0s - loss: 1.0583 - accuracy: 0.7372WARNING:tensorflow:Can save best model only with val_acc available, skipping.\n"
          ]
        },
        {
          "name": "stderr",
          "output_type": "stream",
          "text": [
            "WARNING:tensorflow:Can save best model only with val_acc available, skipping.\n"
          ]
        },
        {
          "name": "stdout",
          "output_type": "stream",
          "text": [
            "391/391 [==============================] - 32s 82ms/step - loss: 1.0583 - accuracy: 0.7372 - val_loss: 1.6983 - val_accuracy: 0.5940 - lr: 1.0000e-04\n",
            "Learning rate:  0.0001\n",
            "Epoch 116/300\n",
            "391/391 [==============================] - ETA: 0s - loss: 1.0455 - accuracy: 0.7402WARNING:tensorflow:Can save best model only with val_acc available, skipping.\n"
          ]
        },
        {
          "name": "stderr",
          "output_type": "stream",
          "text": [
            "WARNING:tensorflow:Can save best model only with val_acc available, skipping.\n"
          ]
        },
        {
          "name": "stdout",
          "output_type": "stream",
          "text": [
            "391/391 [==============================] - 33s 83ms/step - loss: 1.0455 - accuracy: 0.7402 - val_loss: 1.7095 - val_accuracy: 0.5919 - lr: 3.1623e-05\n",
            "Learning rate:  0.0001\n",
            "Epoch 117/300\n",
            "391/391 [==============================] - ETA: 0s - loss: 1.0493 - accuracy: 0.7407WARNING:tensorflow:Can save best model only with val_acc available, skipping.\n"
          ]
        },
        {
          "name": "stderr",
          "output_type": "stream",
          "text": [
            "WARNING:tensorflow:Can save best model only with val_acc available, skipping.\n"
          ]
        },
        {
          "name": "stdout",
          "output_type": "stream",
          "text": [
            "391/391 [==============================] - 32s 82ms/step - loss: 1.0493 - accuracy: 0.7407 - val_loss: 1.7246 - val_accuracy: 0.5893 - lr: 1.0000e-04\n",
            "Learning rate:  0.0001\n",
            "Epoch 118/300\n",
            "391/391 [==============================] - ETA: 0s - loss: 1.0507 - accuracy: 0.7388WARNING:tensorflow:Can save best model only with val_acc available, skipping.\n"
          ]
        },
        {
          "name": "stderr",
          "output_type": "stream",
          "text": [
            "WARNING:tensorflow:Can save best model only with val_acc available, skipping.\n"
          ]
        },
        {
          "name": "stdout",
          "output_type": "stream",
          "text": [
            "391/391 [==============================] - 33s 83ms/step - loss: 1.0507 - accuracy: 0.7388 - val_loss: 1.6573 - val_accuracy: 0.5971 - lr: 1.0000e-04\n",
            "Learning rate:  0.0001\n",
            "Epoch 119/300\n",
            "391/391 [==============================] - ETA: 0s - loss: 1.0502 - accuracy: 0.7395WARNING:tensorflow:Can save best model only with val_acc available, skipping.\n"
          ]
        },
        {
          "name": "stderr",
          "output_type": "stream",
          "text": [
            "WARNING:tensorflow:Can save best model only with val_acc available, skipping.\n"
          ]
        },
        {
          "name": "stdout",
          "output_type": "stream",
          "text": [
            "391/391 [==============================] - 32s 82ms/step - loss: 1.0502 - accuracy: 0.7395 - val_loss: 1.6499 - val_accuracy: 0.6058 - lr: 1.0000e-04\n",
            "Learning rate:  0.0001\n",
            "Epoch 120/300\n",
            "391/391 [==============================] - ETA: 0s - loss: 1.0543 - accuracy: 0.7380WARNING:tensorflow:Can save best model only with val_acc available, skipping.\n"
          ]
        },
        {
          "name": "stderr",
          "output_type": "stream",
          "text": [
            "WARNING:tensorflow:Can save best model only with val_acc available, skipping.\n"
          ]
        },
        {
          "name": "stdout",
          "output_type": "stream",
          "text": [
            "391/391 [==============================] - 33s 83ms/step - loss: 1.0543 - accuracy: 0.7380 - val_loss: 1.6708 - val_accuracy: 0.5980 - lr: 1.0000e-04\n",
            "Learning rate:  0.0001\n",
            "Epoch 121/300\n",
            "391/391 [==============================] - ETA: 0s - loss: 1.0436 - accuracy: 0.7411WARNING:tensorflow:Can save best model only with val_acc available, skipping.\n"
          ]
        },
        {
          "name": "stderr",
          "output_type": "stream",
          "text": [
            "WARNING:tensorflow:Can save best model only with val_acc available, skipping.\n"
          ]
        },
        {
          "name": "stdout",
          "output_type": "stream",
          "text": [
            "391/391 [==============================] - 32s 82ms/step - loss: 1.0436 - accuracy: 0.7411 - val_loss: 1.6913 - val_accuracy: 0.5970 - lr: 3.1623e-05\n",
            "Learning rate:  1e-05\n",
            "Epoch 122/300\n",
            "391/391 [==============================] - ETA: 0s - loss: 1.0324 - accuracy: 0.7446WARNING:tensorflow:Can save best model only with val_acc available, skipping.\n"
          ]
        },
        {
          "name": "stderr",
          "output_type": "stream",
          "text": [
            "WARNING:tensorflow:Can save best model only with val_acc available, skipping.\n"
          ]
        },
        {
          "name": "stdout",
          "output_type": "stream",
          "text": [
            "391/391 [==============================] - 32s 83ms/step - loss: 1.0324 - accuracy: 0.7446 - val_loss: 1.6624 - val_accuracy: 0.6015 - lr: 1.0000e-05\n",
            "Learning rate:  1e-05\n",
            "Epoch 123/300\n",
            "391/391 [==============================] - ETA: 0s - loss: 1.0305 - accuracy: 0.7447WARNING:tensorflow:Can save best model only with val_acc available, skipping.\n"
          ]
        },
        {
          "name": "stderr",
          "output_type": "stream",
          "text": [
            "WARNING:tensorflow:Can save best model only with val_acc available, skipping.\n"
          ]
        },
        {
          "name": "stdout",
          "output_type": "stream",
          "text": [
            "391/391 [==============================] - 32s 82ms/step - loss: 1.0305 - accuracy: 0.7447 - val_loss: 1.6624 - val_accuracy: 0.6024 - lr: 1.0000e-05\n",
            "Learning rate:  1e-05\n",
            "Epoch 124/300\n",
            "391/391 [==============================] - ETA: 0s - loss: 1.0260 - accuracy: 0.7472WARNING:tensorflow:Can save best model only with val_acc available, skipping.\n"
          ]
        },
        {
          "name": "stderr",
          "output_type": "stream",
          "text": [
            "WARNING:tensorflow:Can save best model only with val_acc available, skipping.\n"
          ]
        },
        {
          "name": "stdout",
          "output_type": "stream",
          "text": [
            "391/391 [==============================] - 32s 82ms/step - loss: 1.0260 - accuracy: 0.7472 - val_loss: 1.6665 - val_accuracy: 0.6013 - lr: 1.0000e-05\n",
            "Learning rate:  1e-05\n",
            "Epoch 125/300\n",
            "391/391 [==============================] - ETA: 0s - loss: 1.0265 - accuracy: 0.7465WARNING:tensorflow:Can save best model only with val_acc available, skipping.\n"
          ]
        },
        {
          "name": "stderr",
          "output_type": "stream",
          "text": [
            "WARNING:tensorflow:Can save best model only with val_acc available, skipping.\n"
          ]
        },
        {
          "name": "stdout",
          "output_type": "stream",
          "text": [
            "391/391 [==============================] - 32s 83ms/step - loss: 1.0265 - accuracy: 0.7465 - val_loss: 1.6666 - val_accuracy: 0.6009 - lr: 1.0000e-05\n",
            "Learning rate:  1e-05\n",
            "Epoch 126/300\n",
            "391/391 [==============================] - ETA: 0s - loss: 1.0256 - accuracy: 0.7468WARNING:tensorflow:Can save best model only with val_acc available, skipping.\n"
          ]
        },
        {
          "name": "stderr",
          "output_type": "stream",
          "text": [
            "WARNING:tensorflow:Can save best model only with val_acc available, skipping.\n"
          ]
        },
        {
          "name": "stdout",
          "output_type": "stream",
          "text": [
            "391/391 [==============================] - 32s 82ms/step - loss: 1.0256 - accuracy: 0.7468 - val_loss: 1.6621 - val_accuracy: 0.6029 - lr: 3.1623e-06\n",
            "Learning rate:  1e-05\n",
            "Epoch 127/300\n",
            "391/391 [==============================] - ETA: 0s - loss: 1.0224 - accuracy: 0.7499WARNING:tensorflow:Can save best model only with val_acc available, skipping.\n"
          ]
        },
        {
          "name": "stderr",
          "output_type": "stream",
          "text": [
            "WARNING:tensorflow:Can save best model only with val_acc available, skipping.\n"
          ]
        },
        {
          "name": "stdout",
          "output_type": "stream",
          "text": [
            "391/391 [==============================] - 32s 83ms/step - loss: 1.0224 - accuracy: 0.7499 - val_loss: 1.6638 - val_accuracy: 0.6015 - lr: 1.0000e-05\n",
            "Learning rate:  1e-05\n",
            "Epoch 128/300\n",
            "391/391 [==============================] - ETA: 0s - loss: 1.0249 - accuracy: 0.7474WARNING:tensorflow:Can save best model only with val_acc available, skipping.\n"
          ]
        },
        {
          "name": "stderr",
          "output_type": "stream",
          "text": [
            "WARNING:tensorflow:Can save best model only with val_acc available, skipping.\n"
          ]
        },
        {
          "name": "stdout",
          "output_type": "stream",
          "text": [
            "391/391 [==============================] - 32s 81ms/step - loss: 1.0249 - accuracy: 0.7474 - val_loss: 1.6588 - val_accuracy: 0.6024 - lr: 1.0000e-05\n",
            "Learning rate:  1e-05\n",
            "Epoch 129/300\n",
            "391/391 [==============================] - ETA: 0s - loss: 1.0210 - accuracy: 0.7458WARNING:tensorflow:Can save best model only with val_acc available, skipping.\n"
          ]
        },
        {
          "name": "stderr",
          "output_type": "stream",
          "text": [
            "WARNING:tensorflow:Can save best model only with val_acc available, skipping.\n"
          ]
        },
        {
          "name": "stdout",
          "output_type": "stream",
          "text": [
            "391/391 [==============================] - 32s 81ms/step - loss: 1.0210 - accuracy: 0.7458 - val_loss: 1.6621 - val_accuracy: 0.6023 - lr: 1.0000e-05\n",
            "Learning rate:  1e-05\n",
            "Epoch 130/300\n",
            "391/391 [==============================] - ETA: 0s - loss: 1.0211 - accuracy: 0.7483WARNING:tensorflow:Can save best model only with val_acc available, skipping.\n"
          ]
        },
        {
          "name": "stderr",
          "output_type": "stream",
          "text": [
            "WARNING:tensorflow:Can save best model only with val_acc available, skipping.\n"
          ]
        },
        {
          "name": "stdout",
          "output_type": "stream",
          "text": [
            "391/391 [==============================] - 32s 83ms/step - loss: 1.0211 - accuracy: 0.7483 - val_loss: 1.6643 - val_accuracy: 0.6020 - lr: 1.0000e-05\n",
            "Learning rate:  1e-05\n",
            "Epoch 131/300\n",
            "391/391 [==============================] - ETA: 0s - loss: 1.0187 - accuracy: 0.7497WARNING:tensorflow:Can save best model only with val_acc available, skipping.\n"
          ]
        },
        {
          "name": "stderr",
          "output_type": "stream",
          "text": [
            "WARNING:tensorflow:Can save best model only with val_acc available, skipping.\n"
          ]
        },
        {
          "name": "stdout",
          "output_type": "stream",
          "text": [
            "391/391 [==============================] - 32s 82ms/step - loss: 1.0187 - accuracy: 0.7497 - val_loss: 1.6670 - val_accuracy: 0.6005 - lr: 3.1623e-06\n",
            "Learning rate:  1e-05\n",
            "Epoch 132/300\n",
            "391/391 [==============================] - ETA: 0s - loss: 1.0281 - accuracy: 0.7465WARNING:tensorflow:Can save best model only with val_acc available, skipping.\n"
          ]
        },
        {
          "name": "stderr",
          "output_type": "stream",
          "text": [
            "WARNING:tensorflow:Can save best model only with val_acc available, skipping.\n"
          ]
        },
        {
          "name": "stdout",
          "output_type": "stream",
          "text": [
            "391/391 [==============================] - 32s 82ms/step - loss: 1.0281 - accuracy: 0.7465 - val_loss: 1.6649 - val_accuracy: 0.6012 - lr: 1.0000e-05\n",
            "Learning rate:  1e-05\n",
            "Epoch 133/300\n",
            "391/391 [==============================] - ETA: 0s - loss: 1.0199 - accuracy: 0.7478WARNING:tensorflow:Can save best model only with val_acc available, skipping.\n"
          ]
        },
        {
          "name": "stderr",
          "output_type": "stream",
          "text": [
            "WARNING:tensorflow:Can save best model only with val_acc available, skipping.\n"
          ]
        },
        {
          "name": "stdout",
          "output_type": "stream",
          "text": [
            "391/391 [==============================] - 32s 82ms/step - loss: 1.0199 - accuracy: 0.7478 - val_loss: 1.6612 - val_accuracy: 0.6020 - lr: 1.0000e-05\n",
            "Learning rate:  1e-05\n",
            "Epoch 134/300\n",
            "391/391 [==============================] - ETA: 0s - loss: 1.0220 - accuracy: 0.7487WARNING:tensorflow:Can save best model only with val_acc available, skipping.\n"
          ]
        },
        {
          "name": "stderr",
          "output_type": "stream",
          "text": [
            "WARNING:tensorflow:Can save best model only with val_acc available, skipping.\n"
          ]
        },
        {
          "name": "stdout",
          "output_type": "stream",
          "text": [
            "391/391 [==============================] - 32s 81ms/step - loss: 1.0220 - accuracy: 0.7487 - val_loss: 1.6691 - val_accuracy: 0.6000 - lr: 1.0000e-05\n",
            "Learning rate:  1e-05\n",
            "Epoch 135/300\n",
            "391/391 [==============================] - ETA: 0s - loss: 1.0193 - accuracy: 0.7492WARNING:tensorflow:Can save best model only with val_acc available, skipping.\n"
          ]
        },
        {
          "name": "stderr",
          "output_type": "stream",
          "text": [
            "WARNING:tensorflow:Can save best model only with val_acc available, skipping.\n"
          ]
        },
        {
          "name": "stdout",
          "output_type": "stream",
          "text": [
            "391/391 [==============================] - 32s 82ms/step - loss: 1.0193 - accuracy: 0.7492 - val_loss: 1.6646 - val_accuracy: 0.6012 - lr: 1.0000e-05\n",
            "Learning rate:  1e-05\n",
            "Epoch 136/300\n",
            "391/391 [==============================] - ETA: 0s - loss: 1.0192 - accuracy: 0.7491WARNING:tensorflow:Can save best model only with val_acc available, skipping.\n"
          ]
        },
        {
          "name": "stderr",
          "output_type": "stream",
          "text": [
            "WARNING:tensorflow:Can save best model only with val_acc available, skipping.\n"
          ]
        },
        {
          "name": "stdout",
          "output_type": "stream",
          "text": [
            "391/391 [==============================] - 32s 82ms/step - loss: 1.0192 - accuracy: 0.7491 - val_loss: 1.6624 - val_accuracy: 0.6006 - lr: 3.1623e-06\n",
            "Learning rate:  1e-05\n",
            "Epoch 137/300\n",
            "391/391 [==============================] - ETA: 0s - loss: 1.0243 - accuracy: 0.7470WARNING:tensorflow:Can save best model only with val_acc available, skipping.\n"
          ]
        },
        {
          "name": "stderr",
          "output_type": "stream",
          "text": [
            "WARNING:tensorflow:Can save best model only with val_acc available, skipping.\n"
          ]
        },
        {
          "name": "stdout",
          "output_type": "stream",
          "text": [
            "391/391 [==============================] - 31s 80ms/step - loss: 1.0243 - accuracy: 0.7470 - val_loss: 1.6618 - val_accuracy: 0.6003 - lr: 1.0000e-05\n",
            "Learning rate:  1e-05\n",
            "Epoch 138/300\n",
            "391/391 [==============================] - ETA: 0s - loss: 1.0230 - accuracy: 0.7483WARNING:tensorflow:Can save best model only with val_acc available, skipping.\n"
          ]
        },
        {
          "name": "stderr",
          "output_type": "stream",
          "text": [
            "WARNING:tensorflow:Can save best model only with val_acc available, skipping.\n"
          ]
        },
        {
          "name": "stdout",
          "output_type": "stream",
          "text": [
            "391/391 [==============================] - 32s 82ms/step - loss: 1.0230 - accuracy: 0.7483 - val_loss: 1.6578 - val_accuracy: 0.6013 - lr: 1.0000e-05\n",
            "Learning rate:  1e-05\n",
            "Epoch 139/300\n",
            "391/391 [==============================] - ETA: 0s - loss: 1.0247 - accuracy: 0.7473WARNING:tensorflow:Can save best model only with val_acc available, skipping.\n"
          ]
        },
        {
          "name": "stderr",
          "output_type": "stream",
          "text": [
            "WARNING:tensorflow:Can save best model only with val_acc available, skipping.\n"
          ]
        },
        {
          "name": "stdout",
          "output_type": "stream",
          "text": [
            "391/391 [==============================] - 32s 81ms/step - loss: 1.0247 - accuracy: 0.7473 - val_loss: 1.6666 - val_accuracy: 0.5987 - lr: 1.0000e-05\n",
            "Learning rate:  1e-05\n",
            "Epoch 140/300\n",
            "391/391 [==============================] - ETA: 0s - loss: 1.0181 - accuracy: 0.7482WARNING:tensorflow:Can save best model only with val_acc available, skipping.\n"
          ]
        },
        {
          "name": "stderr",
          "output_type": "stream",
          "text": [
            "WARNING:tensorflow:Can save best model only with val_acc available, skipping.\n"
          ]
        },
        {
          "name": "stdout",
          "output_type": "stream",
          "text": [
            "391/391 [==============================] - 32s 82ms/step - loss: 1.0181 - accuracy: 0.7482 - val_loss: 1.6686 - val_accuracy: 0.6000 - lr: 1.0000e-05\n",
            "Learning rate:  1e-05\n",
            "Epoch 141/300\n",
            "391/391 [==============================] - ETA: 0s - loss: 1.0199 - accuracy: 0.7487WARNING:tensorflow:Can save best model only with val_acc available, skipping.\n"
          ]
        },
        {
          "name": "stderr",
          "output_type": "stream",
          "text": [
            "WARNING:tensorflow:Can save best model only with val_acc available, skipping.\n"
          ]
        },
        {
          "name": "stdout",
          "output_type": "stream",
          "text": [
            "391/391 [==============================] - 32s 81ms/step - loss: 1.0199 - accuracy: 0.7487 - val_loss: 1.6642 - val_accuracy: 0.6013 - lr: 3.1623e-06\n",
            "Learning rate:  1e-05\n",
            "Epoch 142/300\n",
            "391/391 [==============================] - ETA: 0s - loss: 1.0176 - accuracy: 0.7494WARNING:tensorflow:Can save best model only with val_acc available, skipping.\n"
          ]
        },
        {
          "name": "stderr",
          "output_type": "stream",
          "text": [
            "WARNING:tensorflow:Can save best model only with val_acc available, skipping.\n"
          ]
        },
        {
          "name": "stdout",
          "output_type": "stream",
          "text": [
            "391/391 [==============================] - 32s 81ms/step - loss: 1.0176 - accuracy: 0.7494 - val_loss: 1.6627 - val_accuracy: 0.6012 - lr: 1.0000e-05\n",
            "Learning rate:  1e-05\n",
            "Epoch 143/300\n",
            "391/391 [==============================] - ETA: 0s - loss: 1.0246 - accuracy: 0.7455WARNING:tensorflow:Can save best model only with val_acc available, skipping.\n"
          ]
        },
        {
          "name": "stderr",
          "output_type": "stream",
          "text": [
            "WARNING:tensorflow:Can save best model only with val_acc available, skipping.\n"
          ]
        },
        {
          "name": "stdout",
          "output_type": "stream",
          "text": [
            "391/391 [==============================] - 32s 81ms/step - loss: 1.0246 - accuracy: 0.7455 - val_loss: 1.6680 - val_accuracy: 0.6010 - lr: 1.0000e-05\n",
            "Learning rate:  1e-05\n",
            "Epoch 144/300\n",
            "391/391 [==============================] - ETA: 0s - loss: 1.0195 - accuracy: 0.7473WARNING:tensorflow:Can save best model only with val_acc available, skipping.\n"
          ]
        },
        {
          "name": "stderr",
          "output_type": "stream",
          "text": [
            "WARNING:tensorflow:Can save best model only with val_acc available, skipping.\n"
          ]
        },
        {
          "name": "stdout",
          "output_type": "stream",
          "text": [
            "391/391 [==============================] - 32s 81ms/step - loss: 1.0195 - accuracy: 0.7473 - val_loss: 1.6718 - val_accuracy: 0.5987 - lr: 1.0000e-05\n",
            "Learning rate:  1e-05\n",
            "Epoch 145/300\n",
            "391/391 [==============================] - ETA: 0s - loss: 1.0186 - accuracy: 0.7488WARNING:tensorflow:Can save best model only with val_acc available, skipping.\n"
          ]
        },
        {
          "name": "stderr",
          "output_type": "stream",
          "text": [
            "WARNING:tensorflow:Can save best model only with val_acc available, skipping.\n"
          ]
        },
        {
          "name": "stdout",
          "output_type": "stream",
          "text": [
            "391/391 [==============================] - 32s 81ms/step - loss: 1.0186 - accuracy: 0.7488 - val_loss: 1.6690 - val_accuracy: 0.5992 - lr: 1.0000e-05\n",
            "Learning rate:  1e-05\n",
            "Epoch 146/300\n",
            "391/391 [==============================] - ETA: 0s - loss: 1.0208 - accuracy: 0.7466WARNING:tensorflow:Can save best model only with val_acc available, skipping.\n"
          ]
        },
        {
          "name": "stderr",
          "output_type": "stream",
          "text": [
            "WARNING:tensorflow:Can save best model only with val_acc available, skipping.\n"
          ]
        },
        {
          "name": "stdout",
          "output_type": "stream",
          "text": [
            "391/391 [==============================] - 32s 81ms/step - loss: 1.0208 - accuracy: 0.7466 - val_loss: 1.6639 - val_accuracy: 0.6014 - lr: 3.1623e-06\n",
            "Learning rate:  1e-05\n",
            "Epoch 147/300\n",
            "391/391 [==============================] - ETA: 0s - loss: 1.0144 - accuracy: 0.7505WARNING:tensorflow:Can save best model only with val_acc available, skipping.\n"
          ]
        },
        {
          "name": "stderr",
          "output_type": "stream",
          "text": [
            "WARNING:tensorflow:Can save best model only with val_acc available, skipping.\n"
          ]
        },
        {
          "name": "stdout",
          "output_type": "stream",
          "text": [
            "391/391 [==============================] - 32s 81ms/step - loss: 1.0144 - accuracy: 0.7505 - val_loss: 1.6658 - val_accuracy: 0.6007 - lr: 1.0000e-05\n",
            "Learning rate:  1e-05\n",
            "Epoch 148/300\n",
            "391/391 [==============================] - ETA: 0s - loss: 1.0184 - accuracy: 0.7482WARNING:tensorflow:Can save best model only with val_acc available, skipping.\n"
          ]
        },
        {
          "name": "stderr",
          "output_type": "stream",
          "text": [
            "WARNING:tensorflow:Can save best model only with val_acc available, skipping.\n"
          ]
        },
        {
          "name": "stdout",
          "output_type": "stream",
          "text": [
            "391/391 [==============================] - 32s 81ms/step - loss: 1.0184 - accuracy: 0.7482 - val_loss: 1.6694 - val_accuracy: 0.5983 - lr: 1.0000e-05\n",
            "Learning rate:  1e-05\n",
            "Epoch 149/300\n",
            "391/391 [==============================] - ETA: 0s - loss: 1.0196 - accuracy: 0.7461WARNING:tensorflow:Can save best model only with val_acc available, skipping.\n"
          ]
        },
        {
          "name": "stderr",
          "output_type": "stream",
          "text": [
            "WARNING:tensorflow:Can save best model only with val_acc available, skipping.\n"
          ]
        },
        {
          "name": "stdout",
          "output_type": "stream",
          "text": [
            "391/391 [==============================] - 31s 80ms/step - loss: 1.0196 - accuracy: 0.7461 - val_loss: 1.6616 - val_accuracy: 0.6011 - lr: 1.0000e-05\n",
            "Learning rate:  1e-05\n",
            "Epoch 150/300\n",
            "391/391 [==============================] - ETA: 0s - loss: 1.0225 - accuracy: 0.7464WARNING:tensorflow:Can save best model only with val_acc available, skipping.\n"
          ]
        },
        {
          "name": "stderr",
          "output_type": "stream",
          "text": [
            "WARNING:tensorflow:Can save best model only with val_acc available, skipping.\n"
          ]
        },
        {
          "name": "stdout",
          "output_type": "stream",
          "text": [
            "391/391 [==============================] - 32s 81ms/step - loss: 1.0225 - accuracy: 0.7464 - val_loss: 1.6687 - val_accuracy: 0.5994 - lr: 1.0000e-05\n",
            "Learning rate:  1e-05\n",
            "Epoch 151/300\n",
            "391/391 [==============================] - ETA: 0s - loss: 1.0190 - accuracy: 0.7467WARNING:tensorflow:Can save best model only with val_acc available, skipping.\n"
          ]
        },
        {
          "name": "stderr",
          "output_type": "stream",
          "text": [
            "WARNING:tensorflow:Can save best model only with val_acc available, skipping.\n"
          ]
        },
        {
          "name": "stdout",
          "output_type": "stream",
          "text": [
            "391/391 [==============================] - 31s 80ms/step - loss: 1.0190 - accuracy: 0.7467 - val_loss: 1.6699 - val_accuracy: 0.5981 - lr: 3.1623e-06\n",
            "Learning rate:  1e-05\n",
            "Epoch 152/300\n",
            "391/391 [==============================] - ETA: 0s - loss: 1.0175 - accuracy: 0.7484WARNING:tensorflow:Can save best model only with val_acc available, skipping.\n"
          ]
        },
        {
          "name": "stderr",
          "output_type": "stream",
          "text": [
            "WARNING:tensorflow:Can save best model only with val_acc available, skipping.\n"
          ]
        },
        {
          "name": "stdout",
          "output_type": "stream",
          "text": [
            "391/391 [==============================] - 32s 81ms/step - loss: 1.0175 - accuracy: 0.7484 - val_loss: 1.6648 - val_accuracy: 0.5991 - lr: 1.0000e-05\n",
            "Learning rate:  1e-05\n",
            "Epoch 153/300\n",
            "391/391 [==============================] - ETA: 0s - loss: 1.0179 - accuracy: 0.7501WARNING:tensorflow:Can save best model only with val_acc available, skipping.\n"
          ]
        },
        {
          "name": "stderr",
          "output_type": "stream",
          "text": [
            "WARNING:tensorflow:Can save best model only with val_acc available, skipping.\n"
          ]
        },
        {
          "name": "stdout",
          "output_type": "stream",
          "text": [
            "391/391 [==============================] - 32s 81ms/step - loss: 1.0179 - accuracy: 0.7501 - val_loss: 1.6608 - val_accuracy: 0.6013 - lr: 1.0000e-05\n",
            "Learning rate:  1e-05\n",
            "Epoch 154/300\n",
            "391/391 [==============================] - ETA: 0s - loss: 1.0157 - accuracy: 0.7500WARNING:tensorflow:Can save best model only with val_acc available, skipping.\n"
          ]
        },
        {
          "name": "stderr",
          "output_type": "stream",
          "text": [
            "WARNING:tensorflow:Can save best model only with val_acc available, skipping.\n"
          ]
        },
        {
          "name": "stdout",
          "output_type": "stream",
          "text": [
            "391/391 [==============================] - 31s 80ms/step - loss: 1.0157 - accuracy: 0.7500 - val_loss: 1.6705 - val_accuracy: 0.5991 - lr: 1.0000e-05\n",
            "Learning rate:  1e-05\n",
            "Epoch 155/300\n",
            "391/391 [==============================] - ETA: 0s - loss: 1.0100 - accuracy: 0.7518WARNING:tensorflow:Can save best model only with val_acc available, skipping.\n"
          ]
        },
        {
          "name": "stderr",
          "output_type": "stream",
          "text": [
            "WARNING:tensorflow:Can save best model only with val_acc available, skipping.\n"
          ]
        },
        {
          "name": "stdout",
          "output_type": "stream",
          "text": [
            "391/391 [==============================] - 32s 81ms/step - loss: 1.0100 - accuracy: 0.7518 - val_loss: 1.6667 - val_accuracy: 0.6007 - lr: 1.0000e-05\n",
            "Learning rate:  1e-05\n",
            "Epoch 156/300\n",
            "391/391 [==============================] - ETA: 0s - loss: 1.0154 - accuracy: 0.7486WARNING:tensorflow:Can save best model only with val_acc available, skipping.\n"
          ]
        },
        {
          "name": "stderr",
          "output_type": "stream",
          "text": [
            "WARNING:tensorflow:Can save best model only with val_acc available, skipping.\n"
          ]
        },
        {
          "name": "stdout",
          "output_type": "stream",
          "text": [
            "391/391 [==============================] - 31s 80ms/step - loss: 1.0154 - accuracy: 0.7486 - val_loss: 1.6649 - val_accuracy: 0.5989 - lr: 3.1623e-06\n",
            "Learning rate:  1e-05\n",
            "Epoch 157/300\n",
            "391/391 [==============================] - ETA: 0s - loss: 1.0181 - accuracy: 0.7465WARNING:tensorflow:Can save best model only with val_acc available, skipping.\n"
          ]
        },
        {
          "name": "stderr",
          "output_type": "stream",
          "text": [
            "WARNING:tensorflow:Can save best model only with val_acc available, skipping.\n"
          ]
        },
        {
          "name": "stdout",
          "output_type": "stream",
          "text": [
            "391/391 [==============================] - 32s 81ms/step - loss: 1.0181 - accuracy: 0.7465 - val_loss: 1.6676 - val_accuracy: 0.5994 - lr: 1.0000e-05\n",
            "Learning rate:  1e-05\n",
            "Epoch 158/300\n",
            "391/391 [==============================] - ETA: 0s - loss: 1.0137 - accuracy: 0.7492WARNING:tensorflow:Can save best model only with val_acc available, skipping.\n"
          ]
        },
        {
          "name": "stderr",
          "output_type": "stream",
          "text": [
            "WARNING:tensorflow:Can save best model only with val_acc available, skipping.\n"
          ]
        },
        {
          "name": "stdout",
          "output_type": "stream",
          "text": [
            "391/391 [==============================] - 31s 80ms/step - loss: 1.0137 - accuracy: 0.7492 - val_loss: 1.6646 - val_accuracy: 0.5989 - lr: 1.0000e-05\n",
            "Learning rate:  1e-05\n",
            "Epoch 159/300\n",
            "391/391 [==============================] - ETA: 0s - loss: 1.0179 - accuracy: 0.7479WARNING:tensorflow:Can save best model only with val_acc available, skipping.\n"
          ]
        },
        {
          "name": "stderr",
          "output_type": "stream",
          "text": [
            "WARNING:tensorflow:Can save best model only with val_acc available, skipping.\n"
          ]
        },
        {
          "name": "stdout",
          "output_type": "stream",
          "text": [
            "391/391 [==============================] - 32s 82ms/step - loss: 1.0179 - accuracy: 0.7479 - val_loss: 1.6703 - val_accuracy: 0.5992 - lr: 1.0000e-05\n",
            "Learning rate:  1e-05\n",
            "Epoch 160/300\n",
            "391/391 [==============================] - ETA: 0s - loss: 1.0182 - accuracy: 0.7472WARNING:tensorflow:Can save best model only with val_acc available, skipping.\n"
          ]
        },
        {
          "name": "stderr",
          "output_type": "stream",
          "text": [
            "WARNING:tensorflow:Can save best model only with val_acc available, skipping.\n"
          ]
        },
        {
          "name": "stdout",
          "output_type": "stream",
          "text": [
            "391/391 [==============================] - 31s 80ms/step - loss: 1.0182 - accuracy: 0.7472 - val_loss: 1.6652 - val_accuracy: 0.5993 - lr: 1.0000e-05\n",
            "Learning rate:  1e-05\n",
            "Epoch 161/300\n",
            "391/391 [==============================] - ETA: 0s - loss: 1.0177 - accuracy: 0.7489WARNING:tensorflow:Can save best model only with val_acc available, skipping.\n"
          ]
        },
        {
          "name": "stderr",
          "output_type": "stream",
          "text": [
            "WARNING:tensorflow:Can save best model only with val_acc available, skipping.\n"
          ]
        },
        {
          "name": "stdout",
          "output_type": "stream",
          "text": [
            "391/391 [==============================] - 31s 80ms/step - loss: 1.0177 - accuracy: 0.7489 - val_loss: 1.6660 - val_accuracy: 0.6002 - lr: 3.1623e-06\n",
            "Learning rate:  1e-06\n",
            "Epoch 162/300\n",
            "391/391 [==============================] - ETA: 0s - loss: 1.0160 - accuracy: 0.7505WARNING:tensorflow:Can save best model only with val_acc available, skipping.\n"
          ]
        },
        {
          "name": "stderr",
          "output_type": "stream",
          "text": [
            "WARNING:tensorflow:Can save best model only with val_acc available, skipping.\n"
          ]
        },
        {
          "name": "stdout",
          "output_type": "stream",
          "text": [
            "391/391 [==============================] - 31s 79ms/step - loss: 1.0160 - accuracy: 0.7505 - val_loss: 1.6649 - val_accuracy: 0.5992 - lr: 1.0000e-06\n",
            "Learning rate:  1e-06\n",
            "Epoch 163/300\n",
            "391/391 [==============================] - ETA: 0s - loss: 1.0151 - accuracy: 0.7491WARNING:tensorflow:Can save best model only with val_acc available, skipping.\n"
          ]
        },
        {
          "name": "stderr",
          "output_type": "stream",
          "text": [
            "WARNING:tensorflow:Can save best model only with val_acc available, skipping.\n"
          ]
        },
        {
          "name": "stdout",
          "output_type": "stream",
          "text": [
            "391/391 [==============================] - 32s 81ms/step - loss: 1.0151 - accuracy: 0.7491 - val_loss: 1.6672 - val_accuracy: 0.5990 - lr: 1.0000e-06\n",
            "Learning rate:  1e-06\n",
            "Epoch 164/300\n",
            "391/391 [==============================] - ETA: 0s - loss: 1.0161 - accuracy: 0.7489WARNING:tensorflow:Can save best model only with val_acc available, skipping.\n"
          ]
        },
        {
          "name": "stderr",
          "output_type": "stream",
          "text": [
            "WARNING:tensorflow:Can save best model only with val_acc available, skipping.\n"
          ]
        },
        {
          "name": "stdout",
          "output_type": "stream",
          "text": [
            "391/391 [==============================] - 31s 79ms/step - loss: 1.0161 - accuracy: 0.7489 - val_loss: 1.6657 - val_accuracy: 0.5989 - lr: 1.0000e-06\n",
            "Learning rate:  1e-06\n",
            "Epoch 165/300\n",
            "391/391 [==============================] - ETA: 0s - loss: 1.0233 - accuracy: 0.7474WARNING:tensorflow:Can save best model only with val_acc available, skipping.\n"
          ]
        },
        {
          "name": "stderr",
          "output_type": "stream",
          "text": [
            "WARNING:tensorflow:Can save best model only with val_acc available, skipping.\n"
          ]
        },
        {
          "name": "stdout",
          "output_type": "stream",
          "text": [
            "391/391 [==============================] - 32s 81ms/step - loss: 1.0233 - accuracy: 0.7474 - val_loss: 1.6678 - val_accuracy: 0.5992 - lr: 1.0000e-06\n",
            "Learning rate:  1e-06\n",
            "Epoch 166/300\n",
            "391/391 [==============================] - ETA: 0s - loss: 1.0157 - accuracy: 0.7489WARNING:tensorflow:Can save best model only with val_acc available, skipping.\n"
          ]
        },
        {
          "name": "stderr",
          "output_type": "stream",
          "text": [
            "WARNING:tensorflow:Can save best model only with val_acc available, skipping.\n"
          ]
        },
        {
          "name": "stdout",
          "output_type": "stream",
          "text": [
            "391/391 [==============================] - 32s 81ms/step - loss: 1.0157 - accuracy: 0.7489 - val_loss: 1.6678 - val_accuracy: 0.6002 - lr: 5.0000e-07\n",
            "Learning rate:  1e-06\n",
            "Epoch 167/300\n",
            "391/391 [==============================] - ETA: 0s - loss: 1.0143 - accuracy: 0.7491WARNING:tensorflow:Can save best model only with val_acc available, skipping.\n"
          ]
        },
        {
          "name": "stderr",
          "output_type": "stream",
          "text": [
            "WARNING:tensorflow:Can save best model only with val_acc available, skipping.\n"
          ]
        },
        {
          "name": "stdout",
          "output_type": "stream",
          "text": [
            "391/391 [==============================] - 32s 81ms/step - loss: 1.0143 - accuracy: 0.7491 - val_loss: 1.6667 - val_accuracy: 0.5995 - lr: 1.0000e-06\n",
            "Learning rate:  1e-06\n",
            "Epoch 168/300\n",
            "391/391 [==============================] - ETA: 0s - loss: 1.0116 - accuracy: 0.7511WARNING:tensorflow:Can save best model only with val_acc available, skipping.\n"
          ]
        },
        {
          "name": "stderr",
          "output_type": "stream",
          "text": [
            "WARNING:tensorflow:Can save best model only with val_acc available, skipping.\n"
          ]
        },
        {
          "name": "stdout",
          "output_type": "stream",
          "text": [
            "391/391 [==============================] - 31s 80ms/step - loss: 1.0116 - accuracy: 0.7511 - val_loss: 1.6685 - val_accuracy: 0.5994 - lr: 1.0000e-06\n",
            "Learning rate:  1e-06\n",
            "Epoch 169/300\n",
            "391/391 [==============================] - ETA: 0s - loss: 1.0184 - accuracy: 0.7471WARNING:tensorflow:Can save best model only with val_acc available, skipping.\n"
          ]
        },
        {
          "name": "stderr",
          "output_type": "stream",
          "text": [
            "WARNING:tensorflow:Can save best model only with val_acc available, skipping.\n"
          ]
        },
        {
          "name": "stdout",
          "output_type": "stream",
          "text": [
            "391/391 [==============================] - 32s 81ms/step - loss: 1.0184 - accuracy: 0.7471 - val_loss: 1.6694 - val_accuracy: 0.5992 - lr: 1.0000e-06\n",
            "Learning rate:  1e-06\n",
            "Epoch 170/300\n",
            "391/391 [==============================] - ETA: 0s - loss: 1.0151 - accuracy: 0.7482WARNING:tensorflow:Can save best model only with val_acc available, skipping.\n"
          ]
        },
        {
          "name": "stderr",
          "output_type": "stream",
          "text": [
            "WARNING:tensorflow:Can save best model only with val_acc available, skipping.\n"
          ]
        },
        {
          "name": "stdout",
          "output_type": "stream",
          "text": [
            "391/391 [==============================] - 32s 81ms/step - loss: 1.0151 - accuracy: 0.7482 - val_loss: 1.6684 - val_accuracy: 0.5997 - lr: 1.0000e-06\n",
            "Learning rate:  1e-06\n",
            "Epoch 171/300\n",
            "391/391 [==============================] - ETA: 0s - loss: 1.0147 - accuracy: 0.7501WARNING:tensorflow:Can save best model only with val_acc available, skipping.\n"
          ]
        },
        {
          "name": "stderr",
          "output_type": "stream",
          "text": [
            "WARNING:tensorflow:Can save best model only with val_acc available, skipping.\n"
          ]
        },
        {
          "name": "stdout",
          "output_type": "stream",
          "text": [
            "391/391 [==============================] - 31s 79ms/step - loss: 1.0147 - accuracy: 0.7501 - val_loss: 1.6691 - val_accuracy: 0.6003 - lr: 5.0000e-07\n",
            "Learning rate:  1e-06\n",
            "Epoch 172/300\n",
            "391/391 [==============================] - ETA: 0s - loss: 1.0168 - accuracy: 0.7491WARNING:tensorflow:Can save best model only with val_acc available, skipping.\n"
          ]
        },
        {
          "name": "stderr",
          "output_type": "stream",
          "text": [
            "WARNING:tensorflow:Can save best model only with val_acc available, skipping.\n"
          ]
        },
        {
          "name": "stdout",
          "output_type": "stream",
          "text": [
            "391/391 [==============================] - 31s 80ms/step - loss: 1.0168 - accuracy: 0.7491 - val_loss: 1.6673 - val_accuracy: 0.6008 - lr: 1.0000e-06\n",
            "Learning rate:  1e-06\n",
            "Epoch 173/300\n",
            "391/391 [==============================] - ETA: 0s - loss: 1.0170 - accuracy: 0.7476WARNING:tensorflow:Can save best model only with val_acc available, skipping.\n"
          ]
        },
        {
          "name": "stderr",
          "output_type": "stream",
          "text": [
            "WARNING:tensorflow:Can save best model only with val_acc available, skipping.\n"
          ]
        },
        {
          "name": "stdout",
          "output_type": "stream",
          "text": [
            "391/391 [==============================] - 31s 79ms/step - loss: 1.0170 - accuracy: 0.7476 - val_loss: 1.6681 - val_accuracy: 0.5994 - lr: 1.0000e-06\n",
            "Learning rate:  1e-06\n",
            "Epoch 174/300\n",
            "391/391 [==============================] - ETA: 0s - loss: 1.0129 - accuracy: 0.7499WARNING:tensorflow:Can save best model only with val_acc available, skipping.\n"
          ]
        },
        {
          "name": "stderr",
          "output_type": "stream",
          "text": [
            "WARNING:tensorflow:Can save best model only with val_acc available, skipping.\n"
          ]
        },
        {
          "name": "stdout",
          "output_type": "stream",
          "text": [
            "391/391 [==============================] - 31s 80ms/step - loss: 1.0129 - accuracy: 0.7499 - val_loss: 1.6676 - val_accuracy: 0.5997 - lr: 1.0000e-06\n",
            "Learning rate:  1e-06\n",
            "Epoch 175/300\n",
            "391/391 [==============================] - ETA: 0s - loss: 1.0166 - accuracy: 0.7469WARNING:tensorflow:Can save best model only with val_acc available, skipping.\n"
          ]
        },
        {
          "name": "stderr",
          "output_type": "stream",
          "text": [
            "WARNING:tensorflow:Can save best model only with val_acc available, skipping.\n"
          ]
        },
        {
          "name": "stdout",
          "output_type": "stream",
          "text": [
            "391/391 [==============================] - 31s 80ms/step - loss: 1.0166 - accuracy: 0.7469 - val_loss: 1.6690 - val_accuracy: 0.5993 - lr: 1.0000e-06\n",
            "Learning rate:  1e-06\n",
            "Epoch 176/300\n",
            "391/391 [==============================] - ETA: 0s - loss: 1.0183 - accuracy: 0.7495WARNING:tensorflow:Can save best model only with val_acc available, skipping.\n"
          ]
        },
        {
          "name": "stderr",
          "output_type": "stream",
          "text": [
            "WARNING:tensorflow:Can save best model only with val_acc available, skipping.\n"
          ]
        },
        {
          "name": "stdout",
          "output_type": "stream",
          "text": [
            "391/391 [==============================] - 31s 80ms/step - loss: 1.0183 - accuracy: 0.7495 - val_loss: 1.6693 - val_accuracy: 0.6007 - lr: 5.0000e-07\n",
            "Learning rate:  1e-06\n",
            "Epoch 177/300\n",
            "391/391 [==============================] - ETA: 0s - loss: 1.0162 - accuracy: 0.7511WARNING:tensorflow:Can save best model only with val_acc available, skipping.\n"
          ]
        },
        {
          "name": "stderr",
          "output_type": "stream",
          "text": [
            "WARNING:tensorflow:Can save best model only with val_acc available, skipping.\n"
          ]
        },
        {
          "name": "stdout",
          "output_type": "stream",
          "text": [
            "391/391 [==============================] - 31s 79ms/step - loss: 1.0162 - accuracy: 0.7511 - val_loss: 1.6724 - val_accuracy: 0.6000 - lr: 1.0000e-06\n",
            "Learning rate:  1e-06\n",
            "Epoch 178/300\n",
            "391/391 [==============================] - ETA: 0s - loss: 1.0167 - accuracy: 0.7502WARNING:tensorflow:Can save best model only with val_acc available, skipping.\n"
          ]
        },
        {
          "name": "stderr",
          "output_type": "stream",
          "text": [
            "WARNING:tensorflow:Can save best model only with val_acc available, skipping.\n"
          ]
        },
        {
          "name": "stdout",
          "output_type": "stream",
          "text": [
            "391/391 [==============================] - 32s 81ms/step - loss: 1.0167 - accuracy: 0.7502 - val_loss: 1.6682 - val_accuracy: 0.6016 - lr: 1.0000e-06\n",
            "Learning rate:  1e-06\n",
            "Epoch 179/300\n",
            "391/391 [==============================] - ETA: 0s - loss: 1.0192 - accuracy: 0.7455WARNING:tensorflow:Can save best model only with val_acc available, skipping.\n"
          ]
        },
        {
          "name": "stderr",
          "output_type": "stream",
          "text": [
            "WARNING:tensorflow:Can save best model only with val_acc available, skipping.\n"
          ]
        },
        {
          "name": "stdout",
          "output_type": "stream",
          "text": [
            "391/391 [==============================] - 32s 81ms/step - loss: 1.0192 - accuracy: 0.7455 - val_loss: 1.6682 - val_accuracy: 0.6004 - lr: 1.0000e-06\n",
            "Learning rate:  1e-06\n",
            "Epoch 180/300\n",
            "391/391 [==============================] - ETA: 0s - loss: 1.0190 - accuracy: 0.7483WARNING:tensorflow:Can save best model only with val_acc available, skipping.\n"
          ]
        },
        {
          "name": "stderr",
          "output_type": "stream",
          "text": [
            "WARNING:tensorflow:Can save best model only with val_acc available, skipping.\n"
          ]
        },
        {
          "name": "stdout",
          "output_type": "stream",
          "text": [
            "391/391 [==============================] - 32s 81ms/step - loss: 1.0190 - accuracy: 0.7483 - val_loss: 1.6693 - val_accuracy: 0.5994 - lr: 1.0000e-06\n",
            "Learning rate:  1e-06\n",
            "Epoch 181/300\n",
            "391/391 [==============================] - ETA: 0s - loss: 1.0137 - accuracy: 0.7479WARNING:tensorflow:Can save best model only with val_acc available, skipping.\n"
          ]
        },
        {
          "name": "stderr",
          "output_type": "stream",
          "text": [
            "WARNING:tensorflow:Can save best model only with val_acc available, skipping.\n"
          ]
        },
        {
          "name": "stdout",
          "output_type": "stream",
          "text": [
            "391/391 [==============================] - 31s 80ms/step - loss: 1.0137 - accuracy: 0.7479 - val_loss: 1.6681 - val_accuracy: 0.5999 - lr: 5.0000e-07\n",
            "Learning rate:  5e-07\n",
            "Epoch 182/300\n",
            "391/391 [==============================] - ETA: 0s - loss: 1.0181 - accuracy: 0.7487WARNING:tensorflow:Can save best model only with val_acc available, skipping.\n"
          ]
        },
        {
          "name": "stderr",
          "output_type": "stream",
          "text": [
            "WARNING:tensorflow:Can save best model only with val_acc available, skipping.\n"
          ]
        },
        {
          "name": "stdout",
          "output_type": "stream",
          "text": [
            "391/391 [==============================] - 32s 81ms/step - loss: 1.0181 - accuracy: 0.7487 - val_loss: 1.6719 - val_accuracy: 0.5983 - lr: 5.0000e-07\n",
            "Learning rate:  5e-07\n",
            "Epoch 183/300\n",
            "391/391 [==============================] - ETA: 0s - loss: 1.0181 - accuracy: 0.7465WARNING:tensorflow:Can save best model only with val_acc available, skipping.\n"
          ]
        },
        {
          "name": "stderr",
          "output_type": "stream",
          "text": [
            "WARNING:tensorflow:Can save best model only with val_acc available, skipping.\n"
          ]
        },
        {
          "name": "stdout",
          "output_type": "stream",
          "text": [
            "391/391 [==============================] - 31s 80ms/step - loss: 1.0181 - accuracy: 0.7465 - val_loss: 1.6723 - val_accuracy: 0.5977 - lr: 5.0000e-07\n",
            "Learning rate:  5e-07\n",
            "Epoch 184/300\n",
            "391/391 [==============================] - ETA: 0s - loss: 1.0141 - accuracy: 0.7505WARNING:tensorflow:Can save best model only with val_acc available, skipping.\n"
          ]
        },
        {
          "name": "stderr",
          "output_type": "stream",
          "text": [
            "WARNING:tensorflow:Can save best model only with val_acc available, skipping.\n"
          ]
        },
        {
          "name": "stdout",
          "output_type": "stream",
          "text": [
            "391/391 [==============================] - 32s 81ms/step - loss: 1.0141 - accuracy: 0.7505 - val_loss: 1.6718 - val_accuracy: 0.5983 - lr: 5.0000e-07\n",
            "Learning rate:  5e-07\n",
            "Epoch 185/300\n",
            "391/391 [==============================] - ETA: 0s - loss: 1.0176 - accuracy: 0.7507WARNING:tensorflow:Can save best model only with val_acc available, skipping.\n"
          ]
        },
        {
          "name": "stderr",
          "output_type": "stream",
          "text": [
            "WARNING:tensorflow:Can save best model only with val_acc available, skipping.\n"
          ]
        },
        {
          "name": "stdout",
          "output_type": "stream",
          "text": [
            "391/391 [==============================] - 31s 80ms/step - loss: 1.0176 - accuracy: 0.7507 - val_loss: 1.6725 - val_accuracy: 0.5983 - lr: 5.0000e-07\n",
            "Learning rate:  5e-07\n",
            "Epoch 186/300\n",
            "391/391 [==============================] - ETA: 0s - loss: 1.0200 - accuracy: 0.7487WARNING:tensorflow:Can save best model only with val_acc available, skipping.\n"
          ]
        },
        {
          "name": "stderr",
          "output_type": "stream",
          "text": [
            "WARNING:tensorflow:Can save best model only with val_acc available, skipping.\n"
          ]
        },
        {
          "name": "stdout",
          "output_type": "stream",
          "text": [
            "391/391 [==============================] - 32s 81ms/step - loss: 1.0200 - accuracy: 0.7487 - val_loss: 1.6729 - val_accuracy: 0.5981 - lr: 5.0000e-07\n",
            "Learning rate:  5e-07\n",
            "Epoch 187/300\n",
            "391/391 [==============================] - ETA: 0s - loss: 1.0179 - accuracy: 0.7480WARNING:tensorflow:Can save best model only with val_acc available, skipping.\n"
          ]
        },
        {
          "name": "stderr",
          "output_type": "stream",
          "text": [
            "WARNING:tensorflow:Can save best model only with val_acc available, skipping.\n"
          ]
        },
        {
          "name": "stdout",
          "output_type": "stream",
          "text": [
            "391/391 [==============================] - 31s 80ms/step - loss: 1.0179 - accuracy: 0.7480 - val_loss: 1.6701 - val_accuracy: 0.5987 - lr: 5.0000e-07\n",
            "Learning rate:  5e-07\n",
            "Epoch 188/300\n",
            "391/391 [==============================] - ETA: 0s - loss: 1.0184 - accuracy: 0.7474WARNING:tensorflow:Can save best model only with val_acc available, skipping.\n"
          ]
        },
        {
          "name": "stderr",
          "output_type": "stream",
          "text": [
            "WARNING:tensorflow:Can save best model only with val_acc available, skipping.\n"
          ]
        },
        {
          "name": "stdout",
          "output_type": "stream",
          "text": [
            "391/391 [==============================] - 32s 82ms/step - loss: 1.0184 - accuracy: 0.7474 - val_loss: 1.6747 - val_accuracy: 0.5970 - lr: 5.0000e-07\n",
            "Learning rate:  5e-07\n",
            "Epoch 189/300\n",
            "391/391 [==============================] - ETA: 0s - loss: 1.0166 - accuracy: 0.7500WARNING:tensorflow:Can save best model only with val_acc available, skipping.\n"
          ]
        },
        {
          "name": "stderr",
          "output_type": "stream",
          "text": [
            "WARNING:tensorflow:Can save best model only with val_acc available, skipping.\n"
          ]
        },
        {
          "name": "stdout",
          "output_type": "stream",
          "text": [
            "391/391 [==============================] - 31s 81ms/step - loss: 1.0166 - accuracy: 0.7500 - val_loss: 1.6742 - val_accuracy: 0.5972 - lr: 5.0000e-07\n",
            "Learning rate:  5e-07\n",
            "Epoch 190/300\n",
            "391/391 [==============================] - ETA: 0s - loss: 1.0209 - accuracy: 0.7473WARNING:tensorflow:Can save best model only with val_acc available, skipping.\n"
          ]
        },
        {
          "name": "stderr",
          "output_type": "stream",
          "text": [
            "WARNING:tensorflow:Can save best model only with val_acc available, skipping.\n"
          ]
        },
        {
          "name": "stdout",
          "output_type": "stream",
          "text": [
            "391/391 [==============================] - 31s 79ms/step - loss: 1.0209 - accuracy: 0.7473 - val_loss: 1.6754 - val_accuracy: 0.5976 - lr: 5.0000e-07\n",
            "Learning rate:  5e-07\n",
            "Epoch 191/300\n",
            "391/391 [==============================] - ETA: 0s - loss: 1.0139 - accuracy: 0.7503WARNING:tensorflow:Can save best model only with val_acc available, skipping.\n"
          ]
        },
        {
          "name": "stderr",
          "output_type": "stream",
          "text": [
            "WARNING:tensorflow:Can save best model only with val_acc available, skipping.\n"
          ]
        },
        {
          "name": "stdout",
          "output_type": "stream",
          "text": [
            "391/391 [==============================] - 31s 80ms/step - loss: 1.0139 - accuracy: 0.7503 - val_loss: 1.6755 - val_accuracy: 0.5975 - lr: 5.0000e-07\n",
            "Learning rate:  5e-07\n",
            "Epoch 192/300\n",
            "391/391 [==============================] - ETA: 0s - loss: 1.0195 - accuracy: 0.7476WARNING:tensorflow:Can save best model only with val_acc available, skipping.\n"
          ]
        },
        {
          "name": "stderr",
          "output_type": "stream",
          "text": [
            "WARNING:tensorflow:Can save best model only with val_acc available, skipping.\n"
          ]
        },
        {
          "name": "stdout",
          "output_type": "stream",
          "text": [
            "391/391 [==============================] - 31s 79ms/step - loss: 1.0195 - accuracy: 0.7476 - val_loss: 1.6739 - val_accuracy: 0.5985 - lr: 5.0000e-07\n",
            "Learning rate:  5e-07\n",
            "Epoch 193/300\n",
            "391/391 [==============================] - ETA: 0s - loss: 1.0173 - accuracy: 0.7484WARNING:tensorflow:Can save best model only with val_acc available, skipping.\n"
          ]
        },
        {
          "name": "stderr",
          "output_type": "stream",
          "text": [
            "WARNING:tensorflow:Can save best model only with val_acc available, skipping.\n"
          ]
        },
        {
          "name": "stdout",
          "output_type": "stream",
          "text": [
            "391/391 [==============================] - 32s 81ms/step - loss: 1.0173 - accuracy: 0.7484 - val_loss: 1.6749 - val_accuracy: 0.5969 - lr: 5.0000e-07\n",
            "Learning rate:  5e-07\n",
            "Epoch 194/300\n",
            "391/391 [==============================] - ETA: 0s - loss: 1.0150 - accuracy: 0.7498WARNING:tensorflow:Can save best model only with val_acc available, skipping.\n"
          ]
        },
        {
          "name": "stderr",
          "output_type": "stream",
          "text": [
            "WARNING:tensorflow:Can save best model only with val_acc available, skipping.\n"
          ]
        },
        {
          "name": "stdout",
          "output_type": "stream",
          "text": [
            "391/391 [==============================] - 31s 80ms/step - loss: 1.0150 - accuracy: 0.7498 - val_loss: 1.6759 - val_accuracy: 0.5979 - lr: 5.0000e-07\n",
            "Learning rate:  5e-07\n",
            "Epoch 195/300\n",
            "391/391 [==============================] - ETA: 0s - loss: 1.0216 - accuracy: 0.7463WARNING:tensorflow:Can save best model only with val_acc available, skipping.\n"
          ]
        },
        {
          "name": "stderr",
          "output_type": "stream",
          "text": [
            "WARNING:tensorflow:Can save best model only with val_acc available, skipping.\n"
          ]
        },
        {
          "name": "stdout",
          "output_type": "stream",
          "text": [
            "391/391 [==============================] - 31s 80ms/step - loss: 1.0216 - accuracy: 0.7463 - val_loss: 1.6750 - val_accuracy: 0.5977 - lr: 5.0000e-07\n",
            "Learning rate:  5e-07\n",
            "Epoch 196/300\n",
            "391/391 [==============================] - ETA: 0s - loss: 1.0186 - accuracy: 0.7495WARNING:tensorflow:Can save best model only with val_acc available, skipping.\n"
          ]
        },
        {
          "name": "stderr",
          "output_type": "stream",
          "text": [
            "WARNING:tensorflow:Can save best model only with val_acc available, skipping.\n"
          ]
        },
        {
          "name": "stdout",
          "output_type": "stream",
          "text": [
            "391/391 [==============================] - 31s 79ms/step - loss: 1.0186 - accuracy: 0.7495 - val_loss: 1.6741 - val_accuracy: 0.5991 - lr: 5.0000e-07\n",
            "Learning rate:  5e-07\n",
            "Epoch 197/300\n",
            "391/391 [==============================] - ETA: 0s - loss: 1.0198 - accuracy: 0.7481WARNING:tensorflow:Can save best model only with val_acc available, skipping.\n"
          ]
        },
        {
          "name": "stderr",
          "output_type": "stream",
          "text": [
            "WARNING:tensorflow:Can save best model only with val_acc available, skipping.\n"
          ]
        },
        {
          "name": "stdout",
          "output_type": "stream",
          "text": [
            "391/391 [==============================] - 31s 80ms/step - loss: 1.0198 - accuracy: 0.7481 - val_loss: 1.6762 - val_accuracy: 0.5986 - lr: 5.0000e-07\n",
            "Learning rate:  5e-07\n",
            "Epoch 198/300\n",
            "391/391 [==============================] - ETA: 0s - loss: 1.0166 - accuracy: 0.7480WARNING:tensorflow:Can save best model only with val_acc available, skipping.\n"
          ]
        },
        {
          "name": "stderr",
          "output_type": "stream",
          "text": [
            "WARNING:tensorflow:Can save best model only with val_acc available, skipping.\n"
          ]
        },
        {
          "name": "stdout",
          "output_type": "stream",
          "text": [
            "391/391 [==============================] - 31s 80ms/step - loss: 1.0166 - accuracy: 0.7480 - val_loss: 1.6736 - val_accuracy: 0.5988 - lr: 5.0000e-07\n",
            "Learning rate:  5e-07\n",
            "Epoch 199/300\n",
            "391/391 [==============================] - ETA: 0s - loss: 1.0192 - accuracy: 0.7472WARNING:tensorflow:Can save best model only with val_acc available, skipping.\n"
          ]
        },
        {
          "name": "stderr",
          "output_type": "stream",
          "text": [
            "WARNING:tensorflow:Can save best model only with val_acc available, skipping.\n"
          ]
        },
        {
          "name": "stdout",
          "output_type": "stream",
          "text": [
            "391/391 [==============================] - 31s 80ms/step - loss: 1.0192 - accuracy: 0.7472 - val_loss: 1.6745 - val_accuracy: 0.5980 - lr: 5.0000e-07\n",
            "Learning rate:  5e-07\n",
            "Epoch 200/300\n",
            "391/391 [==============================] - ETA: 0s - loss: 1.0162 - accuracy: 0.7476WARNING:tensorflow:Can save best model only with val_acc available, skipping.\n"
          ]
        },
        {
          "name": "stderr",
          "output_type": "stream",
          "text": [
            "WARNING:tensorflow:Can save best model only with val_acc available, skipping.\n"
          ]
        },
        {
          "name": "stdout",
          "output_type": "stream",
          "text": [
            "391/391 [==============================] - 31s 79ms/step - loss: 1.0162 - accuracy: 0.7476 - val_loss: 1.6736 - val_accuracy: 0.5987 - lr: 5.0000e-07\n",
            "Learning rate:  5e-07\n",
            "Epoch 201/300\n",
            "391/391 [==============================] - ETA: 0s - loss: 1.0151 - accuracy: 0.7493WARNING:tensorflow:Can save best model only with val_acc available, skipping.\n"
          ]
        },
        {
          "name": "stderr",
          "output_type": "stream",
          "text": [
            "WARNING:tensorflow:Can save best model only with val_acc available, skipping.\n"
          ]
        },
        {
          "name": "stdout",
          "output_type": "stream",
          "text": [
            "391/391 [==============================] - 31s 80ms/step - loss: 1.0151 - accuracy: 0.7493 - val_loss: 1.6750 - val_accuracy: 0.5972 - lr: 5.0000e-07\n",
            "Learning rate:  5e-07\n",
            "Epoch 202/300\n",
            "391/391 [==============================] - ETA: 0s - loss: 1.0230 - accuracy: 0.7478WARNING:tensorflow:Can save best model only with val_acc available, skipping.\n"
          ]
        },
        {
          "name": "stderr",
          "output_type": "stream",
          "text": [
            "WARNING:tensorflow:Can save best model only with val_acc available, skipping.\n"
          ]
        },
        {
          "name": "stdout",
          "output_type": "stream",
          "text": [
            "391/391 [==============================] - 31s 80ms/step - loss: 1.0230 - accuracy: 0.7478 - val_loss: 1.6742 - val_accuracy: 0.5990 - lr: 5.0000e-07\n",
            "Learning rate:  5e-07\n",
            "Epoch 203/300\n",
            "391/391 [==============================] - ETA: 0s - loss: 1.0152 - accuracy: 0.7493WARNING:tensorflow:Can save best model only with val_acc available, skipping.\n"
          ]
        },
        {
          "name": "stderr",
          "output_type": "stream",
          "text": [
            "WARNING:tensorflow:Can save best model only with val_acc available, skipping.\n"
          ]
        },
        {
          "name": "stdout",
          "output_type": "stream",
          "text": [
            "391/391 [==============================] - 32s 81ms/step - loss: 1.0152 - accuracy: 0.7493 - val_loss: 1.6779 - val_accuracy: 0.5983 - lr: 5.0000e-07\n",
            "Learning rate:  5e-07\n",
            "Epoch 204/300\n",
            "391/391 [==============================] - ETA: 0s - loss: 1.0178 - accuracy: 0.7475WARNING:tensorflow:Can save best model only with val_acc available, skipping.\n"
          ]
        },
        {
          "name": "stderr",
          "output_type": "stream",
          "text": [
            "WARNING:tensorflow:Can save best model only with val_acc available, skipping.\n"
          ]
        },
        {
          "name": "stdout",
          "output_type": "stream",
          "text": [
            "391/391 [==============================] - 31s 80ms/step - loss: 1.0178 - accuracy: 0.7475 - val_loss: 1.6776 - val_accuracy: 0.5982 - lr: 5.0000e-07\n",
            "Learning rate:  5e-07\n",
            "Epoch 205/300\n",
            "391/391 [==============================] - ETA: 0s - loss: 1.0219 - accuracy: 0.7468WARNING:tensorflow:Can save best model only with val_acc available, skipping.\n"
          ]
        },
        {
          "name": "stderr",
          "output_type": "stream",
          "text": [
            "WARNING:tensorflow:Can save best model only with val_acc available, skipping.\n"
          ]
        },
        {
          "name": "stdout",
          "output_type": "stream",
          "text": [
            "391/391 [==============================] - 31s 80ms/step - loss: 1.0219 - accuracy: 0.7468 - val_loss: 1.6755 - val_accuracy: 0.5983 - lr: 5.0000e-07\n",
            "Learning rate:  5e-07\n",
            "Epoch 206/300\n",
            "391/391 [==============================] - ETA: 0s - loss: 1.0192 - accuracy: 0.7482WARNING:tensorflow:Can save best model only with val_acc available, skipping.\n"
          ]
        },
        {
          "name": "stderr",
          "output_type": "stream",
          "text": [
            "WARNING:tensorflow:Can save best model only with val_acc available, skipping.\n"
          ]
        },
        {
          "name": "stdout",
          "output_type": "stream",
          "text": [
            "391/391 [==============================] - 31s 79ms/step - loss: 1.0192 - accuracy: 0.7482 - val_loss: 1.6760 - val_accuracy: 0.5983 - lr: 5.0000e-07\n",
            "Learning rate:  5e-07\n",
            "Epoch 207/300\n",
            "391/391 [==============================] - ETA: 0s - loss: 1.0219 - accuracy: 0.7469WARNING:tensorflow:Can save best model only with val_acc available, skipping.\n"
          ]
        },
        {
          "name": "stderr",
          "output_type": "stream",
          "text": [
            "WARNING:tensorflow:Can save best model only with val_acc available, skipping.\n"
          ]
        },
        {
          "name": "stdout",
          "output_type": "stream",
          "text": [
            "391/391 [==============================] - 32s 82ms/step - loss: 1.0219 - accuracy: 0.7469 - val_loss: 1.6793 - val_accuracy: 0.5986 - lr: 5.0000e-07\n",
            "Learning rate:  5e-07\n",
            "Epoch 208/300\n",
            "391/391 [==============================] - ETA: 0s - loss: 1.0178 - accuracy: 0.7486WARNING:tensorflow:Can save best model only with val_acc available, skipping.\n"
          ]
        },
        {
          "name": "stderr",
          "output_type": "stream",
          "text": [
            "WARNING:tensorflow:Can save best model only with val_acc available, skipping.\n"
          ]
        },
        {
          "name": "stdout",
          "output_type": "stream",
          "text": [
            "391/391 [==============================] - 32s 83ms/step - loss: 1.0178 - accuracy: 0.7486 - val_loss: 1.6765 - val_accuracy: 0.5989 - lr: 5.0000e-07\n",
            "Learning rate:  5e-07\n",
            "Epoch 209/300\n",
            "391/391 [==============================] - ETA: 0s - loss: 1.0177 - accuracy: 0.7485WARNING:tensorflow:Can save best model only with val_acc available, skipping.\n"
          ]
        },
        {
          "name": "stderr",
          "output_type": "stream",
          "text": [
            "WARNING:tensorflow:Can save best model only with val_acc available, skipping.\n"
          ]
        },
        {
          "name": "stdout",
          "output_type": "stream",
          "text": [
            "391/391 [==============================] - 32s 81ms/step - loss: 1.0177 - accuracy: 0.7485 - val_loss: 1.6736 - val_accuracy: 0.5991 - lr: 5.0000e-07\n",
            "Learning rate:  5e-07\n",
            "Epoch 210/300\n",
            "391/391 [==============================] - ETA: 0s - loss: 1.0173 - accuracy: 0.7491WARNING:tensorflow:Can save best model only with val_acc available, skipping.\n"
          ]
        },
        {
          "name": "stderr",
          "output_type": "stream",
          "text": [
            "WARNING:tensorflow:Can save best model only with val_acc available, skipping.\n"
          ]
        },
        {
          "name": "stdout",
          "output_type": "stream",
          "text": [
            "391/391 [==============================] - 32s 82ms/step - loss: 1.0173 - accuracy: 0.7491 - val_loss: 1.6765 - val_accuracy: 0.5980 - lr: 5.0000e-07\n",
            "Learning rate:  5e-07\n",
            "Epoch 211/300\n",
            "391/391 [==============================] - ETA: 0s - loss: 1.0145 - accuracy: 0.7488WARNING:tensorflow:Can save best model only with val_acc available, skipping.\n"
          ]
        },
        {
          "name": "stderr",
          "output_type": "stream",
          "text": [
            "WARNING:tensorflow:Can save best model only with val_acc available, skipping.\n"
          ]
        },
        {
          "name": "stdout",
          "output_type": "stream",
          "text": [
            "391/391 [==============================] - 32s 81ms/step - loss: 1.0145 - accuracy: 0.7488 - val_loss: 1.6772 - val_accuracy: 0.5977 - lr: 5.0000e-07\n",
            "Learning rate:  5e-07\n",
            "Epoch 212/300\n",
            "391/391 [==============================] - ETA: 0s - loss: 1.0117 - accuracy: 0.7519WARNING:tensorflow:Can save best model only with val_acc available, skipping.\n"
          ]
        },
        {
          "name": "stderr",
          "output_type": "stream",
          "text": [
            "WARNING:tensorflow:Can save best model only with val_acc available, skipping.\n"
          ]
        },
        {
          "name": "stdout",
          "output_type": "stream",
          "text": [
            "391/391 [==============================] - 32s 82ms/step - loss: 1.0117 - accuracy: 0.7519 - val_loss: 1.6731 - val_accuracy: 0.5979 - lr: 5.0000e-07\n",
            "Learning rate:  5e-07\n",
            "Epoch 213/300\n",
            "391/391 [==============================] - ETA: 0s - loss: 1.0208 - accuracy: 0.7462WARNING:tensorflow:Can save best model only with val_acc available, skipping.\n"
          ]
        },
        {
          "name": "stderr",
          "output_type": "stream",
          "text": [
            "WARNING:tensorflow:Can save best model only with val_acc available, skipping.\n"
          ]
        },
        {
          "name": "stdout",
          "output_type": "stream",
          "text": [
            "391/391 [==============================] - 32s 81ms/step - loss: 1.0208 - accuracy: 0.7462 - val_loss: 1.6736 - val_accuracy: 0.5997 - lr: 5.0000e-07\n",
            "Learning rate:  5e-07\n",
            "Epoch 214/300\n",
            "391/391 [==============================] - ETA: 0s - loss: 1.0206 - accuracy: 0.7493WARNING:tensorflow:Can save best model only with val_acc available, skipping.\n"
          ]
        },
        {
          "name": "stderr",
          "output_type": "stream",
          "text": [
            "WARNING:tensorflow:Can save best model only with val_acc available, skipping.\n"
          ]
        },
        {
          "name": "stdout",
          "output_type": "stream",
          "text": [
            "391/391 [==============================] - 32s 81ms/step - loss: 1.0206 - accuracy: 0.7493 - val_loss: 1.6767 - val_accuracy: 0.5993 - lr: 5.0000e-07\n",
            "Learning rate:  5e-07\n",
            "Epoch 215/300\n",
            "391/391 [==============================] - ETA: 0s - loss: 1.0165 - accuracy: 0.7485WARNING:tensorflow:Can save best model only with val_acc available, skipping.\n"
          ]
        },
        {
          "name": "stderr",
          "output_type": "stream",
          "text": [
            "WARNING:tensorflow:Can save best model only with val_acc available, skipping.\n"
          ]
        },
        {
          "name": "stdout",
          "output_type": "stream",
          "text": [
            "391/391 [==============================] - 32s 82ms/step - loss: 1.0165 - accuracy: 0.7485 - val_loss: 1.6764 - val_accuracy: 0.5988 - lr: 5.0000e-07\n",
            "Learning rate:  5e-07\n",
            "Epoch 216/300\n",
            "391/391 [==============================] - ETA: 0s - loss: 1.0223 - accuracy: 0.7463WARNING:tensorflow:Can save best model only with val_acc available, skipping.\n"
          ]
        },
        {
          "name": "stderr",
          "output_type": "stream",
          "text": [
            "WARNING:tensorflow:Can save best model only with val_acc available, skipping.\n"
          ]
        },
        {
          "name": "stdout",
          "output_type": "stream",
          "text": [
            "391/391 [==============================] - 32s 82ms/step - loss: 1.0223 - accuracy: 0.7463 - val_loss: 1.6757 - val_accuracy: 0.5999 - lr: 5.0000e-07\n",
            "Learning rate:  5e-07\n",
            "Epoch 217/300\n",
            "391/391 [==============================] - ETA: 0s - loss: 1.0145 - accuracy: 0.7484WARNING:tensorflow:Can save best model only with val_acc available, skipping.\n"
          ]
        },
        {
          "name": "stderr",
          "output_type": "stream",
          "text": [
            "WARNING:tensorflow:Can save best model only with val_acc available, skipping.\n"
          ]
        },
        {
          "name": "stdout",
          "output_type": "stream",
          "text": [
            "391/391 [==============================] - 32s 81ms/step - loss: 1.0145 - accuracy: 0.7484 - val_loss: 1.6748 - val_accuracy: 0.5996 - lr: 5.0000e-07\n",
            "Learning rate:  5e-07\n",
            "Epoch 218/300\n",
            "391/391 [==============================] - ETA: 0s - loss: 1.0187 - accuracy: 0.7481WARNING:tensorflow:Can save best model only with val_acc available, skipping.\n"
          ]
        },
        {
          "name": "stderr",
          "output_type": "stream",
          "text": [
            "WARNING:tensorflow:Can save best model only with val_acc available, skipping.\n"
          ]
        },
        {
          "name": "stdout",
          "output_type": "stream",
          "text": [
            "391/391 [==============================] - 32s 81ms/step - loss: 1.0187 - accuracy: 0.7481 - val_loss: 1.6741 - val_accuracy: 0.6000 - lr: 5.0000e-07\n",
            "Learning rate:  5e-07\n",
            "Epoch 219/300\n",
            "391/391 [==============================] - ETA: 0s - loss: 1.0184 - accuracy: 0.7474WARNING:tensorflow:Can save best model only with val_acc available, skipping.\n"
          ]
        },
        {
          "name": "stderr",
          "output_type": "stream",
          "text": [
            "WARNING:tensorflow:Can save best model only with val_acc available, skipping.\n"
          ]
        },
        {
          "name": "stdout",
          "output_type": "stream",
          "text": [
            "391/391 [==============================] - 32s 82ms/step - loss: 1.0184 - accuracy: 0.7474 - val_loss: 1.6742 - val_accuracy: 0.6003 - lr: 5.0000e-07\n",
            "Learning rate:  5e-07\n",
            "Epoch 220/300\n",
            "391/391 [==============================] - ETA: 0s - loss: 1.0182 - accuracy: 0.7484WARNING:tensorflow:Can save best model only with val_acc available, skipping.\n"
          ]
        },
        {
          "name": "stderr",
          "output_type": "stream",
          "text": [
            "WARNING:tensorflow:Can save best model only with val_acc available, skipping.\n"
          ]
        },
        {
          "name": "stdout",
          "output_type": "stream",
          "text": [
            "391/391 [==============================] - 31s 80ms/step - loss: 1.0182 - accuracy: 0.7484 - val_loss: 1.6732 - val_accuracy: 0.6000 - lr: 5.0000e-07\n",
            "Learning rate:  5e-07\n",
            "Epoch 221/300\n",
            "391/391 [==============================] - ETA: 0s - loss: 1.0210 - accuracy: 0.7484WARNING:tensorflow:Can save best model only with val_acc available, skipping.\n"
          ]
        },
        {
          "name": "stderr",
          "output_type": "stream",
          "text": [
            "WARNING:tensorflow:Can save best model only with val_acc available, skipping.\n"
          ]
        },
        {
          "name": "stdout",
          "output_type": "stream",
          "text": [
            "391/391 [==============================] - 32s 81ms/step - loss: 1.0210 - accuracy: 0.7484 - val_loss: 1.6716 - val_accuracy: 0.6000 - lr: 5.0000e-07\n",
            "Learning rate:  5e-07\n",
            "Epoch 222/300\n",
            "391/391 [==============================] - ETA: 0s - loss: 1.0178 - accuracy: 0.7473WARNING:tensorflow:Can save best model only with val_acc available, skipping.\n"
          ]
        },
        {
          "name": "stderr",
          "output_type": "stream",
          "text": [
            "WARNING:tensorflow:Can save best model only with val_acc available, skipping.\n"
          ]
        },
        {
          "name": "stdout",
          "output_type": "stream",
          "text": [
            "391/391 [==============================] - 31s 80ms/step - loss: 1.0178 - accuracy: 0.7473 - val_loss: 1.6732 - val_accuracy: 0.6006 - lr: 5.0000e-07\n",
            "Learning rate:  5e-07\n",
            "Epoch 223/300\n",
            "391/391 [==============================] - ETA: 0s - loss: 1.0162 - accuracy: 0.7484WARNING:tensorflow:Can save best model only with val_acc available, skipping.\n"
          ]
        },
        {
          "name": "stderr",
          "output_type": "stream",
          "text": [
            "WARNING:tensorflow:Can save best model only with val_acc available, skipping.\n"
          ]
        },
        {
          "name": "stdout",
          "output_type": "stream",
          "text": [
            "391/391 [==============================] - 32s 81ms/step - loss: 1.0162 - accuracy: 0.7484 - val_loss: 1.6738 - val_accuracy: 0.5992 - lr: 5.0000e-07\n",
            "Learning rate:  5e-07\n",
            "Epoch 224/300\n",
            "391/391 [==============================] - ETA: 0s - loss: 1.0176 - accuracy: 0.7471WARNING:tensorflow:Can save best model only with val_acc available, skipping.\n"
          ]
        },
        {
          "name": "stderr",
          "output_type": "stream",
          "text": [
            "WARNING:tensorflow:Can save best model only with val_acc available, skipping.\n"
          ]
        },
        {
          "name": "stdout",
          "output_type": "stream",
          "text": [
            "391/391 [==============================] - 31s 80ms/step - loss: 1.0176 - accuracy: 0.7471 - val_loss: 1.6753 - val_accuracy: 0.5997 - lr: 5.0000e-07\n",
            "Learning rate:  5e-07\n",
            "Epoch 225/300\n",
            "391/391 [==============================] - ETA: 0s - loss: 1.0180 - accuracy: 0.7472WARNING:tensorflow:Can save best model only with val_acc available, skipping.\n"
          ]
        },
        {
          "name": "stderr",
          "output_type": "stream",
          "text": [
            "WARNING:tensorflow:Can save best model only with val_acc available, skipping.\n"
          ]
        },
        {
          "name": "stdout",
          "output_type": "stream",
          "text": [
            "391/391 [==============================] - 32s 81ms/step - loss: 1.0180 - accuracy: 0.7472 - val_loss: 1.6744 - val_accuracy: 0.5991 - lr: 5.0000e-07\n",
            "Learning rate:  5e-07\n",
            "Epoch 226/300\n",
            "391/391 [==============================] - ETA: 0s - loss: 1.0165 - accuracy: 0.7511WARNING:tensorflow:Can save best model only with val_acc available, skipping.\n"
          ]
        },
        {
          "name": "stderr",
          "output_type": "stream",
          "text": [
            "WARNING:tensorflow:Can save best model only with val_acc available, skipping.\n"
          ]
        },
        {
          "name": "stdout",
          "output_type": "stream",
          "text": [
            "391/391 [==============================] - 31s 80ms/step - loss: 1.0165 - accuracy: 0.7511 - val_loss: 1.6738 - val_accuracy: 0.5989 - lr: 5.0000e-07\n",
            "Learning rate:  5e-07\n",
            "Epoch 227/300\n",
            "391/391 [==============================] - ETA: 0s - loss: 1.0169 - accuracy: 0.7478WARNING:tensorflow:Can save best model only with val_acc available, skipping.\n"
          ]
        },
        {
          "name": "stderr",
          "output_type": "stream",
          "text": [
            "WARNING:tensorflow:Can save best model only with val_acc available, skipping.\n"
          ]
        },
        {
          "name": "stdout",
          "output_type": "stream",
          "text": [
            "391/391 [==============================] - 32s 81ms/step - loss: 1.0169 - accuracy: 0.7478 - val_loss: 1.6747 - val_accuracy: 0.5987 - lr: 5.0000e-07\n",
            "Learning rate:  5e-07\n",
            "Epoch 228/300\n",
            "391/391 [==============================] - ETA: 0s - loss: 1.0220 - accuracy: 0.7454WARNING:tensorflow:Can save best model only with val_acc available, skipping.\n"
          ]
        },
        {
          "name": "stderr",
          "output_type": "stream",
          "text": [
            "WARNING:tensorflow:Can save best model only with val_acc available, skipping.\n"
          ]
        },
        {
          "name": "stdout",
          "output_type": "stream",
          "text": [
            "391/391 [==============================] - 31s 80ms/step - loss: 1.0220 - accuracy: 0.7454 - val_loss: 1.6716 - val_accuracy: 0.5988 - lr: 5.0000e-07\n",
            "Learning rate:  5e-07\n",
            "Epoch 229/300\n",
            "391/391 [==============================] - ETA: 0s - loss: 1.0169 - accuracy: 0.7479WARNING:tensorflow:Can save best model only with val_acc available, skipping.\n"
          ]
        },
        {
          "name": "stderr",
          "output_type": "stream",
          "text": [
            "WARNING:tensorflow:Can save best model only with val_acc available, skipping.\n"
          ]
        },
        {
          "name": "stdout",
          "output_type": "stream",
          "text": [
            "391/391 [==============================] - 32s 81ms/step - loss: 1.0169 - accuracy: 0.7479 - val_loss: 1.6738 - val_accuracy: 0.5982 - lr: 5.0000e-07\n",
            "Learning rate:  5e-07\n",
            "Epoch 230/300\n",
            "391/391 [==============================] - ETA: 0s - loss: 1.0193 - accuracy: 0.7487WARNING:tensorflow:Can save best model only with val_acc available, skipping.\n"
          ]
        },
        {
          "name": "stderr",
          "output_type": "stream",
          "text": [
            "WARNING:tensorflow:Can save best model only with val_acc available, skipping.\n"
          ]
        },
        {
          "name": "stdout",
          "output_type": "stream",
          "text": [
            "391/391 [==============================] - 31s 80ms/step - loss: 1.0193 - accuracy: 0.7487 - val_loss: 1.6714 - val_accuracy: 0.5986 - lr: 5.0000e-07\n",
            "Learning rate:  5e-07\n",
            "Epoch 231/300\n",
            "391/391 [==============================] - ETA: 0s - loss: 1.0186 - accuracy: 0.7465WARNING:tensorflow:Can save best model only with val_acc available, skipping.\n"
          ]
        },
        {
          "name": "stderr",
          "output_type": "stream",
          "text": [
            "WARNING:tensorflow:Can save best model only with val_acc available, skipping.\n"
          ]
        },
        {
          "name": "stdout",
          "output_type": "stream",
          "text": [
            "391/391 [==============================] - 32s 81ms/step - loss: 1.0186 - accuracy: 0.7465 - val_loss: 1.6765 - val_accuracy: 0.5976 - lr: 5.0000e-07\n",
            "Learning rate:  5e-07\n",
            "Epoch 232/300\n",
            "391/391 [==============================] - ETA: 0s - loss: 1.0212 - accuracy: 0.7479WARNING:tensorflow:Can save best model only with val_acc available, skipping.\n"
          ]
        },
        {
          "name": "stderr",
          "output_type": "stream",
          "text": [
            "WARNING:tensorflow:Can save best model only with val_acc available, skipping.\n"
          ]
        },
        {
          "name": "stdout",
          "output_type": "stream",
          "text": [
            "391/391 [==============================] - 31s 80ms/step - loss: 1.0212 - accuracy: 0.7479 - val_loss: 1.6755 - val_accuracy: 0.5990 - lr: 5.0000e-07\n",
            "Learning rate:  5e-07\n",
            "Epoch 233/300\n",
            "391/391 [==============================] - ETA: 0s - loss: 1.0215 - accuracy: 0.7479WARNING:tensorflow:Can save best model only with val_acc available, skipping.\n"
          ]
        },
        {
          "name": "stderr",
          "output_type": "stream",
          "text": [
            "WARNING:tensorflow:Can save best model only with val_acc available, skipping.\n"
          ]
        },
        {
          "name": "stdout",
          "output_type": "stream",
          "text": [
            "391/391 [==============================] - 32s 81ms/step - loss: 1.0215 - accuracy: 0.7479 - val_loss: 1.6752 - val_accuracy: 0.5984 - lr: 5.0000e-07\n",
            "Learning rate:  5e-07\n",
            "Epoch 234/300\n",
            "391/391 [==============================] - ETA: 0s - loss: 1.0159 - accuracy: 0.7491WARNING:tensorflow:Can save best model only with val_acc available, skipping.\n"
          ]
        },
        {
          "name": "stderr",
          "output_type": "stream",
          "text": [
            "WARNING:tensorflow:Can save best model only with val_acc available, skipping.\n"
          ]
        },
        {
          "name": "stdout",
          "output_type": "stream",
          "text": [
            "391/391 [==============================] - 31s 80ms/step - loss: 1.0159 - accuracy: 0.7491 - val_loss: 1.6721 - val_accuracy: 0.5992 - lr: 5.0000e-07\n",
            "Learning rate:  5e-07\n",
            "Epoch 235/300\n",
            "391/391 [==============================] - ETA: 0s - loss: 1.0219 - accuracy: 0.7467WARNING:tensorflow:Can save best model only with val_acc available, skipping.\n"
          ]
        },
        {
          "name": "stderr",
          "output_type": "stream",
          "text": [
            "WARNING:tensorflow:Can save best model only with val_acc available, skipping.\n"
          ]
        },
        {
          "name": "stdout",
          "output_type": "stream",
          "text": [
            "391/391 [==============================] - 32s 82ms/step - loss: 1.0219 - accuracy: 0.7467 - val_loss: 1.6734 - val_accuracy: 0.5991 - lr: 5.0000e-07\n",
            "Learning rate:  5e-07\n",
            "Epoch 236/300\n",
            "391/391 [==============================] - ETA: 0s - loss: 1.0185 - accuracy: 0.7468WARNING:tensorflow:Can save best model only with val_acc available, skipping.\n"
          ]
        },
        {
          "name": "stderr",
          "output_type": "stream",
          "text": [
            "WARNING:tensorflow:Can save best model only with val_acc available, skipping.\n"
          ]
        },
        {
          "name": "stdout",
          "output_type": "stream",
          "text": [
            "391/391 [==============================] - 32s 81ms/step - loss: 1.0185 - accuracy: 0.7468 - val_loss: 1.6730 - val_accuracy: 0.5997 - lr: 5.0000e-07\n",
            "Learning rate:  5e-07\n",
            "Epoch 237/300\n",
            "391/391 [==============================] - ETA: 0s - loss: 1.0189 - accuracy: 0.7467WARNING:tensorflow:Can save best model only with val_acc available, skipping.\n"
          ]
        },
        {
          "name": "stderr",
          "output_type": "stream",
          "text": [
            "WARNING:tensorflow:Can save best model only with val_acc available, skipping.\n"
          ]
        },
        {
          "name": "stdout",
          "output_type": "stream",
          "text": [
            "391/391 [==============================] - 32s 81ms/step - loss: 1.0189 - accuracy: 0.7467 - val_loss: 1.6737 - val_accuracy: 0.5992 - lr: 5.0000e-07\n",
            "Learning rate:  5e-07\n",
            "Epoch 238/300\n",
            "391/391 [==============================] - ETA: 0s - loss: 1.0152 - accuracy: 0.7482WARNING:tensorflow:Can save best model only with val_acc available, skipping.\n"
          ]
        },
        {
          "name": "stderr",
          "output_type": "stream",
          "text": [
            "WARNING:tensorflow:Can save best model only with val_acc available, skipping.\n"
          ]
        },
        {
          "name": "stdout",
          "output_type": "stream",
          "text": [
            "391/391 [==============================] - 32s 81ms/step - loss: 1.0152 - accuracy: 0.7482 - val_loss: 1.6752 - val_accuracy: 0.6002 - lr: 5.0000e-07\n",
            "Learning rate:  5e-07\n",
            "Epoch 239/300\n",
            "391/391 [==============================] - ETA: 0s - loss: 1.0187 - accuracy: 0.7491WARNING:tensorflow:Can save best model only with val_acc available, skipping.\n"
          ]
        },
        {
          "name": "stderr",
          "output_type": "stream",
          "text": [
            "WARNING:tensorflow:Can save best model only with val_acc available, skipping.\n"
          ]
        },
        {
          "name": "stdout",
          "output_type": "stream",
          "text": [
            "391/391 [==============================] - 31s 80ms/step - loss: 1.0187 - accuracy: 0.7491 - val_loss: 1.6729 - val_accuracy: 0.6000 - lr: 5.0000e-07\n",
            "Learning rate:  5e-07\n",
            "Epoch 240/300\n",
            "391/391 [==============================] - ETA: 0s - loss: 1.0157 - accuracy: 0.7468WARNING:tensorflow:Can save best model only with val_acc available, skipping.\n"
          ]
        },
        {
          "name": "stderr",
          "output_type": "stream",
          "text": [
            "WARNING:tensorflow:Can save best model only with val_acc available, skipping.\n"
          ]
        },
        {
          "name": "stdout",
          "output_type": "stream",
          "text": [
            "391/391 [==============================] - 32s 81ms/step - loss: 1.0157 - accuracy: 0.7468 - val_loss: 1.6745 - val_accuracy: 0.6001 - lr: 5.0000e-07\n",
            "Learning rate:  5e-07\n",
            "Epoch 241/300\n",
            "391/391 [==============================] - ETA: 0s - loss: 1.0201 - accuracy: 0.7458WARNING:tensorflow:Can save best model only with val_acc available, skipping.\n"
          ]
        },
        {
          "name": "stderr",
          "output_type": "stream",
          "text": [
            "WARNING:tensorflow:Can save best model only with val_acc available, skipping.\n"
          ]
        },
        {
          "name": "stdout",
          "output_type": "stream",
          "text": [
            "391/391 [==============================] - 31s 80ms/step - loss: 1.0201 - accuracy: 0.7458 - val_loss: 1.6742 - val_accuracy: 0.5990 - lr: 5.0000e-07\n",
            "Learning rate:  5e-07\n",
            "Epoch 242/300\n",
            "391/391 [==============================] - ETA: 0s - loss: 1.0193 - accuracy: 0.7475WARNING:tensorflow:Can save best model only with val_acc available, skipping.\n"
          ]
        },
        {
          "name": "stderr",
          "output_type": "stream",
          "text": [
            "WARNING:tensorflow:Can save best model only with val_acc available, skipping.\n"
          ]
        },
        {
          "name": "stdout",
          "output_type": "stream",
          "text": [
            "391/391 [==============================] - 32s 81ms/step - loss: 1.0193 - accuracy: 0.7475 - val_loss: 1.6737 - val_accuracy: 0.5996 - lr: 5.0000e-07\n",
            "Learning rate:  5e-07\n",
            "Epoch 243/300\n",
            "391/391 [==============================] - ETA: 0s - loss: 1.0157 - accuracy: 0.7496WARNING:tensorflow:Can save best model only with val_acc available, skipping.\n"
          ]
        },
        {
          "name": "stderr",
          "output_type": "stream",
          "text": [
            "WARNING:tensorflow:Can save best model only with val_acc available, skipping.\n"
          ]
        },
        {
          "name": "stdout",
          "output_type": "stream",
          "text": [
            "391/391 [==============================] - 31s 80ms/step - loss: 1.0157 - accuracy: 0.7496 - val_loss: 1.6736 - val_accuracy: 0.5999 - lr: 5.0000e-07\n",
            "Learning rate:  5e-07\n",
            "Epoch 244/300\n",
            "391/391 [==============================] - ETA: 0s - loss: 1.0200 - accuracy: 0.7478WARNING:tensorflow:Can save best model only with val_acc available, skipping.\n"
          ]
        },
        {
          "name": "stderr",
          "output_type": "stream",
          "text": [
            "WARNING:tensorflow:Can save best model only with val_acc available, skipping.\n"
          ]
        },
        {
          "name": "stdout",
          "output_type": "stream",
          "text": [
            "391/391 [==============================] - 32s 83ms/step - loss: 1.0200 - accuracy: 0.7478 - val_loss: 1.6727 - val_accuracy: 0.5994 - lr: 5.0000e-07\n",
            "Learning rate:  5e-07\n",
            "Epoch 245/300\n",
            "391/391 [==============================] - ETA: 0s - loss: 1.0179 - accuracy: 0.7485WARNING:tensorflow:Can save best model only with val_acc available, skipping.\n"
          ]
        },
        {
          "name": "stderr",
          "output_type": "stream",
          "text": [
            "WARNING:tensorflow:Can save best model only with val_acc available, skipping.\n"
          ]
        },
        {
          "name": "stdout",
          "output_type": "stream",
          "text": [
            "391/391 [==============================] - 31s 80ms/step - loss: 1.0179 - accuracy: 0.7485 - val_loss: 1.6720 - val_accuracy: 0.5990 - lr: 5.0000e-07\n",
            "Learning rate:  5e-07\n",
            "Epoch 246/300\n",
            "391/391 [==============================] - ETA: 0s - loss: 1.0185 - accuracy: 0.7496WARNING:tensorflow:Can save best model only with val_acc available, skipping.\n"
          ]
        },
        {
          "name": "stderr",
          "output_type": "stream",
          "text": [
            "WARNING:tensorflow:Can save best model only with val_acc available, skipping.\n"
          ]
        },
        {
          "name": "stdout",
          "output_type": "stream",
          "text": [
            "391/391 [==============================] - 32s 81ms/step - loss: 1.0185 - accuracy: 0.7496 - val_loss: 1.6740 - val_accuracy: 0.5989 - lr: 5.0000e-07\n",
            "Learning rate:  5e-07\n",
            "Epoch 247/300\n",
            "391/391 [==============================] - ETA: 0s - loss: 1.0173 - accuracy: 0.7508WARNING:tensorflow:Can save best model only with val_acc available, skipping.\n"
          ]
        },
        {
          "name": "stderr",
          "output_type": "stream",
          "text": [
            "WARNING:tensorflow:Can save best model only with val_acc available, skipping.\n"
          ]
        },
        {
          "name": "stdout",
          "output_type": "stream",
          "text": [
            "391/391 [==============================] - 32s 81ms/step - loss: 1.0173 - accuracy: 0.7508 - val_loss: 1.6721 - val_accuracy: 0.5993 - lr: 5.0000e-07\n",
            "Learning rate:  5e-07\n",
            "Epoch 248/300\n",
            "391/391 [==============================] - ETA: 0s - loss: 1.0156 - accuracy: 0.7492WARNING:tensorflow:Can save best model only with val_acc available, skipping.\n"
          ]
        },
        {
          "name": "stderr",
          "output_type": "stream",
          "text": [
            "WARNING:tensorflow:Can save best model only with val_acc available, skipping.\n"
          ]
        },
        {
          "name": "stdout",
          "output_type": "stream",
          "text": [
            "391/391 [==============================] - 32s 81ms/step - loss: 1.0156 - accuracy: 0.7492 - val_loss: 1.6739 - val_accuracy: 0.5985 - lr: 5.0000e-07\n",
            "Learning rate:  5e-07\n",
            "Epoch 249/300\n",
            "391/391 [==============================] - ETA: 0s - loss: 1.0209 - accuracy: 0.7482WARNING:tensorflow:Can save best model only with val_acc available, skipping.\n"
          ]
        },
        {
          "name": "stderr",
          "output_type": "stream",
          "text": [
            "WARNING:tensorflow:Can save best model only with val_acc available, skipping.\n"
          ]
        },
        {
          "name": "stdout",
          "output_type": "stream",
          "text": [
            "391/391 [==============================] - 31s 80ms/step - loss: 1.0209 - accuracy: 0.7482 - val_loss: 1.6725 - val_accuracy: 0.5997 - lr: 5.0000e-07\n",
            "Learning rate:  5e-07\n",
            "Epoch 250/300\n",
            "391/391 [==============================] - ETA: 0s - loss: 1.0178 - accuracy: 0.7492WARNING:tensorflow:Can save best model only with val_acc available, skipping.\n"
          ]
        },
        {
          "name": "stderr",
          "output_type": "stream",
          "text": [
            "WARNING:tensorflow:Can save best model only with val_acc available, skipping.\n"
          ]
        },
        {
          "name": "stdout",
          "output_type": "stream",
          "text": [
            "391/391 [==============================] - 31s 80ms/step - loss: 1.0178 - accuracy: 0.7492 - val_loss: 1.6750 - val_accuracy: 0.5988 - lr: 5.0000e-07\n",
            "Learning rate:  5e-07\n",
            "Epoch 251/300\n",
            "391/391 [==============================] - ETA: 0s - loss: 1.0212 - accuracy: 0.7476WARNING:tensorflow:Can save best model only with val_acc available, skipping.\n"
          ]
        },
        {
          "name": "stderr",
          "output_type": "stream",
          "text": [
            "WARNING:tensorflow:Can save best model only with val_acc available, skipping.\n"
          ]
        },
        {
          "name": "stdout",
          "output_type": "stream",
          "text": [
            "391/391 [==============================] - 31s 80ms/step - loss: 1.0212 - accuracy: 0.7476 - val_loss: 1.6735 - val_accuracy: 0.5988 - lr: 5.0000e-07\n",
            "Learning rate:  5e-07\n",
            "Epoch 252/300\n",
            "391/391 [==============================] - ETA: 0s - loss: 1.0231 - accuracy: 0.7458WARNING:tensorflow:Can save best model only with val_acc available, skipping.\n"
          ]
        },
        {
          "name": "stderr",
          "output_type": "stream",
          "text": [
            "WARNING:tensorflow:Can save best model only with val_acc available, skipping.\n"
          ]
        },
        {
          "name": "stdout",
          "output_type": "stream",
          "text": [
            "391/391 [==============================] - 32s 81ms/step - loss: 1.0231 - accuracy: 0.7458 - val_loss: 1.6731 - val_accuracy: 0.5987 - lr: 5.0000e-07\n",
            "Learning rate:  5e-07\n",
            "Epoch 253/300\n",
            "391/391 [==============================] - ETA: 0s - loss: 1.0144 - accuracy: 0.7496WARNING:tensorflow:Can save best model only with val_acc available, skipping.\n"
          ]
        },
        {
          "name": "stderr",
          "output_type": "stream",
          "text": [
            "WARNING:tensorflow:Can save best model only with val_acc available, skipping.\n"
          ]
        },
        {
          "name": "stdout",
          "output_type": "stream",
          "text": [
            "391/391 [==============================] - 31s 80ms/step - loss: 1.0144 - accuracy: 0.7496 - val_loss: 1.6649 - val_accuracy: 0.5997 - lr: 5.0000e-07\n",
            "Learning rate:  5e-07\n",
            "Epoch 254/300\n",
            "391/391 [==============================] - ETA: 0s - loss: 1.0168 - accuracy: 0.7498WARNING:tensorflow:Can save best model only with val_acc available, skipping.\n"
          ]
        },
        {
          "name": "stderr",
          "output_type": "stream",
          "text": [
            "WARNING:tensorflow:Can save best model only with val_acc available, skipping.\n"
          ]
        },
        {
          "name": "stdout",
          "output_type": "stream",
          "text": [
            "391/391 [==============================] - 31s 80ms/step - loss: 1.0168 - accuracy: 0.7498 - val_loss: 1.6745 - val_accuracy: 0.5989 - lr: 5.0000e-07\n",
            "Learning rate:  5e-07\n",
            "Epoch 255/300\n",
            "391/391 [==============================] - ETA: 0s - loss: 1.0215 - accuracy: 0.7466WARNING:tensorflow:Can save best model only with val_acc available, skipping.\n"
          ]
        },
        {
          "name": "stderr",
          "output_type": "stream",
          "text": [
            "WARNING:tensorflow:Can save best model only with val_acc available, skipping.\n"
          ]
        },
        {
          "name": "stdout",
          "output_type": "stream",
          "text": [
            "391/391 [==============================] - 31s 80ms/step - loss: 1.0215 - accuracy: 0.7466 - val_loss: 1.6769 - val_accuracy: 0.5992 - lr: 5.0000e-07\n",
            "Learning rate:  5e-07\n",
            "Epoch 256/300\n",
            "391/391 [==============================] - ETA: 0s - loss: 1.0193 - accuracy: 0.7479WARNING:tensorflow:Can save best model only with val_acc available, skipping.\n"
          ]
        },
        {
          "name": "stderr",
          "output_type": "stream",
          "text": [
            "WARNING:tensorflow:Can save best model only with val_acc available, skipping.\n"
          ]
        },
        {
          "name": "stdout",
          "output_type": "stream",
          "text": [
            "391/391 [==============================] - 31s 80ms/step - loss: 1.0193 - accuracy: 0.7479 - val_loss: 1.6733 - val_accuracy: 0.5992 - lr: 5.0000e-07\n",
            "Learning rate:  5e-07\n",
            "Epoch 257/300\n",
            "391/391 [==============================] - ETA: 0s - loss: 1.0218 - accuracy: 0.7476WARNING:tensorflow:Can save best model only with val_acc available, skipping.\n"
          ]
        },
        {
          "name": "stderr",
          "output_type": "stream",
          "text": [
            "WARNING:tensorflow:Can save best model only with val_acc available, skipping.\n"
          ]
        },
        {
          "name": "stdout",
          "output_type": "stream",
          "text": [
            "391/391 [==============================] - 32s 81ms/step - loss: 1.0218 - accuracy: 0.7476 - val_loss: 1.6744 - val_accuracy: 0.5994 - lr: 5.0000e-07\n",
            "Learning rate:  5e-07\n",
            "Epoch 258/300\n",
            "391/391 [==============================] - ETA: 0s - loss: 1.0165 - accuracy: 0.7486WARNING:tensorflow:Can save best model only with val_acc available, skipping.\n"
          ]
        },
        {
          "name": "stderr",
          "output_type": "stream",
          "text": [
            "WARNING:tensorflow:Can save best model only with val_acc available, skipping.\n"
          ]
        },
        {
          "name": "stdout",
          "output_type": "stream",
          "text": [
            "391/391 [==============================] - 31s 80ms/step - loss: 1.0165 - accuracy: 0.7486 - val_loss: 1.6718 - val_accuracy: 0.5996 - lr: 5.0000e-07\n",
            "Learning rate:  5e-07\n",
            "Epoch 259/300\n",
            "391/391 [==============================] - ETA: 0s - loss: 1.0143 - accuracy: 0.7502WARNING:tensorflow:Can save best model only with val_acc available, skipping.\n"
          ]
        },
        {
          "name": "stderr",
          "output_type": "stream",
          "text": [
            "WARNING:tensorflow:Can save best model only with val_acc available, skipping.\n"
          ]
        },
        {
          "name": "stdout",
          "output_type": "stream",
          "text": [
            "391/391 [==============================] - 32s 81ms/step - loss: 1.0143 - accuracy: 0.7502 - val_loss: 1.6725 - val_accuracy: 0.5996 - lr: 5.0000e-07\n",
            "Learning rate:  5e-07\n",
            "Epoch 260/300\n",
            "391/391 [==============================] - ETA: 0s - loss: 1.0173 - accuracy: 0.7480WARNING:tensorflow:Can save best model only with val_acc available, skipping.\n"
          ]
        },
        {
          "name": "stderr",
          "output_type": "stream",
          "text": [
            "WARNING:tensorflow:Can save best model only with val_acc available, skipping.\n"
          ]
        },
        {
          "name": "stdout",
          "output_type": "stream",
          "text": [
            "391/391 [==============================] - 31s 79ms/step - loss: 1.0173 - accuracy: 0.7480 - val_loss: 1.6717 - val_accuracy: 0.6001 - lr: 5.0000e-07\n",
            "Learning rate:  5e-07\n",
            "Epoch 261/300\n",
            "391/391 [==============================] - ETA: 0s - loss: 1.0184 - accuracy: 0.7462WARNING:tensorflow:Can save best model only with val_acc available, skipping.\n"
          ]
        },
        {
          "name": "stderr",
          "output_type": "stream",
          "text": [
            "WARNING:tensorflow:Can save best model only with val_acc available, skipping.\n"
          ]
        },
        {
          "name": "stdout",
          "output_type": "stream",
          "text": [
            "391/391 [==============================] - 32s 82ms/step - loss: 1.0184 - accuracy: 0.7462 - val_loss: 1.6728 - val_accuracy: 0.5991 - lr: 5.0000e-07\n",
            "Learning rate:  5e-07\n",
            "Epoch 262/300\n",
            "391/391 [==============================] - ETA: 0s - loss: 1.0148 - accuracy: 0.7500WARNING:tensorflow:Can save best model only with val_acc available, skipping.\n"
          ]
        },
        {
          "name": "stderr",
          "output_type": "stream",
          "text": [
            "WARNING:tensorflow:Can save best model only with val_acc available, skipping.\n"
          ]
        },
        {
          "name": "stdout",
          "output_type": "stream",
          "text": [
            "391/391 [==============================] - 31s 80ms/step - loss: 1.0148 - accuracy: 0.7500 - val_loss: 1.6709 - val_accuracy: 0.5993 - lr: 5.0000e-07\n",
            "Learning rate:  5e-07\n",
            "Epoch 263/300\n",
            "391/391 [==============================] - ETA: 0s - loss: 1.0155 - accuracy: 0.7480WARNING:tensorflow:Can save best model only with val_acc available, skipping.\n"
          ]
        },
        {
          "name": "stderr",
          "output_type": "stream",
          "text": [
            "WARNING:tensorflow:Can save best model only with val_acc available, skipping.\n"
          ]
        },
        {
          "name": "stdout",
          "output_type": "stream",
          "text": [
            "391/391 [==============================] - 32s 81ms/step - loss: 1.0155 - accuracy: 0.7480 - val_loss: 1.6731 - val_accuracy: 0.5998 - lr: 5.0000e-07\n",
            "Learning rate:  5e-07\n",
            "Epoch 264/300\n",
            "391/391 [==============================] - ETA: 0s - loss: 1.0213 - accuracy: 0.7463WARNING:tensorflow:Can save best model only with val_acc available, skipping.\n"
          ]
        },
        {
          "name": "stderr",
          "output_type": "stream",
          "text": [
            "WARNING:tensorflow:Can save best model only with val_acc available, skipping.\n"
          ]
        },
        {
          "name": "stdout",
          "output_type": "stream",
          "text": [
            "391/391 [==============================] - 31s 80ms/step - loss: 1.0213 - accuracy: 0.7463 - val_loss: 1.6719 - val_accuracy: 0.6000 - lr: 5.0000e-07\n",
            "Learning rate:  5e-07\n",
            "Epoch 265/300\n",
            "391/391 [==============================] - ETA: 0s - loss: 1.0215 - accuracy: 0.7459WARNING:tensorflow:Can save best model only with val_acc available, skipping.\n"
          ]
        },
        {
          "name": "stderr",
          "output_type": "stream",
          "text": [
            "WARNING:tensorflow:Can save best model only with val_acc available, skipping.\n"
          ]
        },
        {
          "name": "stdout",
          "output_type": "stream",
          "text": [
            "391/391 [==============================] - 32s 81ms/step - loss: 1.0215 - accuracy: 0.7459 - val_loss: 1.6708 - val_accuracy: 0.5998 - lr: 5.0000e-07\n",
            "Learning rate:  5e-07\n",
            "Epoch 266/300\n",
            "391/391 [==============================] - ETA: 0s - loss: 1.0180 - accuracy: 0.7472WARNING:tensorflow:Can save best model only with val_acc available, skipping.\n"
          ]
        },
        {
          "name": "stderr",
          "output_type": "stream",
          "text": [
            "WARNING:tensorflow:Can save best model only with val_acc available, skipping.\n"
          ]
        },
        {
          "name": "stdout",
          "output_type": "stream",
          "text": [
            "391/391 [==============================] - 32s 81ms/step - loss: 1.0180 - accuracy: 0.7472 - val_loss: 1.6718 - val_accuracy: 0.5990 - lr: 5.0000e-07\n",
            "Learning rate:  5e-07\n",
            "Epoch 267/300\n",
            "391/391 [==============================] - ETA: 0s - loss: 1.0176 - accuracy: 0.7488WARNING:tensorflow:Can save best model only with val_acc available, skipping.\n"
          ]
        },
        {
          "name": "stderr",
          "output_type": "stream",
          "text": [
            "WARNING:tensorflow:Can save best model only with val_acc available, skipping.\n"
          ]
        },
        {
          "name": "stdout",
          "output_type": "stream",
          "text": [
            "391/391 [==============================] - 32s 81ms/step - loss: 1.0176 - accuracy: 0.7488 - val_loss: 1.6724 - val_accuracy: 0.5998 - lr: 5.0000e-07\n",
            "Learning rate:  5e-07\n",
            "Epoch 268/300\n",
            "391/391 [==============================] - ETA: 0s - loss: 1.0165 - accuracy: 0.7487WARNING:tensorflow:Can save best model only with val_acc available, skipping.\n"
          ]
        },
        {
          "name": "stderr",
          "output_type": "stream",
          "text": [
            "WARNING:tensorflow:Can save best model only with val_acc available, skipping.\n"
          ]
        },
        {
          "name": "stdout",
          "output_type": "stream",
          "text": [
            "391/391 [==============================] - 31s 80ms/step - loss: 1.0165 - accuracy: 0.7487 - val_loss: 1.6700 - val_accuracy: 0.5996 - lr: 5.0000e-07\n",
            "Learning rate:  5e-07\n",
            "Epoch 269/300\n",
            "391/391 [==============================] - ETA: 0s - loss: 1.0213 - accuracy: 0.7488WARNING:tensorflow:Can save best model only with val_acc available, skipping.\n"
          ]
        },
        {
          "name": "stderr",
          "output_type": "stream",
          "text": [
            "WARNING:tensorflow:Can save best model only with val_acc available, skipping.\n"
          ]
        },
        {
          "name": "stdout",
          "output_type": "stream",
          "text": [
            "391/391 [==============================] - 32s 81ms/step - loss: 1.0213 - accuracy: 0.7488 - val_loss: 1.6706 - val_accuracy: 0.5996 - lr: 5.0000e-07\n",
            "Learning rate:  5e-07\n",
            "Epoch 270/300\n",
            "391/391 [==============================] - ETA: 0s - loss: 1.0198 - accuracy: 0.7466WARNING:tensorflow:Can save best model only with val_acc available, skipping.\n"
          ]
        },
        {
          "name": "stderr",
          "output_type": "stream",
          "text": [
            "WARNING:tensorflow:Can save best model only with val_acc available, skipping.\n"
          ]
        },
        {
          "name": "stdout",
          "output_type": "stream",
          "text": [
            "391/391 [==============================] - 31s 80ms/step - loss: 1.0198 - accuracy: 0.7466 - val_loss: 1.6708 - val_accuracy: 0.5989 - lr: 5.0000e-07\n",
            "Learning rate:  5e-07\n",
            "Epoch 271/300\n",
            "391/391 [==============================] - ETA: 0s - loss: 1.0169 - accuracy: 0.7494WARNING:tensorflow:Can save best model only with val_acc available, skipping.\n"
          ]
        },
        {
          "name": "stderr",
          "output_type": "stream",
          "text": [
            "WARNING:tensorflow:Can save best model only with val_acc available, skipping.\n"
          ]
        },
        {
          "name": "stdout",
          "output_type": "stream",
          "text": [
            "391/391 [==============================] - 31s 80ms/step - loss: 1.0169 - accuracy: 0.7494 - val_loss: 1.6725 - val_accuracy: 0.5990 - lr: 5.0000e-07\n",
            "Learning rate:  5e-07\n",
            "Epoch 272/300\n",
            "391/391 [==============================] - ETA: 0s - loss: 1.0172 - accuracy: 0.7501WARNING:tensorflow:Can save best model only with val_acc available, skipping.\n"
          ]
        },
        {
          "name": "stderr",
          "output_type": "stream",
          "text": [
            "WARNING:tensorflow:Can save best model only with val_acc available, skipping.\n"
          ]
        },
        {
          "name": "stdout",
          "output_type": "stream",
          "text": [
            "391/391 [==============================] - 32s 81ms/step - loss: 1.0172 - accuracy: 0.7501 - val_loss: 1.6731 - val_accuracy: 0.5989 - lr: 5.0000e-07\n",
            "Learning rate:  5e-07\n",
            "Epoch 273/300\n",
            "391/391 [==============================] - ETA: 0s - loss: 1.0189 - accuracy: 0.7483WARNING:tensorflow:Can save best model only with val_acc available, skipping.\n"
          ]
        },
        {
          "name": "stderr",
          "output_type": "stream",
          "text": [
            "WARNING:tensorflow:Can save best model only with val_acc available, skipping.\n"
          ]
        },
        {
          "name": "stdout",
          "output_type": "stream",
          "text": [
            "391/391 [==============================] - 31s 80ms/step - loss: 1.0189 - accuracy: 0.7483 - val_loss: 1.6709 - val_accuracy: 0.6005 - lr: 5.0000e-07\n",
            "Learning rate:  5e-07\n",
            "Epoch 274/300\n",
            "391/391 [==============================] - ETA: 0s - loss: 1.0204 - accuracy: 0.7487WARNING:tensorflow:Can save best model only with val_acc available, skipping.\n"
          ]
        },
        {
          "name": "stderr",
          "output_type": "stream",
          "text": [
            "WARNING:tensorflow:Can save best model only with val_acc available, skipping.\n"
          ]
        },
        {
          "name": "stdout",
          "output_type": "stream",
          "text": [
            "391/391 [==============================] - 32s 81ms/step - loss: 1.0204 - accuracy: 0.7487 - val_loss: 1.6703 - val_accuracy: 0.5995 - lr: 5.0000e-07\n",
            "Learning rate:  5e-07\n",
            "Epoch 275/300\n",
            "391/391 [==============================] - ETA: 0s - loss: 1.0147 - accuracy: 0.7492WARNING:tensorflow:Can save best model only with val_acc available, skipping.\n"
          ]
        },
        {
          "name": "stderr",
          "output_type": "stream",
          "text": [
            "WARNING:tensorflow:Can save best model only with val_acc available, skipping.\n"
          ]
        },
        {
          "name": "stdout",
          "output_type": "stream",
          "text": [
            "391/391 [==============================] - 31s 80ms/step - loss: 1.0147 - accuracy: 0.7492 - val_loss: 1.6710 - val_accuracy: 0.5997 - lr: 5.0000e-07\n",
            "Learning rate:  5e-07\n",
            "Epoch 276/300\n",
            "391/391 [==============================] - ETA: 0s - loss: 1.0183 - accuracy: 0.7486WARNING:tensorflow:Can save best model only with val_acc available, skipping.\n"
          ]
        },
        {
          "name": "stderr",
          "output_type": "stream",
          "text": [
            "WARNING:tensorflow:Can save best model only with val_acc available, skipping.\n"
          ]
        },
        {
          "name": "stdout",
          "output_type": "stream",
          "text": [
            "391/391 [==============================] - 32s 81ms/step - loss: 1.0183 - accuracy: 0.7486 - val_loss: 1.6723 - val_accuracy: 0.5999 - lr: 5.0000e-07\n",
            "Learning rate:  5e-07\n",
            "Epoch 277/300\n",
            "391/391 [==============================] - ETA: 0s - loss: 1.0196 - accuracy: 0.7478WARNING:tensorflow:Can save best model only with val_acc available, skipping.\n"
          ]
        },
        {
          "name": "stderr",
          "output_type": "stream",
          "text": [
            "WARNING:tensorflow:Can save best model only with val_acc available, skipping.\n"
          ]
        },
        {
          "name": "stdout",
          "output_type": "stream",
          "text": [
            "391/391 [==============================] - 31s 80ms/step - loss: 1.0196 - accuracy: 0.7478 - val_loss: 1.6707 - val_accuracy: 0.6001 - lr: 5.0000e-07\n",
            "Learning rate:  5e-07\n",
            "Epoch 278/300\n",
            "391/391 [==============================] - ETA: 0s - loss: 1.0182 - accuracy: 0.7472WARNING:tensorflow:Can save best model only with val_acc available, skipping.\n"
          ]
        },
        {
          "name": "stderr",
          "output_type": "stream",
          "text": [
            "WARNING:tensorflow:Can save best model only with val_acc available, skipping.\n"
          ]
        },
        {
          "name": "stdout",
          "output_type": "stream",
          "text": [
            "391/391 [==============================] - 32s 81ms/step - loss: 1.0182 - accuracy: 0.7472 - val_loss: 1.6708 - val_accuracy: 0.5998 - lr: 5.0000e-07\n",
            "Learning rate:  5e-07\n",
            "Epoch 279/300\n",
            "391/391 [==============================] - ETA: 0s - loss: 1.0128 - accuracy: 0.7501WARNING:tensorflow:Can save best model only with val_acc available, skipping.\n"
          ]
        },
        {
          "name": "stderr",
          "output_type": "stream",
          "text": [
            "WARNING:tensorflow:Can save best model only with val_acc available, skipping.\n"
          ]
        },
        {
          "name": "stdout",
          "output_type": "stream",
          "text": [
            "391/391 [==============================] - 31s 80ms/step - loss: 1.0128 - accuracy: 0.7501 - val_loss: 1.6696 - val_accuracy: 0.6007 - lr: 5.0000e-07\n",
            "Learning rate:  5e-07\n",
            "Epoch 280/300\n",
            "391/391 [==============================] - ETA: 0s - loss: 1.0178 - accuracy: 0.7473WARNING:tensorflow:Can save best model only with val_acc available, skipping.\n"
          ]
        },
        {
          "name": "stderr",
          "output_type": "stream",
          "text": [
            "WARNING:tensorflow:Can save best model only with val_acc available, skipping.\n"
          ]
        },
        {
          "name": "stdout",
          "output_type": "stream",
          "text": [
            "391/391 [==============================] - 32s 81ms/step - loss: 1.0178 - accuracy: 0.7473 - val_loss: 1.6681 - val_accuracy: 0.6000 - lr: 5.0000e-07\n",
            "Learning rate:  5e-07\n",
            "Epoch 281/300\n",
            "391/391 [==============================] - ETA: 0s - loss: 1.0154 - accuracy: 0.7488WARNING:tensorflow:Can save best model only with val_acc available, skipping.\n"
          ]
        },
        {
          "name": "stderr",
          "output_type": "stream",
          "text": [
            "WARNING:tensorflow:Can save best model only with val_acc available, skipping.\n"
          ]
        },
        {
          "name": "stdout",
          "output_type": "stream",
          "text": [
            "391/391 [==============================] - 31s 80ms/step - loss: 1.0154 - accuracy: 0.7488 - val_loss: 1.6698 - val_accuracy: 0.5995 - lr: 5.0000e-07\n",
            "Learning rate:  5e-07\n",
            "Epoch 282/300\n",
            "391/391 [==============================] - ETA: 0s - loss: 1.0217 - accuracy: 0.7484WARNING:tensorflow:Can save best model only with val_acc available, skipping.\n"
          ]
        },
        {
          "name": "stderr",
          "output_type": "stream",
          "text": [
            "WARNING:tensorflow:Can save best model only with val_acc available, skipping.\n"
          ]
        },
        {
          "name": "stdout",
          "output_type": "stream",
          "text": [
            "391/391 [==============================] - 32s 81ms/step - loss: 1.0217 - accuracy: 0.7484 - val_loss: 1.6721 - val_accuracy: 0.5999 - lr: 5.0000e-07\n",
            "Learning rate:  5e-07\n",
            "Epoch 283/300\n",
            "391/391 [==============================] - ETA: 0s - loss: 1.0159 - accuracy: 0.7489WARNING:tensorflow:Can save best model only with val_acc available, skipping.\n"
          ]
        },
        {
          "name": "stderr",
          "output_type": "stream",
          "text": [
            "WARNING:tensorflow:Can save best model only with val_acc available, skipping.\n"
          ]
        },
        {
          "name": "stdout",
          "output_type": "stream",
          "text": [
            "391/391 [==============================] - 31s 80ms/step - loss: 1.0159 - accuracy: 0.7489 - val_loss: 1.6724 - val_accuracy: 0.5991 - lr: 5.0000e-07\n",
            "Learning rate:  5e-07\n",
            "Epoch 284/300\n",
            "391/391 [==============================] - ETA: 0s - loss: 1.0136 - accuracy: 0.7480WARNING:tensorflow:Can save best model only with val_acc available, skipping.\n"
          ]
        },
        {
          "name": "stderr",
          "output_type": "stream",
          "text": [
            "WARNING:tensorflow:Can save best model only with val_acc available, skipping.\n"
          ]
        },
        {
          "name": "stdout",
          "output_type": "stream",
          "text": [
            "391/391 [==============================] - 32s 81ms/step - loss: 1.0136 - accuracy: 0.7480 - val_loss: 1.6724 - val_accuracy: 0.5991 - lr: 5.0000e-07\n",
            "Learning rate:  5e-07\n",
            "Epoch 285/300\n",
            "391/391 [==============================] - ETA: 0s - loss: 1.0144 - accuracy: 0.7497WARNING:tensorflow:Can save best model only with val_acc available, skipping.\n"
          ]
        },
        {
          "name": "stderr",
          "output_type": "stream",
          "text": [
            "WARNING:tensorflow:Can save best model only with val_acc available, skipping.\n"
          ]
        },
        {
          "name": "stdout",
          "output_type": "stream",
          "text": [
            "391/391 [==============================] - 31s 80ms/step - loss: 1.0144 - accuracy: 0.7497 - val_loss: 1.6709 - val_accuracy: 0.5997 - lr: 5.0000e-07\n",
            "Learning rate:  5e-07\n",
            "Epoch 286/300\n",
            "391/391 [==============================] - ETA: 0s - loss: 1.0154 - accuracy: 0.7497WARNING:tensorflow:Can save best model only with val_acc available, skipping.\n"
          ]
        },
        {
          "name": "stderr",
          "output_type": "stream",
          "text": [
            "WARNING:tensorflow:Can save best model only with val_acc available, skipping.\n"
          ]
        },
        {
          "name": "stdout",
          "output_type": "stream",
          "text": [
            "391/391 [==============================] - 32s 82ms/step - loss: 1.0154 - accuracy: 0.7497 - val_loss: 1.6719 - val_accuracy: 0.5998 - lr: 5.0000e-07\n",
            "Learning rate:  5e-07\n",
            "Epoch 287/300\n",
            "391/391 [==============================] - ETA: 0s - loss: 1.0185 - accuracy: 0.7476WARNING:tensorflow:Can save best model only with val_acc available, skipping.\n"
          ]
        },
        {
          "name": "stderr",
          "output_type": "stream",
          "text": [
            "WARNING:tensorflow:Can save best model only with val_acc available, skipping.\n"
          ]
        },
        {
          "name": "stdout",
          "output_type": "stream",
          "text": [
            "391/391 [==============================] - 31s 79ms/step - loss: 1.0185 - accuracy: 0.7476 - val_loss: 1.6715 - val_accuracy: 0.5991 - lr: 5.0000e-07\n",
            "Learning rate:  5e-07\n",
            "Epoch 288/300\n",
            "391/391 [==============================] - ETA: 0s - loss: 1.0210 - accuracy: 0.7467WARNING:tensorflow:Can save best model only with val_acc available, skipping.\n"
          ]
        },
        {
          "name": "stderr",
          "output_type": "stream",
          "text": [
            "WARNING:tensorflow:Can save best model only with val_acc available, skipping.\n"
          ]
        },
        {
          "name": "stdout",
          "output_type": "stream",
          "text": [
            "391/391 [==============================] - 31s 80ms/step - loss: 1.0210 - accuracy: 0.7467 - val_loss: 1.6691 - val_accuracy: 0.5996 - lr: 5.0000e-07\n",
            "Learning rate:  5e-07\n",
            "Epoch 289/300\n",
            "391/391 [==============================] - ETA: 0s - loss: 1.0127 - accuracy: 0.7521WARNING:tensorflow:Can save best model only with val_acc available, skipping.\n"
          ]
        },
        {
          "name": "stderr",
          "output_type": "stream",
          "text": [
            "WARNING:tensorflow:Can save best model only with val_acc available, skipping.\n"
          ]
        },
        {
          "name": "stdout",
          "output_type": "stream",
          "text": [
            "391/391 [==============================] - 31s 80ms/step - loss: 1.0127 - accuracy: 0.7521 - val_loss: 1.6710 - val_accuracy: 0.5997 - lr: 5.0000e-07\n",
            "Learning rate:  5e-07\n",
            "Epoch 290/300\n",
            "391/391 [==============================] - ETA: 0s - loss: 1.0167 - accuracy: 0.7504WARNING:tensorflow:Can save best model only with val_acc available, skipping.\n"
          ]
        },
        {
          "name": "stderr",
          "output_type": "stream",
          "text": [
            "WARNING:tensorflow:Can save best model only with val_acc available, skipping.\n"
          ]
        },
        {
          "name": "stdout",
          "output_type": "stream",
          "text": [
            "391/391 [==============================] - 32s 81ms/step - loss: 1.0167 - accuracy: 0.7504 - val_loss: 1.6690 - val_accuracy: 0.6001 - lr: 5.0000e-07\n",
            "Learning rate:  5e-07\n",
            "Epoch 291/300\n",
            "391/391 [==============================] - ETA: 0s - loss: 1.0145 - accuracy: 0.7481WARNING:tensorflow:Can save best model only with val_acc available, skipping.\n"
          ]
        },
        {
          "name": "stderr",
          "output_type": "stream",
          "text": [
            "WARNING:tensorflow:Can save best model only with val_acc available, skipping.\n"
          ]
        },
        {
          "name": "stdout",
          "output_type": "stream",
          "text": [
            "391/391 [==============================] - 32s 81ms/step - loss: 1.0145 - accuracy: 0.7481 - val_loss: 1.6717 - val_accuracy: 0.5997 - lr: 5.0000e-07\n",
            "Learning rate:  5e-07\n",
            "Epoch 292/300\n",
            "391/391 [==============================] - ETA: 0s - loss: 1.0180 - accuracy: 0.7478WARNING:tensorflow:Can save best model only with val_acc available, skipping.\n"
          ]
        },
        {
          "name": "stderr",
          "output_type": "stream",
          "text": [
            "WARNING:tensorflow:Can save best model only with val_acc available, skipping.\n"
          ]
        },
        {
          "name": "stdout",
          "output_type": "stream",
          "text": [
            "391/391 [==============================] - 31s 79ms/step - loss: 1.0180 - accuracy: 0.7478 - val_loss: 1.6711 - val_accuracy: 0.6001 - lr: 5.0000e-07\n",
            "Learning rate:  5e-07\n",
            "Epoch 293/300\n",
            "391/391 [==============================] - ETA: 0s - loss: 1.0171 - accuracy: 0.7489WARNING:tensorflow:Can save best model only with val_acc available, skipping.\n"
          ]
        },
        {
          "name": "stderr",
          "output_type": "stream",
          "text": [
            "WARNING:tensorflow:Can save best model only with val_acc available, skipping.\n"
          ]
        },
        {
          "name": "stdout",
          "output_type": "stream",
          "text": [
            "391/391 [==============================] - 32s 82ms/step - loss: 1.0171 - accuracy: 0.7489 - val_loss: 1.6710 - val_accuracy: 0.5996 - lr: 5.0000e-07\n",
            "Learning rate:  5e-07\n",
            "Epoch 294/300\n",
            "391/391 [==============================] - ETA: 0s - loss: 1.0178 - accuracy: 0.7479WARNING:tensorflow:Can save best model only with val_acc available, skipping.\n"
          ]
        },
        {
          "name": "stderr",
          "output_type": "stream",
          "text": [
            "WARNING:tensorflow:Can save best model only with val_acc available, skipping.\n"
          ]
        },
        {
          "name": "stdout",
          "output_type": "stream",
          "text": [
            "391/391 [==============================] - 32s 81ms/step - loss: 1.0178 - accuracy: 0.7479 - val_loss: 1.6709 - val_accuracy: 0.5991 - lr: 5.0000e-07\n",
            "Learning rate:  5e-07\n",
            "Epoch 295/300\n",
            "391/391 [==============================] - ETA: 0s - loss: 1.0187 - accuracy: 0.7471WARNING:tensorflow:Can save best model only with val_acc available, skipping.\n"
          ]
        },
        {
          "name": "stderr",
          "output_type": "stream",
          "text": [
            "WARNING:tensorflow:Can save best model only with val_acc available, skipping.\n"
          ]
        },
        {
          "name": "stdout",
          "output_type": "stream",
          "text": [
            "391/391 [==============================] - 32s 81ms/step - loss: 1.0187 - accuracy: 0.7471 - val_loss: 1.6712 - val_accuracy: 0.5994 - lr: 5.0000e-07\n",
            "Learning rate:  5e-07\n",
            "Epoch 296/300\n",
            "391/391 [==============================] - ETA: 0s - loss: 1.0145 - accuracy: 0.7503WARNING:tensorflow:Can save best model only with val_acc available, skipping.\n"
          ]
        },
        {
          "name": "stderr",
          "output_type": "stream",
          "text": [
            "WARNING:tensorflow:Can save best model only with val_acc available, skipping.\n"
          ]
        },
        {
          "name": "stdout",
          "output_type": "stream",
          "text": [
            "391/391 [==============================] - 31s 80ms/step - loss: 1.0145 - accuracy: 0.7503 - val_loss: 1.6730 - val_accuracy: 0.6001 - lr: 5.0000e-07\n",
            "Learning rate:  5e-07\n",
            "Epoch 297/300\n",
            "391/391 [==============================] - ETA: 0s - loss: 1.0198 - accuracy: 0.7482WARNING:tensorflow:Can save best model only with val_acc available, skipping.\n"
          ]
        },
        {
          "name": "stderr",
          "output_type": "stream",
          "text": [
            "WARNING:tensorflow:Can save best model only with val_acc available, skipping.\n"
          ]
        },
        {
          "name": "stdout",
          "output_type": "stream",
          "text": [
            "391/391 [==============================] - 32s 81ms/step - loss: 1.0198 - accuracy: 0.7482 - val_loss: 1.6713 - val_accuracy: 0.6002 - lr: 5.0000e-07\n",
            "Learning rate:  5e-07\n",
            "Epoch 298/300\n",
            "391/391 [==============================] - ETA: 0s - loss: 1.0123 - accuracy: 0.7492WARNING:tensorflow:Can save best model only with val_acc available, skipping.\n"
          ]
        },
        {
          "name": "stderr",
          "output_type": "stream",
          "text": [
            "WARNING:tensorflow:Can save best model only with val_acc available, skipping.\n"
          ]
        },
        {
          "name": "stdout",
          "output_type": "stream",
          "text": [
            "391/391 [==============================] - 31s 80ms/step - loss: 1.0123 - accuracy: 0.7492 - val_loss: 1.6728 - val_accuracy: 0.5992 - lr: 5.0000e-07\n",
            "Learning rate:  5e-07\n",
            "Epoch 299/300\n",
            "391/391 [==============================] - ETA: 0s - loss: 1.0156 - accuracy: 0.7499WARNING:tensorflow:Can save best model only with val_acc available, skipping.\n"
          ]
        },
        {
          "name": "stderr",
          "output_type": "stream",
          "text": [
            "WARNING:tensorflow:Can save best model only with val_acc available, skipping.\n"
          ]
        },
        {
          "name": "stdout",
          "output_type": "stream",
          "text": [
            "391/391 [==============================] - 32s 82ms/step - loss: 1.0156 - accuracy: 0.7499 - val_loss: 1.6694 - val_accuracy: 0.5995 - lr: 5.0000e-07\n",
            "Learning rate:  5e-07\n",
            "Epoch 300/300\n",
            "391/391 [==============================] - ETA: 0s - loss: 1.0186 - accuracy: 0.7482WARNING:tensorflow:Can save best model only with val_acc available, skipping.\n"
          ]
        },
        {
          "name": "stderr",
          "output_type": "stream",
          "text": [
            "WARNING:tensorflow:Can save best model only with val_acc available, skipping.\n"
          ]
        },
        {
          "name": "stdout",
          "output_type": "stream",
          "text": [
            "391/391 [==============================] - 31s 80ms/step - loss: 1.0186 - accuracy: 0.7482 - val_loss: 1.6702 - val_accuracy: 0.5994 - lr: 5.0000e-07\n"
          ]
        },
        {
          "data": {
            "text/plain": [
              "ERROR: Failed to start `tensorboard`: [Errno 12] Cannot allocate\n",
              "memory"
            ]
          },
          "metadata": {},
          "output_type": "display_data"
        },
        {
          "name": "stdout",
          "output_type": "stream",
          "text": [
            "overall training time is 9643.989555597305\n",
            "each epoch training time is [59.52380895614624, 32.24866247177124, 32.57237696647644, 32.254546880722046, 32.94360065460205, 32.38263821601868, 32.724451303482056, 32.18384671211243, 32.77589416503906, 32.313454151153564, 32.27222490310669, 32.07411003112793, 31.69251275062561, 32.29957437515259, 32.04823303222656, 32.066980600357056, 31.715349674224854, 33.02090072631836, 32.841275691986084, 32.816965103149414, 32.7216362953186, 32.53166747093201, 33.005030155181885, 32.667073488235474, 32.5708270072937, 32.795750856399536, 32.80241537094116, 32.73224329948425, 32.98799109458923, 32.49875545501709, 33.25387644767761, 32.805562257766724, 32.7793173789978, 32.90430951118469, 32.624934673309326, 32.848939180374146, 32.831616163253784, 32.92629408836365, 33.07277250289917, 32.6805522441864, 33.317702293395996, 32.32226920127869, 32.86103630065918, 32.208247423172, 32.583794593811035, 32.12586522102356, 32.63308882713318, 31.93919587135315, 32.25198984146118, 32.05639600753784, 32.30961751937866, 32.47303509712219, 31.93462300300598, 32.4142951965332, 32.02224111557007, 32.248427629470825, 31.71921133995056, 32.06230902671814, 32.0984160900116, 32.21158814430237, 31.948001623153687, 32.23624563217163, 32.49198365211487, 31.816277027130127, 32.347965478897095, 31.99941611289978, 32.285348415374756, 31.793987035751343, 32.405165672302246, 31.573379516601562, 32.21220088005066, 31.76596236228943, 32.31697463989258, 32.904438734054565, 32.24110388755798, 32.082401514053345, 32.2288556098938, 32.06139063835144, 32.003661155700684, 31.59546661376953, 31.560131549835205, 31.752776384353638, 31.241832494735718, 31.634647369384766, 31.273709297180176, 31.637985229492188, 31.293363094329834, 31.50708532333374, 31.341113328933716, 31.81695532798767, 31.544710397720337, 31.914916276931763, 31.347780227661133, 31.527033805847168, 31.659244537353516, 31.29510498046875, 31.806357860565186, 31.162367582321167, 31.834387063980103, 31.540448665618896, 31.94945454597473, 32.06355094909668, 32.08360576629639, 31.758928298950195, 31.969807624816895, 32.06737303733826, 32.0520133972168, 32.02988886833191, 32.05915188789368, 32.34019160270691, 32.220720052719116, 32.80299472808838, 32.0753448009491, 32.685017347335815, 32.01303768157959, 32.710514545440674, 31.972737789154053, 32.62029695510864, 32.18947744369507, 32.68661022186279, 31.959851264953613, 32.475661277770996, 32.24786019325256, 32.03165078163147, 32.424540996551514, 32.10870432853699, 32.50596785545349, 31.811115264892578, 31.758777856826782, 32.477076053619385, 32.086610317230225, 31.94088888168335, 32.03895044326782, 31.7488214969635, 31.9990713596344, 32.033488750457764, 31.434903144836426, 32.028079986572266, 31.55085849761963, 32.131190061569214, 31.61709475517273, 31.880540132522583, 31.55452251434326, 31.86328625679016, 31.630436420440674, 31.900571584701538, 31.61900758743286, 31.84121036529541, 31.471386432647705, 31.901925802230835, 31.46844720840454, 31.81436014175415, 31.6901433467865, 31.39484429359436, 31.790640592575073, 31.334635019302368, 31.787245988845825, 31.44480872154236, 31.985772132873535, 31.197011947631836, 31.501011848449707, 31.131226539611816, 31.668855905532837, 31.1035897731781, 31.863404750823975, 31.590221405029297, 31.730636596679688, 31.486138105392456, 31.665623426437378, 31.561145067214966, 30.992939472198486, 31.511018991470337, 30.9562668800354, 31.52975821495056, 31.202500820159912, 31.537208795547485, 31.111496448516846, 31.61144471168518, 31.66512966156006, 31.803894758224487, 31.246227025985718, 31.646264791488647, 31.380783796310425, 31.60158610343933, 31.320241451263428, 31.794726371765137, 31.471283435821533, 32.22890043258667, 31.54271411895752, 30.960461616516113, 31.339022159576416, 31.061536073684692, 31.78686809539795, 31.245457887649536, 31.47207999229431, 30.997586250305176, 31.53341794013977, 31.27166485786438, 31.482633352279663, 31.129011154174805, 31.53482699394226, 31.18354558944702, 31.845084190368652, 31.46100640296936, 31.43343496322632, 31.0881028175354, 32.240992307662964, 32.37326455116272, 31.745914936065674, 32.29567742347717, 31.71611499786377, 31.942482233047485, 31.704124689102173, 31.874638080596924, 31.955930471420288, 32.19829845428467, 31.646380186080933, 31.882622241973877, 32.072492361068726, 31.30909299850464, 31.814340829849243, 31.211313724517822, 31.759027004241943, 31.437851667404175, 31.73536729812622, 31.340956211090088, 31.777899265289307, 31.529072999954224, 31.818521738052368, 31.260976791381836, 31.773654222488403, 31.33234453201294, 31.557140588760376, 31.3217670917511, 31.947755575180054, 31.924381971359253, 31.688810348510742, 31.908016443252563, 31.3513503074646, 31.66679358482361, 31.170891284942627, 31.691656589508057, 31.35184335708618, 32.34352493286133, 31.407394886016846, 31.78049373626709, 31.564585208892822, 31.660667896270752, 31.439817190170288, 31.468100786209106, 31.239662408828735, 31.81760573387146, 31.242408275604248, 31.49745774269104, 31.437675952911377, 31.37983012199402, 31.645886659622192, 31.35226035118103, 31.777408361434937, 31.14130210876465, 32.00894570350647, 31.40122628211975, 31.64383602142334, 31.17926049232483, 31.702409744262695, 31.641067504882812, 31.817509651184082, 31.519388914108276, 31.862396955490112, 31.326087951660156, 31.449710845947266, 31.770649671554565, 31.231013774871826, 31.7377188205719, 31.363239765167236, 31.822282552719116, 31.413785696029663, 31.735347747802734, 31.46274185180664, 31.85421895980835, 31.300147771835327, 31.64850115776062, 31.209012985229492, 31.722611665725708, 31.351487159729004, 32.009432315826416, 31.086405992507935, 31.488191604614258, 31.186462879180908, 31.692906379699707, 31.610924243927002, 30.98236608505249, 32.12883114814758, 31.58077096939087, 31.822410583496094, 31.457329988479614, 31.768516540527344, 31.34994602203369, 31.95025897026062, 31.45169997215271]\n",
            "313/313 [==============================] - 3s 8ms/step - loss: 1.6702 - accuracy: 0.5994\n",
            "Test loss: 1.670219898223877\n",
            "Test accuracy: 0.599399983882904\n",
            "tt /home/jupyter/saved_models/resnet_super_twenty_20_V100\n",
            "WARNING:tensorflow:Compiled the loaded model, but the compiled metrics have yet to be built. `model.compile_metrics` will be empty until you train or evaluate the model.\n"
          ]
        },
        {
          "name": "stderr",
          "output_type": "stream",
          "text": [
            "WARNING:tensorflow:Compiled the loaded model, but the compiled metrics have yet to be built. `model.compile_metrics` will be empty until you train or evaluate the model.\n"
          ]
        },
        {
          "name": "stdout",
          "output_type": "stream",
          "text": [
            "Saved pruned Keras model to: /home/jupyter/saved_models/PRUNE_resnet_super_twenty_20_V100.h5\n"
          ]
        },
        {
          "name": "stderr",
          "output_type": "stream",
          "text": [
            "WARNING:absl:Found untraced functions such as conv2d_66_layer_call_fn, conv2d_66_layer_call_and_return_conditional_losses, _jit_compiled_convolution_op, activation_62_layer_call_fn, activation_62_layer_call_and_return_conditional_losses while saving (showing 5 of 123). These functions will not be directly callable after loading.\n"
          ]
        },
        {
          "name": "stdout",
          "output_type": "stream",
          "text": [
            "INFO:tensorflow:Assets written to: /tmp/tmpotpgpp36/assets\n"
          ]
        },
        {
          "name": "stderr",
          "output_type": "stream",
          "text": [
            "INFO:tensorflow:Assets written to: /tmp/tmpotpgpp36/assets\n",
            "2022-12-17 08:31:01.362946: W tensorflow/compiler/mlir/lite/python/tf_tfl_flatbuffer_helpers.cc:362] Ignored output_format.\n",
            "2022-12-17 08:31:01.363028: W tensorflow/compiler/mlir/lite/python/tf_tfl_flatbuffer_helpers.cc:365] Ignored drop_control_dependency.\n",
            "2022-12-17 08:31:01.363228: I tensorflow/cc/saved_model/reader.cc:45] Reading SavedModel from: /tmp/tmpotpgpp36\n",
            "2022-12-17 08:31:01.437791: I tensorflow/cc/saved_model/reader.cc:89] Reading meta graph with tags { serve }\n",
            "2022-12-17 08:31:01.437857: I tensorflow/cc/saved_model/reader.cc:130] Reading SavedModel debug info (if present) from: /tmp/tmpotpgpp36\n",
            "2022-12-17 08:31:01.778175: I tensorflow/cc/saved_model/loader.cc:229] Restoring SavedModel bundle.\n",
            "2022-12-17 08:31:02.962666: I tensorflow/cc/saved_model/loader.cc:213] Running initialization op on SavedModel bundle at path: /tmp/tmpotpgpp36\n",
            "2022-12-17 08:31:03.316721: I tensorflow/cc/saved_model/loader.cc:305] SavedModel load for tags { serve }; Status: success: OK. Took 1953492 microseconds.\n"
          ]
        },
        {
          "name": "stdout",
          "output_type": "stream",
          "text": [
            "Saved pruned TFLite model to: /home/jupyter/saved_models/lite_PRUNE_resnet_super_twenty_20_V100.h5\n"
          ]
        },
        {
          "name": "stderr",
          "output_type": "stream",
          "text": [
            "WARNING:absl:Found untraced functions such as conv2d_66_layer_call_fn, conv2d_66_layer_call_and_return_conditional_losses, _jit_compiled_convolution_op, activation_62_layer_call_fn, activation_62_layer_call_and_return_conditional_losses while saving (showing 5 of 123). These functions will not be directly callable after loading.\n"
          ]
        },
        {
          "name": "stdout",
          "output_type": "stream",
          "text": [
            "INFO:tensorflow:Assets written to: /tmp/tmpeo5z_qqa/assets\n"
          ]
        },
        {
          "name": "stderr",
          "output_type": "stream",
          "text": [
            "INFO:tensorflow:Assets written to: /tmp/tmpeo5z_qqa/assets\n",
            "2022-12-17 08:32:16.502329: W tensorflow/compiler/mlir/lite/python/tf_tfl_flatbuffer_helpers.cc:362] Ignored output_format.\n",
            "2022-12-17 08:32:16.502399: W tensorflow/compiler/mlir/lite/python/tf_tfl_flatbuffer_helpers.cc:365] Ignored drop_control_dependency.\n",
            "2022-12-17 08:32:16.502619: I tensorflow/cc/saved_model/reader.cc:45] Reading SavedModel from: /tmp/tmpeo5z_qqa\n",
            "2022-12-17 08:32:16.577606: I tensorflow/cc/saved_model/reader.cc:89] Reading meta graph with tags { serve }\n",
            "2022-12-17 08:32:16.577673: I tensorflow/cc/saved_model/reader.cc:130] Reading SavedModel debug info (if present) from: /tmp/tmpeo5z_qqa\n",
            "2022-12-17 08:32:16.915916: I tensorflow/cc/saved_model/loader.cc:229] Restoring SavedModel bundle.\n",
            "2022-12-17 08:32:17.838904: I tensorflow/cc/saved_model/loader.cc:213] Running initialization op on SavedModel bundle at path: /tmp/tmpeo5z_qqa\n",
            "2022-12-17 08:32:18.184655: I tensorflow/cc/saved_model/loader.cc:305] SavedModel load for tags { serve }; Status: success: OK. Took 1682034 microseconds.\n"
          ]
        },
        {
          "name": "stdout",
          "output_type": "stream",
          "text": [
            "Saved pruned TFLite model to: /home/jupyter/saved_models/lite_quant_PRUNE_resnet_super_twenty_20_V100.h5\n",
            "Size of gzipped pruned Keras model: 573033.00 bytes\n",
            "Size of gzipped pruned TFlite model: 632735.00 bytes\n",
            "Size of gzipped pruned and quantized TFlite model: 632760.00 bytes\n",
            "x_train shape: (50000, 32, 32, 3)\n",
            "50000 train samples\n",
            "10000 test samples\n",
            "y_train shape: (50000, 100)\n",
            "Learning rate:  0.001\n",
            "Model: \"model_3\"\n",
            "__________________________________________________________________________________________________\n",
            " Layer (type)                   Output Shape         Param #     Connected to                     \n",
            "==================================================================================================\n",
            " input_4 (InputLayer)           [(None, 32, 32, 3)]  0           []                               \n",
            "                                                                                                  \n",
            " prune_low_magnitude_conv2d_87   (None, 32, 32, 16)  882         ['input_4[0][0]']                \n",
            " (PruneLowMagnitude)                                                                              \n",
            "                                                                                                  \n",
            " prune_low_magnitude_batch_norm  (None, 32, 32, 16)  65          ['prune_low_magnitude_conv2d_87[0\n",
            " alization_81 (PruneLowMagnitud                                  ][0]']                           \n",
            " e)                                                                                               \n",
            "                                                                                                  \n",
            " prune_low_magnitude_activation  (None, 32, 32, 16)  1           ['prune_low_magnitude_batch_norma\n",
            " _81 (PruneLowMagnitude)                                         lization_81[0][0]']              \n",
            "                                                                                                  \n",
            " prune_low_magnitude_conv2d_88   (None, 32, 32, 16)  4626        ['prune_low_magnitude_activation_\n",
            " (PruneLowMagnitude)                                             81[0][0]']                       \n",
            "                                                                                                  \n",
            " prune_low_magnitude_batch_norm  (None, 32, 32, 16)  65          ['prune_low_magnitude_conv2d_88[0\n",
            " alization_82 (PruneLowMagnitud                                  ][0]']                           \n",
            " e)                                                                                               \n",
            "                                                                                                  \n",
            " prune_low_magnitude_activation  (None, 32, 32, 16)  1           ['prune_low_magnitude_batch_norma\n",
            " _82 (PruneLowMagnitude)                                         lization_82[0][0]']              \n",
            "                                                                                                  \n",
            " prune_low_magnitude_conv2d_89   (None, 32, 32, 16)  4626        ['prune_low_magnitude_activation_\n",
            " (PruneLowMagnitude)                                             82[0][0]']                       \n",
            "                                                                                                  \n",
            " prune_low_magnitude_batch_norm  (None, 32, 32, 16)  65          ['prune_low_magnitude_conv2d_89[0\n",
            " alization_83 (PruneLowMagnitud                                  ][0]']                           \n",
            " e)                                                                                               \n",
            "                                                                                                  \n",
            " prune_low_magnitude_add_39 (Pr  (None, 32, 32, 16)  1           ['prune_low_magnitude_activation_\n",
            " uneLowMagnitude)                                                81[0][0]',                       \n",
            "                                                                  'prune_low_magnitude_batch_norma\n",
            "                                                                 lization_83[0][0]']              \n",
            "                                                                                                  \n",
            " prune_low_magnitude_activation  (None, 32, 32, 16)  1           ['prune_low_magnitude_add_39[0][0\n",
            " _83 (PruneLowMagnitude)                                         ]']                              \n",
            "                                                                                                  \n",
            " prune_low_magnitude_conv2d_90   (None, 32, 32, 16)  4626        ['prune_low_magnitude_activation_\n",
            " (PruneLowMagnitude)                                             83[0][0]']                       \n",
            "                                                                                                  \n",
            " prune_low_magnitude_batch_norm  (None, 32, 32, 16)  65          ['prune_low_magnitude_conv2d_90[0\n",
            " alization_84 (PruneLowMagnitud                                  ][0]']                           \n",
            " e)                                                                                               \n",
            "                                                                                                  \n",
            " prune_low_magnitude_activation  (None, 32, 32, 16)  1           ['prune_low_magnitude_batch_norma\n",
            " _84 (PruneLowMagnitude)                                         lization_84[0][0]']              \n",
            "                                                                                                  \n",
            " prune_low_magnitude_conv2d_91   (None, 32, 32, 16)  4626        ['prune_low_magnitude_activation_\n",
            " (PruneLowMagnitude)                                             84[0][0]']                       \n",
            "                                                                                                  \n",
            " prune_low_magnitude_batch_norm  (None, 32, 32, 16)  65          ['prune_low_magnitude_conv2d_91[0\n",
            " alization_85 (PruneLowMagnitud                                  ][0]']                           \n",
            " e)                                                                                               \n",
            "                                                                                                  \n",
            " prune_low_magnitude_add_40 (Pr  (None, 32, 32, 16)  1           ['prune_low_magnitude_activation_\n",
            " uneLowMagnitude)                                                83[0][0]',                       \n",
            "                                                                  'prune_low_magnitude_batch_norma\n",
            "                                                                 lization_85[0][0]']              \n",
            "                                                                                                  \n",
            " prune_low_magnitude_activation  (None, 32, 32, 16)  1           ['prune_low_magnitude_add_40[0][0\n",
            " _85 (PruneLowMagnitude)                                         ]']                              \n",
            "                                                                                                  \n",
            " prune_low_magnitude_conv2d_92   (None, 32, 32, 16)  4626        ['prune_low_magnitude_activation_\n",
            " (PruneLowMagnitude)                                             85[0][0]']                       \n",
            "                                                                                                  \n",
            " prune_low_magnitude_batch_norm  (None, 32, 32, 16)  65          ['prune_low_magnitude_conv2d_92[0\n",
            " alization_86 (PruneLowMagnitud                                  ][0]']                           \n",
            " e)                                                                                               \n",
            "                                                                                                  \n",
            " prune_low_magnitude_activation  (None, 32, 32, 16)  1           ['prune_low_magnitude_batch_norma\n",
            " _86 (PruneLowMagnitude)                                         lization_86[0][0]']              \n",
            "                                                                                                  \n",
            " prune_low_magnitude_conv2d_93   (None, 32, 32, 16)  4626        ['prune_low_magnitude_activation_\n",
            " (PruneLowMagnitude)                                             86[0][0]']                       \n",
            "                                                                                                  \n",
            " prune_low_magnitude_batch_norm  (None, 32, 32, 16)  65          ['prune_low_magnitude_conv2d_93[0\n",
            " alization_87 (PruneLowMagnitud                                  ][0]']                           \n",
            " e)                                                                                               \n",
            "                                                                                                  \n",
            " prune_low_magnitude_add_41 (Pr  (None, 32, 32, 16)  1           ['prune_low_magnitude_activation_\n",
            " uneLowMagnitude)                                                85[0][0]',                       \n",
            "                                                                  'prune_low_magnitude_batch_norma\n",
            "                                                                 lization_87[0][0]']              \n",
            "                                                                                                  \n",
            " prune_low_magnitude_activation  (None, 32, 32, 16)  1           ['prune_low_magnitude_add_41[0][0\n",
            " _87 (PruneLowMagnitude)                                         ]']                              \n",
            "                                                                                                  \n",
            " prune_low_magnitude_conv2d_94   (None, 32, 32, 16)  4626        ['prune_low_magnitude_activation_\n",
            " (PruneLowMagnitude)                                             87[0][0]']                       \n",
            "                                                                                                  \n",
            " prune_low_magnitude_batch_norm  (None, 32, 32, 16)  65          ['prune_low_magnitude_conv2d_94[0\n",
            " alization_88 (PruneLowMagnitud                                  ][0]']                           \n",
            " e)                                                                                               \n",
            "                                                                                                  \n",
            " prune_low_magnitude_activation  (None, 32, 32, 16)  1           ['prune_low_magnitude_batch_norma\n",
            " _88 (PruneLowMagnitude)                                         lization_88[0][0]']              \n",
            "                                                                                                  \n",
            " prune_low_magnitude_conv2d_95   (None, 32, 32, 16)  4626        ['prune_low_magnitude_activation_\n",
            " (PruneLowMagnitude)                                             88[0][0]']                       \n",
            "                                                                                                  \n",
            " prune_low_magnitude_batch_norm  (None, 32, 32, 16)  65          ['prune_low_magnitude_conv2d_95[0\n",
            " alization_89 (PruneLowMagnitud                                  ][0]']                           \n",
            " e)                                                                                               \n",
            "                                                                                                  \n",
            " prune_low_magnitude_add_42 (Pr  (None, 32, 32, 16)  1           ['prune_low_magnitude_activation_\n",
            " uneLowMagnitude)                                                87[0][0]',                       \n",
            "                                                                  'prune_low_magnitude_batch_norma\n",
            "                                                                 lization_89[0][0]']              \n",
            "                                                                                                  \n",
            " prune_low_magnitude_activation  (None, 32, 32, 16)  1           ['prune_low_magnitude_add_42[0][0\n",
            " _89 (PruneLowMagnitude)                                         ]']                              \n",
            "                                                                                                  \n",
            " prune_low_magnitude_conv2d_96   (None, 32, 32, 16)  4626        ['prune_low_magnitude_activation_\n",
            " (PruneLowMagnitude)                                             89[0][0]']                       \n",
            "                                                                                                  \n",
            " prune_low_magnitude_batch_norm  (None, 32, 32, 16)  65          ['prune_low_magnitude_conv2d_96[0\n",
            " alization_90 (PruneLowMagnitud                                  ][0]']                           \n",
            " e)                                                                                               \n",
            "                                                                                                  \n",
            " prune_low_magnitude_activation  (None, 32, 32, 16)  1           ['prune_low_magnitude_batch_norma\n",
            " _90 (PruneLowMagnitude)                                         lization_90[0][0]']              \n",
            "                                                                                                  \n",
            " prune_low_magnitude_conv2d_97   (None, 32, 32, 16)  4626        ['prune_low_magnitude_activation_\n",
            " (PruneLowMagnitude)                                             90[0][0]']                       \n",
            "                                                                                                  \n",
            " prune_low_magnitude_batch_norm  (None, 32, 32, 16)  65          ['prune_low_magnitude_conv2d_97[0\n",
            " alization_91 (PruneLowMagnitud                                  ][0]']                           \n",
            " e)                                                                                               \n",
            "                                                                                                  \n",
            " prune_low_magnitude_add_43 (Pr  (None, 32, 32, 16)  1           ['prune_low_magnitude_activation_\n",
            " uneLowMagnitude)                                                89[0][0]',                       \n",
            "                                                                  'prune_low_magnitude_batch_norma\n",
            "                                                                 lization_91[0][0]']              \n",
            "                                                                                                  \n",
            " prune_low_magnitude_activation  (None, 32, 32, 16)  1           ['prune_low_magnitude_add_43[0][0\n",
            " _91 (PruneLowMagnitude)                                         ]']                              \n",
            "                                                                                                  \n",
            " prune_low_magnitude_conv2d_98   (None, 32, 32, 16)  4626        ['prune_low_magnitude_activation_\n",
            " (PruneLowMagnitude)                                             91[0][0]']                       \n",
            "                                                                                                  \n",
            " prune_low_magnitude_batch_norm  (None, 32, 32, 16)  65          ['prune_low_magnitude_conv2d_98[0\n",
            " alization_92 (PruneLowMagnitud                                  ][0]']                           \n",
            " e)                                                                                               \n",
            "                                                                                                  \n",
            " prune_low_magnitude_activation  (None, 32, 32, 16)  1           ['prune_low_magnitude_batch_norma\n",
            " _92 (PruneLowMagnitude)                                         lization_92[0][0]']              \n",
            "                                                                                                  \n",
            " prune_low_magnitude_conv2d_99   (None, 32, 32, 16)  4626        ['prune_low_magnitude_activation_\n",
            " (PruneLowMagnitude)                                             92[0][0]']                       \n",
            "                                                                                                  \n",
            " prune_low_magnitude_batch_norm  (None, 32, 32, 16)  65          ['prune_low_magnitude_conv2d_99[0\n",
            " alization_93 (PruneLowMagnitud                                  ][0]']                           \n",
            " e)                                                                                               \n",
            "                                                                                                  \n",
            " prune_low_magnitude_add_44 (Pr  (None, 32, 32, 16)  1           ['prune_low_magnitude_activation_\n",
            " uneLowMagnitude)                                                91[0][0]',                       \n",
            "                                                                  'prune_low_magnitude_batch_norma\n",
            "                                                                 lization_93[0][0]']              \n",
            "                                                                                                  \n",
            " prune_low_magnitude_activation  (None, 32, 32, 16)  1           ['prune_low_magnitude_add_44[0][0\n",
            " _93 (PruneLowMagnitude)                                         ]']                              \n",
            "                                                                                                  \n",
            " prune_low_magnitude_conv2d_100  (None, 32, 32, 16)  4626        ['prune_low_magnitude_activation_\n",
            "  (PruneLowMagnitude)                                            93[0][0]']                       \n",
            "                                                                                                  \n",
            " prune_low_magnitude_batch_norm  (None, 32, 32, 16)  65          ['prune_low_magnitude_conv2d_100[\n",
            " alization_94 (PruneLowMagnitud                                  0][0]']                          \n",
            " e)                                                                                               \n",
            "                                                                                                  \n",
            " prune_low_magnitude_activation  (None, 32, 32, 16)  1           ['prune_low_magnitude_batch_norma\n",
            " _94 (PruneLowMagnitude)                                         lization_94[0][0]']              \n",
            "                                                                                                  \n",
            " prune_low_magnitude_conv2d_101  (None, 32, 32, 16)  4626        ['prune_low_magnitude_activation_\n",
            "  (PruneLowMagnitude)                                            94[0][0]']                       \n",
            "                                                                                                  \n",
            " prune_low_magnitude_batch_norm  (None, 32, 32, 16)  65          ['prune_low_magnitude_conv2d_101[\n",
            " alization_95 (PruneLowMagnitud                                  0][0]']                          \n",
            " e)                                                                                               \n",
            "                                                                                                  \n",
            " prune_low_magnitude_add_45 (Pr  (None, 32, 32, 16)  1           ['prune_low_magnitude_activation_\n",
            " uneLowMagnitude)                                                93[0][0]',                       \n",
            "                                                                  'prune_low_magnitude_batch_norma\n",
            "                                                                 lization_95[0][0]']              \n",
            "                                                                                                  \n",
            " prune_low_magnitude_activation  (None, 32, 32, 16)  1           ['prune_low_magnitude_add_45[0][0\n",
            " _95 (PruneLowMagnitude)                                         ]']                              \n",
            "                                                                                                  \n",
            " prune_low_magnitude_conv2d_102  (None, 16, 16, 32)  9250        ['prune_low_magnitude_activation_\n",
            "  (PruneLowMagnitude)                                            95[0][0]']                       \n",
            "                                                                                                  \n",
            " prune_low_magnitude_batch_norm  (None, 16, 16, 32)  129         ['prune_low_magnitude_conv2d_102[\n",
            " alization_96 (PruneLowMagnitud                                  0][0]']                          \n",
            " e)                                                                                               \n",
            "                                                                                                  \n",
            " prune_low_magnitude_activation  (None, 16, 16, 32)  1           ['prune_low_magnitude_batch_norma\n",
            " _96 (PruneLowMagnitude)                                         lization_96[0][0]']              \n",
            "                                                                                                  \n",
            " prune_low_magnitude_conv2d_103  (None, 16, 16, 32)  18466       ['prune_low_magnitude_activation_\n",
            "  (PruneLowMagnitude)                                            96[0][0]']                       \n",
            "                                                                                                  \n",
            " prune_low_magnitude_conv2d_104  (None, 16, 16, 32)  1058        ['prune_low_magnitude_activation_\n",
            "  (PruneLowMagnitude)                                            95[0][0]']                       \n",
            "                                                                                                  \n",
            " prune_low_magnitude_batch_norm  (None, 16, 16, 32)  129         ['prune_low_magnitude_conv2d_103[\n",
            " alization_97 (PruneLowMagnitud                                  0][0]']                          \n",
            " e)                                                                                               \n",
            "                                                                                                  \n",
            " prune_low_magnitude_add_46 (Pr  (None, 16, 16, 32)  1           ['prune_low_magnitude_conv2d_104[\n",
            " uneLowMagnitude)                                                0][0]',                          \n"
          ]
        },
        {
          "name": "stderr",
          "output_type": "stream",
          "text": [
            "/opt/conda/lib/python3.7/site-packages/keras/optimizers/optimizer_v2/adam.py:114: UserWarning: The `lr` argument is deprecated, use `learning_rate` instead.\n",
            "  super().__init__(name, **kwargs)\n"
          ]
        },
        {
          "name": "stdout",
          "output_type": "stream",
          "text": [
            "                                                                  'prune_low_magnitude_batch_norma\n",
            "                                                                 lization_97[0][0]']              \n",
            "                                                                                                  \n",
            " prune_low_magnitude_activation  (None, 16, 16, 32)  1           ['prune_low_magnitude_add_46[0][0\n",
            " _97 (PruneLowMagnitude)                                         ]']                              \n",
            "                                                                                                  \n",
            " prune_low_magnitude_conv2d_105  (None, 16, 16, 32)  18466       ['prune_low_magnitude_activation_\n",
            "  (PruneLowMagnitude)                                            97[0][0]']                       \n",
            "                                                                                                  \n",
            " prune_low_magnitude_batch_norm  (None, 16, 16, 32)  129         ['prune_low_magnitude_conv2d_105[\n",
            " alization_98 (PruneLowMagnitud                                  0][0]']                          \n",
            " e)                                                                                               \n",
            "                                                                                                  \n",
            " prune_low_magnitude_activation  (None, 16, 16, 32)  1           ['prune_low_magnitude_batch_norma\n",
            " _98 (PruneLowMagnitude)                                         lization_98[0][0]']              \n",
            "                                                                                                  \n",
            " prune_low_magnitude_conv2d_106  (None, 16, 16, 32)  18466       ['prune_low_magnitude_activation_\n",
            "  (PruneLowMagnitude)                                            98[0][0]']                       \n",
            "                                                                                                  \n",
            " prune_low_magnitude_batch_norm  (None, 16, 16, 32)  129         ['prune_low_magnitude_conv2d_106[\n",
            " alization_99 (PruneLowMagnitud                                  0][0]']                          \n",
            " e)                                                                                               \n",
            "                                                                                                  \n",
            " prune_low_magnitude_add_47 (Pr  (None, 16, 16, 32)  1           ['prune_low_magnitude_activation_\n",
            " uneLowMagnitude)                                                97[0][0]',                       \n",
            "                                                                  'prune_low_magnitude_batch_norma\n",
            "                                                                 lization_99[0][0]']              \n",
            "                                                                                                  \n",
            " prune_low_magnitude_activation  (None, 16, 16, 32)  1           ['prune_low_magnitude_add_47[0][0\n",
            " _99 (PruneLowMagnitude)                                         ]']                              \n",
            "                                                                                                  \n",
            " prune_low_magnitude_conv2d_107  (None, 16, 16, 32)  18466       ['prune_low_magnitude_activation_\n",
            "  (PruneLowMagnitude)                                            99[0][0]']                       \n",
            "                                                                                                  \n",
            " prune_low_magnitude_batch_norm  (None, 16, 16, 32)  129         ['prune_low_magnitude_conv2d_107[\n",
            " alization_100 (PruneLowMagnitu                                  0][0]']                          \n",
            " de)                                                                                              \n",
            "                                                                                                  \n",
            " prune_low_magnitude_activation  (None, 16, 16, 32)  1           ['prune_low_magnitude_batch_norma\n",
            " _100 (PruneLowMagnitude)                                        lization_100[0][0]']             \n",
            "                                                                                                  \n",
            " prune_low_magnitude_conv2d_108  (None, 16, 16, 32)  18466       ['prune_low_magnitude_activation_\n",
            "  (PruneLowMagnitude)                                            100[0][0]']                      \n",
            "                                                                                                  \n",
            " prune_low_magnitude_batch_norm  (None, 16, 16, 32)  129         ['prune_low_magnitude_conv2d_108[\n",
            " alization_101 (PruneLowMagnitu                                  0][0]']                          \n",
            " de)                                                                                              \n",
            "                                                                                                  \n",
            " prune_low_magnitude_add_48 (Pr  (None, 16, 16, 32)  1           ['prune_low_magnitude_activation_\n",
            " uneLowMagnitude)                                                99[0][0]',                       \n",
            "                                                                  'prune_low_magnitude_batch_norma\n",
            "                                                                 lization_101[0][0]']             \n",
            "                                                                                                  \n",
            " prune_low_magnitude_activation  (None, 16, 16, 32)  1           ['prune_low_magnitude_add_48[0][0\n",
            " _101 (PruneLowMagnitude)                                        ]']                              \n",
            "                                                                                                  \n",
            " prune_low_magnitude_conv2d_109  (None, 16, 16, 32)  18466       ['prune_low_magnitude_activation_\n",
            "  (PruneLowMagnitude)                                            101[0][0]']                      \n",
            "                                                                                                  \n",
            " prune_low_magnitude_batch_norm  (None, 16, 16, 32)  129         ['prune_low_magnitude_conv2d_109[\n",
            " alization_102 (PruneLowMagnitu                                  0][0]']                          \n",
            " de)                                                                                              \n",
            "                                                                                                  \n",
            " prune_low_magnitude_activation  (None, 16, 16, 32)  1           ['prune_low_magnitude_batch_norma\n",
            " _102 (PruneLowMagnitude)                                        lization_102[0][0]']             \n",
            "                                                                                                  \n",
            " prune_low_magnitude_conv2d_110  (None, 16, 16, 32)  18466       ['prune_low_magnitude_activation_\n",
            "  (PruneLowMagnitude)                                            102[0][0]']                      \n",
            "                                                                                                  \n",
            " prune_low_magnitude_batch_norm  (None, 16, 16, 32)  129         ['prune_low_magnitude_conv2d_110[\n",
            " alization_103 (PruneLowMagnitu                                  0][0]']                          \n",
            " de)                                                                                              \n",
            "                                                                                                  \n",
            " prune_low_magnitude_add_49 (Pr  (None, 16, 16, 32)  1           ['prune_low_magnitude_activation_\n",
            " uneLowMagnitude)                                                101[0][0]',                      \n",
            "                                                                  'prune_low_magnitude_batch_norma\n",
            "                                                                 lization_103[0][0]']             \n",
            "                                                                                                  \n",
            " prune_low_magnitude_activation  (None, 16, 16, 32)  1           ['prune_low_magnitude_add_49[0][0\n",
            " _103 (PruneLowMagnitude)                                        ]']                              \n",
            "                                                                                                  \n",
            " prune_low_magnitude_conv2d_111  (None, 16, 16, 32)  18466       ['prune_low_magnitude_activation_\n",
            "  (PruneLowMagnitude)                                            103[0][0]']                      \n",
            "                                                                                                  \n",
            " prune_low_magnitude_batch_norm  (None, 16, 16, 32)  129         ['prune_low_magnitude_conv2d_111[\n",
            " alization_104 (PruneLowMagnitu                                  0][0]']                          \n",
            " de)                                                                                              \n",
            "                                                                                                  \n",
            " prune_low_magnitude_activation  (None, 16, 16, 32)  1           ['prune_low_magnitude_batch_norma\n",
            " _104 (PruneLowMagnitude)                                        lization_104[0][0]']             \n",
            "                                                                                                  \n",
            " prune_low_magnitude_conv2d_112  (None, 16, 16, 32)  18466       ['prune_low_magnitude_activation_\n",
            "  (PruneLowMagnitude)                                            104[0][0]']                      \n",
            "                                                                                                  \n",
            " prune_low_magnitude_batch_norm  (None, 16, 16, 32)  129         ['prune_low_magnitude_conv2d_112[\n",
            " alization_105 (PruneLowMagnitu                                  0][0]']                          \n",
            " de)                                                                                              \n",
            "                                                                                                  \n",
            " prune_low_magnitude_add_50 (Pr  (None, 16, 16, 32)  1           ['prune_low_magnitude_activation_\n",
            " uneLowMagnitude)                                                103[0][0]',                      \n",
            "                                                                  'prune_low_magnitude_batch_norma\n",
            "                                                                 lization_105[0][0]']             \n",
            "                                                                                                  \n",
            " prune_low_magnitude_activation  (None, 16, 16, 32)  1           ['prune_low_magnitude_add_50[0][0\n",
            " _105 (PruneLowMagnitude)                                        ]']                              \n",
            "                                                                                                  \n",
            " prune_low_magnitude_conv2d_113  (None, 16, 16, 32)  18466       ['prune_low_magnitude_activation_\n",
            "  (PruneLowMagnitude)                                            105[0][0]']                      \n",
            "                                                                                                  \n",
            " prune_low_magnitude_batch_norm  (None, 16, 16, 32)  129         ['prune_low_magnitude_conv2d_113[\n",
            " alization_106 (PruneLowMagnitu                                  0][0]']                          \n",
            " de)                                                                                              \n",
            "                                                                                                  \n",
            " prune_low_magnitude_activation  (None, 16, 16, 32)  1           ['prune_low_magnitude_batch_norma\n",
            " _106 (PruneLowMagnitude)                                        lization_106[0][0]']             \n",
            "                                                                                                  \n",
            " prune_low_magnitude_conv2d_114  (None, 16, 16, 32)  18466       ['prune_low_magnitude_activation_\n",
            "  (PruneLowMagnitude)                                            106[0][0]']                      \n",
            "                                                                                                  \n",
            " prune_low_magnitude_batch_norm  (None, 16, 16, 32)  129         ['prune_low_magnitude_conv2d_114[\n",
            " alization_107 (PruneLowMagnitu                                  0][0]']                          \n",
            " de)                                                                                              \n",
            "                                                                                                  \n",
            " prune_low_magnitude_add_51 (Pr  (None, 16, 16, 32)  1           ['prune_low_magnitude_activation_\n",
            " uneLowMagnitude)                                                105[0][0]',                      \n",
            "                                                                  'prune_low_magnitude_batch_norma\n",
            "                                                                 lization_107[0][0]']             \n",
            "                                                                                                  \n",
            " prune_low_magnitude_activation  (None, 16, 16, 32)  1           ['prune_low_magnitude_add_51[0][0\n",
            " _107 (PruneLowMagnitude)                                        ]']                              \n",
            "                                                                                                  \n",
            " prune_low_magnitude_conv2d_115  (None, 16, 16, 32)  18466       ['prune_low_magnitude_activation_\n",
            "  (PruneLowMagnitude)                                            107[0][0]']                      \n",
            "                                                                                                  \n",
            " prune_low_magnitude_batch_norm  (None, 16, 16, 32)  129         ['prune_low_magnitude_conv2d_115[\n",
            " alization_108 (PruneLowMagnitu                                  0][0]']                          \n",
            " de)                                                                                              \n",
            "                                                                                                  \n",
            " prune_low_magnitude_activation  (None, 16, 16, 32)  1           ['prune_low_magnitude_batch_norma\n",
            " _108 (PruneLowMagnitude)                                        lization_108[0][0]']             \n",
            "                                                                                                  \n",
            " prune_low_magnitude_conv2d_116  (None, 16, 16, 32)  18466       ['prune_low_magnitude_activation_\n",
            "  (PruneLowMagnitude)                                            108[0][0]']                      \n",
            "                                                                                                  \n",
            " prune_low_magnitude_batch_norm  (None, 16, 16, 32)  129         ['prune_low_magnitude_conv2d_116[\n",
            " alization_109 (PruneLowMagnitu                                  0][0]']                          \n",
            " de)                                                                                              \n",
            "                                                                                                  \n",
            " prune_low_magnitude_add_52 (Pr  (None, 16, 16, 32)  1           ['prune_low_magnitude_activation_\n",
            " uneLowMagnitude)                                                107[0][0]',                      \n",
            "                                                                  'prune_low_magnitude_batch_norma\n",
            "                                                                 lization_109[0][0]']             \n",
            "                                                                                                  \n",
            " prune_low_magnitude_activation  (None, 16, 16, 32)  1           ['prune_low_magnitude_add_52[0][0\n",
            " _109 (PruneLowMagnitude)                                        ]']                              \n",
            "                                                                                                  \n",
            " prune_low_magnitude_conv2d_117  (None, 8, 8, 64)    36930       ['prune_low_magnitude_activation_\n",
            "  (PruneLowMagnitude)                                            109[0][0]']                      \n",
            "                                                                                                  \n",
            " prune_low_magnitude_batch_norm  (None, 8, 8, 64)    257         ['prune_low_magnitude_conv2d_117[\n",
            " alization_110 (PruneLowMagnitu                                  0][0]']                          \n",
            " de)                                                                                              \n",
            "                                                                                                  \n",
            " prune_low_magnitude_activation  (None, 8, 8, 64)    1           ['prune_low_magnitude_batch_norma\n",
            " _110 (PruneLowMagnitude)                                        lization_110[0][0]']             \n",
            "                                                                                                  \n",
            " prune_low_magnitude_conv2d_118  (None, 8, 8, 64)    73794       ['prune_low_magnitude_activation_\n",
            "  (PruneLowMagnitude)                                            110[0][0]']                      \n",
            "                                                                                                  \n",
            " prune_low_magnitude_conv2d_119  (None, 8, 8, 64)    4162        ['prune_low_magnitude_activation_\n",
            "  (PruneLowMagnitude)                                            109[0][0]']                      \n",
            "                                                                                                  \n",
            " prune_low_magnitude_batch_norm  (None, 8, 8, 64)    257         ['prune_low_magnitude_conv2d_118[\n",
            " alization_111 (PruneLowMagnitu                                  0][0]']                          \n",
            " de)                                                                                              \n",
            "                                                                                                  \n",
            " prune_low_magnitude_add_53 (Pr  (None, 8, 8, 64)    1           ['prune_low_magnitude_conv2d_119[\n",
            " uneLowMagnitude)                                                0][0]',                          \n",
            "                                                                  'prune_low_magnitude_batch_norma\n",
            "                                                                 lization_111[0][0]']             \n",
            "                                                                                                  \n",
            " prune_low_magnitude_activation  (None, 8, 8, 64)    1           ['prune_low_magnitude_add_53[0][0\n",
            " _111 (PruneLowMagnitude)                                        ]']                              \n",
            "                                                                                                  \n",
            " prune_low_magnitude_conv2d_120  (None, 8, 8, 64)    73794       ['prune_low_magnitude_activation_\n",
            "  (PruneLowMagnitude)                                            111[0][0]']                      \n",
            "                                                                                                  \n",
            " prune_low_magnitude_batch_norm  (None, 8, 8, 64)    257         ['prune_low_magnitude_conv2d_120[\n",
            " alization_112 (PruneLowMagnitu                                  0][0]']                          \n",
            " de)                                                                                              \n",
            "                                                                                                  \n",
            " prune_low_magnitude_activation  (None, 8, 8, 64)    1           ['prune_low_magnitude_batch_norma\n",
            " _112 (PruneLowMagnitude)                                        lization_112[0][0]']             \n",
            "                                                                                                  \n",
            " prune_low_magnitude_conv2d_121  (None, 8, 8, 64)    73794       ['prune_low_magnitude_activation_\n",
            "  (PruneLowMagnitude)                                            112[0][0]']                      \n",
            "                                                                                                  \n",
            " prune_low_magnitude_batch_norm  (None, 8, 8, 64)    257         ['prune_low_magnitude_conv2d_121[\n",
            " alization_113 (PruneLowMagnitu                                  0][0]']                          \n",
            " de)                                                                                              \n",
            "                                                                                                  \n",
            " prune_low_magnitude_add_54 (Pr  (None, 8, 8, 64)    1           ['prune_low_magnitude_activation_\n",
            " uneLowMagnitude)                                                111[0][0]',                      \n",
            "                                                                  'prune_low_magnitude_batch_norma\n",
            "                                                                 lization_113[0][0]']             \n",
            "                                                                                                  \n",
            " prune_low_magnitude_activation  (None, 8, 8, 64)    1           ['prune_low_magnitude_add_54[0][0\n",
            " _113 (PruneLowMagnitude)                                        ]']                              \n",
            "                                                                                                  \n",
            " prune_low_magnitude_conv2d_122  (None, 8, 8, 64)    73794       ['prune_low_magnitude_activation_\n",
            "  (PruneLowMagnitude)                                            113[0][0]']                      \n",
            "                                                                                                  \n",
            " prune_low_magnitude_batch_norm  (None, 8, 8, 64)    257         ['prune_low_magnitude_conv2d_122[\n",
            " alization_114 (PruneLowMagnitu                                  0][0]']                          \n",
            " de)                                                                                              \n",
            "                                                                                                  \n",
            " prune_low_magnitude_activation  (None, 8, 8, 64)    1           ['prune_low_magnitude_batch_norma\n",
            " _114 (PruneLowMagnitude)                                        lization_114[0][0]']             \n",
            "                                                                                                  \n",
            " prune_low_magnitude_conv2d_123  (None, 8, 8, 64)    73794       ['prune_low_magnitude_activation_\n",
            "  (PruneLowMagnitude)                                            114[0][0]']                      \n",
            "                                                                                                  \n",
            " prune_low_magnitude_batch_norm  (None, 8, 8, 64)    257         ['prune_low_magnitude_conv2d_123[\n",
            " alization_115 (PruneLowMagnitu                                  0][0]']                          \n",
            " de)                                                                                              \n",
            "                                                                                                  \n",
            " prune_low_magnitude_add_55 (Pr  (None, 8, 8, 64)    1           ['prune_low_magnitude_activation_\n",
            " uneLowMagnitude)                                                113[0][0]',                      \n",
            "                                                                  'prune_low_magnitude_batch_norma\n",
            "                                                                 lization_115[0][0]']             \n",
            "                                                                                                  \n",
            " prune_low_magnitude_activation  (None, 8, 8, 64)    1           ['prune_low_magnitude_add_55[0][0\n",
            " _115 (PruneLowMagnitude)                                        ]']                              \n",
            "                                                                                                  \n",
            " prune_low_magnitude_conv2d_124  (None, 8, 8, 64)    73794       ['prune_low_magnitude_activation_\n",
            "  (PruneLowMagnitude)                                            115[0][0]']                      \n",
            "                                                                                                  \n",
            " prune_low_magnitude_batch_norm  (None, 8, 8, 64)    257         ['prune_low_magnitude_conv2d_124[\n",
            " alization_116 (PruneLowMagnitu                                  0][0]']                          \n",
            " de)                                                                                              \n",
            "                                                                                                  \n",
            " prune_low_magnitude_activation  (None, 8, 8, 64)    1           ['prune_low_magnitude_batch_norma\n",
            " _116 (PruneLowMagnitude)                                        lization_116[0][0]']             \n",
            "                                                                                                  \n",
            " prune_low_magnitude_conv2d_125  (None, 8, 8, 64)    73794       ['prune_low_magnitude_activation_\n",
            "  (PruneLowMagnitude)                                            116[0][0]']                      \n",
            "                                                                                                  \n",
            " prune_low_magnitude_batch_norm  (None, 8, 8, 64)    257         ['prune_low_magnitude_conv2d_125[\n",
            " alization_117 (PruneLowMagnitu                                  0][0]']                          \n",
            " de)                                                                                              \n",
            "                                                                                                  \n",
            " prune_low_magnitude_add_56 (Pr  (None, 8, 8, 64)    1           ['prune_low_magnitude_activation_\n",
            " uneLowMagnitude)                                                115[0][0]',                      \n",
            "                                                                  'prune_low_magnitude_batch_norma\n",
            "                                                                 lization_117[0][0]']             \n",
            "                                                                                                  \n",
            " prune_low_magnitude_activation  (None, 8, 8, 64)    1           ['prune_low_magnitude_add_56[0][0\n",
            " _117 (PruneLowMagnitude)                                        ]']                              \n",
            "                                                                                                  \n",
            " prune_low_magnitude_conv2d_126  (None, 8, 8, 64)    73794       ['prune_low_magnitude_activation_\n",
            "  (PruneLowMagnitude)                                            117[0][0]']                      \n",
            "                                                                                                  \n",
            " prune_low_magnitude_batch_norm  (None, 8, 8, 64)    257         ['prune_low_magnitude_conv2d_126[\n",
            " alization_118 (PruneLowMagnitu                                  0][0]']                          \n",
            " de)                                                                                              \n",
            "                                                                                                  \n",
            " prune_low_magnitude_activation  (None, 8, 8, 64)    1           ['prune_low_magnitude_batch_norma\n",
            " _118 (PruneLowMagnitude)                                        lization_118[0][0]']             \n",
            "                                                                                                  \n",
            " prune_low_magnitude_conv2d_127  (None, 8, 8, 64)    73794       ['prune_low_magnitude_activation_\n",
            "  (PruneLowMagnitude)                                            118[0][0]']                      \n",
            "                                                                                                  \n",
            " prune_low_magnitude_batch_norm  (None, 8, 8, 64)    257         ['prune_low_magnitude_conv2d_127[\n",
            " alization_119 (PruneLowMagnitu                                  0][0]']                          \n",
            " de)                                                                                              \n",
            "                                                                                                  \n",
            " prune_low_magnitude_add_57 (Pr  (None, 8, 8, 64)    1           ['prune_low_magnitude_activation_\n",
            " uneLowMagnitude)                                                117[0][0]',                      \n",
            "                                                                  'prune_low_magnitude_batch_norma\n",
            "                                                                 lization_119[0][0]']             \n",
            "                                                                                                  \n",
            " prune_low_magnitude_activation  (None, 8, 8, 64)    1           ['prune_low_magnitude_add_57[0][0\n",
            " _119 (PruneLowMagnitude)                                        ]']                              \n",
            "                                                                                                  \n",
            " prune_low_magnitude_conv2d_128  (None, 8, 8, 64)    73794       ['prune_low_magnitude_activation_\n",
            "  (PruneLowMagnitude)                                            119[0][0]']                      \n",
            "                                                                                                  \n",
            " prune_low_magnitude_batch_norm  (None, 8, 8, 64)    257         ['prune_low_magnitude_conv2d_128[\n",
            " alization_120 (PruneLowMagnitu                                  0][0]']                          \n",
            " de)                                                                                              \n",
            "                                                                                                  \n",
            " prune_low_magnitude_activation  (None, 8, 8, 64)    1           ['prune_low_magnitude_batch_norma\n",
            " _120 (PruneLowMagnitude)                                        lization_120[0][0]']             \n",
            "                                                                                                  \n",
            " prune_low_magnitude_conv2d_129  (None, 8, 8, 64)    73794       ['prune_low_magnitude_activation_\n",
            "  (PruneLowMagnitude)                                            120[0][0]']                      \n",
            "                                                                                                  \n",
            " prune_low_magnitude_batch_norm  (None, 8, 8, 64)    257         ['prune_low_magnitude_conv2d_129[\n",
            " alization_121 (PruneLowMagnitu                                  0][0]']                          \n",
            " de)                                                                                              \n",
            "                                                                                                  \n",
            " prune_low_magnitude_add_58 (Pr  (None, 8, 8, 64)    1           ['prune_low_magnitude_activation_\n",
            " uneLowMagnitude)                                                119[0][0]',                      \n",
            "                                                                  'prune_low_magnitude_batch_norma\n",
            "                                                                 lization_121[0][0]']             \n",
            "                                                                                                  \n",
            " prune_low_magnitude_activation  (None, 8, 8, 64)    1           ['prune_low_magnitude_add_58[0][0\n",
            " _121 (PruneLowMagnitude)                                        ]']                              \n",
            "                                                                                                  \n",
            " prune_low_magnitude_conv2d_130  (None, 8, 8, 64)    73794       ['prune_low_magnitude_activation_\n",
            "  (PruneLowMagnitude)                                            121[0][0]']                      \n",
            "                                                                                                  \n",
            " prune_low_magnitude_batch_norm  (None, 8, 8, 64)    257         ['prune_low_magnitude_conv2d_130[\n",
            " alization_122 (PruneLowMagnitu                                  0][0]']                          \n",
            " de)                                                                                              \n",
            "                                                                                                  \n",
            " prune_low_magnitude_activation  (None, 8, 8, 64)    1           ['prune_low_magnitude_batch_norma\n",
            " _122 (PruneLowMagnitude)                                        lization_122[0][0]']             \n",
            "                                                                                                  \n",
            " prune_low_magnitude_conv2d_131  (None, 8, 8, 64)    73794       ['prune_low_magnitude_activation_\n",
            "  (PruneLowMagnitude)                                            122[0][0]']                      \n",
            "                                                                                                  \n",
            " prune_low_magnitude_batch_norm  (None, 8, 8, 64)    257         ['prune_low_magnitude_conv2d_131[\n",
            " alization_123 (PruneLowMagnitu                                  0][0]']                          \n",
            " de)                                                                                              \n",
            "                                                                                                  \n",
            " prune_low_magnitude_add_59 (Pr  (None, 8, 8, 64)    1           ['prune_low_magnitude_activation_\n",
            " uneLowMagnitude)                                                121[0][0]',                      \n",
            "                                                                  'prune_low_magnitude_batch_norma\n",
            "                                                                 lization_123[0][0]']             \n",
            "                                                                                                  \n",
            " prune_low_magnitude_activation  (None, 8, 8, 64)    1           ['prune_low_magnitude_add_59[0][0\n",
            " _123 (PruneLowMagnitude)                                        ]']                              \n",
            "                                                                                                  \n",
            " prune_low_magnitude_average_po  (None, 1, 1, 64)    1           ['prune_low_magnitude_activation_\n",
            " oling2d_3 (PruneLowMagnitude)                                   123[0][0]']                      \n",
            "                                                                                                  \n",
            " prune_low_magnitude_flatten_3   (None, 64)          1           ['prune_low_magnitude_average_poo\n",
            " (PruneLowMagnitude)                                             ling2d_3[0][0]']                 \n",
            "                                                                                                  \n",
            " prune_low_magnitude_dense_3 (P  (None, 100)         12902       ['prune_low_magnitude_flatten_3[0\n",
            " runeLowMagnitude)                                               ][0]']                           \n",
            "                                                                                                  \n",
            "==================================================================================================\n",
            "Total params: 1,335,773\n",
            "Trainable params: 668,676\n",
            "Non-trainable params: 667,097\n",
            "__________________________________________________________________________________________________\n",
            "RRrrrrrR resnet_super_forty_44_V100.h5\n",
            "RRR /home/jupyter/saved_models/resnet_super_forty_44_V100.h5\n",
            "resnet_super_forty_44_V100\n"
          ]
        },
        {
          "name": "stderr",
          "output_type": "stream",
          "text": [
            "/opt/conda/lib/python3.7/site-packages/ipykernel_launcher.py:153: UserWarning: `Model.fit_generator` is deprecated and will be removed in a future version. Please use `Model.fit`, which supports generators.\n",
            "2022-12-17 08:32:26.006365: W tensorflow/core/grappler/optimizers/data/auto_shard.cc:776] AUTO sharding policy will apply DATA sharding policy as it failed to apply FILE sharding policy because of the following reason: Did not find a shardable source, walked to a node which is not a dataset: name: \"FlatMapDataset/_2\"\n",
            "op: \"FlatMapDataset\"\n",
            "input: \"TensorDataset/_1\"\n",
            "attr {\n",
            "  key: \"Targuments\"\n",
            "  value {\n",
            "    list {\n",
            "    }\n",
            "  }\n",
            "}\n",
            "attr {\n",
            "  key: \"_cardinality\"\n",
            "  value {\n",
            "    i: -2\n",
            "  }\n",
            "}\n",
            "attr {\n",
            "  key: \"f\"\n",
            "  value {\n",
            "    func {\n",
            "      name: \"__inference_Dataset_flat_map_flat_map_fn_1915297\"\n",
            "    }\n",
            "  }\n",
            "}\n",
            "attr {\n",
            "  key: \"metadata\"\n",
            "  value {\n",
            "    s: \"\\n\\023FlatMapDataset:4361\"\n",
            "  }\n",
            "}\n",
            "attr {\n",
            "  key: \"output_shapes\"\n",
            "  value {\n",
            "    list {\n",
            "      shape {\n",
            "        dim {\n",
            "          size: -1\n",
            "        }\n",
            "        dim {\n",
            "          size: -1\n",
            "        }\n",
            "        dim {\n",
            "          size: -1\n",
            "        }\n",
            "        dim {\n",
            "          size: -1\n",
            "        }\n",
            "      }\n",
            "      shape {\n",
            "        dim {\n",
            "          size: -1\n",
            "        }\n",
            "        dim {\n",
            "          size: -1\n",
            "        }\n",
            "      }\n",
            "    }\n",
            "  }\n",
            "}\n",
            "attr {\n",
            "  key: \"output_types\"\n",
            "  value {\n",
            "    list {\n",
            "      type: DT_FLOAT\n",
            "      type: DT_FLOAT\n",
            "    }\n",
            "  }\n",
            "}\n",
            "experimental_type {\n",
            "  type_id: TFT_PRODUCT\n",
            "  args {\n",
            "    type_id: TFT_DATASET\n",
            "    args {\n",
            "      type_id: TFT_PRODUCT\n",
            "      args {\n",
            "        type_id: TFT_TENSOR\n",
            "        args {\n",
            "          type_id: TFT_FLOAT\n",
            "        }\n",
            "      }\n",
            "      args {\n",
            "        type_id: TFT_TENSOR\n",
            "        args {\n",
            "          type_id: TFT_FLOAT\n",
            "        }\n",
            "      }\n",
            "    }\n",
            "  }\n",
            "}\n",
            ". Consider either turning off auto-sharding or switching the auto_shard_policy to DATA to shard this dataset. You can do this by creating a new `tf.data.Options()` object then setting `options.experimental_distribute.auto_shard_policy = AutoShardPolicy.DATA` before applying the options object to the dataset via `dataset.with_options(options)`.\n"
          ]
        },
        {
          "name": "stdout",
          "output_type": "stream",
          "text": [
            "Learning rate:  0.001\n",
            "Epoch 1/300\n",
            "  6/391 [..............................] - ETA: 31s - loss: 8.0982 - accuracy: 0.0143WARNING:tensorflow:Callback method `on_train_batch_end` is slow compared to the batch time (batch time: 0.0738s vs `on_train_batch_end` time: 0.1919s). Check your callbacks.\n"
          ]
        },
        {
          "name": "stderr",
          "output_type": "stream",
          "text": [
            "WARNING:tensorflow:Callback method `on_train_batch_end` is slow compared to the batch time (batch time: 0.0738s vs `on_train_batch_end` time: 0.1919s). Check your callbacks.\n"
          ]
        },
        {
          "name": "stdout",
          "output_type": "stream",
          "text": [
            "391/391 [==============================] - ETA: 0s - loss: 4.5530 - accuracy: 0.0701WARNING:tensorflow:Can save best model only with val_acc available, skipping.\n"
          ]
        },
        {
          "name": "stderr",
          "output_type": "stream",
          "text": [
            "WARNING:tensorflow:Can save best model only with val_acc available, skipping.\n"
          ]
        },
        {
          "name": "stdout",
          "output_type": "stream",
          "text": [
            "391/391 [==============================] - 84s 99ms/step - loss: 4.5530 - accuracy: 0.0701 - val_loss: 4.2892 - val_accuracy: 0.0948 - lr: 0.0010\n",
            "Learning rate:  0.001\n",
            "Epoch 2/300\n",
            "391/391 [==============================] - ETA: 0s - loss: 3.8715 - accuracy: 0.1529WARNING:tensorflow:Can save best model only with val_acc available, skipping.\n"
          ]
        },
        {
          "name": "stderr",
          "output_type": "stream",
          "text": [
            "WARNING:tensorflow:Can save best model only with val_acc available, skipping.\n"
          ]
        },
        {
          "name": "stdout",
          "output_type": "stream",
          "text": [
            "391/391 [==============================] - 38s 96ms/step - loss: 3.8715 - accuracy: 0.1529 - val_loss: 3.7932 - val_accuracy: 0.1636 - lr: 0.0010\n",
            "Learning rate:  0.001\n",
            "Epoch 3/300\n",
            "391/391 [==============================] - ETA: 0s - loss: 3.5343 - accuracy: 0.2104WARNING:tensorflow:Can save best model only with val_acc available, skipping.\n"
          ]
        },
        {
          "name": "stderr",
          "output_type": "stream",
          "text": [
            "WARNING:tensorflow:Can save best model only with val_acc available, skipping.\n"
          ]
        },
        {
          "name": "stdout",
          "output_type": "stream",
          "text": [
            "391/391 [==============================] - 37s 95ms/step - loss: 3.5343 - accuracy: 0.2104 - val_loss: 3.6283 - val_accuracy: 0.1912 - lr: 0.0010\n",
            "Learning rate:  0.001\n",
            "Epoch 4/300\n",
            "391/391 [==============================] - ETA: 0s - loss: 3.2804 - accuracy: 0.2565WARNING:tensorflow:Can save best model only with val_acc available, skipping.\n"
          ]
        },
        {
          "name": "stderr",
          "output_type": "stream",
          "text": [
            "WARNING:tensorflow:Can save best model only with val_acc available, skipping.\n"
          ]
        },
        {
          "name": "stdout",
          "output_type": "stream",
          "text": [
            "391/391 [==============================] - 37s 95ms/step - loss: 3.2804 - accuracy: 0.2565 - val_loss: 3.5372 - val_accuracy: 0.2204 - lr: 0.0010\n",
            "Learning rate:  0.001\n",
            "Epoch 5/300\n",
            "391/391 [==============================] - ETA: 0s - loss: 3.0674 - accuracy: 0.2949WARNING:tensorflow:Can save best model only with val_acc available, skipping.\n"
          ]
        },
        {
          "name": "stderr",
          "output_type": "stream",
          "text": [
            "WARNING:tensorflow:Can save best model only with val_acc available, skipping.\n"
          ]
        },
        {
          "name": "stdout",
          "output_type": "stream",
          "text": [
            "391/391 [==============================] - 37s 95ms/step - loss: 3.0674 - accuracy: 0.2949 - val_loss: 3.2666 - val_accuracy: 0.2697 - lr: 0.0010\n",
            "Learning rate:  0.001\n",
            "Epoch 6/300\n",
            "391/391 [==============================] - ETA: 0s - loss: 2.8868 - accuracy: 0.3295WARNING:tensorflow:Can save best model only with val_acc available, skipping.\n"
          ]
        },
        {
          "name": "stderr",
          "output_type": "stream",
          "text": [
            "WARNING:tensorflow:Can save best model only with val_acc available, skipping.\n"
          ]
        },
        {
          "name": "stdout",
          "output_type": "stream",
          "text": [
            "391/391 [==============================] - 37s 94ms/step - loss: 2.8868 - accuracy: 0.3295 - val_loss: 2.9788 - val_accuracy: 0.3091 - lr: 0.0010\n",
            "Learning rate:  0.001\n",
            "Epoch 7/300\n",
            "391/391 [==============================] - ETA: 0s - loss: 2.7378 - accuracy: 0.3582WARNING:tensorflow:Can save best model only with val_acc available, skipping.\n"
          ]
        },
        {
          "name": "stderr",
          "output_type": "stream",
          "text": [
            "WARNING:tensorflow:Can save best model only with val_acc available, skipping.\n"
          ]
        },
        {
          "name": "stdout",
          "output_type": "stream",
          "text": [
            "391/391 [==============================] - 37s 94ms/step - loss: 2.7378 - accuracy: 0.3582 - val_loss: 3.0041 - val_accuracy: 0.3155 - lr: 0.0010\n",
            "Learning rate:  0.001\n",
            "Epoch 8/300\n",
            "391/391 [==============================] - ETA: 0s - loss: 2.6076 - accuracy: 0.3881WARNING:tensorflow:Can save best model only with val_acc available, skipping.\n"
          ]
        },
        {
          "name": "stderr",
          "output_type": "stream",
          "text": [
            "WARNING:tensorflow:Can save best model only with val_acc available, skipping.\n"
          ]
        },
        {
          "name": "stdout",
          "output_type": "stream",
          "text": [
            "391/391 [==============================] - 37s 94ms/step - loss: 2.6076 - accuracy: 0.3881 - val_loss: 2.7604 - val_accuracy: 0.3622 - lr: 0.0010\n",
            "Learning rate:  0.001\n",
            "Epoch 9/300\n",
            "391/391 [==============================] - ETA: 0s - loss: 2.4969 - accuracy: 0.4093WARNING:tensorflow:Can save best model only with val_acc available, skipping.\n"
          ]
        },
        {
          "name": "stderr",
          "output_type": "stream",
          "text": [
            "WARNING:tensorflow:Can save best model only with val_acc available, skipping.\n"
          ]
        },
        {
          "name": "stdout",
          "output_type": "stream",
          "text": [
            "391/391 [==============================] - 37s 94ms/step - loss: 2.4969 - accuracy: 0.4093 - val_loss: 3.1035 - val_accuracy: 0.3132 - lr: 0.0010\n",
            "Learning rate:  0.001\n",
            "Epoch 10/300\n",
            "391/391 [==============================] - ETA: 0s - loss: 2.4038 - accuracy: 0.4337WARNING:tensorflow:Can save best model only with val_acc available, skipping.\n"
          ]
        },
        {
          "name": "stderr",
          "output_type": "stream",
          "text": [
            "WARNING:tensorflow:Can save best model only with val_acc available, skipping.\n"
          ]
        },
        {
          "name": "stdout",
          "output_type": "stream",
          "text": [
            "391/391 [==============================] - 37s 95ms/step - loss: 2.4038 - accuracy: 0.4337 - val_loss: 2.6899 - val_accuracy: 0.3783 - lr: 0.0010\n",
            "Learning rate:  0.001\n",
            "Epoch 11/300\n",
            "391/391 [==============================] - ETA: 0s - loss: 2.3213 - accuracy: 0.4511WARNING:tensorflow:Can save best model only with val_acc available, skipping.\n"
          ]
        },
        {
          "name": "stderr",
          "output_type": "stream",
          "text": [
            "WARNING:tensorflow:Can save best model only with val_acc available, skipping.\n"
          ]
        },
        {
          "name": "stdout",
          "output_type": "stream",
          "text": [
            "391/391 [==============================] - 37s 95ms/step - loss: 2.3213 - accuracy: 0.4511 - val_loss: 2.7508 - val_accuracy: 0.3725 - lr: 0.0010\n",
            "Learning rate:  0.001\n",
            "Epoch 12/300\n",
            "391/391 [==============================] - ETA: 0s - loss: 2.2438 - accuracy: 0.4663WARNING:tensorflow:Can save best model only with val_acc available, skipping.\n"
          ]
        },
        {
          "name": "stderr",
          "output_type": "stream",
          "text": [
            "WARNING:tensorflow:Can save best model only with val_acc available, skipping.\n"
          ]
        },
        {
          "name": "stdout",
          "output_type": "stream",
          "text": [
            "391/391 [==============================] - 37s 93ms/step - loss: 2.2438 - accuracy: 0.4663 - val_loss: 2.5813 - val_accuracy: 0.3984 - lr: 0.0010\n",
            "Learning rate:  0.001\n",
            "Epoch 13/300\n",
            "391/391 [==============================] - ETA: 0s - loss: 2.1796 - accuracy: 0.4829WARNING:tensorflow:Can save best model only with val_acc available, skipping.\n"
          ]
        },
        {
          "name": "stderr",
          "output_type": "stream",
          "text": [
            "WARNING:tensorflow:Can save best model only with val_acc available, skipping.\n"
          ]
        },
        {
          "name": "stdout",
          "output_type": "stream",
          "text": [
            "391/391 [==============================] - 37s 95ms/step - loss: 2.1796 - accuracy: 0.4829 - val_loss: 2.6922 - val_accuracy: 0.3871 - lr: 0.0010\n",
            "Learning rate:  0.001\n",
            "Epoch 14/300\n",
            "391/391 [==============================] - ETA: 0s - loss: 2.1203 - accuracy: 0.4951WARNING:tensorflow:Can save best model only with val_acc available, skipping.\n"
          ]
        },
        {
          "name": "stderr",
          "output_type": "stream",
          "text": [
            "WARNING:tensorflow:Can save best model only with val_acc available, skipping.\n"
          ]
        },
        {
          "name": "stdout",
          "output_type": "stream",
          "text": [
            "391/391 [==============================] - 37s 95ms/step - loss: 2.1203 - accuracy: 0.4951 - val_loss: 2.4473 - val_accuracy: 0.4230 - lr: 0.0010\n",
            "Learning rate:  0.001\n",
            "Epoch 15/300\n",
            "391/391 [==============================] - ETA: 0s - loss: 2.0682 - accuracy: 0.5101WARNING:tensorflow:Can save best model only with val_acc available, skipping.\n"
          ]
        },
        {
          "name": "stderr",
          "output_type": "stream",
          "text": [
            "WARNING:tensorflow:Can save best model only with val_acc available, skipping.\n"
          ]
        },
        {
          "name": "stdout",
          "output_type": "stream",
          "text": [
            "391/391 [==============================] - 37s 96ms/step - loss: 2.0682 - accuracy: 0.5101 - val_loss: 2.4866 - val_accuracy: 0.4307 - lr: 0.0010\n",
            "Learning rate:  0.001\n",
            "Epoch 16/300\n",
            "391/391 [==============================] - ETA: 0s - loss: 2.0281 - accuracy: 0.5174WARNING:tensorflow:Can save best model only with val_acc available, skipping.\n"
          ]
        },
        {
          "name": "stderr",
          "output_type": "stream",
          "text": [
            "WARNING:tensorflow:Can save best model only with val_acc available, skipping.\n"
          ]
        },
        {
          "name": "stdout",
          "output_type": "stream",
          "text": [
            "391/391 [==============================] - 38s 97ms/step - loss: 2.0281 - accuracy: 0.5174 - val_loss: 2.7274 - val_accuracy: 0.3932 - lr: 0.0010\n",
            "Learning rate:  0.001\n",
            "Epoch 17/300\n",
            "391/391 [==============================] - ETA: 0s - loss: 1.9689 - accuracy: 0.5291WARNING:tensorflow:Can save best model only with val_acc available, skipping.\n"
          ]
        },
        {
          "name": "stderr",
          "output_type": "stream",
          "text": [
            "WARNING:tensorflow:Can save best model only with val_acc available, skipping.\n"
          ]
        },
        {
          "name": "stdout",
          "output_type": "stream",
          "text": [
            "391/391 [==============================] - 37s 94ms/step - loss: 1.9689 - accuracy: 0.5291 - val_loss: 2.4615 - val_accuracy: 0.4412 - lr: 0.0010\n",
            "Learning rate:  0.001\n",
            "Epoch 18/300\n",
            "391/391 [==============================] - ETA: 0s - loss: 1.9328 - accuracy: 0.5402WARNING:tensorflow:Can save best model only with val_acc available, skipping.\n"
          ]
        },
        {
          "name": "stderr",
          "output_type": "stream",
          "text": [
            "WARNING:tensorflow:Can save best model only with val_acc available, skipping.\n"
          ]
        },
        {
          "name": "stdout",
          "output_type": "stream",
          "text": [
            "391/391 [==============================] - 38s 96ms/step - loss: 1.9328 - accuracy: 0.5402 - val_loss: 2.4539 - val_accuracy: 0.4270 - lr: 0.0010\n",
            "Learning rate:  0.001\n",
            "Epoch 19/300\n",
            "391/391 [==============================] - ETA: 0s - loss: 1.8860 - accuracy: 0.5492WARNING:tensorflow:Can save best model only with val_acc available, skipping.\n"
          ]
        },
        {
          "name": "stderr",
          "output_type": "stream",
          "text": [
            "WARNING:tensorflow:Can save best model only with val_acc available, skipping.\n"
          ]
        },
        {
          "name": "stdout",
          "output_type": "stream",
          "text": [
            "391/391 [==============================] - 37s 95ms/step - loss: 1.8860 - accuracy: 0.5492 - val_loss: 2.4223 - val_accuracy: 0.4459 - lr: 0.0010\n",
            "Learning rate:  0.001\n",
            "Epoch 20/300\n",
            "391/391 [==============================] - ETA: 0s - loss: 1.8554 - accuracy: 0.5589WARNING:tensorflow:Can save best model only with val_acc available, skipping.\n"
          ]
        },
        {
          "name": "stderr",
          "output_type": "stream",
          "text": [
            "WARNING:tensorflow:Can save best model only with val_acc available, skipping.\n"
          ]
        },
        {
          "name": "stdout",
          "output_type": "stream",
          "text": [
            "391/391 [==============================] - 37s 95ms/step - loss: 1.8554 - accuracy: 0.5589 - val_loss: 2.2115 - val_accuracy: 0.4851 - lr: 0.0010\n",
            "Learning rate:  0.001\n",
            "Epoch 21/300\n",
            "391/391 [==============================] - ETA: 0s - loss: 1.8176 - accuracy: 0.5694WARNING:tensorflow:Can save best model only with val_acc available, skipping.\n"
          ]
        },
        {
          "name": "stderr",
          "output_type": "stream",
          "text": [
            "WARNING:tensorflow:Can save best model only with val_acc available, skipping.\n"
          ]
        },
        {
          "name": "stdout",
          "output_type": "stream",
          "text": [
            "391/391 [==============================] - 37s 96ms/step - loss: 1.8176 - accuracy: 0.5694 - val_loss: 2.2337 - val_accuracy: 0.4780 - lr: 0.0010\n",
            "Learning rate:  0.001\n",
            "Epoch 22/300\n",
            "391/391 [==============================] - ETA: 0s - loss: 1.7873 - accuracy: 0.5751WARNING:tensorflow:Can save best model only with val_acc available, skipping.\n"
          ]
        },
        {
          "name": "stderr",
          "output_type": "stream",
          "text": [
            "WARNING:tensorflow:Can save best model only with val_acc available, skipping.\n"
          ]
        },
        {
          "name": "stdout",
          "output_type": "stream",
          "text": [
            "391/391 [==============================] - 37s 94ms/step - loss: 1.7873 - accuracy: 0.5751 - val_loss: 2.3634 - val_accuracy: 0.4610 - lr: 0.0010\n",
            "Learning rate:  0.001\n",
            "Epoch 23/300\n",
            "391/391 [==============================] - ETA: 0s - loss: 1.7675 - accuracy: 0.5802WARNING:tensorflow:Can save best model only with val_acc available, skipping.\n"
          ]
        },
        {
          "name": "stderr",
          "output_type": "stream",
          "text": [
            "WARNING:tensorflow:Can save best model only with val_acc available, skipping.\n"
          ]
        },
        {
          "name": "stdout",
          "output_type": "stream",
          "text": [
            "391/391 [==============================] - 37s 95ms/step - loss: 1.7675 - accuracy: 0.5802 - val_loss: 2.1928 - val_accuracy: 0.5003 - lr: 0.0010\n",
            "Learning rate:  0.001\n",
            "Epoch 24/300\n",
            "391/391 [==============================] - ETA: 0s - loss: 1.7335 - accuracy: 0.5886WARNING:tensorflow:Can save best model only with val_acc available, skipping.\n"
          ]
        },
        {
          "name": "stderr",
          "output_type": "stream",
          "text": [
            "WARNING:tensorflow:Can save best model only with val_acc available, skipping.\n"
          ]
        },
        {
          "name": "stdout",
          "output_type": "stream",
          "text": [
            "391/391 [==============================] - 37s 96ms/step - loss: 1.7335 - accuracy: 0.5886 - val_loss: 2.2384 - val_accuracy: 0.4873 - lr: 0.0010\n",
            "Learning rate:  0.001\n",
            "Epoch 25/300\n",
            "391/391 [==============================] - ETA: 0s - loss: 1.7078 - accuracy: 0.5957WARNING:tensorflow:Can save best model only with val_acc available, skipping.\n"
          ]
        },
        {
          "name": "stderr",
          "output_type": "stream",
          "text": [
            "WARNING:tensorflow:Can save best model only with val_acc available, skipping.\n"
          ]
        },
        {
          "name": "stdout",
          "output_type": "stream",
          "text": [
            "391/391 [==============================] - 36s 93ms/step - loss: 1.7078 - accuracy: 0.5957 - val_loss: 2.4649 - val_accuracy: 0.4503 - lr: 0.0010\n",
            "Learning rate:  0.001\n",
            "Epoch 26/300\n",
            "391/391 [==============================] - ETA: 0s - loss: 1.6764 - accuracy: 0.6030WARNING:tensorflow:Can save best model only with val_acc available, skipping.\n"
          ]
        },
        {
          "name": "stderr",
          "output_type": "stream",
          "text": [
            "WARNING:tensorflow:Can save best model only with val_acc available, skipping.\n"
          ]
        },
        {
          "name": "stdout",
          "output_type": "stream",
          "text": [
            "391/391 [==============================] - 37s 95ms/step - loss: 1.6764 - accuracy: 0.6030 - val_loss: 2.2973 - val_accuracy: 0.4869 - lr: 0.0010\n",
            "Learning rate:  0.001\n",
            "Epoch 27/300\n",
            "391/391 [==============================] - ETA: 0s - loss: 1.6617 - accuracy: 0.6092WARNING:tensorflow:Can save best model only with val_acc available, skipping.\n"
          ]
        },
        {
          "name": "stderr",
          "output_type": "stream",
          "text": [
            "WARNING:tensorflow:Can save best model only with val_acc available, skipping.\n"
          ]
        },
        {
          "name": "stdout",
          "output_type": "stream",
          "text": [
            "391/391 [==============================] - 37s 94ms/step - loss: 1.6617 - accuracy: 0.6092 - val_loss: 2.3593 - val_accuracy: 0.4719 - lr: 0.0010\n",
            "Learning rate:  0.001\n",
            "Epoch 28/300\n",
            "391/391 [==============================] - ETA: 0s - loss: 1.6301 - accuracy: 0.6170WARNING:tensorflow:Can save best model only with val_acc available, skipping.\n"
          ]
        },
        {
          "name": "stderr",
          "output_type": "stream",
          "text": [
            "WARNING:tensorflow:Can save best model only with val_acc available, skipping.\n"
          ]
        },
        {
          "name": "stdout",
          "output_type": "stream",
          "text": [
            "391/391 [==============================] - 37s 94ms/step - loss: 1.6301 - accuracy: 0.6170 - val_loss: 2.2177 - val_accuracy: 0.4917 - lr: 3.1623e-04\n",
            "Learning rate:  0.001\n",
            "Epoch 29/300\n",
            "391/391 [==============================] - ETA: 0s - loss: 1.6131 - accuracy: 0.6211WARNING:tensorflow:Can save best model only with val_acc available, skipping.\n"
          ]
        },
        {
          "name": "stderr",
          "output_type": "stream",
          "text": [
            "WARNING:tensorflow:Can save best model only with val_acc available, skipping.\n"
          ]
        },
        {
          "name": "stdout",
          "output_type": "stream",
          "text": [
            "391/391 [==============================] - 37s 94ms/step - loss: 1.6131 - accuracy: 0.6211 - val_loss: 2.1878 - val_accuracy: 0.4986 - lr: 0.0010\n",
            "Learning rate:  0.001\n",
            "Epoch 30/300\n",
            "391/391 [==============================] - ETA: 0s - loss: 1.5966 - accuracy: 0.6236WARNING:tensorflow:Can save best model only with val_acc available, skipping.\n"
          ]
        },
        {
          "name": "stderr",
          "output_type": "stream",
          "text": [
            "WARNING:tensorflow:Can save best model only with val_acc available, skipping.\n"
          ]
        },
        {
          "name": "stdout",
          "output_type": "stream",
          "text": [
            "391/391 [==============================] - 36s 93ms/step - loss: 1.5966 - accuracy: 0.6236 - val_loss: 2.2437 - val_accuracy: 0.4966 - lr: 0.0010\n",
            "Learning rate:  0.001\n",
            "Epoch 31/300\n",
            "391/391 [==============================] - ETA: 0s - loss: 1.5741 - accuracy: 0.6304WARNING:tensorflow:Can save best model only with val_acc available, skipping.\n"
          ]
        },
        {
          "name": "stderr",
          "output_type": "stream",
          "text": [
            "WARNING:tensorflow:Can save best model only with val_acc available, skipping.\n"
          ]
        },
        {
          "name": "stdout",
          "output_type": "stream",
          "text": [
            "391/391 [==============================] - 37s 95ms/step - loss: 1.5741 - accuracy: 0.6304 - val_loss: 2.4408 - val_accuracy: 0.4654 - lr: 0.0010\n",
            "Learning rate:  0.001\n",
            "Epoch 32/300\n",
            "391/391 [==============================] - ETA: 0s - loss: 1.5499 - accuracy: 0.6368WARNING:tensorflow:Can save best model only with val_acc available, skipping.\n"
          ]
        },
        {
          "name": "stderr",
          "output_type": "stream",
          "text": [
            "WARNING:tensorflow:Can save best model only with val_acc available, skipping.\n"
          ]
        },
        {
          "name": "stdout",
          "output_type": "stream",
          "text": [
            "391/391 [==============================] - 37s 94ms/step - loss: 1.5499 - accuracy: 0.6368 - val_loss: 2.2695 - val_accuracy: 0.4880 - lr: 0.0010\n",
            "Learning rate:  0.001\n",
            "Epoch 33/300\n",
            "391/391 [==============================] - ETA: 0s - loss: 1.5444 - accuracy: 0.6365WARNING:tensorflow:Can save best model only with val_acc available, skipping.\n"
          ]
        },
        {
          "name": "stderr",
          "output_type": "stream",
          "text": [
            "WARNING:tensorflow:Can save best model only with val_acc available, skipping.\n"
          ]
        },
        {
          "name": "stdout",
          "output_type": "stream",
          "text": [
            "391/391 [==============================] - 36s 93ms/step - loss: 1.5444 - accuracy: 0.6365 - val_loss: 2.4435 - val_accuracy: 0.4671 - lr: 0.0010\n",
            "Learning rate:  0.001\n",
            "Epoch 34/300\n",
            "391/391 [==============================] - ETA: 0s - loss: 1.5175 - accuracy: 0.6453WARNING:tensorflow:Can save best model only with val_acc available, skipping.\n"
          ]
        },
        {
          "name": "stderr",
          "output_type": "stream",
          "text": [
            "WARNING:tensorflow:Can save best model only with val_acc available, skipping.\n"
          ]
        },
        {
          "name": "stdout",
          "output_type": "stream",
          "text": [
            "391/391 [==============================] - 37s 94ms/step - loss: 1.5175 - accuracy: 0.6453 - val_loss: 2.4245 - val_accuracy: 0.4778 - lr: 3.1623e-04\n",
            "Learning rate:  0.001\n",
            "Epoch 35/300\n",
            "391/391 [==============================] - ETA: 0s - loss: 1.5030 - accuracy: 0.6496WARNING:tensorflow:Can save best model only with val_acc available, skipping.\n"
          ]
        },
        {
          "name": "stderr",
          "output_type": "stream",
          "text": [
            "WARNING:tensorflow:Can save best model only with val_acc available, skipping.\n"
          ]
        },
        {
          "name": "stdout",
          "output_type": "stream",
          "text": [
            "391/391 [==============================] - 37s 95ms/step - loss: 1.5030 - accuracy: 0.6496 - val_loss: 2.1258 - val_accuracy: 0.5154 - lr: 0.0010\n",
            "Learning rate:  0.001\n",
            "Epoch 36/300\n",
            "391/391 [==============================] - ETA: 0s - loss: 1.4908 - accuracy: 0.6506WARNING:tensorflow:Can save best model only with val_acc available, skipping.\n"
          ]
        },
        {
          "name": "stderr",
          "output_type": "stream",
          "text": [
            "WARNING:tensorflow:Can save best model only with val_acc available, skipping.\n"
          ]
        },
        {
          "name": "stdout",
          "output_type": "stream",
          "text": [
            "391/391 [==============================] - 37s 95ms/step - loss: 1.4908 - accuracy: 0.6506 - val_loss: 2.4908 - val_accuracy: 0.4864 - lr: 0.0010\n",
            "Learning rate:  0.001\n",
            "Epoch 37/300\n",
            "391/391 [==============================] - ETA: 0s - loss: 1.4760 - accuracy: 0.6552WARNING:tensorflow:Can save best model only with val_acc available, skipping.\n"
          ]
        },
        {
          "name": "stderr",
          "output_type": "stream",
          "text": [
            "WARNING:tensorflow:Can save best model only with val_acc available, skipping.\n"
          ]
        },
        {
          "name": "stdout",
          "output_type": "stream",
          "text": [
            "391/391 [==============================] - 37s 96ms/step - loss: 1.4760 - accuracy: 0.6552 - val_loss: 2.3585 - val_accuracy: 0.4836 - lr: 0.0010\n",
            "Learning rate:  0.001\n",
            "Epoch 38/300\n",
            "391/391 [==============================] - ETA: 0s - loss: 1.4536 - accuracy: 0.6620WARNING:tensorflow:Can save best model only with val_acc available, skipping.\n"
          ]
        },
        {
          "name": "stderr",
          "output_type": "stream",
          "text": [
            "WARNING:tensorflow:Can save best model only with val_acc available, skipping.\n"
          ]
        },
        {
          "name": "stdout",
          "output_type": "stream",
          "text": [
            "391/391 [==============================] - 37s 94ms/step - loss: 1.4536 - accuracy: 0.6620 - val_loss: 2.2262 - val_accuracy: 0.5103 - lr: 0.0010\n",
            "Learning rate:  0.001\n",
            "Epoch 39/300\n",
            "391/391 [==============================] - ETA: 0s - loss: 1.4429 - accuracy: 0.6651WARNING:tensorflow:Can save best model only with val_acc available, skipping.\n"
          ]
        },
        {
          "name": "stderr",
          "output_type": "stream",
          "text": [
            "WARNING:tensorflow:Can save best model only with val_acc available, skipping.\n"
          ]
        },
        {
          "name": "stdout",
          "output_type": "stream",
          "text": [
            "391/391 [==============================] - 37s 96ms/step - loss: 1.4429 - accuracy: 0.6651 - val_loss: 2.3861 - val_accuracy: 0.4975 - lr: 0.0010\n",
            "Learning rate:  0.001\n",
            "Epoch 40/300\n",
            "391/391 [==============================] - ETA: 0s - loss: 1.4277 - accuracy: 0.6666WARNING:tensorflow:Can save best model only with val_acc available, skipping.\n"
          ]
        },
        {
          "name": "stderr",
          "output_type": "stream",
          "text": [
            "WARNING:tensorflow:Can save best model only with val_acc available, skipping.\n"
          ]
        },
        {
          "name": "stdout",
          "output_type": "stream",
          "text": [
            "391/391 [==============================] - 37s 95ms/step - loss: 1.4277 - accuracy: 0.6666 - val_loss: 2.0791 - val_accuracy: 0.5427 - lr: 0.0010\n",
            "Learning rate:  0.001\n",
            "Epoch 41/300\n",
            "391/391 [==============================] - ETA: 0s - loss: 1.4215 - accuracy: 0.6719WARNING:tensorflow:Can save best model only with val_acc available, skipping.\n"
          ]
        },
        {
          "name": "stderr",
          "output_type": "stream",
          "text": [
            "WARNING:tensorflow:Can save best model only with val_acc available, skipping.\n"
          ]
        },
        {
          "name": "stdout",
          "output_type": "stream",
          "text": [
            "391/391 [==============================] - 36s 93ms/step - loss: 1.4215 - accuracy: 0.6719 - val_loss: 2.2729 - val_accuracy: 0.5063 - lr: 0.0010\n",
            "Learning rate:  0.001\n",
            "Epoch 42/300\n",
            "391/391 [==============================] - ETA: 0s - loss: 1.4061 - accuracy: 0.6735WARNING:tensorflow:Can save best model only with val_acc available, skipping.\n"
          ]
        },
        {
          "name": "stderr",
          "output_type": "stream",
          "text": [
            "WARNING:tensorflow:Can save best model only with val_acc available, skipping.\n"
          ]
        },
        {
          "name": "stdout",
          "output_type": "stream",
          "text": [
            "391/391 [==============================] - 37s 94ms/step - loss: 1.4061 - accuracy: 0.6735 - val_loss: 2.4694 - val_accuracy: 0.4789 - lr: 0.0010\n",
            "Learning rate:  0.001\n",
            "Epoch 43/300\n",
            "391/391 [==============================] - ETA: 0s - loss: 1.3968 - accuracy: 0.6766WARNING:tensorflow:Can save best model only with val_acc available, skipping.\n"
          ]
        },
        {
          "name": "stderr",
          "output_type": "stream",
          "text": [
            "WARNING:tensorflow:Can save best model only with val_acc available, skipping.\n"
          ]
        },
        {
          "name": "stdout",
          "output_type": "stream",
          "text": [
            "391/391 [==============================] - 36s 93ms/step - loss: 1.3968 - accuracy: 0.6766 - val_loss: 2.3116 - val_accuracy: 0.5133 - lr: 0.0010\n",
            "Learning rate:  0.001\n",
            "Epoch 44/300\n",
            "391/391 [==============================] - ETA: 0s - loss: 1.3803 - accuracy: 0.6813WARNING:tensorflow:Can save best model only with val_acc available, skipping.\n"
          ]
        },
        {
          "name": "stderr",
          "output_type": "stream",
          "text": [
            "WARNING:tensorflow:Can save best model only with val_acc available, skipping.\n"
          ]
        },
        {
          "name": "stdout",
          "output_type": "stream",
          "text": [
            "391/391 [==============================] - 37s 95ms/step - loss: 1.3803 - accuracy: 0.6813 - val_loss: 2.2254 - val_accuracy: 0.5178 - lr: 0.0010\n",
            "Learning rate:  0.001\n",
            "Epoch 45/300\n",
            "391/391 [==============================] - ETA: 0s - loss: 1.3670 - accuracy: 0.6857WARNING:tensorflow:Can save best model only with val_acc available, skipping.\n"
          ]
        },
        {
          "name": "stderr",
          "output_type": "stream",
          "text": [
            "WARNING:tensorflow:Can save best model only with val_acc available, skipping.\n"
          ]
        },
        {
          "name": "stdout",
          "output_type": "stream",
          "text": [
            "391/391 [==============================] - 38s 96ms/step - loss: 1.3670 - accuracy: 0.6857 - val_loss: 2.3016 - val_accuracy: 0.5011 - lr: 3.1623e-04\n",
            "Learning rate:  0.001\n",
            "Epoch 46/300\n",
            "391/391 [==============================] - ETA: 0s - loss: 1.3533 - accuracy: 0.6890WARNING:tensorflow:Can save best model only with val_acc available, skipping.\n"
          ]
        },
        {
          "name": "stderr",
          "output_type": "stream",
          "text": [
            "WARNING:tensorflow:Can save best model only with val_acc available, skipping.\n"
          ]
        },
        {
          "name": "stdout",
          "output_type": "stream",
          "text": [
            "391/391 [==============================] - 37s 93ms/step - loss: 1.3533 - accuracy: 0.6890 - val_loss: 2.1190 - val_accuracy: 0.5258 - lr: 0.0010\n",
            "Learning rate:  0.001\n",
            "Epoch 47/300\n",
            "391/391 [==============================] - ETA: 0s - loss: 1.3439 - accuracy: 0.6905WARNING:tensorflow:Can save best model only with val_acc available, skipping.\n"
          ]
        },
        {
          "name": "stderr",
          "output_type": "stream",
          "text": [
            "WARNING:tensorflow:Can save best model only with val_acc available, skipping.\n"
          ]
        },
        {
          "name": "stdout",
          "output_type": "stream",
          "text": [
            "391/391 [==============================] - 37s 94ms/step - loss: 1.3439 - accuracy: 0.6905 - val_loss: 2.3499 - val_accuracy: 0.5118 - lr: 0.0010\n",
            "Learning rate:  0.001\n",
            "Epoch 48/300\n",
            "391/391 [==============================] - ETA: 0s - loss: 1.3290 - accuracy: 0.6952WARNING:tensorflow:Can save best model only with val_acc available, skipping.\n"
          ]
        },
        {
          "name": "stderr",
          "output_type": "stream",
          "text": [
            "WARNING:tensorflow:Can save best model only with val_acc available, skipping.\n"
          ]
        },
        {
          "name": "stdout",
          "output_type": "stream",
          "text": [
            "391/391 [==============================] - 37s 93ms/step - loss: 1.3290 - accuracy: 0.6952 - val_loss: 2.4767 - val_accuracy: 0.4895 - lr: 0.0010\n",
            "Learning rate:  0.001\n",
            "Epoch 49/300\n",
            "391/391 [==============================] - ETA: 0s - loss: 1.3320 - accuracy: 0.6934WARNING:tensorflow:Can save best model only with val_acc available, skipping.\n"
          ]
        },
        {
          "name": "stderr",
          "output_type": "stream",
          "text": [
            "WARNING:tensorflow:Can save best model only with val_acc available, skipping.\n"
          ]
        },
        {
          "name": "stdout",
          "output_type": "stream",
          "text": [
            "391/391 [==============================] - 37s 94ms/step - loss: 1.3320 - accuracy: 0.6934 - val_loss: 2.3514 - val_accuracy: 0.5082 - lr: 0.0010\n",
            "Learning rate:  0.001\n",
            "Epoch 50/300\n",
            "391/391 [==============================] - ETA: 0s - loss: 1.3145 - accuracy: 0.6985WARNING:tensorflow:Can save best model only with val_acc available, skipping.\n"
          ]
        },
        {
          "name": "stderr",
          "output_type": "stream",
          "text": [
            "WARNING:tensorflow:Can save best model only with val_acc available, skipping.\n"
          ]
        },
        {
          "name": "stdout",
          "output_type": "stream",
          "text": [
            "391/391 [==============================] - 37s 95ms/step - loss: 1.3145 - accuracy: 0.6985 - val_loss: 2.3008 - val_accuracy: 0.5142 - lr: 3.1623e-04\n",
            "Learning rate:  0.001\n",
            "Epoch 51/300\n",
            "391/391 [==============================] - ETA: 0s - loss: 1.3147 - accuracy: 0.6972WARNING:tensorflow:Can save best model only with val_acc available, skipping.\n"
          ]
        },
        {
          "name": "stderr",
          "output_type": "stream",
          "text": [
            "WARNING:tensorflow:Can save best model only with val_acc available, skipping.\n"
          ]
        },
        {
          "name": "stdout",
          "output_type": "stream",
          "text": [
            "391/391 [==============================] - 36s 93ms/step - loss: 1.3147 - accuracy: 0.6972 - val_loss: 2.2087 - val_accuracy: 0.5278 - lr: 0.0010\n",
            "Learning rate:  0.001\n",
            "Epoch 52/300\n",
            "391/391 [==============================] - ETA: 0s - loss: 1.2940 - accuracy: 0.7052WARNING:tensorflow:Can save best model only with val_acc available, skipping.\n"
          ]
        },
        {
          "name": "stderr",
          "output_type": "stream",
          "text": [
            "WARNING:tensorflow:Can save best model only with val_acc available, skipping.\n"
          ]
        },
        {
          "name": "stdout",
          "output_type": "stream",
          "text": [
            "391/391 [==============================] - 37s 95ms/step - loss: 1.2940 - accuracy: 0.7052 - val_loss: 2.0562 - val_accuracy: 0.5490 - lr: 0.0010\n",
            "Learning rate:  0.001\n",
            "Epoch 53/300\n",
            "391/391 [==============================] - ETA: 0s - loss: 1.2827 - accuracy: 0.7088WARNING:tensorflow:Can save best model only with val_acc available, skipping.\n"
          ]
        },
        {
          "name": "stderr",
          "output_type": "stream",
          "text": [
            "WARNING:tensorflow:Can save best model only with val_acc available, skipping.\n"
          ]
        },
        {
          "name": "stdout",
          "output_type": "stream",
          "text": [
            "391/391 [==============================] - 37s 94ms/step - loss: 1.2827 - accuracy: 0.7088 - val_loss: 2.3429 - val_accuracy: 0.5127 - lr: 0.0010\n",
            "Learning rate:  0.001\n",
            "Epoch 54/300\n",
            "391/391 [==============================] - ETA: 0s - loss: 1.2802 - accuracy: 0.7059WARNING:tensorflow:Can save best model only with val_acc available, skipping.\n"
          ]
        },
        {
          "name": "stderr",
          "output_type": "stream",
          "text": [
            "WARNING:tensorflow:Can save best model only with val_acc available, skipping.\n"
          ]
        },
        {
          "name": "stdout",
          "output_type": "stream",
          "text": [
            "391/391 [==============================] - 36s 93ms/step - loss: 1.2802 - accuracy: 0.7059 - val_loss: 2.2179 - val_accuracy: 0.5265 - lr: 0.0010\n",
            "Learning rate:  0.001\n",
            "Epoch 55/300\n",
            "391/391 [==============================] - ETA: 0s - loss: 1.2678 - accuracy: 0.7128WARNING:tensorflow:Can save best model only with val_acc available, skipping.\n"
          ]
        },
        {
          "name": "stderr",
          "output_type": "stream",
          "text": [
            "WARNING:tensorflow:Can save best model only with val_acc available, skipping.\n"
          ]
        },
        {
          "name": "stdout",
          "output_type": "stream",
          "text": [
            "391/391 [==============================] - 37s 94ms/step - loss: 1.2678 - accuracy: 0.7128 - val_loss: 2.1300 - val_accuracy: 0.5356 - lr: 0.0010\n",
            "Learning rate:  0.001\n",
            "Epoch 56/300\n",
            "391/391 [==============================] - ETA: 0s - loss: 1.2633 - accuracy: 0.7132WARNING:tensorflow:Can save best model only with val_acc available, skipping.\n"
          ]
        },
        {
          "name": "stderr",
          "output_type": "stream",
          "text": [
            "WARNING:tensorflow:Can save best model only with val_acc available, skipping.\n"
          ]
        },
        {
          "name": "stdout",
          "output_type": "stream",
          "text": [
            "391/391 [==============================] - 37s 93ms/step - loss: 1.2633 - accuracy: 0.7132 - val_loss: 2.2836 - val_accuracy: 0.5262 - lr: 0.0010\n",
            "Learning rate:  0.001\n",
            "Epoch 57/300\n",
            "391/391 [==============================] - ETA: 0s - loss: 1.2572 - accuracy: 0.7152WARNING:tensorflow:Can save best model only with val_acc available, skipping.\n"
          ]
        },
        {
          "name": "stderr",
          "output_type": "stream",
          "text": [
            "WARNING:tensorflow:Can save best model only with val_acc available, skipping.\n"
          ]
        },
        {
          "name": "stdout",
          "output_type": "stream",
          "text": [
            "391/391 [==============================] - 37s 95ms/step - loss: 1.2572 - accuracy: 0.7152 - val_loss: 2.2831 - val_accuracy: 0.5241 - lr: 3.1623e-04\n",
            "Learning rate:  0.001\n",
            "Epoch 58/300\n",
            "391/391 [==============================] - ETA: 0s - loss: 1.2434 - accuracy: 0.7213WARNING:tensorflow:Can save best model only with val_acc available, skipping.\n"
          ]
        },
        {
          "name": "stderr",
          "output_type": "stream",
          "text": [
            "WARNING:tensorflow:Can save best model only with val_acc available, skipping.\n"
          ]
        },
        {
          "name": "stdout",
          "output_type": "stream",
          "text": [
            "391/391 [==============================] - 37s 95ms/step - loss: 1.2434 - accuracy: 0.7213 - val_loss: 2.4125 - val_accuracy: 0.5074 - lr: 0.0010\n",
            "Learning rate:  0.001\n",
            "Epoch 59/300\n",
            "391/391 [==============================] - ETA: 0s - loss: 1.2299 - accuracy: 0.7237WARNING:tensorflow:Can save best model only with val_acc available, skipping.\n"
          ]
        },
        {
          "name": "stderr",
          "output_type": "stream",
          "text": [
            "WARNING:tensorflow:Can save best model only with val_acc available, skipping.\n"
          ]
        },
        {
          "name": "stdout",
          "output_type": "stream",
          "text": [
            "391/391 [==============================] - 36s 93ms/step - loss: 1.2299 - accuracy: 0.7237 - val_loss: 2.0709 - val_accuracy: 0.5499 - lr: 0.0010\n",
            "Learning rate:  0.001\n",
            "Epoch 60/300\n",
            "391/391 [==============================] - ETA: 0s - loss: 1.2301 - accuracy: 0.7224WARNING:tensorflow:Can save best model only with val_acc available, skipping.\n"
          ]
        },
        {
          "name": "stderr",
          "output_type": "stream",
          "text": [
            "WARNING:tensorflow:Can save best model only with val_acc available, skipping.\n"
          ]
        },
        {
          "name": "stdout",
          "output_type": "stream",
          "text": [
            "391/391 [==============================] - 37s 94ms/step - loss: 1.2301 - accuracy: 0.7224 - val_loss: 2.1338 - val_accuracy: 0.5457 - lr: 0.0010\n",
            "Learning rate:  0.001\n",
            "Epoch 61/300\n",
            "391/391 [==============================] - ETA: 0s - loss: 1.2191 - accuracy: 0.7265WARNING:tensorflow:Can save best model only with val_acc available, skipping.\n"
          ]
        },
        {
          "name": "stderr",
          "output_type": "stream",
          "text": [
            "WARNING:tensorflow:Can save best model only with val_acc available, skipping.\n"
          ]
        },
        {
          "name": "stdout",
          "output_type": "stream",
          "text": [
            "391/391 [==============================] - 37s 93ms/step - loss: 1.2191 - accuracy: 0.7265 - val_loss: 2.1358 - val_accuracy: 0.5475 - lr: 0.0010\n",
            "Learning rate:  0.001\n",
            "Epoch 62/300\n",
            "391/391 [==============================] - ETA: 0s - loss: 1.2175 - accuracy: 0.7282WARNING:tensorflow:Can save best model only with val_acc available, skipping.\n"
          ]
        },
        {
          "name": "stderr",
          "output_type": "stream",
          "text": [
            "WARNING:tensorflow:Can save best model only with val_acc available, skipping.\n"
          ]
        },
        {
          "name": "stdout",
          "output_type": "stream",
          "text": [
            "391/391 [==============================] - 37s 95ms/step - loss: 1.2175 - accuracy: 0.7282 - val_loss: 2.2736 - val_accuracy: 0.5275 - lr: 3.1623e-04\n",
            "Learning rate:  0.001\n",
            "Epoch 63/300\n",
            "391/391 [==============================] - ETA: 0s - loss: 1.2107 - accuracy: 0.7286WARNING:tensorflow:Can save best model only with val_acc available, skipping.\n"
          ]
        },
        {
          "name": "stderr",
          "output_type": "stream",
          "text": [
            "WARNING:tensorflow:Can save best model only with val_acc available, skipping.\n"
          ]
        },
        {
          "name": "stdout",
          "output_type": "stream",
          "text": [
            "391/391 [==============================] - 37s 95ms/step - loss: 1.2107 - accuracy: 0.7286 - val_loss: 2.4809 - val_accuracy: 0.4922 - lr: 0.0010\n",
            "Learning rate:  0.001\n",
            "Epoch 64/300\n",
            "391/391 [==============================] - ETA: 0s - loss: 1.2123 - accuracy: 0.7279WARNING:tensorflow:Can save best model only with val_acc available, skipping.\n"
          ]
        },
        {
          "name": "stderr",
          "output_type": "stream",
          "text": [
            "WARNING:tensorflow:Can save best model only with val_acc available, skipping.\n"
          ]
        },
        {
          "name": "stdout",
          "output_type": "stream",
          "text": [
            "391/391 [==============================] - 37s 94ms/step - loss: 1.2123 - accuracy: 0.7279 - val_loss: 2.1142 - val_accuracy: 0.5525 - lr: 0.0010\n",
            "Learning rate:  0.001\n",
            "Epoch 65/300\n",
            "391/391 [==============================] - ETA: 0s - loss: 1.1863 - accuracy: 0.7344WARNING:tensorflow:Can save best model only with val_acc available, skipping.\n"
          ]
        },
        {
          "name": "stderr",
          "output_type": "stream",
          "text": [
            "WARNING:tensorflow:Can save best model only with val_acc available, skipping.\n"
          ]
        },
        {
          "name": "stdout",
          "output_type": "stream",
          "text": [
            "391/391 [==============================] - 37s 95ms/step - loss: 1.1863 - accuracy: 0.7344 - val_loss: 2.1836 - val_accuracy: 0.5379 - lr: 0.0010\n",
            "Learning rate:  0.001\n",
            "Epoch 66/300\n",
            "391/391 [==============================] - ETA: 0s - loss: 1.1819 - accuracy: 0.7381WARNING:tensorflow:Can save best model only with val_acc available, skipping.\n"
          ]
        },
        {
          "name": "stderr",
          "output_type": "stream",
          "text": [
            "WARNING:tensorflow:Can save best model only with val_acc available, skipping.\n"
          ]
        },
        {
          "name": "stdout",
          "output_type": "stream",
          "text": [
            "391/391 [==============================] - 37s 95ms/step - loss: 1.1819 - accuracy: 0.7381 - val_loss: 2.1584 - val_accuracy: 0.5523 - lr: 0.0010\n",
            "Learning rate:  0.001\n",
            "Epoch 67/300\n",
            "391/391 [==============================] - ETA: 0s - loss: 1.1856 - accuracy: 0.7352WARNING:tensorflow:Can save best model only with val_acc available, skipping.\n"
          ]
        },
        {
          "name": "stderr",
          "output_type": "stream",
          "text": [
            "WARNING:tensorflow:Can save best model only with val_acc available, skipping.\n"
          ]
        },
        {
          "name": "stdout",
          "output_type": "stream",
          "text": [
            "391/391 [==============================] - 37s 94ms/step - loss: 1.1856 - accuracy: 0.7352 - val_loss: 2.4540 - val_accuracy: 0.5148 - lr: 3.1623e-04\n",
            "Learning rate:  0.001\n",
            "Epoch 68/300\n",
            "391/391 [==============================] - ETA: 0s - loss: 1.1762 - accuracy: 0.7391WARNING:tensorflow:Can save best model only with val_acc available, skipping.\n"
          ]
        },
        {
          "name": "stderr",
          "output_type": "stream",
          "text": [
            "WARNING:tensorflow:Can save best model only with val_acc available, skipping.\n"
          ]
        },
        {
          "name": "stdout",
          "output_type": "stream",
          "text": [
            "391/391 [==============================] - 37s 94ms/step - loss: 1.1762 - accuracy: 0.7391 - val_loss: 2.1628 - val_accuracy: 0.5545 - lr: 0.0010\n",
            "Learning rate:  0.001\n",
            "Epoch 69/300\n",
            "391/391 [==============================] - ETA: 0s - loss: 1.1702 - accuracy: 0.7402WARNING:tensorflow:Can save best model only with val_acc available, skipping.\n"
          ]
        },
        {
          "name": "stderr",
          "output_type": "stream",
          "text": [
            "WARNING:tensorflow:Can save best model only with val_acc available, skipping.\n"
          ]
        },
        {
          "name": "stdout",
          "output_type": "stream",
          "text": [
            "391/391 [==============================] - 36s 93ms/step - loss: 1.1702 - accuracy: 0.7402 - val_loss: 2.1981 - val_accuracy: 0.5445 - lr: 0.0010\n",
            "Learning rate:  0.001\n",
            "Epoch 70/300\n",
            "391/391 [==============================] - ETA: 0s - loss: 1.1584 - accuracy: 0.7439WARNING:tensorflow:Can save best model only with val_acc available, skipping.\n"
          ]
        },
        {
          "name": "stderr",
          "output_type": "stream",
          "text": [
            "WARNING:tensorflow:Can save best model only with val_acc available, skipping.\n"
          ]
        },
        {
          "name": "stdout",
          "output_type": "stream",
          "text": [
            "391/391 [==============================] - 37s 94ms/step - loss: 1.1584 - accuracy: 0.7439 - val_loss: 2.3235 - val_accuracy: 0.5210 - lr: 0.0010\n",
            "Learning rate:  0.001\n",
            "Epoch 71/300\n",
            "391/391 [==============================] - ETA: 0s - loss: 1.1618 - accuracy: 0.7423WARNING:tensorflow:Can save best model only with val_acc available, skipping.\n"
          ]
        },
        {
          "name": "stderr",
          "output_type": "stream",
          "text": [
            "WARNING:tensorflow:Can save best model only with val_acc available, skipping.\n"
          ]
        },
        {
          "name": "stdout",
          "output_type": "stream",
          "text": [
            "391/391 [==============================] - 37s 94ms/step - loss: 1.1618 - accuracy: 0.7423 - val_loss: 2.3584 - val_accuracy: 0.5288 - lr: 0.0010\n",
            "Learning rate:  0.001\n",
            "Epoch 72/300\n",
            "391/391 [==============================] - ETA: 0s - loss: 1.1523 - accuracy: 0.7437WARNING:tensorflow:Can save best model only with val_acc available, skipping.\n"
          ]
        },
        {
          "name": "stderr",
          "output_type": "stream",
          "text": [
            "WARNING:tensorflow:Can save best model only with val_acc available, skipping.\n"
          ]
        },
        {
          "name": "stdout",
          "output_type": "stream",
          "text": [
            "391/391 [==============================] - 36s 93ms/step - loss: 1.1523 - accuracy: 0.7437 - val_loss: 2.3618 - val_accuracy: 0.5286 - lr: 3.1623e-04\n",
            "Learning rate:  0.001\n",
            "Epoch 73/300\n",
            "391/391 [==============================] - ETA: 0s - loss: 1.1452 - accuracy: 0.7470WARNING:tensorflow:Can save best model only with val_acc available, skipping.\n"
          ]
        },
        {
          "name": "stderr",
          "output_type": "stream",
          "text": [
            "WARNING:tensorflow:Can save best model only with val_acc available, skipping.\n"
          ]
        },
        {
          "name": "stdout",
          "output_type": "stream",
          "text": [
            "391/391 [==============================] - 38s 96ms/step - loss: 1.1452 - accuracy: 0.7470 - val_loss: 2.0417 - val_accuracy: 0.5703 - lr: 0.0010\n",
            "Learning rate:  0.001\n",
            "Epoch 74/300\n",
            "391/391 [==============================] - ETA: 0s - loss: 1.1337 - accuracy: 0.7490WARNING:tensorflow:Can save best model only with val_acc available, skipping.\n"
          ]
        },
        {
          "name": "stderr",
          "output_type": "stream",
          "text": [
            "WARNING:tensorflow:Can save best model only with val_acc available, skipping.\n"
          ]
        },
        {
          "name": "stdout",
          "output_type": "stream",
          "text": [
            "391/391 [==============================] - 37s 95ms/step - loss: 1.1337 - accuracy: 0.7490 - val_loss: 2.3808 - val_accuracy: 0.5180 - lr: 0.0010\n",
            "Learning rate:  0.001\n",
            "Epoch 75/300\n",
            "391/391 [==============================] - ETA: 0s - loss: 1.1291 - accuracy: 0.7521WARNING:tensorflow:Can save best model only with val_acc available, skipping.\n"
          ]
        },
        {
          "name": "stderr",
          "output_type": "stream",
          "text": [
            "WARNING:tensorflow:Can save best model only with val_acc available, skipping.\n"
          ]
        },
        {
          "name": "stdout",
          "output_type": "stream",
          "text": [
            "391/391 [==============================] - 36s 93ms/step - loss: 1.1291 - accuracy: 0.7521 - val_loss: 2.1857 - val_accuracy: 0.5521 - lr: 0.0010\n",
            "Learning rate:  0.001\n",
            "Epoch 76/300\n",
            "391/391 [==============================] - ETA: 0s - loss: 1.1259 - accuracy: 0.7522WARNING:tensorflow:Can save best model only with val_acc available, skipping.\n"
          ]
        },
        {
          "name": "stderr",
          "output_type": "stream",
          "text": [
            "WARNING:tensorflow:Can save best model only with val_acc available, skipping.\n"
          ]
        },
        {
          "name": "stdout",
          "output_type": "stream",
          "text": [
            "391/391 [==============================] - 37s 94ms/step - loss: 1.1259 - accuracy: 0.7522 - val_loss: 2.1571 - val_accuracy: 0.5625 - lr: 0.0010\n",
            "Learning rate:  0.001\n",
            "Epoch 77/300\n",
            "391/391 [==============================] - ETA: 0s - loss: 1.1219 - accuracy: 0.7530WARNING:tensorflow:Can save best model only with val_acc available, skipping.\n"
          ]
        },
        {
          "name": "stderr",
          "output_type": "stream",
          "text": [
            "WARNING:tensorflow:Can save best model only with val_acc available, skipping.\n"
          ]
        },
        {
          "name": "stdout",
          "output_type": "stream",
          "text": [
            "391/391 [==============================] - 36s 93ms/step - loss: 1.1219 - accuracy: 0.7530 - val_loss: 2.4607 - val_accuracy: 0.5046 - lr: 0.0010\n",
            "Learning rate:  0.001\n",
            "Epoch 78/300\n",
            "391/391 [==============================] - ETA: 0s - loss: 1.1178 - accuracy: 0.7552WARNING:tensorflow:Can save best model only with val_acc available, skipping.\n"
          ]
        },
        {
          "name": "stderr",
          "output_type": "stream",
          "text": [
            "WARNING:tensorflow:Can save best model only with val_acc available, skipping.\n"
          ]
        },
        {
          "name": "stdout",
          "output_type": "stream",
          "text": [
            "391/391 [==============================] - 37s 94ms/step - loss: 1.1178 - accuracy: 0.7552 - val_loss: 2.2408 - val_accuracy: 0.5477 - lr: 3.1623e-04\n",
            "Learning rate:  0.001\n",
            "Epoch 79/300\n",
            "391/391 [==============================] - ETA: 0s - loss: 1.1115 - accuracy: 0.7536WARNING:tensorflow:Can save best model only with val_acc available, skipping.\n"
          ]
        },
        {
          "name": "stderr",
          "output_type": "stream",
          "text": [
            "WARNING:tensorflow:Can save best model only with val_acc available, skipping.\n"
          ]
        },
        {
          "name": "stdout",
          "output_type": "stream",
          "text": [
            "391/391 [==============================] - 36s 93ms/step - loss: 1.1115 - accuracy: 0.7536 - val_loss: 2.4693 - val_accuracy: 0.5211 - lr: 0.0010\n",
            "Learning rate:  0.001\n",
            "Epoch 80/300\n",
            "391/391 [==============================] - ETA: 0s - loss: 1.1051 - accuracy: 0.7587WARNING:tensorflow:Can save best model only with val_acc available, skipping.\n"
          ]
        },
        {
          "name": "stderr",
          "output_type": "stream",
          "text": [
            "WARNING:tensorflow:Can save best model only with val_acc available, skipping.\n"
          ]
        },
        {
          "name": "stdout",
          "output_type": "stream",
          "text": [
            "391/391 [==============================] - 36s 92ms/step - loss: 1.1051 - accuracy: 0.7587 - val_loss: 2.0990 - val_accuracy: 0.5667 - lr: 0.0010\n",
            "Learning rate:  0.001\n",
            "Epoch 81/300\n",
            "391/391 [==============================] - ETA: 0s - loss: 1.1045 - accuracy: 0.7594WARNING:tensorflow:Can save best model only with val_acc available, skipping.\n"
          ]
        },
        {
          "name": "stderr",
          "output_type": "stream",
          "text": [
            "WARNING:tensorflow:Can save best model only with val_acc available, skipping.\n"
          ]
        },
        {
          "name": "stdout",
          "output_type": "stream",
          "text": [
            "391/391 [==============================] - 37s 93ms/step - loss: 1.1045 - accuracy: 0.7594 - val_loss: 2.2215 - val_accuracy: 0.5513 - lr: 0.0010\n",
            "Learning rate:  0.0001\n",
            "Epoch 82/300\n",
            "391/391 [==============================] - ETA: 0s - loss: 0.9322 - accuracy: 0.8148WARNING:tensorflow:Can save best model only with val_acc available, skipping.\n"
          ]
        },
        {
          "name": "stderr",
          "output_type": "stream",
          "text": [
            "WARNING:tensorflow:Can save best model only with val_acc available, skipping.\n"
          ]
        },
        {
          "name": "stdout",
          "output_type": "stream",
          "text": [
            "391/391 [==============================] - 36s 93ms/step - loss: 0.9322 - accuracy: 0.8148 - val_loss: 1.7606 - val_accuracy: 0.6283 - lr: 1.0000e-04\n",
            "Learning rate:  0.0001\n",
            "Epoch 83/300\n",
            "391/391 [==============================] - ETA: 0s - loss: 0.8729 - accuracy: 0.8316WARNING:tensorflow:Can save best model only with val_acc available, skipping.\n"
          ]
        },
        {
          "name": "stderr",
          "output_type": "stream",
          "text": [
            "WARNING:tensorflow:Can save best model only with val_acc available, skipping.\n"
          ]
        },
        {
          "name": "stdout",
          "output_type": "stream",
          "text": [
            "391/391 [==============================] - 37s 94ms/step - loss: 0.8729 - accuracy: 0.8316 - val_loss: 1.7485 - val_accuracy: 0.6330 - lr: 1.0000e-04\n",
            "Learning rate:  0.0001\n",
            "Epoch 84/300\n",
            "391/391 [==============================] - ETA: 0s - loss: 0.8498 - accuracy: 0.8399WARNING:tensorflow:Can save best model only with val_acc available, skipping.\n"
          ]
        },
        {
          "name": "stderr",
          "output_type": "stream",
          "text": [
            "WARNING:tensorflow:Can save best model only with val_acc available, skipping.\n"
          ]
        },
        {
          "name": "stdout",
          "output_type": "stream",
          "text": [
            "391/391 [==============================] - 37s 95ms/step - loss: 0.8498 - accuracy: 0.8399 - val_loss: 1.7289 - val_accuracy: 0.6334 - lr: 1.0000e-04\n",
            "Learning rate:  0.0001\n",
            "Epoch 85/300\n",
            "391/391 [==============================] - ETA: 0s - loss: 0.8328 - accuracy: 0.8458WARNING:tensorflow:Can save best model only with val_acc available, skipping.\n"
          ]
        },
        {
          "name": "stderr",
          "output_type": "stream",
          "text": [
            "WARNING:tensorflow:Can save best model only with val_acc available, skipping.\n"
          ]
        },
        {
          "name": "stdout",
          "output_type": "stream",
          "text": [
            "391/391 [==============================] - 36s 92ms/step - loss: 0.8328 - accuracy: 0.8458 - val_loss: 1.7705 - val_accuracy: 0.6335 - lr: 1.0000e-04\n",
            "Learning rate:  0.0001\n",
            "Epoch 86/300\n",
            "391/391 [==============================] - ETA: 0s - loss: 0.8212 - accuracy: 0.8484WARNING:tensorflow:Can save best model only with val_acc available, skipping.\n"
          ]
        },
        {
          "name": "stderr",
          "output_type": "stream",
          "text": [
            "WARNING:tensorflow:Can save best model only with val_acc available, skipping.\n"
          ]
        },
        {
          "name": "stdout",
          "output_type": "stream",
          "text": [
            "391/391 [==============================] - 37s 95ms/step - loss: 0.8212 - accuracy: 0.8484 - val_loss: 1.7644 - val_accuracy: 0.6333 - lr: 1.0000e-04\n",
            "Learning rate:  0.0001\n",
            "Epoch 87/300\n",
            "391/391 [==============================] - ETA: 0s - loss: 0.8161 - accuracy: 0.8498WARNING:tensorflow:Can save best model only with val_acc available, skipping.\n"
          ]
        },
        {
          "name": "stderr",
          "output_type": "stream",
          "text": [
            "WARNING:tensorflow:Can save best model only with val_acc available, skipping.\n"
          ]
        },
        {
          "name": "stdout",
          "output_type": "stream",
          "text": [
            "391/391 [==============================] - 36s 92ms/step - loss: 0.8161 - accuracy: 0.8498 - val_loss: 1.7614 - val_accuracy: 0.6338 - lr: 1.0000e-04\n",
            "Learning rate:  0.0001\n",
            "Epoch 88/300\n",
            "391/391 [==============================] - ETA: 0s - loss: 0.7956 - accuracy: 0.8545WARNING:tensorflow:Can save best model only with val_acc available, skipping.\n"
          ]
        },
        {
          "name": "stderr",
          "output_type": "stream",
          "text": [
            "WARNING:tensorflow:Can save best model only with val_acc available, skipping.\n"
          ]
        },
        {
          "name": "stdout",
          "output_type": "stream",
          "text": [
            "391/391 [==============================] - 37s 94ms/step - loss: 0.7956 - accuracy: 0.8545 - val_loss: 1.7690 - val_accuracy: 0.6345 - lr: 1.0000e-04\n",
            "Learning rate:  0.0001\n",
            "Epoch 89/300\n",
            "391/391 [==============================] - ETA: 0s - loss: 0.8002 - accuracy: 0.8555WARNING:tensorflow:Can save best model only with val_acc available, skipping.\n"
          ]
        },
        {
          "name": "stderr",
          "output_type": "stream",
          "text": [
            "WARNING:tensorflow:Can save best model only with val_acc available, skipping.\n"
          ]
        },
        {
          "name": "stdout",
          "output_type": "stream",
          "text": [
            "391/391 [==============================] - 37s 95ms/step - loss: 0.8002 - accuracy: 0.8555 - val_loss: 1.8002 - val_accuracy: 0.6312 - lr: 3.1623e-05\n",
            "Learning rate:  0.0001\n",
            "Epoch 90/300\n",
            "391/391 [==============================] - ETA: 0s - loss: 0.7865 - accuracy: 0.8563WARNING:tensorflow:Can save best model only with val_acc available, skipping.\n"
          ]
        },
        {
          "name": "stderr",
          "output_type": "stream",
          "text": [
            "WARNING:tensorflow:Can save best model only with val_acc available, skipping.\n"
          ]
        },
        {
          "name": "stdout",
          "output_type": "stream",
          "text": [
            "391/391 [==============================] - 36s 92ms/step - loss: 0.7865 - accuracy: 0.8563 - val_loss: 1.7671 - val_accuracy: 0.6340 - lr: 1.0000e-04\n",
            "Learning rate:  0.0001\n",
            "Epoch 91/300\n",
            "391/391 [==============================] - ETA: 0s - loss: 0.7827 - accuracy: 0.8584WARNING:tensorflow:Can save best model only with val_acc available, skipping.\n"
          ]
        },
        {
          "name": "stderr",
          "output_type": "stream",
          "text": [
            "WARNING:tensorflow:Can save best model only with val_acc available, skipping.\n"
          ]
        },
        {
          "name": "stdout",
          "output_type": "stream",
          "text": [
            "391/391 [==============================] - 37s 95ms/step - loss: 0.7827 - accuracy: 0.8584 - val_loss: 1.7556 - val_accuracy: 0.6384 - lr: 1.0000e-04\n",
            "Learning rate:  0.0001\n",
            "Epoch 92/300\n",
            "391/391 [==============================] - ETA: 0s - loss: 0.7759 - accuracy: 0.8580WARNING:tensorflow:Can save best model only with val_acc available, skipping.\n"
          ]
        },
        {
          "name": "stderr",
          "output_type": "stream",
          "text": [
            "WARNING:tensorflow:Can save best model only with val_acc available, skipping.\n"
          ]
        },
        {
          "name": "stdout",
          "output_type": "stream",
          "text": [
            "391/391 [==============================] - 37s 94ms/step - loss: 0.7759 - accuracy: 0.8580 - val_loss: 1.7835 - val_accuracy: 0.6324 - lr: 1.0000e-04\n",
            "Learning rate:  0.0001\n",
            "Epoch 93/300\n",
            "391/391 [==============================] - ETA: 0s - loss: 0.7683 - accuracy: 0.8618WARNING:tensorflow:Can save best model only with val_acc available, skipping.\n"
          ]
        },
        {
          "name": "stderr",
          "output_type": "stream",
          "text": [
            "WARNING:tensorflow:Can save best model only with val_acc available, skipping.\n"
          ]
        },
        {
          "name": "stdout",
          "output_type": "stream",
          "text": [
            "391/391 [==============================] - 36s 93ms/step - loss: 0.7683 - accuracy: 0.8618 - val_loss: 1.7881 - val_accuracy: 0.6367 - lr: 1.0000e-04\n",
            "Learning rate:  0.0001\n",
            "Epoch 94/300\n",
            "391/391 [==============================] - ETA: 0s - loss: 0.7610 - accuracy: 0.8660WARNING:tensorflow:Can save best model only with val_acc available, skipping.\n"
          ]
        },
        {
          "name": "stderr",
          "output_type": "stream",
          "text": [
            "WARNING:tensorflow:Can save best model only with val_acc available, skipping.\n"
          ]
        },
        {
          "name": "stdout",
          "output_type": "stream",
          "text": [
            "391/391 [==============================] - 38s 97ms/step - loss: 0.7610 - accuracy: 0.8660 - val_loss: 1.8136 - val_accuracy: 0.6315 - lr: 3.1623e-05\n",
            "Learning rate:  0.0001\n",
            "Epoch 95/300\n",
            "391/391 [==============================] - ETA: 0s - loss: 0.7608 - accuracy: 0.8618WARNING:tensorflow:Can save best model only with val_acc available, skipping.\n"
          ]
        },
        {
          "name": "stderr",
          "output_type": "stream",
          "text": [
            "WARNING:tensorflow:Can save best model only with val_acc available, skipping.\n"
          ]
        },
        {
          "name": "stdout",
          "output_type": "stream",
          "text": [
            "391/391 [==============================] - 37s 94ms/step - loss: 0.7608 - accuracy: 0.8618 - val_loss: 1.7897 - val_accuracy: 0.6341 - lr: 1.0000e-04\n",
            "Learning rate:  0.0001\n",
            "Epoch 96/300\n",
            "391/391 [==============================] - ETA: 0s - loss: 0.7527 - accuracy: 0.8651WARNING:tensorflow:Can save best model only with val_acc available, skipping.\n"
          ]
        },
        {
          "name": "stderr",
          "output_type": "stream",
          "text": [
            "WARNING:tensorflow:Can save best model only with val_acc available, skipping.\n"
          ]
        },
        {
          "name": "stdout",
          "output_type": "stream",
          "text": [
            "391/391 [==============================] - 36s 91ms/step - loss: 0.7527 - accuracy: 0.8651 - val_loss: 1.8072 - val_accuracy: 0.6330 - lr: 1.0000e-04\n",
            "Learning rate:  0.0001\n",
            "Epoch 97/300\n",
            "391/391 [==============================] - ETA: 0s - loss: 0.7487 - accuracy: 0.8653WARNING:tensorflow:Can save best model only with val_acc available, skipping.\n"
          ]
        },
        {
          "name": "stderr",
          "output_type": "stream",
          "text": [
            "WARNING:tensorflow:Can save best model only with val_acc available, skipping.\n"
          ]
        },
        {
          "name": "stdout",
          "output_type": "stream",
          "text": [
            "391/391 [==============================] - 35s 89ms/step - loss: 0.7487 - accuracy: 0.8653 - val_loss: 1.7951 - val_accuracy: 0.6310 - lr: 1.0000e-04\n",
            "Learning rate:  0.0001\n",
            "Epoch 98/300\n",
            "391/391 [==============================] - ETA: 0s - loss: 0.7454 - accuracy: 0.8651WARNING:tensorflow:Can save best model only with val_acc available, skipping.\n"
          ]
        },
        {
          "name": "stderr",
          "output_type": "stream",
          "text": [
            "WARNING:tensorflow:Can save best model only with val_acc available, skipping.\n"
          ]
        },
        {
          "name": "stdout",
          "output_type": "stream",
          "text": [
            "391/391 [==============================] - 35s 89ms/step - loss: 0.7454 - accuracy: 0.8651 - val_loss: 1.8405 - val_accuracy: 0.6288 - lr: 1.0000e-04\n",
            "Learning rate:  0.0001\n",
            "Epoch 99/300\n",
            "391/391 [==============================] - ETA: 0s - loss: 0.7386 - accuracy: 0.8683WARNING:tensorflow:Can save best model only with val_acc available, skipping.\n"
          ]
        },
        {
          "name": "stderr",
          "output_type": "stream",
          "text": [
            "WARNING:tensorflow:Can save best model only with val_acc available, skipping.\n"
          ]
        },
        {
          "name": "stdout",
          "output_type": "stream",
          "text": [
            "391/391 [==============================] - 37s 94ms/step - loss: 0.7386 - accuracy: 0.8683 - val_loss: 1.8043 - val_accuracy: 0.6336 - lr: 3.1623e-05\n",
            "Learning rate:  0.0001\n",
            "Epoch 100/300\n",
            "391/391 [==============================] - ETA: 0s - loss: 0.7336 - accuracy: 0.8676WARNING:tensorflow:Can save best model only with val_acc available, skipping.\n"
          ]
        },
        {
          "name": "stderr",
          "output_type": "stream",
          "text": [
            "WARNING:tensorflow:Can save best model only with val_acc available, skipping.\n"
          ]
        },
        {
          "name": "stdout",
          "output_type": "stream",
          "text": [
            "391/391 [==============================] - 37s 94ms/step - loss: 0.7336 - accuracy: 0.8676 - val_loss: 1.8074 - val_accuracy: 0.6309 - lr: 1.0000e-04\n",
            "Learning rate:  0.0001\n",
            "Epoch 101/300\n",
            "391/391 [==============================] - ETA: 0s - loss: 0.7301 - accuracy: 0.8696WARNING:tensorflow:Can save best model only with val_acc available, skipping.\n"
          ]
        },
        {
          "name": "stderr",
          "output_type": "stream",
          "text": [
            "WARNING:tensorflow:Can save best model only with val_acc available, skipping.\n"
          ]
        },
        {
          "name": "stdout",
          "output_type": "stream",
          "text": [
            "391/391 [==============================] - 37s 94ms/step - loss: 0.7301 - accuracy: 0.8696 - val_loss: 1.7994 - val_accuracy: 0.6341 - lr: 1.0000e-04\n",
            "Learning rate:  0.0001\n",
            "Epoch 102/300\n",
            "391/391 [==============================] - ETA: 0s - loss: 0.7237 - accuracy: 0.8699WARNING:tensorflow:Can save best model only with val_acc available, skipping.\n"
          ]
        },
        {
          "name": "stderr",
          "output_type": "stream",
          "text": [
            "WARNING:tensorflow:Can save best model only with val_acc available, skipping.\n"
          ]
        },
        {
          "name": "stdout",
          "output_type": "stream",
          "text": [
            "391/391 [==============================] - 37s 94ms/step - loss: 0.7237 - accuracy: 0.8699 - val_loss: 1.8237 - val_accuracy: 0.6319 - lr: 1.0000e-04\n",
            "Learning rate:  0.0001\n",
            "Epoch 103/300\n",
            "391/391 [==============================] - ETA: 0s - loss: 0.7218 - accuracy: 0.8722WARNING:tensorflow:Can save best model only with val_acc available, skipping.\n"
          ]
        },
        {
          "name": "stderr",
          "output_type": "stream",
          "text": [
            "WARNING:tensorflow:Can save best model only with val_acc available, skipping.\n"
          ]
        },
        {
          "name": "stdout",
          "output_type": "stream",
          "text": [
            "391/391 [==============================] - 36s 93ms/step - loss: 0.7218 - accuracy: 0.8722 - val_loss: 1.8088 - val_accuracy: 0.6364 - lr: 1.0000e-04\n",
            "Learning rate:  0.0001\n",
            "Epoch 104/300\n",
            "391/391 [==============================] - ETA: 0s - loss: 0.7194 - accuracy: 0.8721WARNING:tensorflow:Can save best model only with val_acc available, skipping.\n"
          ]
        },
        {
          "name": "stderr",
          "output_type": "stream",
          "text": [
            "WARNING:tensorflow:Can save best model only with val_acc available, skipping.\n"
          ]
        },
        {
          "name": "stdout",
          "output_type": "stream",
          "text": [
            "391/391 [==============================] - 38s 97ms/step - loss: 0.7194 - accuracy: 0.8721 - val_loss: 1.8114 - val_accuracy: 0.6358 - lr: 3.1623e-05\n",
            "Learning rate:  0.0001\n",
            "Epoch 105/300\n",
            "391/391 [==============================] - ETA: 0s - loss: 0.7133 - accuracy: 0.8734WARNING:tensorflow:Can save best model only with val_acc available, skipping.\n"
          ]
        },
        {
          "name": "stderr",
          "output_type": "stream",
          "text": [
            "WARNING:tensorflow:Can save best model only with val_acc available, skipping.\n"
          ]
        },
        {
          "name": "stdout",
          "output_type": "stream",
          "text": [
            "391/391 [==============================] - 37s 95ms/step - loss: 0.7133 - accuracy: 0.8734 - val_loss: 1.8070 - val_accuracy: 0.6328 - lr: 1.0000e-04\n",
            "Learning rate:  0.0001\n",
            "Epoch 106/300\n",
            "391/391 [==============================] - ETA: 0s - loss: 0.7101 - accuracy: 0.8741WARNING:tensorflow:Can save best model only with val_acc available, skipping.\n"
          ]
        },
        {
          "name": "stderr",
          "output_type": "stream",
          "text": [
            "WARNING:tensorflow:Can save best model only with val_acc available, skipping.\n"
          ]
        },
        {
          "name": "stdout",
          "output_type": "stream",
          "text": [
            "391/391 [==============================] - 37s 95ms/step - loss: 0.7101 - accuracy: 0.8741 - val_loss: 1.8293 - val_accuracy: 0.6329 - lr: 1.0000e-04\n",
            "Learning rate:  0.0001\n",
            "Epoch 107/300\n",
            "391/391 [==============================] - ETA: 0s - loss: 0.7073 - accuracy: 0.8732WARNING:tensorflow:Can save best model only with val_acc available, skipping.\n"
          ]
        },
        {
          "name": "stderr",
          "output_type": "stream",
          "text": [
            "WARNING:tensorflow:Can save best model only with val_acc available, skipping.\n"
          ]
        },
        {
          "name": "stdout",
          "output_type": "stream",
          "text": [
            "391/391 [==============================] - 37s 95ms/step - loss: 0.7073 - accuracy: 0.8732 - val_loss: 1.8309 - val_accuracy: 0.6310 - lr: 1.0000e-04\n",
            "Learning rate:  0.0001\n",
            "Epoch 108/300\n",
            "391/391 [==============================] - ETA: 0s - loss: 0.7012 - accuracy: 0.8761WARNING:tensorflow:Can save best model only with val_acc available, skipping.\n"
          ]
        },
        {
          "name": "stderr",
          "output_type": "stream",
          "text": [
            "WARNING:tensorflow:Can save best model only with val_acc available, skipping.\n"
          ]
        },
        {
          "name": "stdout",
          "output_type": "stream",
          "text": [
            "391/391 [==============================] - 37s 94ms/step - loss: 0.7012 - accuracy: 0.8761 - val_loss: 1.8252 - val_accuracy: 0.6331 - lr: 1.0000e-04\n",
            "Learning rate:  0.0001\n",
            "Epoch 109/300\n",
            "391/391 [==============================] - ETA: 0s - loss: 0.7025 - accuracy: 0.8737WARNING:tensorflow:Can save best model only with val_acc available, skipping.\n"
          ]
        },
        {
          "name": "stderr",
          "output_type": "stream",
          "text": [
            "WARNING:tensorflow:Can save best model only with val_acc available, skipping.\n"
          ]
        },
        {
          "name": "stdout",
          "output_type": "stream",
          "text": [
            "391/391 [==============================] - 37s 95ms/step - loss: 0.7025 - accuracy: 0.8737 - val_loss: 1.8754 - val_accuracy: 0.6307 - lr: 3.1623e-05\n",
            "Learning rate:  0.0001\n",
            "Epoch 110/300\n",
            "391/391 [==============================] - ETA: 0s - loss: 0.6960 - accuracy: 0.8761WARNING:tensorflow:Can save best model only with val_acc available, skipping.\n"
          ]
        },
        {
          "name": "stderr",
          "output_type": "stream",
          "text": [
            "WARNING:tensorflow:Can save best model only with val_acc available, skipping.\n"
          ]
        },
        {
          "name": "stdout",
          "output_type": "stream",
          "text": [
            "391/391 [==============================] - 37s 95ms/step - loss: 0.6960 - accuracy: 0.8761 - val_loss: 1.8112 - val_accuracy: 0.6385 - lr: 1.0000e-04\n",
            "Learning rate:  0.0001\n",
            "Epoch 111/300\n",
            "391/391 [==============================] - ETA: 0s - loss: 0.6998 - accuracy: 0.8753WARNING:tensorflow:Can save best model only with val_acc available, skipping.\n"
          ]
        },
        {
          "name": "stderr",
          "output_type": "stream",
          "text": [
            "WARNING:tensorflow:Can save best model only with val_acc available, skipping.\n"
          ]
        },
        {
          "name": "stdout",
          "output_type": "stream",
          "text": [
            "391/391 [==============================] - 36s 93ms/step - loss: 0.6998 - accuracy: 0.8753 - val_loss: 1.8215 - val_accuracy: 0.6345 - lr: 1.0000e-04\n",
            "Learning rate:  0.0001\n",
            "Epoch 112/300\n",
            "391/391 [==============================] - ETA: 0s - loss: 0.6878 - accuracy: 0.8780WARNING:tensorflow:Can save best model only with val_acc available, skipping.\n"
          ]
        },
        {
          "name": "stderr",
          "output_type": "stream",
          "text": [
            "WARNING:tensorflow:Can save best model only with val_acc available, skipping.\n"
          ]
        },
        {
          "name": "stdout",
          "output_type": "stream",
          "text": [
            "391/391 [==============================] - 37s 94ms/step - loss: 0.6878 - accuracy: 0.8780 - val_loss: 1.8268 - val_accuracy: 0.6353 - lr: 1.0000e-04\n",
            "Learning rate:  0.0001\n",
            "Epoch 113/300\n",
            "391/391 [==============================] - ETA: 0s - loss: 0.6872 - accuracy: 0.8786WARNING:tensorflow:Can save best model only with val_acc available, skipping.\n"
          ]
        },
        {
          "name": "stderr",
          "output_type": "stream",
          "text": [
            "WARNING:tensorflow:Can save best model only with val_acc available, skipping.\n"
          ]
        },
        {
          "name": "stdout",
          "output_type": "stream",
          "text": [
            "391/391 [==============================] - 36s 93ms/step - loss: 0.6872 - accuracy: 0.8786 - val_loss: 1.8224 - val_accuracy: 0.6354 - lr: 1.0000e-04\n",
            "Learning rate:  0.0001\n",
            "Epoch 114/300\n",
            "391/391 [==============================] - ETA: 0s - loss: 0.6844 - accuracy: 0.8781WARNING:tensorflow:Can save best model only with val_acc available, skipping.\n"
          ]
        },
        {
          "name": "stderr",
          "output_type": "stream",
          "text": [
            "WARNING:tensorflow:Can save best model only with val_acc available, skipping.\n"
          ]
        },
        {
          "name": "stdout",
          "output_type": "stream",
          "text": [
            "391/391 [==============================] - 37s 94ms/step - loss: 0.6844 - accuracy: 0.8781 - val_loss: 1.8407 - val_accuracy: 0.6351 - lr: 3.1623e-05\n",
            "Learning rate:  0.0001\n",
            "Epoch 115/300\n",
            "391/391 [==============================] - ETA: 0s - loss: 0.6801 - accuracy: 0.8792WARNING:tensorflow:Can save best model only with val_acc available, skipping.\n"
          ]
        },
        {
          "name": "stderr",
          "output_type": "stream",
          "text": [
            "WARNING:tensorflow:Can save best model only with val_acc available, skipping.\n"
          ]
        },
        {
          "name": "stdout",
          "output_type": "stream",
          "text": [
            "391/391 [==============================] - 37s 94ms/step - loss: 0.6801 - accuracy: 0.8792 - val_loss: 1.8329 - val_accuracy: 0.6352 - lr: 1.0000e-04\n",
            "Learning rate:  0.0001\n",
            "Epoch 116/300\n",
            "391/391 [==============================] - ETA: 0s - loss: 0.6746 - accuracy: 0.8817WARNING:tensorflow:Can save best model only with val_acc available, skipping.\n"
          ]
        },
        {
          "name": "stderr",
          "output_type": "stream",
          "text": [
            "WARNING:tensorflow:Can save best model only with val_acc available, skipping.\n"
          ]
        },
        {
          "name": "stdout",
          "output_type": "stream",
          "text": [
            "391/391 [==============================] - 36s 93ms/step - loss: 0.6746 - accuracy: 0.8817 - val_loss: 1.8374 - val_accuracy: 0.6328 - lr: 1.0000e-04\n",
            "Learning rate:  0.0001\n",
            "Epoch 117/300\n",
            "391/391 [==============================] - ETA: 0s - loss: 0.6712 - accuracy: 0.8806WARNING:tensorflow:Can save best model only with val_acc available, skipping.\n"
          ]
        },
        {
          "name": "stderr",
          "output_type": "stream",
          "text": [
            "WARNING:tensorflow:Can save best model only with val_acc available, skipping.\n"
          ]
        },
        {
          "name": "stdout",
          "output_type": "stream",
          "text": [
            "391/391 [==============================] - 37s 95ms/step - loss: 0.6712 - accuracy: 0.8806 - val_loss: 1.8691 - val_accuracy: 0.6287 - lr: 1.0000e-04\n",
            "Learning rate:  0.0001\n",
            "Epoch 118/300\n",
            "391/391 [==============================] - ETA: 0s - loss: 0.6699 - accuracy: 0.8806WARNING:tensorflow:Can save best model only with val_acc available, skipping.\n"
          ]
        },
        {
          "name": "stderr",
          "output_type": "stream",
          "text": [
            "WARNING:tensorflow:Can save best model only with val_acc available, skipping.\n"
          ]
        },
        {
          "name": "stdout",
          "output_type": "stream",
          "text": [
            "391/391 [==============================] - 37s 94ms/step - loss: 0.6699 - accuracy: 0.8806 - val_loss: 1.8676 - val_accuracy: 0.6295 - lr: 1.0000e-04\n",
            "Learning rate:  0.0001\n",
            "Epoch 119/300\n",
            "391/391 [==============================] - ETA: 0s - loss: 0.6711 - accuracy: 0.8809WARNING:tensorflow:Can save best model only with val_acc available, skipping.\n"
          ]
        },
        {
          "name": "stderr",
          "output_type": "stream",
          "text": [
            "WARNING:tensorflow:Can save best model only with val_acc available, skipping.\n"
          ]
        },
        {
          "name": "stdout",
          "output_type": "stream",
          "text": [
            "391/391 [==============================] - 37s 93ms/step - loss: 0.6711 - accuracy: 0.8809 - val_loss: 1.8694 - val_accuracy: 0.6337 - lr: 3.1623e-05\n",
            "Learning rate:  0.0001\n",
            "Epoch 120/300\n",
            "391/391 [==============================] - ETA: 0s - loss: 0.6651 - accuracy: 0.8822WARNING:tensorflow:Can save best model only with val_acc available, skipping.\n"
          ]
        },
        {
          "name": "stderr",
          "output_type": "stream",
          "text": [
            "WARNING:tensorflow:Can save best model only with val_acc available, skipping.\n"
          ]
        },
        {
          "name": "stdout",
          "output_type": "stream",
          "text": [
            "391/391 [==============================] - 37s 94ms/step - loss: 0.6651 - accuracy: 0.8822 - val_loss: 1.8407 - val_accuracy: 0.6356 - lr: 1.0000e-04\n",
            "Learning rate:  0.0001\n",
            "Epoch 121/300\n",
            "391/391 [==============================] - ETA: 0s - loss: 0.6657 - accuracy: 0.8824WARNING:tensorflow:Can save best model only with val_acc available, skipping.\n"
          ]
        },
        {
          "name": "stderr",
          "output_type": "stream",
          "text": [
            "WARNING:tensorflow:Can save best model only with val_acc available, skipping.\n"
          ]
        },
        {
          "name": "stdout",
          "output_type": "stream",
          "text": [
            "391/391 [==============================] - 36s 93ms/step - loss: 0.6657 - accuracy: 0.8824 - val_loss: 1.8525 - val_accuracy: 0.6347 - lr: 1.0000e-04\n",
            "Learning rate:  1e-05\n",
            "Epoch 122/300\n",
            "391/391 [==============================] - ETA: 0s - loss: 0.6476 - accuracy: 0.8891WARNING:tensorflow:Can save best model only with val_acc available, skipping.\n"
          ]
        },
        {
          "name": "stderr",
          "output_type": "stream",
          "text": [
            "WARNING:tensorflow:Can save best model only with val_acc available, skipping.\n"
          ]
        },
        {
          "name": "stdout",
          "output_type": "stream",
          "text": [
            "391/391 [==============================] - 37s 95ms/step - loss: 0.6476 - accuracy: 0.8891 - val_loss: 1.8416 - val_accuracy: 0.6361 - lr: 1.0000e-05\n",
            "Learning rate:  1e-05\n",
            "Epoch 123/300\n",
            "391/391 [==============================] - ETA: 0s - loss: 0.6446 - accuracy: 0.8904WARNING:tensorflow:Can save best model only with val_acc available, skipping.\n"
          ]
        },
        {
          "name": "stderr",
          "output_type": "stream",
          "text": [
            "WARNING:tensorflow:Can save best model only with val_acc available, skipping.\n"
          ]
        },
        {
          "name": "stdout",
          "output_type": "stream",
          "text": [
            "391/391 [==============================] - 37s 94ms/step - loss: 0.6446 - accuracy: 0.8904 - val_loss: 1.8437 - val_accuracy: 0.6375 - lr: 1.0000e-05\n",
            "Learning rate:  1e-05\n",
            "Epoch 124/300\n",
            "391/391 [==============================] - ETA: 0s - loss: 0.6370 - accuracy: 0.8921WARNING:tensorflow:Can save best model only with val_acc available, skipping.\n"
          ]
        },
        {
          "name": "stderr",
          "output_type": "stream",
          "text": [
            "WARNING:tensorflow:Can save best model only with val_acc available, skipping.\n"
          ]
        },
        {
          "name": "stdout",
          "output_type": "stream",
          "text": [
            "391/391 [==============================] - 36s 92ms/step - loss: 0.6370 - accuracy: 0.8921 - val_loss: 1.8404 - val_accuracy: 0.6375 - lr: 3.1623e-06\n",
            "Learning rate:  1e-05\n",
            "Epoch 125/300\n",
            "391/391 [==============================] - ETA: 0s - loss: 0.6364 - accuracy: 0.8933WARNING:tensorflow:Can save best model only with val_acc available, skipping.\n"
          ]
        },
        {
          "name": "stderr",
          "output_type": "stream",
          "text": [
            "WARNING:tensorflow:Can save best model only with val_acc available, skipping.\n"
          ]
        },
        {
          "name": "stdout",
          "output_type": "stream",
          "text": [
            "391/391 [==============================] - 37s 94ms/step - loss: 0.6364 - accuracy: 0.8933 - val_loss: 1.8446 - val_accuracy: 0.6370 - lr: 1.0000e-05\n",
            "Learning rate:  1e-05\n",
            "Epoch 126/300\n",
            "391/391 [==============================] - ETA: 0s - loss: 0.6372 - accuracy: 0.8927WARNING:tensorflow:Can save best model only with val_acc available, skipping.\n"
          ]
        },
        {
          "name": "stderr",
          "output_type": "stream",
          "text": [
            "WARNING:tensorflow:Can save best model only with val_acc available, skipping.\n"
          ]
        },
        {
          "name": "stdout",
          "output_type": "stream",
          "text": [
            "391/391 [==============================] - 36s 93ms/step - loss: 0.6372 - accuracy: 0.8927 - val_loss: 1.8382 - val_accuracy: 0.6362 - lr: 1.0000e-05\n",
            "Learning rate:  1e-05\n",
            "Epoch 127/300\n",
            "391/391 [==============================] - ETA: 0s - loss: 0.6377 - accuracy: 0.8925WARNING:tensorflow:Can save best model only with val_acc available, skipping.\n"
          ]
        },
        {
          "name": "stderr",
          "output_type": "stream",
          "text": [
            "WARNING:tensorflow:Can save best model only with val_acc available, skipping.\n"
          ]
        },
        {
          "name": "stdout",
          "output_type": "stream",
          "text": [
            "391/391 [==============================] - 37s 93ms/step - loss: 0.6377 - accuracy: 0.8925 - val_loss: 1.8378 - val_accuracy: 0.6351 - lr: 1.0000e-05\n",
            "Learning rate:  1e-05\n",
            "Epoch 128/300\n",
            "391/391 [==============================] - ETA: 0s - loss: 0.6350 - accuracy: 0.8928WARNING:tensorflow:Can save best model only with val_acc available, skipping.\n"
          ]
        },
        {
          "name": "stderr",
          "output_type": "stream",
          "text": [
            "WARNING:tensorflow:Can save best model only with val_acc available, skipping.\n"
          ]
        },
        {
          "name": "stdout",
          "output_type": "stream",
          "text": [
            "391/391 [==============================] - 37s 95ms/step - loss: 0.6350 - accuracy: 0.8928 - val_loss: 1.8453 - val_accuracy: 0.6354 - lr: 1.0000e-05\n",
            "Learning rate:  1e-05\n",
            "Epoch 129/300\n",
            "391/391 [==============================] - ETA: 0s - loss: 0.6368 - accuracy: 0.8928WARNING:tensorflow:Can save best model only with val_acc available, skipping.\n"
          ]
        },
        {
          "name": "stderr",
          "output_type": "stream",
          "text": [
            "WARNING:tensorflow:Can save best model only with val_acc available, skipping.\n"
          ]
        },
        {
          "name": "stdout",
          "output_type": "stream",
          "text": [
            "391/391 [==============================] - 36s 93ms/step - loss: 0.6368 - accuracy: 0.8928 - val_loss: 1.8345 - val_accuracy: 0.6372 - lr: 3.1623e-06\n",
            "Learning rate:  1e-05\n",
            "Epoch 130/300\n",
            "391/391 [==============================] - ETA: 0s - loss: 0.6339 - accuracy: 0.8940WARNING:tensorflow:Can save best model only with val_acc available, skipping.\n"
          ]
        },
        {
          "name": "stderr",
          "output_type": "stream",
          "text": [
            "WARNING:tensorflow:Can save best model only with val_acc available, skipping.\n"
          ]
        },
        {
          "name": "stdout",
          "output_type": "stream",
          "text": [
            "391/391 [==============================] - 37s 95ms/step - loss: 0.6339 - accuracy: 0.8940 - val_loss: 1.8361 - val_accuracy: 0.6373 - lr: 1.0000e-05\n",
            "Learning rate:  1e-05\n",
            "Epoch 131/300\n",
            "391/391 [==============================] - ETA: 0s - loss: 0.6323 - accuracy: 0.8946WARNING:tensorflow:Can save best model only with val_acc available, skipping.\n"
          ]
        },
        {
          "name": "stderr",
          "output_type": "stream",
          "text": [
            "WARNING:tensorflow:Can save best model only with val_acc available, skipping.\n"
          ]
        },
        {
          "name": "stdout",
          "output_type": "stream",
          "text": [
            "391/391 [==============================] - 36s 93ms/step - loss: 0.6323 - accuracy: 0.8946 - val_loss: 1.8383 - val_accuracy: 0.6368 - lr: 1.0000e-05\n",
            "Learning rate:  1e-05\n",
            "Epoch 132/300\n",
            "391/391 [==============================] - ETA: 0s - loss: 0.6352 - accuracy: 0.8911WARNING:tensorflow:Can save best model only with val_acc available, skipping.\n"
          ]
        },
        {
          "name": "stderr",
          "output_type": "stream",
          "text": [
            "WARNING:tensorflow:Can save best model only with val_acc available, skipping.\n"
          ]
        },
        {
          "name": "stdout",
          "output_type": "stream",
          "text": [
            "391/391 [==============================] - 36s 92ms/step - loss: 0.6352 - accuracy: 0.8911 - val_loss: 1.8357 - val_accuracy: 0.6380 - lr: 1.0000e-05\n",
            "Learning rate:  1e-05\n",
            "Epoch 133/300\n",
            "391/391 [==============================] - ETA: 0s - loss: 0.6302 - accuracy: 0.8950WARNING:tensorflow:Can save best model only with val_acc available, skipping.\n"
          ]
        },
        {
          "name": "stderr",
          "output_type": "stream",
          "text": [
            "WARNING:tensorflow:Can save best model only with val_acc available, skipping.\n"
          ]
        },
        {
          "name": "stdout",
          "output_type": "stream",
          "text": [
            "391/391 [==============================] - 37s 94ms/step - loss: 0.6302 - accuracy: 0.8950 - val_loss: 1.8389 - val_accuracy: 0.6359 - lr: 1.0000e-05\n",
            "Learning rate:  1e-05\n",
            "Epoch 134/300\n",
            "391/391 [==============================] - ETA: 0s - loss: 0.6285 - accuracy: 0.8951WARNING:tensorflow:Can save best model only with val_acc available, skipping.\n"
          ]
        },
        {
          "name": "stderr",
          "output_type": "stream",
          "text": [
            "WARNING:tensorflow:Can save best model only with val_acc available, skipping.\n"
          ]
        },
        {
          "name": "stdout",
          "output_type": "stream",
          "text": [
            "391/391 [==============================] - 36s 93ms/step - loss: 0.6285 - accuracy: 0.8951 - val_loss: 1.8457 - val_accuracy: 0.6349 - lr: 3.1623e-06\n",
            "Learning rate:  1e-05\n",
            "Epoch 135/300\n",
            "391/391 [==============================] - ETA: 0s - loss: 0.6279 - accuracy: 0.8949WARNING:tensorflow:Can save best model only with val_acc available, skipping.\n"
          ]
        },
        {
          "name": "stderr",
          "output_type": "stream",
          "text": [
            "WARNING:tensorflow:Can save best model only with val_acc available, skipping.\n"
          ]
        },
        {
          "name": "stdout",
          "output_type": "stream",
          "text": [
            "391/391 [==============================] - 37s 94ms/step - loss: 0.6279 - accuracy: 0.8949 - val_loss: 1.8390 - val_accuracy: 0.6361 - lr: 1.0000e-05\n",
            "Learning rate:  1e-05\n",
            "Epoch 136/300\n",
            "391/391 [==============================] - ETA: 0s - loss: 0.6314 - accuracy: 0.8930WARNING:tensorflow:Can save best model only with val_acc available, skipping.\n"
          ]
        },
        {
          "name": "stderr",
          "output_type": "stream",
          "text": [
            "WARNING:tensorflow:Can save best model only with val_acc available, skipping.\n"
          ]
        },
        {
          "name": "stdout",
          "output_type": "stream",
          "text": [
            "391/391 [==============================] - 37s 94ms/step - loss: 0.6314 - accuracy: 0.8930 - val_loss: 1.8441 - val_accuracy: 0.6354 - lr: 1.0000e-05\n",
            "Learning rate:  1e-05\n",
            "Epoch 137/300\n",
            "391/391 [==============================] - ETA: 0s - loss: 0.6313 - accuracy: 0.8939WARNING:tensorflow:Can save best model only with val_acc available, skipping.\n"
          ]
        },
        {
          "name": "stderr",
          "output_type": "stream",
          "text": [
            "WARNING:tensorflow:Can save best model only with val_acc available, skipping.\n"
          ]
        },
        {
          "name": "stdout",
          "output_type": "stream",
          "text": [
            "391/391 [==============================] - 36s 92ms/step - loss: 0.6313 - accuracy: 0.8939 - val_loss: 1.8355 - val_accuracy: 0.6359 - lr: 1.0000e-05\n",
            "Learning rate:  1e-05\n",
            "Epoch 138/300\n",
            "391/391 [==============================] - ETA: 0s - loss: 0.6298 - accuracy: 0.8923WARNING:tensorflow:Can save best model only with val_acc available, skipping.\n"
          ]
        },
        {
          "name": "stderr",
          "output_type": "stream",
          "text": [
            "WARNING:tensorflow:Can save best model only with val_acc available, skipping.\n"
          ]
        },
        {
          "name": "stdout",
          "output_type": "stream",
          "text": [
            "391/391 [==============================] - 37s 94ms/step - loss: 0.6298 - accuracy: 0.8923 - val_loss: 1.8410 - val_accuracy: 0.6358 - lr: 1.0000e-05\n",
            "Learning rate:  1e-05\n",
            "Epoch 139/300\n",
            "391/391 [==============================] - ETA: 0s - loss: 0.6295 - accuracy: 0.8931WARNING:tensorflow:Can save best model only with val_acc available, skipping.\n"
          ]
        },
        {
          "name": "stderr",
          "output_type": "stream",
          "text": [
            "WARNING:tensorflow:Can save best model only with val_acc available, skipping.\n"
          ]
        },
        {
          "name": "stdout",
          "output_type": "stream",
          "text": [
            "391/391 [==============================] - 37s 95ms/step - loss: 0.6295 - accuracy: 0.8931 - val_loss: 1.8420 - val_accuracy: 0.6358 - lr: 3.1623e-06\n",
            "Learning rate:  1e-05\n",
            "Epoch 140/300\n",
            "391/391 [==============================] - ETA: 0s - loss: 0.6326 - accuracy: 0.8939WARNING:tensorflow:Can save best model only with val_acc available, skipping.\n"
          ]
        },
        {
          "name": "stderr",
          "output_type": "stream",
          "text": [
            "WARNING:tensorflow:Can save best model only with val_acc available, skipping.\n"
          ]
        },
        {
          "name": "stdout",
          "output_type": "stream",
          "text": [
            "391/391 [==============================] - 37s 95ms/step - loss: 0.6326 - accuracy: 0.8939 - val_loss: 1.8424 - val_accuracy: 0.6347 - lr: 1.0000e-05\n",
            "Learning rate:  1e-05\n",
            "Epoch 141/300\n",
            "391/391 [==============================] - ETA: 0s - loss: 0.6265 - accuracy: 0.8954WARNING:tensorflow:Can save best model only with val_acc available, skipping.\n"
          ]
        },
        {
          "name": "stderr",
          "output_type": "stream",
          "text": [
            "WARNING:tensorflow:Can save best model only with val_acc available, skipping.\n"
          ]
        },
        {
          "name": "stdout",
          "output_type": "stream",
          "text": [
            "391/391 [==============================] - 37s 94ms/step - loss: 0.6265 - accuracy: 0.8954 - val_loss: 1.8380 - val_accuracy: 0.6351 - lr: 1.0000e-05\n",
            "Learning rate:  1e-05\n",
            "Epoch 142/300\n",
            "391/391 [==============================] - ETA: 0s - loss: 0.6275 - accuracy: 0.8938WARNING:tensorflow:Can save best model only with val_acc available, skipping.\n"
          ]
        },
        {
          "name": "stderr",
          "output_type": "stream",
          "text": [
            "WARNING:tensorflow:Can save best model only with val_acc available, skipping.\n"
          ]
        },
        {
          "name": "stdout",
          "output_type": "stream",
          "text": [
            "391/391 [==============================] - 37s 93ms/step - loss: 0.6275 - accuracy: 0.8938 - val_loss: 1.8423 - val_accuracy: 0.6351 - lr: 1.0000e-05\n",
            "Learning rate:  1e-05\n",
            "Epoch 143/300\n",
            "391/391 [==============================] - ETA: 0s - loss: 0.6299 - accuracy: 0.8941WARNING:tensorflow:Can save best model only with val_acc available, skipping.\n"
          ]
        },
        {
          "name": "stderr",
          "output_type": "stream",
          "text": [
            "WARNING:tensorflow:Can save best model only with val_acc available, skipping.\n"
          ]
        },
        {
          "name": "stdout",
          "output_type": "stream",
          "text": [
            "391/391 [==============================] - 38s 97ms/step - loss: 0.6299 - accuracy: 0.8941 - val_loss: 1.8424 - val_accuracy: 0.6350 - lr: 1.0000e-05\n",
            "Learning rate:  1e-05\n",
            "Epoch 144/300\n",
            "391/391 [==============================] - ETA: 0s - loss: 0.6302 - accuracy: 0.8928WARNING:tensorflow:Can save best model only with val_acc available, skipping.\n"
          ]
        },
        {
          "name": "stderr",
          "output_type": "stream",
          "text": [
            "WARNING:tensorflow:Can save best model only with val_acc available, skipping.\n"
          ]
        },
        {
          "name": "stdout",
          "output_type": "stream",
          "text": [
            "391/391 [==============================] - 37s 95ms/step - loss: 0.6302 - accuracy: 0.8928 - val_loss: 1.8412 - val_accuracy: 0.6355 - lr: 3.1623e-06\n",
            "Learning rate:  1e-05\n",
            "Epoch 145/300\n",
            "391/391 [==============================] - ETA: 0s - loss: 0.6289 - accuracy: 0.8941WARNING:tensorflow:Can save best model only with val_acc available, skipping.\n"
          ]
        },
        {
          "name": "stderr",
          "output_type": "stream",
          "text": [
            "WARNING:tensorflow:Can save best model only with val_acc available, skipping.\n"
          ]
        },
        {
          "name": "stdout",
          "output_type": "stream",
          "text": [
            "391/391 [==============================] - 36s 93ms/step - loss: 0.6289 - accuracy: 0.8941 - val_loss: 1.8380 - val_accuracy: 0.6361 - lr: 1.0000e-05\n",
            "Learning rate:  1e-05\n",
            "Epoch 146/300\n",
            "391/391 [==============================] - ETA: 0s - loss: 0.6242 - accuracy: 0.8965WARNING:tensorflow:Can save best model only with val_acc available, skipping.\n"
          ]
        },
        {
          "name": "stderr",
          "output_type": "stream",
          "text": [
            "WARNING:tensorflow:Can save best model only with val_acc available, skipping.\n"
          ]
        },
        {
          "name": "stdout",
          "output_type": "stream",
          "text": [
            "391/391 [==============================] - 37s 94ms/step - loss: 0.6242 - accuracy: 0.8965 - val_loss: 1.8363 - val_accuracy: 0.6380 - lr: 1.0000e-05\n",
            "Learning rate:  1e-05\n",
            "Epoch 147/300\n",
            "391/391 [==============================] - ETA: 0s - loss: 0.6260 - accuracy: 0.8929WARNING:tensorflow:Can save best model only with val_acc available, skipping.\n"
          ]
        },
        {
          "name": "stderr",
          "output_type": "stream",
          "text": [
            "WARNING:tensorflow:Can save best model only with val_acc available, skipping.\n"
          ]
        },
        {
          "name": "stdout",
          "output_type": "stream",
          "text": [
            "391/391 [==============================] - 37s 94ms/step - loss: 0.6260 - accuracy: 0.8929 - val_loss: 1.8435 - val_accuracy: 0.6368 - lr: 1.0000e-05\n",
            "Learning rate:  1e-05\n",
            "Epoch 148/300\n",
            "391/391 [==============================] - ETA: 0s - loss: 0.6291 - accuracy: 0.8930WARNING:tensorflow:Can save best model only with val_acc available, skipping.\n"
          ]
        },
        {
          "name": "stderr",
          "output_type": "stream",
          "text": [
            "WARNING:tensorflow:Can save best model only with val_acc available, skipping.\n"
          ]
        },
        {
          "name": "stdout",
          "output_type": "stream",
          "text": [
            "391/391 [==============================] - 37s 94ms/step - loss: 0.6291 - accuracy: 0.8930 - val_loss: 1.8438 - val_accuracy: 0.6343 - lr: 1.0000e-05\n",
            "Learning rate:  1e-05\n",
            "Epoch 149/300\n",
            "391/391 [==============================] - ETA: 0s - loss: 0.6246 - accuracy: 0.8963WARNING:tensorflow:Can save best model only with val_acc available, skipping.\n"
          ]
        },
        {
          "name": "stderr",
          "output_type": "stream",
          "text": [
            "WARNING:tensorflow:Can save best model only with val_acc available, skipping.\n"
          ]
        },
        {
          "name": "stdout",
          "output_type": "stream",
          "text": [
            "391/391 [==============================] - 37s 94ms/step - loss: 0.6246 - accuracy: 0.8963 - val_loss: 1.8450 - val_accuracy: 0.6324 - lr: 3.1623e-06\n",
            "Learning rate:  1e-05\n",
            "Epoch 150/300\n",
            "391/391 [==============================] - ETA: 0s - loss: 0.6296 - accuracy: 0.8918WARNING:tensorflow:Can save best model only with val_acc available, skipping.\n"
          ]
        },
        {
          "name": "stderr",
          "output_type": "stream",
          "text": [
            "WARNING:tensorflow:Can save best model only with val_acc available, skipping.\n"
          ]
        },
        {
          "name": "stdout",
          "output_type": "stream",
          "text": [
            "391/391 [==============================] - 37s 93ms/step - loss: 0.6296 - accuracy: 0.8918 - val_loss: 1.8475 - val_accuracy: 0.6337 - lr: 1.0000e-05\n",
            "Learning rate:  1e-05\n",
            "Epoch 151/300\n",
            "391/391 [==============================] - ETA: 0s - loss: 0.6262 - accuracy: 0.8957WARNING:tensorflow:Can save best model only with val_acc available, skipping.\n"
          ]
        },
        {
          "name": "stderr",
          "output_type": "stream",
          "text": [
            "WARNING:tensorflow:Can save best model only with val_acc available, skipping.\n"
          ]
        },
        {
          "name": "stdout",
          "output_type": "stream",
          "text": [
            "391/391 [==============================] - 37s 95ms/step - loss: 0.6262 - accuracy: 0.8957 - val_loss: 1.8450 - val_accuracy: 0.6333 - lr: 1.0000e-05\n",
            "Learning rate:  1e-05\n",
            "Epoch 152/300\n",
            "391/391 [==============================] - ETA: 0s - loss: 0.6236 - accuracy: 0.8949WARNING:tensorflow:Can save best model only with val_acc available, skipping.\n"
          ]
        },
        {
          "name": "stderr",
          "output_type": "stream",
          "text": [
            "WARNING:tensorflow:Can save best model only with val_acc available, skipping.\n"
          ]
        },
        {
          "name": "stdout",
          "output_type": "stream",
          "text": [
            "391/391 [==============================] - 37s 94ms/step - loss: 0.6236 - accuracy: 0.8949 - val_loss: 1.8439 - val_accuracy: 0.6345 - lr: 1.0000e-05\n",
            "Learning rate:  1e-05\n",
            "Epoch 153/300\n",
            "391/391 [==============================] - ETA: 0s - loss: 0.6229 - accuracy: 0.8970WARNING:tensorflow:Can save best model only with val_acc available, skipping.\n"
          ]
        },
        {
          "name": "stderr",
          "output_type": "stream",
          "text": [
            "WARNING:tensorflow:Can save best model only with val_acc available, skipping.\n"
          ]
        },
        {
          "name": "stdout",
          "output_type": "stream",
          "text": [
            "391/391 [==============================] - 37s 94ms/step - loss: 0.6229 - accuracy: 0.8970 - val_loss: 1.8480 - val_accuracy: 0.6338 - lr: 1.0000e-05\n",
            "Learning rate:  1e-05\n",
            "Epoch 154/300\n",
            "391/391 [==============================] - ETA: 0s - loss: 0.6236 - accuracy: 0.8949WARNING:tensorflow:Can save best model only with val_acc available, skipping.\n"
          ]
        },
        {
          "name": "stderr",
          "output_type": "stream",
          "text": [
            "WARNING:tensorflow:Can save best model only with val_acc available, skipping.\n"
          ]
        },
        {
          "name": "stdout",
          "output_type": "stream",
          "text": [
            "391/391 [==============================] - 37s 94ms/step - loss: 0.6236 - accuracy: 0.8949 - val_loss: 1.8416 - val_accuracy: 0.6369 - lr: 3.1623e-06\n",
            "Learning rate:  1e-05\n",
            "Epoch 155/300\n",
            "391/391 [==============================] - ETA: 0s - loss: 0.6228 - accuracy: 0.8958WARNING:tensorflow:Can save best model only with val_acc available, skipping.\n"
          ]
        },
        {
          "name": "stderr",
          "output_type": "stream",
          "text": [
            "WARNING:tensorflow:Can save best model only with val_acc available, skipping.\n"
          ]
        },
        {
          "name": "stdout",
          "output_type": "stream",
          "text": [
            "391/391 [==============================] - 36s 93ms/step - loss: 0.6228 - accuracy: 0.8958 - val_loss: 1.8466 - val_accuracy: 0.6344 - lr: 1.0000e-05\n",
            "Learning rate:  1e-05\n",
            "Epoch 156/300\n",
            "391/391 [==============================] - ETA: 0s - loss: 0.6257 - accuracy: 0.8959WARNING:tensorflow:Can save best model only with val_acc available, skipping.\n"
          ]
        },
        {
          "name": "stderr",
          "output_type": "stream",
          "text": [
            "WARNING:tensorflow:Can save best model only with val_acc available, skipping.\n"
          ]
        },
        {
          "name": "stdout",
          "output_type": "stream",
          "text": [
            "391/391 [==============================] - 37s 93ms/step - loss: 0.6257 - accuracy: 0.8959 - val_loss: 1.8449 - val_accuracy: 0.6347 - lr: 1.0000e-05\n",
            "Learning rate:  1e-05\n",
            "Epoch 157/300\n",
            "391/391 [==============================] - ETA: 0s - loss: 0.6240 - accuracy: 0.8947WARNING:tensorflow:Can save best model only with val_acc available, skipping.\n"
          ]
        },
        {
          "name": "stderr",
          "output_type": "stream",
          "text": [
            "WARNING:tensorflow:Can save best model only with val_acc available, skipping.\n"
          ]
        },
        {
          "name": "stdout",
          "output_type": "stream",
          "text": [
            "391/391 [==============================] - 36s 93ms/step - loss: 0.6240 - accuracy: 0.8947 - val_loss: 1.8410 - val_accuracy: 0.6363 - lr: 1.0000e-05\n",
            "Learning rate:  1e-05\n",
            "Epoch 158/300\n",
            "391/391 [==============================] - ETA: 0s - loss: 0.6164 - accuracy: 0.8981WARNING:tensorflow:Can save best model only with val_acc available, skipping.\n"
          ]
        },
        {
          "name": "stderr",
          "output_type": "stream",
          "text": [
            "WARNING:tensorflow:Can save best model only with val_acc available, skipping.\n"
          ]
        },
        {
          "name": "stdout",
          "output_type": "stream",
          "text": [
            "391/391 [==============================] - 36s 93ms/step - loss: 0.6164 - accuracy: 0.8981 - val_loss: 1.8473 - val_accuracy: 0.6357 - lr: 1.0000e-05\n",
            "Learning rate:  1e-05\n",
            "Epoch 159/300\n",
            "391/391 [==============================] - ETA: 0s - loss: 0.6252 - accuracy: 0.8946WARNING:tensorflow:Can save best model only with val_acc available, skipping.\n"
          ]
        },
        {
          "name": "stderr",
          "output_type": "stream",
          "text": [
            "WARNING:tensorflow:Can save best model only with val_acc available, skipping.\n"
          ]
        },
        {
          "name": "stdout",
          "output_type": "stream",
          "text": [
            "391/391 [==============================] - 37s 94ms/step - loss: 0.6252 - accuracy: 0.8946 - val_loss: 1.8422 - val_accuracy: 0.6345 - lr: 3.1623e-06\n",
            "Learning rate:  1e-05\n",
            "Epoch 160/300\n",
            "391/391 [==============================] - ETA: 0s - loss: 0.6239 - accuracy: 0.8955WARNING:tensorflow:Can save best model only with val_acc available, skipping.\n"
          ]
        },
        {
          "name": "stderr",
          "output_type": "stream",
          "text": [
            "WARNING:tensorflow:Can save best model only with val_acc available, skipping.\n"
          ]
        },
        {
          "name": "stdout",
          "output_type": "stream",
          "text": [
            "391/391 [==============================] - 36s 93ms/step - loss: 0.6239 - accuracy: 0.8955 - val_loss: 1.8479 - val_accuracy: 0.6342 - lr: 1.0000e-05\n",
            "Learning rate:  1e-05\n",
            "Epoch 161/300\n",
            "391/391 [==============================] - ETA: 0s - loss: 0.6212 - accuracy: 0.8976WARNING:tensorflow:Can save best model only with val_acc available, skipping.\n"
          ]
        },
        {
          "name": "stderr",
          "output_type": "stream",
          "text": [
            "WARNING:tensorflow:Can save best model only with val_acc available, skipping.\n"
          ]
        },
        {
          "name": "stdout",
          "output_type": "stream",
          "text": [
            "391/391 [==============================] - 37s 96ms/step - loss: 0.6212 - accuracy: 0.8976 - val_loss: 1.8446 - val_accuracy: 0.6354 - lr: 1.0000e-05\n",
            "Learning rate:  1e-06\n",
            "Epoch 162/300\n",
            "391/391 [==============================] - ETA: 0s - loss: 0.6207 - accuracy: 0.8971WARNING:tensorflow:Can save best model only with val_acc available, skipping.\n"
          ]
        },
        {
          "name": "stderr",
          "output_type": "stream",
          "text": [
            "WARNING:tensorflow:Can save best model only with val_acc available, skipping.\n"
          ]
        },
        {
          "name": "stdout",
          "output_type": "stream",
          "text": [
            "391/391 [==============================] - 37s 94ms/step - loss: 0.6207 - accuracy: 0.8971 - val_loss: 1.8444 - val_accuracy: 0.6348 - lr: 1.0000e-06\n",
            "Learning rate:  1e-06\n",
            "Epoch 163/300\n",
            "391/391 [==============================] - ETA: 0s - loss: 0.6226 - accuracy: 0.8937WARNING:tensorflow:Can save best model only with val_acc available, skipping.\n"
          ]
        },
        {
          "name": "stderr",
          "output_type": "stream",
          "text": [
            "WARNING:tensorflow:Can save best model only with val_acc available, skipping.\n"
          ]
        },
        {
          "name": "stdout",
          "output_type": "stream",
          "text": [
            "391/391 [==============================] - 36s 93ms/step - loss: 0.6226 - accuracy: 0.8937 - val_loss: 1.8449 - val_accuracy: 0.6339 - lr: 1.0000e-06\n",
            "Learning rate:  1e-06\n",
            "Epoch 164/300\n",
            "391/391 [==============================] - ETA: 0s - loss: 0.6189 - accuracy: 0.8979WARNING:tensorflow:Can save best model only with val_acc available, skipping.\n"
          ]
        },
        {
          "name": "stderr",
          "output_type": "stream",
          "text": [
            "WARNING:tensorflow:Can save best model only with val_acc available, skipping.\n"
          ]
        },
        {
          "name": "stdout",
          "output_type": "stream",
          "text": [
            "391/391 [==============================] - 37s 94ms/step - loss: 0.6189 - accuracy: 0.8979 - val_loss: 1.8479 - val_accuracy: 0.6340 - lr: 5.0000e-07\n",
            "Learning rate:  1e-06\n",
            "Epoch 165/300\n",
            "391/391 [==============================] - ETA: 0s - loss: 0.6204 - accuracy: 0.8964WARNING:tensorflow:Can save best model only with val_acc available, skipping.\n"
          ]
        },
        {
          "name": "stderr",
          "output_type": "stream",
          "text": [
            "WARNING:tensorflow:Can save best model only with val_acc available, skipping.\n"
          ]
        },
        {
          "name": "stdout",
          "output_type": "stream",
          "text": [
            "391/391 [==============================] - 36s 93ms/step - loss: 0.6204 - accuracy: 0.8964 - val_loss: 1.8449 - val_accuracy: 0.6351 - lr: 1.0000e-06\n",
            "Learning rate:  1e-06\n",
            "Epoch 166/300\n",
            "391/391 [==============================] - ETA: 0s - loss: 0.6213 - accuracy: 0.8955WARNING:tensorflow:Can save best model only with val_acc available, skipping.\n"
          ]
        },
        {
          "name": "stderr",
          "output_type": "stream",
          "text": [
            "WARNING:tensorflow:Can save best model only with val_acc available, skipping.\n"
          ]
        },
        {
          "name": "stdout",
          "output_type": "stream",
          "text": [
            "391/391 [==============================] - 37s 94ms/step - loss: 0.6213 - accuracy: 0.8955 - val_loss: 1.8453 - val_accuracy: 0.6340 - lr: 1.0000e-06\n",
            "Learning rate:  1e-06\n",
            "Epoch 167/300\n",
            "391/391 [==============================] - ETA: 0s - loss: 0.6216 - accuracy: 0.8951WARNING:tensorflow:Can save best model only with val_acc available, skipping.\n"
          ]
        },
        {
          "name": "stderr",
          "output_type": "stream",
          "text": [
            "WARNING:tensorflow:Can save best model only with val_acc available, skipping.\n"
          ]
        },
        {
          "name": "stdout",
          "output_type": "stream",
          "text": [
            "391/391 [==============================] - 37s 94ms/step - loss: 0.6216 - accuracy: 0.8951 - val_loss: 1.8439 - val_accuracy: 0.6349 - lr: 1.0000e-06\n",
            "Learning rate:  1e-06\n",
            "Epoch 168/300\n",
            "391/391 [==============================] - ETA: 0s - loss: 0.6209 - accuracy: 0.8961WARNING:tensorflow:Can save best model only with val_acc available, skipping.\n"
          ]
        },
        {
          "name": "stderr",
          "output_type": "stream",
          "text": [
            "WARNING:tensorflow:Can save best model only with val_acc available, skipping.\n"
          ]
        },
        {
          "name": "stdout",
          "output_type": "stream",
          "text": [
            "391/391 [==============================] - 36s 92ms/step - loss: 0.6209 - accuracy: 0.8961 - val_loss: 1.8443 - val_accuracy: 0.6350 - lr: 1.0000e-06\n",
            "Learning rate:  1e-06\n",
            "Epoch 169/300\n",
            "391/391 [==============================] - ETA: 0s - loss: 0.6223 - accuracy: 0.8963WARNING:tensorflow:Can save best model only with val_acc available, skipping.\n"
          ]
        },
        {
          "name": "stderr",
          "output_type": "stream",
          "text": [
            "WARNING:tensorflow:Can save best model only with val_acc available, skipping.\n"
          ]
        },
        {
          "name": "stdout",
          "output_type": "stream",
          "text": [
            "391/391 [==============================] - 37s 94ms/step - loss: 0.6223 - accuracy: 0.8963 - val_loss: 1.8455 - val_accuracy: 0.6343 - lr: 5.0000e-07\n",
            "Learning rate:  1e-06\n",
            "Epoch 170/300\n",
            "391/391 [==============================] - ETA: 0s - loss: 0.6213 - accuracy: 0.8956WARNING:tensorflow:Can save best model only with val_acc available, skipping.\n"
          ]
        },
        {
          "name": "stderr",
          "output_type": "stream",
          "text": [
            "WARNING:tensorflow:Can save best model only with val_acc available, skipping.\n"
          ]
        },
        {
          "name": "stdout",
          "output_type": "stream",
          "text": [
            "391/391 [==============================] - 37s 94ms/step - loss: 0.6213 - accuracy: 0.8956 - val_loss: 1.8469 - val_accuracy: 0.6330 - lr: 1.0000e-06\n",
            "Learning rate:  1e-06\n",
            "Epoch 171/300\n",
            "391/391 [==============================] - ETA: 0s - loss: 0.6208 - accuracy: 0.8970WARNING:tensorflow:Can save best model only with val_acc available, skipping.\n"
          ]
        },
        {
          "name": "stderr",
          "output_type": "stream",
          "text": [
            "WARNING:tensorflow:Can save best model only with val_acc available, skipping.\n"
          ]
        },
        {
          "name": "stdout",
          "output_type": "stream",
          "text": [
            "391/391 [==============================] - 36s 93ms/step - loss: 0.6208 - accuracy: 0.8970 - val_loss: 1.8486 - val_accuracy: 0.6334 - lr: 1.0000e-06\n",
            "Learning rate:  1e-06\n",
            "Epoch 172/300\n",
            "391/391 [==============================] - ETA: 0s - loss: 0.6192 - accuracy: 0.8960WARNING:tensorflow:Can save best model only with val_acc available, skipping.\n"
          ]
        },
        {
          "name": "stderr",
          "output_type": "stream",
          "text": [
            "WARNING:tensorflow:Can save best model only with val_acc available, skipping.\n"
          ]
        },
        {
          "name": "stdout",
          "output_type": "stream",
          "text": [
            "391/391 [==============================] - 37s 96ms/step - loss: 0.6192 - accuracy: 0.8960 - val_loss: 1.8466 - val_accuracy: 0.6337 - lr: 1.0000e-06\n",
            "Learning rate:  1e-06\n",
            "Epoch 173/300\n",
            "391/391 [==============================] - ETA: 0s - loss: 0.6239 - accuracy: 0.8943WARNING:tensorflow:Can save best model only with val_acc available, skipping.\n"
          ]
        },
        {
          "name": "stderr",
          "output_type": "stream",
          "text": [
            "WARNING:tensorflow:Can save best model only with val_acc available, skipping.\n"
          ]
        },
        {
          "name": "stdout",
          "output_type": "stream",
          "text": [
            "391/391 [==============================] - 37s 94ms/step - loss: 0.6239 - accuracy: 0.8943 - val_loss: 1.8471 - val_accuracy: 0.6340 - lr: 1.0000e-06\n",
            "Learning rate:  1e-06\n",
            "Epoch 174/300\n",
            "391/391 [==============================] - ETA: 0s - loss: 0.6236 - accuracy: 0.8958WARNING:tensorflow:Can save best model only with val_acc available, skipping.\n"
          ]
        },
        {
          "name": "stderr",
          "output_type": "stream",
          "text": [
            "WARNING:tensorflow:Can save best model only with val_acc available, skipping.\n"
          ]
        },
        {
          "name": "stdout",
          "output_type": "stream",
          "text": [
            "391/391 [==============================] - 37s 95ms/step - loss: 0.6236 - accuracy: 0.8958 - val_loss: 1.8470 - val_accuracy: 0.6329 - lr: 5.0000e-07\n",
            "Learning rate:  1e-06\n",
            "Epoch 175/300\n",
            "391/391 [==============================] - ETA: 0s - loss: 0.6206 - accuracy: 0.8958WARNING:tensorflow:Can save best model only with val_acc available, skipping.\n"
          ]
        },
        {
          "name": "stderr",
          "output_type": "stream",
          "text": [
            "WARNING:tensorflow:Can save best model only with val_acc available, skipping.\n"
          ]
        },
        {
          "name": "stdout",
          "output_type": "stream",
          "text": [
            "391/391 [==============================] - 37s 95ms/step - loss: 0.6206 - accuracy: 0.8958 - val_loss: 1.8484 - val_accuracy: 0.6333 - lr: 1.0000e-06\n",
            "Learning rate:  1e-06\n",
            "Epoch 176/300\n",
            "391/391 [==============================] - ETA: 0s - loss: 0.6205 - accuracy: 0.8959WARNING:tensorflow:Can save best model only with val_acc available, skipping.\n"
          ]
        },
        {
          "name": "stderr",
          "output_type": "stream",
          "text": [
            "WARNING:tensorflow:Can save best model only with val_acc available, skipping.\n"
          ]
        },
        {
          "name": "stdout",
          "output_type": "stream",
          "text": [
            "391/391 [==============================] - 37s 94ms/step - loss: 0.6205 - accuracy: 0.8959 - val_loss: 1.8484 - val_accuracy: 0.6330 - lr: 1.0000e-06\n",
            "Learning rate:  1e-06\n",
            "Epoch 177/300\n",
            "391/391 [==============================] - ETA: 0s - loss: 0.6211 - accuracy: 0.8971WARNING:tensorflow:Can save best model only with val_acc available, skipping.\n"
          ]
        },
        {
          "name": "stderr",
          "output_type": "stream",
          "text": [
            "WARNING:tensorflow:Can save best model only with val_acc available, skipping.\n"
          ]
        },
        {
          "name": "stdout",
          "output_type": "stream",
          "text": [
            "391/391 [==============================] - 37s 95ms/step - loss: 0.6211 - accuracy: 0.8971 - val_loss: 1.8473 - val_accuracy: 0.6338 - lr: 1.0000e-06\n",
            "Learning rate:  1e-06\n",
            "Epoch 178/300\n",
            "391/391 [==============================] - ETA: 0s - loss: 0.6185 - accuracy: 0.8968WARNING:tensorflow:Can save best model only with val_acc available, skipping.\n"
          ]
        },
        {
          "name": "stderr",
          "output_type": "stream",
          "text": [
            "WARNING:tensorflow:Can save best model only with val_acc available, skipping.\n"
          ]
        },
        {
          "name": "stdout",
          "output_type": "stream",
          "text": [
            "391/391 [==============================] - 37s 94ms/step - loss: 0.6185 - accuracy: 0.8968 - val_loss: 1.8465 - val_accuracy: 0.6330 - lr: 1.0000e-06\n",
            "Learning rate:  1e-06\n",
            "Epoch 179/300\n",
            "391/391 [==============================] - ETA: 0s - loss: 0.6190 - accuracy: 0.8964WARNING:tensorflow:Can save best model only with val_acc available, skipping.\n"
          ]
        },
        {
          "name": "stderr",
          "output_type": "stream",
          "text": [
            "WARNING:tensorflow:Can save best model only with val_acc available, skipping.\n"
          ]
        },
        {
          "name": "stdout",
          "output_type": "stream",
          "text": [
            "391/391 [==============================] - 37s 94ms/step - loss: 0.6190 - accuracy: 0.8964 - val_loss: 1.8490 - val_accuracy: 0.6330 - lr: 5.0000e-07\n",
            "Learning rate:  1e-06\n",
            "Epoch 180/300\n",
            "391/391 [==============================] - ETA: 0s - loss: 0.6188 - accuracy: 0.8972WARNING:tensorflow:Can save best model only with val_acc available, skipping.\n"
          ]
        },
        {
          "name": "stderr",
          "output_type": "stream",
          "text": [
            "WARNING:tensorflow:Can save best model only with val_acc available, skipping.\n"
          ]
        },
        {
          "name": "stdout",
          "output_type": "stream",
          "text": [
            "391/391 [==============================] - 37s 95ms/step - loss: 0.6188 - accuracy: 0.8972 - val_loss: 1.8493 - val_accuracy: 0.6347 - lr: 1.0000e-06\n",
            "Learning rate:  1e-06\n",
            "Epoch 181/300\n",
            "391/391 [==============================] - ETA: 0s - loss: 0.6223 - accuracy: 0.8970WARNING:tensorflow:Can save best model only with val_acc available, skipping.\n"
          ]
        },
        {
          "name": "stderr",
          "output_type": "stream",
          "text": [
            "WARNING:tensorflow:Can save best model only with val_acc available, skipping.\n"
          ]
        },
        {
          "name": "stdout",
          "output_type": "stream",
          "text": [
            "391/391 [==============================] - 36s 93ms/step - loss: 0.6223 - accuracy: 0.8970 - val_loss: 1.8503 - val_accuracy: 0.6350 - lr: 1.0000e-06\n",
            "Learning rate:  5e-07\n",
            "Epoch 182/300\n",
            "391/391 [==============================] - ETA: 0s - loss: 0.6245 - accuracy: 0.8960WARNING:tensorflow:Can save best model only with val_acc available, skipping.\n"
          ]
        },
        {
          "name": "stderr",
          "output_type": "stream",
          "text": [
            "WARNING:tensorflow:Can save best model only with val_acc available, skipping.\n"
          ]
        },
        {
          "name": "stdout",
          "output_type": "stream",
          "text": [
            "391/391 [==============================] - 37s 96ms/step - loss: 0.6245 - accuracy: 0.8960 - val_loss: 1.8527 - val_accuracy: 0.6341 - lr: 5.0000e-07\n",
            "Learning rate:  5e-07\n",
            "Epoch 183/300\n",
            "391/391 [==============================] - ETA: 0s - loss: 0.6263 - accuracy: 0.8939WARNING:tensorflow:Can save best model only with val_acc available, skipping.\n"
          ]
        },
        {
          "name": "stderr",
          "output_type": "stream",
          "text": [
            "WARNING:tensorflow:Can save best model only with val_acc available, skipping.\n"
          ]
        },
        {
          "name": "stdout",
          "output_type": "stream",
          "text": [
            "391/391 [==============================] - 37s 94ms/step - loss: 0.6263 - accuracy: 0.8939 - val_loss: 1.8562 - val_accuracy: 0.6335 - lr: 5.0000e-07\n",
            "Learning rate:  5e-07\n",
            "Epoch 184/300\n",
            "391/391 [==============================] - ETA: 0s - loss: 0.6220 - accuracy: 0.8956WARNING:tensorflow:Can save best model only with val_acc available, skipping.\n"
          ]
        },
        {
          "name": "stderr",
          "output_type": "stream",
          "text": [
            "WARNING:tensorflow:Can save best model only with val_acc available, skipping.\n"
          ]
        },
        {
          "name": "stdout",
          "output_type": "stream",
          "text": [
            "391/391 [==============================] - 37s 93ms/step - loss: 0.6220 - accuracy: 0.8956 - val_loss: 1.8553 - val_accuracy: 0.6343 - lr: 5.0000e-07\n",
            "Learning rate:  5e-07\n",
            "Epoch 185/300\n",
            "391/391 [==============================] - ETA: 0s - loss: 0.6234 - accuracy: 0.8955WARNING:tensorflow:Can save best model only with val_acc available, skipping.\n"
          ]
        },
        {
          "name": "stderr",
          "output_type": "stream",
          "text": [
            "WARNING:tensorflow:Can save best model only with val_acc available, skipping.\n"
          ]
        },
        {
          "name": "stdout",
          "output_type": "stream",
          "text": [
            "391/391 [==============================] - 37s 94ms/step - loss: 0.6234 - accuracy: 0.8955 - val_loss: 1.8552 - val_accuracy: 0.6340 - lr: 5.0000e-07\n",
            "Learning rate:  5e-07\n",
            "Epoch 186/300\n",
            "391/391 [==============================] - ETA: 0s - loss: 0.6282 - accuracy: 0.8948WARNING:tensorflow:Can save best model only with val_acc available, skipping.\n"
          ]
        },
        {
          "name": "stderr",
          "output_type": "stream",
          "text": [
            "WARNING:tensorflow:Can save best model only with val_acc available, skipping.\n"
          ]
        },
        {
          "name": "stdout",
          "output_type": "stream",
          "text": [
            "391/391 [==============================] - 36s 93ms/step - loss: 0.6282 - accuracy: 0.8948 - val_loss: 1.8518 - val_accuracy: 0.6351 - lr: 5.0000e-07\n",
            "Learning rate:  5e-07\n",
            "Epoch 187/300\n",
            "391/391 [==============================] - ETA: 0s - loss: 0.6256 - accuracy: 0.8933WARNING:tensorflow:Can save best model only with val_acc available, skipping.\n"
          ]
        },
        {
          "name": "stderr",
          "output_type": "stream",
          "text": [
            "WARNING:tensorflow:Can save best model only with val_acc available, skipping.\n"
          ]
        },
        {
          "name": "stdout",
          "output_type": "stream",
          "text": [
            "391/391 [==============================] - 37s 94ms/step - loss: 0.6256 - accuracy: 0.8933 - val_loss: 1.8544 - val_accuracy: 0.6336 - lr: 5.0000e-07\n",
            "Learning rate:  5e-07\n",
            "Epoch 188/300\n",
            "391/391 [==============================] - ETA: 0s - loss: 0.6249 - accuracy: 0.8933WARNING:tensorflow:Can save best model only with val_acc available, skipping.\n"
          ]
        },
        {
          "name": "stderr",
          "output_type": "stream",
          "text": [
            "WARNING:tensorflow:Can save best model only with val_acc available, skipping.\n"
          ]
        },
        {
          "name": "stdout",
          "output_type": "stream",
          "text": [
            "391/391 [==============================] - 37s 95ms/step - loss: 0.6249 - accuracy: 0.8933 - val_loss: 1.8564 - val_accuracy: 0.6340 - lr: 5.0000e-07\n",
            "Learning rate:  5e-07\n",
            "Epoch 189/300\n",
            "391/391 [==============================] - ETA: 0s - loss: 0.6230 - accuracy: 0.8954WARNING:tensorflow:Can save best model only with val_acc available, skipping.\n"
          ]
        },
        {
          "name": "stderr",
          "output_type": "stream",
          "text": [
            "WARNING:tensorflow:Can save best model only with val_acc available, skipping.\n"
          ]
        },
        {
          "name": "stdout",
          "output_type": "stream",
          "text": [
            "391/391 [==============================] - 37s 93ms/step - loss: 0.6230 - accuracy: 0.8954 - val_loss: 1.8543 - val_accuracy: 0.6333 - lr: 5.0000e-07\n",
            "Learning rate:  5e-07\n",
            "Epoch 190/300\n",
            "391/391 [==============================] - ETA: 0s - loss: 0.6266 - accuracy: 0.8934WARNING:tensorflow:Can save best model only with val_acc available, skipping.\n"
          ]
        },
        {
          "name": "stderr",
          "output_type": "stream",
          "text": [
            "WARNING:tensorflow:Can save best model only with val_acc available, skipping.\n"
          ]
        },
        {
          "name": "stdout",
          "output_type": "stream",
          "text": [
            "391/391 [==============================] - 37s 95ms/step - loss: 0.6266 - accuracy: 0.8934 - val_loss: 1.8526 - val_accuracy: 0.6347 - lr: 5.0000e-07\n",
            "Learning rate:  5e-07\n",
            "Epoch 191/300\n",
            "391/391 [==============================] - ETA: 0s - loss: 0.6251 - accuracy: 0.8965WARNING:tensorflow:Can save best model only with val_acc available, skipping.\n"
          ]
        },
        {
          "name": "stderr",
          "output_type": "stream",
          "text": [
            "WARNING:tensorflow:Can save best model only with val_acc available, skipping.\n"
          ]
        },
        {
          "name": "stdout",
          "output_type": "stream",
          "text": [
            "391/391 [==============================] - 38s 97ms/step - loss: 0.6251 - accuracy: 0.8965 - val_loss: 1.8571 - val_accuracy: 0.6326 - lr: 5.0000e-07\n",
            "Learning rate:  5e-07\n",
            "Epoch 192/300\n",
            "391/391 [==============================] - ETA: 0s - loss: 0.6191 - accuracy: 0.8967WARNING:tensorflow:Can save best model only with val_acc available, skipping.\n"
          ]
        },
        {
          "name": "stderr",
          "output_type": "stream",
          "text": [
            "WARNING:tensorflow:Can save best model only with val_acc available, skipping.\n"
          ]
        },
        {
          "name": "stdout",
          "output_type": "stream",
          "text": [
            "391/391 [==============================] - 37s 94ms/step - loss: 0.6191 - accuracy: 0.8967 - val_loss: 1.8537 - val_accuracy: 0.6336 - lr: 5.0000e-07\n",
            "Learning rate:  5e-07\n",
            "Epoch 193/300\n",
            "391/391 [==============================] - ETA: 0s - loss: 0.6247 - accuracy: 0.8954WARNING:tensorflow:Can save best model only with val_acc available, skipping.\n"
          ]
        },
        {
          "name": "stderr",
          "output_type": "stream",
          "text": [
            "WARNING:tensorflow:Can save best model only with val_acc available, skipping.\n"
          ]
        },
        {
          "name": "stdout",
          "output_type": "stream",
          "text": [
            "391/391 [==============================] - 37s 94ms/step - loss: 0.6247 - accuracy: 0.8954 - val_loss: 1.8509 - val_accuracy: 0.6338 - lr: 5.0000e-07\n",
            "Learning rate:  5e-07\n",
            "Epoch 194/300\n",
            "391/391 [==============================] - ETA: 0s - loss: 0.6254 - accuracy: 0.8953WARNING:tensorflow:Can save best model only with val_acc available, skipping.\n"
          ]
        },
        {
          "name": "stderr",
          "output_type": "stream",
          "text": [
            "WARNING:tensorflow:Can save best model only with val_acc available, skipping.\n"
          ]
        },
        {
          "name": "stdout",
          "output_type": "stream",
          "text": [
            "391/391 [==============================] - 37s 93ms/step - loss: 0.6254 - accuracy: 0.8953 - val_loss: 1.8557 - val_accuracy: 0.6338 - lr: 5.0000e-07\n",
            "Learning rate:  5e-07\n",
            "Epoch 195/300\n",
            "391/391 [==============================] - ETA: 0s - loss: 0.6233 - accuracy: 0.8944WARNING:tensorflow:Can save best model only with val_acc available, skipping.\n"
          ]
        },
        {
          "name": "stderr",
          "output_type": "stream",
          "text": [
            "WARNING:tensorflow:Can save best model only with val_acc available, skipping.\n"
          ]
        },
        {
          "name": "stdout",
          "output_type": "stream",
          "text": [
            "391/391 [==============================] - 37s 94ms/step - loss: 0.6233 - accuracy: 0.8944 - val_loss: 1.8550 - val_accuracy: 0.6340 - lr: 5.0000e-07\n",
            "Learning rate:  5e-07\n",
            "Epoch 196/300\n",
            "391/391 [==============================] - ETA: 0s - loss: 0.6207 - accuracy: 0.8948WARNING:tensorflow:Can save best model only with val_acc available, skipping.\n"
          ]
        },
        {
          "name": "stderr",
          "output_type": "stream",
          "text": [
            "WARNING:tensorflow:Can save best model only with val_acc available, skipping.\n"
          ]
        },
        {
          "name": "stdout",
          "output_type": "stream",
          "text": [
            "391/391 [==============================] - 37s 94ms/step - loss: 0.6207 - accuracy: 0.8948 - val_loss: 1.8546 - val_accuracy: 0.6328 - lr: 5.0000e-07\n",
            "Learning rate:  5e-07\n",
            "Epoch 197/300\n",
            "391/391 [==============================] - ETA: 0s - loss: 0.6232 - accuracy: 0.8960WARNING:tensorflow:Can save best model only with val_acc available, skipping.\n"
          ]
        },
        {
          "name": "stderr",
          "output_type": "stream",
          "text": [
            "WARNING:tensorflow:Can save best model only with val_acc available, skipping.\n"
          ]
        },
        {
          "name": "stdout",
          "output_type": "stream",
          "text": [
            "391/391 [==============================] - 36s 93ms/step - loss: 0.6232 - accuracy: 0.8960 - val_loss: 1.8551 - val_accuracy: 0.6338 - lr: 5.0000e-07\n",
            "Learning rate:  5e-07\n",
            "Epoch 198/300\n",
            "391/391 [==============================] - ETA: 0s - loss: 0.6193 - accuracy: 0.8973WARNING:tensorflow:Can save best model only with val_acc available, skipping.\n"
          ]
        },
        {
          "name": "stderr",
          "output_type": "stream",
          "text": [
            "WARNING:tensorflow:Can save best model only with val_acc available, skipping.\n"
          ]
        },
        {
          "name": "stdout",
          "output_type": "stream",
          "text": [
            "391/391 [==============================] - 37s 95ms/step - loss: 0.6193 - accuracy: 0.8973 - val_loss: 1.8537 - val_accuracy: 0.6340 - lr: 5.0000e-07\n",
            "Learning rate:  5e-07\n",
            "Epoch 199/300\n",
            "391/391 [==============================] - ETA: 0s - loss: 0.6210 - accuracy: 0.8954WARNING:tensorflow:Can save best model only with val_acc available, skipping.\n"
          ]
        },
        {
          "name": "stderr",
          "output_type": "stream",
          "text": [
            "WARNING:tensorflow:Can save best model only with val_acc available, skipping.\n"
          ]
        },
        {
          "name": "stdout",
          "output_type": "stream",
          "text": [
            "391/391 [==============================] - 37s 94ms/step - loss: 0.6210 - accuracy: 0.8954 - val_loss: 1.8540 - val_accuracy: 0.6328 - lr: 5.0000e-07\n",
            "Learning rate:  5e-07\n",
            "Epoch 200/300\n",
            "391/391 [==============================] - ETA: 0s - loss: 0.6259 - accuracy: 0.8935WARNING:tensorflow:Can save best model only with val_acc available, skipping.\n"
          ]
        },
        {
          "name": "stderr",
          "output_type": "stream",
          "text": [
            "WARNING:tensorflow:Can save best model only with val_acc available, skipping.\n"
          ]
        },
        {
          "name": "stdout",
          "output_type": "stream",
          "text": [
            "391/391 [==============================] - 37s 93ms/step - loss: 0.6259 - accuracy: 0.8935 - val_loss: 1.8547 - val_accuracy: 0.6323 - lr: 5.0000e-07\n",
            "Learning rate:  5e-07\n",
            "Epoch 201/300\n",
            "391/391 [==============================] - ETA: 0s - loss: 0.6264 - accuracy: 0.8935WARNING:tensorflow:Can save best model only with val_acc available, skipping.\n"
          ]
        },
        {
          "name": "stderr",
          "output_type": "stream",
          "text": [
            "WARNING:tensorflow:Can save best model only with val_acc available, skipping.\n"
          ]
        },
        {
          "name": "stdout",
          "output_type": "stream",
          "text": [
            "391/391 [==============================] - 37s 95ms/step - loss: 0.6264 - accuracy: 0.8935 - val_loss: 1.8542 - val_accuracy: 0.6328 - lr: 5.0000e-07\n",
            "Learning rate:  5e-07\n",
            "Epoch 202/300\n",
            "391/391 [==============================] - ETA: 0s - loss: 0.6239 - accuracy: 0.8952WARNING:tensorflow:Can save best model only with val_acc available, skipping.\n"
          ]
        },
        {
          "name": "stderr",
          "output_type": "stream",
          "text": [
            "WARNING:tensorflow:Can save best model only with val_acc available, skipping.\n"
          ]
        },
        {
          "name": "stdout",
          "output_type": "stream",
          "text": [
            "391/391 [==============================] - 36s 93ms/step - loss: 0.6239 - accuracy: 0.8952 - val_loss: 1.8543 - val_accuracy: 0.6329 - lr: 5.0000e-07\n",
            "Learning rate:  5e-07\n",
            "Epoch 203/300\n",
            "391/391 [==============================] - ETA: 0s - loss: 0.6235 - accuracy: 0.8956WARNING:tensorflow:Can save best model only with val_acc available, skipping.\n"
          ]
        },
        {
          "name": "stderr",
          "output_type": "stream",
          "text": [
            "WARNING:tensorflow:Can save best model only with val_acc available, skipping.\n"
          ]
        },
        {
          "name": "stdout",
          "output_type": "stream",
          "text": [
            "391/391 [==============================] - 37s 95ms/step - loss: 0.6235 - accuracy: 0.8956 - val_loss: 1.8548 - val_accuracy: 0.6327 - lr: 5.0000e-07\n",
            "Learning rate:  5e-07\n",
            "Epoch 204/300\n",
            "391/391 [==============================] - ETA: 0s - loss: 0.6209 - accuracy: 0.8950WARNING:tensorflow:Can save best model only with val_acc available, skipping.\n"
          ]
        },
        {
          "name": "stderr",
          "output_type": "stream",
          "text": [
            "WARNING:tensorflow:Can save best model only with val_acc available, skipping.\n"
          ]
        },
        {
          "name": "stdout",
          "output_type": "stream",
          "text": [
            "391/391 [==============================] - 37s 95ms/step - loss: 0.6209 - accuracy: 0.8950 - val_loss: 1.8564 - val_accuracy: 0.6335 - lr: 5.0000e-07\n",
            "Learning rate:  5e-07\n",
            "Epoch 205/300\n",
            "391/391 [==============================] - ETA: 0s - loss: 0.6209 - accuracy: 0.8971WARNING:tensorflow:Can save best model only with val_acc available, skipping.\n"
          ]
        },
        {
          "name": "stderr",
          "output_type": "stream",
          "text": [
            "WARNING:tensorflow:Can save best model only with val_acc available, skipping.\n"
          ]
        },
        {
          "name": "stdout",
          "output_type": "stream",
          "text": [
            "391/391 [==============================] - 37s 94ms/step - loss: 0.6209 - accuracy: 0.8971 - val_loss: 1.8557 - val_accuracy: 0.6326 - lr: 5.0000e-07\n",
            "Learning rate:  5e-07\n",
            "Epoch 206/300\n",
            "391/391 [==============================] - ETA: 0s - loss: 0.6204 - accuracy: 0.8960WARNING:tensorflow:Can save best model only with val_acc available, skipping.\n"
          ]
        },
        {
          "name": "stderr",
          "output_type": "stream",
          "text": [
            "WARNING:tensorflow:Can save best model only with val_acc available, skipping.\n"
          ]
        },
        {
          "name": "stdout",
          "output_type": "stream",
          "text": [
            "391/391 [==============================] - 37s 95ms/step - loss: 0.6204 - accuracy: 0.8960 - val_loss: 1.8585 - val_accuracy: 0.6322 - lr: 5.0000e-07\n",
            "Learning rate:  5e-07\n",
            "Epoch 207/300\n",
            "391/391 [==============================] - ETA: 0s - loss: 0.6271 - accuracy: 0.8934WARNING:tensorflow:Can save best model only with val_acc available, skipping.\n"
          ]
        },
        {
          "name": "stderr",
          "output_type": "stream",
          "text": [
            "WARNING:tensorflow:Can save best model only with val_acc available, skipping.\n"
          ]
        },
        {
          "name": "stdout",
          "output_type": "stream",
          "text": [
            "391/391 [==============================] - 37s 94ms/step - loss: 0.6271 - accuracy: 0.8934 - val_loss: 1.8550 - val_accuracy: 0.6332 - lr: 5.0000e-07\n",
            "Learning rate:  5e-07\n",
            "Epoch 208/300\n",
            "391/391 [==============================] - ETA: 0s - loss: 0.6186 - accuracy: 0.8962WARNING:tensorflow:Can save best model only with val_acc available, skipping.\n"
          ]
        },
        {
          "name": "stderr",
          "output_type": "stream",
          "text": [
            "WARNING:tensorflow:Can save best model only with val_acc available, skipping.\n"
          ]
        },
        {
          "name": "stdout",
          "output_type": "stream",
          "text": [
            "391/391 [==============================] - 37s 95ms/step - loss: 0.6186 - accuracy: 0.8962 - val_loss: 1.8539 - val_accuracy: 0.6332 - lr: 5.0000e-07\n",
            "Learning rate:  5e-07\n",
            "Epoch 209/300\n",
            "391/391 [==============================] - ETA: 0s - loss: 0.6230 - accuracy: 0.8947WARNING:tensorflow:Can save best model only with val_acc available, skipping.\n"
          ]
        },
        {
          "name": "stderr",
          "output_type": "stream",
          "text": [
            "WARNING:tensorflow:Can save best model only with val_acc available, skipping.\n"
          ]
        },
        {
          "name": "stdout",
          "output_type": "stream",
          "text": [
            "391/391 [==============================] - 37s 95ms/step - loss: 0.6230 - accuracy: 0.8947 - val_loss: 1.8576 - val_accuracy: 0.6334 - lr: 5.0000e-07\n",
            "Learning rate:  5e-07\n",
            "Epoch 210/300\n",
            "391/391 [==============================] - ETA: 0s - loss: 0.6238 - accuracy: 0.8950WARNING:tensorflow:Can save best model only with val_acc available, skipping.\n"
          ]
        },
        {
          "name": "stderr",
          "output_type": "stream",
          "text": [
            "WARNING:tensorflow:Can save best model only with val_acc available, skipping.\n"
          ]
        },
        {
          "name": "stdout",
          "output_type": "stream",
          "text": [
            "391/391 [==============================] - 37s 94ms/step - loss: 0.6238 - accuracy: 0.8950 - val_loss: 1.8561 - val_accuracy: 0.6326 - lr: 5.0000e-07\n",
            "Learning rate:  5e-07\n",
            "Epoch 211/300\n",
            "391/391 [==============================] - ETA: 0s - loss: 0.6216 - accuracy: 0.8944WARNING:tensorflow:Can save best model only with val_acc available, skipping.\n"
          ]
        },
        {
          "name": "stderr",
          "output_type": "stream",
          "text": [
            "WARNING:tensorflow:Can save best model only with val_acc available, skipping.\n"
          ]
        },
        {
          "name": "stdout",
          "output_type": "stream",
          "text": [
            "391/391 [==============================] - 37s 94ms/step - loss: 0.6216 - accuracy: 0.8944 - val_loss: 1.8555 - val_accuracy: 0.6331 - lr: 5.0000e-07\n",
            "Learning rate:  5e-07\n",
            "Epoch 212/300\n",
            "391/391 [==============================] - ETA: 0s - loss: 0.6237 - accuracy: 0.8943WARNING:tensorflow:Can save best model only with val_acc available, skipping.\n"
          ]
        },
        {
          "name": "stderr",
          "output_type": "stream",
          "text": [
            "WARNING:tensorflow:Can save best model only with val_acc available, skipping.\n"
          ]
        },
        {
          "name": "stdout",
          "output_type": "stream",
          "text": [
            "391/391 [==============================] - 37s 94ms/step - loss: 0.6237 - accuracy: 0.8943 - val_loss: 1.8571 - val_accuracy: 0.6326 - lr: 5.0000e-07\n",
            "Learning rate:  5e-07\n",
            "Epoch 213/300\n",
            "391/391 [==============================] - ETA: 0s - loss: 0.6224 - accuracy: 0.8958WARNING:tensorflow:Can save best model only with val_acc available, skipping.\n"
          ]
        },
        {
          "name": "stderr",
          "output_type": "stream",
          "text": [
            "WARNING:tensorflow:Can save best model only with val_acc available, skipping.\n"
          ]
        },
        {
          "name": "stdout",
          "output_type": "stream",
          "text": [
            "391/391 [==============================] - 36s 93ms/step - loss: 0.6224 - accuracy: 0.8958 - val_loss: 1.8591 - val_accuracy: 0.6325 - lr: 5.0000e-07\n",
            "Learning rate:  5e-07\n",
            "Epoch 214/300\n",
            "391/391 [==============================] - ETA: 0s - loss: 0.6248 - accuracy: 0.8939WARNING:tensorflow:Can save best model only with val_acc available, skipping.\n"
          ]
        },
        {
          "name": "stderr",
          "output_type": "stream",
          "text": [
            "WARNING:tensorflow:Can save best model only with val_acc available, skipping.\n"
          ]
        },
        {
          "name": "stdout",
          "output_type": "stream",
          "text": [
            "391/391 [==============================] - 37s 94ms/step - loss: 0.6248 - accuracy: 0.8939 - val_loss: 1.8593 - val_accuracy: 0.6341 - lr: 5.0000e-07\n",
            "Learning rate:  5e-07\n",
            "Epoch 215/300\n",
            "391/391 [==============================] - ETA: 0s - loss: 0.6186 - accuracy: 0.8965WARNING:tensorflow:Can save best model only with val_acc available, skipping.\n"
          ]
        },
        {
          "name": "stderr",
          "output_type": "stream",
          "text": [
            "WARNING:tensorflow:Can save best model only with val_acc available, skipping.\n"
          ]
        },
        {
          "name": "stdout",
          "output_type": "stream",
          "text": [
            "391/391 [==============================] - 37s 93ms/step - loss: 0.6186 - accuracy: 0.8965 - val_loss: 1.8547 - val_accuracy: 0.6338 - lr: 5.0000e-07\n",
            "Learning rate:  5e-07\n",
            "Epoch 216/300\n",
            "391/391 [==============================] - ETA: 0s - loss: 0.6202 - accuracy: 0.8968WARNING:tensorflow:Can save best model only with val_acc available, skipping.\n"
          ]
        },
        {
          "name": "stderr",
          "output_type": "stream",
          "text": [
            "WARNING:tensorflow:Can save best model only with val_acc available, skipping.\n"
          ]
        },
        {
          "name": "stdout",
          "output_type": "stream",
          "text": [
            "391/391 [==============================] - 37s 94ms/step - loss: 0.6202 - accuracy: 0.8968 - val_loss: 1.8567 - val_accuracy: 0.6340 - lr: 5.0000e-07\n",
            "Learning rate:  5e-07\n",
            "Epoch 217/300\n",
            "391/391 [==============================] - ETA: 0s - loss: 0.6253 - accuracy: 0.8945WARNING:tensorflow:Can save best model only with val_acc available, skipping.\n"
          ]
        },
        {
          "name": "stderr",
          "output_type": "stream",
          "text": [
            "WARNING:tensorflow:Can save best model only with val_acc available, skipping.\n"
          ]
        },
        {
          "name": "stdout",
          "output_type": "stream",
          "text": [
            "391/391 [==============================] - 37s 95ms/step - loss: 0.6253 - accuracy: 0.8945 - val_loss: 1.8544 - val_accuracy: 0.6340 - lr: 5.0000e-07\n",
            "Learning rate:  5e-07\n",
            "Epoch 218/300\n",
            "391/391 [==============================] - ETA: 0s - loss: 0.6228 - accuracy: 0.8953WARNING:tensorflow:Can save best model only with val_acc available, skipping.\n"
          ]
        },
        {
          "name": "stderr",
          "output_type": "stream",
          "text": [
            "WARNING:tensorflow:Can save best model only with val_acc available, skipping.\n"
          ]
        },
        {
          "name": "stdout",
          "output_type": "stream",
          "text": [
            "391/391 [==============================] - 37s 94ms/step - loss: 0.6228 - accuracy: 0.8953 - val_loss: 1.8556 - val_accuracy: 0.6343 - lr: 5.0000e-07\n",
            "Learning rate:  5e-07\n",
            "Epoch 219/300\n",
            "391/391 [==============================] - ETA: 0s - loss: 0.6222 - accuracy: 0.8953WARNING:tensorflow:Can save best model only with val_acc available, skipping.\n"
          ]
        },
        {
          "name": "stderr",
          "output_type": "stream",
          "text": [
            "WARNING:tensorflow:Can save best model only with val_acc available, skipping.\n"
          ]
        },
        {
          "name": "stdout",
          "output_type": "stream",
          "text": [
            "391/391 [==============================] - 37s 96ms/step - loss: 0.6222 - accuracy: 0.8953 - val_loss: 1.8521 - val_accuracy: 0.6352 - lr: 5.0000e-07\n",
            "Learning rate:  5e-07\n",
            "Epoch 220/300\n",
            "391/391 [==============================] - ETA: 0s - loss: 0.6264 - accuracy: 0.8932WARNING:tensorflow:Can save best model only with val_acc available, skipping.\n"
          ]
        },
        {
          "name": "stderr",
          "output_type": "stream",
          "text": [
            "WARNING:tensorflow:Can save best model only with val_acc available, skipping.\n"
          ]
        },
        {
          "name": "stdout",
          "output_type": "stream",
          "text": [
            "391/391 [==============================] - 37s 94ms/step - loss: 0.6264 - accuracy: 0.8932 - val_loss: 1.8541 - val_accuracy: 0.6350 - lr: 5.0000e-07\n",
            "Learning rate:  5e-07\n",
            "Epoch 221/300\n",
            "391/391 [==============================] - ETA: 0s - loss: 0.6199 - accuracy: 0.8959WARNING:tensorflow:Can save best model only with val_acc available, skipping.\n"
          ]
        },
        {
          "name": "stderr",
          "output_type": "stream",
          "text": [
            "WARNING:tensorflow:Can save best model only with val_acc available, skipping.\n"
          ]
        },
        {
          "name": "stdout",
          "output_type": "stream",
          "text": [
            "391/391 [==============================] - 37s 94ms/step - loss: 0.6199 - accuracy: 0.8959 - val_loss: 1.8573 - val_accuracy: 0.6340 - lr: 5.0000e-07\n",
            "Learning rate:  5e-07\n",
            "Epoch 222/300\n",
            "391/391 [==============================] - ETA: 0s - loss: 0.6173 - accuracy: 0.8968WARNING:tensorflow:Can save best model only with val_acc available, skipping.\n"
          ]
        },
        {
          "name": "stderr",
          "output_type": "stream",
          "text": [
            "WARNING:tensorflow:Can save best model only with val_acc available, skipping.\n"
          ]
        },
        {
          "name": "stdout",
          "output_type": "stream",
          "text": [
            "391/391 [==============================] - 37s 95ms/step - loss: 0.6173 - accuracy: 0.8968 - val_loss: 1.8542 - val_accuracy: 0.6334 - lr: 5.0000e-07\n",
            "Learning rate:  5e-07\n",
            "Epoch 223/300\n",
            "391/391 [==============================] - ETA: 0s - loss: 0.6222 - accuracy: 0.8949WARNING:tensorflow:Can save best model only with val_acc available, skipping.\n"
          ]
        },
        {
          "name": "stderr",
          "output_type": "stream",
          "text": [
            "WARNING:tensorflow:Can save best model only with val_acc available, skipping.\n"
          ]
        },
        {
          "name": "stdout",
          "output_type": "stream",
          "text": [
            "391/391 [==============================] - 36s 93ms/step - loss: 0.6222 - accuracy: 0.8949 - val_loss: 1.8545 - val_accuracy: 0.6342 - lr: 5.0000e-07\n",
            "Learning rate:  5e-07\n",
            "Epoch 224/300\n",
            "391/391 [==============================] - ETA: 0s - loss: 0.6211 - accuracy: 0.8961WARNING:tensorflow:Can save best model only with val_acc available, skipping.\n"
          ]
        },
        {
          "name": "stderr",
          "output_type": "stream",
          "text": [
            "WARNING:tensorflow:Can save best model only with val_acc available, skipping.\n"
          ]
        },
        {
          "name": "stdout",
          "output_type": "stream",
          "text": [
            "391/391 [==============================] - 37s 95ms/step - loss: 0.6211 - accuracy: 0.8961 - val_loss: 1.8538 - val_accuracy: 0.6342 - lr: 5.0000e-07\n",
            "Learning rate:  5e-07\n",
            "Epoch 225/300\n",
            "391/391 [==============================] - ETA: 0s - loss: 0.6212 - accuracy: 0.8958WARNING:tensorflow:Can save best model only with val_acc available, skipping.\n"
          ]
        },
        {
          "name": "stderr",
          "output_type": "stream",
          "text": [
            "WARNING:tensorflow:Can save best model only with val_acc available, skipping.\n"
          ]
        },
        {
          "name": "stdout",
          "output_type": "stream",
          "text": [
            "391/391 [==============================] - 37s 95ms/step - loss: 0.6212 - accuracy: 0.8958 - val_loss: 1.8567 - val_accuracy: 0.6333 - lr: 5.0000e-07\n",
            "Learning rate:  5e-07\n",
            "Epoch 226/300\n",
            "391/391 [==============================] - ETA: 0s - loss: 0.6262 - accuracy: 0.8930WARNING:tensorflow:Can save best model only with val_acc available, skipping.\n"
          ]
        },
        {
          "name": "stderr",
          "output_type": "stream",
          "text": [
            "WARNING:tensorflow:Can save best model only with val_acc available, skipping.\n"
          ]
        },
        {
          "name": "stdout",
          "output_type": "stream",
          "text": [
            "391/391 [==============================] - 37s 94ms/step - loss: 0.6262 - accuracy: 0.8930 - val_loss: 1.8549 - val_accuracy: 0.6332 - lr: 5.0000e-07\n",
            "Learning rate:  5e-07\n",
            "Epoch 227/300\n",
            "391/391 [==============================] - ETA: 0s - loss: 0.6216 - accuracy: 0.8963WARNING:tensorflow:Can save best model only with val_acc available, skipping.\n"
          ]
        },
        {
          "name": "stderr",
          "output_type": "stream",
          "text": [
            "WARNING:tensorflow:Can save best model only with val_acc available, skipping.\n"
          ]
        },
        {
          "name": "stdout",
          "output_type": "stream",
          "text": [
            "391/391 [==============================] - 37s 95ms/step - loss: 0.6216 - accuracy: 0.8963 - val_loss: 1.8554 - val_accuracy: 0.6334 - lr: 5.0000e-07\n",
            "Learning rate:  5e-07\n",
            "Epoch 228/300\n",
            "391/391 [==============================] - ETA: 0s - loss: 0.6255 - accuracy: 0.8936WARNING:tensorflow:Can save best model only with val_acc available, skipping.\n"
          ]
        },
        {
          "name": "stderr",
          "output_type": "stream",
          "text": [
            "WARNING:tensorflow:Can save best model only with val_acc available, skipping.\n"
          ]
        },
        {
          "name": "stdout",
          "output_type": "stream",
          "text": [
            "391/391 [==============================] - 37s 94ms/step - loss: 0.6255 - accuracy: 0.8936 - val_loss: 1.8545 - val_accuracy: 0.6339 - lr: 5.0000e-07\n",
            "Learning rate:  5e-07\n",
            "Epoch 229/300\n",
            "391/391 [==============================] - ETA: 0s - loss: 0.6218 - accuracy: 0.8957WARNING:tensorflow:Can save best model only with val_acc available, skipping.\n"
          ]
        },
        {
          "name": "stderr",
          "output_type": "stream",
          "text": [
            "WARNING:tensorflow:Can save best model only with val_acc available, skipping.\n"
          ]
        },
        {
          "name": "stdout",
          "output_type": "stream",
          "text": [
            "391/391 [==============================] - 37s 94ms/step - loss: 0.6218 - accuracy: 0.8957 - val_loss: 1.8529 - val_accuracy: 0.6338 - lr: 5.0000e-07\n",
            "Learning rate:  5e-07\n",
            "Epoch 230/300\n",
            "391/391 [==============================] - ETA: 0s - loss: 0.6200 - accuracy: 0.8962WARNING:tensorflow:Can save best model only with val_acc available, skipping.\n"
          ]
        },
        {
          "name": "stderr",
          "output_type": "stream",
          "text": [
            "WARNING:tensorflow:Can save best model only with val_acc available, skipping.\n"
          ]
        },
        {
          "name": "stdout",
          "output_type": "stream",
          "text": [
            "391/391 [==============================] - 37s 95ms/step - loss: 0.6200 - accuracy: 0.8962 - val_loss: 1.8534 - val_accuracy: 0.6344 - lr: 5.0000e-07\n",
            "Learning rate:  5e-07\n",
            "Epoch 231/300\n",
            "391/391 [==============================] - ETA: 0s - loss: 0.6205 - accuracy: 0.8959WARNING:tensorflow:Can save best model only with val_acc available, skipping.\n"
          ]
        },
        {
          "name": "stderr",
          "output_type": "stream",
          "text": [
            "WARNING:tensorflow:Can save best model only with val_acc available, skipping.\n"
          ]
        },
        {
          "name": "stdout",
          "output_type": "stream",
          "text": [
            "391/391 [==============================] - 37s 94ms/step - loss: 0.6205 - accuracy: 0.8959 - val_loss: 1.8542 - val_accuracy: 0.6342 - lr: 5.0000e-07\n",
            "Learning rate:  5e-07\n",
            "Epoch 232/300\n",
            "391/391 [==============================] - ETA: 0s - loss: 0.6199 - accuracy: 0.8950WARNING:tensorflow:Can save best model only with val_acc available, skipping.\n"
          ]
        },
        {
          "name": "stderr",
          "output_type": "stream",
          "text": [
            "WARNING:tensorflow:Can save best model only with val_acc available, skipping.\n"
          ]
        },
        {
          "name": "stdout",
          "output_type": "stream",
          "text": [
            "391/391 [==============================] - 37s 94ms/step - loss: 0.6199 - accuracy: 0.8950 - val_loss: 1.8547 - val_accuracy: 0.6346 - lr: 5.0000e-07\n",
            "Learning rate:  5e-07\n",
            "Epoch 233/300\n",
            "391/391 [==============================] - ETA: 0s - loss: 0.6199 - accuracy: 0.8982WARNING:tensorflow:Can save best model only with val_acc available, skipping.\n"
          ]
        },
        {
          "name": "stderr",
          "output_type": "stream",
          "text": [
            "WARNING:tensorflow:Can save best model only with val_acc available, skipping.\n"
          ]
        },
        {
          "name": "stdout",
          "output_type": "stream",
          "text": [
            "391/391 [==============================] - 37s 94ms/step - loss: 0.6199 - accuracy: 0.8982 - val_loss: 1.8541 - val_accuracy: 0.6336 - lr: 5.0000e-07\n",
            "Learning rate:  5e-07\n",
            "Epoch 234/300\n",
            "391/391 [==============================] - ETA: 0s - loss: 0.6218 - accuracy: 0.8956WARNING:tensorflow:Can save best model only with val_acc available, skipping.\n"
          ]
        },
        {
          "name": "stderr",
          "output_type": "stream",
          "text": [
            "WARNING:tensorflow:Can save best model only with val_acc available, skipping.\n"
          ]
        },
        {
          "name": "stdout",
          "output_type": "stream",
          "text": [
            "391/391 [==============================] - 36s 93ms/step - loss: 0.6218 - accuracy: 0.8956 - val_loss: 1.8537 - val_accuracy: 0.6332 - lr: 5.0000e-07\n",
            "Learning rate:  5e-07\n",
            "Epoch 235/300\n",
            "391/391 [==============================] - ETA: 0s - loss: 0.6185 - accuracy: 0.8967WARNING:tensorflow:Can save best model only with val_acc available, skipping.\n"
          ]
        },
        {
          "name": "stderr",
          "output_type": "stream",
          "text": [
            "WARNING:tensorflow:Can save best model only with val_acc available, skipping.\n"
          ]
        },
        {
          "name": "stdout",
          "output_type": "stream",
          "text": [
            "391/391 [==============================] - 37s 95ms/step - loss: 0.6185 - accuracy: 0.8967 - val_loss: 1.8545 - val_accuracy: 0.6344 - lr: 5.0000e-07\n",
            "Learning rate:  5e-07\n",
            "Epoch 236/300\n",
            "391/391 [==============================] - ETA: 0s - loss: 0.6216 - accuracy: 0.8959WARNING:tensorflow:Can save best model only with val_acc available, skipping.\n"
          ]
        },
        {
          "name": "stderr",
          "output_type": "stream",
          "text": [
            "WARNING:tensorflow:Can save best model only with val_acc available, skipping.\n"
          ]
        },
        {
          "name": "stdout",
          "output_type": "stream",
          "text": [
            "391/391 [==============================] - 37s 95ms/step - loss: 0.6216 - accuracy: 0.8959 - val_loss: 1.8548 - val_accuracy: 0.6326 - lr: 5.0000e-07\n",
            "Learning rate:  5e-07\n",
            "Epoch 237/300\n",
            "391/391 [==============================] - ETA: 0s - loss: 0.6204 - accuracy: 0.8953WARNING:tensorflow:Can save best model only with val_acc available, skipping.\n"
          ]
        },
        {
          "name": "stderr",
          "output_type": "stream",
          "text": [
            "WARNING:tensorflow:Can save best model only with val_acc available, skipping.\n"
          ]
        },
        {
          "name": "stdout",
          "output_type": "stream",
          "text": [
            "391/391 [==============================] - 36s 92ms/step - loss: 0.6204 - accuracy: 0.8953 - val_loss: 1.8532 - val_accuracy: 0.6328 - lr: 5.0000e-07\n",
            "Learning rate:  5e-07\n",
            "Epoch 238/300\n",
            "391/391 [==============================] - ETA: 0s - loss: 0.6209 - accuracy: 0.8959WARNING:tensorflow:Can save best model only with val_acc available, skipping.\n"
          ]
        },
        {
          "name": "stderr",
          "output_type": "stream",
          "text": [
            "WARNING:tensorflow:Can save best model only with val_acc available, skipping.\n"
          ]
        },
        {
          "name": "stdout",
          "output_type": "stream",
          "text": [
            "391/391 [==============================] - 36s 91ms/step - loss: 0.6209 - accuracy: 0.8959 - val_loss: 1.8540 - val_accuracy: 0.6329 - lr: 5.0000e-07\n",
            "Learning rate:  5e-07\n",
            "Epoch 239/300\n",
            "391/391 [==============================] - ETA: 0s - loss: 0.6269 - accuracy: 0.8930WARNING:tensorflow:Can save best model only with val_acc available, skipping.\n"
          ]
        },
        {
          "name": "stderr",
          "output_type": "stream",
          "text": [
            "WARNING:tensorflow:Can save best model only with val_acc available, skipping.\n"
          ]
        },
        {
          "name": "stdout",
          "output_type": "stream",
          "text": [
            "391/391 [==============================] - 35s 90ms/step - loss: 0.6269 - accuracy: 0.8930 - val_loss: 1.8546 - val_accuracy: 0.6330 - lr: 5.0000e-07\n",
            "Learning rate:  5e-07\n",
            "Epoch 240/300\n",
            "391/391 [==============================] - ETA: 0s - loss: 0.6201 - accuracy: 0.8964WARNING:tensorflow:Can save best model only with val_acc available, skipping.\n"
          ]
        },
        {
          "name": "stderr",
          "output_type": "stream",
          "text": [
            "WARNING:tensorflow:Can save best model only with val_acc available, skipping.\n"
          ]
        },
        {
          "name": "stdout",
          "output_type": "stream",
          "text": [
            "391/391 [==============================] - 37s 93ms/step - loss: 0.6201 - accuracy: 0.8964 - val_loss: 1.8523 - val_accuracy: 0.6344 - lr: 5.0000e-07\n",
            "Learning rate:  5e-07\n",
            "Epoch 241/300\n",
            "391/391 [==============================] - ETA: 0s - loss: 0.6195 - accuracy: 0.8964WARNING:tensorflow:Can save best model only with val_acc available, skipping.\n"
          ]
        },
        {
          "name": "stderr",
          "output_type": "stream",
          "text": [
            "WARNING:tensorflow:Can save best model only with val_acc available, skipping.\n"
          ]
        },
        {
          "name": "stdout",
          "output_type": "stream",
          "text": [
            "391/391 [==============================] - 36s 92ms/step - loss: 0.6195 - accuracy: 0.8964 - val_loss: 1.8555 - val_accuracy: 0.6331 - lr: 5.0000e-07\n",
            "Learning rate:  5e-07\n",
            "Epoch 242/300\n",
            "391/391 [==============================] - ETA: 0s - loss: 0.6187 - accuracy: 0.8968WARNING:tensorflow:Can save best model only with val_acc available, skipping.\n"
          ]
        },
        {
          "name": "stderr",
          "output_type": "stream",
          "text": [
            "WARNING:tensorflow:Can save best model only with val_acc available, skipping.\n"
          ]
        },
        {
          "name": "stdout",
          "output_type": "stream",
          "text": [
            "391/391 [==============================] - 37s 96ms/step - loss: 0.6187 - accuracy: 0.8968 - val_loss: 1.8544 - val_accuracy: 0.6329 - lr: 5.0000e-07\n",
            "Learning rate:  5e-07\n",
            "Epoch 243/300\n",
            "391/391 [==============================] - ETA: 0s - loss: 0.6211 - accuracy: 0.8959WARNING:tensorflow:Can save best model only with val_acc available, skipping.\n"
          ]
        },
        {
          "name": "stderr",
          "output_type": "stream",
          "text": [
            "WARNING:tensorflow:Can save best model only with val_acc available, skipping.\n"
          ]
        },
        {
          "name": "stdout",
          "output_type": "stream",
          "text": [
            "391/391 [==============================] - 37s 95ms/step - loss: 0.6211 - accuracy: 0.8959 - val_loss: 1.8526 - val_accuracy: 0.6331 - lr: 5.0000e-07\n",
            "Learning rate:  5e-07\n",
            "Epoch 244/300\n",
            "391/391 [==============================] - ETA: 0s - loss: 0.6207 - accuracy: 0.8949WARNING:tensorflow:Can save best model only with val_acc available, skipping.\n"
          ]
        },
        {
          "name": "stderr",
          "output_type": "stream",
          "text": [
            "WARNING:tensorflow:Can save best model only with val_acc available, skipping.\n"
          ]
        },
        {
          "name": "stdout",
          "output_type": "stream",
          "text": [
            "391/391 [==============================] - 37s 94ms/step - loss: 0.6207 - accuracy: 0.8949 - val_loss: 1.8529 - val_accuracy: 0.6337 - lr: 5.0000e-07\n",
            "Learning rate:  5e-07\n",
            "Epoch 245/300\n",
            "391/391 [==============================] - ETA: 0s - loss: 0.6260 - accuracy: 0.8928WARNING:tensorflow:Can save best model only with val_acc available, skipping.\n"
          ]
        },
        {
          "name": "stderr",
          "output_type": "stream",
          "text": [
            "WARNING:tensorflow:Can save best model only with val_acc available, skipping.\n"
          ]
        },
        {
          "name": "stdout",
          "output_type": "stream",
          "text": [
            "391/391 [==============================] - 38s 96ms/step - loss: 0.6260 - accuracy: 0.8928 - val_loss: 1.8538 - val_accuracy: 0.6332 - lr: 5.0000e-07\n",
            "Learning rate:  5e-07\n",
            "Epoch 246/300\n",
            "391/391 [==============================] - ETA: 0s - loss: 0.6218 - accuracy: 0.8961WARNING:tensorflow:Can save best model only with val_acc available, skipping.\n"
          ]
        },
        {
          "name": "stderr",
          "output_type": "stream",
          "text": [
            "WARNING:tensorflow:Can save best model only with val_acc available, skipping.\n"
          ]
        },
        {
          "name": "stdout",
          "output_type": "stream",
          "text": [
            "391/391 [==============================] - 38s 97ms/step - loss: 0.6218 - accuracy: 0.8961 - val_loss: 1.8553 - val_accuracy: 0.6329 - lr: 5.0000e-07\n",
            "Learning rate:  5e-07\n",
            "Epoch 247/300\n",
            "391/391 [==============================] - ETA: 0s - loss: 0.6210 - accuracy: 0.8955WARNING:tensorflow:Can save best model only with val_acc available, skipping.\n"
          ]
        },
        {
          "name": "stderr",
          "output_type": "stream",
          "text": [
            "WARNING:tensorflow:Can save best model only with val_acc available, skipping.\n"
          ]
        },
        {
          "name": "stdout",
          "output_type": "stream",
          "text": [
            "391/391 [==============================] - 37s 95ms/step - loss: 0.6210 - accuracy: 0.8955 - val_loss: 1.8539 - val_accuracy: 0.6333 - lr: 5.0000e-07\n",
            "Learning rate:  5e-07\n",
            "Epoch 248/300\n",
            "391/391 [==============================] - ETA: 0s - loss: 0.6218 - accuracy: 0.8956WARNING:tensorflow:Can save best model only with val_acc available, skipping.\n"
          ]
        },
        {
          "name": "stderr",
          "output_type": "stream",
          "text": [
            "WARNING:tensorflow:Can save best model only with val_acc available, skipping.\n"
          ]
        },
        {
          "name": "stdout",
          "output_type": "stream",
          "text": [
            "391/391 [==============================] - 37s 96ms/step - loss: 0.6218 - accuracy: 0.8956 - val_loss: 1.8533 - val_accuracy: 0.6322 - lr: 5.0000e-07\n",
            "Learning rate:  5e-07\n",
            "Epoch 249/300\n",
            "391/391 [==============================] - ETA: 0s - loss: 0.6211 - accuracy: 0.8951WARNING:tensorflow:Can save best model only with val_acc available, skipping.\n"
          ]
        },
        {
          "name": "stderr",
          "output_type": "stream",
          "text": [
            "WARNING:tensorflow:Can save best model only with val_acc available, skipping.\n"
          ]
        },
        {
          "name": "stdout",
          "output_type": "stream",
          "text": [
            "391/391 [==============================] - 37s 95ms/step - loss: 0.6211 - accuracy: 0.8951 - val_loss: 1.8507 - val_accuracy: 0.6340 - lr: 5.0000e-07\n",
            "Learning rate:  5e-07\n",
            "Epoch 250/300\n",
            "391/391 [==============================] - ETA: 0s - loss: 0.6228 - accuracy: 0.8950WARNING:tensorflow:Can save best model only with val_acc available, skipping.\n"
          ]
        },
        {
          "name": "stderr",
          "output_type": "stream",
          "text": [
            "WARNING:tensorflow:Can save best model only with val_acc available, skipping.\n"
          ]
        },
        {
          "name": "stdout",
          "output_type": "stream",
          "text": [
            "391/391 [==============================] - 37s 95ms/step - loss: 0.6228 - accuracy: 0.8950 - val_loss: 1.8529 - val_accuracy: 0.6334 - lr: 5.0000e-07\n",
            "Learning rate:  5e-07\n",
            "Epoch 251/300\n",
            "391/391 [==============================] - ETA: 0s - loss: 0.6210 - accuracy: 0.8969WARNING:tensorflow:Can save best model only with val_acc available, skipping.\n"
          ]
        },
        {
          "name": "stderr",
          "output_type": "stream",
          "text": [
            "WARNING:tensorflow:Can save best model only with val_acc available, skipping.\n"
          ]
        },
        {
          "name": "stdout",
          "output_type": "stream",
          "text": [
            "391/391 [==============================] - 38s 96ms/step - loss: 0.6210 - accuracy: 0.8969 - val_loss: 1.8516 - val_accuracy: 0.6332 - lr: 5.0000e-07\n",
            "Learning rate:  5e-07\n",
            "Epoch 252/300\n",
            "391/391 [==============================] - ETA: 0s - loss: 0.6204 - accuracy: 0.8956WARNING:tensorflow:Can save best model only with val_acc available, skipping.\n"
          ]
        },
        {
          "name": "stderr",
          "output_type": "stream",
          "text": [
            "WARNING:tensorflow:Can save best model only with val_acc available, skipping.\n"
          ]
        },
        {
          "name": "stdout",
          "output_type": "stream",
          "text": [
            "391/391 [==============================] - 37s 94ms/step - loss: 0.6204 - accuracy: 0.8956 - val_loss: 1.8549 - val_accuracy: 0.6338 - lr: 5.0000e-07\n",
            "Learning rate:  5e-07\n",
            "Epoch 253/300\n",
            "391/391 [==============================] - ETA: 0s - loss: 0.6206 - accuracy: 0.8967WARNING:tensorflow:Can save best model only with val_acc available, skipping.\n"
          ]
        },
        {
          "name": "stderr",
          "output_type": "stream",
          "text": [
            "WARNING:tensorflow:Can save best model only with val_acc available, skipping.\n"
          ]
        },
        {
          "name": "stdout",
          "output_type": "stream",
          "text": [
            "391/391 [==============================] - 37s 96ms/step - loss: 0.6206 - accuracy: 0.8967 - val_loss: 1.8550 - val_accuracy: 0.6324 - lr: 5.0000e-07\n",
            "Learning rate:  5e-07\n",
            "Epoch 254/300\n",
            "391/391 [==============================] - ETA: 0s - loss: 0.6205 - accuracy: 0.8965WARNING:tensorflow:Can save best model only with val_acc available, skipping.\n"
          ]
        },
        {
          "name": "stderr",
          "output_type": "stream",
          "text": [
            "WARNING:tensorflow:Can save best model only with val_acc available, skipping.\n"
          ]
        },
        {
          "name": "stdout",
          "output_type": "stream",
          "text": [
            "391/391 [==============================] - 37s 95ms/step - loss: 0.6205 - accuracy: 0.8965 - val_loss: 1.8521 - val_accuracy: 0.6339 - lr: 5.0000e-07\n",
            "Learning rate:  5e-07\n",
            "Epoch 255/300\n",
            "391/391 [==============================] - ETA: 0s - loss: 0.6220 - accuracy: 0.8952WARNING:tensorflow:Can save best model only with val_acc available, skipping.\n"
          ]
        },
        {
          "name": "stderr",
          "output_type": "stream",
          "text": [
            "WARNING:tensorflow:Can save best model only with val_acc available, skipping.\n"
          ]
        },
        {
          "name": "stdout",
          "output_type": "stream",
          "text": [
            "391/391 [==============================] - 37s 94ms/step - loss: 0.6220 - accuracy: 0.8952 - val_loss: 1.8536 - val_accuracy: 0.6326 - lr: 5.0000e-07\n",
            "Learning rate:  5e-07\n",
            "Epoch 256/300\n",
            "391/391 [==============================] - ETA: 0s - loss: 0.6195 - accuracy: 0.8958WARNING:tensorflow:Can save best model only with val_acc available, skipping.\n"
          ]
        },
        {
          "name": "stderr",
          "output_type": "stream",
          "text": [
            "WARNING:tensorflow:Can save best model only with val_acc available, skipping.\n"
          ]
        },
        {
          "name": "stdout",
          "output_type": "stream",
          "text": [
            "391/391 [==============================] - 37s 95ms/step - loss: 0.6195 - accuracy: 0.8958 - val_loss: 1.8540 - val_accuracy: 0.6340 - lr: 5.0000e-07\n",
            "Learning rate:  5e-07\n",
            "Epoch 257/300\n",
            "391/391 [==============================] - ETA: 0s - loss: 0.6227 - accuracy: 0.8952WARNING:tensorflow:Can save best model only with val_acc available, skipping.\n"
          ]
        },
        {
          "name": "stderr",
          "output_type": "stream",
          "text": [
            "WARNING:tensorflow:Can save best model only with val_acc available, skipping.\n"
          ]
        },
        {
          "name": "stdout",
          "output_type": "stream",
          "text": [
            "391/391 [==============================] - 37s 94ms/step - loss: 0.6227 - accuracy: 0.8952 - val_loss: 1.8536 - val_accuracy: 0.6334 - lr: 5.0000e-07\n",
            "Learning rate:  5e-07\n",
            "Epoch 258/300\n",
            "391/391 [==============================] - ETA: 0s - loss: 0.6228 - accuracy: 0.8940WARNING:tensorflow:Can save best model only with val_acc available, skipping.\n"
          ]
        },
        {
          "name": "stderr",
          "output_type": "stream",
          "text": [
            "WARNING:tensorflow:Can save best model only with val_acc available, skipping.\n"
          ]
        },
        {
          "name": "stdout",
          "output_type": "stream",
          "text": [
            "391/391 [==============================] - 37s 94ms/step - loss: 0.6228 - accuracy: 0.8940 - val_loss: 1.8522 - val_accuracy: 0.6342 - lr: 5.0000e-07\n",
            "Learning rate:  5e-07\n",
            "Epoch 259/300\n",
            "391/391 [==============================] - ETA: 0s - loss: 0.6141 - accuracy: 0.8980WARNING:tensorflow:Can save best model only with val_acc available, skipping.\n"
          ]
        },
        {
          "name": "stderr",
          "output_type": "stream",
          "text": [
            "WARNING:tensorflow:Can save best model only with val_acc available, skipping.\n"
          ]
        },
        {
          "name": "stdout",
          "output_type": "stream",
          "text": [
            "391/391 [==============================] - 37s 95ms/step - loss: 0.6141 - accuracy: 0.8980 - val_loss: 1.8514 - val_accuracy: 0.6329 - lr: 5.0000e-07\n",
            "Learning rate:  5e-07\n",
            "Epoch 260/300\n",
            "391/391 [==============================] - ETA: 0s - loss: 0.6192 - accuracy: 0.8957WARNING:tensorflow:Can save best model only with val_acc available, skipping.\n"
          ]
        },
        {
          "name": "stderr",
          "output_type": "stream",
          "text": [
            "WARNING:tensorflow:Can save best model only with val_acc available, skipping.\n"
          ]
        },
        {
          "name": "stdout",
          "output_type": "stream",
          "text": [
            "391/391 [==============================] - 36s 93ms/step - loss: 0.6192 - accuracy: 0.8957 - val_loss: 1.8551 - val_accuracy: 0.6329 - lr: 5.0000e-07\n",
            "Learning rate:  5e-07\n",
            "Epoch 261/300\n",
            "391/391 [==============================] - ETA: 0s - loss: 0.6188 - accuracy: 0.8968WARNING:tensorflow:Can save best model only with val_acc available, skipping.\n"
          ]
        },
        {
          "name": "stderr",
          "output_type": "stream",
          "text": [
            "WARNING:tensorflow:Can save best model only with val_acc available, skipping.\n"
          ]
        },
        {
          "name": "stdout",
          "output_type": "stream",
          "text": [
            "391/391 [==============================] - 37s 94ms/step - loss: 0.6188 - accuracy: 0.8968 - val_loss: 1.8516 - val_accuracy: 0.6339 - lr: 5.0000e-07\n",
            "Learning rate:  5e-07\n",
            "Epoch 262/300\n",
            "391/391 [==============================] - ETA: 0s - loss: 0.6218 - accuracy: 0.8951WARNING:tensorflow:Can save best model only with val_acc available, skipping.\n"
          ]
        },
        {
          "name": "stderr",
          "output_type": "stream",
          "text": [
            "WARNING:tensorflow:Can save best model only with val_acc available, skipping.\n"
          ]
        },
        {
          "name": "stdout",
          "output_type": "stream",
          "text": [
            "391/391 [==============================] - 37s 94ms/step - loss: 0.6218 - accuracy: 0.8951 - val_loss: 1.8521 - val_accuracy: 0.6333 - lr: 5.0000e-07\n",
            "Learning rate:  5e-07\n",
            "Epoch 263/300\n",
            "391/391 [==============================] - ETA: 0s - loss: 0.6206 - accuracy: 0.8966WARNING:tensorflow:Can save best model only with val_acc available, skipping.\n"
          ]
        },
        {
          "name": "stderr",
          "output_type": "stream",
          "text": [
            "WARNING:tensorflow:Can save best model only with val_acc available, skipping.\n"
          ]
        },
        {
          "name": "stdout",
          "output_type": "stream",
          "text": [
            "391/391 [==============================] - 37s 94ms/step - loss: 0.6206 - accuracy: 0.8966 - val_loss: 1.8535 - val_accuracy: 0.6329 - lr: 5.0000e-07\n",
            "Learning rate:  5e-07\n",
            "Epoch 264/300\n",
            "391/391 [==============================] - ETA: 0s - loss: 0.6168 - accuracy: 0.8976WARNING:tensorflow:Can save best model only with val_acc available, skipping.\n"
          ]
        },
        {
          "name": "stderr",
          "output_type": "stream",
          "text": [
            "WARNING:tensorflow:Can save best model only with val_acc available, skipping.\n"
          ]
        },
        {
          "name": "stdout",
          "output_type": "stream",
          "text": [
            "391/391 [==============================] - 37s 94ms/step - loss: 0.6168 - accuracy: 0.8976 - val_loss: 1.8523 - val_accuracy: 0.6326 - lr: 5.0000e-07\n",
            "Learning rate:  5e-07\n",
            "Epoch 265/300\n",
            "391/391 [==============================] - ETA: 0s - loss: 0.6196 - accuracy: 0.8975WARNING:tensorflow:Can save best model only with val_acc available, skipping.\n"
          ]
        },
        {
          "name": "stderr",
          "output_type": "stream",
          "text": [
            "WARNING:tensorflow:Can save best model only with val_acc available, skipping.\n"
          ]
        },
        {
          "name": "stdout",
          "output_type": "stream",
          "text": [
            "391/391 [==============================] - 36s 92ms/step - loss: 0.6196 - accuracy: 0.8975 - val_loss: 1.8503 - val_accuracy: 0.6336 - lr: 5.0000e-07\n",
            "Learning rate:  5e-07\n",
            "Epoch 266/300\n",
            "391/391 [==============================] - ETA: 0s - loss: 0.6195 - accuracy: 0.8973WARNING:tensorflow:Can save best model only with val_acc available, skipping.\n"
          ]
        },
        {
          "name": "stderr",
          "output_type": "stream",
          "text": [
            "WARNING:tensorflow:Can save best model only with val_acc available, skipping.\n"
          ]
        },
        {
          "name": "stdout",
          "output_type": "stream",
          "text": [
            "391/391 [==============================] - 37s 95ms/step - loss: 0.6195 - accuracy: 0.8973 - val_loss: 1.8547 - val_accuracy: 0.6330 - lr: 5.0000e-07\n",
            "Learning rate:  5e-07\n",
            "Epoch 267/300\n",
            "391/391 [==============================] - ETA: 0s - loss: 0.6194 - accuracy: 0.8964WARNING:tensorflow:Can save best model only with val_acc available, skipping.\n"
          ]
        },
        {
          "name": "stderr",
          "output_type": "stream",
          "text": [
            "WARNING:tensorflow:Can save best model only with val_acc available, skipping.\n"
          ]
        },
        {
          "name": "stdout",
          "output_type": "stream",
          "text": [
            "391/391 [==============================] - 37s 95ms/step - loss: 0.6194 - accuracy: 0.8964 - val_loss: 1.8542 - val_accuracy: 0.6327 - lr: 5.0000e-07\n",
            "Learning rate:  5e-07\n",
            "Epoch 268/300\n",
            "391/391 [==============================] - ETA: 0s - loss: 0.6174 - accuracy: 0.8985WARNING:tensorflow:Can save best model only with val_acc available, skipping.\n"
          ]
        },
        {
          "name": "stderr",
          "output_type": "stream",
          "text": [
            "WARNING:tensorflow:Can save best model only with val_acc available, skipping.\n"
          ]
        },
        {
          "name": "stdout",
          "output_type": "stream",
          "text": [
            "391/391 [==============================] - 36s 93ms/step - loss: 0.6174 - accuracy: 0.8985 - val_loss: 1.8552 - val_accuracy: 0.6328 - lr: 5.0000e-07\n",
            "Learning rate:  5e-07\n",
            "Epoch 269/300\n",
            "391/391 [==============================] - ETA: 0s - loss: 0.6234 - accuracy: 0.8952WARNING:tensorflow:Can save best model only with val_acc available, skipping.\n"
          ]
        },
        {
          "name": "stderr",
          "output_type": "stream",
          "text": [
            "WARNING:tensorflow:Can save best model only with val_acc available, skipping.\n"
          ]
        },
        {
          "name": "stdout",
          "output_type": "stream",
          "text": [
            "391/391 [==============================] - 37s 94ms/step - loss: 0.6234 - accuracy: 0.8952 - val_loss: 1.8535 - val_accuracy: 0.6331 - lr: 5.0000e-07\n",
            "Learning rate:  5e-07\n",
            "Epoch 270/300\n",
            "391/391 [==============================] - ETA: 0s - loss: 0.6193 - accuracy: 0.8968WARNING:tensorflow:Can save best model only with val_acc available, skipping.\n"
          ]
        },
        {
          "name": "stderr",
          "output_type": "stream",
          "text": [
            "WARNING:tensorflow:Can save best model only with val_acc available, skipping.\n"
          ]
        },
        {
          "name": "stdout",
          "output_type": "stream",
          "text": [
            "391/391 [==============================] - 37s 94ms/step - loss: 0.6193 - accuracy: 0.8968 - val_loss: 1.8520 - val_accuracy: 0.6330 - lr: 5.0000e-07\n",
            "Learning rate:  5e-07\n",
            "Epoch 271/300\n",
            "391/391 [==============================] - ETA: 0s - loss: 0.6217 - accuracy: 0.8944WARNING:tensorflow:Can save best model only with val_acc available, skipping.\n"
          ]
        },
        {
          "name": "stderr",
          "output_type": "stream",
          "text": [
            "WARNING:tensorflow:Can save best model only with val_acc available, skipping.\n"
          ]
        },
        {
          "name": "stdout",
          "output_type": "stream",
          "text": [
            "391/391 [==============================] - 37s 95ms/step - loss: 0.6217 - accuracy: 0.8944 - val_loss: 1.8552 - val_accuracy: 0.6333 - lr: 5.0000e-07\n",
            "Learning rate:  5e-07\n",
            "Epoch 272/300\n",
            "391/391 [==============================] - ETA: 0s - loss: 0.6222 - accuracy: 0.8957WARNING:tensorflow:Can save best model only with val_acc available, skipping.\n"
          ]
        },
        {
          "name": "stderr",
          "output_type": "stream",
          "text": [
            "WARNING:tensorflow:Can save best model only with val_acc available, skipping.\n"
          ]
        },
        {
          "name": "stdout",
          "output_type": "stream",
          "text": [
            "391/391 [==============================] - 37s 96ms/step - loss: 0.6222 - accuracy: 0.8957 - val_loss: 1.8543 - val_accuracy: 0.6333 - lr: 5.0000e-07\n",
            "Learning rate:  5e-07\n",
            "Epoch 273/300\n",
            "391/391 [==============================] - ETA: 0s - loss: 0.6215 - accuracy: 0.8963WARNING:tensorflow:Can save best model only with val_acc available, skipping.\n"
          ]
        },
        {
          "name": "stderr",
          "output_type": "stream",
          "text": [
            "WARNING:tensorflow:Can save best model only with val_acc available, skipping.\n"
          ]
        },
        {
          "name": "stdout",
          "output_type": "stream",
          "text": [
            "391/391 [==============================] - 36s 93ms/step - loss: 0.6215 - accuracy: 0.8963 - val_loss: 1.8554 - val_accuracy: 0.6328 - lr: 5.0000e-07\n",
            "Learning rate:  5e-07\n",
            "Epoch 274/300\n",
            "391/391 [==============================] - ETA: 0s - loss: 0.6188 - accuracy: 0.8975WARNING:tensorflow:Can save best model only with val_acc available, skipping.\n"
          ]
        },
        {
          "name": "stderr",
          "output_type": "stream",
          "text": [
            "WARNING:tensorflow:Can save best model only with val_acc available, skipping.\n"
          ]
        },
        {
          "name": "stdout",
          "output_type": "stream",
          "text": [
            "391/391 [==============================] - 37s 95ms/step - loss: 0.6188 - accuracy: 0.8975 - val_loss: 1.8534 - val_accuracy: 0.6328 - lr: 5.0000e-07\n",
            "Learning rate:  5e-07\n",
            "Epoch 275/300\n",
            "391/391 [==============================] - ETA: 0s - loss: 0.6210 - accuracy: 0.8968WARNING:tensorflow:Can save best model only with val_acc available, skipping.\n"
          ]
        },
        {
          "name": "stderr",
          "output_type": "stream",
          "text": [
            "WARNING:tensorflow:Can save best model only with val_acc available, skipping.\n"
          ]
        },
        {
          "name": "stdout",
          "output_type": "stream",
          "text": [
            "391/391 [==============================] - 37s 93ms/step - loss: 0.6210 - accuracy: 0.8968 - val_loss: 1.8537 - val_accuracy: 0.6325 - lr: 5.0000e-07\n",
            "Learning rate:  5e-07\n",
            "Epoch 276/300\n",
            "391/391 [==============================] - ETA: 0s - loss: 0.6231 - accuracy: 0.8954WARNING:tensorflow:Can save best model only with val_acc available, skipping.\n"
          ]
        },
        {
          "name": "stderr",
          "output_type": "stream",
          "text": [
            "WARNING:tensorflow:Can save best model only with val_acc available, skipping.\n"
          ]
        },
        {
          "name": "stdout",
          "output_type": "stream",
          "text": [
            "391/391 [==============================] - 36s 93ms/step - loss: 0.6231 - accuracy: 0.8954 - val_loss: 1.8531 - val_accuracy: 0.6329 - lr: 5.0000e-07\n",
            "Learning rate:  5e-07\n",
            "Epoch 277/300\n",
            "391/391 [==============================] - ETA: 0s - loss: 0.6188 - accuracy: 0.8954WARNING:tensorflow:Can save best model only with val_acc available, skipping.\n"
          ]
        },
        {
          "name": "stderr",
          "output_type": "stream",
          "text": [
            "WARNING:tensorflow:Can save best model only with val_acc available, skipping.\n"
          ]
        },
        {
          "name": "stdout",
          "output_type": "stream",
          "text": [
            "391/391 [==============================] - 37s 94ms/step - loss: 0.6188 - accuracy: 0.8954 - val_loss: 1.8539 - val_accuracy: 0.6328 - lr: 5.0000e-07\n",
            "Learning rate:  5e-07\n",
            "Epoch 278/300\n",
            "391/391 [==============================] - ETA: 0s - loss: 0.6150 - accuracy: 0.8979WARNING:tensorflow:Can save best model only with val_acc available, skipping.\n"
          ]
        },
        {
          "name": "stderr",
          "output_type": "stream",
          "text": [
            "WARNING:tensorflow:Can save best model only with val_acc available, skipping.\n"
          ]
        },
        {
          "name": "stdout",
          "output_type": "stream",
          "text": [
            "391/391 [==============================] - 36s 93ms/step - loss: 0.6150 - accuracy: 0.8979 - val_loss: 1.8537 - val_accuracy: 0.6332 - lr: 5.0000e-07\n",
            "Learning rate:  5e-07\n",
            "Epoch 279/300\n",
            "391/391 [==============================] - ETA: 0s - loss: 0.6165 - accuracy: 0.8968WARNING:tensorflow:Can save best model only with val_acc available, skipping.\n"
          ]
        },
        {
          "name": "stderr",
          "output_type": "stream",
          "text": [
            "WARNING:tensorflow:Can save best model only with val_acc available, skipping.\n"
          ]
        },
        {
          "name": "stdout",
          "output_type": "stream",
          "text": [
            "391/391 [==============================] - 37s 95ms/step - loss: 0.6165 - accuracy: 0.8968 - val_loss: 1.8554 - val_accuracy: 0.6324 - lr: 5.0000e-07\n",
            "Learning rate:  5e-07\n",
            "Epoch 280/300\n",
            "391/391 [==============================] - ETA: 0s - loss: 0.6200 - accuracy: 0.8964WARNING:tensorflow:Can save best model only with val_acc available, skipping.\n"
          ]
        },
        {
          "name": "stderr",
          "output_type": "stream",
          "text": [
            "WARNING:tensorflow:Can save best model only with val_acc available, skipping.\n"
          ]
        },
        {
          "name": "stdout",
          "output_type": "stream",
          "text": [
            "391/391 [==============================] - 37s 94ms/step - loss: 0.6200 - accuracy: 0.8964 - val_loss: 1.8532 - val_accuracy: 0.6335 - lr: 5.0000e-07\n",
            "Learning rate:  5e-07\n",
            "Epoch 281/300\n",
            "391/391 [==============================] - ETA: 0s - loss: 0.6194 - accuracy: 0.8983WARNING:tensorflow:Can save best model only with val_acc available, skipping.\n"
          ]
        },
        {
          "name": "stderr",
          "output_type": "stream",
          "text": [
            "WARNING:tensorflow:Can save best model only with val_acc available, skipping.\n"
          ]
        },
        {
          "name": "stdout",
          "output_type": "stream",
          "text": [
            "391/391 [==============================] - 36s 93ms/step - loss: 0.6194 - accuracy: 0.8983 - val_loss: 1.8549 - val_accuracy: 0.6331 - lr: 5.0000e-07\n",
            "Learning rate:  5e-07\n",
            "Epoch 282/300\n",
            "391/391 [==============================] - ETA: 0s - loss: 0.6209 - accuracy: 0.8962WARNING:tensorflow:Can save best model only with val_acc available, skipping.\n"
          ]
        },
        {
          "name": "stderr",
          "output_type": "stream",
          "text": [
            "WARNING:tensorflow:Can save best model only with val_acc available, skipping.\n"
          ]
        },
        {
          "name": "stdout",
          "output_type": "stream",
          "text": [
            "391/391 [==============================] - 37s 94ms/step - loss: 0.6209 - accuracy: 0.8962 - val_loss: 1.8544 - val_accuracy: 0.6333 - lr: 5.0000e-07\n",
            "Learning rate:  5e-07\n",
            "Epoch 283/300\n",
            "391/391 [==============================] - ETA: 0s - loss: 0.6205 - accuracy: 0.8964WARNING:tensorflow:Can save best model only with val_acc available, skipping.\n"
          ]
        },
        {
          "name": "stderr",
          "output_type": "stream",
          "text": [
            "WARNING:tensorflow:Can save best model only with val_acc available, skipping.\n"
          ]
        },
        {
          "name": "stdout",
          "output_type": "stream",
          "text": [
            "391/391 [==============================] - 37s 95ms/step - loss: 0.6205 - accuracy: 0.8964 - val_loss: 1.8555 - val_accuracy: 0.6332 - lr: 5.0000e-07\n",
            "Learning rate:  5e-07\n",
            "Epoch 284/300\n",
            "391/391 [==============================] - ETA: 0s - loss: 0.6171 - accuracy: 0.8973WARNING:tensorflow:Can save best model only with val_acc available, skipping.\n"
          ]
        },
        {
          "name": "stderr",
          "output_type": "stream",
          "text": [
            "WARNING:tensorflow:Can save best model only with val_acc available, skipping.\n"
          ]
        },
        {
          "name": "stdout",
          "output_type": "stream",
          "text": [
            "391/391 [==============================] - 37s 94ms/step - loss: 0.6171 - accuracy: 0.8973 - val_loss: 1.8536 - val_accuracy: 0.6330 - lr: 5.0000e-07\n",
            "Learning rate:  5e-07\n",
            "Epoch 285/300\n",
            "391/391 [==============================] - ETA: 0s - loss: 0.6207 - accuracy: 0.8954WARNING:tensorflow:Can save best model only with val_acc available, skipping.\n"
          ]
        },
        {
          "name": "stderr",
          "output_type": "stream",
          "text": [
            "WARNING:tensorflow:Can save best model only with val_acc available, skipping.\n"
          ]
        },
        {
          "name": "stdout",
          "output_type": "stream",
          "text": [
            "391/391 [==============================] - 37s 94ms/step - loss: 0.6207 - accuracy: 0.8954 - val_loss: 1.8543 - val_accuracy: 0.6331 - lr: 5.0000e-07\n",
            "Learning rate:  5e-07\n",
            "Epoch 286/300\n",
            "391/391 [==============================] - ETA: 0s - loss: 0.6201 - accuracy: 0.8958WARNING:tensorflow:Can save best model only with val_acc available, skipping.\n"
          ]
        },
        {
          "name": "stderr",
          "output_type": "stream",
          "text": [
            "WARNING:tensorflow:Can save best model only with val_acc available, skipping.\n"
          ]
        },
        {
          "name": "stdout",
          "output_type": "stream",
          "text": [
            "391/391 [==============================] - 37s 93ms/step - loss: 0.6201 - accuracy: 0.8958 - val_loss: 1.8551 - val_accuracy: 0.6329 - lr: 5.0000e-07\n",
            "Learning rate:  5e-07\n",
            "Epoch 287/300\n",
            "391/391 [==============================] - ETA: 0s - loss: 0.6201 - accuracy: 0.8946WARNING:tensorflow:Can save best model only with val_acc available, skipping.\n"
          ]
        },
        {
          "name": "stderr",
          "output_type": "stream",
          "text": [
            "WARNING:tensorflow:Can save best model only with val_acc available, skipping.\n"
          ]
        },
        {
          "name": "stdout",
          "output_type": "stream",
          "text": [
            "391/391 [==============================] - 37s 95ms/step - loss: 0.6201 - accuracy: 0.8946 - val_loss: 1.8520 - val_accuracy: 0.6344 - lr: 5.0000e-07\n",
            "Learning rate:  5e-07\n",
            "Epoch 288/300\n",
            "391/391 [==============================] - ETA: 0s - loss: 0.6225 - accuracy: 0.8948WARNING:tensorflow:Can save best model only with val_acc available, skipping.\n"
          ]
        },
        {
          "name": "stderr",
          "output_type": "stream",
          "text": [
            "WARNING:tensorflow:Can save best model only with val_acc available, skipping.\n"
          ]
        },
        {
          "name": "stdout",
          "output_type": "stream",
          "text": [
            "391/391 [==============================] - 37s 94ms/step - loss: 0.6225 - accuracy: 0.8948 - val_loss: 1.8541 - val_accuracy: 0.6329 - lr: 5.0000e-07\n",
            "Learning rate:  5e-07\n",
            "Epoch 289/300\n",
            "391/391 [==============================] - ETA: 0s - loss: 0.6193 - accuracy: 0.8968WARNING:tensorflow:Can save best model only with val_acc available, skipping.\n"
          ]
        },
        {
          "name": "stderr",
          "output_type": "stream",
          "text": [
            "WARNING:tensorflow:Can save best model only with val_acc available, skipping.\n"
          ]
        },
        {
          "name": "stdout",
          "output_type": "stream",
          "text": [
            "391/391 [==============================] - 38s 96ms/step - loss: 0.6193 - accuracy: 0.8968 - val_loss: 1.8537 - val_accuracy: 0.6338 - lr: 5.0000e-07\n",
            "Learning rate:  5e-07\n",
            "Epoch 290/300\n",
            "391/391 [==============================] - ETA: 0s - loss: 0.6197 - accuracy: 0.8961WARNING:tensorflow:Can save best model only with val_acc available, skipping.\n"
          ]
        },
        {
          "name": "stderr",
          "output_type": "stream",
          "text": [
            "WARNING:tensorflow:Can save best model only with val_acc available, skipping.\n"
          ]
        },
        {
          "name": "stdout",
          "output_type": "stream",
          "text": [
            "391/391 [==============================] - 37s 94ms/step - loss: 0.6197 - accuracy: 0.8961 - val_loss: 1.8517 - val_accuracy: 0.6334 - lr: 5.0000e-07\n",
            "Learning rate:  5e-07\n",
            "Epoch 291/300\n",
            "391/391 [==============================] - ETA: 0s - loss: 0.6173 - accuracy: 0.8968WARNING:tensorflow:Can save best model only with val_acc available, skipping.\n"
          ]
        },
        {
          "name": "stderr",
          "output_type": "stream",
          "text": [
            "WARNING:tensorflow:Can save best model only with val_acc available, skipping.\n"
          ]
        },
        {
          "name": "stdout",
          "output_type": "stream",
          "text": [
            "391/391 [==============================] - 37s 94ms/step - loss: 0.6173 - accuracy: 0.8968 - val_loss: 1.8535 - val_accuracy: 0.6335 - lr: 5.0000e-07\n",
            "Learning rate:  5e-07\n",
            "Epoch 292/300\n",
            "391/391 [==============================] - ETA: 0s - loss: 0.6158 - accuracy: 0.8982WARNING:tensorflow:Can save best model only with val_acc available, skipping.\n"
          ]
        },
        {
          "name": "stderr",
          "output_type": "stream",
          "text": [
            "WARNING:tensorflow:Can save best model only with val_acc available, skipping.\n"
          ]
        },
        {
          "name": "stdout",
          "output_type": "stream",
          "text": [
            "391/391 [==============================] - 37s 95ms/step - loss: 0.6158 - accuracy: 0.8982 - val_loss: 1.8534 - val_accuracy: 0.6339 - lr: 5.0000e-07\n",
            "Learning rate:  5e-07\n",
            "Epoch 293/300\n",
            "391/391 [==============================] - ETA: 0s - loss: 0.6218 - accuracy: 0.8960WARNING:tensorflow:Can save best model only with val_acc available, skipping.\n"
          ]
        },
        {
          "name": "stderr",
          "output_type": "stream",
          "text": [
            "WARNING:tensorflow:Can save best model only with val_acc available, skipping.\n"
          ]
        },
        {
          "name": "stdout",
          "output_type": "stream",
          "text": [
            "391/391 [==============================] - 37s 96ms/step - loss: 0.6218 - accuracy: 0.8960 - val_loss: 1.8510 - val_accuracy: 0.6338 - lr: 5.0000e-07\n",
            "Learning rate:  5e-07\n",
            "Epoch 294/300\n",
            "391/391 [==============================] - ETA: 0s - loss: 0.6194 - accuracy: 0.8971WARNING:tensorflow:Can save best model only with val_acc available, skipping.\n"
          ]
        },
        {
          "name": "stderr",
          "output_type": "stream",
          "text": [
            "WARNING:tensorflow:Can save best model only with val_acc available, skipping.\n"
          ]
        },
        {
          "name": "stdout",
          "output_type": "stream",
          "text": [
            "391/391 [==============================] - 37s 94ms/step - loss: 0.6194 - accuracy: 0.8971 - val_loss: 1.8530 - val_accuracy: 0.6342 - lr: 5.0000e-07\n",
            "Learning rate:  5e-07\n",
            "Epoch 295/300\n",
            "391/391 [==============================] - ETA: 0s - loss: 0.6176 - accuracy: 0.8974WARNING:tensorflow:Can save best model only with val_acc available, skipping.\n"
          ]
        },
        {
          "name": "stderr",
          "output_type": "stream",
          "text": [
            "WARNING:tensorflow:Can save best model only with val_acc available, skipping.\n"
          ]
        },
        {
          "name": "stdout",
          "output_type": "stream",
          "text": [
            "391/391 [==============================] - 37s 95ms/step - loss: 0.6176 - accuracy: 0.8974 - val_loss: 1.8509 - val_accuracy: 0.6346 - lr: 5.0000e-07\n",
            "Learning rate:  5e-07\n",
            "Epoch 296/300\n",
            "391/391 [==============================] - ETA: 0s - loss: 0.6186 - accuracy: 0.8949WARNING:tensorflow:Can save best model only with val_acc available, skipping.\n"
          ]
        },
        {
          "name": "stderr",
          "output_type": "stream",
          "text": [
            "WARNING:tensorflow:Can save best model only with val_acc available, skipping.\n"
          ]
        },
        {
          "name": "stdout",
          "output_type": "stream",
          "text": [
            "391/391 [==============================] - 37s 94ms/step - loss: 0.6186 - accuracy: 0.8949 - val_loss: 1.8508 - val_accuracy: 0.6336 - lr: 5.0000e-07\n",
            "Learning rate:  5e-07\n",
            "Epoch 297/300\n",
            "391/391 [==============================] - ETA: 0s - loss: 0.6211 - accuracy: 0.8965WARNING:tensorflow:Can save best model only with val_acc available, skipping.\n"
          ]
        },
        {
          "name": "stderr",
          "output_type": "stream",
          "text": [
            "WARNING:tensorflow:Can save best model only with val_acc available, skipping.\n"
          ]
        },
        {
          "name": "stdout",
          "output_type": "stream",
          "text": [
            "391/391 [==============================] - 37s 94ms/step - loss: 0.6211 - accuracy: 0.8965 - val_loss: 1.8527 - val_accuracy: 0.6333 - lr: 5.0000e-07\n",
            "Learning rate:  5e-07\n",
            "Epoch 298/300\n",
            "391/391 [==============================] - ETA: 0s - loss: 0.6169 - accuracy: 0.8972WARNING:tensorflow:Can save best model only with val_acc available, skipping.\n"
          ]
        },
        {
          "name": "stderr",
          "output_type": "stream",
          "text": [
            "WARNING:tensorflow:Can save best model only with val_acc available, skipping.\n"
          ]
        },
        {
          "name": "stdout",
          "output_type": "stream",
          "text": [
            "391/391 [==============================] - 37s 94ms/step - loss: 0.6169 - accuracy: 0.8972 - val_loss: 1.8517 - val_accuracy: 0.6332 - lr: 5.0000e-07\n",
            "Learning rate:  5e-07\n",
            "Epoch 299/300\n",
            "391/391 [==============================] - ETA: 0s - loss: 0.6229 - accuracy: 0.8966WARNING:tensorflow:Can save best model only with val_acc available, skipping.\n"
          ]
        },
        {
          "name": "stderr",
          "output_type": "stream",
          "text": [
            "WARNING:tensorflow:Can save best model only with val_acc available, skipping.\n"
          ]
        },
        {
          "name": "stdout",
          "output_type": "stream",
          "text": [
            "391/391 [==============================] - 37s 94ms/step - loss: 0.6229 - accuracy: 0.8966 - val_loss: 1.8521 - val_accuracy: 0.6339 - lr: 5.0000e-07\n",
            "Learning rate:  5e-07\n",
            "Epoch 300/300\n",
            "391/391 [==============================] - ETA: 0s - loss: 0.6188 - accuracy: 0.8966WARNING:tensorflow:Can save best model only with val_acc available, skipping.\n"
          ]
        },
        {
          "name": "stderr",
          "output_type": "stream",
          "text": [
            "WARNING:tensorflow:Can save best model only with val_acc available, skipping.\n"
          ]
        },
        {
          "name": "stdout",
          "output_type": "stream",
          "text": [
            "391/391 [==============================] - 37s 95ms/step - loss: 0.6188 - accuracy: 0.8966 - val_loss: 1.8527 - val_accuracy: 0.6339 - lr: 5.0000e-07\n"
          ]
        },
        {
          "data": {
            "text/plain": [
              "ERROR: Failed to start `tensorboard`: [Errno 12] Cannot allocate\n",
              "memory"
            ]
          },
          "metadata": {},
          "output_type": "display_data"
        },
        {
          "name": "stdout",
          "output_type": "stream",
          "text": [
            "overall training time is 11163.533062696457\n",
            "each epoch training time is [84.5695469379425, 37.698771715164185, 37.431880712509155, 37.09733319282532, 37.38744759559631, 36.882832527160645, 36.91058325767517, 37.017744064331055, 36.96219348907471, 37.45370697975159, 37.13502335548401, 36.62234592437744, 37.10182452201843, 37.312400817871094, 37.59899663925171, 37.94370460510254, 36.96969270706177, 37.807372093200684, 37.46216034889221, 37.08703804016113, 37.51829171180725, 36.96486830711365, 37.219077587127686, 37.47233819961548, 36.52335214614868, 37.22856783866882, 36.76262331008911, 36.73433232307434, 36.83588910102844, 36.44287896156311, 37.15161991119385, 36.83029007911682, 36.53927683830261, 36.89430022239685, 37.14766025543213, 37.25333023071289, 37.4960572719574, 36.95068168640137, 37.587944984436035, 37.23569965362549, 36.53889870643616, 36.89419174194336, 36.46238851547241, 37.12699007987976, 37.81087112426758, 36.699251890182495, 36.84021186828613, 36.68663501739502, 37.00911521911621, 37.21462845802307, 36.56758260726929, 37.11365032196045, 37.04504919052124, 36.31823229789734, 36.84266138076782, 36.68394112586975, 37.12822151184082, 37.216856241226196, 36.35284185409546, 36.86151099205017, 36.72690153121948, 37.35552668571472, 37.175761699676514, 36.85501027107239, 37.24015426635742, 37.29572796821594, 36.73088192939758, 36.99286127090454, 36.57125496864319, 37.02076196670532, 36.89609909057617, 36.564555168151855, 37.69154977798462, 37.08532524108887, 36.58078956604004, 36.89892244338989, 36.36841893196106, 37.067094802856445, 36.60493612289429, 36.14275670051575, 36.66635060310364, 36.390921115875244, 36.7842583656311, 37.11926198005676, 36.01781463623047, 37.244680643081665, 36.23502588272095, 36.75238084793091, 37.140936851501465, 36.297234535217285, 37.12077617645264, 36.9782657623291, 36.324137687683105, 37.983318567276, 36.772379636764526, 35.803168535232544, 34.94110679626465, 35.049429178237915, 36.82773208618164, 36.731268882751465, 36.90683126449585, 36.83178353309631, 36.52400493621826, 37.87431836128235, 37.28302025794983, 37.147928953170776, 37.36352205276489, 36.88793635368347, 37.194212675094604, 37.13209676742554, 36.53372764587402, 36.98718857765198, 36.509798526763916, 36.71816062927246, 36.7171745300293, 36.35164451599121, 37.40919899940491, 36.8315052986145, 36.63736128807068, 36.95073747634888, 36.60159206390381, 37.1528844833374, 36.85243821144104, 36.193073987960815, 37.02277994155884, 36.552000522613525, 36.65405082702637, 37.20090103149414, 36.534929513931274, 37.30806088447571, 36.465147256851196, 36.17065787315369, 36.82383847236633, 36.39076828956604, 36.865495681762695, 36.74926567077637, 36.2091383934021, 36.87086296081543, 37.14180779457092, 37.15514302253723, 37.002790451049805, 36.64720559120178, 38.16708016395569, 37.13629102706909, 36.36683654785156, 36.89943265914917, 36.75421690940857, 36.87230920791626, 36.96846342086792, 36.71094751358032, 37.09872126579285, 36.94532299041748, 36.79771566390991, 36.74576139450073, 36.39946222305298, 36.68690061569214, 36.42345309257507, 36.30814504623413, 36.7578763961792, 36.35167670249939, 37.49038052558899, 36.976914405822754, 36.48140096664429, 36.83644461631775, 36.465139627456665, 36.93323588371277, 36.74896240234375, 36.2851026058197, 37.04830193519592, 36.93545436859131, 36.58502745628357, 37.52576518058777, 37.01313829421997, 37.49426507949829, 37.29710412025452, 36.93580722808838, 37.47003793716431, 36.949087142944336, 36.95345449447632, 37.20355153083801, 36.48194479942322, 37.54425024986267, 36.99439859390259, 36.62149906158447, 37.0290265083313, 36.53276300430298, 36.70735502243042, 37.34983539581299, 36.61994791030884, 37.40499186515808, 38.03271412849426, 36.81628775596619, 36.794382095336914, 36.63244986534119, 36.849146366119385, 36.95224404335022, 36.361069440841675, 37.35587024688721, 36.82250094413757, 36.63545870780945, 37.11041021347046, 36.42079758644104, 37.46913504600525, 37.12659239768982, 37.005470991134644, 37.35278248786926, 37.08299946784973, 37.27051544189453, 37.363492250442505, 36.72297525405884, 37.054707288742065, 37.08114957809448, 36.33024501800537, 36.96362280845642, 36.69024419784546, 36.74947786331177, 37.148189306259155, 36.77018213272095, 37.59065580368042, 37.04828882217407, 36.72316551208496, 37.183746576309204, 36.59272837638855, 37.40563750267029, 37.197407960891724, 36.72343325614929, 37.27408218383789, 36.87838101387024, 37.0336012840271, 37.42128801345825, 36.779765129089355, 37.00436067581177, 37.02094745635986, 36.53588819503784, 37.180893898010254, 37.166627645492554, 36.253437519073486, 35.628485441207886, 35.32459592819214, 36.63884782791138, 35.98416614532471, 37.495604276657104, 37.44168829917908, 36.989168882369995, 37.80113220214844, 37.95318269729614, 37.42720985412598, 37.53617882728577, 37.29115843772888, 37.16350841522217, 37.68268609046936, 36.710827350616455, 37.570857524871826, 37.195608139038086, 36.82213282585144, 37.45547318458557, 36.73111653327942, 36.822033405303955, 37.108012676239014, 36.42521095275879, 36.95581102371216, 36.801074504852295, 36.942456007003784, 36.79509615898132, 36.19724726676941, 37.216246128082275, 37.358641624450684, 36.473254919052124, 36.9411084651947, 37.00949478149414, 37.2757682800293, 37.55124020576477, 36.59273886680603, 37.13082790374756, 36.652873039245605, 36.606385231018066, 36.71904277801514, 36.54897689819336, 37.258946657180786, 36.89260959625244, 36.597151041030884, 36.905970335006714, 37.101624965667725, 37.077653646469116, 36.912052392959595, 36.644269943237305, 37.188517332077026, 36.76954388618469, 37.76156044006348, 36.784847021102905, 36.707489013671875, 37.221243381500244, 37.50988841056824, 36.95392656326294, 37.24783134460449, 37.051878452301025, 37.01183772087097, 36.772701025009155, 36.985177516937256, 37.21133852005005]\n",
            "313/313 [==============================] - 4s 14ms/step - loss: 1.8527 - accuracy: 0.6339\n",
            "Test loss: 1.8526605367660522\n",
            "Test accuracy: 0.633899986743927\n",
            "tt /home/jupyter/saved_models/resnet_super_forty_44_V100\n",
            "WARNING:tensorflow:Compiled the loaded model, but the compiled metrics have yet to be built. `model.compile_metrics` will be empty until you train or evaluate the model.\n"
          ]
        },
        {
          "name": "stderr",
          "output_type": "stream",
          "text": [
            "WARNING:tensorflow:Compiled the loaded model, but the compiled metrics have yet to be built. `model.compile_metrics` will be empty until you train or evaluate the model.\n"
          ]
        },
        {
          "name": "stdout",
          "output_type": "stream",
          "text": [
            "Saved pruned Keras model to: /home/jupyter/saved_models/PRUNE_resnet_super_forty_44_V100.h5\n"
          ]
        },
        {
          "name": "stderr",
          "output_type": "stream",
          "text": [
            "WARNING:absl:Found untraced functions such as conv2d_87_layer_call_fn, conv2d_87_layer_call_and_return_conditional_losses, _jit_compiled_convolution_op, activation_81_layer_call_fn, activation_81_layer_call_and_return_conditional_losses while saving (showing 5 of 267). These functions will not be directly callable after loading.\n"
          ]
        },
        {
          "name": "stdout",
          "output_type": "stream",
          "text": [
            "INFO:tensorflow:Assets written to: /tmp/tmpn_oo55pe/assets\n"
          ]
        },
        {
          "name": "stderr",
          "output_type": "stream",
          "text": [
            "INFO:tensorflow:Assets written to: /tmp/tmpn_oo55pe/assets\n",
            "2022-12-17 11:41:03.509292: W tensorflow/compiler/mlir/lite/python/tf_tfl_flatbuffer_helpers.cc:362] Ignored output_format.\n",
            "2022-12-17 11:41:03.509373: W tensorflow/compiler/mlir/lite/python/tf_tfl_flatbuffer_helpers.cc:365] Ignored drop_control_dependency.\n",
            "2022-12-17 11:41:03.509558: I tensorflow/cc/saved_model/reader.cc:45] Reading SavedModel from: /tmp/tmpn_oo55pe\n",
            "2022-12-17 11:41:03.667068: I tensorflow/cc/saved_model/reader.cc:89] Reading meta graph with tags { serve }\n",
            "2022-12-17 11:41:03.667136: I tensorflow/cc/saved_model/reader.cc:130] Reading SavedModel debug info (if present) from: /tmp/tmpn_oo55pe\n",
            "2022-12-17 11:41:04.389877: I tensorflow/cc/saved_model/loader.cc:229] Restoring SavedModel bundle.\n",
            "2022-12-17 11:41:06.657484: I tensorflow/cc/saved_model/loader.cc:213] Running initialization op on SavedModel bundle at path: /tmp/tmpn_oo55pe\n",
            "2022-12-17 11:41:07.436216: I tensorflow/cc/saved_model/loader.cc:305] SavedModel load for tags { serve }; Status: success: OK. Took 3926657 microseconds.\n"
          ]
        },
        {
          "name": "stdout",
          "output_type": "stream",
          "text": [
            "Saved pruned TFLite model to: /home/jupyter/saved_models/lite_PRUNE_resnet_super_forty_44_V100.h5\n"
          ]
        },
        {
          "name": "stderr",
          "output_type": "stream",
          "text": [
            "WARNING:absl:Found untraced functions such as conv2d_87_layer_call_fn, conv2d_87_layer_call_and_return_conditional_losses, _jit_compiled_convolution_op, activation_81_layer_call_fn, activation_81_layer_call_and_return_conditional_losses while saving (showing 5 of 267). These functions will not be directly callable after loading.\n"
          ]
        },
        {
          "name": "stdout",
          "output_type": "stream",
          "text": [
            "INFO:tensorflow:Assets written to: /tmp/tmp1ha3m_af/assets\n"
          ]
        },
        {
          "name": "stderr",
          "output_type": "stream",
          "text": [
            "INFO:tensorflow:Assets written to: /tmp/tmp1ha3m_af/assets\n",
            "2022-12-17 11:43:46.333102: W tensorflow/compiler/mlir/lite/python/tf_tfl_flatbuffer_helpers.cc:362] Ignored output_format.\n",
            "2022-12-17 11:43:46.333176: W tensorflow/compiler/mlir/lite/python/tf_tfl_flatbuffer_helpers.cc:365] Ignored drop_control_dependency.\n",
            "2022-12-17 11:43:46.333465: I tensorflow/cc/saved_model/reader.cc:45] Reading SavedModel from: /tmp/tmp1ha3m_af\n",
            "2022-12-17 11:43:46.492155: I tensorflow/cc/saved_model/reader.cc:89] Reading meta graph with tags { serve }\n",
            "2022-12-17 11:43:46.492237: I tensorflow/cc/saved_model/reader.cc:130] Reading SavedModel debug info (if present) from: /tmp/tmp1ha3m_af\n",
            "2022-12-17 11:43:47.225298: I tensorflow/cc/saved_model/loader.cc:229] Restoring SavedModel bundle.\n",
            "2022-12-17 11:43:49.510615: I tensorflow/cc/saved_model/loader.cc:213] Running initialization op on SavedModel bundle at path: /tmp/tmp1ha3m_af\n",
            "2022-12-17 11:43:50.302164: I tensorflow/cc/saved_model/loader.cc:305] SavedModel load for tags { serve }; Status: success: OK. Took 3968699 microseconds.\n"
          ]
        },
        {
          "name": "stdout",
          "output_type": "stream",
          "text": [
            "Saved pruned TFLite model to: /home/jupyter/saved_models/lite_quant_PRUNE_resnet_super_forty_44_V100.h5\n",
            "Size of gzipped pruned Keras model: 1367218.00 bytes\n",
            "Size of gzipped pruned TFlite model: 1505746.00 bytes\n",
            "Size of gzipped pruned and quantized TFlite model: 1505770.00 bytes\n"
          ]
        }
      ],
      "source": [
        "layers = [3, 7]\n",
        "names = [\"twenty\", \"forty\"]\n",
        "for x in range(2):\n",
        "    name=\"resnet_super_\"+names[x]\n",
        "    model1 = resnet_training(X_train,Y_train,X_test, Y_test,layers=layers[x],frequency=100,\\\n",
        "                    initial_sparsity = 0.5, final_sparsity=0.6,gpu=\"V100\",\\\n",
        "                    const=False, poly=True,file_name=name,\\\n",
        "                    num_classes=100,begin_step=0,end_step='default')"
      ]
    },
    {
      "cell_type": "code",
      "execution_count": null,
      "metadata": {
        "id": "yC-PpggqHfTm"
      },
      "outputs": [],
      "source": []
    }
  ],
  "metadata": {
    "colab": {
      "provenance": []
    },
    "kernelspec": {
      "display_name": "TensorFlow 2 (Local)",
      "language": "python",
      "name": "local-tf2"
    },
    "language_info": {
      "codemirror_mode": {
        "name": "ipython",
        "version": 3
      },
      "file_extension": ".py",
      "mimetype": "text/x-python",
      "name": "python",
      "nbconvert_exporter": "python",
      "pygments_lexer": "ipython3",
      "version": "3.7.12"
    }
  },
  "nbformat": 4,
  "nbformat_minor": 0
}